{
 "cells": [
  {
   "cell_type": "markdown",
   "metadata": {},
   "source": [
    "# Package loading"
   ]
  },
  {
   "cell_type": "code",
   "execution_count": 1,
   "metadata": {},
   "outputs": [],
   "source": [
    "import numpy as np\n",
    "import pandas as pd\n",
    "import os\n",
    "import shapely\n",
    "from shapely.geometry.point import Point\n",
    "from shapely.geometry import Polygon, LineString, Point\n",
    "import dxfgrabber as dxfgb\n",
    "import matplotlib.pyplot as plt\n",
    "import math\n",
    "import importlib"
   ]
  },
  {
   "cell_type": "code",
   "execution_count": 2,
   "metadata": {},
   "outputs": [],
   "source": [
    "from dxfreader import DxfParser"
   ]
  },
  {
   "cell_type": "markdown",
   "metadata": {},
   "source": [
    "# Sub features"
   ]
  },
  {
   "cell_type": "code",
   "execution_count": 3,
   "metadata": {},
   "outputs": [],
   "source": [
    "def plot_dxf(dxfdetails):\n",
    "    fig = plt.figure(figsize=(15,15))\n",
    "    ax = fig.add_subplot(111)\n",
    "    for closedsection in dxfdetails['closed_patterns']:\n",
    "        poly = Polygon(closedsection)\n",
    "        x, y = poly.exterior.xy\n",
    "        plt.plot(x, y, color='g', alpha=0.5)\n",
    "    \n",
    "    for opensection in dxfdetails['open_patterns']:\n",
    "        lines = LineString(opensection)\n",
    "        x, y = lines.xy\n",
    "        plt.plot(x, y, color='y', alpha=1)\n",
    "    \n",
    "    for bendlines, tangents in zip(dxfdetails['bend_line'], dxfdetails['tangents_coords']):\n",
    "        lines = LineString(bendlines)\n",
    "        color = (np.random.rand(),np.random.rand(),np.random.rand())\n",
    "        x, y = lines.xy\n",
    "        plt.plot(x, y, color=color)\n",
    "        for tangent in tangents:\n",
    "            lines = LineString(tangent)\n",
    "            x, y = lines.xy\n",
    "            plt.plot(x, y, color=color)\n",
    "    \n",
    "    centeraxis = dxfdetails['bend_center']\n",
    "    for center, angle, direction, radius in zip(centeraxis,\n",
    "                                               dxfdetails['bend_angle'],\n",
    "                                               dxfdetails['bend_direction'],\n",
    "                                               dxfdetails['bend_radius']):\n",
    "        ax.text(center[0], center[1], '{} - {} - {}'.format(angle, direction, radius), color='c')\n",
    "        \n",
    "    \n",
    "    poly = Polygon(dxfdetails['minimum_rectangle_coords'])\n",
    "    x, y = poly.exterior.xy\n",
    "    plt.plot(x, y, color='r')\n",
    "    \n",
    "    poly = Polygon(dxfdetails['convex_hull_coords'])\n",
    "    x, y = poly.exterior.xy\n",
    "    plt.plot(x, y, color='b')\n",
    "    \n",
    "    ax.set_aspect('equal')\n",
    "    #ax.set_xlim([280,290])\n",
    "    #ax.set_ylim([-90,-80])\n",
    "    plt.show()\n",
    "    fig.savefig('imgdata.png', format='png', dpi=90, bbox_inches='tight')\n",
    "    \n",
    "#plot_dxf(details)"
   ]
  },
  {
   "cell_type": "markdown",
   "metadata": {},
   "source": [
    "# Package documentation"
   ]
  },
  {
   "cell_type": "markdown",
   "metadata": {},
   "source": [
    "http://dxfgrabber.readthedocs.io/en/latest/  \n",
    "https://shapely.readthedocs.io/en/latest/"
   ]
  },
  {
   "cell_type": "markdown",
   "metadata": {},
   "source": [
    "# DXF loading"
   ]
  },
  {
   "cell_type": "code",
   "execution_count": 4,
   "metadata": {},
   "outputs": [],
   "source": [
    "#List of all the dixs in the folder\n",
    "dxffolder = '../Y2 - Sample DXF'\n",
    "dxflist = [os.path.join(dxffolder, file) for file in os.listdir(dxffolder) if file.endswith('.dxf')]\n",
    "for index, path in enumerate(dxflist):\n",
    "    #print('{:02d} --> '.format(index), path.split('/')[-1])\n",
    "    pass"
   ]
  },
  {
   "cell_type": "code",
   "execution_count": 5,
   "metadata": {
    "scrolled": false
   },
   "outputs": [
    {
     "name": "stdout",
     "output_type": "stream",
     "text": [
      "../Y2 - Sample DXF/l7080410_flat1.dxf\n",
      "AC1015\n",
      "5\n",
      "5\n",
      "5\n",
      "5\n",
      "5\n",
      "5\n",
      "5\n",
      "5\n",
      "5\n",
      "5\n"
     ]
    }
   ],
   "source": [
    "dxf = dxfgb.readfile(dxflist[37])\n",
    "print(dxflist[37])\n",
    "print(dxf.dxfversion)\n",
    "validentities = ['LINE', 'ARC', 'ELLIPSE', 'CIRCLE', 'SPLINE',]\n",
    "#for element in [element for element in dxf.modelspace()]: #   if element.dxftype == 'MTEXT'\n",
    "for element in [element for element in dxf.modelspace() if element.dxftype == 'TEXT']: #\n",
    "#for element in [element for element in dxf.modelspace() if element.linetype == 'CONTINUOUS']: #\n",
    "#for element in [element for element in dxf.modelspace() if element.linetype == 'PHANTOM']:\n",
    "    #print(np.round(x.start,3))\n",
    "    print(element.color)\n",
    "    #print(element.dxftype)\n",
    "#    try:\n",
    "        #print(element.text)\n",
    "#        print(element.text, '-',  element.insert, element.align_point, element.halign)\n",
    "#    except:\n",
    "#        pass\n",
    "    try:\n",
    "        pass\n",
    "        #print(element.start)\n",
    "       # print(element.end)\n",
    "    except:\n",
    "        pass\n",
    "#    try:\n",
    "#        print(element.plain_text(split=False))\n",
    "        #for line in element.plain_text(split=False).split('\\n'):\n",
    "        #    print(line.split(':'))\n",
    "        #    print()\n",
    "        #print(element.lines())\n",
    "        #print(element.insert)\n",
    "#    except:\n",
    "#        pass\n",
    "    #print(element.linetype)\n",
    "    #\n",
    "    #print(element.insert)\n",
    "    #print(element.center, element.major_axis, element.ratio, element.start_param, element.end_param)\n",
    "    #print(np.round(element.control_points, 3)[:,0:2])\n",
    "    #print()"
   ]
  },
  {
   "cell_type": "markdown",
   "metadata": {},
   "source": [
    "# DXF reading module"
   ]
  },
  {
   "cell_type": "code",
   "execution_count": 6,
   "metadata": {},
   "outputs": [
    {
     "ename": "NameError",
     "evalue": "name 'dxfreader' is not defined",
     "output_type": "error",
     "traceback": [
      "\u001b[0;31m---------------------------------------------------------------------------\u001b[0m",
      "\u001b[0;31mNameError\u001b[0m                                 Traceback (most recent call last)",
      "\u001b[0;32m<ipython-input-6-42ace241b767>\u001b[0m in \u001b[0;36m<module>\u001b[0;34m()\u001b[0m\n\u001b[0;32m----> 1\u001b[0;31m \u001b[0mimportlib\u001b[0m\u001b[0;34m.\u001b[0m\u001b[0mreload\u001b[0m\u001b[0;34m(\u001b[0m\u001b[0mdxfreader\u001b[0m\u001b[0;34m)\u001b[0m\u001b[0;34m\u001b[0m\u001b[0m\n\u001b[0m\u001b[1;32m      2\u001b[0m \u001b[0;34m\u001b[0m\u001b[0m\n\u001b[1;32m      3\u001b[0m \u001b[0mfileid\u001b[0m \u001b[0;34m=\u001b[0m \u001b[0;36m34\u001b[0m\u001b[0;34m\u001b[0m\u001b[0m\n\u001b[1;32m      4\u001b[0m \u001b[0;34m\u001b[0m\u001b[0m\n\u001b[1;32m      5\u001b[0m dxfparser = dxfreader.DxfParser(min_edge_length=2,\n",
      "\u001b[0;31mNameError\u001b[0m: name 'dxfreader' is not defined"
     ]
    }
   ],
   "source": [
    "importlib.reload(dxfreader)\n",
    "\n",
    "fileid = 34\n",
    "\n",
    "dxfparser = dxfreader.DxfParser(min_edge_length=2,\n",
    "                                roundigexp=3,\n",
    "                                max_distance_correction=1.5)\n",
    "print(dxflist[fileid])\n",
    "details = dxfparser.parse(dxflist[fileid])\n",
    "details.keys()\n",
    "#details['closed_patterns']\n",
    "#details['total_surface']"
   ]
  },
  {
   "cell_type": "code",
   "execution_count": null,
   "metadata": {},
   "outputs": [],
   "source": [
    "details['possible_imperfection']"
   ]
  },
  {
   "cell_type": "markdown",
   "metadata": {},
   "source": [
    "# Plot a DXF"
   ]
  },
  {
   "cell_type": "code",
   "execution_count": null,
   "metadata": {
    "scrolled": false
   },
   "outputs": [],
   "source": [
    "plot_dxf(details)"
   ]
  },
  {
   "cell_type": "code",
   "execution_count": null,
   "metadata": {
    "scrolled": false
   },
   "outputs": [],
   "source": [
    "importlib.reload(dxfreader)\n",
    "\n",
    "#List of all the dixs in the folder\n",
    "dxffolder = '../Y2 - Sample DXF'\n",
    "dxflist = [os.path.join(dxffolder, file) for file in os.listdir(dxffolder) if file.endswith('.dxf')]\n",
    "\n",
    "columns = ['cut_length', 'num_closed_patterns', 'num_open_patterns', 'total_area', 'minimum_rectangle_area', 'minimum_rectangle_dim1', 'minimum_rectangle_dim2',\n",
    "           'convex_hull_area', 'no_hole_area', 'thickness', 'unit', 'material', 'radius', 'bend_radius',\n",
    "           'bend_angle', 'bend_direction', 'deformation_length', 'possible_imperfection', 'bend_bend_distance',\n",
    "           'bend_bend_angle', 'merged_bend', 'punch_length',\n",
    "           'bend_edge_distance', 'bend_edge_angle', 'bend_edge_length']\n",
    "\n",
    "errors=[]\n",
    "dataset = pd.DataFrame(columns = columns)\n",
    "dxfparser = dxfreader.DxfParser(min_edge_length=2,\n",
    "                                roundigexp=3,\n",
    "                                max_distance_correction=1.5)\n",
    "for index, dxffile in enumerate(dxflist[:]):\n",
    "    name = dxffile.split('/')[-1]\n",
    "    name = name.split('.')[0]\n",
    "\n",
    "\n",
    "    try:\n",
    "        print('OK - ', index, ' - ', name)\n",
    "        details = dxfparser.parse(dxffile)\n",
    "        plot_dxf(details)\n",
    "    except:\n",
    "        #print('NOK - ', index, ' - ', name)\n",
    "        details = {}\n",
    "        errors.append((index, name))\n",
    "    #dataset.loc[name] = [details.get(x, np.nan) for x in dataset.columns]\n",
    "#dataset.to_csv('../B1 - Reports/Z1 - dataset.csv')\n",
    "#dataset#.reset_index()\n",
    "print('Total number of errors', len(errors))\n",
    "print(errors)"
   ]
  },
  {
   "cell_type": "code",
   "execution_count": null,
   "metadata": {},
   "outputs": [],
   "source": [
    "mask = dataset['num_closed_patterns'].isna()\n",
    "print('DXF errors remaining :', dataset[mask].shape[0])"
   ]
  },
  {
   "cell_type": "code",
   "execution_count": null,
   "metadata": {},
   "outputs": [],
   "source": [
    "dataset['thickness']"
   ]
  },
  {
   "cell_type": "markdown",
   "metadata": {},
   "source": [
    "To add in the dataset:\n",
    "- DONE + rectangle area\n",
    "- DONE + rectangle dimension (height and width)\n",
    "- DONE + Main area (no holes)\n",
    "- DONE + convex hull area (no holes)\n",
    "- DONE + Add the forgivness parameter\n",
    "- bends:\n",
    "    - DONE + Radius\n",
    "    - DONE + Placement relative to outside edges (Min length, number, distance)\n",
    "    - DONE + placement relative to other bends (Distance, Angle)\n",
    "    - NOT NEEDED + Extend version of the bend lines\n",
    "    - DONE + Punch length\n",
    "    - DONE + Angle\n",
    "    - DONE + Direction\n",
    "    - DONE + Length of deformation\n",
    "- DONE + Number of open loops\n",
    "- DONE + Number of closed loops\n",
    "- DONE + Cut Length\n",
    "- DONE + Thickness\n",
    "- DONE + Material grade"
   ]
  }
 ],
 "metadata": {
  "kernelspec": {
   "display_name": "Python 3",
   "language": "python",
   "name": "python3"
  },
  "language_info": {
   "codemirror_mode": {
    "name": "ipython",
    "version": 3
   },
   "file_extension": ".py",
   "mimetype": "text/x-python",
   "name": "python",
   "nbconvert_exporter": "python",
   "pygments_lexer": "ipython3",
   "version": "3.6.4"
  }
 },
 "nbformat": 4,
 "nbformat_minor": 2
}
