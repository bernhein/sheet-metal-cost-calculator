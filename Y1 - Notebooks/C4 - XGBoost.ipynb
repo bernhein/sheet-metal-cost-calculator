{
 "cells": [
  {
   "cell_type": "code",
   "execution_count": 1,
   "metadata": {},
   "outputs": [],
   "source": [
    "import numpy as np\n",
    "import pandas as pd\n",
    "import matplotlib.pyplot as plt\n",
    "import seaborn as sns"
   ]
  },
  {
   "cell_type": "markdown",
   "metadata": {},
   "source": [
    "# Some references\n",
    "https://machinelearningmastery.com/xgboost-python-mini-course/  \n",
    "https://www.kaggle.com/eikedehling/tune-and-compare-xgb-lightgbm-rf-with-hyperopt"
   ]
  },
  {
   "cell_type": "markdown",
   "metadata": {},
   "source": [
    "# Dataset loading"
   ]
  },
  {
   "cell_type": "code",
   "execution_count": 2,
   "metadata": {},
   "outputs": [
    {
     "name": "stdout",
     "output_type": "stream",
     "text": [
      "dataset shape: (5401, 795)\n"
     ]
    },
    {
     "data": {
      "text/html": [
       "<div>\n",
       "<style scoped>\n",
       "    .dataframe tbody tr th:only-of-type {\n",
       "        vertical-align: middle;\n",
       "    }\n",
       "\n",
       "    .dataframe tbody tr th {\n",
       "        vertical-align: top;\n",
       "    }\n",
       "\n",
       "    .dataframe thead th {\n",
       "        text-align: right;\n",
       "    }\n",
       "</style>\n",
       "<table border=\"1\" class=\"dataframe\">\n",
       "  <thead>\n",
       "    <tr style=\"text-align: right;\">\n",
       "      <th></th>\n",
       "      <th>cut_length</th>\n",
       "      <th>num_closed_patterns</th>\n",
       "      <th>num_open_patterns</th>\n",
       "      <th>total_area</th>\n",
       "      <th>minimum_rectangle_area</th>\n",
       "      <th>minimum_rectangle_dim1</th>\n",
       "      <th>minimum_rectangle_dim2</th>\n",
       "      <th>convex_hull_area</th>\n",
       "      <th>no_hole_area</th>\n",
       "      <th>thickness</th>\n",
       "      <th>...</th>\n",
       "      <th>bendlength_bend_edge_length_std_09</th>\n",
       "      <th>bendlength_bend_edge_length_min_09</th>\n",
       "      <th>bendlength_bend_edge_length_max_09</th>\n",
       "      <th>VAMAT</th>\n",
       "      <th>VALAJOUT</th>\n",
       "      <th>VALTOT</th>\n",
       "      <th>VOL_COST_CONVHULL</th>\n",
       "      <th>VOL_COST_RECTANGLE</th>\n",
       "      <th>VOL_COST_MPATTERN</th>\n",
       "      <th>bend_group</th>\n",
       "    </tr>\n",
       "    <tr>\n",
       "      <th>COART</th>\n",
       "      <th></th>\n",
       "      <th></th>\n",
       "      <th></th>\n",
       "      <th></th>\n",
       "      <th></th>\n",
       "      <th></th>\n",
       "      <th></th>\n",
       "      <th></th>\n",
       "      <th></th>\n",
       "      <th></th>\n",
       "      <th></th>\n",
       "      <th></th>\n",
       "      <th></th>\n",
       "      <th></th>\n",
       "      <th></th>\n",
       "      <th></th>\n",
       "      <th></th>\n",
       "      <th></th>\n",
       "      <th></th>\n",
       "      <th></th>\n",
       "      <th></th>\n",
       "    </tr>\n",
       "  </thead>\n",
       "  <tbody>\n",
       "    <tr>\n",
       "      <th>L1600360</th>\n",
       "      <td>3178.489502</td>\n",
       "      <td>9</td>\n",
       "      <td>0</td>\n",
       "      <td>285678.093750</td>\n",
       "      <td>431798.46875</td>\n",
       "      <td>722.070984</td>\n",
       "      <td>598.000000</td>\n",
       "      <td>320484.593750</td>\n",
       "      <td>286893.718750</td>\n",
       "      <td>4.0</td>\n",
       "      <td>...</td>\n",
       "      <td>0.0</td>\n",
       "      <td>0.0</td>\n",
       "      <td>0.0</td>\n",
       "      <td>12.51</td>\n",
       "      <td>5.15</td>\n",
       "      <td>17.66</td>\n",
       "      <td>0.000010</td>\n",
       "      <td>0.000007</td>\n",
       "      <td>0.000011</td>\n",
       "      <td>3-5</td>\n",
       "    </tr>\n",
       "    <tr>\n",
       "      <th>L1600470</th>\n",
       "      <td>317.114502</td>\n",
       "      <td>1</td>\n",
       "      <td>0</td>\n",
       "      <td>3403.138184</td>\n",
       "      <td>3500.00000</td>\n",
       "      <td>140.000000</td>\n",
       "      <td>25.000000</td>\n",
       "      <td>3403.138184</td>\n",
       "      <td>3403.138184</td>\n",
       "      <td>10.0</td>\n",
       "      <td>...</td>\n",
       "      <td>0.0</td>\n",
       "      <td>0.0</td>\n",
       "      <td>0.0</td>\n",
       "      <td>0.25</td>\n",
       "      <td>0.92</td>\n",
       "      <td>1.17</td>\n",
       "      <td>0.000007</td>\n",
       "      <td>0.000007</td>\n",
       "      <td>0.000007</td>\n",
       "      <td>0</td>\n",
       "    </tr>\n",
       "    <tr>\n",
       "      <th>L1600600</th>\n",
       "      <td>3710.627930</td>\n",
       "      <td>1</td>\n",
       "      <td>0</td>\n",
       "      <td>522587.812500</td>\n",
       "      <td>522587.81250</td>\n",
       "      <td>1509.000000</td>\n",
       "      <td>346.313995</td>\n",
       "      <td>522587.812500</td>\n",
       "      <td>522587.812500</td>\n",
       "      <td>3.0</td>\n",
       "      <td>...</td>\n",
       "      <td>0.0</td>\n",
       "      <td>0.0</td>\n",
       "      <td>0.0</td>\n",
       "      <td>18.36</td>\n",
       "      <td>7.55</td>\n",
       "      <td>25.91</td>\n",
       "      <td>0.000012</td>\n",
       "      <td>0.000012</td>\n",
       "      <td>0.000012</td>\n",
       "      <td>1-2</td>\n",
       "    </tr>\n",
       "    <tr>\n",
       "      <th>L1600610</th>\n",
       "      <td>3232.627930</td>\n",
       "      <td>1</td>\n",
       "      <td>0</td>\n",
       "      <td>439818.781250</td>\n",
       "      <td>439818.78125</td>\n",
       "      <td>1270.000000</td>\n",
       "      <td>346.313995</td>\n",
       "      <td>439818.781250</td>\n",
       "      <td>439818.781250</td>\n",
       "      <td>3.0</td>\n",
       "      <td>...</td>\n",
       "      <td>0.0</td>\n",
       "      <td>0.0</td>\n",
       "      <td>0.0</td>\n",
       "      <td>9.18</td>\n",
       "      <td>4.77</td>\n",
       "      <td>13.95</td>\n",
       "      <td>0.000007</td>\n",
       "      <td>0.000007</td>\n",
       "      <td>0.000007</td>\n",
       "      <td>1-2</td>\n",
       "    </tr>\n",
       "    <tr>\n",
       "      <th>L1600620</th>\n",
       "      <td>2972.627930</td>\n",
       "      <td>1</td>\n",
       "      <td>0</td>\n",
       "      <td>394797.968750</td>\n",
       "      <td>394797.96875</td>\n",
       "      <td>1140.000000</td>\n",
       "      <td>346.313995</td>\n",
       "      <td>394797.968750</td>\n",
       "      <td>394797.968750</td>\n",
       "      <td>3.0</td>\n",
       "      <td>...</td>\n",
       "      <td>0.0</td>\n",
       "      <td>0.0</td>\n",
       "      <td>0.0</td>\n",
       "      <td>9.18</td>\n",
       "      <td>4.65</td>\n",
       "      <td>13.83</td>\n",
       "      <td>0.000008</td>\n",
       "      <td>0.000008</td>\n",
       "      <td>0.000008</td>\n",
       "      <td>1-2</td>\n",
       "    </tr>\n",
       "  </tbody>\n",
       "</table>\n",
       "<p>5 rows × 795 columns</p>\n",
       "</div>"
      ],
      "text/plain": [
       "           cut_length  num_closed_patterns  num_open_patterns     total_area  \\\n",
       "COART                                                                          \n",
       "L1600360  3178.489502                    9                  0  285678.093750   \n",
       "L1600470   317.114502                    1                  0    3403.138184   \n",
       "L1600600  3710.627930                    1                  0  522587.812500   \n",
       "L1600610  3232.627930                    1                  0  439818.781250   \n",
       "L1600620  2972.627930                    1                  0  394797.968750   \n",
       "\n",
       "          minimum_rectangle_area  minimum_rectangle_dim1  \\\n",
       "COART                                                      \n",
       "L1600360            431798.46875              722.070984   \n",
       "L1600470              3500.00000              140.000000   \n",
       "L1600600            522587.81250             1509.000000   \n",
       "L1600610            439818.78125             1270.000000   \n",
       "L1600620            394797.96875             1140.000000   \n",
       "\n",
       "          minimum_rectangle_dim2  convex_hull_area   no_hole_area  thickness  \\\n",
       "COART                                                                          \n",
       "L1600360              598.000000     320484.593750  286893.718750        4.0   \n",
       "L1600470               25.000000       3403.138184    3403.138184       10.0   \n",
       "L1600600              346.313995     522587.812500  522587.812500        3.0   \n",
       "L1600610              346.313995     439818.781250  439818.781250        3.0   \n",
       "L1600620              346.313995     394797.968750  394797.968750        3.0   \n",
       "\n",
       "             ...      bendlength_bend_edge_length_std_09  \\\n",
       "COART        ...                                           \n",
       "L1600360     ...                                     0.0   \n",
       "L1600470     ...                                     0.0   \n",
       "L1600600     ...                                     0.0   \n",
       "L1600610     ...                                     0.0   \n",
       "L1600620     ...                                     0.0   \n",
       "\n",
       "          bendlength_bend_edge_length_min_09  \\\n",
       "COART                                          \n",
       "L1600360                                 0.0   \n",
       "L1600470                                 0.0   \n",
       "L1600600                                 0.0   \n",
       "L1600610                                 0.0   \n",
       "L1600620                                 0.0   \n",
       "\n",
       "          bendlength_bend_edge_length_max_09  VAMAT  VALAJOUT  VALTOT  \\\n",
       "COART                                                                   \n",
       "L1600360                                 0.0  12.51      5.15   17.66   \n",
       "L1600470                                 0.0   0.25      0.92    1.17   \n",
       "L1600600                                 0.0  18.36      7.55   25.91   \n",
       "L1600610                                 0.0   9.18      4.77   13.95   \n",
       "L1600620                                 0.0   9.18      4.65   13.83   \n",
       "\n",
       "          VOL_COST_CONVHULL  VOL_COST_RECTANGLE  VOL_COST_MPATTERN  bend_group  \n",
       "COART                                                                           \n",
       "L1600360           0.000010            0.000007           0.000011         3-5  \n",
       "L1600470           0.000007            0.000007           0.000007           0  \n",
       "L1600600           0.000012            0.000012           0.000012         1-2  \n",
       "L1600610           0.000007            0.000007           0.000007         1-2  \n",
       "L1600620           0.000008            0.000008           0.000008         1-2  \n",
       "\n",
       "[5 rows x 795 columns]"
      ]
     },
     "execution_count": 2,
     "metadata": {},
     "output_type": "execute_result"
    }
   ],
   "source": [
    "dataset = pd.read_csv('../Y3 - Sample data/Z2 - datasetprepclean.csv', index_col = 0,\n",
    "                     )\n",
    "print('dataset shape:', dataset.shape)\n",
    "dataset.head()"
   ]
  },
  {
   "cell_type": "code",
   "execution_count": 3,
   "metadata": {},
   "outputs": [],
   "source": [
    "#dataset.columns.values"
   ]
  },
  {
   "cell_type": "code",
   "execution_count": 4,
   "metadata": {},
   "outputs": [
    {
     "name": "stdout",
     "output_type": "stream",
     "text": [
      "benddxf_deformation_length_00 --> 262\n",
      "benddxf_deformation_length_01 --> 123\n",
      "benddxf_deformation_length_02 --> 19\n",
      "benddxf_deformation_length_03 --> 6\n",
      "benddxf_deformation_length_04 --> 1\n",
      "benddxf_deformation_length_05 --> 1\n",
      "temp --> 5326\n",
      "bendlength_deformation_length_00 --> 296\n",
      "bendlength_deformation_length_01 --> 112\n",
      "bendlength_deformation_length_02 --> 3\n",
      "bendlength_deformation_length_03 --> 1\n",
      "Done !\n"
     ]
    },
    {
     "data": {
      "text/plain": [
       "(5401, 795)"
      ]
     },
     "execution_count": 4,
     "metadata": {},
     "output_type": "execute_result"
    }
   ],
   "source": [
    "for index, nancount in dataset.isnull().sum().iteritems():\n",
    "    if nancount != 0:\n",
    "        print(index, '-->', nancount)\n",
    "else:\n",
    "    print('Done !')\n",
    "\n",
    "dataset.shape"
   ]
  },
  {
   "cell_type": "code",
   "execution_count": 5,
   "metadata": {},
   "outputs": [
    {
     "data": {
      "text/plain": [
       "(5105, 795)"
      ]
     },
     "execution_count": 5,
     "metadata": {},
     "output_type": "execute_result"
    }
   ],
   "source": [
    "#Cleaning of the remaining Nan\n",
    "\n",
    "subset = [x for x in dataset.columns.values if x.startswith('benddxf_')]\n",
    "\n",
    "#dataset = dataset.fillna(0)\n",
    "dataset = dataset.dropna(subset=subset)\n",
    "dataset.shape"
   ]
  },
  {
   "cell_type": "markdown",
   "metadata": {},
   "source": [
    "# cleaning to have at least min occurences"
   ]
  },
  {
   "cell_type": "code",
   "execution_count": 6,
   "metadata": {},
   "outputs": [
    {
     "name": "stdout",
     "output_type": "stream",
     "text": [
      "33\n",
      "1.5 will be dropped\n",
      "1\n",
      "2.5 will be dropped\n",
      "6\n",
      "20.0 will be dropped\n"
     ]
    },
    {
     "data": {
      "text/plain": [
       "(5065, 795)"
      ]
     },
     "execution_count": 6,
     "metadata": {},
     "output_type": "execute_result"
    }
   ],
   "source": [
    "minocc = 50\n",
    "todrop = []\n",
    "df = dataset['thickness'].reset_index().groupby('thickness').count()\n",
    "for index, occ in df.iterrows():\n",
    "    if occ.COART <= minocc:\n",
    "        print(occ.COART)\n",
    "        todrop.append(index)\n",
    "        print(index, 'will be dropped')\n",
    "\n",
    "for thickness in todrop:\n",
    "    dataset = dataset[dataset['thickness'] != thickness]\n",
    "\n",
    "dataset.shape"
   ]
  },
  {
   "cell_type": "markdown",
   "metadata": {},
   "source": [
    "# Target definition"
   ]
  },
  {
   "cell_type": "code",
   "execution_count": 7,
   "metadata": {},
   "outputs": [],
   "source": [
    "target = 'VALTOT'\n",
    "assert target in ['VAMAT', 'VALAJOUT', 'VALTOT'], 'The target must be in y dataset'"
   ]
  },
  {
   "cell_type": "markdown",
   "metadata": {},
   "source": [
    "# Is the target \"normal\" ?"
   ]
  },
  {
   "cell_type": "code",
   "execution_count": 8,
   "metadata": {},
   "outputs": [
    {
     "data": {
      "text/plain": [
       "4.11248507928211"
      ]
     },
     "execution_count": 8,
     "metadata": {},
     "output_type": "execute_result"
    }
   ],
   "source": [
    "from scipy.stats import skew\n",
    "skew(dataset[target]) #Nope !"
   ]
  },
  {
   "cell_type": "code",
   "execution_count": 9,
   "metadata": {},
   "outputs": [
    {
     "data": {
      "image/png": "[encoded data removed]",
      "text/plain": [
       "<Figure size 432x288 with 1 Axes>"
      ]
     },
     "metadata": {},
     "output_type": "display_data"
    }
   ],
   "source": [
    "dataset[target].plot.hist(bins=50)\n",
    "plt.show()"
   ]
  },
  {
   "cell_type": "code",
   "execution_count": null,
   "metadata": {},
   "outputs": [],
   "source": []
  },
  {
   "cell_type": "code",
   "execution_count": null,
   "metadata": {},
   "outputs": [],
   "source": []
  },
  {
   "cell_type": "markdown",
   "metadata": {},
   "source": [
    "# Outlier tracking - VAMAT"
   ]
  },
  {
   "cell_type": "code",
   "execution_count": 10,
   "metadata": {},
   "outputs": [],
   "source": [
    "toplimit = .95 #We drop the top 5%\n",
    "botlimit = .02 #we drop the bottom 2%"
   ]
  },
  {
   "cell_type": "code",
   "execution_count": 11,
   "metadata": {},
   "outputs": [],
   "source": [
    "#Surface cost calculation, quantile decomposition\n",
    "\n",
    "#dataset['SURF_COST_CONVHULL'] = dataset['VAMAT'] / dataset['convex_hull_area']\n",
    "#dataset['SURF_COST_RECTANGLE'] = dataset['VAMAT'] / dataset['minimum_rectangle_area']\n",
    "dataset['SURF_COST_MPATTERN'] = dataset['VAMAT'] / dataset['no_hole_area']\n",
    "#dataset['SURF_COST_TOTAREA'] = dataset['VAMAT'] / dataset['total_area']"
   ]
  },
  {
   "cell_type": "code",
   "execution_count": 12,
   "metadata": {},
   "outputs": [
    {
     "data": {
      "image/png": "[encoded data removed]",
      "text/plain": [
       "<Figure size 432x288 with 1 Axes>"
      ]
     },
     "metadata": {},
     "output_type": "display_data"
    }
   ],
   "source": [
    "df = dataset[dataset['thickness'] == 2]\n",
    "df['SURF_COST_MPATTERN'].plot.hist(bins=50)\n",
    "plt.show()"
   ]
  },
  {
   "cell_type": "code",
   "execution_count": 13,
   "metadata": {},
   "outputs": [
    {
     "data": {
      "text/html": [
       "<div>\n",
       "<style scoped>\n",
       "    .dataframe tbody tr th:only-of-type {\n",
       "        vertical-align: middle;\n",
       "    }\n",
       "\n",
       "    .dataframe tbody tr th {\n",
       "        vertical-align: top;\n",
       "    }\n",
       "\n",
       "    .dataframe thead th {\n",
       "        text-align: right;\n",
       "    }\n",
       "</style>\n",
       "<table border=\"1\" class=\"dataframe\">\n",
       "  <thead>\n",
       "    <tr style=\"text-align: right;\">\n",
       "      <th></th>\n",
       "      <th></th>\n",
       "      <th>SURF_COST_MPATTERN</th>\n",
       "    </tr>\n",
       "    <tr>\n",
       "      <th>thickness</th>\n",
       "      <th></th>\n",
       "      <th></th>\n",
       "    </tr>\n",
       "  </thead>\n",
       "  <tbody>\n",
       "    <tr>\n",
       "      <th rowspan=\"2\" valign=\"top\">2.0</th>\n",
       "      <th>0.02</th>\n",
       "      <td>0.000013</td>\n",
       "    </tr>\n",
       "    <tr>\n",
       "      <th>0.95</th>\n",
       "      <td>0.000045</td>\n",
       "    </tr>\n",
       "    <tr>\n",
       "      <th rowspan=\"2\" valign=\"top\">3.0</th>\n",
       "      <th>0.02</th>\n",
       "      <td>0.000018</td>\n",
       "    </tr>\n",
       "    <tr>\n",
       "      <th>0.95</th>\n",
       "      <td>0.000060</td>\n",
       "    </tr>\n",
       "    <tr>\n",
       "      <th rowspan=\"2\" valign=\"top\">4.0</th>\n",
       "      <th>0.02</th>\n",
       "      <td>0.000023</td>\n",
       "    </tr>\n",
       "    <tr>\n",
       "      <th>0.95</th>\n",
       "      <td>0.000089</td>\n",
       "    </tr>\n",
       "    <tr>\n",
       "      <th rowspan=\"2\" valign=\"top\">5.0</th>\n",
       "      <th>0.02</th>\n",
       "      <td>0.000028</td>\n",
       "    </tr>\n",
       "    <tr>\n",
       "      <th>0.95</th>\n",
       "      <td>0.000091</td>\n",
       "    </tr>\n",
       "    <tr>\n",
       "      <th rowspan=\"2\" valign=\"top\">6.0</th>\n",
       "      <th>0.02</th>\n",
       "      <td>0.000033</td>\n",
       "    </tr>\n",
       "    <tr>\n",
       "      <th>0.95</th>\n",
       "      <td>0.000134</td>\n",
       "    </tr>\n",
       "    <tr>\n",
       "      <th rowspan=\"2\" valign=\"top\">8.0</th>\n",
       "      <th>0.02</th>\n",
       "      <td>0.000044</td>\n",
       "    </tr>\n",
       "    <tr>\n",
       "      <th>0.95</th>\n",
       "      <td>0.000182</td>\n",
       "    </tr>\n",
       "    <tr>\n",
       "      <th rowspan=\"2\" valign=\"top\">10.0</th>\n",
       "      <th>0.02</th>\n",
       "      <td>0.000063</td>\n",
       "    </tr>\n",
       "    <tr>\n",
       "      <th>0.95</th>\n",
       "      <td>0.000248</td>\n",
       "    </tr>\n",
       "    <tr>\n",
       "      <th rowspan=\"2\" valign=\"top\">12.0</th>\n",
       "      <th>0.02</th>\n",
       "      <td>0.000059</td>\n",
       "    </tr>\n",
       "    <tr>\n",
       "      <th>0.95</th>\n",
       "      <td>0.000247</td>\n",
       "    </tr>\n",
       "    <tr>\n",
       "      <th rowspan=\"2\" valign=\"top\">15.0</th>\n",
       "      <th>0.02</th>\n",
       "      <td>0.000085</td>\n",
       "    </tr>\n",
       "    <tr>\n",
       "      <th>0.95</th>\n",
       "      <td>0.000271</td>\n",
       "    </tr>\n",
       "  </tbody>\n",
       "</table>\n",
       "</div>"
      ],
      "text/plain": [
       "                SURF_COST_MPATTERN\n",
       "thickness                         \n",
       "2.0       0.02            0.000013\n",
       "          0.95            0.000045\n",
       "3.0       0.02            0.000018\n",
       "          0.95            0.000060\n",
       "4.0       0.02            0.000023\n",
       "          0.95            0.000089\n",
       "5.0       0.02            0.000028\n",
       "          0.95            0.000091\n",
       "6.0       0.02            0.000033\n",
       "          0.95            0.000134\n",
       "8.0       0.02            0.000044\n",
       "          0.95            0.000182\n",
       "10.0      0.02            0.000063\n",
       "          0.95            0.000248\n",
       "12.0      0.02            0.000059\n",
       "          0.95            0.000247\n",
       "15.0      0.02            0.000085\n",
       "          0.95            0.000271"
      ]
     },
     "execution_count": 13,
     "metadata": {},
     "output_type": "execute_result"
    }
   ],
   "source": [
    "#quantile decomposition\n",
    "df=dataset[['thickness', 'SURF_COST_MPATTERN']].groupby('thickness').quantile([botlimit,toplimit])\n",
    "df"
   ]
  },
  {
   "cell_type": "code",
   "execution_count": 14,
   "metadata": {},
   "outputs": [
    {
     "data": {
      "text/plain": [
       "(4704, 796)"
      ]
     },
     "execution_count": 14,
     "metadata": {},
     "output_type": "execute_result"
    }
   ],
   "source": [
    "# If vamat is target, cleaning\n",
    "if target == 'VAMAT' or target == 'VALTOT':\n",
    "    for (thickness, limit), value in df.iterrows():\n",
    "        tresh = value.values[0]\n",
    "        if limit == botlimit:\n",
    "            mask = np.logical_and(dataset['thickness'] == thickness, dataset[df.columns.values[0]] < tresh)\n",
    "            dataset = dataset[np.logical_not(mask)]\n",
    "        elif limit == toplimit:\n",
    "            mask = np.logical_and(dataset['thickness'] == thickness, dataset[df.columns.values[0]] > tresh)\n",
    "            dataset = dataset[np.logical_not(mask)]\n",
    "        #print((thickness, limit), tresh)\n",
    "\n",
    "dataset.shape"
   ]
  },
  {
   "cell_type": "code",
   "execution_count": 15,
   "metadata": {},
   "outputs": [
    {
     "data": {
      "image/png": "[encoded data removed]",
      "text/plain": [
       "<Figure size 432x288 with 1 Axes>"
      ]
     },
     "metadata": {},
     "output_type": "display_data"
    }
   ],
   "source": [
    "df = dataset[dataset['thickness'] == 2]\n",
    "df['SURF_COST_MPATTERN'].plot.hist(bins=50)\n",
    "plt.show()"
   ]
  },
  {
   "cell_type": "code",
   "execution_count": 16,
   "metadata": {},
   "outputs": [
    {
     "data": {
      "text/plain": [
       "3.8603967850964476"
      ]
     },
     "execution_count": 16,
     "metadata": {},
     "output_type": "execute_result"
    }
   ],
   "source": [
    "skew(dataset[target])"
   ]
  },
  {
   "cell_type": "markdown",
   "metadata": {},
   "source": [
    "# Outlier tracking - VALAJOUT"
   ]
  },
  {
   "cell_type": "code",
   "execution_count": 17,
   "metadata": {},
   "outputs": [],
   "source": [
    "toplimit = .95 #We drop the top 5%\n",
    "botlimit = .02 #we drop the bottom 2%"
   ]
  },
  {
   "cell_type": "code",
   "execution_count": 18,
   "metadata": {},
   "outputs": [],
   "source": [
    "#Cost per bend calculation\n",
    "\n",
    "dataset['APPROX_BEND_COST'] = dataset['VALAJOUT'] / (dataset['bend_count']+1)"
   ]
  },
  {
   "cell_type": "code",
   "execution_count": 19,
   "metadata": {},
   "outputs": [
    {
     "data": {
      "image/png": "[encoded data removed]",
      "text/plain": [
       "<Figure size 432x288 with 1 Axes>"
      ]
     },
     "metadata": {},
     "output_type": "display_data"
    }
   ],
   "source": [
    "df = dataset[dataset['thickness'] == 6]\n",
    "df['APPROX_BEND_COST'].plot.hist(bins=50)\n",
    "plt.show()"
   ]
  },
  {
   "cell_type": "code",
   "execution_count": 20,
   "metadata": {},
   "outputs": [
    {
     "data": {
      "text/html": [
       "<div>\n",
       "<style scoped>\n",
       "    .dataframe tbody tr th:only-of-type {\n",
       "        vertical-align: middle;\n",
       "    }\n",
       "\n",
       "    .dataframe tbody tr th {\n",
       "        vertical-align: top;\n",
       "    }\n",
       "\n",
       "    .dataframe thead th {\n",
       "        text-align: right;\n",
       "    }\n",
       "</style>\n",
       "<table border=\"1\" class=\"dataframe\">\n",
       "  <thead>\n",
       "    <tr style=\"text-align: right;\">\n",
       "      <th></th>\n",
       "      <th></th>\n",
       "      <th></th>\n",
       "      <th>APPROX_BEND_COST</th>\n",
       "    </tr>\n",
       "    <tr>\n",
       "      <th>thickness</th>\n",
       "      <th>bend_count</th>\n",
       "      <th></th>\n",
       "      <th></th>\n",
       "    </tr>\n",
       "  </thead>\n",
       "  <tbody>\n",
       "    <tr>\n",
       "      <th rowspan=\"22\" valign=\"top\">2.0</th>\n",
       "      <th rowspan=\"2\" valign=\"top\">0</th>\n",
       "      <th>0.02</th>\n",
       "      <td>0.704800</td>\n",
       "    </tr>\n",
       "    <tr>\n",
       "      <th>0.95</th>\n",
       "      <td>7.743000</td>\n",
       "    </tr>\n",
       "    <tr>\n",
       "      <th rowspan=\"2\" valign=\"top\">1</th>\n",
       "      <th>0.02</th>\n",
       "      <td>0.515800</td>\n",
       "    </tr>\n",
       "    <tr>\n",
       "      <th>0.95</th>\n",
       "      <td>2.330000</td>\n",
       "    </tr>\n",
       "    <tr>\n",
       "      <th rowspan=\"2\" valign=\"top\">2</th>\n",
       "      <th>0.02</th>\n",
       "      <td>0.245067</td>\n",
       "    </tr>\n",
       "    <tr>\n",
       "      <th>0.95</th>\n",
       "      <td>2.154667</td>\n",
       "    </tr>\n",
       "    <tr>\n",
       "      <th rowspan=\"2\" valign=\"top\">3</th>\n",
       "      <th>0.02</th>\n",
       "      <td>0.623350</td>\n",
       "    </tr>\n",
       "    <tr>\n",
       "      <th>0.95</th>\n",
       "      <td>1.954250</td>\n",
       "    </tr>\n",
       "    <tr>\n",
       "      <th rowspan=\"2\" valign=\"top\">4</th>\n",
       "      <th>0.02</th>\n",
       "      <td>0.573280</td>\n",
       "    </tr>\n",
       "    <tr>\n",
       "      <th>0.95</th>\n",
       "      <td>2.137800</td>\n",
       "    </tr>\n",
       "    <tr>\n",
       "      <th rowspan=\"2\" valign=\"top\">5</th>\n",
       "      <th>0.02</th>\n",
       "      <td>0.224867</td>\n",
       "    </tr>\n",
       "    <tr>\n",
       "      <th>0.95</th>\n",
       "      <td>2.048667</td>\n",
       "    </tr>\n",
       "    <tr>\n",
       "      <th rowspan=\"2\" valign=\"top\">6</th>\n",
       "      <th>0.02</th>\n",
       "      <td>0.703314</td>\n",
       "    </tr>\n",
       "    <tr>\n",
       "      <th>0.95</th>\n",
       "      <td>1.496000</td>\n",
       "    </tr>\n",
       "    <tr>\n",
       "      <th rowspan=\"2\" valign=\"top\">7</th>\n",
       "      <th>0.02</th>\n",
       "      <td>0.700500</td>\n",
       "    </tr>\n",
       "    <tr>\n",
       "      <th>0.95</th>\n",
       "      <td>1.551500</td>\n",
       "    </tr>\n",
       "    <tr>\n",
       "      <th rowspan=\"2\" valign=\"top\">8</th>\n",
       "      <th>0.02</th>\n",
       "      <td>0.782978</td>\n",
       "    </tr>\n",
       "    <tr>\n",
       "      <th>0.95</th>\n",
       "      <td>2.421111</td>\n",
       "    </tr>\n",
       "    <tr>\n",
       "      <th rowspan=\"2\" valign=\"top\">9</th>\n",
       "      <th>0.02</th>\n",
       "      <td>0.639000</td>\n",
       "    </tr>\n",
       "    <tr>\n",
       "      <th>0.95</th>\n",
       "      <td>0.639000</td>\n",
       "    </tr>\n",
       "    <tr>\n",
       "      <th rowspan=\"2\" valign=\"top\">14</th>\n",
       "      <th>0.02</th>\n",
       "      <td>0.502000</td>\n",
       "    </tr>\n",
       "    <tr>\n",
       "      <th>0.95</th>\n",
       "      <td>0.502000</td>\n",
       "    </tr>\n",
       "    <tr>\n",
       "      <th rowspan=\"8\" valign=\"top\">3.0</th>\n",
       "      <th rowspan=\"2\" valign=\"top\">0</th>\n",
       "      <th>0.02</th>\n",
       "      <td>0.218000</td>\n",
       "    </tr>\n",
       "    <tr>\n",
       "      <th>0.95</th>\n",
       "      <td>5.710000</td>\n",
       "    </tr>\n",
       "    <tr>\n",
       "      <th rowspan=\"2\" valign=\"top\">1</th>\n",
       "      <th>0.02</th>\n",
       "      <td>0.393500</td>\n",
       "    </tr>\n",
       "    <tr>\n",
       "      <th>0.95</th>\n",
       "      <td>1.483750</td>\n",
       "    </tr>\n",
       "    <tr>\n",
       "      <th rowspan=\"2\" valign=\"top\">2</th>\n",
       "      <th>0.02</th>\n",
       "      <td>0.405467</td>\n",
       "    </tr>\n",
       "    <tr>\n",
       "      <th>0.95</th>\n",
       "      <td>1.916500</td>\n",
       "    </tr>\n",
       "    <tr>\n",
       "      <th rowspan=\"2\" valign=\"top\">3</th>\n",
       "      <th>0.02</th>\n",
       "      <td>0.363850</td>\n",
       "    </tr>\n",
       "    <tr>\n",
       "      <th>0.95</th>\n",
       "      <td>2.401375</td>\n",
       "    </tr>\n",
       "    <tr>\n",
       "      <th>...</th>\n",
       "      <th>...</th>\n",
       "      <th>...</th>\n",
       "      <td>...</td>\n",
       "    </tr>\n",
       "    <tr>\n",
       "      <th rowspan=\"12\" valign=\"top\">10.0</th>\n",
       "      <th rowspan=\"2\" valign=\"top\">0</th>\n",
       "      <th>0.02</th>\n",
       "      <td>0.592000</td>\n",
       "    </tr>\n",
       "    <tr>\n",
       "      <th>0.95</th>\n",
       "      <td>9.260000</td>\n",
       "    </tr>\n",
       "    <tr>\n",
       "      <th rowspan=\"2\" valign=\"top\">1</th>\n",
       "      <th>0.02</th>\n",
       "      <td>0.968600</td>\n",
       "    </tr>\n",
       "    <tr>\n",
       "      <th>0.95</th>\n",
       "      <td>4.102000</td>\n",
       "    </tr>\n",
       "    <tr>\n",
       "      <th rowspan=\"2\" valign=\"top\">2</th>\n",
       "      <th>0.02</th>\n",
       "      <td>0.489067</td>\n",
       "    </tr>\n",
       "    <tr>\n",
       "      <th>0.95</th>\n",
       "      <td>3.470000</td>\n",
       "    </tr>\n",
       "    <tr>\n",
       "      <th rowspan=\"2\" valign=\"top\">3</th>\n",
       "      <th>0.02</th>\n",
       "      <td>0.990350</td>\n",
       "    </tr>\n",
       "    <tr>\n",
       "      <th>0.95</th>\n",
       "      <td>3.877875</td>\n",
       "    </tr>\n",
       "    <tr>\n",
       "      <th rowspan=\"2\" valign=\"top\">4</th>\n",
       "      <th>0.02</th>\n",
       "      <td>1.137600</td>\n",
       "    </tr>\n",
       "    <tr>\n",
       "      <th>0.95</th>\n",
       "      <td>3.032000</td>\n",
       "    </tr>\n",
       "    <tr>\n",
       "      <th rowspan=\"2\" valign=\"top\">5</th>\n",
       "      <th>0.02</th>\n",
       "      <td>1.855000</td>\n",
       "    </tr>\n",
       "    <tr>\n",
       "      <th>0.95</th>\n",
       "      <td>1.855000</td>\n",
       "    </tr>\n",
       "    <tr>\n",
       "      <th rowspan=\"10\" valign=\"top\">12.0</th>\n",
       "      <th rowspan=\"2\" valign=\"top\">0</th>\n",
       "      <th>0.02</th>\n",
       "      <td>0.570000</td>\n",
       "    </tr>\n",
       "    <tr>\n",
       "      <th>0.95</th>\n",
       "      <td>6.860500</td>\n",
       "    </tr>\n",
       "    <tr>\n",
       "      <th rowspan=\"2\" valign=\"top\">1</th>\n",
       "      <th>0.02</th>\n",
       "      <td>0.165000</td>\n",
       "    </tr>\n",
       "    <tr>\n",
       "      <th>0.95</th>\n",
       "      <td>2.267500</td>\n",
       "    </tr>\n",
       "    <tr>\n",
       "      <th rowspan=\"2\" valign=\"top\">2</th>\n",
       "      <th>0.02</th>\n",
       "      <td>0.716667</td>\n",
       "    </tr>\n",
       "    <tr>\n",
       "      <th>0.95</th>\n",
       "      <td>1.723333</td>\n",
       "    </tr>\n",
       "    <tr>\n",
       "      <th rowspan=\"2\" valign=\"top\">3</th>\n",
       "      <th>0.02</th>\n",
       "      <td>0.615000</td>\n",
       "    </tr>\n",
       "    <tr>\n",
       "      <th>0.95</th>\n",
       "      <td>1.041000</td>\n",
       "    </tr>\n",
       "    <tr>\n",
       "      <th rowspan=\"2\" valign=\"top\">4</th>\n",
       "      <th>0.02</th>\n",
       "      <td>0.848240</td>\n",
       "    </tr>\n",
       "    <tr>\n",
       "      <th>0.95</th>\n",
       "      <td>1.819400</td>\n",
       "    </tr>\n",
       "    <tr>\n",
       "      <th rowspan=\"8\" valign=\"top\">15.0</th>\n",
       "      <th rowspan=\"2\" valign=\"top\">0</th>\n",
       "      <th>0.02</th>\n",
       "      <td>0.737000</td>\n",
       "    </tr>\n",
       "    <tr>\n",
       "      <th>0.95</th>\n",
       "      <td>8.658000</td>\n",
       "    </tr>\n",
       "    <tr>\n",
       "      <th rowspan=\"2\" valign=\"top\">1</th>\n",
       "      <th>0.02</th>\n",
       "      <td>1.100000</td>\n",
       "    </tr>\n",
       "    <tr>\n",
       "      <th>0.95</th>\n",
       "      <td>2.962250</td>\n",
       "    </tr>\n",
       "    <tr>\n",
       "      <th rowspan=\"2\" valign=\"top\">2</th>\n",
       "      <th>0.02</th>\n",
       "      <td>0.853333</td>\n",
       "    </tr>\n",
       "    <tr>\n",
       "      <th>0.95</th>\n",
       "      <td>1.526667</td>\n",
       "    </tr>\n",
       "    <tr>\n",
       "      <th rowspan=\"2\" valign=\"top\">3</th>\n",
       "      <th>0.02</th>\n",
       "      <td>0.870000</td>\n",
       "    </tr>\n",
       "    <tr>\n",
       "      <th>0.95</th>\n",
       "      <td>1.151250</td>\n",
       "    </tr>\n",
       "  </tbody>\n",
       "</table>\n",
       "<p>148 rows × 1 columns</p>\n",
       "</div>"
      ],
      "text/plain": [
       "                           APPROX_BEND_COST\n",
       "thickness bend_count                       \n",
       "2.0       0          0.02          0.704800\n",
       "                     0.95          7.743000\n",
       "          1          0.02          0.515800\n",
       "                     0.95          2.330000\n",
       "          2          0.02          0.245067\n",
       "                     0.95          2.154667\n",
       "          3          0.02          0.623350\n",
       "                     0.95          1.954250\n",
       "          4          0.02          0.573280\n",
       "                     0.95          2.137800\n",
       "          5          0.02          0.224867\n",
       "                     0.95          2.048667\n",
       "          6          0.02          0.703314\n",
       "                     0.95          1.496000\n",
       "          7          0.02          0.700500\n",
       "                     0.95          1.551500\n",
       "          8          0.02          0.782978\n",
       "                     0.95          2.421111\n",
       "          9          0.02          0.639000\n",
       "                     0.95          0.639000\n",
       "          14         0.02          0.502000\n",
       "                     0.95          0.502000\n",
       "3.0       0          0.02          0.218000\n",
       "                     0.95          5.710000\n",
       "          1          0.02          0.393500\n",
       "                     0.95          1.483750\n",
       "          2          0.02          0.405467\n",
       "                     0.95          1.916500\n",
       "          3          0.02          0.363850\n",
       "                     0.95          2.401375\n",
       "...                                     ...\n",
       "10.0      0          0.02          0.592000\n",
       "                     0.95          9.260000\n",
       "          1          0.02          0.968600\n",
       "                     0.95          4.102000\n",
       "          2          0.02          0.489067\n",
       "                     0.95          3.470000\n",
       "          3          0.02          0.990350\n",
       "                     0.95          3.877875\n",
       "          4          0.02          1.137600\n",
       "                     0.95          3.032000\n",
       "          5          0.02          1.855000\n",
       "                     0.95          1.855000\n",
       "12.0      0          0.02          0.570000\n",
       "                     0.95          6.860500\n",
       "          1          0.02          0.165000\n",
       "                     0.95          2.267500\n",
       "          2          0.02          0.716667\n",
       "                     0.95          1.723333\n",
       "          3          0.02          0.615000\n",
       "                     0.95          1.041000\n",
       "          4          0.02          0.848240\n",
       "                     0.95          1.819400\n",
       "15.0      0          0.02          0.737000\n",
       "                     0.95          8.658000\n",
       "          1          0.02          1.100000\n",
       "                     0.95          2.962250\n",
       "          2          0.02          0.853333\n",
       "                     0.95          1.526667\n",
       "          3          0.02          0.870000\n",
       "                     0.95          1.151250\n",
       "\n",
       "[148 rows x 1 columns]"
      ]
     },
     "execution_count": 20,
     "metadata": {},
     "output_type": "execute_result"
    }
   ],
   "source": [
    "#quantile decomposition\n",
    "df=dataset[['thickness', 'APPROX_BEND_COST', 'bend_count']].groupby(['thickness', 'bend_count']).quantile([botlimit,toplimit])\n",
    "df"
   ]
  },
  {
   "cell_type": "code",
   "execution_count": 21,
   "metadata": {},
   "outputs": [
    {
     "data": {
      "text/plain": [
       "(4316, 797)"
      ]
     },
     "execution_count": 21,
     "metadata": {},
     "output_type": "execute_result"
    }
   ],
   "source": [
    "# If VALAJOUT is target, cleaning\n",
    "if target == 'VALAJOUT' or target == 'VALTOT':\n",
    "    for (thickness, bend_count, limit), value in df.iterrows():\n",
    "        tresh = value.values[0]\n",
    "        mask1 = np.logical_and(dataset['thickness'] == thickness, dataset['bend_count'] == bend_count)\n",
    "        if limit == botlimit:\n",
    "            mask = np.logical_and(mask1, dataset[df.columns.values[0]] < tresh)\n",
    "            dataset = dataset[np.logical_not(mask)]\n",
    "        elif limit == toplimit:\n",
    "            mask = np.logical_and(mask1, dataset[df.columns.values[0]] > tresh)\n",
    "            dataset = dataset[np.logical_not(mask)]\n",
    "        #print((thickness, limit), tresh)\n",
    "\n",
    "dataset.shape"
   ]
  },
  {
   "cell_type": "code",
   "execution_count": 22,
   "metadata": {
    "scrolled": true
   },
   "outputs": [
    {
     "data": {
      "image/png": "[encoded data removed]",
      "text/plain": [
       "<Figure size 432x288 with 1 Axes>"
      ]
     },
     "metadata": {},
     "output_type": "display_data"
    }
   ],
   "source": [
    "df = dataset[dataset['thickness'] == 6]\n",
    "df['APPROX_BEND_COST'].plot.hist(bins=50)\n",
    "plt.show()"
   ]
  },
  {
   "cell_type": "code",
   "execution_count": null,
   "metadata": {},
   "outputs": [],
   "source": []
  },
  {
   "cell_type": "code",
   "execution_count": null,
   "metadata": {},
   "outputs": [],
   "source": []
  },
  {
   "cell_type": "markdown",
   "metadata": {},
   "source": [
    "## Target review"
   ]
  },
  {
   "cell_type": "code",
   "execution_count": 23,
   "metadata": {},
   "outputs": [],
   "source": [
    "#Dataset definition\n",
    "X = dataset\n",
    "y = dataset[['VAMAT', 'VALAJOUT', 'VALTOT']]"
   ]
  },
  {
   "cell_type": "code",
   "execution_count": 24,
   "metadata": {},
   "outputs": [
    {
     "data": {
      "text/html": [
       "<div>\n",
       "<style scoped>\n",
       "    .dataframe tbody tr th:only-of-type {\n",
       "        vertical-align: middle;\n",
       "    }\n",
       "\n",
       "    .dataframe tbody tr th {\n",
       "        vertical-align: top;\n",
       "    }\n",
       "\n",
       "    .dataframe thead th {\n",
       "        text-align: right;\n",
       "    }\n",
       "</style>\n",
       "<table border=\"1\" class=\"dataframe\">\n",
       "  <thead>\n",
       "    <tr style=\"text-align: right;\">\n",
       "      <th></th>\n",
       "      <th>VALTOT</th>\n",
       "    </tr>\n",
       "  </thead>\n",
       "  <tbody>\n",
       "    <tr>\n",
       "      <th>count</th>\n",
       "      <td>4316.000000</td>\n",
       "    </tr>\n",
       "    <tr>\n",
       "      <th>mean</th>\n",
       "      <td>7.457875</td>\n",
       "    </tr>\n",
       "    <tr>\n",
       "      <th>std</th>\n",
       "      <td>8.850946</td>\n",
       "    </tr>\n",
       "    <tr>\n",
       "      <th>min</th>\n",
       "      <td>0.370000</td>\n",
       "    </tr>\n",
       "    <tr>\n",
       "      <th>25%</th>\n",
       "      <td>2.560000</td>\n",
       "    </tr>\n",
       "    <tr>\n",
       "      <th>50%</th>\n",
       "      <td>4.480000</td>\n",
       "    </tr>\n",
       "    <tr>\n",
       "      <th>75%</th>\n",
       "      <td>9.040000</td>\n",
       "    </tr>\n",
       "    <tr>\n",
       "      <th>max</th>\n",
       "      <td>136.740000</td>\n",
       "    </tr>\n",
       "  </tbody>\n",
       "</table>\n",
       "</div>"
      ],
      "text/plain": [
       "            VALTOT\n",
       "count  4316.000000\n",
       "mean      7.457875\n",
       "std       8.850946\n",
       "min       0.370000\n",
       "25%       2.560000\n",
       "50%       4.480000\n",
       "75%       9.040000\n",
       "max     136.740000"
      ]
     },
     "execution_count": 24,
     "metadata": {},
     "output_type": "execute_result"
    },
    {
     "data": {
      "image/png": "[encoded data removed]",
      "text/plain": [
       "<Figure size 432x288 with 1 Axes>"
      ]
     },
     "metadata": {},
     "output_type": "display_data"
    }
   ],
   "source": [
    "y[[target]].plot.box(sym='')\n",
    "y[[target]].describe()"
   ]
  },
  {
   "cell_type": "code",
   "execution_count": null,
   "metadata": {},
   "outputs": [],
   "source": []
  },
  {
   "cell_type": "markdown",
   "metadata": {},
   "source": [
    "# Dataset re-ordering and Splitting"
   ]
  },
  {
   "cell_type": "code",
   "execution_count": 25,
   "metadata": {},
   "outputs": [
    {
     "name": "stdout",
     "output_type": "stream",
     "text": [
      "273\n"
     ]
    },
    {
     "data": {
      "text/plain": [
       "['cut_length',\n",
       " 'num_closed_patterns',\n",
       " 'num_open_patterns',\n",
       " 'total_area',\n",
       " 'minimum_rectangle_area',\n",
       " 'minimum_rectangle_dim1',\n",
       " 'minimum_rectangle_dim2',\n",
       " 'convex_hull_area',\n",
       " 'no_hole_area',\n",
       " 'thickness',\n",
       " 'radius_count',\n",
       " 'direction_count',\n",
       " 'bend_count',\n",
       " 'bendlength_bend_radius_00',\n",
       " 'bendlength_bend_angle_00',\n",
       " 'bendlength_bend_direction_00',\n",
       " 'bendlength_deformation_length_00',\n",
       " 'bendlength_merged_bend_00',\n",
       " 'bendlength_punch_length_00',\n",
       " 'bendlength_bend_radius_01',\n",
       " 'bendlength_bend_angle_01',\n",
       " 'bendlength_bend_direction_01',\n",
       " 'bendlength_deformation_length_01',\n",
       " 'bendlength_merged_bend_01',\n",
       " 'bendlength_punch_length_01',\n",
       " 'bendlength_bend_radius_02',\n",
       " 'bendlength_bend_angle_02',\n",
       " 'bendlength_bend_direction_02',\n",
       " 'bendlength_deformation_length_02',\n",
       " 'bendlength_merged_bend_02',\n",
       " 'bendlength_punch_length_02',\n",
       " 'bendlength_bend_radius_03',\n",
       " 'bendlength_bend_angle_03',\n",
       " 'bendlength_bend_direction_03',\n",
       " 'bendlength_deformation_length_03',\n",
       " 'bendlength_merged_bend_03',\n",
       " 'bendlength_punch_length_03',\n",
       " 'bendlength_bend_radius_04',\n",
       " 'bendlength_bend_angle_04',\n",
       " 'bendlength_bend_direction_04',\n",
       " 'bendlength_deformation_length_04',\n",
       " 'bendlength_merged_bend_04',\n",
       " 'bendlength_punch_length_04',\n",
       " 'bendlength_bend_radius_05',\n",
       " 'bendlength_bend_angle_05',\n",
       " 'bendlength_bend_direction_05',\n",
       " 'bendlength_deformation_length_05',\n",
       " 'bendlength_merged_bend_05',\n",
       " 'bendlength_punch_length_05',\n",
       " 'bendlength_bend_radius_06',\n",
       " 'bendlength_bend_angle_06',\n",
       " 'bendlength_bend_direction_06',\n",
       " 'bendlength_deformation_length_06',\n",
       " 'bendlength_merged_bend_06',\n",
       " 'bendlength_punch_length_06',\n",
       " 'bendlength_bend_radius_07',\n",
       " 'bendlength_bend_angle_07',\n",
       " 'bendlength_bend_direction_07',\n",
       " 'bendlength_deformation_length_07',\n",
       " 'bendlength_merged_bend_07',\n",
       " 'bendlength_punch_length_07',\n",
       " 'bendlength_bend_radius_08',\n",
       " 'bendlength_bend_angle_08',\n",
       " 'bendlength_bend_direction_08',\n",
       " 'bendlength_deformation_length_08',\n",
       " 'bendlength_merged_bend_08',\n",
       " 'bendlength_punch_length_08',\n",
       " 'bendlength_bend_radius_09',\n",
       " 'bendlength_bend_angle_09',\n",
       " 'bendlength_bend_direction_09',\n",
       " 'bendlength_deformation_length_09',\n",
       " 'bendlength_merged_bend_09',\n",
       " 'bendlength_punch_length_09',\n",
       " 'bendlength_bend_bend_distance_mean_00',\n",
       " 'bendlength_bend_bend_distance_std_00',\n",
       " 'bendlength_bend_bend_distance_min_00',\n",
       " 'bendlength_bend_bend_distance_max_00',\n",
       " 'bendlength_bend_bend_angle_mean_00',\n",
       " 'bendlength_bend_bend_angle_std_00',\n",
       " 'bendlength_bend_bend_angle_min_00',\n",
       " 'bendlength_bend_bend_angle_max_00',\n",
       " 'bendlength_bend_edge_distance_mean_00',\n",
       " 'bendlength_bend_edge_distance_std_00',\n",
       " 'bendlength_bend_edge_distance_min_00',\n",
       " 'bendlength_bend_edge_distance_max_00',\n",
       " 'bendlength_bend_edge_angle_mean_00',\n",
       " 'bendlength_bend_edge_angle_std_00',\n",
       " 'bendlength_bend_edge_angle_min_00',\n",
       " 'bendlength_bend_edge_angle_max_00',\n",
       " 'bendlength_bend_edge_length_mean_00',\n",
       " 'bendlength_bend_edge_length_std_00',\n",
       " 'bendlength_bend_edge_length_min_00',\n",
       " 'bendlength_bend_edge_length_max_00',\n",
       " 'bendlength_bend_bend_distance_mean_01',\n",
       " 'bendlength_bend_bend_distance_std_01',\n",
       " 'bendlength_bend_bend_distance_min_01',\n",
       " 'bendlength_bend_bend_distance_max_01',\n",
       " 'bendlength_bend_bend_angle_mean_01',\n",
       " 'bendlength_bend_bend_angle_std_01',\n",
       " 'bendlength_bend_bend_angle_min_01',\n",
       " 'bendlength_bend_bend_angle_max_01',\n",
       " 'bendlength_bend_edge_distance_mean_01',\n",
       " 'bendlength_bend_edge_distance_std_01',\n",
       " 'bendlength_bend_edge_distance_min_01',\n",
       " 'bendlength_bend_edge_distance_max_01',\n",
       " 'bendlength_bend_edge_angle_mean_01',\n",
       " 'bendlength_bend_edge_angle_std_01',\n",
       " 'bendlength_bend_edge_angle_min_01',\n",
       " 'bendlength_bend_edge_angle_max_01',\n",
       " 'bendlength_bend_edge_length_mean_01',\n",
       " 'bendlength_bend_edge_length_std_01',\n",
       " 'bendlength_bend_edge_length_min_01',\n",
       " 'bendlength_bend_edge_length_max_01',\n",
       " 'bendlength_bend_bend_distance_mean_02',\n",
       " 'bendlength_bend_bend_distance_std_02',\n",
       " 'bendlength_bend_bend_distance_min_02',\n",
       " 'bendlength_bend_bend_distance_max_02',\n",
       " 'bendlength_bend_bend_angle_mean_02',\n",
       " 'bendlength_bend_bend_angle_std_02',\n",
       " 'bendlength_bend_bend_angle_min_02',\n",
       " 'bendlength_bend_bend_angle_max_02',\n",
       " 'bendlength_bend_edge_distance_mean_02',\n",
       " 'bendlength_bend_edge_distance_std_02',\n",
       " 'bendlength_bend_edge_distance_min_02',\n",
       " 'bendlength_bend_edge_distance_max_02',\n",
       " 'bendlength_bend_edge_angle_mean_02',\n",
       " 'bendlength_bend_edge_angle_std_02',\n",
       " 'bendlength_bend_edge_angle_min_02',\n",
       " 'bendlength_bend_edge_angle_max_02',\n",
       " 'bendlength_bend_edge_length_mean_02',\n",
       " 'bendlength_bend_edge_length_std_02',\n",
       " 'bendlength_bend_edge_length_min_02',\n",
       " 'bendlength_bend_edge_length_max_02',\n",
       " 'bendlength_bend_bend_distance_mean_03',\n",
       " 'bendlength_bend_bend_distance_std_03',\n",
       " 'bendlength_bend_bend_distance_min_03',\n",
       " 'bendlength_bend_bend_distance_max_03',\n",
       " 'bendlength_bend_bend_angle_mean_03',\n",
       " 'bendlength_bend_bend_angle_std_03',\n",
       " 'bendlength_bend_bend_angle_min_03',\n",
       " 'bendlength_bend_bend_angle_max_03',\n",
       " 'bendlength_bend_edge_distance_mean_03',\n",
       " 'bendlength_bend_edge_distance_std_03',\n",
       " 'bendlength_bend_edge_distance_min_03',\n",
       " 'bendlength_bend_edge_distance_max_03',\n",
       " 'bendlength_bend_edge_angle_mean_03',\n",
       " 'bendlength_bend_edge_angle_std_03',\n",
       " 'bendlength_bend_edge_angle_min_03',\n",
       " 'bendlength_bend_edge_angle_max_03',\n",
       " 'bendlength_bend_edge_length_mean_03',\n",
       " 'bendlength_bend_edge_length_std_03',\n",
       " 'bendlength_bend_edge_length_min_03',\n",
       " 'bendlength_bend_edge_length_max_03',\n",
       " 'bendlength_bend_bend_distance_mean_04',\n",
       " 'bendlength_bend_bend_distance_std_04',\n",
       " 'bendlength_bend_bend_distance_min_04',\n",
       " 'bendlength_bend_bend_distance_max_04',\n",
       " 'bendlength_bend_bend_angle_mean_04',\n",
       " 'bendlength_bend_bend_angle_std_04',\n",
       " 'bendlength_bend_bend_angle_min_04',\n",
       " 'bendlength_bend_bend_angle_max_04',\n",
       " 'bendlength_bend_edge_distance_mean_04',\n",
       " 'bendlength_bend_edge_distance_std_04',\n",
       " 'bendlength_bend_edge_distance_min_04',\n",
       " 'bendlength_bend_edge_distance_max_04',\n",
       " 'bendlength_bend_edge_angle_mean_04',\n",
       " 'bendlength_bend_edge_angle_std_04',\n",
       " 'bendlength_bend_edge_angle_min_04',\n",
       " 'bendlength_bend_edge_angle_max_04',\n",
       " 'bendlength_bend_edge_length_mean_04',\n",
       " 'bendlength_bend_edge_length_std_04',\n",
       " 'bendlength_bend_edge_length_min_04',\n",
       " 'bendlength_bend_edge_length_max_04',\n",
       " 'bendlength_bend_bend_distance_mean_05',\n",
       " 'bendlength_bend_bend_distance_std_05',\n",
       " 'bendlength_bend_bend_distance_min_05',\n",
       " 'bendlength_bend_bend_distance_max_05',\n",
       " 'bendlength_bend_bend_angle_mean_05',\n",
       " 'bendlength_bend_bend_angle_std_05',\n",
       " 'bendlength_bend_bend_angle_min_05',\n",
       " 'bendlength_bend_bend_angle_max_05',\n",
       " 'bendlength_bend_edge_distance_mean_05',\n",
       " 'bendlength_bend_edge_distance_std_05',\n",
       " 'bendlength_bend_edge_distance_min_05',\n",
       " 'bendlength_bend_edge_distance_max_05',\n",
       " 'bendlength_bend_edge_angle_mean_05',\n",
       " 'bendlength_bend_edge_angle_std_05',\n",
       " 'bendlength_bend_edge_angle_min_05',\n",
       " 'bendlength_bend_edge_angle_max_05',\n",
       " 'bendlength_bend_edge_length_mean_05',\n",
       " 'bendlength_bend_edge_length_std_05',\n",
       " 'bendlength_bend_edge_length_min_05',\n",
       " 'bendlength_bend_edge_length_max_05',\n",
       " 'bendlength_bend_bend_distance_mean_06',\n",
       " 'bendlength_bend_bend_distance_std_06',\n",
       " 'bendlength_bend_bend_distance_min_06',\n",
       " 'bendlength_bend_bend_distance_max_06',\n",
       " 'bendlength_bend_bend_angle_mean_06',\n",
       " 'bendlength_bend_bend_angle_std_06',\n",
       " 'bendlength_bend_bend_angle_min_06',\n",
       " 'bendlength_bend_bend_angle_max_06',\n",
       " 'bendlength_bend_edge_distance_mean_06',\n",
       " 'bendlength_bend_edge_distance_std_06',\n",
       " 'bendlength_bend_edge_distance_min_06',\n",
       " 'bendlength_bend_edge_distance_max_06',\n",
       " 'bendlength_bend_edge_angle_mean_06',\n",
       " 'bendlength_bend_edge_angle_std_06',\n",
       " 'bendlength_bend_edge_angle_min_06',\n",
       " 'bendlength_bend_edge_angle_max_06',\n",
       " 'bendlength_bend_edge_length_mean_06',\n",
       " 'bendlength_bend_edge_length_std_06',\n",
       " 'bendlength_bend_edge_length_min_06',\n",
       " 'bendlength_bend_edge_length_max_06',\n",
       " 'bendlength_bend_bend_distance_mean_07',\n",
       " 'bendlength_bend_bend_distance_std_07',\n",
       " 'bendlength_bend_bend_distance_min_07',\n",
       " 'bendlength_bend_bend_distance_max_07',\n",
       " 'bendlength_bend_bend_angle_mean_07',\n",
       " 'bendlength_bend_bend_angle_std_07',\n",
       " 'bendlength_bend_bend_angle_min_07',\n",
       " 'bendlength_bend_bend_angle_max_07',\n",
       " 'bendlength_bend_edge_distance_mean_07',\n",
       " 'bendlength_bend_edge_distance_std_07',\n",
       " 'bendlength_bend_edge_distance_min_07',\n",
       " 'bendlength_bend_edge_distance_max_07',\n",
       " 'bendlength_bend_edge_angle_mean_07',\n",
       " 'bendlength_bend_edge_angle_std_07',\n",
       " 'bendlength_bend_edge_angle_min_07',\n",
       " 'bendlength_bend_edge_angle_max_07',\n",
       " 'bendlength_bend_edge_length_mean_07',\n",
       " 'bendlength_bend_edge_length_std_07',\n",
       " 'bendlength_bend_edge_length_min_07',\n",
       " 'bendlength_bend_edge_length_max_07',\n",
       " 'bendlength_bend_bend_distance_mean_08',\n",
       " 'bendlength_bend_bend_distance_std_08',\n",
       " 'bendlength_bend_bend_distance_min_08',\n",
       " 'bendlength_bend_bend_distance_max_08',\n",
       " 'bendlength_bend_bend_angle_mean_08',\n",
       " 'bendlength_bend_bend_angle_std_08',\n",
       " 'bendlength_bend_bend_angle_min_08',\n",
       " 'bendlength_bend_bend_angle_max_08',\n",
       " 'bendlength_bend_edge_distance_mean_08',\n",
       " 'bendlength_bend_edge_distance_std_08',\n",
       " 'bendlength_bend_edge_distance_min_08',\n",
       " 'bendlength_bend_edge_distance_max_08',\n",
       " 'bendlength_bend_edge_angle_mean_08',\n",
       " 'bendlength_bend_edge_angle_std_08',\n",
       " 'bendlength_bend_edge_angle_min_08',\n",
       " 'bendlength_bend_edge_angle_max_08',\n",
       " 'bendlength_bend_edge_length_mean_08',\n",
       " 'bendlength_bend_edge_length_std_08',\n",
       " 'bendlength_bend_edge_length_min_08',\n",
       " 'bendlength_bend_edge_length_max_08',\n",
       " 'bendlength_bend_bend_distance_mean_09',\n",
       " 'bendlength_bend_bend_distance_std_09',\n",
       " 'bendlength_bend_bend_distance_min_09',\n",
       " 'bendlength_bend_bend_distance_max_09',\n",
       " 'bendlength_bend_bend_angle_mean_09',\n",
       " 'bendlength_bend_bend_angle_std_09',\n",
       " 'bendlength_bend_bend_angle_min_09',\n",
       " 'bendlength_bend_bend_angle_max_09',\n",
       " 'bendlength_bend_edge_distance_mean_09',\n",
       " 'bendlength_bend_edge_distance_std_09',\n",
       " 'bendlength_bend_edge_distance_min_09',\n",
       " 'bendlength_bend_edge_distance_max_09',\n",
       " 'bendlength_bend_edge_angle_mean_09',\n",
       " 'bendlength_bend_edge_angle_std_09',\n",
       " 'bendlength_bend_edge_angle_min_09',\n",
       " 'bendlength_bend_edge_angle_max_09',\n",
       " 'bendlength_bend_edge_length_mean_09',\n",
       " 'bendlength_bend_edge_length_std_09',\n",
       " 'bendlength_bend_edge_length_min_09',\n",
       " 'bendlength_bend_edge_length_max_09']"
      ]
     },
     "execution_count": 25,
     "metadata": {},
     "output_type": "execute_result"
    }
   ],
   "source": [
    "limitedset = ['cut_length', 'num_closed_patterns', 'num_open_patterns', 'total_area', 'minimum_rectangle_area',\n",
    "              'minimum_rectangle_dim1', 'minimum_rectangle_dim2', 'convex_hull_area', 'no_hole_area',]\n",
    "\n",
    "# 1 Bend as a float\n",
    "limitedset.append('thickness')\n",
    "\n",
    "# 2 Thickness as categories\n",
    "#limitedset.extend([x for x in dataset.columns.values if x.startswith('thick_')])\n",
    "\n",
    "# 3 Different counts\n",
    "limitedset.extend(['radius_count', 'direction_count', 'bend_count'])\n",
    "\n",
    "# 4 Bends in groups\n",
    "#limitedset.extend([x for x in dataset.columns.values if x.startswith('bend_gr_')])\n",
    "\n",
    "# 5 bends according DXF\n",
    "#limitedset.extend([x for x in dataset.columns.values if x.startswith('benddxf_')])\n",
    "\n",
    "# 6 according DXF, sorted by length\n",
    "limitedset.extend([x for x in dataset.columns.values if x.startswith('bendlength_')])\n",
    "\n",
    "\n",
    "print(len(limitedset))\n",
    "limitedset"
   ]
  },
  {
   "cell_type": "code",
   "execution_count": 26,
   "metadata": {},
   "outputs": [
    {
     "name": "stdout",
     "output_type": "stream",
     "text": [
      "(3021, 797) (1295, 797)\n"
     ]
    }
   ],
   "source": [
    "# Dataset splitting\n",
    "from sklearn.model_selection import train_test_split\n",
    "X_train, X_test, y_train, y_test = train_test_split(\n",
    "    X, y, test_size=0.3, random_state=0 ,stratify=dataset['bend_group'])\n",
    "\n",
    "print(X_train.shape, X_test.shape)\n",
    "\n",
    "#ONLY FOR DATASET CLEANING PURPOSE\n",
    "#X_test, X_train, y_test, y_train = train_test_split(X, y, test_size=0.5, random_state=0 ,stratify=dataset['bend_group'])"
   ]
  },
  {
   "cell_type": "markdown",
   "metadata": {},
   "source": [
    "# Box_cox feature creation"
   ]
  },
  {
   "cell_type": "code",
   "execution_count": 27,
   "metadata": {},
   "outputs": [
    {
     "name": "stderr",
     "output_type": "stream",
     "text": [
      "/Users/cricket/anaconda3/lib/python3.6/site-packages/ipykernel_launcher.py:4: SettingWithCopyWarning: \n",
      "A value is trying to be set on a copy of a slice from a DataFrame.\n",
      "Try using .loc[row_indexer,col_indexer] = value instead\n",
      "\n",
      "See the caveats in the documentation: http://pandas.pydata.org/pandas-docs/stable/indexing.html#indexing-view-versus-copy\n",
      "  after removing the cwd from sys.path.\n",
      "/Users/cricket/anaconda3/lib/python3.6/site-packages/ipykernel_launcher.py:5: SettingWithCopyWarning: \n",
      "A value is trying to be set on a copy of a slice from a DataFrame.\n",
      "Try using .loc[row_indexer,col_indexer] = value instead\n",
      "\n",
      "See the caveats in the documentation: http://pandas.pydata.org/pandas-docs/stable/indexing.html#indexing-view-versus-copy\n",
      "  \"\"\"\n"
     ]
    }
   ],
   "source": [
    "from scipy import stats\n",
    "from scipy.special import inv_boxcox\n",
    "_, lmbda = stats.boxcox(y_train[target], lmbda=None)\n",
    "y_train['logtarget'] = y_train[target].apply(lambda x: stats.boxcox(x, lmbda))\n",
    "y_test['logtarget'] = y_test[target].apply(lambda x: stats.boxcox(x, lmbda))"
   ]
  },
  {
   "cell_type": "markdown",
   "metadata": {},
   "source": [
    "# Blocs creation"
   ]
  },
  {
   "cell_type": "code",
   "execution_count": 28,
   "metadata": {},
   "outputs": [],
   "source": [
    "#Scaler\n",
    "from sklearn.preprocessing import StandardScaler\n",
    "scaler = StandardScaler()"
   ]
  },
  {
   "cell_type": "code",
   "execution_count": 29,
   "metadata": {},
   "outputs": [],
   "source": [
    "# Metric MSE\n",
    "from sklearn.metrics import mean_squared_error"
   ]
  },
  {
   "cell_type": "code",
   "execution_count": 30,
   "metadata": {},
   "outputs": [],
   "source": [
    "# Metric MAE\n",
    "from sklearn.metrics import mean_absolute_error"
   ]
  },
  {
   "cell_type": "code",
   "execution_count": 31,
   "metadata": {},
   "outputs": [
    {
     "data": {
      "text/plain": [
       "make_scorer(mean_absolute_percentage_error, greater_is_better=False)"
      ]
     },
     "execution_count": 31,
     "metadata": {},
     "output_type": "execute_result"
    }
   ],
   "source": [
    "# Metric MAPE Mean absolute percentage error\n",
    "def mean_absolute_percentage_error(y_true, y_pred): \n",
    "    y_true, y_pred = np.array(y_true), np.array(y_pred)\n",
    "    return np.mean(np.abs((y_true - y_pred) / y_true)) * 100\n",
    "\n",
    "from sklearn.metrics import make_scorer\n",
    "mape_scorer = make_scorer(mean_absolute_percentage_error, greater_is_better=False)\n",
    "mape_scorer"
   ]
  },
  {
   "cell_type": "code",
   "execution_count": 53,
   "metadata": {},
   "outputs": [],
   "source": [
    "#regressions\n",
    "import xgboost as xgb\n",
    "\n",
    "xgb = xgb.XGBRegressor(eval_metric='rmse'\n",
    "                       )"
   ]
  },
  {
   "cell_type": "code",
   "execution_count": 54,
   "metadata": {},
   "outputs": [],
   "source": [
    "from sklearn.model_selection import GridSearchCV\n",
    "from sklearn.pipeline import Pipeline"
   ]
  },
  {
   "cell_type": "code",
   "execution_count": 55,
   "metadata": {},
   "outputs": [],
   "source": [
    "#Pipe definition\n",
    "pipe = [('scaler', scaler), ('xgb', xgb)]"
   ]
  },
  {
   "cell_type": "markdown",
   "metadata": {},
   "source": [
    "# Direct prediction"
   ]
  },
  {
   "cell_type": "code",
   "execution_count": 56,
   "metadata": {},
   "outputs": [],
   "source": [
    "regpip = Pipeline(pipe)"
   ]
  },
  {
   "cell_type": "code",
   "execution_count": 57,
   "metadata": {},
   "outputs": [
    {
     "data": {
      "text/plain": [
       "Pipeline(memory=None,\n",
       "     steps=[('scaler', StandardScaler(copy=True, with_mean=True, with_std=True)), ('xgb', XGBRegressor(base_score=0.5, booster='gbtree', colsample_bylevel=1,\n",
       "       colsample_bytree=1, eval_metric='rmse', gamma=0, learning_rate=0.1,\n",
       "       max_delta_step=0, max_depth=3, min_child_weight=1, missing=None,\n",
       "       n_estimators=100, n_jobs=1, nthread=None, objective='reg:linear',\n",
       "       random_state=0, reg_alpha=0, reg_lambda=1, scale_pos_weight=1,\n",
       "       seed=None, silent=True, subsample=1))])"
      ]
     },
     "execution_count": 57,
     "metadata": {},
     "output_type": "execute_result"
    }
   ],
   "source": [
    "regpip.fit(X_train[limitedset], y_train[target])"
   ]
  },
  {
   "cell_type": "code",
   "execution_count": 77,
   "metadata": {},
   "outputs": [],
   "source": [
    "param_grid = {\n",
    "        #'xgb__max_depth':[0,6,10],\n",
    "        'xgb__gamma':np.logspace(0,3,5),\n",
    "        'xgb__min_child_weight':[1,3,5],\n",
    "        'xgb__subsample':[1., .75, .5]\n",
    "    }\n",
    "\n",
    "#MSE version\n",
    "gridxgb = GridSearchCV(regpip, param_grid, cv=3, n_jobs=-2, scoring='neg_mean_squared_error', verbose=5)\n",
    "\n",
    "#MAPE version\n",
    "#gridxgb = GridSearchCV(regpip, param_grid, cv=3, n_jobs=-2, scoring=mape_scorer, verbose=2)"
   ]
  },
  {
   "cell_type": "code",
   "execution_count": 78,
   "metadata": {},
   "outputs": [
    {
     "name": "stdout",
     "output_type": "stream",
     "text": [
      "Fitting 3 folds for each of 45 candidates, totalling 135 fits\n",
      "[CV] xgb__gamma=1.0, xgb__min_child_weight=1, xgb__subsample=1.0 .....\n",
      "[CV] xgb__gamma=1.0, xgb__min_child_weight=1, xgb__subsample=1.0 .....\n",
      "[CV] xgb__gamma=1.0, xgb__min_child_weight=1, xgb__subsample=1.0 .....\n",
      "[CV]  xgb__gamma=1.0, xgb__min_child_weight=1, xgb__subsample=1.0, score=-7.945604350712571, total=   4.1s\n",
      "[CV] xgb__gamma=1.0, xgb__min_child_weight=1, xgb__subsample=0.75 ....\n",
      "[CV]  xgb__gamma=1.0, xgb__min_child_weight=1, xgb__subsample=1.0, score=-6.171019429073144, total=   4.0s\n",
      "[CV]  xgb__gamma=1.0, xgb__min_child_weight=1, xgb__subsample=1.0, score=-2.9461597043817602, total=   4.0s\n",
      "[CV] xgb__gamma=1.0, xgb__min_child_weight=1, xgb__subsample=0.75 ....\n",
      "[CV] xgb__gamma=1.0, xgb__min_child_weight=1, xgb__subsample=0.75 ....\n",
      "[CV]  xgb__gamma=1.0, xgb__min_child_weight=1, xgb__subsample=0.75, score=-8.196912032330951, total=   3.5s\n",
      "[CV]  xgb__gamma=1.0, xgb__min_child_weight=1, xgb__subsample=0.75, score=-6.35202869644681, total=   3.5s\n",
      "[CV] xgb__gamma=1.0, xgb__min_child_weight=1, xgb__subsample=0.5 .....\n",
      "[CV]  xgb__gamma=1.0, xgb__min_child_weight=1, xgb__subsample=0.75, score=-3.2303584161439582, total=   3.5s\n",
      "[CV] xgb__gamma=1.0, xgb__min_child_weight=1, xgb__subsample=0.5 .....\n",
      "[CV] xgb__gamma=1.0, xgb__min_child_weight=1, xgb__subsample=0.5 .....\n",
      "[CV]  xgb__gamma=1.0, xgb__min_child_weight=1, xgb__subsample=0.5, score=-7.114559281333861, total=   3.2s\n",
      "[CV]  xgb__gamma=1.0, xgb__min_child_weight=1, xgb__subsample=0.5, score=-9.33308045659387, total=   3.3s\n",
      "[CV]  xgb__gamma=1.0, xgb__min_child_weight=1, xgb__subsample=0.5, score=-3.5432910438709304, total=   3.2s\n",
      "[CV] xgb__gamma=1.0, xgb__min_child_weight=3, xgb__subsample=1.0 .....\n",
      "[CV] xgb__gamma=1.0, xgb__min_child_weight=3, xgb__subsample=1.0 .....\n",
      "[CV] xgb__gamma=1.0, xgb__min_child_weight=3, xgb__subsample=1.0 .....\n",
      "[CV]  xgb__gamma=1.0, xgb__min_child_weight=3, xgb__subsample=1.0, score=-8.002594449674007, total=   3.8s\n",
      "[CV] xgb__gamma=1.0, xgb__min_child_weight=3, xgb__subsample=0.75 ....\n",
      "[CV]  xgb__gamma=1.0, xgb__min_child_weight=3, xgb__subsample=1.0, score=-5.484683044849488, total=   3.8s\n",
      "[CV] xgb__gamma=1.0, xgb__min_child_weight=3, xgb__subsample=0.75 ....\n",
      "[CV]  xgb__gamma=1.0, xgb__min_child_weight=3, xgb__subsample=1.0, score=-3.0225276418185296, total=   3.8s\n",
      "[CV] xgb__gamma=1.0, xgb__min_child_weight=3, xgb__subsample=0.75 ....\n"
     ]
    },
    {
     "name": "stderr",
     "output_type": "stream",
     "text": [
      "[Parallel(n_jobs=-2)]: Done  12 tasks      | elapsed:   15.4s\n"
     ]
    },
    {
     "name": "stdout",
     "output_type": "stream",
     "text": [
      "[CV]  xgb__gamma=1.0, xgb__min_child_weight=3, xgb__subsample=0.75, score=-8.312322301458236, total=   3.4s\n",
      "[CV]  xgb__gamma=1.0, xgb__min_child_weight=3, xgb__subsample=0.75, score=-6.115232874435109, total=   3.4s\n",
      "[CV] xgb__gamma=1.0, xgb__min_child_weight=3, xgb__subsample=0.5 .....\n",
      "[CV]  xgb__gamma=1.0, xgb__min_child_weight=3, xgb__subsample=0.75, score=-3.5210209733818556, total=   3.4s\n",
      "[CV] xgb__gamma=1.0, xgb__min_child_weight=3, xgb__subsample=0.5 .....\n",
      "[CV] xgb__gamma=1.0, xgb__min_child_weight=3, xgb__subsample=0.5 .....\n",
      "[CV]  xgb__gamma=1.0, xgb__min_child_weight=3, xgb__subsample=0.5, score=-9.722271246090198, total=   3.2s\n",
      "[CV] xgb__gamma=1.0, xgb__min_child_weight=5, xgb__subsample=1.0 .....\n",
      "[CV]  xgb__gamma=1.0, xgb__min_child_weight=3, xgb__subsample=0.5, score=-6.090151656858071, total=   3.3s\n",
      "[CV] xgb__gamma=1.0, xgb__min_child_weight=5, xgb__subsample=1.0 .....\n",
      "[CV]  xgb__gamma=1.0, xgb__min_child_weight=3, xgb__subsample=0.5, score=-3.936421991658007, total=   3.3s\n",
      "[CV] xgb__gamma=1.0, xgb__min_child_weight=5, xgb__subsample=1.0 .....\n",
      "[CV]  xgb__gamma=1.0, xgb__min_child_weight=5, xgb__subsample=1.0, score=-8.034908997404743, total=   3.9s\n",
      "[CV] xgb__gamma=1.0, xgb__min_child_weight=5, xgb__subsample=0.75 ....\n",
      "[CV]  xgb__gamma=1.0, xgb__min_child_weight=5, xgb__subsample=1.0, score=-6.833984756100053, total=   3.9s\n",
      "[CV] xgb__gamma=1.0, xgb__min_child_weight=5, xgb__subsample=0.75 ....\n",
      "[CV]  xgb__gamma=1.0, xgb__min_child_weight=5, xgb__subsample=1.0, score=-3.943000056972543, total=   3.9s\n",
      "[CV] xgb__gamma=1.0, xgb__min_child_weight=5, xgb__subsample=0.75 ....\n",
      "[CV]  xgb__gamma=1.0, xgb__min_child_weight=5, xgb__subsample=0.75, score=-8.96867419264196, total=   3.6s\n",
      "[CV]  xgb__gamma=1.0, xgb__min_child_weight=5, xgb__subsample=0.75, score=-6.011347346706987, total=   3.5s\n",
      "[CV] xgb__gamma=1.0, xgb__min_child_weight=5, xgb__subsample=0.5 .....\n",
      "[CV] xgb__gamma=1.0, xgb__min_child_weight=5, xgb__subsample=0.5 .....\n",
      "[CV]  xgb__gamma=1.0, xgb__min_child_weight=5, xgb__subsample=0.75, score=-3.643891195614641, total=   3.5s\n",
      "[CV] xgb__gamma=1.0, xgb__min_child_weight=5, xgb__subsample=0.5 .....\n",
      "[CV]  xgb__gamma=1.0, xgb__min_child_weight=5, xgb__subsample=0.5, score=-9.614064935844954, total=   3.3s\n",
      "[CV]  xgb__gamma=1.0, xgb__min_child_weight=5, xgb__subsample=0.5, score=-6.651359101592381, total=   3.3s\n",
      "[CV] xgb__gamma=5.623413251903491, xgb__min_child_weight=1, xgb__subsample=1.0 \n",
      "[CV]  xgb__gamma=1.0, xgb__min_child_weight=5, xgb__subsample=0.5, score=-4.482272635363432, total=   3.3s\n",
      "[CV] xgb__gamma=5.623413251903491, xgb__min_child_weight=1, xgb__subsample=1.0 \n",
      "[CV] xgb__gamma=5.623413251903491, xgb__min_child_weight=1, xgb__subsample=1.0 \n",
      "[CV]  xgb__gamma=5.623413251903491, xgb__min_child_weight=1, xgb__subsample=1.0, score=-7.896330300337124, total=   4.1s\n",
      "[CV]  xgb__gamma=5.623413251903491, xgb__min_child_weight=1, xgb__subsample=1.0, score=-5.868891171513836, total=   4.1s\n",
      "[CV]  xgb__gamma=5.623413251903491, xgb__min_child_weight=1, xgb__subsample=1.0, score=-2.9660440001909287, total=   4.1s\n",
      "[CV] xgb__gamma=5.623413251903491, xgb__min_child_weight=1, xgb__subsample=0.75 \n",
      "[CV] xgb__gamma=5.623413251903491, xgb__min_child_weight=1, xgb__subsample=0.75 \n",
      "[CV] xgb__gamma=5.623413251903491, xgb__min_child_weight=1, xgb__subsample=0.75 \n",
      "[CV]  xgb__gamma=5.623413251903491, xgb__min_child_weight=1, xgb__subsample=0.75, score=-6.5102147726478306, total=   3.6s\n",
      "[CV]  xgb__gamma=5.623413251903491, xgb__min_child_weight=1, xgb__subsample=0.75, score=-8.39287447445906, total=   3.6s\n",
      "[CV]  xgb__gamma=5.623413251903491, xgb__min_child_weight=1, xgb__subsample=0.75, score=-3.214258730826206, total=   3.6s\n",
      "[CV] xgb__gamma=5.623413251903491, xgb__min_child_weight=1, xgb__subsample=0.5 \n",
      "[CV] xgb__gamma=5.623413251903491, xgb__min_child_weight=1, xgb__subsample=0.5 \n",
      "[CV] xgb__gamma=5.623413251903491, xgb__min_child_weight=1, xgb__subsample=0.5 \n",
      "[CV]  xgb__gamma=5.623413251903491, xgb__min_child_weight=1, xgb__subsample=0.5, score=-9.368351627419425, total=   3.3s\n",
      "[CV]  xgb__gamma=5.623413251903491, xgb__min_child_weight=1, xgb__subsample=0.5, score=-6.997589562085625, total=   3.3s\n",
      "[CV]  xgb__gamma=5.623413251903491, xgb__min_child_weight=1, xgb__subsample=0.5, score=-3.5592410796996607, total=   3.3s\n",
      "[CV] xgb__gamma=5.623413251903491, xgb__min_child_weight=3, xgb__subsample=1.0 \n",
      "[CV] xgb__gamma=5.623413251903491, xgb__min_child_weight=3, xgb__subsample=1.0 \n",
      "[CV] xgb__gamma=5.623413251903491, xgb__min_child_weight=3, xgb__subsample=1.0 \n",
      "[CV]  xgb__gamma=5.623413251903491, xgb__min_child_weight=3, xgb__subsample=1.0, score=-7.835184778337672, total=   4.0s\n",
      "[CV] xgb__gamma=5.623413251903491, xgb__min_child_weight=3, xgb__subsample=0.75 \n",
      "[CV]  xgb__gamma=5.623413251903491, xgb__min_child_weight=3, xgb__subsample=1.0, score=-5.551078260424984, total=   4.0s\n",
      "[CV] xgb__gamma=5.623413251903491, xgb__min_child_weight=3, xgb__subsample=0.75 \n",
      "[CV]  xgb__gamma=5.623413251903491, xgb__min_child_weight=3, xgb__subsample=1.0, score=-3.0235040397391484, total=   4.1s\n",
      "[CV] xgb__gamma=5.623413251903491, xgb__min_child_weight=3, xgb__subsample=0.75 \n",
      "[CV]  xgb__gamma=5.623413251903491, xgb__min_child_weight=3, xgb__subsample=0.75, score=-8.304596056566808, total=   3.6s\n",
      "[CV] xgb__gamma=5.623413251903491, xgb__min_child_weight=3, xgb__subsample=0.5 \n",
      "[CV]  xgb__gamma=5.623413251903491, xgb__min_child_weight=3, xgb__subsample=0.75, score=-6.068775497499597, total=   3.6s\n",
      "[CV] xgb__gamma=5.623413251903491, xgb__min_child_weight=3, xgb__subsample=0.5 \n",
      "[CV]  xgb__gamma=5.623413251903491, xgb__min_child_weight=3, xgb__subsample=0.75, score=-3.5471538614623856, total=   3.6s\n",
      "[CV] xgb__gamma=5.623413251903491, xgb__min_child_weight=3, xgb__subsample=0.5 \n",
      "[CV]  xgb__gamma=5.623413251903491, xgb__min_child_weight=3, xgb__subsample=0.5, score=-9.998512793555948, total=   3.4s\n",
      "[CV] xgb__gamma=5.623413251903491, xgb__min_child_weight=5, xgb__subsample=1.0 \n",
      "[CV]  xgb__gamma=5.623413251903491, xgb__min_child_weight=3, xgb__subsample=0.5, score=-6.196407367915418, total=   3.4s\n",
      "[CV] xgb__gamma=5.623413251903491, xgb__min_child_weight=5, xgb__subsample=1.0 \n",
      "[CV]  xgb__gamma=5.623413251903491, xgb__min_child_weight=3, xgb__subsample=0.5, score=-3.942409915971299, total=   3.4s\n",
      "[CV] xgb__gamma=5.623413251903491, xgb__min_child_weight=5, xgb__subsample=1.0 \n",
      "[CV]  xgb__gamma=5.623413251903491, xgb__min_child_weight=5, xgb__subsample=1.0, score=-8.127982497176262, total=   4.1s\n",
      "[CV] xgb__gamma=5.623413251903491, xgb__min_child_weight=5, xgb__subsample=0.75 \n",
      "[CV]  xgb__gamma=5.623413251903491, xgb__min_child_weight=5, xgb__subsample=1.0, score=-6.841066175296087, total=   4.1s\n",
      "[CV] xgb__gamma=5.623413251903491, xgb__min_child_weight=5, xgb__subsample=0.75 \n",
      "[CV]  xgb__gamma=5.623413251903491, xgb__min_child_weight=5, xgb__subsample=1.0, score=-3.9318375246313506, total=   4.1s\n",
      "[CV] xgb__gamma=5.623413251903491, xgb__min_child_weight=5, xgb__subsample=0.75 \n",
      "[CV]  xgb__gamma=5.623413251903491, xgb__min_child_weight=5, xgb__subsample=0.75, score=-8.751339553722064, total=   3.6s\n",
      "[CV] xgb__gamma=5.623413251903491, xgb__min_child_weight=5, xgb__subsample=0.5 \n",
      "[CV]  xgb__gamma=5.623413251903491, xgb__min_child_weight=5, xgb__subsample=0.75, score=-6.0105426023993, total=   3.5s\n",
      "[CV] xgb__gamma=5.623413251903491, xgb__min_child_weight=5, xgb__subsample=0.5 \n",
      "[CV]  xgb__gamma=5.623413251903491, xgb__min_child_weight=5, xgb__subsample=0.75, score=-3.659999565936273, total=   3.5s\n",
      "[CV] xgb__gamma=5.623413251903491, xgb__min_child_weight=5, xgb__subsample=0.5 \n",
      "[CV]  xgb__gamma=5.623413251903491, xgb__min_child_weight=5, xgb__subsample=0.5, score=-9.596639835067018, total=   3.3s\n",
      "[CV] xgb__gamma=31.622776601683793, xgb__min_child_weight=1, xgb__subsample=1.0 \n",
      "[CV]  xgb__gamma=5.623413251903491, xgb__min_child_weight=5, xgb__subsample=0.5, score=-6.654828210685016, total=   3.3s\n",
      "[CV] xgb__gamma=31.622776601683793, xgb__min_child_weight=1, xgb__subsample=1.0 \n",
      "[CV]  xgb__gamma=5.623413251903491, xgb__min_child_weight=5, xgb__subsample=0.5, score=-4.3243648830911905, total=   3.3s\n",
      "[CV] xgb__gamma=31.622776601683793, xgb__min_child_weight=1, xgb__subsample=1.0 \n",
      "[CV]  xgb__gamma=31.622776601683793, xgb__min_child_weight=1, xgb__subsample=1.0, score=-8.028515124272849, total=   3.9s\n"
     ]
    },
    {
     "name": "stdout",
     "output_type": "stream",
     "text": [
      "[CV] xgb__gamma=31.622776601683793, xgb__min_child_weight=1, xgb__subsample=0.75 \n",
      "[CV]  xgb__gamma=31.622776601683793, xgb__min_child_weight=1, xgb__subsample=1.0, score=-6.253190405511983, total=   3.9s\n",
      "[CV] xgb__gamma=31.622776601683793, xgb__min_child_weight=1, xgb__subsample=0.75 \n",
      "[CV]  xgb__gamma=31.622776601683793, xgb__min_child_weight=1, xgb__subsample=1.0, score=-3.2517189942900666, total=   4.1s\n",
      "[CV] xgb__gamma=31.622776601683793, xgb__min_child_weight=1, xgb__subsample=0.75 \n",
      "[CV]  xgb__gamma=31.622776601683793, xgb__min_child_weight=1, xgb__subsample=0.75, score=-8.529482510024721, total=   3.5s\n",
      "[CV]  xgb__gamma=31.622776601683793, xgb__min_child_weight=1, xgb__subsample=0.75, score=-6.593032410891485, total=   3.5s\n",
      "[CV] xgb__gamma=31.622776601683793, xgb__min_child_weight=1, xgb__subsample=0.5 \n",
      "[CV] xgb__gamma=31.622776601683793, xgb__min_child_weight=1, xgb__subsample=0.5 \n",
      "[CV]  xgb__gamma=31.622776601683793, xgb__min_child_weight=1, xgb__subsample=0.75, score=-3.4074161207951423, total=   3.4s\n",
      "[CV] xgb__gamma=31.622776601683793, xgb__min_child_weight=1, xgb__subsample=0.5 \n",
      "[CV]  xgb__gamma=31.622776601683793, xgb__min_child_weight=1, xgb__subsample=0.5, score=-9.599335065905, total=   3.2s\n",
      "[CV]  xgb__gamma=31.622776601683793, xgb__min_child_weight=1, xgb__subsample=0.5, score=-7.110347373908975, total=   3.2s\n",
      "[CV] xgb__gamma=31.622776601683793, xgb__min_child_weight=3, xgb__subsample=1.0 \n",
      "[CV]  xgb__gamma=31.622776601683793, xgb__min_child_weight=1, xgb__subsample=0.5, score=-3.5169157215866593, total=   3.2s\n",
      "[CV] xgb__gamma=31.622776601683793, xgb__min_child_weight=3, xgb__subsample=1.0 \n",
      "[CV] xgb__gamma=31.622776601683793, xgb__min_child_weight=3, xgb__subsample=1.0 \n",
      "[CV]  xgb__gamma=31.622776601683793, xgb__min_child_weight=3, xgb__subsample=1.0, score=-8.438242770451012, total=   4.0s\n",
      "[CV] xgb__gamma=31.622776601683793, xgb__min_child_weight=3, xgb__subsample=0.75 \n",
      "[CV]  xgb__gamma=31.622776601683793, xgb__min_child_weight=3, xgb__subsample=1.0, score=-5.676524167569615, total=   3.9s\n",
      "[CV] xgb__gamma=31.622776601683793, xgb__min_child_weight=3, xgb__subsample=0.75 \n",
      "[CV]  xgb__gamma=31.622776601683793, xgb__min_child_weight=3, xgb__subsample=1.0, score=-3.2383163775964547, total=   4.1s\n",
      "[CV] xgb__gamma=31.622776601683793, xgb__min_child_weight=3, xgb__subsample=0.75 \n"
     ]
    },
    {
     "name": "stderr",
     "output_type": "stream",
     "text": [
      "[Parallel(n_jobs=-2)]: Done  66 tasks      | elapsed:  1.4min\n"
     ]
    },
    {
     "name": "stdout",
     "output_type": "stream",
     "text": [
      "[CV]  xgb__gamma=31.622776601683793, xgb__min_child_weight=3, xgb__subsample=0.75, score=-8.241483770219169, total=   3.7s\n",
      "[CV] xgb__gamma=31.622776601683793, xgb__min_child_weight=3, xgb__subsample=0.5 \n",
      "[CV]  xgb__gamma=31.622776601683793, xgb__min_child_weight=3, xgb__subsample=0.75, score=-6.244332941461331, total=   3.7s\n",
      "[CV] xgb__gamma=31.622776601683793, xgb__min_child_weight=3, xgb__subsample=0.5 \n",
      "[CV]  xgb__gamma=31.622776601683793, xgb__min_child_weight=3, xgb__subsample=0.75, score=-3.619790425400785, total=   3.7s\n",
      "[CV] xgb__gamma=31.622776601683793, xgb__min_child_weight=3, xgb__subsample=0.5 \n",
      "[CV]  xgb__gamma=31.622776601683793, xgb__min_child_weight=3, xgb__subsample=0.5, score=-9.778001164026985, total=   3.3s\n",
      "[CV] xgb__gamma=31.622776601683793, xgb__min_child_weight=5, xgb__subsample=1.0 \n",
      "[CV]  xgb__gamma=31.622776601683793, xgb__min_child_weight=3, xgb__subsample=0.5, score=-6.306059134602561, total=   3.3s\n",
      "[CV] xgb__gamma=31.622776601683793, xgb__min_child_weight=5, xgb__subsample=1.0 \n",
      "[CV]  xgb__gamma=31.622776601683793, xgb__min_child_weight=3, xgb__subsample=0.5, score=-3.9325660691221116, total=   3.4s\n",
      "[CV] xgb__gamma=31.622776601683793, xgb__min_child_weight=5, xgb__subsample=1.0 \n",
      "[CV]  xgb__gamma=31.622776601683793, xgb__min_child_weight=5, xgb__subsample=1.0, score=-8.393083699469333, total=   4.2s\n",
      "[CV] xgb__gamma=31.622776601683793, xgb__min_child_weight=5, xgb__subsample=0.75 \n",
      "[CV]  xgb__gamma=31.622776601683793, xgb__min_child_weight=5, xgb__subsample=1.0, score=-6.849282913540528, total=   4.2s\n",
      "[CV]  xgb__gamma=31.622776601683793, xgb__min_child_weight=5, xgb__subsample=1.0, score=-3.9742911988639786, total=   4.0s\n",
      "[CV] xgb__gamma=31.622776601683793, xgb__min_child_weight=5, xgb__subsample=0.75 \n",
      "[CV] xgb__gamma=31.622776601683793, xgb__min_child_weight=5, xgb__subsample=0.75 \n",
      "[CV]  xgb__gamma=31.622776601683793, xgb__min_child_weight=5, xgb__subsample=0.75, score=-9.212777728557533, total=   3.7s\n",
      "[CV] xgb__gamma=31.622776601683793, xgb__min_child_weight=5, xgb__subsample=0.5 \n",
      "[CV]  xgb__gamma=31.622776601683793, xgb__min_child_weight=5, xgb__subsample=0.75, score=-3.691058376518564, total=   3.6s\n",
      "[CV]  xgb__gamma=31.622776601683793, xgb__min_child_weight=5, xgb__subsample=0.75, score=-6.117342815328979, total=   3.7s\n",
      "[CV] xgb__gamma=31.622776601683793, xgb__min_child_weight=5, xgb__subsample=0.5 \n",
      "[CV] xgb__gamma=31.622776601683793, xgb__min_child_weight=5, xgb__subsample=0.5 \n",
      "[CV]  xgb__gamma=31.622776601683793, xgb__min_child_weight=5, xgb__subsample=0.5, score=-9.737160360232554, total=   3.1s\n",
      "[CV] xgb__gamma=177.82794100389228, xgb__min_child_weight=1, xgb__subsample=1.0 \n",
      "[CV]  xgb__gamma=31.622776601683793, xgb__min_child_weight=5, xgb__subsample=0.5, score=-6.3988534816946006, total=   3.1s\n",
      "[CV]  xgb__gamma=31.622776601683793, xgb__min_child_weight=5, xgb__subsample=0.5, score=-4.398109456782555, total=   3.2s\n",
      "[CV] xgb__gamma=177.82794100389228, xgb__min_child_weight=1, xgb__subsample=1.0 \n",
      "[CV] xgb__gamma=177.82794100389228, xgb__min_child_weight=1, xgb__subsample=1.0 \n",
      "[CV]  xgb__gamma=177.82794100389228, xgb__min_child_weight=1, xgb__subsample=1.0, score=-9.67981011487275, total=   4.0s\n",
      "[CV]  xgb__gamma=177.82794100389228, xgb__min_child_weight=1, xgb__subsample=1.0, score=-7.462605708732507, total=   3.9s\n",
      "[CV] xgb__gamma=177.82794100389228, xgb__min_child_weight=1, xgb__subsample=0.75 \n",
      "[CV]  xgb__gamma=177.82794100389228, xgb__min_child_weight=1, xgb__subsample=1.0, score=-4.16638699660148, total=   3.9s\n",
      "[CV] xgb__gamma=177.82794100389228, xgb__min_child_weight=1, xgb__subsample=0.75 \n",
      "[CV] xgb__gamma=177.82794100389228, xgb__min_child_weight=1, xgb__subsample=0.75 \n",
      "[CV]  xgb__gamma=177.82794100389228, xgb__min_child_weight=1, xgb__subsample=0.75, score=-9.982613594385759, total=   3.6s\n",
      "[CV]  xgb__gamma=177.82794100389228, xgb__min_child_weight=1, xgb__subsample=0.75, score=-7.049739842632562, total=   3.6s\n",
      "[CV]  xgb__gamma=177.82794100389228, xgb__min_child_weight=1, xgb__subsample=0.75, score=-3.973467525069648, total=   3.6s\n",
      "[CV] xgb__gamma=177.82794100389228, xgb__min_child_weight=1, xgb__subsample=0.5 \n",
      "[CV] xgb__gamma=177.82794100389228, xgb__min_child_weight=1, xgb__subsample=0.5 \n",
      "[CV] xgb__gamma=177.82794100389228, xgb__min_child_weight=1, xgb__subsample=0.5 \n",
      "[CV]  xgb__gamma=177.82794100389228, xgb__min_child_weight=1, xgb__subsample=0.5, score=-9.2289188320121, total=   3.4s\n",
      "[CV]  xgb__gamma=177.82794100389228, xgb__min_child_weight=1, xgb__subsample=0.5, score=-8.043012975136698, total=   3.3s\n",
      "[CV]  xgb__gamma=177.82794100389228, xgb__min_child_weight=1, xgb__subsample=0.5, score=-4.2442208755803446, total=   3.3s\n",
      "[CV] xgb__gamma=177.82794100389228, xgb__min_child_weight=3, xgb__subsample=1.0 \n",
      "[CV] xgb__gamma=177.82794100389228, xgb__min_child_weight=3, xgb__subsample=1.0 \n",
      "[CV] xgb__gamma=177.82794100389228, xgb__min_child_weight=3, xgb__subsample=1.0 \n",
      "[CV]  xgb__gamma=177.82794100389228, xgb__min_child_weight=3, xgb__subsample=1.0, score=-10.135327633229911, total=   4.0s\n",
      "[CV] xgb__gamma=177.82794100389228, xgb__min_child_weight=3, xgb__subsample=0.75 \n",
      "[CV]  xgb__gamma=177.82794100389228, xgb__min_child_weight=3, xgb__subsample=1.0, score=-4.157965601789594, total=   3.9s\n",
      "[CV] xgb__gamma=177.82794100389228, xgb__min_child_weight=3, xgb__subsample=0.75 \n",
      "[CV]  xgb__gamma=177.82794100389228, xgb__min_child_weight=3, xgb__subsample=1.0, score=-7.3782908587673885, total=   3.9s\n",
      "[CV] xgb__gamma=177.82794100389228, xgb__min_child_weight=3, xgb__subsample=0.75 \n",
      "[CV]  xgb__gamma=177.82794100389228, xgb__min_child_weight=3, xgb__subsample=0.75, score=-9.864303500891763, total=   3.4s\n",
      "[CV]  xgb__gamma=177.82794100389228, xgb__min_child_weight=3, xgb__subsample=0.75, score=-6.648024504551556, total=   3.4s\n",
      "[CV]  xgb__gamma=177.82794100389228, xgb__min_child_weight=3, xgb__subsample=0.75, score=-4.1511571033286865, total=   3.4s\n",
      "[CV] xgb__gamma=177.82794100389228, xgb__min_child_weight=3, xgb__subsample=0.5 \n",
      "[CV] xgb__gamma=177.82794100389228, xgb__min_child_weight=3, xgb__subsample=0.5 \n",
      "[CV] xgb__gamma=177.82794100389228, xgb__min_child_weight=3, xgb__subsample=0.5 \n",
      "[CV]  xgb__gamma=177.82794100389228, xgb__min_child_weight=3, xgb__subsample=0.5, score=-10.425591980716526, total=   3.2s\n",
      "[CV]  xgb__gamma=177.82794100389228, xgb__min_child_weight=3, xgb__subsample=0.5, score=-7.1999678198566155, total=   3.1s\n",
      "[CV]  xgb__gamma=177.82794100389228, xgb__min_child_weight=3, xgb__subsample=0.5, score=-4.9951117893085035, total=   3.1s\n",
      "[CV] xgb__gamma=177.82794100389228, xgb__min_child_weight=5, xgb__subsample=1.0 \n",
      "[CV] xgb__gamma=177.82794100389228, xgb__min_child_weight=5, xgb__subsample=1.0 \n",
      "[CV] xgb__gamma=177.82794100389228, xgb__min_child_weight=5, xgb__subsample=1.0 \n",
      "[CV]  xgb__gamma=177.82794100389228, xgb__min_child_weight=5, xgb__subsample=1.0, score=-7.581638731811865, total=   4.0s\n",
      "[CV]  xgb__gamma=177.82794100389228, xgb__min_child_weight=5, xgb__subsample=1.0, score=-9.751278553363735, total=   4.1s\n",
      "[CV]  xgb__gamma=177.82794100389228, xgb__min_child_weight=5, xgb__subsample=1.0, score=-4.394203003746124, total=   4.0s\n",
      "[CV] xgb__gamma=177.82794100389228, xgb__min_child_weight=5, xgb__subsample=0.75 \n",
      "[CV] xgb__gamma=177.82794100389228, xgb__min_child_weight=5, xgb__subsample=0.75 \n",
      "[CV] xgb__gamma=177.82794100389228, xgb__min_child_weight=5, xgb__subsample=0.75 \n",
      "[CV]  xgb__gamma=177.82794100389228, xgb__min_child_weight=5, xgb__subsample=0.75, score=-9.513582420665376, total=   3.6s\n",
      "[CV] xgb__gamma=177.82794100389228, xgb__min_child_weight=5, xgb__subsample=0.5 \n",
      "[CV]  xgb__gamma=177.82794100389228, xgb__min_child_weight=5, xgb__subsample=0.75, score=-6.504019817579515, total=   3.5s\n",
      "[CV]  xgb__gamma=177.82794100389228, xgb__min_child_weight=5, xgb__subsample=0.75, score=-4.159573374931177, total=   3.6s\n",
      "[CV] xgb__gamma=177.82794100389228, xgb__min_child_weight=5, xgb__subsample=0.5 \n",
      "[CV] xgb__gamma=177.82794100389228, xgb__min_child_weight=5, xgb__subsample=0.5 \n",
      "[CV]  xgb__gamma=177.82794100389228, xgb__min_child_weight=5, xgb__subsample=0.5, score=-7.7684919711435505, total=   3.1s\n",
      "[CV]  xgb__gamma=177.82794100389228, xgb__min_child_weight=5, xgb__subsample=0.5, score=-10.521981244544127, total=   3.2s\n"
     ]
    },
    {
     "name": "stdout",
     "output_type": "stream",
     "text": [
      "[CV] xgb__gamma=1000.0, xgb__min_child_weight=1, xgb__subsample=1.0 ..\n",
      "[CV]  xgb__gamma=177.82794100389228, xgb__min_child_weight=5, xgb__subsample=0.5, score=-4.898129503898384, total=   3.1s\n",
      "[CV] xgb__gamma=1000.0, xgb__min_child_weight=1, xgb__subsample=1.0 ..\n",
      "[CV] xgb__gamma=1000.0, xgb__min_child_weight=1, xgb__subsample=1.0 ..\n",
      "[CV]  xgb__gamma=1000.0, xgb__min_child_weight=1, xgb__subsample=1.0, score=-13.509836254783105, total=   4.0s\n",
      "[CV] xgb__gamma=1000.0, xgb__min_child_weight=1, xgb__subsample=0.75 .\n",
      "[CV]  xgb__gamma=1000.0, xgb__min_child_weight=1, xgb__subsample=1.0, score=-11.063550421509532, total=   4.0s\n",
      "[CV]  xgb__gamma=1000.0, xgb__min_child_weight=1, xgb__subsample=1.0, score=-6.535936578645644, total=   4.0s\n",
      "[CV] xgb__gamma=1000.0, xgb__min_child_weight=1, xgb__subsample=0.75 .\n",
      "[CV] xgb__gamma=1000.0, xgb__min_child_weight=1, xgb__subsample=0.75 .\n",
      "[CV]  xgb__gamma=1000.0, xgb__min_child_weight=1, xgb__subsample=0.75, score=-12.366689725370252, total=   3.5s\n",
      "[CV]  xgb__gamma=1000.0, xgb__min_child_weight=1, xgb__subsample=0.75, score=-6.310338398531464, total=   3.5s\n",
      "[CV] xgb__gamma=1000.0, xgb__min_child_weight=1, xgb__subsample=0.5 ..\n",
      "[CV]  xgb__gamma=1000.0, xgb__min_child_weight=1, xgb__subsample=0.75, score=-10.381824959873176, total=   3.6s\n",
      "[CV] xgb__gamma=1000.0, xgb__min_child_weight=1, xgb__subsample=0.5 ..\n",
      "[CV] xgb__gamma=1000.0, xgb__min_child_weight=1, xgb__subsample=0.5 ..\n",
      "[CV]  xgb__gamma=1000.0, xgb__min_child_weight=1, xgb__subsample=0.5, score=-12.941415391968702, total=   3.3s\n",
      "[CV]  xgb__gamma=1000.0, xgb__min_child_weight=1, xgb__subsample=0.5, score=-11.221180133700313, total=   3.2s\n",
      "[CV] xgb__gamma=1000.0, xgb__min_child_weight=3, xgb__subsample=1.0 ..\n",
      "[CV]  xgb__gamma=1000.0, xgb__min_child_weight=1, xgb__subsample=0.5, score=-6.872322546232607, total=   3.2s\n",
      "[CV] xgb__gamma=1000.0, xgb__min_child_weight=3, xgb__subsample=1.0 ..\n",
      "[CV] xgb__gamma=1000.0, xgb__min_child_weight=3, xgb__subsample=1.0 ..\n",
      "[CV]  xgb__gamma=1000.0, xgb__min_child_weight=3, xgb__subsample=1.0, score=-13.509836254783105, total=   4.1s\n",
      "[CV] xgb__gamma=1000.0, xgb__min_child_weight=3, xgb__subsample=0.75 .\n",
      "[CV]  xgb__gamma=1000.0, xgb__min_child_weight=3, xgb__subsample=1.0, score=-9.646967432009312, total=   4.0s\n",
      "[CV] xgb__gamma=1000.0, xgb__min_child_weight=3, xgb__subsample=0.75 .\n",
      "[CV]  xgb__gamma=1000.0, xgb__min_child_weight=3, xgb__subsample=1.0, score=-6.074320308284139, total=   4.0s\n",
      "[CV] xgb__gamma=1000.0, xgb__min_child_weight=3, xgb__subsample=0.75 .\n",
      "[CV]  xgb__gamma=1000.0, xgb__min_child_weight=3, xgb__subsample=0.75, score=-12.366689725370252, total=   3.6s\n",
      "[CV] xgb__gamma=1000.0, xgb__min_child_weight=3, xgb__subsample=0.5 ..\n",
      "[CV]  xgb__gamma=1000.0, xgb__min_child_weight=3, xgb__subsample=0.75, score=-8.893705922236828, total=   3.6s\n",
      "[CV]  xgb__gamma=1000.0, xgb__min_child_weight=3, xgb__subsample=0.75, score=-6.377405085678793, total=   3.6s\n",
      "[CV] xgb__gamma=1000.0, xgb__min_child_weight=3, xgb__subsample=0.5 ..\n",
      "[CV] xgb__gamma=1000.0, xgb__min_child_weight=3, xgb__subsample=0.5 ..\n",
      "[CV]  xgb__gamma=1000.0, xgb__min_child_weight=3, xgb__subsample=0.5, score=-13.161980015257186, total=   3.4s\n",
      "[CV] xgb__gamma=1000.0, xgb__min_child_weight=5, xgb__subsample=1.0 ..\n",
      "[CV]  xgb__gamma=1000.0, xgb__min_child_weight=3, xgb__subsample=0.5, score=-9.970928439027677, total=   3.4s\n",
      "[CV] xgb__gamma=1000.0, xgb__min_child_weight=5, xgb__subsample=1.0 ..\n",
      "[CV]  xgb__gamma=1000.0, xgb__min_child_weight=3, xgb__subsample=0.5, score=-6.927439331120406, total=   3.4s\n",
      "[CV] xgb__gamma=1000.0, xgb__min_child_weight=5, xgb__subsample=1.0 ..\n",
      "[CV]  xgb__gamma=1000.0, xgb__min_child_weight=5, xgb__subsample=1.0, score=-13.698548117831187, total=   4.1s\n",
      "[CV] xgb__gamma=1000.0, xgb__min_child_weight=5, xgb__subsample=0.75 .\n",
      "[CV]  xgb__gamma=1000.0, xgb__min_child_weight=5, xgb__subsample=1.0, score=-11.001230165139823, total=   4.1s\n",
      "[CV] xgb__gamma=1000.0, xgb__min_child_weight=5, xgb__subsample=0.75 .\n",
      "[CV]  xgb__gamma=1000.0, xgb__min_child_weight=5, xgb__subsample=1.0, score=-6.505116018722925, total=   4.1s\n",
      "[CV] xgb__gamma=1000.0, xgb__min_child_weight=5, xgb__subsample=0.75 .\n",
      "[CV]  xgb__gamma=1000.0, xgb__min_child_weight=5, xgb__subsample=0.75, score=-12.339943970514772, total=   3.7s\n",
      "[CV]  xgb__gamma=1000.0, xgb__min_child_weight=5, xgb__subsample=0.75, score=-9.311815594709145, total=   3.6s\n",
      "[CV] xgb__gamma=1000.0, xgb__min_child_weight=5, xgb__subsample=0.5 ..\n",
      "[CV] xgb__gamma=1000.0, xgb__min_child_weight=5, xgb__subsample=0.5 ..\n",
      "[CV]  xgb__gamma=1000.0, xgb__min_child_weight=5, xgb__subsample=0.75, score=-6.03572258316143, total=   3.7s\n",
      "[CV] xgb__gamma=1000.0, xgb__min_child_weight=5, xgb__subsample=0.5 ..\n",
      "[CV]  xgb__gamma=1000.0, xgb__min_child_weight=5, xgb__subsample=0.5, score=-12.730685530319423, total=   3.3s\n",
      "[CV]  xgb__gamma=1000.0, xgb__min_child_weight=5, xgb__subsample=0.5, score=-10.46619723299949, total=   3.2s\n",
      "[CV]  xgb__gamma=1000.0, xgb__min_child_weight=5, xgb__subsample=0.5, score=-7.0204098847818335, total=   3.3s\n"
     ]
    },
    {
     "name": "stderr",
     "output_type": "stream",
     "text": [
      "[Parallel(n_jobs=-2)]: Done 135 out of 135 | elapsed:  2.8min finished\n"
     ]
    },
    {
     "data": {
      "text/plain": [
       "GridSearchCV(cv=3, error_score='raise',\n",
       "       estimator=Pipeline(memory=None,\n",
       "     steps=[('scaler', StandardScaler(copy=True, with_mean=True, with_std=True)), ('xgb', XGBRegressor(base_score=0.5, booster='gbtree', colsample_bylevel=1,\n",
       "       colsample_bytree=1, eval_metric='rmse', gamma=0, learning_rate=0.1,\n",
       "       max_delta_step=0, max_depth=...ate=0, reg_alpha=0, reg_lambda=1, scale_pos_weight=1,\n",
       "       seed=None, silent=True, subsample=1))]),\n",
       "       fit_params=None, iid=True, n_jobs=-2,\n",
       "       param_grid={'xgb__gamma': array([   1.     ,    5.62341,   31.62278,  177.82794, 1000.     ]), 'xgb__min_child_weight': [1, 3, 5], 'xgb__subsample': [1.0, 0.75, 0.5]},\n",
       "       pre_dispatch='2*n_jobs', refit=True, return_train_score='warn',\n",
       "       scoring='neg_mean_squared_error', verbose=5)"
      ]
     },
     "execution_count": 78,
     "metadata": {},
     "output_type": "execute_result"
    }
   ],
   "source": [
    "gridxgb.fit(X_train[limitedset], y_train[target])"
   ]
  },
  {
   "cell_type": "code",
   "execution_count": 79,
   "metadata": {},
   "outputs": [
    {
     "data": {
      "text/plain": [
       "'VALTOT'"
      ]
     },
     "execution_count": 79,
     "metadata": {},
     "output_type": "execute_result"
    }
   ],
   "source": [
    "target"
   ]
  },
  {
   "cell_type": "code",
   "execution_count": 80,
   "metadata": {},
   "outputs": [
    {
     "data": {
      "text/plain": [
       "{'xgb__gamma': 5.623413251903491,\n",
       " 'xgb__min_child_weight': 3,\n",
       " 'xgb__subsample': 1.0}"
      ]
     },
     "execution_count": 80,
     "metadata": {},
     "output_type": "execute_result"
    }
   ],
   "source": [
    "gridxgb.best_params_"
   ]
  },
  {
   "cell_type": "code",
   "execution_count": 81,
   "metadata": {},
   "outputs": [
    {
     "data": {
      "text/plain": [
       "-5.469922359500602"
      ]
     },
     "execution_count": 81,
     "metadata": {},
     "output_type": "execute_result"
    }
   ],
   "source": [
    "gridxgb.best_score_"
   ]
  },
  {
   "cell_type": "code",
   "execution_count": 82,
   "metadata": {},
   "outputs": [
    {
     "data": {
      "text/plain": [
       "17.384285049363932"
      ]
     },
     "execution_count": 82,
     "metadata": {},
     "output_type": "execute_result"
    }
   ],
   "source": [
    "mean_absolute_percentage_error(y_test[target], gridxgb.predict(X_test[limitedset]))"
   ]
  },
  {
   "cell_type": "code",
   "execution_count": 83,
   "metadata": {},
   "outputs": [
    {
     "data": {
      "text/plain": [
       "4.211157578468207"
      ]
     },
     "execution_count": 83,
     "metadata": {},
     "output_type": "execute_result"
    }
   ],
   "source": [
    "mean_squared_error(y_test[target], gridxgb.predict(X_test[limitedset]))"
   ]
  },
  {
   "cell_type": "code",
   "execution_count": 84,
   "metadata": {},
   "outputs": [
    {
     "data": {
      "text/plain": [
       "1.5933675063133832"
      ]
     },
     "execution_count": 84,
     "metadata": {},
     "output_type": "execute_result"
    }
   ],
   "source": [
    "mean_squared_error(y_train[target], gridxgb.predict(X_train[limitedset]))"
   ]
  },
  {
   "cell_type": "code",
   "execution_count": 86,
   "metadata": {},
   "outputs": [
    {
     "data": {
      "image/png": "[encoded data removed]",
      "text/plain": [
       "<Figure size 1080x360 with 1 Axes>"
      ]
     },
     "metadata": {},
     "output_type": "display_data"
    }
   ],
   "source": [
    "featimp = list(gridxgb.best_estimator_.named_steps['xgb'].feature_importances_)\n",
    "df = pd.DataFrame({'feature_importance':featimp}, index =limitedset)\n",
    "df = df.sort_values('feature_importance', ascending=False)\n",
    "df[:50].plot.bar(figsize=(15,5))\n",
    "plt.title(f'Light gradient boost - feature Importance for {target}')\n",
    "plt.show()"
   ]
  },
  {
   "cell_type": "markdown",
   "metadata": {},
   "source": [
    "# BOX-COX prediction"
   ]
  },
  {
   "cell_type": "code",
   "execution_count": 87,
   "metadata": {},
   "outputs": [],
   "source": [
    "regpiplog = Pipeline(pipe)"
   ]
  },
  {
   "cell_type": "code",
   "execution_count": 88,
   "metadata": {},
   "outputs": [
    {
     "data": {
      "text/plain": [
       "Pipeline(memory=None,\n",
       "     steps=[('scaler', StandardScaler(copy=True, with_mean=True, with_std=True)), ('xgb', XGBRegressor(base_score=0.5, booster='gbtree', colsample_bylevel=1,\n",
       "       colsample_bytree=1, eval_metric='rmse', gamma=0, learning_rate=0.1,\n",
       "       max_delta_step=0, max_depth=3, min_child_weight=1, missing=None,\n",
       "       n_estimators=100, n_jobs=1, nthread=None, objective='reg:linear',\n",
       "       random_state=0, reg_alpha=0, reg_lambda=1, scale_pos_weight=1,\n",
       "       seed=None, silent=True, subsample=1))])"
      ]
     },
     "execution_count": 88,
     "metadata": {},
     "output_type": "execute_result"
    }
   ],
   "source": [
    "regpiplog.fit(X_train[limitedset], y_train['logtarget'])"
   ]
  },
  {
   "cell_type": "code",
   "execution_count": 89,
   "metadata": {},
   "outputs": [],
   "source": [
    "param_grid = {\n",
    "        #'xgb__max_depth':[0,6,10],\n",
    "        'xgb__gamma':np.logspace(0,3,5),\n",
    "        'xgb__min_child_weight':[1,3,5],\n",
    "        'xgb__subsample':[1., .75, .5]\n",
    "    }\n",
    "\n",
    "#MSE version\n",
    "gridxgblog = GridSearchCV(regpiplog, param_grid, cv=3, n_jobs=-2, scoring='neg_mean_absolute_error', verbose=5)\n",
    "\n",
    "#MAPE version\n",
    "#gridxgblog = GridSearchCV(regpiplog, param_grid, cv=3, n_jobs=-2, scoring=mape_scorer, verbose=2)"
   ]
  },
  {
   "cell_type": "code",
   "execution_count": 90,
   "metadata": {},
   "outputs": [
    {
     "name": "stdout",
     "output_type": "stream",
     "text": [
      "Fitting 3 folds for each of 45 candidates, totalling 135 fits\n",
      "[CV] xgb__gamma=1.0, xgb__min_child_weight=1, xgb__subsample=1.0 .....\n",
      "[CV] xgb__gamma=1.0, xgb__min_child_weight=1, xgb__subsample=1.0 .....\n",
      "[CV] xgb__gamma=1.0, xgb__min_child_weight=1, xgb__subsample=1.0 .....\n",
      "[CV]  xgb__gamma=1.0, xgb__min_child_weight=1, xgb__subsample=1.0, score=-0.12753477792057127, total=   2.4s\n",
      "[CV] xgb__gamma=1.0, xgb__min_child_weight=1, xgb__subsample=0.75 ....\n",
      "[CV]  xgb__gamma=1.0, xgb__min_child_weight=1, xgb__subsample=1.0, score=-0.12478849064715516, total=   2.4s\n",
      "[CV] xgb__gamma=1.0, xgb__min_child_weight=1, xgb__subsample=0.75 ....\n",
      "[CV]  xgb__gamma=1.0, xgb__min_child_weight=1, xgb__subsample=1.0, score=-0.12421684441259935, total=   2.5s\n",
      "[CV] xgb__gamma=1.0, xgb__min_child_weight=1, xgb__subsample=0.75 ....\n",
      "[CV]  xgb__gamma=1.0, xgb__min_child_weight=1, xgb__subsample=0.75, score=-0.12533021942661557, total=   2.1s\n",
      "[CV] xgb__gamma=1.0, xgb__min_child_weight=1, xgb__subsample=0.5 .....\n",
      "[CV]  xgb__gamma=1.0, xgb__min_child_weight=1, xgb__subsample=0.75, score=-0.12279851014285004, total=   2.1s\n",
      "[CV] xgb__gamma=1.0, xgb__min_child_weight=1, xgb__subsample=0.5 .....\n",
      "[CV]  xgb__gamma=1.0, xgb__min_child_weight=1, xgb__subsample=0.75, score=-0.12143256536693768, total=   2.1s\n",
      "[CV] xgb__gamma=1.0, xgb__min_child_weight=1, xgb__subsample=0.5 .....\n",
      "[CV]  xgb__gamma=1.0, xgb__min_child_weight=1, xgb__subsample=0.5, score=-0.12792438325826336, total=   2.0s\n",
      "[CV]  xgb__gamma=1.0, xgb__min_child_weight=1, xgb__subsample=0.5, score=-0.12516159978950706, total=   1.9s\n",
      "[CV] xgb__gamma=1.0, xgb__min_child_weight=3, xgb__subsample=1.0 .....\n",
      "[CV]  xgb__gamma=1.0, xgb__min_child_weight=1, xgb__subsample=0.5, score=-0.12507160216952956, total=   2.0s\n",
      "[CV] xgb__gamma=1.0, xgb__min_child_weight=3, xgb__subsample=1.0 .....\n",
      "[CV] xgb__gamma=1.0, xgb__min_child_weight=3, xgb__subsample=1.0 .....\n",
      "[CV]  xgb__gamma=1.0, xgb__min_child_weight=3, xgb__subsample=1.0, score=-0.12753477792057127, total=   2.4s\n",
      "[CV]  xgb__gamma=1.0, xgb__min_child_weight=3, xgb__subsample=1.0, score=-0.12478849064715516, total=   2.4s\n",
      "[CV]  xgb__gamma=1.0, xgb__min_child_weight=3, xgb__subsample=1.0, score=-0.12479373389963885, total=   2.4s\n"
     ]
    },
    {
     "name": "stderr",
     "output_type": "stream",
     "text": [
      "[Parallel(n_jobs=-2)]: Done  12 tasks      | elapsed:    9.4s\n"
     ]
    },
    {
     "name": "stdout",
     "output_type": "stream",
     "text": [
      "[CV] xgb__gamma=1.0, xgb__min_child_weight=3, xgb__subsample=0.75 ....\n",
      "[CV] xgb__gamma=1.0, xgb__min_child_weight=3, xgb__subsample=0.75 ....\n",
      "[CV] xgb__gamma=1.0, xgb__min_child_weight=3, xgb__subsample=0.75 ....\n",
      "[CV]  xgb__gamma=1.0, xgb__min_child_weight=3, xgb__subsample=0.75, score=-0.12533021942661557, total=   2.5s\n",
      "[CV] xgb__gamma=1.0, xgb__min_child_weight=3, xgb__subsample=0.5 .....\n",
      "[CV]  xgb__gamma=1.0, xgb__min_child_weight=3, xgb__subsample=0.75, score=-0.12279851014285004, total=   2.5s\n",
      "[CV] xgb__gamma=1.0, xgb__min_child_weight=3, xgb__subsample=0.5 .....\n",
      "[CV]  xgb__gamma=1.0, xgb__min_child_weight=3, xgb__subsample=0.75, score=-0.12143256536693768, total=   2.3s\n",
      "[CV] xgb__gamma=1.0, xgb__min_child_weight=3, xgb__subsample=0.5 .....\n",
      "[CV]  xgb__gamma=1.0, xgb__min_child_weight=3, xgb__subsample=0.5, score=-0.12792438325826336, total=   2.2s\n",
      "[CV] xgb__gamma=1.0, xgb__min_child_weight=5, xgb__subsample=1.0 .....\n",
      "[CV]  xgb__gamma=1.0, xgb__min_child_weight=3, xgb__subsample=0.5, score=-0.12516159978950706, total=   2.1s\n",
      "[CV]  xgb__gamma=1.0, xgb__min_child_weight=3, xgb__subsample=0.5, score=-0.12507160216952956, total=   2.2s\n",
      "[CV] xgb__gamma=1.0, xgb__min_child_weight=5, xgb__subsample=1.0 .....\n",
      "[CV] xgb__gamma=1.0, xgb__min_child_weight=5, xgb__subsample=1.0 .....\n",
      "[CV]  xgb__gamma=1.0, xgb__min_child_weight=5, xgb__subsample=1.0, score=-0.12753477792057127, total=   2.6s\n",
      "[CV] xgb__gamma=1.0, xgb__min_child_weight=5, xgb__subsample=0.75 ....\n",
      "[CV]  xgb__gamma=1.0, xgb__min_child_weight=5, xgb__subsample=1.0, score=-0.12478849064715516, total=   2.6s\n",
      "[CV] xgb__gamma=1.0, xgb__min_child_weight=5, xgb__subsample=0.75 ....\n",
      "[CV]  xgb__gamma=1.0, xgb__min_child_weight=5, xgb__subsample=1.0, score=-0.12479373389963885, total=   2.6s\n",
      "[CV] xgb__gamma=1.0, xgb__min_child_weight=5, xgb__subsample=0.75 ....\n",
      "[CV]  xgb__gamma=1.0, xgb__min_child_weight=5, xgb__subsample=0.75, score=-0.12533021942661557, total=   2.2s\n",
      "[CV]  xgb__gamma=1.0, xgb__min_child_weight=5, xgb__subsample=0.75, score=-0.12279851014285004, total=   2.2s\n",
      "[CV] xgb__gamma=1.0, xgb__min_child_weight=5, xgb__subsample=0.5 .....\n",
      "[CV]  xgb__gamma=1.0, xgb__min_child_weight=5, xgb__subsample=0.75, score=-0.12143256536693768, total=   2.3s\n",
      "[CV] xgb__gamma=1.0, xgb__min_child_weight=5, xgb__subsample=0.5 .....\n",
      "[CV] xgb__gamma=1.0, xgb__min_child_weight=5, xgb__subsample=0.5 .....\n",
      "[CV]  xgb__gamma=1.0, xgb__min_child_weight=5, xgb__subsample=0.5, score=-0.12765055600586012, total=   1.9s\n",
      "[CV] xgb__gamma=5.623413251903491, xgb__min_child_weight=1, xgb__subsample=1.0 \n",
      "[CV]  xgb__gamma=1.0, xgb__min_child_weight=5, xgb__subsample=0.5, score=-0.12515479282335823, total=   1.9s\n",
      "[CV] xgb__gamma=5.623413251903491, xgb__min_child_weight=1, xgb__subsample=1.0 \n",
      "[CV]  xgb__gamma=1.0, xgb__min_child_weight=5, xgb__subsample=0.5, score=-0.12507160216952956, total=   2.0s\n",
      "[CV] xgb__gamma=5.623413251903491, xgb__min_child_weight=1, xgb__subsample=1.0 \n",
      "[CV]  xgb__gamma=5.623413251903491, xgb__min_child_weight=1, xgb__subsample=1.0, score=-0.1587977804267064, total=   2.4s\n",
      "[CV] xgb__gamma=5.623413251903491, xgb__min_child_weight=1, xgb__subsample=0.75 \n",
      "[CV]  xgb__gamma=5.623413251903491, xgb__min_child_weight=1, xgb__subsample=1.0, score=-0.16058077820325814, total=   2.4s\n",
      "[CV] xgb__gamma=5.623413251903491, xgb__min_child_weight=1, xgb__subsample=0.75 \n",
      "[CV]  xgb__gamma=5.623413251903491, xgb__min_child_weight=1, xgb__subsample=1.0, score=-0.1585250331824218, total=   2.4s\n",
      "[CV] xgb__gamma=5.623413251903491, xgb__min_child_weight=1, xgb__subsample=0.75 \n",
      "[CV]  xgb__gamma=5.623413251903491, xgb__min_child_weight=1, xgb__subsample=0.75, score=-0.15588231627167465, total=   2.1s\n",
      "[CV]  xgb__gamma=5.623413251903491, xgb__min_child_weight=1, xgb__subsample=0.75, score=-0.16158752932205878, total=   2.2s\n",
      "[CV]  xgb__gamma=5.623413251903491, xgb__min_child_weight=1, xgb__subsample=0.75, score=-0.15686015229243866, total=   2.2s\n",
      "[CV] xgb__gamma=5.623413251903491, xgb__min_child_weight=1, xgb__subsample=0.5 \n",
      "[CV] xgb__gamma=5.623413251903491, xgb__min_child_weight=1, xgb__subsample=0.5 \n",
      "[CV] xgb__gamma=5.623413251903491, xgb__min_child_weight=1, xgb__subsample=0.5 \n",
      "[CV]  xgb__gamma=5.623413251903491, xgb__min_child_weight=1, xgb__subsample=0.5, score=-0.17095256439134074, total=   2.0s\n",
      "[CV]  xgb__gamma=5.623413251903491, xgb__min_child_weight=1, xgb__subsample=0.5, score=-0.16769310815993674, total=   1.9s\n",
      "[CV] xgb__gamma=5.623413251903491, xgb__min_child_weight=3, xgb__subsample=1.0 \n",
      "[CV] xgb__gamma=5.623413251903491, xgb__min_child_weight=3, xgb__subsample=1.0 \n",
      "[CV]  xgb__gamma=5.623413251903491, xgb__min_child_weight=1, xgb__subsample=0.5, score=-0.16927053941019482, total=   2.0s\n",
      "[CV] xgb__gamma=5.623413251903491, xgb__min_child_weight=3, xgb__subsample=1.0 \n",
      "[CV]  xgb__gamma=5.623413251903491, xgb__min_child_weight=3, xgb__subsample=1.0, score=-0.16058077820325814, total=   2.4s\n",
      "[CV]  xgb__gamma=5.623413251903491, xgb__min_child_weight=3, xgb__subsample=1.0, score=-0.1587977804267064, total=   2.5s\n",
      "[CV] xgb__gamma=5.623413251903491, xgb__min_child_weight=3, xgb__subsample=0.75 \n",
      "[CV]  xgb__gamma=5.623413251903491, xgb__min_child_weight=3, xgb__subsample=1.0, score=-0.1585250331824218, total=   2.4s\n",
      "[CV] xgb__gamma=5.623413251903491, xgb__min_child_weight=3, xgb__subsample=0.75 \n",
      "[CV] xgb__gamma=5.623413251903491, xgb__min_child_weight=3, xgb__subsample=0.75 \n",
      "[CV]  xgb__gamma=5.623413251903491, xgb__min_child_weight=3, xgb__subsample=0.75, score=-0.16158752932205878, total=   2.2s\n",
      "[CV] xgb__gamma=5.623413251903491, xgb__min_child_weight=3, xgb__subsample=0.5 \n",
      "[CV]  xgb__gamma=5.623413251903491, xgb__min_child_weight=3, xgb__subsample=0.75, score=-0.15588231627167465, total=   2.1s\n",
      "[CV] xgb__gamma=5.623413251903491, xgb__min_child_weight=3, xgb__subsample=0.5 \n",
      "[CV]  xgb__gamma=5.623413251903491, xgb__min_child_weight=3, xgb__subsample=0.75, score=-0.15686015229243866, total=   2.1s\n",
      "[CV] xgb__gamma=5.623413251903491, xgb__min_child_weight=3, xgb__subsample=0.5 \n",
      "[CV]  xgb__gamma=5.623413251903491, xgb__min_child_weight=3, xgb__subsample=0.5, score=-0.17095256439134074, total=   1.9s\n",
      "[CV]  xgb__gamma=5.623413251903491, xgb__min_child_weight=3, xgb__subsample=0.5, score=-0.16769310815993674, total=   1.9s\n",
      "[CV]  xgb__gamma=5.623413251903491, xgb__min_child_weight=3, xgb__subsample=0.5, score=-0.16927053941019482, total=   1.9s\n",
      "[CV] xgb__gamma=5.623413251903491, xgb__min_child_weight=5, xgb__subsample=1.0 \n",
      "[CV] xgb__gamma=5.623413251903491, xgb__min_child_weight=5, xgb__subsample=1.0 \n",
      "[CV] xgb__gamma=5.623413251903491, xgb__min_child_weight=5, xgb__subsample=1.0 \n",
      "[CV]  xgb__gamma=5.623413251903491, xgb__min_child_weight=5, xgb__subsample=1.0, score=-0.1587977804267064, total=   2.2s\n",
      "[CV] xgb__gamma=5.623413251903491, xgb__min_child_weight=5, xgb__subsample=0.75 \n",
      "[CV]  xgb__gamma=5.623413251903491, xgb__min_child_weight=5, xgb__subsample=1.0, score=-0.16058077820325814, total=   2.2s\n",
      "[CV]  xgb__gamma=5.623413251903491, xgb__min_child_weight=5, xgb__subsample=1.0, score=-0.1585250331824218, total=   2.3s\n",
      "[CV] xgb__gamma=5.623413251903491, xgb__min_child_weight=5, xgb__subsample=0.75 \n",
      "[CV] xgb__gamma=5.623413251903491, xgb__min_child_weight=5, xgb__subsample=0.75 \n",
      "[CV]  xgb__gamma=5.623413251903491, xgb__min_child_weight=5, xgb__subsample=0.75, score=-0.16158752932205878, total=   2.0s\n",
      "[CV]  xgb__gamma=5.623413251903491, xgb__min_child_weight=5, xgb__subsample=0.75, score=-0.15588231627167465, total=   2.0s\n",
      "[CV]  xgb__gamma=5.623413251903491, xgb__min_child_weight=5, xgb__subsample=0.75, score=-0.15686015229243866, total=   2.0s\n",
      "[CV] xgb__gamma=5.623413251903491, xgb__min_child_weight=5, xgb__subsample=0.5 \n",
      "[CV] xgb__gamma=5.623413251903491, xgb__min_child_weight=5, xgb__subsample=0.5 \n",
      "[CV] xgb__gamma=5.623413251903491, xgb__min_child_weight=5, xgb__subsample=0.5 \n",
      "[CV]  xgb__gamma=5.623413251903491, xgb__min_child_weight=5, xgb__subsample=0.5, score=-0.17095256439134074, total=   1.9s\n",
      "[CV] xgb__gamma=31.622776601683793, xgb__min_child_weight=1, xgb__subsample=1.0 \n",
      "[CV]  xgb__gamma=5.623413251903491, xgb__min_child_weight=5, xgb__subsample=0.5, score=-0.16769310815993674, total=   1.9s\n",
      "[CV] xgb__gamma=31.622776601683793, xgb__min_child_weight=1, xgb__subsample=1.0 \n"
     ]
    },
    {
     "name": "stdout",
     "output_type": "stream",
     "text": [
      "[CV]  xgb__gamma=5.623413251903491, xgb__min_child_weight=5, xgb__subsample=0.5, score=-0.16927053941019482, total=   2.0s\n",
      "[CV] xgb__gamma=31.622776601683793, xgb__min_child_weight=1, xgb__subsample=1.0 \n",
      "[CV]  xgb__gamma=31.622776601683793, xgb__min_child_weight=1, xgb__subsample=1.0, score=-0.25811419773678096, total=   2.4s\n",
      "[CV] xgb__gamma=31.622776601683793, xgb__min_child_weight=1, xgb__subsample=0.75 \n",
      "[CV]  xgb__gamma=31.622776601683793, xgb__min_child_weight=1, xgb__subsample=1.0, score=-0.2502015160490207, total=   2.4s\n",
      "[CV]  xgb__gamma=31.622776601683793, xgb__min_child_weight=1, xgb__subsample=1.0, score=-0.2386699281053212, total=   2.4s\n",
      "[CV] xgb__gamma=31.622776601683793, xgb__min_child_weight=1, xgb__subsample=0.75 \n",
      "[CV] xgb__gamma=31.622776601683793, xgb__min_child_weight=1, xgb__subsample=0.75 \n",
      "[CV]  xgb__gamma=31.622776601683793, xgb__min_child_weight=1, xgb__subsample=0.75, score=-0.26035572699365633, total=   2.1s\n",
      "[CV] xgb__gamma=31.622776601683793, xgb__min_child_weight=1, xgb__subsample=0.5 \n",
      "[CV]  xgb__gamma=31.622776601683793, xgb__min_child_weight=1, xgb__subsample=0.75, score=-0.25871741126529824, total=   2.1s\n",
      "[CV]  xgb__gamma=31.622776601683793, xgb__min_child_weight=1, xgb__subsample=0.75, score=-0.25904666609769034, total=   2.1s\n",
      "[CV] xgb__gamma=31.622776601683793, xgb__min_child_weight=1, xgb__subsample=0.5 \n",
      "[CV] xgb__gamma=31.622776601683793, xgb__min_child_weight=1, xgb__subsample=0.5 \n",
      "[CV]  xgb__gamma=31.622776601683793, xgb__min_child_weight=1, xgb__subsample=0.5, score=-0.28163675217372497, total=   1.9s\n",
      "[CV] xgb__gamma=31.622776601683793, xgb__min_child_weight=3, xgb__subsample=1.0 \n",
      "[CV]  xgb__gamma=31.622776601683793, xgb__min_child_weight=1, xgb__subsample=0.5, score=-0.28778140510113565, total=   1.9s\n",
      "[CV]  xgb__gamma=31.622776601683793, xgb__min_child_weight=1, xgb__subsample=0.5, score=-0.2913779146985252, total=   1.9s\n",
      "[CV] xgb__gamma=31.622776601683793, xgb__min_child_weight=3, xgb__subsample=1.0 \n",
      "[CV] xgb__gamma=31.622776601683793, xgb__min_child_weight=3, xgb__subsample=1.0 \n",
      "[CV]  xgb__gamma=31.622776601683793, xgb__min_child_weight=3, xgb__subsample=1.0, score=-0.25811419773678096, total=   2.4s\n",
      "[CV] xgb__gamma=31.622776601683793, xgb__min_child_weight=3, xgb__subsample=0.75 \n",
      "[CV]  xgb__gamma=31.622776601683793, xgb__min_child_weight=3, xgb__subsample=1.0, score=-0.2502015160490207, total=   2.4s\n",
      "[CV]  xgb__gamma=31.622776601683793, xgb__min_child_weight=3, xgb__subsample=1.0, score=-0.2386699281053212, total=   2.4s\n",
      "[CV] xgb__gamma=31.622776601683793, xgb__min_child_weight=3, xgb__subsample=0.75 \n",
      "[CV] xgb__gamma=31.622776601683793, xgb__min_child_weight=3, xgb__subsample=0.75 \n"
     ]
    },
    {
     "name": "stderr",
     "output_type": "stream",
     "text": [
      "[Parallel(n_jobs=-2)]: Done  66 tasks      | elapsed:   51.6s\n"
     ]
    },
    {
     "name": "stdout",
     "output_type": "stream",
     "text": [
      "[CV]  xgb__gamma=31.622776601683793, xgb__min_child_weight=3, xgb__subsample=0.75, score=-0.26035572699365633, total=   2.2s\n",
      "[CV] xgb__gamma=31.622776601683793, xgb__min_child_weight=3, xgb__subsample=0.5 \n",
      "[CV]  xgb__gamma=31.622776601683793, xgb__min_child_weight=3, xgb__subsample=0.75, score=-0.25871741126529824, total=   2.1s\n",
      "[CV] xgb__gamma=31.622776601683793, xgb__min_child_weight=3, xgb__subsample=0.5 \n",
      "[CV]  xgb__gamma=31.622776601683793, xgb__min_child_weight=3, xgb__subsample=0.75, score=-0.25904666609769034, total=   2.2s\n",
      "[CV] xgb__gamma=31.622776601683793, xgb__min_child_weight=3, xgb__subsample=0.5 \n",
      "[CV]  xgb__gamma=31.622776601683793, xgb__min_child_weight=3, xgb__subsample=0.5, score=-0.28163675217372497, total=   2.0s\n",
      "[CV]  xgb__gamma=31.622776601683793, xgb__min_child_weight=3, xgb__subsample=0.5, score=-0.2913779146985252, total=   2.0s\n",
      "[CV]  xgb__gamma=31.622776601683793, xgb__min_child_weight=3, xgb__subsample=0.5, score=-0.28778140510113565, total=   2.0s\n",
      "[CV] xgb__gamma=31.622776601683793, xgb__min_child_weight=5, xgb__subsample=1.0 \n",
      "[CV] xgb__gamma=31.622776601683793, xgb__min_child_weight=5, xgb__subsample=1.0 \n",
      "[CV] xgb__gamma=31.622776601683793, xgb__min_child_weight=5, xgb__subsample=1.0 \n",
      "[CV]  xgb__gamma=31.622776601683793, xgb__min_child_weight=5, xgb__subsample=1.0, score=-0.25811419773678096, total=   2.3s\n",
      "[CV] xgb__gamma=31.622776601683793, xgb__min_child_weight=5, xgb__subsample=0.75 \n",
      "[CV]  xgb__gamma=31.622776601683793, xgb__min_child_weight=5, xgb__subsample=1.0, score=-0.2502015160490207, total=   2.3s\n",
      "[CV]  xgb__gamma=31.622776601683793, xgb__min_child_weight=5, xgb__subsample=1.0, score=-0.2386699281053212, total=   2.3s\n",
      "[CV] xgb__gamma=31.622776601683793, xgb__min_child_weight=5, xgb__subsample=0.75 \n",
      "[CV] xgb__gamma=31.622776601683793, xgb__min_child_weight=5, xgb__subsample=0.75 \n",
      "[CV]  xgb__gamma=31.622776601683793, xgb__min_child_weight=5, xgb__subsample=0.75, score=-0.26035572699365633, total=   2.1s\n",
      "[CV]  xgb__gamma=31.622776601683793, xgb__min_child_weight=5, xgb__subsample=0.75, score=-0.25871741126529824, total=   2.1s\n",
      "[CV] xgb__gamma=31.622776601683793, xgb__min_child_weight=5, xgb__subsample=0.5 \n",
      "[CV]  xgb__gamma=31.622776601683793, xgb__min_child_weight=5, xgb__subsample=0.75, score=-0.25904666609769034, total=   2.2s\n",
      "[CV] xgb__gamma=31.622776601683793, xgb__min_child_weight=5, xgb__subsample=0.5 \n",
      "[CV] xgb__gamma=31.622776601683793, xgb__min_child_weight=5, xgb__subsample=0.5 \n",
      "[CV]  xgb__gamma=31.622776601683793, xgb__min_child_weight=5, xgb__subsample=0.5, score=-0.28163675217372497, total=   2.0s\n",
      "[CV] xgb__gamma=177.82794100389228, xgb__min_child_weight=1, xgb__subsample=1.0 \n",
      "[CV]  xgb__gamma=31.622776601683793, xgb__min_child_weight=5, xgb__subsample=0.5, score=-0.2913779146985252, total=   1.9s\n",
      "[CV]  xgb__gamma=31.622776601683793, xgb__min_child_weight=5, xgb__subsample=0.5, score=-0.28778140510113565, total=   1.9s\n",
      "[CV] xgb__gamma=177.82794100389228, xgb__min_child_weight=1, xgb__subsample=1.0 \n",
      "[CV] xgb__gamma=177.82794100389228, xgb__min_child_weight=1, xgb__subsample=1.0 \n",
      "[CV]  xgb__gamma=177.82794100389228, xgb__min_child_weight=1, xgb__subsample=1.0, score=-0.3755419562300163, total=   2.4s\n",
      "[CV] xgb__gamma=177.82794100389228, xgb__min_child_weight=1, xgb__subsample=0.75 \n",
      "[CV]  xgb__gamma=177.82794100389228, xgb__min_child_weight=1, xgb__subsample=1.0, score=-0.37411670936950325, total=   2.4s\n",
      "[CV]  xgb__gamma=177.82794100389228, xgb__min_child_weight=1, xgb__subsample=1.0, score=-0.40167415942797335, total=   2.4s\n",
      "[CV] xgb__gamma=177.82794100389228, xgb__min_child_weight=1, xgb__subsample=0.75 \n",
      "[CV] xgb__gamma=177.82794100389228, xgb__min_child_weight=1, xgb__subsample=0.75 \n",
      "[CV]  xgb__gamma=177.82794100389228, xgb__min_child_weight=1, xgb__subsample=0.75, score=-0.38973206527898363, total=   2.1s\n",
      "[CV]  xgb__gamma=177.82794100389228, xgb__min_child_weight=1, xgb__subsample=0.75, score=-0.4056313946739577, total=   2.1s\n",
      "[CV] xgb__gamma=177.82794100389228, xgb__min_child_weight=1, xgb__subsample=0.5 \n",
      "[CV]  xgb__gamma=177.82794100389228, xgb__min_child_weight=1, xgb__subsample=0.75, score=-0.38833202272977896, total=   2.1s\n",
      "[CV] xgb__gamma=177.82794100389228, xgb__min_child_weight=1, xgb__subsample=0.5 \n",
      "[CV] xgb__gamma=177.82794100389228, xgb__min_child_weight=1, xgb__subsample=0.5 \n",
      "[CV]  xgb__gamma=177.82794100389228, xgb__min_child_weight=1, xgb__subsample=0.5, score=-0.43330348667651297, total=   2.2s\n",
      "[CV] xgb__gamma=177.82794100389228, xgb__min_child_weight=3, xgb__subsample=1.0 \n",
      "[CV]  xgb__gamma=177.82794100389228, xgb__min_child_weight=1, xgb__subsample=0.5, score=-0.45740970081700383, total=   2.3s\n",
      "[CV] xgb__gamma=177.82794100389228, xgb__min_child_weight=3, xgb__subsample=1.0 \n",
      "[CV]  xgb__gamma=177.82794100389228, xgb__min_child_weight=1, xgb__subsample=0.5, score=-0.4388291161362141, total=   2.3s\n",
      "[CV] xgb__gamma=177.82794100389228, xgb__min_child_weight=3, xgb__subsample=1.0 \n",
      "[CV]  xgb__gamma=177.82794100389228, xgb__min_child_weight=3, xgb__subsample=1.0, score=-0.3755419562300163, total=   2.5s\n",
      "[CV]  xgb__gamma=177.82794100389228, xgb__min_child_weight=3, xgb__subsample=1.0, score=-0.40167415942797335, total=   2.5s\n",
      "[CV] xgb__gamma=177.82794100389228, xgb__min_child_weight=3, xgb__subsample=0.75 \n",
      "[CV]  xgb__gamma=177.82794100389228, xgb__min_child_weight=3, xgb__subsample=1.0, score=-0.37411670936950325, total=   2.5s\n",
      "[CV] xgb__gamma=177.82794100389228, xgb__min_child_weight=3, xgb__subsample=0.75 \n",
      "[CV] xgb__gamma=177.82794100389228, xgb__min_child_weight=3, xgb__subsample=0.75 \n",
      "[CV]  xgb__gamma=177.82794100389228, xgb__min_child_weight=3, xgb__subsample=0.75, score=-0.38973206527898363, total=   2.1s\n",
      "[CV] xgb__gamma=177.82794100389228, xgb__min_child_weight=3, xgb__subsample=0.5 \n",
      "[CV]  xgb__gamma=177.82794100389228, xgb__min_child_weight=3, xgb__subsample=0.75, score=-0.4056313946739577, total=   2.1s\n",
      "[CV] xgb__gamma=177.82794100389228, xgb__min_child_weight=3, xgb__subsample=0.5 \n",
      "[CV]  xgb__gamma=177.82794100389228, xgb__min_child_weight=3, xgb__subsample=0.75, score=-0.38833202272977896, total=   2.1s\n",
      "[CV] xgb__gamma=177.82794100389228, xgb__min_child_weight=3, xgb__subsample=0.5 \n",
      "[CV]  xgb__gamma=177.82794100389228, xgb__min_child_weight=3, xgb__subsample=0.5, score=-0.43330348667651297, total=   2.9s\n",
      "[CV] xgb__gamma=177.82794100389228, xgb__min_child_weight=5, xgb__subsample=1.0 \n",
      "[CV]  xgb__gamma=177.82794100389228, xgb__min_child_weight=3, xgb__subsample=0.5, score=-0.4388291161362141, total=   2.9s\n",
      "[CV]  xgb__gamma=177.82794100389228, xgb__min_child_weight=3, xgb__subsample=0.5, score=-0.45740970081700383, total=   3.0s\n",
      "[CV] xgb__gamma=177.82794100389228, xgb__min_child_weight=5, xgb__subsample=1.0 \n",
      "[CV] xgb__gamma=177.82794100389228, xgb__min_child_weight=5, xgb__subsample=1.0 \n",
      "[CV]  xgb__gamma=177.82794100389228, xgb__min_child_weight=5, xgb__subsample=1.0, score=-0.3755419562300163, total=   4.3s\n",
      "[CV] xgb__gamma=177.82794100389228, xgb__min_child_weight=5, xgb__subsample=0.75 \n",
      "[CV]  xgb__gamma=177.82794100389228, xgb__min_child_weight=5, xgb__subsample=1.0, score=-0.40167415942797335, total=   4.3s\n",
      "[CV] xgb__gamma=177.82794100389228, xgb__min_child_weight=5, xgb__subsample=0.75 \n",
      "[CV]  xgb__gamma=177.82794100389228, xgb__min_child_weight=5, xgb__subsample=1.0, score=-0.37411670936950325, total=   4.3s\n",
      "[CV] xgb__gamma=177.82794100389228, xgb__min_child_weight=5, xgb__subsample=0.75 \n",
      "[CV]  xgb__gamma=177.82794100389228, xgb__min_child_weight=5, xgb__subsample=0.75, score=-0.38973206527898363, total=   3.5s\n",
      "[CV]  xgb__gamma=177.82794100389228, xgb__min_child_weight=5, xgb__subsample=0.75, score=-0.4056313946739577, total=   3.5s\n",
      "[CV] xgb__gamma=177.82794100389228, xgb__min_child_weight=5, xgb__subsample=0.5 \n",
      "[CV]  xgb__gamma=177.82794100389228, xgb__min_child_weight=5, xgb__subsample=0.75, score=-0.38833202272977896, total=   3.6s\n",
      "[CV] xgb__gamma=177.82794100389228, xgb__min_child_weight=5, xgb__subsample=0.5 \n",
      "[CV] xgb__gamma=177.82794100389228, xgb__min_child_weight=5, xgb__subsample=0.5 \n",
      "[CV]  xgb__gamma=177.82794100389228, xgb__min_child_weight=5, xgb__subsample=0.5, score=-0.43330348667651297, total=   3.3s\n",
      "[CV]  xgb__gamma=177.82794100389228, xgb__min_child_weight=5, xgb__subsample=0.5, score=-0.45740970081700383, total=   3.3s\n"
     ]
    },
    {
     "name": "stdout",
     "output_type": "stream",
     "text": [
      "[CV] xgb__gamma=1000.0, xgb__min_child_weight=1, xgb__subsample=1.0 ..\n",
      "[CV]  xgb__gamma=177.82794100389228, xgb__min_child_weight=5, xgb__subsample=0.5, score=-0.4388291161362141, total=   3.3s\n",
      "[CV] xgb__gamma=1000.0, xgb__min_child_weight=1, xgb__subsample=1.0 ..\n",
      "[CV] xgb__gamma=1000.0, xgb__min_child_weight=1, xgb__subsample=1.0 ..\n",
      "[CV]  xgb__gamma=1000.0, xgb__min_child_weight=1, xgb__subsample=1.0, score=-0.6211350620436817, total=   3.9s\n",
      "[CV] xgb__gamma=1000.0, xgb__min_child_weight=1, xgb__subsample=0.75 .\n",
      "[CV]  xgb__gamma=1000.0, xgb__min_child_weight=1, xgb__subsample=1.0, score=-0.6546832697037055, total=   3.9s\n",
      "[CV]  xgb__gamma=1000.0, xgb__min_child_weight=1, xgb__subsample=1.0, score=-0.6232258901838151, total=   3.9s\n",
      "[CV] xgb__gamma=1000.0, xgb__min_child_weight=1, xgb__subsample=0.75 .\n",
      "[CV] xgb__gamma=1000.0, xgb__min_child_weight=1, xgb__subsample=0.75 .\n",
      "[CV]  xgb__gamma=1000.0, xgb__min_child_weight=1, xgb__subsample=0.75, score=-0.6211051406303851, total=   3.5s\n",
      "[CV]  xgb__gamma=1000.0, xgb__min_child_weight=1, xgb__subsample=0.75, score=-0.6546892212896361, total=   3.5s\n",
      "[CV] xgb__gamma=1000.0, xgb__min_child_weight=1, xgb__subsample=0.5 ..\n",
      "[CV]  xgb__gamma=1000.0, xgb__min_child_weight=1, xgb__subsample=0.75, score=-0.6232125492792611, total=   3.6s\n",
      "[CV] xgb__gamma=1000.0, xgb__min_child_weight=1, xgb__subsample=0.5 ..\n",
      "[CV] xgb__gamma=1000.0, xgb__min_child_weight=1, xgb__subsample=0.5 ..\n",
      "[CV]  xgb__gamma=1000.0, xgb__min_child_weight=1, xgb__subsample=0.5, score=-0.6211005862909734, total=   3.3s\n",
      "[CV] xgb__gamma=1000.0, xgb__min_child_weight=3, xgb__subsample=1.0 ..\n",
      "[CV]  xgb__gamma=1000.0, xgb__min_child_weight=1, xgb__subsample=0.5, score=-0.6546727492001873, total=   3.2s\n",
      "[CV] xgb__gamma=1000.0, xgb__min_child_weight=3, xgb__subsample=1.0 ..\n",
      "[CV]  xgb__gamma=1000.0, xgb__min_child_weight=1, xgb__subsample=0.5, score=-0.6235279430898975, total=   3.2s\n",
      "[CV] xgb__gamma=1000.0, xgb__min_child_weight=3, xgb__subsample=1.0 ..\n",
      "[CV]  xgb__gamma=1000.0, xgb__min_child_weight=3, xgb__subsample=1.0, score=-0.6211350620436817, total=   4.0s\n",
      "[CV]  xgb__gamma=1000.0, xgb__min_child_weight=3, xgb__subsample=1.0, score=-0.6546832697037055, total=   4.0s\n",
      "[CV]  xgb__gamma=1000.0, xgb__min_child_weight=3, xgb__subsample=1.0, score=-0.6232258901838151, total=   4.0s\n",
      "[CV] xgb__gamma=1000.0, xgb__min_child_weight=3, xgb__subsample=0.75 .\n",
      "[CV] xgb__gamma=1000.0, xgb__min_child_weight=3, xgb__subsample=0.75 .\n",
      "[CV] xgb__gamma=1000.0, xgb__min_child_weight=3, xgb__subsample=0.75 .\n",
      "[CV]  xgb__gamma=1000.0, xgb__min_child_weight=3, xgb__subsample=0.75, score=-0.6211051406303851, total=   3.3s\n",
      "[CV]  xgb__gamma=1000.0, xgb__min_child_weight=3, xgb__subsample=0.75, score=-0.6546892212896361, total=   3.3s\n",
      "[CV]  xgb__gamma=1000.0, xgb__min_child_weight=3, xgb__subsample=0.75, score=-0.6232125492792611, total=   3.3s\n",
      "[CV] xgb__gamma=1000.0, xgb__min_child_weight=3, xgb__subsample=0.5 ..\n",
      "[CV] xgb__gamma=1000.0, xgb__min_child_weight=3, xgb__subsample=0.5 ..\n",
      "[CV] xgb__gamma=1000.0, xgb__min_child_weight=3, xgb__subsample=0.5 ..\n",
      "[CV]  xgb__gamma=1000.0, xgb__min_child_weight=3, xgb__subsample=0.5, score=-0.6211005862909734, total=   3.2s\n",
      "[CV] xgb__gamma=1000.0, xgb__min_child_weight=5, xgb__subsample=1.0 ..\n",
      "[CV]  xgb__gamma=1000.0, xgb__min_child_weight=3, xgb__subsample=0.5, score=-0.6235279430898975, total=   3.1s\n",
      "[CV]  xgb__gamma=1000.0, xgb__min_child_weight=3, xgb__subsample=0.5, score=-0.6546727492001873, total=   3.2s\n",
      "[CV] xgb__gamma=1000.0, xgb__min_child_weight=5, xgb__subsample=1.0 ..\n",
      "[CV] xgb__gamma=1000.0, xgb__min_child_weight=5, xgb__subsample=1.0 ..\n",
      "[CV]  xgb__gamma=1000.0, xgb__min_child_weight=5, xgb__subsample=1.0, score=-0.6211350620436817, total=   3.8s\n",
      "[CV]  xgb__gamma=1000.0, xgb__min_child_weight=5, xgb__subsample=1.0, score=-0.6546832697037055, total=   3.8s\n",
      "[CV] xgb__gamma=1000.0, xgb__min_child_weight=5, xgb__subsample=0.75 .\n",
      "[CV]  xgb__gamma=1000.0, xgb__min_child_weight=5, xgb__subsample=1.0, score=-0.6232258901838151, total=   3.8s\n",
      "[CV] xgb__gamma=1000.0, xgb__min_child_weight=5, xgb__subsample=0.75 .\n",
      "[CV] xgb__gamma=1000.0, xgb__min_child_weight=5, xgb__subsample=0.75 .\n",
      "[CV]  xgb__gamma=1000.0, xgb__min_child_weight=5, xgb__subsample=0.75, score=-0.6546892212896361, total=   3.5s\n",
      "[CV]  xgb__gamma=1000.0, xgb__min_child_weight=5, xgb__subsample=0.75, score=-0.6211051406303851, total=   3.6s\n",
      "[CV] xgb__gamma=1000.0, xgb__min_child_weight=5, xgb__subsample=0.5 ..\n",
      "[CV] xgb__gamma=1000.0, xgb__min_child_weight=5, xgb__subsample=0.5 ..\n",
      "[CV]  xgb__gamma=1000.0, xgb__min_child_weight=5, xgb__subsample=0.75, score=-0.6232125492792611, total=   3.6s\n",
      "[CV] xgb__gamma=1000.0, xgb__min_child_weight=5, xgb__subsample=0.5 ..\n",
      "[CV]  xgb__gamma=1000.0, xgb__min_child_weight=5, xgb__subsample=0.5, score=-0.6546727492001873, total=   3.5s\n",
      "[CV]  xgb__gamma=1000.0, xgb__min_child_weight=5, xgb__subsample=0.5, score=-0.6211005862909734, total=   3.6s\n",
      "[CV]  xgb__gamma=1000.0, xgb__min_child_weight=5, xgb__subsample=0.5, score=-0.6235279430898975, total=   3.4s\n"
     ]
    },
    {
     "name": "stderr",
     "output_type": "stream",
     "text": [
      "[Parallel(n_jobs=-2)]: Done 135 out of 135 | elapsed:  2.0min finished\n"
     ]
    },
    {
     "data": {
      "text/plain": [
       "GridSearchCV(cv=3, error_score='raise',\n",
       "       estimator=Pipeline(memory=None,\n",
       "     steps=[('scaler', StandardScaler(copy=True, with_mean=True, with_std=True)), ('xgb', XGBRegressor(base_score=0.5, booster='gbtree', colsample_bylevel=1,\n",
       "       colsample_bytree=1, eval_metric='rmse', gamma=0, learning_rate=0.1,\n",
       "       max_delta_step=0, max_depth=...ate=0, reg_alpha=0, reg_lambda=1, scale_pos_weight=1,\n",
       "       seed=None, silent=True, subsample=1))]),\n",
       "       fit_params=None, iid=True, n_jobs=-2,\n",
       "       param_grid={'xgb__gamma': array([   1.     ,    5.62341,   31.62278,  177.82794, 1000.     ]), 'xgb__min_child_weight': [1, 3, 5], 'xgb__subsample': [1.0, 0.75, 0.5]},\n",
       "       pre_dispatch='2*n_jobs', refit=True, return_train_score='warn',\n",
       "       scoring='neg_mean_absolute_error', verbose=5)"
      ]
     },
     "execution_count": 90,
     "metadata": {},
     "output_type": "execute_result"
    }
   ],
   "source": [
    "gridxgblog.fit(X_train[limitedset], y_train['logtarget'])"
   ]
  },
  {
   "cell_type": "code",
   "execution_count": 91,
   "metadata": {},
   "outputs": [
    {
     "data": {
      "text/plain": [
       "'VALTOT'"
      ]
     },
     "execution_count": 91,
     "metadata": {},
     "output_type": "execute_result"
    }
   ],
   "source": [
    "target"
   ]
  },
  {
   "cell_type": "code",
   "execution_count": 92,
   "metadata": {},
   "outputs": [
    {
     "data": {
      "text/plain": [
       "{'xgb__gamma': 1.0, 'xgb__min_child_weight': 1, 'xgb__subsample': 0.75}"
      ]
     },
     "execution_count": 92,
     "metadata": {},
     "output_type": "execute_result"
    }
   ],
   "source": [
    "gridxgblog.best_params_"
   ]
  },
  {
   "cell_type": "code",
   "execution_count": 93,
   "metadata": {},
   "outputs": [
    {
     "data": {
      "text/plain": [
       "14.769476349500174"
      ]
     },
     "execution_count": 93,
     "metadata": {},
     "output_type": "execute_result"
    }
   ],
   "source": [
    "mean_absolute_percentage_error(y_test[target], inv_boxcox(gridxgblog.predict(X_test[limitedset]), lmbda))"
   ]
  },
  {
   "cell_type": "code",
   "execution_count": 94,
   "metadata": {},
   "outputs": [
    {
     "data": {
      "text/plain": [
       "7.168258509936229"
      ]
     },
     "execution_count": 94,
     "metadata": {},
     "output_type": "execute_result"
    }
   ],
   "source": [
    "mean_squared_error(y_test[target], inv_boxcox(gridxgblog.predict(X_test[limitedset]), lmbda))"
   ]
  },
  {
   "cell_type": "code",
   "execution_count": 95,
   "metadata": {},
   "outputs": [
    {
     "data": {
      "image/png": "[encoded data removed]",
      "text/plain": [
       "<Figure size 1080x360 with 1 Axes>"
      ]
     },
     "metadata": {},
     "output_type": "display_data"
    }
   ],
   "source": [
    "featimp = list(gridxgblog.best_estimator_.named_steps['xgb'].feature_importances_)\n",
    "df = pd.DataFrame({'feature_importance':featimp}, index =limitedset)\n",
    "df = df.sort_values('feature_importance', ascending=False)\n",
    "df[:50].plot.bar(figsize=(15,5))\n",
    "plt.title(f'Light gradient boost - BOXCOX - feature Importance for {target}')\n",
    "plt.show()"
   ]
  },
  {
   "cell_type": "code",
   "execution_count": null,
   "metadata": {},
   "outputs": [],
   "source": []
  },
  {
   "cell_type": "markdown",
   "metadata": {},
   "source": [
    "# Solution comparison"
   ]
  },
  {
   "cell_type": "code",
   "execution_count": 96,
   "metadata": {},
   "outputs": [],
   "source": [
    "prediction_xgb = gridxgb.predict(X_test[limitedset])\n",
    "prediction_xgb_log = inv_boxcox(gridxgblog.predict(X_test[limitedset]), lmbda)"
   ]
  },
  {
   "cell_type": "code",
   "execution_count": 98,
   "metadata": {},
   "outputs": [
    {
     "data": {
      "text/html": [
       "<div>\n",
       "<style scoped>\n",
       "    .dataframe tbody tr th:only-of-type {\n",
       "        vertical-align: middle;\n",
       "    }\n",
       "\n",
       "    .dataframe tbody tr th {\n",
       "        vertical-align: top;\n",
       "    }\n",
       "\n",
       "    .dataframe thead th {\n",
       "        text-align: right;\n",
       "    }\n",
       "</style>\n",
       "<table border=\"1\" class=\"dataframe\">\n",
       "  <thead>\n",
       "    <tr style=\"text-align: right;\">\n",
       "      <th></th>\n",
       "      <th>prediction_xgb</th>\n",
       "      <th>prediction_xgb_log</th>\n",
       "      <th>target</th>\n",
       "    </tr>\n",
       "    <tr>\n",
       "      <th>COART</th>\n",
       "      <th></th>\n",
       "      <th></th>\n",
       "      <th></th>\n",
       "    </tr>\n",
       "  </thead>\n",
       "  <tbody>\n",
       "    <tr>\n",
       "      <th>L3104170</th>\n",
       "      <td>6.247589</td>\n",
       "      <td>6.363876</td>\n",
       "      <td>8.13</td>\n",
       "    </tr>\n",
       "    <tr>\n",
       "      <th>L8826140</th>\n",
       "      <td>2.285673</td>\n",
       "      <td>2.537072</td>\n",
       "      <td>2.42</td>\n",
       "    </tr>\n",
       "    <tr>\n",
       "      <th>L1615860</th>\n",
       "      <td>0.984061</td>\n",
       "      <td>0.984656</td>\n",
       "      <td>1.04</td>\n",
       "    </tr>\n",
       "    <tr>\n",
       "      <th>L8055440</th>\n",
       "      <td>4.405120</td>\n",
       "      <td>4.155797</td>\n",
       "      <td>4.55</td>\n",
       "    </tr>\n",
       "    <tr>\n",
       "      <th>L8042170</th>\n",
       "      <td>3.294612</td>\n",
       "      <td>3.363893</td>\n",
       "      <td>3.74</td>\n",
       "    </tr>\n",
       "  </tbody>\n",
       "</table>\n",
       "</div>"
      ],
      "text/plain": [
       "          prediction_xgb  prediction_xgb_log  target\n",
       "COART                                               \n",
       "L3104170        6.247589            6.363876    8.13\n",
       "L8826140        2.285673            2.537072    2.42\n",
       "L1615860        0.984061            0.984656    1.04\n",
       "L8055440        4.405120            4.155797    4.55\n",
       "L8042170        3.294612            3.363893    3.74"
      ]
     },
     "execution_count": 98,
     "metadata": {},
     "output_type": "execute_result"
    }
   ],
   "source": [
    "resultset = pd.DataFrame({f'target': y_test[target],\n",
    "                          'prediction_xgb':prediction_xgb,\n",
    "                          'prediction_xgb_log':prediction_xgb_log,\n",
    "                            }, index=y_test.index)\n",
    "resultset.head()"
   ]
  },
  {
   "cell_type": "code",
   "execution_count": 99,
   "metadata": {},
   "outputs": [],
   "source": [
    "#Solution saving\n",
    "resultset.to_csv(f'{target}_pred_xgb.csv')\n"
   ]
  },
  {
   "cell_type": "code",
   "execution_count": 100,
   "metadata": {},
   "outputs": [
    {
     "name": "stdout",
     "output_type": "stream",
     "text": [
      "mape 17.384285049363932\n",
      "mapelog 14.769476349500174\n"
     ]
    }
   ],
   "source": [
    "#MAPE\n",
    "mape = mean_absolute_percentage_error(resultset['target'], resultset['prediction_xgb'])\n",
    "mapelog = mean_absolute_percentage_error(resultset['target'], resultset['prediction_xgb_log'])\n",
    "print('mape', mape)\n",
    "print('mapelog', mapelog)"
   ]
  },
  {
   "cell_type": "code",
   "execution_count": 101,
   "metadata": {},
   "outputs": [
    {
     "name": "stdout",
     "output_type": "stream",
     "text": [
      "mse 4.211157578468207\n",
      "mselog 7.168258509936229\n"
     ]
    }
   ],
   "source": [
    "#MSE\n",
    "mse = mean_squared_error(resultset['target'], resultset['prediction_xgb'])\n",
    "mselog = mean_squared_error(resultset['target'], resultset['prediction_xgb_log'])\n",
    "print('mse', mse)\n",
    "print('mselog', mselog)"
   ]
  },
  {
   "cell_type": "code",
   "execution_count": 108,
   "metadata": {},
   "outputs": [
    {
     "data": {
      "text/html": [
       "<div>\n",
       "<style scoped>\n",
       "    .dataframe tbody tr th:only-of-type {\n",
       "        vertical-align: middle;\n",
       "    }\n",
       "\n",
       "    .dataframe tbody tr th {\n",
       "        vertical-align: top;\n",
       "    }\n",
       "\n",
       "    .dataframe thead th {\n",
       "        text-align: right;\n",
       "    }\n",
       "</style>\n",
       "<table border=\"1\" class=\"dataframe\">\n",
       "  <thead>\n",
       "    <tr style=\"text-align: right;\">\n",
       "      <th></th>\n",
       "      <th>prediction_xgb</th>\n",
       "      <th>prediction_xgb_log</th>\n",
       "      <th>target</th>\n",
       "      <th>MSE_xgb</th>\n",
       "      <th>MSE_xgb_lgbm</th>\n",
       "      <th>MSE_log_xgb</th>\n",
       "    </tr>\n",
       "    <tr>\n",
       "      <th>COART</th>\n",
       "      <th></th>\n",
       "      <th></th>\n",
       "      <th></th>\n",
       "      <th></th>\n",
       "      <th></th>\n",
       "      <th></th>\n",
       "    </tr>\n",
       "  </thead>\n",
       "  <tbody>\n",
       "    <tr>\n",
       "      <th>L3104170</th>\n",
       "      <td>6.247589</td>\n",
       "      <td>6.363876</td>\n",
       "      <td>8.13</td>\n",
       "      <td>3.543471</td>\n",
       "      <td>3.119193</td>\n",
       "      <td>3.119193</td>\n",
       "    </tr>\n",
       "    <tr>\n",
       "      <th>L8826140</th>\n",
       "      <td>2.285673</td>\n",
       "      <td>2.537072</td>\n",
       "      <td>2.42</td>\n",
       "      <td>0.018044</td>\n",
       "      <td>0.013706</td>\n",
       "      <td>0.013706</td>\n",
       "    </tr>\n",
       "    <tr>\n",
       "      <th>L1615860</th>\n",
       "      <td>0.984061</td>\n",
       "      <td>0.984656</td>\n",
       "      <td>1.04</td>\n",
       "      <td>0.003129</td>\n",
       "      <td>0.003063</td>\n",
       "      <td>0.003063</td>\n",
       "    </tr>\n",
       "    <tr>\n",
       "      <th>L8055440</th>\n",
       "      <td>4.405120</td>\n",
       "      <td>4.155797</td>\n",
       "      <td>4.55</td>\n",
       "      <td>0.020990</td>\n",
       "      <td>0.155396</td>\n",
       "      <td>0.155396</td>\n",
       "    </tr>\n",
       "    <tr>\n",
       "      <th>L8042170</th>\n",
       "      <td>3.294612</td>\n",
       "      <td>3.363893</td>\n",
       "      <td>3.74</td>\n",
       "      <td>0.198370</td>\n",
       "      <td>0.141456</td>\n",
       "      <td>0.141456</td>\n",
       "    </tr>\n",
       "  </tbody>\n",
       "</table>\n",
       "</div>"
      ],
      "text/plain": [
       "          prediction_xgb  prediction_xgb_log  target   MSE_xgb  MSE_xgb_lgbm  \\\n",
       "COART                                                                          \n",
       "L3104170        6.247589            6.363876    8.13  3.543471      3.119193   \n",
       "L8826140        2.285673            2.537072    2.42  0.018044      0.013706   \n",
       "L1615860        0.984061            0.984656    1.04  0.003129      0.003063   \n",
       "L8055440        4.405120            4.155797    4.55  0.020990      0.155396   \n",
       "L8042170        3.294612            3.363893    3.74  0.198370      0.141456   \n",
       "\n",
       "          MSE_log_xgb  \n",
       "COART                  \n",
       "L3104170     3.119193  \n",
       "L8826140     0.013706  \n",
       "L1615860     0.003063  \n",
       "L8055440     0.155396  \n",
       "L8042170     0.141456  "
      ]
     },
     "execution_count": 108,
     "metadata": {},
     "output_type": "execute_result"
    }
   ],
   "source": [
    "resultset['MSE_xgb'] = (resultset['target']-resultset['prediction_xgb'])**2\n",
    "resultset['MSE_log_xgb'] = (resultset['target']-resultset['prediction_xgb_log'])**2\n",
    "resultset.head()"
   ]
  },
  {
   "cell_type": "code",
   "execution_count": 109,
   "metadata": {},
   "outputs": [
    {
     "data": {
      "text/plain": [
       "4.211157578468212"
      ]
     },
     "execution_count": 109,
     "metadata": {},
     "output_type": "execute_result"
    }
   ],
   "source": [
    "resultset['MSE_xgb'].mean()"
   ]
  },
  {
   "cell_type": "code",
   "execution_count": 110,
   "metadata": {},
   "outputs": [
    {
     "data": {
      "text/html": [
       "<div>\n",
       "<style scoped>\n",
       "    .dataframe tbody tr th:only-of-type {\n",
       "        vertical-align: middle;\n",
       "    }\n",
       "\n",
       "    .dataframe tbody tr th {\n",
       "        vertical-align: top;\n",
       "    }\n",
       "\n",
       "    .dataframe thead th {\n",
       "        text-align: right;\n",
       "    }\n",
       "</style>\n",
       "<table border=\"1\" class=\"dataframe\">\n",
       "  <thead>\n",
       "    <tr style=\"text-align: right;\">\n",
       "      <th></th>\n",
       "      <th>COART</th>\n",
       "      <th>prediction_xgb</th>\n",
       "      <th>prediction_xgb_log</th>\n",
       "      <th>target</th>\n",
       "      <th>MSE_xgb</th>\n",
       "      <th>MSE_xgb_lgbm</th>\n",
       "      <th>MSE_log_xgb</th>\n",
       "      <th>cut_length</th>\n",
       "      <th>num_closed_patterns</th>\n",
       "      <th>num_open_patterns</th>\n",
       "      <th>...</th>\n",
       "      <th>bendlength_bend_edge_length_max_09</th>\n",
       "      <th>VAMAT</th>\n",
       "      <th>VALAJOUT</th>\n",
       "      <th>VALTOT</th>\n",
       "      <th>VOL_COST_CONVHULL</th>\n",
       "      <th>VOL_COST_RECTANGLE</th>\n",
       "      <th>VOL_COST_MPATTERN</th>\n",
       "      <th>bend_group</th>\n",
       "      <th>SURF_COST_MPATTERN</th>\n",
       "      <th>APPROX_BEND_COST</th>\n",
       "    </tr>\n",
       "  </thead>\n",
       "  <tbody>\n",
       "    <tr>\n",
       "      <th>0</th>\n",
       "      <td>L3104170</td>\n",
       "      <td>6.247589</td>\n",
       "      <td>6.363876</td>\n",
       "      <td>8.13</td>\n",
       "      <td>3.543471</td>\n",
       "      <td>3.119193</td>\n",
       "      <td>3.119193</td>\n",
       "      <td>1986.643677</td>\n",
       "      <td>10</td>\n",
       "      <td>0</td>\n",
       "      <td>...</td>\n",
       "      <td>0.0</td>\n",
       "      <td>4.41</td>\n",
       "      <td>3.72</td>\n",
       "      <td>8.13</td>\n",
       "      <td>0.000011</td>\n",
       "      <td>0.000008</td>\n",
       "      <td>0.000014</td>\n",
       "      <td>0</td>\n",
       "      <td>0.000070</td>\n",
       "      <td>3.720</td>\n",
       "    </tr>\n",
       "    <tr>\n",
       "      <th>1</th>\n",
       "      <td>L8826140</td>\n",
       "      <td>2.285673</td>\n",
       "      <td>2.537072</td>\n",
       "      <td>2.42</td>\n",
       "      <td>0.018044</td>\n",
       "      <td>0.013706</td>\n",
       "      <td>0.013706</td>\n",
       "      <td>496.880127</td>\n",
       "      <td>3</td>\n",
       "      <td>0</td>\n",
       "      <td>...</td>\n",
       "      <td>0.0</td>\n",
       "      <td>0.44</td>\n",
       "      <td>1.98</td>\n",
       "      <td>2.42</td>\n",
       "      <td>0.000006</td>\n",
       "      <td>0.000006</td>\n",
       "      <td>0.000006</td>\n",
       "      <td>1-2</td>\n",
       "      <td>0.000036</td>\n",
       "      <td>0.990</td>\n",
       "    </tr>\n",
       "    <tr>\n",
       "      <th>2</th>\n",
       "      <td>L1615860</td>\n",
       "      <td>0.984061</td>\n",
       "      <td>0.984656</td>\n",
       "      <td>1.04</td>\n",
       "      <td>0.003129</td>\n",
       "      <td>0.003063</td>\n",
       "      <td>0.003063</td>\n",
       "      <td>391.016144</td>\n",
       "      <td>2</td>\n",
       "      <td>0</td>\n",
       "      <td>...</td>\n",
       "      <td>0.0</td>\n",
       "      <td>0.24</td>\n",
       "      <td>0.80</td>\n",
       "      <td>1.04</td>\n",
       "      <td>0.000009</td>\n",
       "      <td>0.000007</td>\n",
       "      <td>0.000009</td>\n",
       "      <td>0</td>\n",
       "      <td>0.000044</td>\n",
       "      <td>0.800</td>\n",
       "    </tr>\n",
       "    <tr>\n",
       "      <th>3</th>\n",
       "      <td>L8055440</td>\n",
       "      <td>4.405120</td>\n",
       "      <td>4.155797</td>\n",
       "      <td>4.55</td>\n",
       "      <td>0.020990</td>\n",
       "      <td>0.155396</td>\n",
       "      <td>0.155396</td>\n",
       "      <td>776.781677</td>\n",
       "      <td>2</td>\n",
       "      <td>0</td>\n",
       "      <td>...</td>\n",
       "      <td>0.0</td>\n",
       "      <td>2.00</td>\n",
       "      <td>2.55</td>\n",
       "      <td>4.55</td>\n",
       "      <td>0.000008</td>\n",
       "      <td>0.000006</td>\n",
       "      <td>0.000008</td>\n",
       "      <td>1-2</td>\n",
       "      <td>0.000079</td>\n",
       "      <td>1.275</td>\n",
       "    </tr>\n",
       "    <tr>\n",
       "      <th>4</th>\n",
       "      <td>L8042170</td>\n",
       "      <td>3.294612</td>\n",
       "      <td>3.363893</td>\n",
       "      <td>3.74</td>\n",
       "      <td>0.198370</td>\n",
       "      <td>0.141456</td>\n",
       "      <td>0.141456</td>\n",
       "      <td>858.618835</td>\n",
       "      <td>2</td>\n",
       "      <td>0</td>\n",
       "      <td>...</td>\n",
       "      <td>0.0</td>\n",
       "      <td>2.06</td>\n",
       "      <td>1.68</td>\n",
       "      <td>3.74</td>\n",
       "      <td>0.000012</td>\n",
       "      <td>0.000010</td>\n",
       "      <td>0.000012</td>\n",
       "      <td>1-2</td>\n",
       "      <td>0.000074</td>\n",
       "      <td>0.840</td>\n",
       "    </tr>\n",
       "  </tbody>\n",
       "</table>\n",
       "<p>5 rows × 804 columns</p>\n",
       "</div>"
      ],
      "text/plain": [
       "      COART  prediction_xgb  prediction_xgb_log  target   MSE_xgb  \\\n",
       "0  L3104170        6.247589            6.363876    8.13  3.543471   \n",
       "1  L8826140        2.285673            2.537072    2.42  0.018044   \n",
       "2  L1615860        0.984061            0.984656    1.04  0.003129   \n",
       "3  L8055440        4.405120            4.155797    4.55  0.020990   \n",
       "4  L8042170        3.294612            3.363893    3.74  0.198370   \n",
       "\n",
       "   MSE_xgb_lgbm  MSE_log_xgb   cut_length  num_closed_patterns  \\\n",
       "0      3.119193     3.119193  1986.643677                   10   \n",
       "1      0.013706     0.013706   496.880127                    3   \n",
       "2      0.003063     0.003063   391.016144                    2   \n",
       "3      0.155396     0.155396   776.781677                    2   \n",
       "4      0.141456     0.141456   858.618835                    2   \n",
       "\n",
       "   num_open_patterns        ...         bendlength_bend_edge_length_max_09  \\\n",
       "0                  0        ...                                        0.0   \n",
       "1                  0        ...                                        0.0   \n",
       "2                  0        ...                                        0.0   \n",
       "3                  0        ...                                        0.0   \n",
       "4                  0        ...                                        0.0   \n",
       "\n",
       "   VAMAT  VALAJOUT  VALTOT  VOL_COST_CONVHULL  VOL_COST_RECTANGLE  \\\n",
       "0   4.41      3.72    8.13           0.000011            0.000008   \n",
       "1   0.44      1.98    2.42           0.000006            0.000006   \n",
       "2   0.24      0.80    1.04           0.000009            0.000007   \n",
       "3   2.00      2.55    4.55           0.000008            0.000006   \n",
       "4   2.06      1.68    3.74           0.000012            0.000010   \n",
       "\n",
       "   VOL_COST_MPATTERN  bend_group  SURF_COST_MPATTERN  APPROX_BEND_COST  \n",
       "0           0.000014           0            0.000070             3.720  \n",
       "1           0.000006         1-2            0.000036             0.990  \n",
       "2           0.000009           0            0.000044             0.800  \n",
       "3           0.000008         1-2            0.000079             1.275  \n",
       "4           0.000012         1-2            0.000074             0.840  \n",
       "\n",
       "[5 rows x 804 columns]"
      ]
     },
     "execution_count": 110,
     "metadata": {},
     "output_type": "execute_result"
    }
   ],
   "source": [
    "#Data assembly\n",
    "comparisonset = pd.merge(resultset.reset_index(), X_test.reset_index(), on='COART', how='inner')\n",
    "comparisonset.head()"
   ]
  },
  {
   "cell_type": "code",
   "execution_count": 111,
   "metadata": {},
   "outputs": [
    {
     "data": {
      "image/png": "[encoded data removed]",
      "text/plain": [
       "<Figure size 432x288 with 1 Axes>"
      ]
     },
     "metadata": {},
     "output_type": "display_data"
    },
    {
     "data": {
      "text/html": [
       "<div>\n",
       "<style scoped>\n",
       "    .dataframe tbody tr th:only-of-type {\n",
       "        vertical-align: middle;\n",
       "    }\n",
       "\n",
       "    .dataframe tbody tr th {\n",
       "        vertical-align: top;\n",
       "    }\n",
       "\n",
       "    .dataframe thead tr th {\n",
       "        text-align: left;\n",
       "    }\n",
       "\n",
       "    .dataframe thead tr:last-of-type th {\n",
       "        text-align: right;\n",
       "    }\n",
       "</style>\n",
       "<table border=\"1\" class=\"dataframe\">\n",
       "  <thead>\n",
       "    <tr>\n",
       "      <th></th>\n",
       "      <th>MSE_xgb</th>\n",
       "      <th>MSE_log_xgb</th>\n",
       "      <th>COART</th>\n",
       "    </tr>\n",
       "    <tr>\n",
       "      <th></th>\n",
       "      <th>mean</th>\n",
       "      <th>mean</th>\n",
       "      <th>count</th>\n",
       "    </tr>\n",
       "    <tr>\n",
       "      <th>thickness</th>\n",
       "      <th></th>\n",
       "      <th></th>\n",
       "      <th></th>\n",
       "    </tr>\n",
       "  </thead>\n",
       "  <tbody>\n",
       "    <tr>\n",
       "      <th>2.0</th>\n",
       "      <td>75.953531</td>\n",
       "      <td>17.103326</td>\n",
       "      <td>26</td>\n",
       "    </tr>\n",
       "    <tr>\n",
       "      <th>3.0</th>\n",
       "      <td>1.222135</td>\n",
       "      <td>3.124496</td>\n",
       "      <td>106</td>\n",
       "    </tr>\n",
       "    <tr>\n",
       "      <th>4.0</th>\n",
       "      <td>8.599170</td>\n",
       "      <td>26.995305</td>\n",
       "      <td>187</td>\n",
       "    </tr>\n",
       "    <tr>\n",
       "      <th>5.0</th>\n",
       "      <td>2.222396</td>\n",
       "      <td>5.577669</td>\n",
       "      <td>142</td>\n",
       "    </tr>\n",
       "    <tr>\n",
       "      <th>6.0</th>\n",
       "      <td>0.996778</td>\n",
       "      <td>1.308448</td>\n",
       "      <td>299</td>\n",
       "    </tr>\n",
       "    <tr>\n",
       "      <th>8.0</th>\n",
       "      <td>0.852807</td>\n",
       "      <td>0.954921</td>\n",
       "      <td>243</td>\n",
       "    </tr>\n",
       "    <tr>\n",
       "      <th>10.0</th>\n",
       "      <td>2.878915</td>\n",
       "      <td>9.564436</td>\n",
       "      <td>149</td>\n",
       "    </tr>\n",
       "    <tr>\n",
       "      <th>12.0</th>\n",
       "      <td>2.434110</td>\n",
       "      <td>3.172853</td>\n",
       "      <td>91</td>\n",
       "    </tr>\n",
       "    <tr>\n",
       "      <th>15.0</th>\n",
       "      <td>5.187593</td>\n",
       "      <td>6.341507</td>\n",
       "      <td>52</td>\n",
       "    </tr>\n",
       "  </tbody>\n",
       "</table>\n",
       "</div>"
      ],
      "text/plain": [
       "             MSE_xgb MSE_log_xgb COART\n",
       "                mean        mean count\n",
       "thickness                             \n",
       "2.0        75.953531   17.103326    26\n",
       "3.0         1.222135    3.124496   106\n",
       "4.0         8.599170   26.995305   187\n",
       "5.0         2.222396    5.577669   142\n",
       "6.0         0.996778    1.308448   299\n",
       "8.0         0.852807    0.954921   243\n",
       "10.0        2.878915    9.564436   149\n",
       "12.0        2.434110    3.172853    91\n",
       "15.0        5.187593    6.341507    52"
      ]
     },
     "execution_count": 111,
     "metadata": {},
     "output_type": "execute_result"
    }
   ],
   "source": [
    "# Is the error sourced by thickness ?\n",
    "df = comparisonset[['MSE_xgb', 'MSE_log_xgb', 'thickness']].groupby('thickness').mean()\n",
    "df.plot.bar()\n",
    "plt.title(f'{target} - MSE')\n",
    "plt.show()\n",
    "comparisonset.groupby('thickness').agg({'MSE_xgb':['mean'],\n",
    "                                        'MSE_log_xgb':['mean'],\n",
    "                                         'COART':['count']})"
   ]
  },
  {
   "cell_type": "code",
   "execution_count": 112,
   "metadata": {},
   "outputs": [
    {
     "data": {
      "image/png": "[encoded data removed]",
      "text/plain": [
       "<Figure size 432x288 with 1 Axes>"
      ]
     },
     "metadata": {},
     "output_type": "display_data"
    },
    {
     "data": {
      "text/html": [
       "<div>\n",
       "<style scoped>\n",
       "    .dataframe tbody tr th:only-of-type {\n",
       "        vertical-align: middle;\n",
       "    }\n",
       "\n",
       "    .dataframe tbody tr th {\n",
       "        vertical-align: top;\n",
       "    }\n",
       "\n",
       "    .dataframe thead tr th {\n",
       "        text-align: left;\n",
       "    }\n",
       "\n",
       "    .dataframe thead tr:last-of-type th {\n",
       "        text-align: right;\n",
       "    }\n",
       "</style>\n",
       "<table border=\"1\" class=\"dataframe\">\n",
       "  <thead>\n",
       "    <tr>\n",
       "      <th></th>\n",
       "      <th>MSE_xgb</th>\n",
       "      <th>MSE_log_xgb</th>\n",
       "      <th>COART</th>\n",
       "    </tr>\n",
       "    <tr>\n",
       "      <th></th>\n",
       "      <th>mean</th>\n",
       "      <th>mean</th>\n",
       "      <th>count</th>\n",
       "    </tr>\n",
       "    <tr>\n",
       "      <th>bend_group</th>\n",
       "      <th></th>\n",
       "      <th></th>\n",
       "      <th></th>\n",
       "    </tr>\n",
       "  </thead>\n",
       "  <tbody>\n",
       "    <tr>\n",
       "      <th>0</th>\n",
       "      <td>1.606468</td>\n",
       "      <td>2.159408</td>\n",
       "      <td>535</td>\n",
       "    </tr>\n",
       "    <tr>\n",
       "      <th>1-2</th>\n",
       "      <td>1.248674</td>\n",
       "      <td>3.443804</td>\n",
       "      <td>579</td>\n",
       "    </tr>\n",
       "    <tr>\n",
       "      <th>3-5</th>\n",
       "      <td>11.645491</td>\n",
       "      <td>31.598130</td>\n",
       "      <td>164</td>\n",
       "    </tr>\n",
       "    <tr>\n",
       "      <th>6+</th>\n",
       "      <td>115.361538</td>\n",
       "      <td>55.973845</td>\n",
       "      <td>17</td>\n",
       "    </tr>\n",
       "  </tbody>\n",
       "</table>\n",
       "</div>"
      ],
      "text/plain": [
       "               MSE_xgb MSE_log_xgb COART\n",
       "                  mean        mean count\n",
       "bend_group                              \n",
       "0             1.606468    2.159408   535\n",
       "1-2           1.248674    3.443804   579\n",
       "3-5          11.645491   31.598130   164\n",
       "6+          115.361538   55.973845    17"
      ]
     },
     "execution_count": 112,
     "metadata": {},
     "output_type": "execute_result"
    }
   ],
   "source": [
    "# Is the error sourced by number of errors ?\n",
    "\n",
    "df = comparisonset[['MSE_xgb', 'MSE_log_xgb', 'bend_group']].groupby('bend_group').mean()\n",
    "df.plot.bar()\n",
    "plt.title(f'{target} - MSE')\n",
    "plt.show()\n",
    "comparisonset.groupby('bend_group').agg({'MSE_xgb':['mean'],\n",
    "                                         'MSE_log_xgb':['mean'],\n",
    "                                         'COART':['count']})"
   ]
  },
  {
   "cell_type": "code",
   "execution_count": 113,
   "metadata": {},
   "outputs": [
    {
     "data": {
      "text/html": [
       "<div>\n",
       "<style scoped>\n",
       "    .dataframe tbody tr th:only-of-type {\n",
       "        vertical-align: middle;\n",
       "    }\n",
       "\n",
       "    .dataframe tbody tr th {\n",
       "        vertical-align: top;\n",
       "    }\n",
       "\n",
       "    .dataframe thead th {\n",
       "        text-align: right;\n",
       "    }\n",
       "</style>\n",
       "<table border=\"1\" class=\"dataframe\">\n",
       "  <thead>\n",
       "    <tr style=\"text-align: right;\">\n",
       "      <th></th>\n",
       "      <th>target</th>\n",
       "      <th>prediction_xgb</th>\n",
       "      <th>MAPE_error</th>\n",
       "      <th>prediction_xgb_log</th>\n",
       "      <th>MAPE_log_error</th>\n",
       "    </tr>\n",
       "  </thead>\n",
       "  <tbody>\n",
       "    <tr>\n",
       "      <th>0</th>\n",
       "      <td>8.13</td>\n",
       "      <td>6.247589</td>\n",
       "      <td>23.153885</td>\n",
       "      <td>6.363876</td>\n",
       "      <td>21.723538</td>\n",
       "    </tr>\n",
       "    <tr>\n",
       "      <th>1</th>\n",
       "      <td>2.42</td>\n",
       "      <td>2.285673</td>\n",
       "      <td>5.550716</td>\n",
       "      <td>2.537072</td>\n",
       "      <td>4.837674</td>\n",
       "    </tr>\n",
       "    <tr>\n",
       "      <th>2</th>\n",
       "      <td>1.04</td>\n",
       "      <td>0.984061</td>\n",
       "      <td>5.378704</td>\n",
       "      <td>0.984656</td>\n",
       "      <td>5.321524</td>\n",
       "    </tr>\n",
       "    <tr>\n",
       "      <th>3</th>\n",
       "      <td>4.55</td>\n",
       "      <td>4.405120</td>\n",
       "      <td>3.184178</td>\n",
       "      <td>4.155797</td>\n",
       "      <td>8.663792</td>\n",
       "    </tr>\n",
       "    <tr>\n",
       "      <th>4</th>\n",
       "      <td>3.74</td>\n",
       "      <td>3.294612</td>\n",
       "      <td>11.908759</td>\n",
       "      <td>3.363893</td>\n",
       "      <td>10.056330</td>\n",
       "    </tr>\n",
       "  </tbody>\n",
       "</table>\n",
       "</div>"
      ],
      "text/plain": [
       "   target  prediction_xgb  MAPE_error  prediction_xgb_log  MAPE_log_error\n",
       "0    8.13        6.247589   23.153885            6.363876       21.723538\n",
       "1    2.42        2.285673    5.550716            2.537072        4.837674\n",
       "2    1.04        0.984061    5.378704            0.984656        5.321524\n",
       "3    4.55        4.405120    3.184178            4.155797        8.663792\n",
       "4    3.74        3.294612   11.908759            3.363893       10.056330"
      ]
     },
     "execution_count": 113,
     "metadata": {},
     "output_type": "execute_result"
    }
   ],
   "source": [
    "comparisonset['MAPE_error'] = comparisonset.apply(lambda x: mean_absolute_percentage_error(x['target'], x['prediction_xgb']), axis=1)\n",
    "comparisonset['MAPE_log_error'] = comparisonset.apply(lambda x: mean_absolute_percentage_error(x['target'], x['prediction_xgb_log']), axis=1)\n",
    "\n",
    "comparisonset[['target', 'prediction_xgb', 'MAPE_error', 'prediction_xgb_log', 'MAPE_log_error']].head()"
   ]
  },
  {
   "cell_type": "code",
   "execution_count": 114,
   "metadata": {},
   "outputs": [
    {
     "data": {
      "text/plain": [
       "17.384285049363946"
      ]
     },
     "execution_count": 114,
     "metadata": {},
     "output_type": "execute_result"
    }
   ],
   "source": [
    "#MAPE\n",
    "comparisonset['MAPE_error'].mean()"
   ]
  },
  {
   "cell_type": "code",
   "execution_count": 115,
   "metadata": {},
   "outputs": [
    {
     "data": {
      "text/html": [
       "<div>\n",
       "<style scoped>\n",
       "    .dataframe tbody tr th:only-of-type {\n",
       "        vertical-align: middle;\n",
       "    }\n",
       "\n",
       "    .dataframe tbody tr th {\n",
       "        vertical-align: top;\n",
       "    }\n",
       "\n",
       "    .dataframe thead tr th {\n",
       "        text-align: left;\n",
       "    }\n",
       "\n",
       "    .dataframe thead tr:last-of-type th {\n",
       "        text-align: right;\n",
       "    }\n",
       "</style>\n",
       "<table border=\"1\" class=\"dataframe\">\n",
       "  <thead>\n",
       "    <tr>\n",
       "      <th></th>\n",
       "      <th></th>\n",
       "      <th colspan=\"2\" halign=\"left\">MSE_xgb</th>\n",
       "      <th colspan=\"2\" halign=\"left\">MSE_log_xgb</th>\n",
       "      <th colspan=\"2\" halign=\"left\">MAPE_error</th>\n",
       "      <th colspan=\"2\" halign=\"left\">MAPE_log_error</th>\n",
       "      <th>COART</th>\n",
       "    </tr>\n",
       "    <tr>\n",
       "      <th></th>\n",
       "      <th></th>\n",
       "      <th>mean</th>\n",
       "      <th>max</th>\n",
       "      <th>mean</th>\n",
       "      <th>max</th>\n",
       "      <th>mean</th>\n",
       "      <th>max</th>\n",
       "      <th>mean</th>\n",
       "      <th>max</th>\n",
       "      <th>count</th>\n",
       "    </tr>\n",
       "    <tr>\n",
       "      <th>thickness</th>\n",
       "      <th>bend_group</th>\n",
       "      <th></th>\n",
       "      <th></th>\n",
       "      <th></th>\n",
       "      <th></th>\n",
       "      <th></th>\n",
       "      <th></th>\n",
       "      <th></th>\n",
       "      <th></th>\n",
       "      <th></th>\n",
       "    </tr>\n",
       "  </thead>\n",
       "  <tbody>\n",
       "    <tr>\n",
       "      <th rowspan=\"3\" valign=\"top\">2.0</th>\n",
       "      <th>1-2</th>\n",
       "      <td>0.789930</td>\n",
       "      <td>1.693163</td>\n",
       "      <td>0.232870</td>\n",
       "      <td>0.679596</td>\n",
       "      <td>30.444858</td>\n",
       "      <td>59.044475</td>\n",
       "      <td>16.749340</td>\n",
       "      <td>66.481945</td>\n",
       "      <td>10</td>\n",
       "    </tr>\n",
       "    <tr>\n",
       "      <th>3-5</th>\n",
       "      <td>17.242817</td>\n",
       "      <td>86.373885</td>\n",
       "      <td>3.081754</td>\n",
       "      <td>13.555771</td>\n",
       "      <td>17.172067</td>\n",
       "      <td>31.534430</td>\n",
       "      <td>15.337275</td>\n",
       "      <td>26.451080</td>\n",
       "      <td>10</td>\n",
       "    </tr>\n",
       "    <tr>\n",
       "      <th>6+</th>\n",
       "      <td>299.077386</td>\n",
       "      <td>1618.569437</td>\n",
       "      <td>68.590038</td>\n",
       "      <td>140.057622</td>\n",
       "      <td>42.007536</td>\n",
       "      <td>165.561516</td>\n",
       "      <td>27.932349</td>\n",
       "      <td>48.842733</td>\n",
       "      <td>6</td>\n",
       "    </tr>\n",
       "    <tr>\n",
       "      <th rowspan=\"4\" valign=\"top\">3.0</th>\n",
       "      <th>0</th>\n",
       "      <td>1.042926</td>\n",
       "      <td>3.446628</td>\n",
       "      <td>0.786186</td>\n",
       "      <td>3.971871</td>\n",
       "      <td>31.277600</td>\n",
       "      <td>125.440359</td>\n",
       "      <td>28.758649</td>\n",
       "      <td>132.208443</td>\n",
       "      <td>26</td>\n",
       "    </tr>\n",
       "    <tr>\n",
       "      <th>1-2</th>\n",
       "      <td>0.586236</td>\n",
       "      <td>3.504257</td>\n",
       "      <td>1.179674</td>\n",
       "      <td>10.381570</td>\n",
       "      <td>16.697970</td>\n",
       "      <td>63.519042</td>\n",
       "      <td>15.069473</td>\n",
       "      <td>56.129915</td>\n",
       "      <td>40</td>\n",
       "    </tr>\n",
       "    <tr>\n",
       "      <th>3-5</th>\n",
       "      <td>1.685345</td>\n",
       "      <td>9.964715</td>\n",
       "      <td>5.681131</td>\n",
       "      <td>96.920306</td>\n",
       "      <td>12.247693</td>\n",
       "      <td>40.387545</td>\n",
       "      <td>15.076572</td>\n",
       "      <td>34.748703</td>\n",
       "      <td>36</td>\n",
       "    </tr>\n",
       "    <tr>\n",
       "      <th>6+</th>\n",
       "      <td>4.577101</td>\n",
       "      <td>11.883075</td>\n",
       "      <td>14.762025</td>\n",
       "      <td>33.267529</td>\n",
       "      <td>9.397242</td>\n",
       "      <td>24.190762</td>\n",
       "      <td>14.084572</td>\n",
       "      <td>32.155689</td>\n",
       "      <td>4</td>\n",
       "    </tr>\n",
       "    <tr>\n",
       "      <th rowspan=\"4\" valign=\"top\">4.0</th>\n",
       "      <th>0</th>\n",
       "      <td>1.864336</td>\n",
       "      <td>38.237013</td>\n",
       "      <td>1.263442</td>\n",
       "      <td>12.127006</td>\n",
       "      <td>36.372762</td>\n",
       "      <td>81.731619</td>\n",
       "      <td>28.809258</td>\n",
       "      <td>82.198269</td>\n",
       "      <td>34</td>\n",
       "    </tr>\n",
       "    <tr>\n",
       "      <th>1-2</th>\n",
       "      <td>1.340001</td>\n",
       "      <td>36.262120</td>\n",
       "      <td>4.973936</td>\n",
       "      <td>442.300435</td>\n",
       "      <td>19.336137</td>\n",
       "      <td>78.954547</td>\n",
       "      <td>16.864408</td>\n",
       "      <td>84.497381</td>\n",
       "      <td>111</td>\n",
       "    </tr>\n",
       "    <tr>\n",
       "      <th>3-5</th>\n",
       "      <td>35.270152</td>\n",
       "      <td>1101.728280</td>\n",
       "      <td>113.862885</td>\n",
       "      <td>4183.234154</td>\n",
       "      <td>15.827553</td>\n",
       "      <td>65.714301</td>\n",
       "      <td>16.970220</td>\n",
       "      <td>59.321220</td>\n",
       "      <td>39</td>\n",
       "    </tr>\n",
       "    <tr>\n",
       "      <th>6+</th>\n",
       "      <td>6.793769</td>\n",
       "      <td>12.931602</td>\n",
       "      <td>4.135170</td>\n",
       "      <td>12.360032</td>\n",
       "      <td>29.487357</td>\n",
       "      <td>38.708866</td>\n",
       "      <td>14.005766</td>\n",
       "      <td>37.843743</td>\n",
       "      <td>3</td>\n",
       "    </tr>\n",
       "    <tr>\n",
       "      <th rowspan=\"4\" valign=\"top\">5.0</th>\n",
       "      <th>0</th>\n",
       "      <td>0.377752</td>\n",
       "      <td>3.543471</td>\n",
       "      <td>0.274750</td>\n",
       "      <td>3.119193</td>\n",
       "      <td>26.714459</td>\n",
       "      <td>130.832725</td>\n",
       "      <td>21.000187</td>\n",
       "      <td>105.361538</td>\n",
       "      <td>47</td>\n",
       "    </tr>\n",
       "    <tr>\n",
       "      <th>1-2</th>\n",
       "      <td>1.308554</td>\n",
       "      <td>44.631689</td>\n",
       "      <td>2.175517</td>\n",
       "      <td>52.015837</td>\n",
       "      <td>14.202489</td>\n",
       "      <td>52.197496</td>\n",
       "      <td>13.191193</td>\n",
       "      <td>67.895570</td>\n",
       "      <td>75</td>\n",
       "    </tr>\n",
       "    <tr>\n",
       "      <th>3-5</th>\n",
       "      <td>4.535195</td>\n",
       "      <td>31.335906</td>\n",
       "      <td>9.184311</td>\n",
       "      <td>97.913009</td>\n",
       "      <td>14.120631</td>\n",
       "      <td>49.494680</td>\n",
       "      <td>11.887309</td>\n",
       "      <td>29.414686</td>\n",
       "      <td>17</td>\n",
       "    </tr>\n",
       "    <tr>\n",
       "      <th>6+</th>\n",
       "      <td>40.861986</td>\n",
       "      <td>121.612766</td>\n",
       "      <td>153.272913</td>\n",
       "      <td>416.001835</td>\n",
       "      <td>7.697981</td>\n",
       "      <td>17.896491</td>\n",
       "      <td>22.688871</td>\n",
       "      <td>33.099843</td>\n",
       "      <td>3</td>\n",
       "    </tr>\n",
       "    <tr>\n",
       "      <th rowspan=\"4\" valign=\"top\">6.0</th>\n",
       "      <th>0</th>\n",
       "      <td>0.364592</td>\n",
       "      <td>7.914792</td>\n",
       "      <td>0.339986</td>\n",
       "      <td>10.743146</td>\n",
       "      <td>17.729399</td>\n",
       "      <td>138.143102</td>\n",
       "      <td>13.966710</td>\n",
       "      <td>95.912576</td>\n",
       "      <td>112</td>\n",
       "    </tr>\n",
       "    <tr>\n",
       "      <th>1-2</th>\n",
       "      <td>0.686750</td>\n",
       "      <td>15.235957</td>\n",
       "      <td>0.690600</td>\n",
       "      <td>14.012579</td>\n",
       "      <td>11.360149</td>\n",
       "      <td>63.876042</td>\n",
       "      <td>11.273351</td>\n",
       "      <td>65.962428</td>\n",
       "      <td>149</td>\n",
       "    </tr>\n",
       "    <tr>\n",
       "      <th>3-5</th>\n",
       "      <td>4.039741</td>\n",
       "      <td>54.468308</td>\n",
       "      <td>6.527176</td>\n",
       "      <td>70.464055</td>\n",
       "      <td>14.516742</td>\n",
       "      <td>42.351525</td>\n",
       "      <td>15.406973</td>\n",
       "      <td>39.956274</td>\n",
       "      <td>37</td>\n",
       "    </tr>\n",
       "    <tr>\n",
       "      <th>6+</th>\n",
       "      <td>5.406164</td>\n",
       "      <td>5.406164</td>\n",
       "      <td>8.742786</td>\n",
       "      <td>8.742786</td>\n",
       "      <td>17.210333</td>\n",
       "      <td>17.210333</td>\n",
       "      <td>21.886160</td>\n",
       "      <td>21.886160</td>\n",
       "      <td>1</td>\n",
       "    </tr>\n",
       "    <tr>\n",
       "      <th rowspan=\"3\" valign=\"top\">8.0</th>\n",
       "      <th>0</th>\n",
       "      <td>0.762397</td>\n",
       "      <td>25.696047</td>\n",
       "      <td>0.910845</td>\n",
       "      <td>26.371251</td>\n",
       "      <td>15.625652</td>\n",
       "      <td>121.942737</td>\n",
       "      <td>13.507602</td>\n",
       "      <td>78.032679</td>\n",
       "      <td>131</td>\n",
       "    </tr>\n",
       "    <tr>\n",
       "      <th>1-2</th>\n",
       "      <td>0.849314</td>\n",
       "      <td>14.088201</td>\n",
       "      <td>0.838951</td>\n",
       "      <td>23.636774</td>\n",
       "      <td>10.827093</td>\n",
       "      <td>54.972006</td>\n",
       "      <td>9.452187</td>\n",
       "      <td>40.559463</td>\n",
       "      <td>96</td>\n",
       "    </tr>\n",
       "    <tr>\n",
       "      <th>3-5</th>\n",
       "      <td>1.613998</td>\n",
       "      <td>7.100376</td>\n",
       "      <td>2.011610</td>\n",
       "      <td>14.159174</td>\n",
       "      <td>11.780147</td>\n",
       "      <td>30.628196</td>\n",
       "      <td>10.985218</td>\n",
       "      <td>28.229020</td>\n",
       "      <td>16</td>\n",
       "    </tr>\n",
       "    <tr>\n",
       "      <th rowspan=\"3\" valign=\"top\">10.0</th>\n",
       "      <th>0</th>\n",
       "      <td>2.333499</td>\n",
       "      <td>63.447640</td>\n",
       "      <td>4.865210</td>\n",
       "      <td>219.105076</td>\n",
       "      <td>18.318215</td>\n",
       "      <td>132.827928</td>\n",
       "      <td>14.448111</td>\n",
       "      <td>61.048754</td>\n",
       "      <td>77</td>\n",
       "    </tr>\n",
       "    <tr>\n",
       "      <th>1-2</th>\n",
       "      <td>3.150066</td>\n",
       "      <td>60.103856</td>\n",
       "      <td>15.229764</td>\n",
       "      <td>221.464776</td>\n",
       "      <td>7.820945</td>\n",
       "      <td>34.234108</td>\n",
       "      <td>9.528738</td>\n",
       "      <td>40.587021</td>\n",
       "      <td>64</td>\n",
       "    </tr>\n",
       "    <tr>\n",
       "      <th>3-5</th>\n",
       "      <td>5.959341</td>\n",
       "      <td>22.759792</td>\n",
       "      <td>9.471856</td>\n",
       "      <td>31.662483</td>\n",
       "      <td>11.847032</td>\n",
       "      <td>31.870076</td>\n",
       "      <td>13.688886</td>\n",
       "      <td>27.925509</td>\n",
       "      <td>8</td>\n",
       "    </tr>\n",
       "    <tr>\n",
       "      <th rowspan=\"2\" valign=\"top\">12.0</th>\n",
       "      <th>0</th>\n",
       "      <td>2.690693</td>\n",
       "      <td>40.712723</td>\n",
       "      <td>3.633787</td>\n",
       "      <td>48.223933</td>\n",
       "      <td>25.976203</td>\n",
       "      <td>112.120671</td>\n",
       "      <td>15.554088</td>\n",
       "      <td>56.164739</td>\n",
       "      <td>63</td>\n",
       "    </tr>\n",
       "    <tr>\n",
       "      <th>1-2</th>\n",
       "      <td>1.856798</td>\n",
       "      <td>7.033996</td>\n",
       "      <td>2.135752</td>\n",
       "      <td>17.784271</td>\n",
       "      <td>32.223883</td>\n",
       "      <td>337.991619</td>\n",
       "      <td>23.625227</td>\n",
       "      <td>204.585267</td>\n",
       "      <td>28</td>\n",
       "    </tr>\n",
       "    <tr>\n",
       "      <th rowspan=\"3\" valign=\"top\">15.0</th>\n",
       "      <th>0</th>\n",
       "      <td>5.806687</td>\n",
       "      <td>78.519725</td>\n",
       "      <td>7.067187</td>\n",
       "      <td>100.898044</td>\n",
       "      <td>22.880161</td>\n",
       "      <td>152.499656</td>\n",
       "      <td>14.190499</td>\n",
       "      <td>69.708810</td>\n",
       "      <td>45</td>\n",
       "    </tr>\n",
       "    <tr>\n",
       "      <th>1-2</th>\n",
       "      <td>1.216222</td>\n",
       "      <td>4.637445</td>\n",
       "      <td>1.871973</td>\n",
       "      <td>8.421677</td>\n",
       "      <td>10.265178</td>\n",
       "      <td>26.008124</td>\n",
       "      <td>13.384222</td>\n",
       "      <td>35.048462</td>\n",
       "      <td>6</td>\n",
       "    </tr>\n",
       "    <tr>\n",
       "      <th>3-5</th>\n",
       "      <td>1.156587</td>\n",
       "      <td>1.156587</td>\n",
       "      <td>0.503095</td>\n",
       "      <td>0.503095</td>\n",
       "      <td>8.844138</td>\n",
       "      <td>8.844138</td>\n",
       "      <td>5.832990</td>\n",
       "      <td>5.832990</td>\n",
       "      <td>1</td>\n",
       "    </tr>\n",
       "  </tbody>\n",
       "</table>\n",
       "</div>"
      ],
      "text/plain": [
       "                         MSE_xgb              MSE_log_xgb               \\\n",
       "                            mean          max        mean          max   \n",
       "thickness bend_group                                                     \n",
       "2.0       1-2           0.789930     1.693163    0.232870     0.679596   \n",
       "          3-5          17.242817    86.373885    3.081754    13.555771   \n",
       "          6+          299.077386  1618.569437   68.590038   140.057622   \n",
       "3.0       0             1.042926     3.446628    0.786186     3.971871   \n",
       "          1-2           0.586236     3.504257    1.179674    10.381570   \n",
       "          3-5           1.685345     9.964715    5.681131    96.920306   \n",
       "          6+            4.577101    11.883075   14.762025    33.267529   \n",
       "4.0       0             1.864336    38.237013    1.263442    12.127006   \n",
       "          1-2           1.340001    36.262120    4.973936   442.300435   \n",
       "          3-5          35.270152  1101.728280  113.862885  4183.234154   \n",
       "          6+            6.793769    12.931602    4.135170    12.360032   \n",
       "5.0       0             0.377752     3.543471    0.274750     3.119193   \n",
       "          1-2           1.308554    44.631689    2.175517    52.015837   \n",
       "          3-5           4.535195    31.335906    9.184311    97.913009   \n",
       "          6+           40.861986   121.612766  153.272913   416.001835   \n",
       "6.0       0             0.364592     7.914792    0.339986    10.743146   \n",
       "          1-2           0.686750    15.235957    0.690600    14.012579   \n",
       "          3-5           4.039741    54.468308    6.527176    70.464055   \n",
       "          6+            5.406164     5.406164    8.742786     8.742786   \n",
       "8.0       0             0.762397    25.696047    0.910845    26.371251   \n",
       "          1-2           0.849314    14.088201    0.838951    23.636774   \n",
       "          3-5           1.613998     7.100376    2.011610    14.159174   \n",
       "10.0      0             2.333499    63.447640    4.865210   219.105076   \n",
       "          1-2           3.150066    60.103856   15.229764   221.464776   \n",
       "          3-5           5.959341    22.759792    9.471856    31.662483   \n",
       "12.0      0             2.690693    40.712723    3.633787    48.223933   \n",
       "          1-2           1.856798     7.033996    2.135752    17.784271   \n",
       "15.0      0             5.806687    78.519725    7.067187   100.898044   \n",
       "          1-2           1.216222     4.637445    1.871973     8.421677   \n",
       "          3-5           1.156587     1.156587    0.503095     0.503095   \n",
       "\n",
       "                     MAPE_error             MAPE_log_error             COART  \n",
       "                           mean         max           mean         max count  \n",
       "thickness bend_group                                                          \n",
       "2.0       1-2         30.444858   59.044475      16.749340   66.481945    10  \n",
       "          3-5         17.172067   31.534430      15.337275   26.451080    10  \n",
       "          6+          42.007536  165.561516      27.932349   48.842733     6  \n",
       "3.0       0           31.277600  125.440359      28.758649  132.208443    26  \n",
       "          1-2         16.697970   63.519042      15.069473   56.129915    40  \n",
       "          3-5         12.247693   40.387545      15.076572   34.748703    36  \n",
       "          6+           9.397242   24.190762      14.084572   32.155689     4  \n",
       "4.0       0           36.372762   81.731619      28.809258   82.198269    34  \n",
       "          1-2         19.336137   78.954547      16.864408   84.497381   111  \n",
       "          3-5         15.827553   65.714301      16.970220   59.321220    39  \n",
       "          6+          29.487357   38.708866      14.005766   37.843743     3  \n",
       "5.0       0           26.714459  130.832725      21.000187  105.361538    47  \n",
       "          1-2         14.202489   52.197496      13.191193   67.895570    75  \n",
       "          3-5         14.120631   49.494680      11.887309   29.414686    17  \n",
       "          6+           7.697981   17.896491      22.688871   33.099843     3  \n",
       "6.0       0           17.729399  138.143102      13.966710   95.912576   112  \n",
       "          1-2         11.360149   63.876042      11.273351   65.962428   149  \n",
       "          3-5         14.516742   42.351525      15.406973   39.956274    37  \n",
       "          6+          17.210333   17.210333      21.886160   21.886160     1  \n",
       "8.0       0           15.625652  121.942737      13.507602   78.032679   131  \n",
       "          1-2         10.827093   54.972006       9.452187   40.559463    96  \n",
       "          3-5         11.780147   30.628196      10.985218   28.229020    16  \n",
       "10.0      0           18.318215  132.827928      14.448111   61.048754    77  \n",
       "          1-2          7.820945   34.234108       9.528738   40.587021    64  \n",
       "          3-5         11.847032   31.870076      13.688886   27.925509     8  \n",
       "12.0      0           25.976203  112.120671      15.554088   56.164739    63  \n",
       "          1-2         32.223883  337.991619      23.625227  204.585267    28  \n",
       "15.0      0           22.880161  152.499656      14.190499   69.708810    45  \n",
       "          1-2         10.265178   26.008124      13.384222   35.048462     6  \n",
       "          3-5          8.844138    8.844138       5.832990    5.832990     1  "
      ]
     },
     "execution_count": 115,
     "metadata": {},
     "output_type": "execute_result"
    }
   ],
   "source": [
    "#If bends use this line\n",
    "if target == 'VALAJOUT' or target == 'VALTOT':\n",
    "    df = comparisonset[['MSE_xgb', 'MSE_log_xgb','MAPE_error', 'MAPE_log_error', 'thickness', 'bend_group', 'COART']].groupby(['thickness', 'bend_group'])\n",
    "\n",
    "#If no bends use this line\n",
    "if target == 'VAMAT':\n",
    "    df = comparisonset[['MSE_xgb', 'MSE_log_xgb','MAPE_error', 'MAPE_log_error', 'thickness', 'COART']].groupby(['thickness'])\n",
    "\n",
    "df.agg({'MSE_xgb': ['mean', 'max'],\n",
    "        'MSE_log_xgb': ['mean', 'max'],\n",
    "        'MAPE_error': ['mean', 'max'],\n",
    "        'MAPE_log_error': ['mean', 'max'],\n",
    "        'COART':['count'] })"
   ]
  },
  {
   "cell_type": "code",
   "execution_count": 116,
   "metadata": {},
   "outputs": [
    {
     "data": {
      "image/png": "[encoded data removed]",
      "text/plain": [
       "<Figure size 432x288 with 1 Axes>"
      ]
     },
     "metadata": {},
     "output_type": "display_data"
    },
    {
     "data": {
      "text/html": [
       "<div>\n",
       "<style scoped>\n",
       "    .dataframe tbody tr th:only-of-type {\n",
       "        vertical-align: middle;\n",
       "    }\n",
       "\n",
       "    .dataframe tbody tr th {\n",
       "        vertical-align: top;\n",
       "    }\n",
       "\n",
       "    .dataframe thead tr th {\n",
       "        text-align: left;\n",
       "    }\n",
       "\n",
       "    .dataframe thead tr:last-of-type th {\n",
       "        text-align: right;\n",
       "    }\n",
       "</style>\n",
       "<table border=\"1\" class=\"dataframe\">\n",
       "  <thead>\n",
       "    <tr>\n",
       "      <th></th>\n",
       "      <th>MAPE_error</th>\n",
       "      <th>MAPE_log_error</th>\n",
       "      <th>COART</th>\n",
       "    </tr>\n",
       "    <tr>\n",
       "      <th></th>\n",
       "      <th>mean</th>\n",
       "      <th>mean</th>\n",
       "      <th>count</th>\n",
       "    </tr>\n",
       "    <tr>\n",
       "      <th>thickness</th>\n",
       "      <th></th>\n",
       "      <th></th>\n",
       "      <th></th>\n",
       "    </tr>\n",
       "  </thead>\n",
       "  <tbody>\n",
       "    <tr>\n",
       "      <th>2.0</th>\n",
       "      <td>28.008249</td>\n",
       "      <td>18.786933</td>\n",
       "      <td>26</td>\n",
       "    </tr>\n",
       "    <tr>\n",
       "      <th>3.0</th>\n",
       "      <td>18.487191</td>\n",
       "      <td>18.392440</td>\n",
       "      <td>106</td>\n",
       "    </tr>\n",
       "    <tr>\n",
       "      <th>4.0</th>\n",
       "      <td>21.864822</td>\n",
       "      <td>19.012406</td>\n",
       "      <td>187</td>\n",
       "    </tr>\n",
       "    <tr>\n",
       "      <th>5.0</th>\n",
       "      <td>18.196556</td>\n",
       "      <td>15.820416</td>\n",
       "      <td>142</td>\n",
       "    </tr>\n",
       "    <tr>\n",
       "      <th>6.0</th>\n",
       "      <td>14.156136</td>\n",
       "      <td>12.829248</td>\n",
       "      <td>299</td>\n",
       "    </tr>\n",
       "    <tr>\n",
       "      <th>8.0</th>\n",
       "      <td>13.476723</td>\n",
       "      <td>11.739380</td>\n",
       "      <td>243</td>\n",
       "    </tr>\n",
       "    <tr>\n",
       "      <th>10.0</th>\n",
       "      <td>13.461875</td>\n",
       "      <td>12.294328</td>\n",
       "      <td>149</td>\n",
       "    </tr>\n",
       "    <tr>\n",
       "      <th>12.0</th>\n",
       "      <td>27.898566</td>\n",
       "      <td>18.037515</td>\n",
       "      <td>91</td>\n",
       "    </tr>\n",
       "    <tr>\n",
       "      <th>15.0</th>\n",
       "      <td>21.154663</td>\n",
       "      <td>13.936746</td>\n",
       "      <td>52</td>\n",
       "    </tr>\n",
       "  </tbody>\n",
       "</table>\n",
       "</div>"
      ],
      "text/plain": [
       "          MAPE_error MAPE_log_error COART\n",
       "                mean           mean count\n",
       "thickness                                \n",
       "2.0        28.008249      18.786933    26\n",
       "3.0        18.487191      18.392440   106\n",
       "4.0        21.864822      19.012406   187\n",
       "5.0        18.196556      15.820416   142\n",
       "6.0        14.156136      12.829248   299\n",
       "8.0        13.476723      11.739380   243\n",
       "10.0       13.461875      12.294328   149\n",
       "12.0       27.898566      18.037515    91\n",
       "15.0       21.154663      13.936746    52"
      ]
     },
     "execution_count": 116,
     "metadata": {},
     "output_type": "execute_result"
    }
   ],
   "source": [
    "df = comparisonset[['MAPE_error', 'MAPE_log_error', 'thickness']].groupby('thickness').mean()\n",
    "df.plot.bar()\n",
    "plt.title(f'{target} MAPE')\n",
    "plt.show()\n",
    "comparisonset.groupby('thickness').agg({'MAPE_error':['mean'],\n",
    "                                         'MAPE_log_error':['mean'],\n",
    "                                         'COART':['count']})"
   ]
  },
  {
   "cell_type": "code",
   "execution_count": 117,
   "metadata": {},
   "outputs": [
    {
     "data": {
      "image/png": "[encoded data removed]",
      "text/plain": [
       "<Figure size 1080x720 with 1 Axes>"
      ]
     },
     "metadata": {},
     "output_type": "display_data"
    }
   ],
   "source": [
    "#Violin plot\n",
    "df=comparisonset[['target', 'prediction_xgb', 'COART', 'thickness']]\n",
    "#df=df[df['thickness']!=15]\n",
    "df.set_index(['COART', 'thickness'], inplace=True)\n",
    "df = df.stack().reset_index()\n",
    "fig, ax = plt.subplots(figsize=(15,10))\n",
    "#ax.set_ylim(-100, 100)\n",
    "sns.violinplot(x=\"thickness\", y=0, data=df, split=True, hue='level_2', ax=ax)\n",
    "plt.title('Violin plot - Direct prediction')\n",
    "plt.show()"
   ]
  },
  {
   "cell_type": "code",
   "execution_count": 118,
   "metadata": {},
   "outputs": [
    {
     "data": {
      "image/png": "[encoded data removed]",
      "text/plain": [
       "<Figure size 1080x720 with 1 Axes>"
      ]
     },
     "metadata": {},
     "output_type": "display_data"
    }
   ],
   "source": [
    "#Violin plot\n",
    "df=comparisonset[['target', 'prediction_xgb_log', 'COART', 'thickness']]\n",
    "#df=df[df['thickness']!=15]\n",
    "df.set_index(['COART', 'thickness'], inplace=True)\n",
    "df = df.stack().reset_index()\n",
    "fig, ax = plt.subplots(figsize=(15,10))\n",
    "#ax.set_ylim(-100, 100)\n",
    "sns.violinplot(x=\"thickness\", y=0, data=df, split=True, hue='level_2', ax=ax)\n",
    "plt.title('Violin plot - BOXCOX prediction')\n",
    "plt.show()"
   ]
  },
  {
   "cell_type": "code",
   "execution_count": 120,
   "metadata": {
    "scrolled": true
   },
   "outputs": [
    {
     "name": "stderr",
     "output_type": "stream",
     "text": [
      "/Users/cricket/anaconda3/lib/python3.6/site-packages/matplotlib/axes/_axes.py:6448: UserWarning: The 'normed' kwarg is deprecated, and has been replaced by the 'density' kwarg.\n",
      "  warnings.warn(\"The 'normed' kwarg is deprecated, and has been \"\n"
     ]
    },
    {
     "data": {
      "image/png": "[encoded data removed]",
      "text/plain": [
       "<Figure size 576x576 with 3 Axes>"
      ]
     },
     "metadata": {},
     "output_type": "display_data"
    }
   ],
   "source": [
    "# No BOXCOX\n",
    "sns.jointplot(x='target', y='prediction_xgb', data=comparisonset, kind='reg', size=8)\n",
    "plt.show()"
   ]
  },
  {
   "cell_type": "code",
   "execution_count": 121,
   "metadata": {},
   "outputs": [
    {
     "data": {
      "image/png": "[encoded data removed]",
      "text/plain": [
       "<Figure size 720x720 with 4 Axes>"
      ]
     },
     "metadata": {},
     "output_type": "display_data"
    }
   ],
   "source": [
    "sns.lmplot(x='target',\n",
    "           y='prediction_xgb',\n",
    "           col='bend_group',\n",
    "           hue='bend_group',\n",
    "           data=comparisonset,\n",
    "           aspect=1,\n",
    "           col_wrap=2,\n",
    "           size=5,\n",
    "           legend=True)\n",
    "plt.show()"
   ]
  },
  {
   "cell_type": "code",
   "execution_count": 122,
   "metadata": {
    "scrolled": true
   },
   "outputs": [
    {
     "name": "stderr",
     "output_type": "stream",
     "text": [
      "/Users/cricket/anaconda3/lib/python3.6/site-packages/matplotlib/axes/_axes.py:6448: UserWarning: The 'normed' kwarg is deprecated, and has been replaced by the 'density' kwarg.\n",
      "  warnings.warn(\"The 'normed' kwarg is deprecated, and has been \"\n"
     ]
    },
    {
     "data": {
      "image/png": "[encoded data removed]",
      "text/plain": [
       "<Figure size 576x576 with 3 Axes>"
      ]
     },
     "metadata": {},
     "output_type": "display_data"
    }
   ],
   "source": [
    "# With BOXCOX\n",
    "sns.jointplot(x='target', y='prediction_xgb_log', data=comparisonset, kind='reg',size=8)\n",
    "plt.show()"
   ]
  },
  {
   "cell_type": "code",
   "execution_count": 123,
   "metadata": {},
   "outputs": [
    {
     "data": {
      "image/png": "[encoded data removed]",
      "text/plain": [
       "<Figure size 720x720 with 4 Axes>"
      ]
     },
     "metadata": {},
     "output_type": "display_data"
    }
   ],
   "source": [
    "sns.lmplot(x='target',\n",
    "           y='prediction_xgb_log',\n",
    "           col='bend_group',\n",
    "           hue='bend_group',\n",
    "           data=comparisonset,\n",
    "           aspect=1,\n",
    "           col_wrap=2,\n",
    "           size=5,\n",
    "           #palette=\"Set1\",\n",
    "           legend=True),\n",
    "plt.show()"
   ]
  },
  {
   "cell_type": "code",
   "execution_count": 124,
   "metadata": {},
   "outputs": [
    {
     "name": "stdout",
     "output_type": "stream",
     "text": [
      "(45,)\n"
     ]
    },
    {
     "data": {
      "text/plain": [
       "thickness  COART   \n",
       "2.0        L7067210    1618.569437\n",
       "           L5606430      97.169678\n",
       "           L6012920      86.373885\n",
       "           L6003820      81.421527\n",
       "           L5606410      52.447326\n",
       "3.0        L8033191      11.883075\n",
       "           L8041050       9.964715\n",
       "           L7069470       8.847992\n",
       "           L8416790       8.236094\n",
       "           L7069460       7.314048\n",
       "4.0        L1608630    1101.728280\n",
       "           L6006670      98.310080\n",
       "           L8808960      46.264183\n",
       "           L8833310      38.237013\n",
       "           L7074570      36.262120\n",
       "5.0        L3122540     121.612766\n",
       "           L7018061      44.631689\n",
       "           L2608480      31.335906\n",
       "           L8807850      25.022720\n",
       "           L7065860      12.013951\n",
       "6.0        L6000541      54.468308\n",
       "           L8816941      22.493697\n",
       "           L2605990      17.614120\n",
       "           L7068571      15.235957\n",
       "           L7026880       7.967882\n",
       "8.0        L7080990      25.696047\n",
       "           L7081680      14.088201\n",
       "           L3128850      10.499202\n",
       "           L7021850       7.794301\n",
       "           L8417830       7.779655\n",
       "10.0       L1608200      63.447640\n",
       "           L3027451      60.103856\n",
       "           L3036271      35.002522\n",
       "           L3027431      33.061730\n",
       "           L2703550      22.759792\n",
       "12.0       L3070270      40.712723\n",
       "           L3065080      31.617384\n",
       "           L8417610      22.149948\n",
       "           L8414000      17.550457\n",
       "           L8056700      12.725852\n",
       "15.0       L2522010      78.519725\n",
       "           L3126440      62.746451\n",
       "           L7082620      20.779342\n",
       "           L8038121      13.229059\n",
       "           L3047840      12.732224\n",
       "Name: MSE_xgb, dtype: float64"
      ]
     },
     "execution_count": 124,
     "metadata": {},
     "output_type": "execute_result"
    }
   ],
   "source": [
    "df = comparisonset[['MSE_xgb', 'COART', 'thickness']]\n",
    "df.set_index('COART', inplace=True)\n",
    "worst = df.groupby('thickness')['MSE_xgb'].nlargest(5)\n",
    "\n",
    "worst.to_csv('../Y3 - Sample data/Z3 - outliers.csv')\n",
    "print(worst.shape)\n",
    "worst"
   ]
  },
  {
   "cell_type": "code",
   "execution_count": null,
   "metadata": {},
   "outputs": [],
   "source": [
    "#comparison\n",
    "\n",
    "#Thickness filter\n",
    "df = comparisonset[comparisonset['thickness'] == 8]\n",
    "\n",
    "#Cost filter Max\n",
    "#df = df[df[target]<15]\n",
    "\n",
    "#Cost filter Min\n",
    "#df = df[df[target]>10] #bend_count\n",
    "\n",
    "#Min rectangle area\n",
    "#df = df[df['minimum_rectangle_area'] < 700000]\n",
    "df = df[df['minimum_rectangle_area'] > 10000]\n",
    "\n",
    "#bend_count filter\n",
    "df = df[df['bend_count'] == 4]\n",
    "\n",
    "#df[df['COART']=='L3128890'].T\n",
    "df.T"
   ]
  },
  {
   "cell_type": "code",
   "execution_count": null,
   "metadata": {},
   "outputs": [],
   "source": [
    "dataset.loc[['L8835850']].T\n",
    "#comparisonset[comparisonset['COART'] == 'L3131690']"
   ]
  },
  {
   "cell_type": "code",
   "execution_count": null,
   "metadata": {},
   "outputs": [],
   "source": []
  },
  {
   "cell_type": "code",
   "execution_count": null,
   "metadata": {},
   "outputs": [],
   "source": []
  },
  {
   "cell_type": "markdown",
   "metadata": {},
   "source": [
    "# Summing solution :  \n",
    "VALTOT = VAMAT + VALAJOUT"
   ]
  },
  {
   "cell_type": "code",
   "execution_count": null,
   "metadata": {},
   "outputs": [],
   "source": [
    "resultset.head()"
   ]
  },
  {
   "cell_type": "code",
   "execution_count": null,
   "metadata": {},
   "outputs": [],
   "source": [
    "VAMAT = pd.read_csv('VAMAT_pred_lgbm.csv')\n",
    "VAMAT.columns = ['COART', 'VAMAT_pred']\n",
    "VALAJOUT = pd.read_csv('VALAJOUT_pred_lgbm.csv')\n",
    "VALAJOUT.columns = ['COART', 'VALAJOUT_pred']\n",
    "print(VAMAT.shape, VALAJOUT.shape)"
   ]
  },
  {
   "cell_type": "code",
   "execution_count": null,
   "metadata": {},
   "outputs": [],
   "source": [
    "sumset = pd.merge(resultset.reset_index(), VAMAT, on='COART', how='inner')\n",
    "sumset = pd.merge(sumset, VALAJOUT, on='COART', how='inner')\n",
    "\n",
    "sumset.shape"
   ]
  },
  {
   "cell_type": "code",
   "execution_count": null,
   "metadata": {},
   "outputs": [],
   "source": [
    "sumset['VALTOT_sum'] = sumset['VAMAT_pred'] + sumset['VALAJOUT_pred']\n",
    "sumset.head()"
   ]
  },
  {
   "cell_type": "code",
   "execution_count": null,
   "metadata": {},
   "outputs": [],
   "source": [
    "mean_absolute_percentage_error(sumset['target'], sumset['VALTOT_sum'])"
   ]
  },
  {
   "cell_type": "code",
   "execution_count": null,
   "metadata": {},
   "outputs": [],
   "source": [
    "mean_squared_error(sumset['target'], sumset['VALTOT_sum'])"
   ]
  },
  {
   "cell_type": "code",
   "execution_count": null,
   "metadata": {},
   "outputs": [],
   "source": [
    "sns.jointplot(x='target', y='VALTOT_sum', data=sumset, kind='reg', size=8)"
   ]
  },
  {
   "cell_type": "code",
   "execution_count": null,
   "metadata": {},
   "outputs": [],
   "source": []
  },
  {
   "cell_type": "code",
   "execution_count": null,
   "metadata": {},
   "outputs": [],
   "source": []
  },
  {
   "cell_type": "markdown",
   "metadata": {},
   "source": [
    "# Hyper Opt"
   ]
  },
  {
   "cell_type": "code",
   "execution_count": null,
   "metadata": {},
   "outputs": [],
   "source": [
    "from hyperopt import hp, tpe\n",
    "from hyperopt.fmin import fmin\n",
    "from sklearn.model_selection import cross_val_score"
   ]
  },
  {
   "cell_type": "markdown",
   "metadata": {},
   "source": [
    "https://github.com/hyperopt/hyperopt/wiki/FMin"
   ]
  },
  {
   "cell_type": "code",
   "execution_count": null,
   "metadata": {},
   "outputs": [],
   "source": [
    "\n",
    "scaler = StandardScaler()\n",
    "Xtr_scaled = scaler.fit_transform(X_train[limitedset])\n",
    "Xte_scaled = scaler.transform(X_test[limitedset])"
   ]
  },
  {
   "cell_type": "code",
   "execution_count": null,
   "metadata": {},
   "outputs": [],
   "source": [
    "def objective(params):\n",
    "    params = {\n",
    "        'num_leaves': int(params['num_leaves']),\n",
    "        'colsample_bytree': '{:.3f}'.format(params['colsample_bytree']),\n",
    "        'max_depth': int(params['num_leaves']),\n",
    "        'min_split_gain': params['min_split_gain'],\n",
    "        'reg_alpha': params['reg_alpha'],\n",
    "        #'reg_lambda': params['reg_lambda'],\n",
    "        'min_child_weight': int(params['min_child_weight']),\n",
    "        'learning_rate':params['learning_rate'],\n",
    "        \n",
    "    }\n",
    "    \n",
    "    clf = lgb.LGBMRegressor(objective='regression',\n",
    "        n_estimators=500,\n",
    "        **params\n",
    "    )\n",
    "    \n",
    "    score = cross_val_score(clf, Xtr_scaled, y_train[target], scoring='neg_mean_squared_error', cv=3).mean()\n",
    "    print(\"MSE {:.3f} params {}\".format(score, params))\n",
    "    return score\n",
    "\n",
    "space = {\n",
    "    'num_leaves': hp.quniform('num_leaves', 8, 128, 2),\n",
    "    'colsample_bytree': hp.uniform('colsample_bytree', 0.01, 1.0),\n",
    "    'max_depth': hp.uniform('max_depth', 1000, 1500),\n",
    "    'min_split_gain': hp.uniform('min_split_gain', 0, 10),\n",
    "    'reg_alpha': hp.loguniform('reg_alpha', -3, 3),\n",
    "    #'reg_lambda': hp.loguniform('reg_lambda', -3, 3),\n",
    "    'min_child_weight': hp.uniform('min_child_weight', 0, 20),\n",
    "    'learning_rate': hp.uniform('learning_rate', 0.001, 1.0),\n",
    "}\n",
    "\n",
    "best = fmin(fn=objective,\n",
    "            space=space,\n",
    "            algo=tpe.suggest,\n",
    "            max_evals=50)"
   ]
  },
  {
   "cell_type": "code",
   "execution_count": null,
   "metadata": {},
   "outputs": [],
   "source": [
    "print(\"Hyperopt estimated optimum {}\".format(best))"
   ]
  },
  {
   "cell_type": "code",
   "execution_count": null,
   "metadata": {},
   "outputs": [],
   "source": [
    "gbm = lgb.LGBMRegressor(objective='regression',\n",
    "                        learning_rate=0.1,\n",
    "                        n_estimators=500,\n",
    "                        max_depth=1100,\n",
    "                        lambda_l1=.4,\n",
    "                        #lambda_l2=4.58,\n",
    "                        colsample_bytree=0.06,\n",
    "                        num_leaves=100,\n",
    "                        min_split_gain=7,\n",
    "                        min_child_weight=13,\n",
    "                        random_state=0,\n",
    "                       )\n",
    "pipe = [('scaler', scaler), ('gbm', gbm)]\n",
    "regpip = Pipeline(pipe)\n",
    "regpip.fit(X_train[limitedset], y_train[target])"
   ]
  },
  {
   "cell_type": "code",
   "execution_count": null,
   "metadata": {},
   "outputs": [],
   "source": [
    "mean_squared_error(y_test[target], regpip.predict(X_test[limitedset]))"
   ]
  },
  {
   "cell_type": "code",
   "execution_count": null,
   "metadata": {},
   "outputs": [],
   "source": [
    "mean_squared_error(y_train[target], regpip.predict(X_train[limitedset]))"
   ]
  },
  {
   "cell_type": "code",
   "execution_count": null,
   "metadata": {},
   "outputs": [],
   "source": [
    "regpip.named_steps['gbm']"
   ]
  },
  {
   "cell_type": "code",
   "execution_count": null,
   "metadata": {},
   "outputs": [],
   "source": []
  }
 ],
 "metadata": {
  "kernelspec": {
   "display_name": "Python 3",
   "language": "python",
   "name": "python3"
  },
  "language_info": {
   "codemirror_mode": {
    "name": "ipython",
    "version": 3
   },
   "file_extension": ".py",
   "mimetype": "text/x-python",
   "name": "python",
   "nbconvert_exporter": "python",
   "pygments_lexer": "ipython3",
   "version": "3.6.4"
  }
 },
 "nbformat": 4,
 "nbformat_minor": 2
}
