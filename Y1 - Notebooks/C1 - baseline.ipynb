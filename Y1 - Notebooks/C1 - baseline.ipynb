{
 "cells": [
  {
   "cell_type": "code",
   "execution_count": 1,
   "metadata": {},
   "outputs": [],
   "source": [
    "import numpy as np\n",
    "import pandas as pd\n",
    "import matplotlib.pyplot as plt\n",
    "import seaborn as sns"
   ]
  },
  {
   "cell_type": "markdown",
   "metadata": {},
   "source": [
    "# Dataset loading"
   ]
  },
  {
   "cell_type": "code",
   "execution_count": 2,
   "metadata": {},
   "outputs": [
    {
     "name": "stdout",
     "output_type": "stream",
     "text": [
      "dataset shape: (5401, 665)\n"
     ]
    },
    {
     "data": {
      "text/html": [
       "<div>\n",
       "<style scoped>\n",
       "    .dataframe tbody tr th:only-of-type {\n",
       "        vertical-align: middle;\n",
       "    }\n",
       "\n",
       "    .dataframe tbody tr th {\n",
       "        vertical-align: top;\n",
       "    }\n",
       "\n",
       "    .dataframe thead th {\n",
       "        text-align: right;\n",
       "    }\n",
       "</style>\n",
       "<table border=\"1\" class=\"dataframe\">\n",
       "  <thead>\n",
       "    <tr style=\"text-align: right;\">\n",
       "      <th></th>\n",
       "      <th>cut_length</th>\n",
       "      <th>num_closed_patterns</th>\n",
       "      <th>num_open_patterns</th>\n",
       "      <th>total_area</th>\n",
       "      <th>minimum_rectangle_area</th>\n",
       "      <th>minimum_rectangle_dim1</th>\n",
       "      <th>minimum_rectangle_dim2</th>\n",
       "      <th>convex_hull_area</th>\n",
       "      <th>no_hole_area</th>\n",
       "      <th>thickness</th>\n",
       "      <th>...</th>\n",
       "      <th>bendlength_bend_edge_length_min_04</th>\n",
       "      <th>bendlength_bend_edge_length_max_04</th>\n",
       "      <th>weight</th>\n",
       "      <th>VAMAT</th>\n",
       "      <th>VALAJOUT</th>\n",
       "      <th>VALTOT</th>\n",
       "      <th>VOL_COST_CONVHULL</th>\n",
       "      <th>VOL_COST_RECTANGLE</th>\n",
       "      <th>VOL_COST_MPATTERN</th>\n",
       "      <th>bend_group</th>\n",
       "    </tr>\n",
       "    <tr>\n",
       "      <th>COART</th>\n",
       "      <th></th>\n",
       "      <th></th>\n",
       "      <th></th>\n",
       "      <th></th>\n",
       "      <th></th>\n",
       "      <th></th>\n",
       "      <th></th>\n",
       "      <th></th>\n",
       "      <th></th>\n",
       "      <th></th>\n",
       "      <th></th>\n",
       "      <th></th>\n",
       "      <th></th>\n",
       "      <th></th>\n",
       "      <th></th>\n",
       "      <th></th>\n",
       "      <th></th>\n",
       "      <th></th>\n",
       "      <th></th>\n",
       "      <th></th>\n",
       "      <th></th>\n",
       "    </tr>\n",
       "  </thead>\n",
       "  <tbody>\n",
       "    <tr>\n",
       "      <th>L1600360</th>\n",
       "      <td>3178.489502</td>\n",
       "      <td>9</td>\n",
       "      <td>0</td>\n",
       "      <td>285678.093750</td>\n",
       "      <td>431798.46875</td>\n",
       "      <td>722.070984</td>\n",
       "      <td>598.000000</td>\n",
       "      <td>320484.593750</td>\n",
       "      <td>286893.718750</td>\n",
       "      <td>4.0</td>\n",
       "      <td>...</td>\n",
       "      <td>29.010676</td>\n",
       "      <td>594.972659</td>\n",
       "      <td>13.273485</td>\n",
       "      <td>12.51</td>\n",
       "      <td>5.15</td>\n",
       "      <td>17.66</td>\n",
       "      <td>0.000010</td>\n",
       "      <td>0.000007</td>\n",
       "      <td>0.000011</td>\n",
       "      <td>3-5</td>\n",
       "    </tr>\n",
       "    <tr>\n",
       "      <th>L1600470</th>\n",
       "      <td>317.114502</td>\n",
       "      <td>1</td>\n",
       "      <td>0</td>\n",
       "      <td>3403.138184</td>\n",
       "      <td>3500.00000</td>\n",
       "      <td>140.000000</td>\n",
       "      <td>25.000000</td>\n",
       "      <td>3403.138184</td>\n",
       "      <td>3403.138184</td>\n",
       "      <td>10.0</td>\n",
       "      <td>...</td>\n",
       "      <td>0.000000</td>\n",
       "      <td>0.000000</td>\n",
       "      <td>0.268975</td>\n",
       "      <td>0.25</td>\n",
       "      <td>0.92</td>\n",
       "      <td>1.17</td>\n",
       "      <td>0.000007</td>\n",
       "      <td>0.000007</td>\n",
       "      <td>0.000007</td>\n",
       "      <td>0</td>\n",
       "    </tr>\n",
       "    <tr>\n",
       "      <th>L1600600</th>\n",
       "      <td>3710.627930</td>\n",
       "      <td>1</td>\n",
       "      <td>0</td>\n",
       "      <td>522587.812500</td>\n",
       "      <td>522587.81250</td>\n",
       "      <td>1509.000000</td>\n",
       "      <td>346.313995</td>\n",
       "      <td>522587.812500</td>\n",
       "      <td>522587.812500</td>\n",
       "      <td>3.0</td>\n",
       "      <td>...</td>\n",
       "      <td>0.000000</td>\n",
       "      <td>0.000000</td>\n",
       "      <td>12.048263</td>\n",
       "      <td>18.36</td>\n",
       "      <td>7.55</td>\n",
       "      <td>25.91</td>\n",
       "      <td>0.000012</td>\n",
       "      <td>0.000012</td>\n",
       "      <td>0.000012</td>\n",
       "      <td>1-2</td>\n",
       "    </tr>\n",
       "    <tr>\n",
       "      <th>L1600610</th>\n",
       "      <td>3232.627930</td>\n",
       "      <td>1</td>\n",
       "      <td>0</td>\n",
       "      <td>439818.781250</td>\n",
       "      <td>439818.78125</td>\n",
       "      <td>1270.000000</td>\n",
       "      <td>346.313995</td>\n",
       "      <td>439818.781250</td>\n",
       "      <td>439818.781250</td>\n",
       "      <td>3.0</td>\n",
       "      <td>...</td>\n",
       "      <td>0.000000</td>\n",
       "      <td>0.000000</td>\n",
       "      <td>10.140022</td>\n",
       "      <td>9.18</td>\n",
       "      <td>4.77</td>\n",
       "      <td>13.95</td>\n",
       "      <td>0.000007</td>\n",
       "      <td>0.000007</td>\n",
       "      <td>0.000007</td>\n",
       "      <td>1-2</td>\n",
       "    </tr>\n",
       "    <tr>\n",
       "      <th>L1600620</th>\n",
       "      <td>2972.627930</td>\n",
       "      <td>1</td>\n",
       "      <td>0</td>\n",
       "      <td>394797.968750</td>\n",
       "      <td>394797.96875</td>\n",
       "      <td>1140.000000</td>\n",
       "      <td>346.313995</td>\n",
       "      <td>394797.968750</td>\n",
       "      <td>394797.968750</td>\n",
       "      <td>3.0</td>\n",
       "      <td>...</td>\n",
       "      <td>0.000000</td>\n",
       "      <td>0.000000</td>\n",
       "      <td>9.102067</td>\n",
       "      <td>9.18</td>\n",
       "      <td>4.65</td>\n",
       "      <td>13.83</td>\n",
       "      <td>0.000008</td>\n",
       "      <td>0.000008</td>\n",
       "      <td>0.000008</td>\n",
       "      <td>1-2</td>\n",
       "    </tr>\n",
       "  </tbody>\n",
       "</table>\n",
       "<p>5 rows × 665 columns</p>\n",
       "</div>"
      ],
      "text/plain": [
       "           cut_length  num_closed_patterns  num_open_patterns     total_area  \\\n",
       "COART                                                                          \n",
       "L1600360  3178.489502                    9                  0  285678.093750   \n",
       "L1600470   317.114502                    1                  0    3403.138184   \n",
       "L1600600  3710.627930                    1                  0  522587.812500   \n",
       "L1600610  3232.627930                    1                  0  439818.781250   \n",
       "L1600620  2972.627930                    1                  0  394797.968750   \n",
       "\n",
       "          minimum_rectangle_area  minimum_rectangle_dim1  \\\n",
       "COART                                                      \n",
       "L1600360            431798.46875              722.070984   \n",
       "L1600470              3500.00000              140.000000   \n",
       "L1600600            522587.81250             1509.000000   \n",
       "L1600610            439818.78125             1270.000000   \n",
       "L1600620            394797.96875             1140.000000   \n",
       "\n",
       "          minimum_rectangle_dim2  convex_hull_area   no_hole_area  thickness  \\\n",
       "COART                                                                          \n",
       "L1600360              598.000000     320484.593750  286893.718750        4.0   \n",
       "L1600470               25.000000       3403.138184    3403.138184       10.0   \n",
       "L1600600              346.313995     522587.812500  522587.812500        3.0   \n",
       "L1600610              346.313995     439818.781250  439818.781250        3.0   \n",
       "L1600620              346.313995     394797.968750  394797.968750        3.0   \n",
       "\n",
       "             ...      bendlength_bend_edge_length_min_04  \\\n",
       "COART        ...                                           \n",
       "L1600360     ...                               29.010676   \n",
       "L1600470     ...                                0.000000   \n",
       "L1600600     ...                                0.000000   \n",
       "L1600610     ...                                0.000000   \n",
       "L1600620     ...                                0.000000   \n",
       "\n",
       "          bendlength_bend_edge_length_max_04     weight  VAMAT  VALAJOUT  \\\n",
       "COART                                                                      \n",
       "L1600360                          594.972659  13.273485  12.51      5.15   \n",
       "L1600470                            0.000000   0.268975   0.25      0.92   \n",
       "L1600600                            0.000000  12.048263  18.36      7.55   \n",
       "L1600610                            0.000000  10.140022   9.18      4.77   \n",
       "L1600620                            0.000000   9.102067   9.18      4.65   \n",
       "\n",
       "          VALTOT  VOL_COST_CONVHULL  VOL_COST_RECTANGLE  VOL_COST_MPATTERN  \\\n",
       "COART                                                                        \n",
       "L1600360   17.66           0.000010            0.000007           0.000011   \n",
       "L1600470    1.17           0.000007            0.000007           0.000007   \n",
       "L1600600   25.91           0.000012            0.000012           0.000012   \n",
       "L1600610   13.95           0.000007            0.000007           0.000007   \n",
       "L1600620   13.83           0.000008            0.000008           0.000008   \n",
       "\n",
       "          bend_group  \n",
       "COART                 \n",
       "L1600360         3-5  \n",
       "L1600470           0  \n",
       "L1600600         1-2  \n",
       "L1600610         1-2  \n",
       "L1600620         1-2  \n",
       "\n",
       "[5 rows x 665 columns]"
      ]
     },
     "execution_count": 2,
     "metadata": {},
     "output_type": "execute_result"
    }
   ],
   "source": [
    "dataset = pd.read_csv('../Y3 - Sample data/Z2 - datasetprepclean.csv', index_col = 0,\n",
    "                     )\n",
    "print('dataset shape:', dataset.shape)\n",
    "dataset.head()"
   ]
  },
  {
   "cell_type": "code",
   "execution_count": 3,
   "metadata": {},
   "outputs": [],
   "source": [
    "#dataset.columns.values"
   ]
  },
  {
   "cell_type": "code",
   "execution_count": 4,
   "metadata": {},
   "outputs": [
    {
     "name": "stdout",
     "output_type": "stream",
     "text": [
      "benddxf_deformation_length_00 --> 262\n",
      "benddxf_deformation_length_01 --> 123\n",
      "benddxf_deformation_length_02 --> 19\n",
      "benddxf_deformation_length_03 --> 6\n",
      "benddxf_deformation_length_04 --> 1\n",
      "benddxf_deformation_length_05 --> 1\n",
      "bendlength_deformation_length_00 --> 296\n",
      "bendlength_deformation_length_01 --> 112\n",
      "bendlength_deformation_length_02 --> 3\n",
      "bendlength_deformation_length_03 --> 1\n",
      "Done !\n"
     ]
    },
    {
     "data": {
      "text/plain": [
       "(5401, 665)"
      ]
     },
     "execution_count": 4,
     "metadata": {},
     "output_type": "execute_result"
    }
   ],
   "source": [
    "for index, nancount in dataset.isnull().sum().iteritems():\n",
    "    if nancount != 0:\n",
    "        print(index, '-->', nancount)\n",
    "else:\n",
    "    print('Done !')\n",
    "dataset.shape"
   ]
  },
  {
   "cell_type": "code",
   "execution_count": 5,
   "metadata": {},
   "outputs": [
    {
     "data": {
      "text/plain": [
       "(5401, 665)"
      ]
     },
     "execution_count": 5,
     "metadata": {},
     "output_type": "execute_result"
    }
   ],
   "source": [
    "#Cleaning of the remaining Nan\n",
    "\n",
    "subset = [x for x in dataset.columns.values if x.startswith('bend_gr_')]\n",
    "\n",
    "#dataset = dataset.fillna(0)\n",
    "dataset = dataset.dropna(subset=subset)\n",
    "dataset.shape"
   ]
  },
  {
   "cell_type": "markdown",
   "metadata": {},
   "source": [
    "# cleaning to have at least min occurences"
   ]
  },
  {
   "cell_type": "code",
   "execution_count": 6,
   "metadata": {},
   "outputs": [
    {
     "data": {
      "text/plain": [
       "(5358, 665)"
      ]
     },
     "execution_count": 6,
     "metadata": {},
     "output_type": "execute_result"
    }
   ],
   "source": [
    "minocc = 50\n",
    "todrop = []\n",
    "df = dataset['thickness'].reset_index().groupby('thickness').count()\n",
    "for index, occ in df.iterrows():\n",
    "    if occ.COART <= minocc:\n",
    "        todrop.append(index)\n",
    "\n",
    "for thickness in todrop:\n",
    "    dataset = dataset[dataset['thickness'] != thickness]\n",
    "dataset.shape"
   ]
  },
  {
   "cell_type": "markdown",
   "metadata": {},
   "source": [
    "# Dataset re-ordering and Splitting"
   ]
  },
  {
   "cell_type": "markdown",
   "metadata": {},
   "source": [
    "The baseline will be defined with the 3 core factors:\n",
    "- Thickness\n",
    "- Area\n",
    "- Number of bends"
   ]
  },
  {
   "cell_type": "code",
   "execution_count": 7,
   "metadata": {},
   "outputs": [],
   "source": [
    "#Dataset definition\n",
    "X = dataset[['thickness', 'minimum_rectangle_area', 'bend_count']]\n",
    "y = dataset[['VAMAT', 'VALAJOUT', 'VALTOT']]\n",
    "\n",
    "limitedset = ['thickness', 'minimum_rectangle_area', 'bend_count']\n"
   ]
  },
  {
   "cell_type": "markdown",
   "metadata": {},
   "source": [
    "# Target definition"
   ]
  },
  {
   "cell_type": "code",
   "execution_count": 8,
   "metadata": {},
   "outputs": [],
   "source": [
    "target = 'VALTOT'\n",
    "assert target in y.columns.values, 'The target must be in y dataset'"
   ]
  },
  {
   "cell_type": "markdown",
   "metadata": {},
   "source": [
    "# Outlier tracking - VAMAT"
   ]
  },
  {
   "cell_type": "code",
   "execution_count": 9,
   "metadata": {},
   "outputs": [],
   "source": [
    "toplimit = .95 #We drop the top 3%\n",
    "botlimit = .02 #we drop the bottom 2%"
   ]
  },
  {
   "cell_type": "code",
   "execution_count": 10,
   "metadata": {},
   "outputs": [],
   "source": [
    "#Surface cost calculation, quantile decomposition\n",
    "\n",
    "#dataset['SURF_COST_CONVHULL'] = dataset['VAMAT'] / dataset['convex_hull_area']\n",
    "dataset['SURF_COST_RECTANGLE'] = dataset['VAMAT'] / dataset['minimum_rectangle_area']\n",
    "#dataset['SURF_COST_MPATTERN'] = dataset['VAMAT'] / dataset['no_hole_area']\n",
    "#dataset['SURF_COST_TOTAREA'] = dataset['VAMAT'] / dataset['total_area']"
   ]
  },
  {
   "cell_type": "code",
   "execution_count": 11,
   "metadata": {},
   "outputs": [
    {
     "data": {
      "image/png": "[encoded data removed]",
      "text/plain": [
       "<Figure size 432x288 with 1 Axes>"
      ]
     },
     "metadata": {},
     "output_type": "display_data"
    }
   ],
   "source": [
    "df = dataset[dataset['thickness'] == 5]\n",
    "df['SURF_COST_RECTANGLE'].plot.hist(bins=50)\n",
    "plt.show()"
   ]
  },
  {
   "cell_type": "code",
   "execution_count": 12,
   "metadata": {},
   "outputs": [
    {
     "data": {
      "text/html": [
       "<div>\n",
       "<style scoped>\n",
       "    .dataframe tbody tr th:only-of-type {\n",
       "        vertical-align: middle;\n",
       "    }\n",
       "\n",
       "    .dataframe tbody tr th {\n",
       "        vertical-align: top;\n",
       "    }\n",
       "\n",
       "    .dataframe thead th {\n",
       "        text-align: right;\n",
       "    }\n",
       "</style>\n",
       "<table border=\"1\" class=\"dataframe\">\n",
       "  <thead>\n",
       "    <tr style=\"text-align: right;\">\n",
       "      <th></th>\n",
       "      <th></th>\n",
       "      <th>SURF_COST_RECTANGLE</th>\n",
       "    </tr>\n",
       "    <tr>\n",
       "      <th>thickness</th>\n",
       "      <th></th>\n",
       "      <th></th>\n",
       "    </tr>\n",
       "  </thead>\n",
       "  <tbody>\n",
       "    <tr>\n",
       "      <th rowspan=\"2\" valign=\"top\">2.0</th>\n",
       "      <th>0.02</th>\n",
       "      <td>0.000011</td>\n",
       "    </tr>\n",
       "    <tr>\n",
       "      <th>0.95</th>\n",
       "      <td>0.000026</td>\n",
       "    </tr>\n",
       "    <tr>\n",
       "      <th rowspan=\"2\" valign=\"top\">3.0</th>\n",
       "      <th>0.02</th>\n",
       "      <td>0.000017</td>\n",
       "    </tr>\n",
       "    <tr>\n",
       "      <th>0.95</th>\n",
       "      <td>0.000037</td>\n",
       "    </tr>\n",
       "    <tr>\n",
       "      <th rowspan=\"2\" valign=\"top\">4.0</th>\n",
       "      <th>0.02</th>\n",
       "      <td>0.000020</td>\n",
       "    </tr>\n",
       "    <tr>\n",
       "      <th>0.95</th>\n",
       "      <td>0.000046</td>\n",
       "    </tr>\n",
       "    <tr>\n",
       "      <th rowspan=\"2\" valign=\"top\">5.0</th>\n",
       "      <th>0.02</th>\n",
       "      <td>0.000025</td>\n",
       "    </tr>\n",
       "    <tr>\n",
       "      <th>0.95</th>\n",
       "      <td>0.000049</td>\n",
       "    </tr>\n",
       "    <tr>\n",
       "      <th rowspan=\"2\" valign=\"top\">6.0</th>\n",
       "      <th>0.02</th>\n",
       "      <td>0.000029</td>\n",
       "    </tr>\n",
       "    <tr>\n",
       "      <th>0.95</th>\n",
       "      <td>0.000063</td>\n",
       "    </tr>\n",
       "    <tr>\n",
       "      <th rowspan=\"2\" valign=\"top\">8.0</th>\n",
       "      <th>0.02</th>\n",
       "      <td>0.000041</td>\n",
       "    </tr>\n",
       "    <tr>\n",
       "      <th>0.95</th>\n",
       "      <td>0.000083</td>\n",
       "    </tr>\n",
       "    <tr>\n",
       "      <th rowspan=\"2\" valign=\"top\">10.0</th>\n",
       "      <th>0.02</th>\n",
       "      <td>0.000048</td>\n",
       "    </tr>\n",
       "    <tr>\n",
       "      <th>0.95</th>\n",
       "      <td>0.000122</td>\n",
       "    </tr>\n",
       "    <tr>\n",
       "      <th rowspan=\"2\" valign=\"top\">12.0</th>\n",
       "      <th>0.02</th>\n",
       "      <td>0.000045</td>\n",
       "    </tr>\n",
       "    <tr>\n",
       "      <th>0.95</th>\n",
       "      <td>0.000123</td>\n",
       "    </tr>\n",
       "    <tr>\n",
       "      <th rowspan=\"2\" valign=\"top\">15.0</th>\n",
       "      <th>0.02</th>\n",
       "      <td>0.000059</td>\n",
       "    </tr>\n",
       "    <tr>\n",
       "      <th>0.95</th>\n",
       "      <td>0.000148</td>\n",
       "    </tr>\n",
       "  </tbody>\n",
       "</table>\n",
       "</div>"
      ],
      "text/plain": [
       "                SURF_COST_RECTANGLE\n",
       "thickness                          \n",
       "2.0       0.02             0.000011\n",
       "          0.95             0.000026\n",
       "3.0       0.02             0.000017\n",
       "          0.95             0.000037\n",
       "4.0       0.02             0.000020\n",
       "          0.95             0.000046\n",
       "5.0       0.02             0.000025\n",
       "          0.95             0.000049\n",
       "6.0       0.02             0.000029\n",
       "          0.95             0.000063\n",
       "8.0       0.02             0.000041\n",
       "          0.95             0.000083\n",
       "10.0      0.02             0.000048\n",
       "          0.95             0.000122\n",
       "12.0      0.02             0.000045\n",
       "          0.95             0.000123\n",
       "15.0      0.02             0.000059\n",
       "          0.95             0.000148"
      ]
     },
     "execution_count": 12,
     "metadata": {},
     "output_type": "execute_result"
    }
   ],
   "source": [
    "#quantile decomposition\n",
    "df=dataset[['thickness', 'SURF_COST_RECTANGLE']].groupby('thickness').quantile([botlimit,toplimit])\n",
    "df"
   ]
  },
  {
   "cell_type": "code",
   "execution_count": 13,
   "metadata": {},
   "outputs": [
    {
     "data": {
      "text/plain": [
       "(4982, 666)"
      ]
     },
     "execution_count": 13,
     "metadata": {},
     "output_type": "execute_result"
    }
   ],
   "source": [
    "# If vamat is target, cleaning\n",
    "if target == 'VAMAT' or target == 'VALTOT':\n",
    "    for (thickness, limit), value in df.iterrows():\n",
    "        tresh = value.values[0]\n",
    "        if limit == botlimit:\n",
    "            mask = np.logical_and(dataset['thickness'] == thickness, dataset[df.columns.values[0]] < tresh)\n",
    "            dataset = dataset[np.logical_not(mask)]\n",
    "        elif limit == toplimit:\n",
    "            mask = np.logical_and(dataset['thickness'] == thickness, dataset[df.columns.values[0]] > tresh)\n",
    "            dataset = dataset[np.logical_not(mask)]\n",
    "        #print((thickness, limit), tresh)\n",
    "\n",
    "dataset.shape"
   ]
  },
  {
   "cell_type": "code",
   "execution_count": 14,
   "metadata": {},
   "outputs": [
    {
     "data": {
      "image/png": "[encoded data removed]",
      "text/plain": [
       "<Figure size 432x288 with 1 Axes>"
      ]
     },
     "metadata": {},
     "output_type": "display_data"
    }
   ],
   "source": [
    "df = dataset[dataset['thickness'] == 6]\n",
    "df['SURF_COST_RECTANGLE'].plot.hist(bins=50)\n",
    "plt.show()"
   ]
  },
  {
   "cell_type": "markdown",
   "metadata": {},
   "source": [
    "# Outlier tracking - VALAJOUT"
   ]
  },
  {
   "cell_type": "code",
   "execution_count": 15,
   "metadata": {},
   "outputs": [],
   "source": [
    "toplimit = .95 #We drop the top 5%\n",
    "botlimit = .02 #we drop the bottom 2%"
   ]
  },
  {
   "cell_type": "code",
   "execution_count": 16,
   "metadata": {},
   "outputs": [],
   "source": [
    "#Cost per bend calculation\n",
    "\n",
    "dataset['APPROX_BEND_COST'] = dataset['VALAJOUT'] / (dataset['bend_count']+1)"
   ]
  },
  {
   "cell_type": "code",
   "execution_count": 17,
   "metadata": {},
   "outputs": [
    {
     "data": {
      "image/png": "[encoded data removed]",
      "text/plain": [
       "<Figure size 432x288 with 1 Axes>"
      ]
     },
     "metadata": {},
     "output_type": "display_data"
    }
   ],
   "source": [
    "df = dataset[dataset['thickness'] == 6]\n",
    "df[df.columns.values[0]].plot.hist(bins=50)\n",
    "plt.show()"
   ]
  },
  {
   "cell_type": "code",
   "execution_count": 18,
   "metadata": {},
   "outputs": [
    {
     "data": {
      "text/html": [
       "<div>\n",
       "<style scoped>\n",
       "    .dataframe tbody tr th:only-of-type {\n",
       "        vertical-align: middle;\n",
       "    }\n",
       "\n",
       "    .dataframe tbody tr th {\n",
       "        vertical-align: top;\n",
       "    }\n",
       "\n",
       "    .dataframe thead th {\n",
       "        text-align: right;\n",
       "    }\n",
       "</style>\n",
       "<table border=\"1\" class=\"dataframe\">\n",
       "  <thead>\n",
       "    <tr style=\"text-align: right;\">\n",
       "      <th></th>\n",
       "      <th></th>\n",
       "      <th></th>\n",
       "      <th>APPROX_BEND_COST</th>\n",
       "    </tr>\n",
       "    <tr>\n",
       "      <th>thickness</th>\n",
       "      <th>bend_count</th>\n",
       "      <th></th>\n",
       "      <th></th>\n",
       "    </tr>\n",
       "  </thead>\n",
       "  <tbody>\n",
       "    <tr>\n",
       "      <th rowspan=\"22\" valign=\"top\">2.0</th>\n",
       "      <th rowspan=\"2\" valign=\"top\">0</th>\n",
       "      <th>0.02</th>\n",
       "      <td>0.705600</td>\n",
       "    </tr>\n",
       "    <tr>\n",
       "      <th>0.95</th>\n",
       "      <td>7.095500</td>\n",
       "    </tr>\n",
       "    <tr>\n",
       "      <th rowspan=\"2\" valign=\"top\">1</th>\n",
       "      <th>0.02</th>\n",
       "      <td>0.523400</td>\n",
       "    </tr>\n",
       "    <tr>\n",
       "      <th>0.95</th>\n",
       "      <td>2.293750</td>\n",
       "    </tr>\n",
       "    <tr>\n",
       "      <th rowspan=\"2\" valign=\"top\">2</th>\n",
       "      <th>0.02</th>\n",
       "      <td>0.248533</td>\n",
       "    </tr>\n",
       "    <tr>\n",
       "      <th>0.95</th>\n",
       "      <td>2.147333</td>\n",
       "    </tr>\n",
       "    <tr>\n",
       "      <th rowspan=\"2\" valign=\"top\">3</th>\n",
       "      <th>0.02</th>\n",
       "      <td>0.623800</td>\n",
       "    </tr>\n",
       "    <tr>\n",
       "      <th>0.95</th>\n",
       "      <td>1.926500</td>\n",
       "    </tr>\n",
       "    <tr>\n",
       "      <th rowspan=\"2\" valign=\"top\">4</th>\n",
       "      <th>0.02</th>\n",
       "      <td>0.576240</td>\n",
       "    </tr>\n",
       "    <tr>\n",
       "      <th>0.95</th>\n",
       "      <td>2.126900</td>\n",
       "    </tr>\n",
       "    <tr>\n",
       "      <th rowspan=\"2\" valign=\"top\">5</th>\n",
       "      <th>0.02</th>\n",
       "      <td>0.258333</td>\n",
       "    </tr>\n",
       "    <tr>\n",
       "      <th>0.95</th>\n",
       "      <td>2.060000</td>\n",
       "    </tr>\n",
       "    <tr>\n",
       "      <th rowspan=\"2\" valign=\"top\">6</th>\n",
       "      <th>0.02</th>\n",
       "      <td>0.703314</td>\n",
       "    </tr>\n",
       "    <tr>\n",
       "      <th>0.95</th>\n",
       "      <td>1.496000</td>\n",
       "    </tr>\n",
       "    <tr>\n",
       "      <th rowspan=\"2\" valign=\"top\">7</th>\n",
       "      <th>0.02</th>\n",
       "      <td>0.698875</td>\n",
       "    </tr>\n",
       "    <tr>\n",
       "      <th>0.95</th>\n",
       "      <td>1.446875</td>\n",
       "    </tr>\n",
       "    <tr>\n",
       "      <th rowspan=\"2\" valign=\"top\">8</th>\n",
       "      <th>0.02</th>\n",
       "      <td>0.782978</td>\n",
       "    </tr>\n",
       "    <tr>\n",
       "      <th>0.95</th>\n",
       "      <td>2.421111</td>\n",
       "    </tr>\n",
       "    <tr>\n",
       "      <th rowspan=\"2\" valign=\"top\">9</th>\n",
       "      <th>0.02</th>\n",
       "      <td>0.639000</td>\n",
       "    </tr>\n",
       "    <tr>\n",
       "      <th>0.95</th>\n",
       "      <td>0.639000</td>\n",
       "    </tr>\n",
       "    <tr>\n",
       "      <th rowspan=\"2\" valign=\"top\">14</th>\n",
       "      <th>0.02</th>\n",
       "      <td>0.502000</td>\n",
       "    </tr>\n",
       "    <tr>\n",
       "      <th>0.95</th>\n",
       "      <td>0.502000</td>\n",
       "    </tr>\n",
       "    <tr>\n",
       "      <th rowspan=\"8\" valign=\"top\">3.0</th>\n",
       "      <th rowspan=\"2\" valign=\"top\">0</th>\n",
       "      <th>0.02</th>\n",
       "      <td>0.217600</td>\n",
       "    </tr>\n",
       "    <tr>\n",
       "      <th>0.95</th>\n",
       "      <td>6.584000</td>\n",
       "    </tr>\n",
       "    <tr>\n",
       "      <th rowspan=\"2\" valign=\"top\">1</th>\n",
       "      <th>0.02</th>\n",
       "      <td>0.443200</td>\n",
       "    </tr>\n",
       "    <tr>\n",
       "      <th>0.95</th>\n",
       "      <td>1.472500</td>\n",
       "    </tr>\n",
       "    <tr>\n",
       "      <th rowspan=\"2\" valign=\"top\">2</th>\n",
       "      <th>0.02</th>\n",
       "      <td>0.406267</td>\n",
       "    </tr>\n",
       "    <tr>\n",
       "      <th>0.95</th>\n",
       "      <td>1.838000</td>\n",
       "    </tr>\n",
       "    <tr>\n",
       "      <th rowspan=\"2\" valign=\"top\">3</th>\n",
       "      <th>0.02</th>\n",
       "      <td>0.358300</td>\n",
       "    </tr>\n",
       "    <tr>\n",
       "      <th>0.95</th>\n",
       "      <td>2.409500</td>\n",
       "    </tr>\n",
       "    <tr>\n",
       "      <th>...</th>\n",
       "      <th>...</th>\n",
       "      <th>...</th>\n",
       "      <td>...</td>\n",
       "    </tr>\n",
       "    <tr>\n",
       "      <th rowspan=\"12\" valign=\"top\">10.0</th>\n",
       "      <th rowspan=\"2\" valign=\"top\">0</th>\n",
       "      <th>0.02</th>\n",
       "      <td>0.593200</td>\n",
       "    </tr>\n",
       "    <tr>\n",
       "      <th>0.95</th>\n",
       "      <td>8.729000</td>\n",
       "    </tr>\n",
       "    <tr>\n",
       "      <th rowspan=\"2\" valign=\"top\">1</th>\n",
       "      <th>0.02</th>\n",
       "      <td>0.921600</td>\n",
       "    </tr>\n",
       "    <tr>\n",
       "      <th>0.95</th>\n",
       "      <td>4.199500</td>\n",
       "    </tr>\n",
       "    <tr>\n",
       "      <th rowspan=\"2\" valign=\"top\">2</th>\n",
       "      <th>0.02</th>\n",
       "      <td>0.516267</td>\n",
       "    </tr>\n",
       "    <tr>\n",
       "      <th>0.95</th>\n",
       "      <td>4.018667</td>\n",
       "    </tr>\n",
       "    <tr>\n",
       "      <th rowspan=\"2\" valign=\"top\">3</th>\n",
       "      <th>0.02</th>\n",
       "      <td>0.991400</td>\n",
       "    </tr>\n",
       "    <tr>\n",
       "      <th>0.95</th>\n",
       "      <td>3.754500</td>\n",
       "    </tr>\n",
       "    <tr>\n",
       "      <th rowspan=\"2\" valign=\"top\">4</th>\n",
       "      <th>0.02</th>\n",
       "      <td>1.137600</td>\n",
       "    </tr>\n",
       "    <tr>\n",
       "      <th>0.95</th>\n",
       "      <td>3.140500</td>\n",
       "    </tr>\n",
       "    <tr>\n",
       "      <th rowspan=\"2\" valign=\"top\">5</th>\n",
       "      <th>0.02</th>\n",
       "      <td>1.855000</td>\n",
       "    </tr>\n",
       "    <tr>\n",
       "      <th>0.95</th>\n",
       "      <td>1.855000</td>\n",
       "    </tr>\n",
       "    <tr>\n",
       "      <th rowspan=\"10\" valign=\"top\">12.0</th>\n",
       "      <th rowspan=\"2\" valign=\"top\">0</th>\n",
       "      <th>0.02</th>\n",
       "      <td>0.570000</td>\n",
       "    </tr>\n",
       "    <tr>\n",
       "      <th>0.95</th>\n",
       "      <td>6.807000</td>\n",
       "    </tr>\n",
       "    <tr>\n",
       "      <th rowspan=\"2\" valign=\"top\">1</th>\n",
       "      <th>0.02</th>\n",
       "      <td>0.225200</td>\n",
       "    </tr>\n",
       "    <tr>\n",
       "      <th>0.95</th>\n",
       "      <td>2.351000</td>\n",
       "    </tr>\n",
       "    <tr>\n",
       "      <th rowspan=\"2\" valign=\"top\">2</th>\n",
       "      <th>0.02</th>\n",
       "      <td>0.432000</td>\n",
       "    </tr>\n",
       "    <tr>\n",
       "      <th>0.95</th>\n",
       "      <td>4.183333</td>\n",
       "    </tr>\n",
       "    <tr>\n",
       "      <th rowspan=\"2\" valign=\"top\">3</th>\n",
       "      <th>0.02</th>\n",
       "      <td>0.621250</td>\n",
       "    </tr>\n",
       "    <tr>\n",
       "      <th>0.95</th>\n",
       "      <td>1.167625</td>\n",
       "    </tr>\n",
       "    <tr>\n",
       "      <th rowspan=\"2\" valign=\"top\">4</th>\n",
       "      <th>0.02</th>\n",
       "      <td>1.814120</td>\n",
       "    </tr>\n",
       "    <tr>\n",
       "      <th>0.95</th>\n",
       "      <td>1.819700</td>\n",
       "    </tr>\n",
       "    <tr>\n",
       "      <th rowspan=\"8\" valign=\"top\">15.0</th>\n",
       "      <th rowspan=\"2\" valign=\"top\">0</th>\n",
       "      <th>0.02</th>\n",
       "      <td>0.809800</td>\n",
       "    </tr>\n",
       "    <tr>\n",
       "      <th>0.95</th>\n",
       "      <td>9.286500</td>\n",
       "    </tr>\n",
       "    <tr>\n",
       "      <th rowspan=\"2\" valign=\"top\">1</th>\n",
       "      <th>0.02</th>\n",
       "      <td>1.100000</td>\n",
       "    </tr>\n",
       "    <tr>\n",
       "      <th>0.95</th>\n",
       "      <td>3.058500</td>\n",
       "    </tr>\n",
       "    <tr>\n",
       "      <th rowspan=\"2\" valign=\"top\">2</th>\n",
       "      <th>0.02</th>\n",
       "      <td>0.853333</td>\n",
       "    </tr>\n",
       "    <tr>\n",
       "      <th>0.95</th>\n",
       "      <td>7.150000</td>\n",
       "    </tr>\n",
       "    <tr>\n",
       "      <th rowspan=\"2\" valign=\"top\">3</th>\n",
       "      <th>0.02</th>\n",
       "      <td>0.870000</td>\n",
       "    </tr>\n",
       "    <tr>\n",
       "      <th>0.95</th>\n",
       "      <td>1.833750</td>\n",
       "    </tr>\n",
       "  </tbody>\n",
       "</table>\n",
       "<p>146 rows × 1 columns</p>\n",
       "</div>"
      ],
      "text/plain": [
       "                           APPROX_BEND_COST\n",
       "thickness bend_count                       \n",
       "2.0       0          0.02          0.705600\n",
       "                     0.95          7.095500\n",
       "          1          0.02          0.523400\n",
       "                     0.95          2.293750\n",
       "          2          0.02          0.248533\n",
       "                     0.95          2.147333\n",
       "          3          0.02          0.623800\n",
       "                     0.95          1.926500\n",
       "          4          0.02          0.576240\n",
       "                     0.95          2.126900\n",
       "          5          0.02          0.258333\n",
       "                     0.95          2.060000\n",
       "          6          0.02          0.703314\n",
       "                     0.95          1.496000\n",
       "          7          0.02          0.698875\n",
       "                     0.95          1.446875\n",
       "          8          0.02          0.782978\n",
       "                     0.95          2.421111\n",
       "          9          0.02          0.639000\n",
       "                     0.95          0.639000\n",
       "          14         0.02          0.502000\n",
       "                     0.95          0.502000\n",
       "3.0       0          0.02          0.217600\n",
       "                     0.95          6.584000\n",
       "          1          0.02          0.443200\n",
       "                     0.95          1.472500\n",
       "          2          0.02          0.406267\n",
       "                     0.95          1.838000\n",
       "          3          0.02          0.358300\n",
       "                     0.95          2.409500\n",
       "...                                     ...\n",
       "10.0      0          0.02          0.593200\n",
       "                     0.95          8.729000\n",
       "          1          0.02          0.921600\n",
       "                     0.95          4.199500\n",
       "          2          0.02          0.516267\n",
       "                     0.95          4.018667\n",
       "          3          0.02          0.991400\n",
       "                     0.95          3.754500\n",
       "          4          0.02          1.137600\n",
       "                     0.95          3.140500\n",
       "          5          0.02          1.855000\n",
       "                     0.95          1.855000\n",
       "12.0      0          0.02          0.570000\n",
       "                     0.95          6.807000\n",
       "          1          0.02          0.225200\n",
       "                     0.95          2.351000\n",
       "          2          0.02          0.432000\n",
       "                     0.95          4.183333\n",
       "          3          0.02          0.621250\n",
       "                     0.95          1.167625\n",
       "          4          0.02          1.814120\n",
       "                     0.95          1.819700\n",
       "15.0      0          0.02          0.809800\n",
       "                     0.95          9.286500\n",
       "          1          0.02          1.100000\n",
       "                     0.95          3.058500\n",
       "          2          0.02          0.853333\n",
       "                     0.95          7.150000\n",
       "          3          0.02          0.870000\n",
       "                     0.95          1.833750\n",
       "\n",
       "[146 rows x 1 columns]"
      ]
     },
     "execution_count": 18,
     "metadata": {},
     "output_type": "execute_result"
    }
   ],
   "source": [
    "#quantile decomposition\n",
    "df=dataset[['thickness', 'APPROX_BEND_COST', 'bend_count']].groupby(['thickness', 'bend_count']).quantile([botlimit,toplimit])\n",
    "df"
   ]
  },
  {
   "cell_type": "code",
   "execution_count": 19,
   "metadata": {},
   "outputs": [
    {
     "data": {
      "text/plain": [
       "(4569, 667)"
      ]
     },
     "execution_count": 19,
     "metadata": {},
     "output_type": "execute_result"
    }
   ],
   "source": [
    "# If VALAJOUT is target, cleaning\n",
    "if target == 'VALAJOUT' or target == 'VALTOT':\n",
    "    for (thickness, bend_count, limit), value in df.iterrows():\n",
    "        tresh = value.values[0]\n",
    "        mask1 = np.logical_and(dataset['thickness'] == thickness, dataset['bend_count'] == bend_count)\n",
    "        if limit == botlimit:\n",
    "            mask = np.logical_and(mask1, dataset[df.columns.values[0]] < tresh)\n",
    "            dataset = dataset[np.logical_not(mask)]\n",
    "        elif limit == toplimit:\n",
    "            mask = np.logical_and(mask1, dataset[df.columns.values[0]] > tresh)\n",
    "            dataset = dataset[np.logical_not(mask)]\n",
    "        #print((thickness, limit), tresh)\n",
    "\n",
    "dataset.shape"
   ]
  },
  {
   "cell_type": "code",
   "execution_count": 20,
   "metadata": {},
   "outputs": [
    {
     "data": {
      "image/png": "[encoded data removed]",
      "text/plain": [
       "<Figure size 432x288 with 1 Axes>"
      ]
     },
     "metadata": {},
     "output_type": "display_data"
    }
   ],
   "source": [
    "df = dataset[dataset['thickness'] == 6]\n",
    "df['APPROX_BEND_COST'].plot.hist(bins=50)\n",
    "plt.show()"
   ]
  },
  {
   "cell_type": "code",
   "execution_count": null,
   "metadata": {},
   "outputs": [],
   "source": []
  },
  {
   "cell_type": "markdown",
   "metadata": {},
   "source": [
    "# Target review"
   ]
  },
  {
   "cell_type": "code",
   "execution_count": 21,
   "metadata": {},
   "outputs": [],
   "source": [
    "#Dataset definition\n",
    "X = dataset\n",
    "y = dataset[['VAMAT', 'VALAJOUT', 'VALTOT']]"
   ]
  },
  {
   "cell_type": "code",
   "execution_count": 22,
   "metadata": {},
   "outputs": [
    {
     "data": {
      "text/html": [
       "<div>\n",
       "<style scoped>\n",
       "    .dataframe tbody tr th:only-of-type {\n",
       "        vertical-align: middle;\n",
       "    }\n",
       "\n",
       "    .dataframe tbody tr th {\n",
       "        vertical-align: top;\n",
       "    }\n",
       "\n",
       "    .dataframe thead th {\n",
       "        text-align: right;\n",
       "    }\n",
       "</style>\n",
       "<table border=\"1\" class=\"dataframe\">\n",
       "  <thead>\n",
       "    <tr style=\"text-align: right;\">\n",
       "      <th></th>\n",
       "      <th>VALTOT</th>\n",
       "    </tr>\n",
       "  </thead>\n",
       "  <tbody>\n",
       "    <tr>\n",
       "      <th>count</th>\n",
       "      <td>4569.000000</td>\n",
       "    </tr>\n",
       "    <tr>\n",
       "      <th>mean</th>\n",
       "      <td>7.634706</td>\n",
       "    </tr>\n",
       "    <tr>\n",
       "      <th>std</th>\n",
       "      <td>8.872528</td>\n",
       "    </tr>\n",
       "    <tr>\n",
       "      <th>min</th>\n",
       "      <td>0.370000</td>\n",
       "    </tr>\n",
       "    <tr>\n",
       "      <th>25%</th>\n",
       "      <td>2.670000</td>\n",
       "    </tr>\n",
       "    <tr>\n",
       "      <th>50%</th>\n",
       "      <td>4.710000</td>\n",
       "    </tr>\n",
       "    <tr>\n",
       "      <th>75%</th>\n",
       "      <td>9.510000</td>\n",
       "    </tr>\n",
       "    <tr>\n",
       "      <th>max</th>\n",
       "      <td>138.970000</td>\n",
       "    </tr>\n",
       "  </tbody>\n",
       "</table>\n",
       "</div>"
      ],
      "text/plain": [
       "            VALTOT\n",
       "count  4569.000000\n",
       "mean      7.634706\n",
       "std       8.872528\n",
       "min       0.370000\n",
       "25%       2.670000\n",
       "50%       4.710000\n",
       "75%       9.510000\n",
       "max     138.970000"
      ]
     },
     "execution_count": 22,
     "metadata": {},
     "output_type": "execute_result"
    }
   ],
   "source": [
    "y[[target]].describe()"
   ]
  },
  {
   "cell_type": "code",
   "execution_count": 23,
   "metadata": {},
   "outputs": [
    {
     "name": "stdout",
     "output_type": "stream",
     "text": [
      "(3198, 667) (1371, 667)\n"
     ]
    }
   ],
   "source": [
    "# Dataset splitting\n",
    "from sklearn.model_selection import train_test_split\n",
    "X_train, X_test, y_train, y_test = train_test_split(\n",
    "    X, y, test_size=0.3, random_state=0 ,stratify=dataset['bend_group'])\n",
    "print(X_train.shape, X_test.shape)"
   ]
  },
  {
   "cell_type": "markdown",
   "metadata": {},
   "source": [
    "# Blocs creation"
   ]
  },
  {
   "cell_type": "code",
   "execution_count": 24,
   "metadata": {},
   "outputs": [],
   "source": [
    "#Scaler\n",
    "from sklearn.preprocessing import StandardScaler\n",
    "scaler = StandardScaler()"
   ]
  },
  {
   "cell_type": "code",
   "execution_count": 25,
   "metadata": {},
   "outputs": [],
   "source": [
    "# Metric\n",
    "from sklearn.metrics import mean_squared_error"
   ]
  },
  {
   "cell_type": "code",
   "execution_count": 26,
   "metadata": {},
   "outputs": [
    {
     "data": {
      "text/plain": [
       "make_scorer(mean_absolute_percentage_error, greater_is_better=False)"
      ]
     },
     "execution_count": 26,
     "metadata": {},
     "output_type": "execute_result"
    }
   ],
   "source": [
    "# Metric MAPE Mean absolute percentage error\n",
    "def mean_absolute_percentage_error(y_true, y_pred): \n",
    "    y_true, y_pred = np.array(y_true), np.array(y_pred)\n",
    "    return np.mean(np.abs((y_true - y_pred) / y_true)) * 100\n",
    "\n",
    "from sklearn.metrics import make_scorer\n",
    "mape_scorer = make_scorer(mean_absolute_percentage_error, greater_is_better=False)\n",
    "mape_scorer"
   ]
  },
  {
   "cell_type": "code",
   "execution_count": 27,
   "metadata": {},
   "outputs": [],
   "source": [
    "#regressions\n",
    "from sklearn.linear_model import Ridge\n",
    "ridge = Ridge(alpha=1.0, random_state=0, normalize=False, fit_intercept=False)\n",
    "\n",
    "from sklearn.linear_model import ElasticNet\n",
    "enet = ElasticNet(alpha=0, l1_ratio=1, random_state=0, normalize=False, fit_intercept=False)\n",
    "\n",
    "from sklearn.linear_model import LinearRegression\n",
    "linreg = LinearRegression(normalize=False, fit_intercept=False)"
   ]
  },
  {
   "cell_type": "code",
   "execution_count": 28,
   "metadata": {},
   "outputs": [],
   "source": [
    "#Other tools\n",
    "from sklearn.model_selection import GridSearchCV\n",
    "from sklearn.pipeline import Pipeline"
   ]
  },
  {
   "cell_type": "markdown",
   "metadata": {},
   "source": [
    "# No standardisation"
   ]
  },
  {
   "cell_type": "code",
   "execution_count": 29,
   "metadata": {},
   "outputs": [],
   "source": [
    "parameters = {'alpha':np.logspace(-3,-3,11),\n",
    "              'l1_ratio':np.linspace(0.001,1,11)\n",
    "             }\n",
    "regnostd = GridSearchCV(enet, parameters, cv=5, n_jobs=-2, scoring='neg_mean_squared_error')"
   ]
  },
  {
   "cell_type": "code",
   "execution_count": 30,
   "metadata": {},
   "outputs": [
    {
     "data": {
      "text/plain": [
       "GridSearchCV(cv=5, error_score='raise',\n",
       "       estimator=ElasticNet(alpha=0, copy_X=True, fit_intercept=False, l1_ratio=1,\n",
       "      max_iter=1000, normalize=False, positive=False, precompute=False,\n",
       "      random_state=0, selection='cyclic', tol=0.0001, warm_start=False),\n",
       "       fit_params=None, iid=True, n_jobs=-2,\n",
       "       param_grid={'alpha': array([0.001, 0.001, 0.001, 0.001, 0.001, 0.001, 0.001, 0.001, 0.001,\n",
       "       0.001, 0.001]), 'l1_ratio': array([0.001 , 0.1009, 0.2008, 0.3007, 0.4006, 0.5005, 0.6004, 0.7003,\n",
       "       0.8002, 0.9001, 1.    ])},\n",
       "       pre_dispatch='2*n_jobs', refit=True, return_train_score='warn',\n",
       "       scoring='neg_mean_squared_error', verbose=0)"
      ]
     },
     "execution_count": 30,
     "metadata": {},
     "output_type": "execute_result"
    }
   ],
   "source": [
    "regnostd.fit(X_train[limitedset], y_train[target])"
   ]
  },
  {
   "cell_type": "code",
   "execution_count": 31,
   "metadata": {},
   "outputs": [
    {
     "data": {
      "text/plain": [
       "1"
      ]
     },
     "execution_count": 31,
     "metadata": {},
     "output_type": "execute_result"
    }
   ],
   "source": [
    "regnostd.estimator.l1_ratio"
   ]
  },
  {
   "cell_type": "code",
   "execution_count": 32,
   "metadata": {},
   "outputs": [
    {
     "data": {
      "text/plain": [
       "{'alpha': 0.001, 'l1_ratio': 1.0}"
      ]
     },
     "execution_count": 32,
     "metadata": {},
     "output_type": "execute_result"
    }
   ],
   "source": [
    "regnostd.best_params_"
   ]
  },
  {
   "cell_type": "code",
   "execution_count": 33,
   "metadata": {},
   "outputs": [
    {
     "data": {
      "text/plain": [
       "-17.64087745803289"
      ]
     },
     "execution_count": 33,
     "metadata": {},
     "output_type": "execute_result"
    }
   ],
   "source": [
    "regnostd.score(X_train[limitedset], y_train[target])"
   ]
  },
  {
   "cell_type": "code",
   "execution_count": 34,
   "metadata": {},
   "outputs": [
    {
     "data": {
      "text/plain": [
       "-23.115959819787417"
      ]
     },
     "execution_count": 34,
     "metadata": {},
     "output_type": "execute_result"
    }
   ],
   "source": [
    "regnostd.score(X_test[limitedset], y_test[target])"
   ]
  },
  {
   "cell_type": "code",
   "execution_count": 35,
   "metadata": {},
   "outputs": [
    {
     "data": {
      "text/plain": [
       "23.115959819787417"
      ]
     },
     "execution_count": 35,
     "metadata": {},
     "output_type": "execute_result"
    }
   ],
   "source": [
    "mean_squared_error(y_test[target], regnostd.predict(X_test[limitedset]))"
   ]
  },
  {
   "cell_type": "code",
   "execution_count": 36,
   "metadata": {},
   "outputs": [
    {
     "data": {
      "text/plain": [
       "array([ 4.75258901e-01,  4.63761826e-05, -2.24681341e-02])"
      ]
     },
     "execution_count": 36,
     "metadata": {},
     "output_type": "execute_result"
    }
   ],
   "source": [
    "regnostd.best_estimator_.coef_"
   ]
  },
  {
   "cell_type": "code",
   "execution_count": 37,
   "metadata": {},
   "outputs": [
    {
     "data": {
      "text/plain": [
       "array([10.41478766])"
      ]
     },
     "execution_count": 37,
     "metadata": {},
     "output_type": "execute_result"
    }
   ],
   "source": [
    "regnostd.predict(np.array([10.0, 123061.765625, 2]).reshape(1,-1))"
   ]
  },
  {
   "cell_type": "code",
   "execution_count": 38,
   "metadata": {},
   "outputs": [
    {
     "data": {
      "text/plain": [
       "10.414787657526995"
      ]
     },
     "execution_count": 38,
     "metadata": {},
     "output_type": "execute_result"
    }
   ],
   "source": [
    "(np.array([10.0, 123061.765625, 2]) * regnostd.best_estimator_.coef_).sum()"
   ]
  },
  {
   "cell_type": "markdown",
   "metadata": {},
   "source": [
    "# VAMAT simplified"
   ]
  },
  {
   "cell_type": "code",
   "execution_count": 39,
   "metadata": {},
   "outputs": [
    {
     "data": {
      "text/html": [
       "<div>\n",
       "<style scoped>\n",
       "    .dataframe tbody tr th:only-of-type {\n",
       "        vertical-align: middle;\n",
       "    }\n",
       "\n",
       "    .dataframe tbody tr th {\n",
       "        vertical-align: top;\n",
       "    }\n",
       "\n",
       "    .dataframe thead th {\n",
       "        text-align: right;\n",
       "    }\n",
       "</style>\n",
       "<table border=\"1\" class=\"dataframe\">\n",
       "  <thead>\n",
       "    <tr style=\"text-align: right;\">\n",
       "      <th></th>\n",
       "      <th>mean</th>\n",
       "      <th>std</th>\n",
       "      <th>min</th>\n",
       "      <th>max</th>\n",
       "      <th>median</th>\n",
       "    </tr>\n",
       "    <tr>\n",
       "      <th>thickness</th>\n",
       "      <th></th>\n",
       "      <th></th>\n",
       "      <th></th>\n",
       "      <th></th>\n",
       "      <th></th>\n",
       "    </tr>\n",
       "  </thead>\n",
       "  <tbody>\n",
       "    <tr>\n",
       "      <th>2.0</th>\n",
       "      <td>0.000016</td>\n",
       "      <td>0.000003</td>\n",
       "      <td>0.000012</td>\n",
       "      <td>0.000026</td>\n",
       "      <td>0.000015</td>\n",
       "    </tr>\n",
       "    <tr>\n",
       "      <th>3.0</th>\n",
       "      <td>0.000022</td>\n",
       "      <td>0.000004</td>\n",
       "      <td>0.000017</td>\n",
       "      <td>0.000037</td>\n",
       "      <td>0.000021</td>\n",
       "    </tr>\n",
       "    <tr>\n",
       "      <th>4.0</th>\n",
       "      <td>0.000028</td>\n",
       "      <td>0.000004</td>\n",
       "      <td>0.000020</td>\n",
       "      <td>0.000046</td>\n",
       "      <td>0.000027</td>\n",
       "    </tr>\n",
       "    <tr>\n",
       "      <th>5.0</th>\n",
       "      <td>0.000034</td>\n",
       "      <td>0.000004</td>\n",
       "      <td>0.000025</td>\n",
       "      <td>0.000049</td>\n",
       "      <td>0.000033</td>\n",
       "    </tr>\n",
       "    <tr>\n",
       "      <th>6.0</th>\n",
       "      <td>0.000041</td>\n",
       "      <td>0.000006</td>\n",
       "      <td>0.000029</td>\n",
       "      <td>0.000063</td>\n",
       "      <td>0.000040</td>\n",
       "    </tr>\n",
       "    <tr>\n",
       "      <th>8.0</th>\n",
       "      <td>0.000056</td>\n",
       "      <td>0.000007</td>\n",
       "      <td>0.000041</td>\n",
       "      <td>0.000083</td>\n",
       "      <td>0.000055</td>\n",
       "    </tr>\n",
       "    <tr>\n",
       "      <th>10.0</th>\n",
       "      <td>0.000071</td>\n",
       "      <td>0.000011</td>\n",
       "      <td>0.000048</td>\n",
       "      <td>0.000122</td>\n",
       "      <td>0.000068</td>\n",
       "    </tr>\n",
       "    <tr>\n",
       "      <th>12.0</th>\n",
       "      <td>0.000083</td>\n",
       "      <td>0.000015</td>\n",
       "      <td>0.000046</td>\n",
       "      <td>0.000122</td>\n",
       "      <td>0.000081</td>\n",
       "    </tr>\n",
       "    <tr>\n",
       "      <th>15.0</th>\n",
       "      <td>0.000099</td>\n",
       "      <td>0.000019</td>\n",
       "      <td>0.000062</td>\n",
       "      <td>0.000148</td>\n",
       "      <td>0.000098</td>\n",
       "    </tr>\n",
       "  </tbody>\n",
       "</table>\n",
       "</div>"
      ],
      "text/plain": [
       "               mean       std       min       max    median\n",
       "thickness                                                  \n",
       "2.0        0.000016  0.000003  0.000012  0.000026  0.000015\n",
       "3.0        0.000022  0.000004  0.000017  0.000037  0.000021\n",
       "4.0        0.000028  0.000004  0.000020  0.000046  0.000027\n",
       "5.0        0.000034  0.000004  0.000025  0.000049  0.000033\n",
       "6.0        0.000041  0.000006  0.000029  0.000063  0.000040\n",
       "8.0        0.000056  0.000007  0.000041  0.000083  0.000055\n",
       "10.0       0.000071  0.000011  0.000048  0.000122  0.000068\n",
       "12.0       0.000083  0.000015  0.000046  0.000122  0.000081\n",
       "15.0       0.000099  0.000019  0.000062  0.000148  0.000098"
      ]
     },
     "execution_count": 39,
     "metadata": {},
     "output_type": "execute_result"
    }
   ],
   "source": [
    "df = dataset.groupby('thickness')['SURF_COST_RECTANGLE']\n",
    "df.agg(['mean', 'std', 'min', 'max', 'median'])"
   ]
  },
  {
   "cell_type": "code",
   "execution_count": 40,
   "metadata": {},
   "outputs": [
    {
     "data": {
      "text/plain": [
       "{2.0: 1.6393343278765298e-05,\n",
       " 3.0: 2.205419650513705e-05,\n",
       " 4.0: 2.7563646342806256e-05,\n",
       " 5.0: 3.403715067982964e-05,\n",
       " 6.0: 4.106868112741293e-05,\n",
       " 8.0: 5.570442221130865e-05,\n",
       " 10.0: 7.074519487595863e-05,\n",
       " 12.0: 8.254202896815936e-05,\n",
       " 15.0: 9.929748695598306e-05}"
      ]
     },
     "execution_count": 40,
     "metadata": {},
     "output_type": "execute_result"
    }
   ],
   "source": [
    "surfcost = df.agg('mean').to_dict()\n",
    "surfcost"
   ]
  },
  {
   "cell_type": "code",
   "execution_count": 41,
   "metadata": {},
   "outputs": [
    {
     "data": {
      "text/html": [
       "<div>\n",
       "<style scoped>\n",
       "    .dataframe tbody tr th:only-of-type {\n",
       "        vertical-align: middle;\n",
       "    }\n",
       "\n",
       "    .dataframe tbody tr th {\n",
       "        vertical-align: top;\n",
       "    }\n",
       "\n",
       "    .dataframe thead th {\n",
       "        text-align: right;\n",
       "    }\n",
       "</style>\n",
       "<table border=\"1\" class=\"dataframe\">\n",
       "  <thead>\n",
       "    <tr style=\"text-align: right;\">\n",
       "      <th></th>\n",
       "      <th>VAMAT</th>\n",
       "      <th>VAMAT_pred</th>\n",
       "    </tr>\n",
       "    <tr>\n",
       "      <th>COART</th>\n",
       "      <th></th>\n",
       "      <th></th>\n",
       "    </tr>\n",
       "  </thead>\n",
       "  <tbody>\n",
       "    <tr>\n",
       "      <th>L1600360</th>\n",
       "      <td>12.51</td>\n",
       "      <td>11.901940</td>\n",
       "    </tr>\n",
       "    <tr>\n",
       "      <th>L1600470</th>\n",
       "      <td>0.25</td>\n",
       "      <td>0.247608</td>\n",
       "    </tr>\n",
       "    <tr>\n",
       "      <th>L1600610</th>\n",
       "      <td>9.18</td>\n",
       "      <td>9.699850</td>\n",
       "    </tr>\n",
       "    <tr>\n",
       "      <th>L1600620</th>\n",
       "      <td>9.18</td>\n",
       "      <td>8.706952</td>\n",
       "    </tr>\n",
       "    <tr>\n",
       "      <th>L1600700</th>\n",
       "      <td>0.75</td>\n",
       "      <td>0.902638</td>\n",
       "    </tr>\n",
       "  </tbody>\n",
       "</table>\n",
       "</div>"
      ],
      "text/plain": [
       "          VAMAT  VAMAT_pred\n",
       "COART                      \n",
       "L1600360  12.51   11.901940\n",
       "L1600470   0.25    0.247608\n",
       "L1600610   9.18    9.699850\n",
       "L1600620   9.18    8.706952\n",
       "L1600700   0.75    0.902638"
      ]
     },
     "execution_count": 41,
     "metadata": {},
     "output_type": "execute_result"
    }
   ],
   "source": [
    "def vamatfeat(entry):\n",
    "    return entry['minimum_rectangle_area'] * surfcost.get(entry['thickness'],0)\n",
    "\n",
    "dataset['VAMAT_pred'] = dataset.apply(vamatfeat, axis=1)\n",
    "dataset[['VAMAT', 'VAMAT_pred']].head()"
   ]
  },
  {
   "cell_type": "code",
   "execution_count": 42,
   "metadata": {},
   "outputs": [
    {
     "name": "stderr",
     "output_type": "stream",
     "text": [
      "/Users/cricket/anaconda3/lib/python3.6/site-packages/matplotlib/axes/_axes.py:6448: UserWarning: The 'normed' kwarg is deprecated, and has been replaced by the 'density' kwarg.\n",
      "  warnings.warn(\"The 'normed' kwarg is deprecated, and has been \"\n"
     ]
    },
    {
     "data": {
      "text/plain": [
       "<seaborn.axisgrid.JointGrid at 0x1a0c1d5d68>"
      ]
     },
     "execution_count": 42,
     "metadata": {},
     "output_type": "execute_result"
    },
    {
     "data": {
      "image/png": "[encoded data removed]",
      "text/plain": [
       "<Figure size 576x576 with 3 Axes>"
      ]
     },
     "metadata": {},
     "output_type": "display_data"
    }
   ],
   "source": [
    "sns.jointplot(x='VAMAT_pred', y='VAMAT', data=dataset, kind='reg', size=8)"
   ]
  },
  {
   "cell_type": "code",
   "execution_count": 43,
   "metadata": {},
   "outputs": [
    {
     "data": {
      "text/plain": [
       "3.08046654116275"
      ]
     },
     "execution_count": 43,
     "metadata": {},
     "output_type": "execute_result"
    }
   ],
   "source": [
    "mean_squared_error(dataset['VAMAT'], dataset['VAMAT_pred'])"
   ]
  },
  {
   "cell_type": "code",
   "execution_count": 44,
   "metadata": {},
   "outputs": [
    {
     "data": {
      "text/plain": [
       "11.004758519127043"
      ]
     },
     "execution_count": 44,
     "metadata": {},
     "output_type": "execute_result"
    }
   ],
   "source": [
    "mean_absolute_percentage_error(dataset['VAMAT'], dataset['VAMAT_pred'])"
   ]
  },
  {
   "cell_type": "markdown",
   "metadata": {},
   "source": [
    "# Per thickness"
   ]
  },
  {
   "cell_type": "code",
   "execution_count": 45,
   "metadata": {},
   "outputs": [],
   "source": [
    "from sklearn.base import BaseEstimator, TransformerMixin\n",
    "from sklearn.utils import check_X_y"
   ]
  },
  {
   "cell_type": "code",
   "execution_count": 46,
   "metadata": {},
   "outputs": [],
   "source": [
    "class Regthick(BaseEstimator, TransformerMixin):\n",
    "    def __init__(self):\n",
    "        self.thickness = []\n",
    "    \n",
    "    def fit(self, X, y):\n",
    "        #X, y = check_X_y(X, y)\n",
    "        self.thickness = X['thickness'].unique()\n",
    "        parameters = {'alpha':np.logspace(-3,3,5),\n",
    "                      'l1_ratio':np.linspace(0.01,1,5)\n",
    "                        }\n",
    "        for thickness in self.thickness:\n",
    "            setattr(self, 'reg{:02d}'.format(int(thickness)),\n",
    "                    GridSearchCV(ElasticNet(alpha=0, l1_ratio=1, random_state=0, normalize=False, fit_intercept=False),\n",
    "                                 parameters, cv=3, n_jobs=-2, scoring='neg_mean_squared_error'))\n",
    "            \n",
    "            mask = X['thickness']==thickness\n",
    "            #print(X.columns.values)\n",
    "            df = X[mask]\n",
    "            labels = y[mask]\n",
    "            getattr(self, 'reg{:02d}'.format(int(thickness))).fit(df[['minimum_rectangle_area', 'bend_count']], labels)\n",
    "    \n",
    "    def predict(self, X, y=None):\n",
    "        thickness = X[0]\n",
    "        df = np.array(X[1:]).reshape(1, -1)\n",
    "        return getattr(self, 'reg{:02d}'.format(int(thickness))).predict(df)\n",
    "    \n",
    "    def get_l1_ratio(self):\n",
    "        toreturn = []\n",
    "        for th in self.thickness:\n",
    "            toreturn.append((th, getattr(self, 'reg{:02d}'.format(int(thickness))).estimator.l1_ratio))\n",
    "        return toreturn\n",
    "    \n",
    "    def get_alpha(self):\n",
    "        toreturn = []\n",
    "        for th in self.thickness:\n",
    "            toreturn.append((th, getattr(self, 'reg{:02d}'.format(int(thickness))).estimator.alpha))\n",
    "        return toreturn\n",
    "        \n",
    "    def get_th_coefs(self):\n",
    "        toreturn = []\n",
    "        for th in self.thickness:\n",
    "            temp = []\n",
    "            estim = getattr(self, 'reg{:02d}'.format(int(th)))\n",
    "            coeffs = estim.best_estimator_.coef_.copy()\n",
    "            temp.append(th)\n",
    "            temp.extend(coeffs.tolist())\n",
    "            toreturn.append(temp)\n",
    "        return np.array(toreturn)\n",
    "    \n"
   ]
  },
  {
   "cell_type": "code",
   "execution_count": 47,
   "metadata": {},
   "outputs": [],
   "source": [
    "regthick = Regthick()\n",
    "regthick.fit(X_train[limitedset], y_train[target])"
   ]
  },
  {
   "cell_type": "code",
   "execution_count": 48,
   "metadata": {},
   "outputs": [
    {
     "data": {
      "text/plain": [
       "[(5.0, 1),\n",
       " (8.0, 1),\n",
       " (12.0, 1),\n",
       " (4.0, 1),\n",
       " (6.0, 1),\n",
       " (10.0, 1),\n",
       " (3.0, 1),\n",
       " (15.0, 1),\n",
       " (2.0, 1)]"
      ]
     },
     "execution_count": 48,
     "metadata": {},
     "output_type": "execute_result"
    }
   ],
   "source": [
    "regthick.get_l1_ratio()"
   ]
  },
  {
   "cell_type": "code",
   "execution_count": 49,
   "metadata": {},
   "outputs": [
    {
     "data": {
      "text/plain": [
       "[(5.0, 0),\n",
       " (8.0, 0),\n",
       " (12.0, 0),\n",
       " (4.0, 0),\n",
       " (6.0, 0),\n",
       " (10.0, 0),\n",
       " (3.0, 0),\n",
       " (15.0, 0),\n",
       " (2.0, 0)]"
      ]
     },
     "execution_count": 49,
     "metadata": {},
     "output_type": "execute_result"
    }
   ],
   "source": [
    "regthick.get_alpha()"
   ]
  },
  {
   "cell_type": "code",
   "execution_count": 50,
   "metadata": {},
   "outputs": [
    {
     "data": {
      "text/plain": [
       "array([13.94260903])"
      ]
     },
     "execution_count": 50,
     "metadata": {},
     "output_type": "execute_result"
    }
   ],
   "source": [
    "#regthick.reg10.predict(np.array([10.0, 123061.765625, 2]).reshape(1,-1))\n",
    "regthick.predict([10.0, 123061.765625, 2])"
   ]
  },
  {
   "cell_type": "code",
   "execution_count": 51,
   "metadata": {},
   "outputs": [
    {
     "data": {
      "text/plain": [
       "13.94260903099423"
      ]
     },
     "execution_count": 51,
     "metadata": {},
     "output_type": "execute_result"
    }
   ],
   "source": [
    "np.dot(regthick.reg10.best_estimator_.coef_, [123061.765625, 2])"
   ]
  },
  {
   "cell_type": "code",
   "execution_count": 52,
   "metadata": {},
   "outputs": [
    {
     "data": {
      "text/plain": [
       "array([[5.00000000e+00, 5.06829470e-05, 7.75819370e-01],\n",
       "       [8.00000000e+00, 8.05158195e-05, 7.95511630e-01],\n",
       "       [1.20000000e+01, 1.07964211e-04, 4.32202280e-01],\n",
       "       [4.00000000e+00, 3.85920195e-05, 6.56602289e-01],\n",
       "       [6.00000000e+00, 5.81423396e-05, 8.16917038e-01],\n",
       "       [1.00000000e+01, 9.87294525e-05, 8.96394144e-01],\n",
       "       [3.00000000e+00, 3.33501335e-05, 8.35804779e-01],\n",
       "       [1.50000000e+01, 1.22726430e-04, 1.21510718e+00],\n",
       "       [2.00000000e+00, 2.68541473e-05, 3.81410307e-01]])"
      ]
     },
     "execution_count": 52,
     "metadata": {},
     "output_type": "execute_result"
    }
   ],
   "source": [
    "#1.26214574e-05 * 123061.765625 + 6.96330034e-01*2\n",
    "regthick.get_th_coefs()"
   ]
  },
  {
   "cell_type": "code",
   "execution_count": 53,
   "metadata": {},
   "outputs": [
    {
     "data": {
      "text/html": [
       "<div>\n",
       "<style scoped>\n",
       "    .dataframe tbody tr th:only-of-type {\n",
       "        vertical-align: middle;\n",
       "    }\n",
       "\n",
       "    .dataframe tbody tr th {\n",
       "        vertical-align: top;\n",
       "    }\n",
       "\n",
       "    .dataframe thead th {\n",
       "        text-align: right;\n",
       "    }\n",
       "</style>\n",
       "<table border=\"1\" class=\"dataframe\">\n",
       "  <thead>\n",
       "    <tr style=\"text-align: right;\">\n",
       "      <th></th>\n",
       "      <th>K1</th>\n",
       "      <th>K2</th>\n",
       "    </tr>\n",
       "    <tr>\n",
       "      <th>thickness</th>\n",
       "      <th></th>\n",
       "      <th></th>\n",
       "    </tr>\n",
       "  </thead>\n",
       "  <tbody>\n",
       "    <tr>\n",
       "      <th>2.0</th>\n",
       "      <td>0.000027</td>\n",
       "      <td>0.381410</td>\n",
       "    </tr>\n",
       "    <tr>\n",
       "      <th>3.0</th>\n",
       "      <td>0.000033</td>\n",
       "      <td>0.835805</td>\n",
       "    </tr>\n",
       "    <tr>\n",
       "      <th>4.0</th>\n",
       "      <td>0.000039</td>\n",
       "      <td>0.656602</td>\n",
       "    </tr>\n",
       "    <tr>\n",
       "      <th>5.0</th>\n",
       "      <td>0.000051</td>\n",
       "      <td>0.775819</td>\n",
       "    </tr>\n",
       "    <tr>\n",
       "      <th>6.0</th>\n",
       "      <td>0.000058</td>\n",
       "      <td>0.816917</td>\n",
       "    </tr>\n",
       "    <tr>\n",
       "      <th>8.0</th>\n",
       "      <td>0.000081</td>\n",
       "      <td>0.795512</td>\n",
       "    </tr>\n",
       "    <tr>\n",
       "      <th>10.0</th>\n",
       "      <td>0.000099</td>\n",
       "      <td>0.896394</td>\n",
       "    </tr>\n",
       "    <tr>\n",
       "      <th>12.0</th>\n",
       "      <td>0.000108</td>\n",
       "      <td>0.432202</td>\n",
       "    </tr>\n",
       "    <tr>\n",
       "      <th>15.0</th>\n",
       "      <td>0.000123</td>\n",
       "      <td>1.215107</td>\n",
       "    </tr>\n",
       "  </tbody>\n",
       "</table>\n",
       "</div>"
      ],
      "text/plain": [
       "                 K1        K2\n",
       "thickness                    \n",
       "2.0        0.000027  0.381410\n",
       "3.0        0.000033  0.835805\n",
       "4.0        0.000039  0.656602\n",
       "5.0        0.000051  0.775819\n",
       "6.0        0.000058  0.816917\n",
       "8.0        0.000081  0.795512\n",
       "10.0       0.000099  0.896394\n",
       "12.0       0.000108  0.432202\n",
       "15.0       0.000123  1.215107"
      ]
     },
     "execution_count": 53,
     "metadata": {},
     "output_type": "execute_result"
    }
   ],
   "source": [
    "df = pd.DataFrame(regthick.get_th_coefs())\n",
    "df.columns=['thickness', 'K1', 'K2']\n",
    "df.set_index('thickness', inplace=True)\n",
    "df.sort_index()"
   ]
  },
  {
   "cell_type": "code",
   "execution_count": 54,
   "metadata": {},
   "outputs": [],
   "source": [
    "asmset = [[th, rect, bend] for th, rect, bend in zip(X_test.thickness.tolist(),\n",
    "                                            X_test.minimum_rectangle_area.tolist(),\n",
    "                                           X_test.bend_count.tolist(),)]"
   ]
  },
  {
   "cell_type": "markdown",
   "metadata": {},
   "source": [
    "# Results comparison"
   ]
  },
  {
   "cell_type": "code",
   "execution_count": 55,
   "metadata": {},
   "outputs": [],
   "source": [
    "prediction_s2 = np.array([regthick.predict(x)[0] for x in asmset])\n",
    "prediction_s1 = regnostd.predict(X_test[limitedset])"
   ]
  },
  {
   "cell_type": "code",
   "execution_count": 56,
   "metadata": {},
   "outputs": [
    {
     "data": {
      "text/html": [
       "<div>\n",
       "<style scoped>\n",
       "    .dataframe tbody tr th:only-of-type {\n",
       "        vertical-align: middle;\n",
       "    }\n",
       "\n",
       "    .dataframe tbody tr th {\n",
       "        vertical-align: top;\n",
       "    }\n",
       "\n",
       "    .dataframe thead th {\n",
       "        text-align: right;\n",
       "    }\n",
       "</style>\n",
       "<table border=\"1\" class=\"dataframe\">\n",
       "  <thead>\n",
       "    <tr style=\"text-align: right;\">\n",
       "      <th></th>\n",
       "      <th>pred_S1</th>\n",
       "      <th>pred_S2</th>\n",
       "      <th>target</th>\n",
       "    </tr>\n",
       "    <tr>\n",
       "      <th>COART</th>\n",
       "      <th></th>\n",
       "      <th></th>\n",
       "      <th></th>\n",
       "    </tr>\n",
       "  </thead>\n",
       "  <tbody>\n",
       "    <tr>\n",
       "      <th>L2514940</th>\n",
       "      <td>4.251108</td>\n",
       "      <td>0.779594</td>\n",
       "      <td>1.65</td>\n",
       "    </tr>\n",
       "    <tr>\n",
       "      <th>L8819170</th>\n",
       "      <td>4.061400</td>\n",
       "      <td>0.450232</td>\n",
       "      <td>1.26</td>\n",
       "    </tr>\n",
       "    <tr>\n",
       "      <th>L6705510</th>\n",
       "      <td>15.019633</td>\n",
       "      <td>13.183490</td>\n",
       "      <td>15.17</td>\n",
       "    </tr>\n",
       "    <tr>\n",
       "      <th>L3075990</th>\n",
       "      <td>6.757626</td>\n",
       "      <td>2.939439</td>\n",
       "      <td>3.84</td>\n",
       "    </tr>\n",
       "    <tr>\n",
       "      <th>L8420760</th>\n",
       "      <td>5.397876</td>\n",
       "      <td>2.770549</td>\n",
       "      <td>3.40</td>\n",
       "    </tr>\n",
       "  </tbody>\n",
       "</table>\n",
       "</div>"
      ],
      "text/plain": [
       "            pred_S1    pred_S2  target\n",
       "COART                                 \n",
       "L2514940   4.251108   0.779594    1.65\n",
       "L8819170   4.061400   0.450232    1.26\n",
       "L6705510  15.019633  13.183490   15.17\n",
       "L3075990   6.757626   2.939439    3.84\n",
       "L8420760   5.397876   2.770549    3.40"
      ]
     },
     "execution_count": 56,
     "metadata": {},
     "output_type": "execute_result"
    }
   ],
   "source": [
    "resultset = pd.DataFrame({'target': y_test[target],\n",
    "                          'pred_S1':prediction_s1,\n",
    "                          'pred_S2':prediction_s2}, index=y_test.index)\n",
    "resultset.head()"
   ]
  },
  {
   "cell_type": "code",
   "execution_count": 57,
   "metadata": {},
   "outputs": [
    {
     "data": {
      "text/plain": [
       "23.115959819787417"
      ]
     },
     "execution_count": 57,
     "metadata": {},
     "output_type": "execute_result"
    }
   ],
   "source": [
    "mean_squared_error(resultset['target'], resultset['pred_S1'])"
   ]
  },
  {
   "cell_type": "code",
   "execution_count": 58,
   "metadata": {},
   "outputs": [
    {
     "data": {
      "text/plain": [
       "58.7256665749524"
      ]
     },
     "execution_count": 58,
     "metadata": {},
     "output_type": "execute_result"
    }
   ],
   "source": [
    "mean_absolute_percentage_error(resultset['target'], resultset['pred_S1'])"
   ]
  },
  {
   "cell_type": "code",
   "execution_count": 59,
   "metadata": {},
   "outputs": [
    {
     "data": {
      "text/plain": [
       "21.27364865494777"
      ]
     },
     "execution_count": 59,
     "metadata": {},
     "output_type": "execute_result"
    }
   ],
   "source": [
    "mean_absolute_percentage_error(resultset['target'], resultset['pred_S2'])"
   ]
  },
  {
   "cell_type": "code",
   "execution_count": 60,
   "metadata": {},
   "outputs": [
    {
     "data": {
      "text/plain": [
       "3.5908896588024626"
      ]
     },
     "execution_count": 60,
     "metadata": {},
     "output_type": "execute_result"
    }
   ],
   "source": [
    "mean_squared_error(resultset['target'], resultset['pred_S2'])"
   ]
  },
  {
   "cell_type": "code",
   "execution_count": 61,
   "metadata": {},
   "outputs": [
    {
     "data": {
      "text/html": [
       "<div>\n",
       "<style scoped>\n",
       "    .dataframe tbody tr th:only-of-type {\n",
       "        vertical-align: middle;\n",
       "    }\n",
       "\n",
       "    .dataframe tbody tr th {\n",
       "        vertical-align: top;\n",
       "    }\n",
       "\n",
       "    .dataframe thead th {\n",
       "        text-align: right;\n",
       "    }\n",
       "</style>\n",
       "<table border=\"1\" class=\"dataframe\">\n",
       "  <thead>\n",
       "    <tr style=\"text-align: right;\">\n",
       "      <th></th>\n",
       "      <th>pred_S1</th>\n",
       "      <th>pred_S2</th>\n",
       "      <th>target</th>\n",
       "      <th>MSE_s1</th>\n",
       "      <th>MSE_s2</th>\n",
       "    </tr>\n",
       "    <tr>\n",
       "      <th>COART</th>\n",
       "      <th></th>\n",
       "      <th></th>\n",
       "      <th></th>\n",
       "      <th></th>\n",
       "      <th></th>\n",
       "    </tr>\n",
       "  </thead>\n",
       "  <tbody>\n",
       "    <tr>\n",
       "      <th>L2514940</th>\n",
       "      <td>4.251108</td>\n",
       "      <td>0.779594</td>\n",
       "      <td>1.65</td>\n",
       "      <td>6.765764</td>\n",
       "      <td>0.757607</td>\n",
       "    </tr>\n",
       "    <tr>\n",
       "      <th>L8819170</th>\n",
       "      <td>4.061400</td>\n",
       "      <td>0.450232</td>\n",
       "      <td>1.26</td>\n",
       "      <td>7.847841</td>\n",
       "      <td>0.655724</td>\n",
       "    </tr>\n",
       "    <tr>\n",
       "      <th>L6705510</th>\n",
       "      <td>15.019633</td>\n",
       "      <td>13.183490</td>\n",
       "      <td>15.17</td>\n",
       "      <td>0.022610</td>\n",
       "      <td>3.946223</td>\n",
       "    </tr>\n",
       "    <tr>\n",
       "      <th>L3075990</th>\n",
       "      <td>6.757626</td>\n",
       "      <td>2.939439</td>\n",
       "      <td>3.84</td>\n",
       "      <td>8.512539</td>\n",
       "      <td>0.811011</td>\n",
       "    </tr>\n",
       "    <tr>\n",
       "      <th>L8420760</th>\n",
       "      <td>5.397876</td>\n",
       "      <td>2.770549</td>\n",
       "      <td>3.40</td>\n",
       "      <td>3.991507</td>\n",
       "      <td>0.396208</td>\n",
       "    </tr>\n",
       "  </tbody>\n",
       "</table>\n",
       "</div>"
      ],
      "text/plain": [
       "            pred_S1    pred_S2  target    MSE_s1    MSE_s2\n",
       "COART                                                     \n",
       "L2514940   4.251108   0.779594    1.65  6.765764  0.757607\n",
       "L8819170   4.061400   0.450232    1.26  7.847841  0.655724\n",
       "L6705510  15.019633  13.183490   15.17  0.022610  3.946223\n",
       "L3075990   6.757626   2.939439    3.84  8.512539  0.811011\n",
       "L8420760   5.397876   2.770549    3.40  3.991507  0.396208"
      ]
     },
     "execution_count": 61,
     "metadata": {},
     "output_type": "execute_result"
    }
   ],
   "source": [
    "resultset['MSE_s1'] = (resultset['target']-resultset['pred_S1'])**2\n",
    "resultset['MSE_s2'] = (resultset['target']-resultset['pred_S2'])**2\n",
    "resultset.head()"
   ]
  },
  {
   "cell_type": "code",
   "execution_count": 62,
   "metadata": {},
   "outputs": [
    {
     "data": {
      "text/plain": [
       "3.5908896588024626"
      ]
     },
     "execution_count": 62,
     "metadata": {},
     "output_type": "execute_result"
    }
   ],
   "source": [
    "resultset['MSE_s2'].mean()"
   ]
  },
  {
   "cell_type": "code",
   "execution_count": 63,
   "metadata": {},
   "outputs": [
    {
     "data": {
      "text/html": [
       "<div>\n",
       "<style scoped>\n",
       "    .dataframe tbody tr th:only-of-type {\n",
       "        vertical-align: middle;\n",
       "    }\n",
       "\n",
       "    .dataframe tbody tr th {\n",
       "        vertical-align: top;\n",
       "    }\n",
       "\n",
       "    .dataframe thead th {\n",
       "        text-align: right;\n",
       "    }\n",
       "</style>\n",
       "<table border=\"1\" class=\"dataframe\">\n",
       "  <thead>\n",
       "    <tr style=\"text-align: right;\">\n",
       "      <th></th>\n",
       "      <th>COART</th>\n",
       "      <th>pred_S1</th>\n",
       "      <th>pred_S2</th>\n",
       "      <th>target</th>\n",
       "      <th>MSE_s1</th>\n",
       "      <th>MSE_s2</th>\n",
       "      <th>cut_length</th>\n",
       "      <th>num_closed_patterns</th>\n",
       "      <th>num_open_patterns</th>\n",
       "      <th>total_area</th>\n",
       "      <th>...</th>\n",
       "      <th>weight</th>\n",
       "      <th>VAMAT</th>\n",
       "      <th>VALAJOUT</th>\n",
       "      <th>VALTOT</th>\n",
       "      <th>VOL_COST_CONVHULL</th>\n",
       "      <th>VOL_COST_RECTANGLE</th>\n",
       "      <th>VOL_COST_MPATTERN</th>\n",
       "      <th>bend_group</th>\n",
       "      <th>SURF_COST_RECTANGLE</th>\n",
       "      <th>APPROX_BEND_COST</th>\n",
       "    </tr>\n",
       "  </thead>\n",
       "  <tbody>\n",
       "    <tr>\n",
       "      <th>0</th>\n",
       "      <td>L2514940</td>\n",
       "      <td>4.251108</td>\n",
       "      <td>0.779594</td>\n",
       "      <td>1.65</td>\n",
       "      <td>6.765764</td>\n",
       "      <td>0.757607</td>\n",
       "      <td>443.695068</td>\n",
       "      <td>2</td>\n",
       "      <td>0</td>\n",
       "      <td>5409.296875</td>\n",
       "      <td>...</td>\n",
       "      <td>0.595280</td>\n",
       "      <td>0.60</td>\n",
       "      <td>1.05</td>\n",
       "      <td>1.65</td>\n",
       "      <td>0.000011</td>\n",
       "      <td>0.000008</td>\n",
       "      <td>0.000012</td>\n",
       "      <td>0</td>\n",
       "      <td>0.000062</td>\n",
       "      <td>1.050</td>\n",
       "    </tr>\n",
       "    <tr>\n",
       "      <th>1</th>\n",
       "      <td>L8819170</td>\n",
       "      <td>4.061400</td>\n",
       "      <td>0.450232</td>\n",
       "      <td>1.26</td>\n",
       "      <td>7.847841</td>\n",
       "      <td>0.655724</td>\n",
       "      <td>283.483337</td>\n",
       "      <td>1</td>\n",
       "      <td>0</td>\n",
       "      <td>5072.400879</td>\n",
       "      <td>...</td>\n",
       "      <td>0.343787</td>\n",
       "      <td>0.40</td>\n",
       "      <td>0.86</td>\n",
       "      <td>1.26</td>\n",
       "      <td>0.000010</td>\n",
       "      <td>0.000009</td>\n",
       "      <td>0.000010</td>\n",
       "      <td>0</td>\n",
       "      <td>0.000072</td>\n",
       "      <td>0.860</td>\n",
       "    </tr>\n",
       "    <tr>\n",
       "      <th>2</th>\n",
       "      <td>L6705510</td>\n",
       "      <td>15.019633</td>\n",
       "      <td>13.183490</td>\n",
       "      <td>15.17</td>\n",
       "      <td>0.022610</td>\n",
       "      <td>3.946223</td>\n",
       "      <td>4258.308594</td>\n",
       "      <td>11</td>\n",
       "      <td>1</td>\n",
       "      <td>117159.117188</td>\n",
       "      <td>...</td>\n",
       "      <td>6.802595</td>\n",
       "      <td>9.18</td>\n",
       "      <td>5.99</td>\n",
       "      <td>15.17</td>\n",
       "      <td>0.000015</td>\n",
       "      <td>0.000010</td>\n",
       "      <td>0.000026</td>\n",
       "      <td>3-5</td>\n",
       "      <td>0.000031</td>\n",
       "      <td>1.198</td>\n",
       "    </tr>\n",
       "    <tr>\n",
       "      <th>3</th>\n",
       "      <td>L3075990</td>\n",
       "      <td>6.757626</td>\n",
       "      <td>2.939439</td>\n",
       "      <td>3.84</td>\n",
       "      <td>8.512539</td>\n",
       "      <td>0.811011</td>\n",
       "      <td>798.948486</td>\n",
       "      <td>3</td>\n",
       "      <td>0</td>\n",
       "      <td>11440.706055</td>\n",
       "      <td>...</td>\n",
       "      <td>2.141611</td>\n",
       "      <td>1.68</td>\n",
       "      <td>2.16</td>\n",
       "      <td>3.84</td>\n",
       "      <td>0.000009</td>\n",
       "      <td>0.000006</td>\n",
       "      <td>0.000011</td>\n",
       "      <td>1-2</td>\n",
       "      <td>0.000072</td>\n",
       "      <td>1.080</td>\n",
       "    </tr>\n",
       "    <tr>\n",
       "      <th>4</th>\n",
       "      <td>L8420760</td>\n",
       "      <td>5.397876</td>\n",
       "      <td>2.770549</td>\n",
       "      <td>3.40</td>\n",
       "      <td>3.991507</td>\n",
       "      <td>0.396208</td>\n",
       "      <td>980.714661</td>\n",
       "      <td>2</td>\n",
       "      <td>0</td>\n",
       "      <td>17525.300781</td>\n",
       "      <td>...</td>\n",
       "      <td>2.115527</td>\n",
       "      <td>1.80</td>\n",
       "      <td>1.60</td>\n",
       "      <td>3.40</td>\n",
       "      <td>0.000009</td>\n",
       "      <td>0.000007</td>\n",
       "      <td>0.000010</td>\n",
       "      <td>0</td>\n",
       "      <td>0.000052</td>\n",
       "      <td>1.600</td>\n",
       "    </tr>\n",
       "  </tbody>\n",
       "</table>\n",
       "<p>5 rows × 673 columns</p>\n",
       "</div>"
      ],
      "text/plain": [
       "      COART    pred_S1    pred_S2  target    MSE_s1    MSE_s2   cut_length  \\\n",
       "0  L2514940   4.251108   0.779594    1.65  6.765764  0.757607   443.695068   \n",
       "1  L8819170   4.061400   0.450232    1.26  7.847841  0.655724   283.483337   \n",
       "2  L6705510  15.019633  13.183490   15.17  0.022610  3.946223  4258.308594   \n",
       "3  L3075990   6.757626   2.939439    3.84  8.512539  0.811011   798.948486   \n",
       "4  L8420760   5.397876   2.770549    3.40  3.991507  0.396208   980.714661   \n",
       "\n",
       "   num_closed_patterns  num_open_patterns     total_area        ...         \\\n",
       "0                    2                  0    5409.296875        ...          \n",
       "1                    1                  0    5072.400879        ...          \n",
       "2                   11                  1  117159.117188        ...          \n",
       "3                    3                  0   11440.706055        ...          \n",
       "4                    2                  0   17525.300781        ...          \n",
       "\n",
       "     weight  VAMAT  VALAJOUT  VALTOT  VOL_COST_CONVHULL  VOL_COST_RECTANGLE  \\\n",
       "0  0.595280   0.60      1.05    1.65           0.000011            0.000008   \n",
       "1  0.343787   0.40      0.86    1.26           0.000010            0.000009   \n",
       "2  6.802595   9.18      5.99   15.17           0.000015            0.000010   \n",
       "3  2.141611   1.68      2.16    3.84           0.000009            0.000006   \n",
       "4  2.115527   1.80      1.60    3.40           0.000009            0.000007   \n",
       "\n",
       "   VOL_COST_MPATTERN  bend_group  SURF_COST_RECTANGLE  APPROX_BEND_COST  \n",
       "0           0.000012           0             0.000062             1.050  \n",
       "1           0.000010           0             0.000072             0.860  \n",
       "2           0.000026         3-5             0.000031             1.198  \n",
       "3           0.000011         1-2             0.000072             1.080  \n",
       "4           0.000010           0             0.000052             1.600  \n",
       "\n",
       "[5 rows x 673 columns]"
      ]
     },
     "execution_count": 63,
     "metadata": {},
     "output_type": "execute_result"
    }
   ],
   "source": [
    "#Comparison assembly\n",
    "comparisonset = pd.merge(resultset.reset_index(), X_test.reset_index(), on='COART', how='inner')\n",
    "comparisonset.head()"
   ]
  },
  {
   "cell_type": "code",
   "execution_count": null,
   "metadata": {},
   "outputs": [],
   "source": []
  },
  {
   "cell_type": "code",
   "execution_count": 64,
   "metadata": {},
   "outputs": [
    {
     "data": {
      "image/png": "[encoded data removed]",
      "text/plain": [
       "<Figure size 432x288 with 1 Axes>"
      ]
     },
     "metadata": {},
     "output_type": "display_data"
    },
    {
     "data": {
      "text/html": [
       "<div>\n",
       "<style scoped>\n",
       "    .dataframe tbody tr th:only-of-type {\n",
       "        vertical-align: middle;\n",
       "    }\n",
       "\n",
       "    .dataframe tbody tr th {\n",
       "        vertical-align: top;\n",
       "    }\n",
       "\n",
       "    .dataframe thead th {\n",
       "        text-align: right;\n",
       "    }\n",
       "</style>\n",
       "<table border=\"1\" class=\"dataframe\">\n",
       "  <thead>\n",
       "    <tr style=\"text-align: right;\">\n",
       "      <th></th>\n",
       "      <th>MSE_s1</th>\n",
       "      <th>MSE_s2</th>\n",
       "    </tr>\n",
       "    <tr>\n",
       "      <th>thickness</th>\n",
       "      <th></th>\n",
       "      <th></th>\n",
       "    </tr>\n",
       "  </thead>\n",
       "  <tbody>\n",
       "    <tr>\n",
       "      <th>2.0</th>\n",
       "      <td>352.159871</td>\n",
       "      <td>21.441204</td>\n",
       "    </tr>\n",
       "    <tr>\n",
       "      <th>3.0</th>\n",
       "      <td>9.621667</td>\n",
       "      <td>3.826324</td>\n",
       "    </tr>\n",
       "    <tr>\n",
       "      <th>4.0</th>\n",
       "      <td>6.518056</td>\n",
       "      <td>3.096066</td>\n",
       "    </tr>\n",
       "    <tr>\n",
       "      <th>5.0</th>\n",
       "      <td>3.967907</td>\n",
       "      <td>1.626477</td>\n",
       "    </tr>\n",
       "    <tr>\n",
       "      <th>6.0</th>\n",
       "      <td>2.732744</td>\n",
       "      <td>1.313739</td>\n",
       "    </tr>\n",
       "    <tr>\n",
       "      <th>8.0</th>\n",
       "      <td>9.769546</td>\n",
       "      <td>1.511980</td>\n",
       "    </tr>\n",
       "    <tr>\n",
       "      <th>10.0</th>\n",
       "      <td>52.540166</td>\n",
       "      <td>7.503129</td>\n",
       "    </tr>\n",
       "    <tr>\n",
       "      <th>12.0</th>\n",
       "      <td>45.765304</td>\n",
       "      <td>6.037479</td>\n",
       "    </tr>\n",
       "    <tr>\n",
       "      <th>15.0</th>\n",
       "      <td>26.879634</td>\n",
       "      <td>6.223456</td>\n",
       "    </tr>\n",
       "  </tbody>\n",
       "</table>\n",
       "</div>"
      ],
      "text/plain": [
       "               MSE_s1     MSE_s2\n",
       "thickness                       \n",
       "2.0        352.159871  21.441204\n",
       "3.0          9.621667   3.826324\n",
       "4.0          6.518056   3.096066\n",
       "5.0          3.967907   1.626477\n",
       "6.0          2.732744   1.313739\n",
       "8.0          9.769546   1.511980\n",
       "10.0        52.540166   7.503129\n",
       "12.0        45.765304   6.037479\n",
       "15.0        26.879634   6.223456"
      ]
     },
     "execution_count": 64,
     "metadata": {},
     "output_type": "execute_result"
    }
   ],
   "source": [
    "# Is the error sourced by thickness ?\n",
    "df = comparisonset[['MSE_s1', 'MSE_s2', 'thickness']].groupby('thickness').mean()\n",
    "df.plot.bar()\n",
    "plt.show()\n",
    "df"
   ]
  },
  {
   "cell_type": "code",
   "execution_count": 65,
   "metadata": {},
   "outputs": [
    {
     "data": {
      "image/png": "[encoded data removed]",
      "text/plain": [
       "<Figure size 432x288 with 1 Axes>"
      ]
     },
     "metadata": {},
     "output_type": "display_data"
    },
    {
     "data": {
      "text/html": [
       "<div>\n",
       "<style scoped>\n",
       "    .dataframe tbody tr th:only-of-type {\n",
       "        vertical-align: middle;\n",
       "    }\n",
       "\n",
       "    .dataframe tbody tr th {\n",
       "        vertical-align: top;\n",
       "    }\n",
       "\n",
       "    .dataframe thead th {\n",
       "        text-align: right;\n",
       "    }\n",
       "</style>\n",
       "<table border=\"1\" class=\"dataframe\">\n",
       "  <thead>\n",
       "    <tr style=\"text-align: right;\">\n",
       "      <th></th>\n",
       "      <th>MSE_s1</th>\n",
       "      <th>MSE_s2</th>\n",
       "    </tr>\n",
       "    <tr>\n",
       "      <th>bend_group</th>\n",
       "      <th></th>\n",
       "      <th></th>\n",
       "    </tr>\n",
       "  </thead>\n",
       "  <tbody>\n",
       "    <tr>\n",
       "      <th>0</th>\n",
       "      <td>16.246506</td>\n",
       "      <td>2.350652</td>\n",
       "    </tr>\n",
       "    <tr>\n",
       "      <th>1-2</th>\n",
       "      <td>10.775456</td>\n",
       "      <td>3.003254</td>\n",
       "    </tr>\n",
       "    <tr>\n",
       "      <th>3-5</th>\n",
       "      <td>75.603229</td>\n",
       "      <td>7.127461</td>\n",
       "    </tr>\n",
       "    <tr>\n",
       "      <th>6+</th>\n",
       "      <td>186.189535</td>\n",
       "      <td>29.613263</td>\n",
       "    </tr>\n",
       "  </tbody>\n",
       "</table>\n",
       "</div>"
      ],
      "text/plain": [
       "                MSE_s1     MSE_s2\n",
       "bend_group                       \n",
       "0            16.246506   2.350652\n",
       "1-2          10.775456   3.003254\n",
       "3-5          75.603229   7.127461\n",
       "6+          186.189535  29.613263"
      ]
     },
     "execution_count": 65,
     "metadata": {},
     "output_type": "execute_result"
    }
   ],
   "source": [
    "# Is the error sourced by number of errors ?\n",
    "\n",
    "df = comparisonset[['MSE_s1', 'MSE_s2', 'bend_group']].groupby('bend_group').mean()\n",
    "df.plot.bar()\n",
    "plt.show()\n",
    "df"
   ]
  },
  {
   "cell_type": "code",
   "execution_count": 66,
   "metadata": {},
   "outputs": [
    {
     "data": {
      "text/html": [
       "<div>\n",
       "<style scoped>\n",
       "    .dataframe tbody tr th:only-of-type {\n",
       "        vertical-align: middle;\n",
       "    }\n",
       "\n",
       "    .dataframe tbody tr th {\n",
       "        vertical-align: top;\n",
       "    }\n",
       "\n",
       "    .dataframe thead th {\n",
       "        text-align: right;\n",
       "    }\n",
       "</style>\n",
       "<table border=\"1\" class=\"dataframe\">\n",
       "  <thead>\n",
       "    <tr style=\"text-align: right;\">\n",
       "      <th></th>\n",
       "      <th>COART</th>\n",
       "      <th>pred_S1</th>\n",
       "      <th>pred_S2</th>\n",
       "      <th>target</th>\n",
       "      <th>MSE_s1</th>\n",
       "      <th>MSE_s2</th>\n",
       "      <th>cut_length</th>\n",
       "      <th>num_closed_patterns</th>\n",
       "      <th>num_open_patterns</th>\n",
       "      <th>total_area</th>\n",
       "      <th>...</th>\n",
       "      <th>weight</th>\n",
       "      <th>VAMAT</th>\n",
       "      <th>VALAJOUT</th>\n",
       "      <th>VALTOT</th>\n",
       "      <th>VOL_COST_CONVHULL</th>\n",
       "      <th>VOL_COST_RECTANGLE</th>\n",
       "      <th>VOL_COST_MPATTERN</th>\n",
       "      <th>bend_group</th>\n",
       "      <th>SURF_COST_RECTANGLE</th>\n",
       "      <th>APPROX_BEND_COST</th>\n",
       "    </tr>\n",
       "  </thead>\n",
       "  <tbody>\n",
       "    <tr>\n",
       "      <th>0</th>\n",
       "      <td>L2514940</td>\n",
       "      <td>4.251108</td>\n",
       "      <td>0.779594</td>\n",
       "      <td>1.65</td>\n",
       "      <td>6.765764</td>\n",
       "      <td>0.757607</td>\n",
       "      <td>443.695068</td>\n",
       "      <td>2</td>\n",
       "      <td>0</td>\n",
       "      <td>5409.296875</td>\n",
       "      <td>...</td>\n",
       "      <td>0.595280</td>\n",
       "      <td>0.60</td>\n",
       "      <td>1.05</td>\n",
       "      <td>1.65</td>\n",
       "      <td>0.000011</td>\n",
       "      <td>0.000008</td>\n",
       "      <td>0.000012</td>\n",
       "      <td>0</td>\n",
       "      <td>0.000062</td>\n",
       "      <td>1.050</td>\n",
       "    </tr>\n",
       "    <tr>\n",
       "      <th>1</th>\n",
       "      <td>L8819170</td>\n",
       "      <td>4.061400</td>\n",
       "      <td>0.450232</td>\n",
       "      <td>1.26</td>\n",
       "      <td>7.847841</td>\n",
       "      <td>0.655724</td>\n",
       "      <td>283.483337</td>\n",
       "      <td>1</td>\n",
       "      <td>0</td>\n",
       "      <td>5072.400879</td>\n",
       "      <td>...</td>\n",
       "      <td>0.343787</td>\n",
       "      <td>0.40</td>\n",
       "      <td>0.86</td>\n",
       "      <td>1.26</td>\n",
       "      <td>0.000010</td>\n",
       "      <td>0.000009</td>\n",
       "      <td>0.000010</td>\n",
       "      <td>0</td>\n",
       "      <td>0.000072</td>\n",
       "      <td>0.860</td>\n",
       "    </tr>\n",
       "    <tr>\n",
       "      <th>2</th>\n",
       "      <td>L6705510</td>\n",
       "      <td>15.019633</td>\n",
       "      <td>13.183490</td>\n",
       "      <td>15.17</td>\n",
       "      <td>0.022610</td>\n",
       "      <td>3.946223</td>\n",
       "      <td>4258.308594</td>\n",
       "      <td>11</td>\n",
       "      <td>1</td>\n",
       "      <td>117159.117188</td>\n",
       "      <td>...</td>\n",
       "      <td>6.802595</td>\n",
       "      <td>9.18</td>\n",
       "      <td>5.99</td>\n",
       "      <td>15.17</td>\n",
       "      <td>0.000015</td>\n",
       "      <td>0.000010</td>\n",
       "      <td>0.000026</td>\n",
       "      <td>3-5</td>\n",
       "      <td>0.000031</td>\n",
       "      <td>1.198</td>\n",
       "    </tr>\n",
       "    <tr>\n",
       "      <th>3</th>\n",
       "      <td>L3075990</td>\n",
       "      <td>6.757626</td>\n",
       "      <td>2.939439</td>\n",
       "      <td>3.84</td>\n",
       "      <td>8.512539</td>\n",
       "      <td>0.811011</td>\n",
       "      <td>798.948486</td>\n",
       "      <td>3</td>\n",
       "      <td>0</td>\n",
       "      <td>11440.706055</td>\n",
       "      <td>...</td>\n",
       "      <td>2.141611</td>\n",
       "      <td>1.68</td>\n",
       "      <td>2.16</td>\n",
       "      <td>3.84</td>\n",
       "      <td>0.000009</td>\n",
       "      <td>0.000006</td>\n",
       "      <td>0.000011</td>\n",
       "      <td>1-2</td>\n",
       "      <td>0.000072</td>\n",
       "      <td>1.080</td>\n",
       "    </tr>\n",
       "    <tr>\n",
       "      <th>4</th>\n",
       "      <td>L8420760</td>\n",
       "      <td>5.397876</td>\n",
       "      <td>2.770549</td>\n",
       "      <td>3.40</td>\n",
       "      <td>3.991507</td>\n",
       "      <td>0.396208</td>\n",
       "      <td>980.714661</td>\n",
       "      <td>2</td>\n",
       "      <td>0</td>\n",
       "      <td>17525.300781</td>\n",
       "      <td>...</td>\n",
       "      <td>2.115527</td>\n",
       "      <td>1.80</td>\n",
       "      <td>1.60</td>\n",
       "      <td>3.40</td>\n",
       "      <td>0.000009</td>\n",
       "      <td>0.000007</td>\n",
       "      <td>0.000010</td>\n",
       "      <td>0</td>\n",
       "      <td>0.000052</td>\n",
       "      <td>1.600</td>\n",
       "    </tr>\n",
       "  </tbody>\n",
       "</table>\n",
       "<p>5 rows × 673 columns</p>\n",
       "</div>"
      ],
      "text/plain": [
       "      COART    pred_S1    pred_S2  target    MSE_s1    MSE_s2   cut_length  \\\n",
       "0  L2514940   4.251108   0.779594    1.65  6.765764  0.757607   443.695068   \n",
       "1  L8819170   4.061400   0.450232    1.26  7.847841  0.655724   283.483337   \n",
       "2  L6705510  15.019633  13.183490   15.17  0.022610  3.946223  4258.308594   \n",
       "3  L3075990   6.757626   2.939439    3.84  8.512539  0.811011   798.948486   \n",
       "4  L8420760   5.397876   2.770549    3.40  3.991507  0.396208   980.714661   \n",
       "\n",
       "   num_closed_patterns  num_open_patterns     total_area        ...         \\\n",
       "0                    2                  0    5409.296875        ...          \n",
       "1                    1                  0    5072.400879        ...          \n",
       "2                   11                  1  117159.117188        ...          \n",
       "3                    3                  0   11440.706055        ...          \n",
       "4                    2                  0   17525.300781        ...          \n",
       "\n",
       "     weight  VAMAT  VALAJOUT  VALTOT  VOL_COST_CONVHULL  VOL_COST_RECTANGLE  \\\n",
       "0  0.595280   0.60      1.05    1.65           0.000011            0.000008   \n",
       "1  0.343787   0.40      0.86    1.26           0.000010            0.000009   \n",
       "2  6.802595   9.18      5.99   15.17           0.000015            0.000010   \n",
       "3  2.141611   1.68      2.16    3.84           0.000009            0.000006   \n",
       "4  2.115527   1.80      1.60    3.40           0.000009            0.000007   \n",
       "\n",
       "   VOL_COST_MPATTERN  bend_group  SURF_COST_RECTANGLE  APPROX_BEND_COST  \n",
       "0           0.000012           0             0.000062             1.050  \n",
       "1           0.000010           0             0.000072             0.860  \n",
       "2           0.000026         3-5             0.000031             1.198  \n",
       "3           0.000011         1-2             0.000072             1.080  \n",
       "4           0.000010           0             0.000052             1.600  \n",
       "\n",
       "[5 rows x 673 columns]"
      ]
     },
     "execution_count": 66,
     "metadata": {},
     "output_type": "execute_result"
    }
   ],
   "source": [
    "comparisonset.head()"
   ]
  },
  {
   "cell_type": "code",
   "execution_count": 67,
   "metadata": {},
   "outputs": [
    {
     "data": {
      "text/html": [
       "<div>\n",
       "<style scoped>\n",
       "    .dataframe tbody tr th:only-of-type {\n",
       "        vertical-align: middle;\n",
       "    }\n",
       "\n",
       "    .dataframe tbody tr th {\n",
       "        vertical-align: top;\n",
       "    }\n",
       "\n",
       "    .dataframe thead th {\n",
       "        text-align: right;\n",
       "    }\n",
       "</style>\n",
       "<table border=\"1\" class=\"dataframe\">\n",
       "  <thead>\n",
       "    <tr style=\"text-align: right;\">\n",
       "      <th></th>\n",
       "      <th>VALTOT</th>\n",
       "      <th>pred_S1</th>\n",
       "      <th>MAPE_error_s1</th>\n",
       "      <th>pred_S2</th>\n",
       "      <th>MAPE_error_s2</th>\n",
       "    </tr>\n",
       "  </thead>\n",
       "  <tbody>\n",
       "    <tr>\n",
       "      <th>0</th>\n",
       "      <td>1.65</td>\n",
       "      <td>4.251108</td>\n",
       "      <td>157.642921</td>\n",
       "      <td>0.779594</td>\n",
       "      <td>52.751896</td>\n",
       "    </tr>\n",
       "    <tr>\n",
       "      <th>1</th>\n",
       "      <td>1.26</td>\n",
       "      <td>4.061400</td>\n",
       "      <td>222.333323</td>\n",
       "      <td>0.450232</td>\n",
       "      <td>64.267270</td>\n",
       "    </tr>\n",
       "    <tr>\n",
       "      <th>2</th>\n",
       "      <td>15.17</td>\n",
       "      <td>15.019633</td>\n",
       "      <td>0.991212</td>\n",
       "      <td>13.183490</td>\n",
       "      <td>13.094992</td>\n",
       "    </tr>\n",
       "    <tr>\n",
       "      <th>3</th>\n",
       "      <td>3.84</td>\n",
       "      <td>6.757626</td>\n",
       "      <td>75.979834</td>\n",
       "      <td>2.939439</td>\n",
       "      <td>23.452122</td>\n",
       "    </tr>\n",
       "    <tr>\n",
       "      <th>4</th>\n",
       "      <td>3.40</td>\n",
       "      <td>5.397876</td>\n",
       "      <td>58.761049</td>\n",
       "      <td>2.770549</td>\n",
       "      <td>18.513254</td>\n",
       "    </tr>\n",
       "  </tbody>\n",
       "</table>\n",
       "</div>"
      ],
      "text/plain": [
       "   VALTOT    pred_S1  MAPE_error_s1    pred_S2  MAPE_error_s2\n",
       "0    1.65   4.251108     157.642921   0.779594      52.751896\n",
       "1    1.26   4.061400     222.333323   0.450232      64.267270\n",
       "2   15.17  15.019633       0.991212  13.183490      13.094992\n",
       "3    3.84   6.757626      75.979834   2.939439      23.452122\n",
       "4    3.40   5.397876      58.761049   2.770549      18.513254"
      ]
     },
     "execution_count": 67,
     "metadata": {},
     "output_type": "execute_result"
    }
   ],
   "source": [
    "#mean_absolute_percentage_error\n",
    "comparisonset['MAPE_error_s1'] = comparisonset.apply(lambda x: mean_absolute_percentage_error(x['target'], x['pred_S1']), axis=1)\n",
    "comparisonset['MAPE_error_s2'] = comparisonset.apply(lambda x: mean_absolute_percentage_error(x['target'], x['pred_S2']), axis=1)\n",
    "comparisonset[[target, 'pred_S1', 'MAPE_error_s1', 'pred_S2', 'MAPE_error_s2']].head()"
   ]
  },
  {
   "cell_type": "code",
   "execution_count": 68,
   "metadata": {},
   "outputs": [
    {
     "data": {
      "text/plain": [
       "21.27364865494777"
      ]
     },
     "execution_count": 68,
     "metadata": {},
     "output_type": "execute_result"
    }
   ],
   "source": [
    "mean_absolute_percentage_error(comparisonset['target'], comparisonset['pred_S2'])"
   ]
  },
  {
   "cell_type": "code",
   "execution_count": 69,
   "metadata": {},
   "outputs": [
    {
     "data": {
      "text/plain": [
       "21.27364865494775"
      ]
     },
     "execution_count": 69,
     "metadata": {},
     "output_type": "execute_result"
    }
   ],
   "source": [
    "comparisonset['MAPE_error_s2'].mean()"
   ]
  },
  {
   "cell_type": "code",
   "execution_count": 70,
   "metadata": {},
   "outputs": [
    {
     "data": {
      "image/png": "[encoded data removed]",
      "text/plain": [
       "<Figure size 432x288 with 1 Axes>"
      ]
     },
     "metadata": {},
     "output_type": "display_data"
    },
    {
     "data": {
      "text/html": [
       "<div>\n",
       "<style scoped>\n",
       "    .dataframe tbody tr th:only-of-type {\n",
       "        vertical-align: middle;\n",
       "    }\n",
       "\n",
       "    .dataframe tbody tr th {\n",
       "        vertical-align: top;\n",
       "    }\n",
       "\n",
       "    .dataframe thead th {\n",
       "        text-align: right;\n",
       "    }\n",
       "</style>\n",
       "<table border=\"1\" class=\"dataframe\">\n",
       "  <thead>\n",
       "    <tr style=\"text-align: right;\">\n",
       "      <th></th>\n",
       "      <th>MAPE_error_s1</th>\n",
       "      <th>MAPE_error_s2</th>\n",
       "    </tr>\n",
       "    <tr>\n",
       "      <th>thickness</th>\n",
       "      <th></th>\n",
       "      <th></th>\n",
       "    </tr>\n",
       "  </thead>\n",
       "  <tbody>\n",
       "    <tr>\n",
       "      <th>2.0</th>\n",
       "      <td>62.804102</td>\n",
       "      <td>23.177461</td>\n",
       "    </tr>\n",
       "    <tr>\n",
       "      <th>3.0</th>\n",
       "      <td>31.409639</td>\n",
       "      <td>19.581699</td>\n",
       "    </tr>\n",
       "    <tr>\n",
       "      <th>4.0</th>\n",
       "      <td>49.436815</td>\n",
       "      <td>20.046665</td>\n",
       "    </tr>\n",
       "    <tr>\n",
       "      <th>5.0</th>\n",
       "      <td>45.400142</td>\n",
       "      <td>21.753054</td>\n",
       "    </tr>\n",
       "    <tr>\n",
       "      <th>6.0</th>\n",
       "      <td>58.584859</td>\n",
       "      <td>25.633437</td>\n",
       "    </tr>\n",
       "    <tr>\n",
       "      <th>8.0</th>\n",
       "      <td>64.285508</td>\n",
       "      <td>21.028089</td>\n",
       "    </tr>\n",
       "    <tr>\n",
       "      <th>10.0</th>\n",
       "      <td>52.432023</td>\n",
       "      <td>17.492086</td>\n",
       "    </tr>\n",
       "    <tr>\n",
       "      <th>12.0</th>\n",
       "      <td>103.137202</td>\n",
       "      <td>17.604824</td>\n",
       "    </tr>\n",
       "    <tr>\n",
       "      <th>15.0</th>\n",
       "      <td>76.143404</td>\n",
       "      <td>23.629841</td>\n",
       "    </tr>\n",
       "  </tbody>\n",
       "</table>\n",
       "</div>"
      ],
      "text/plain": [
       "           MAPE_error_s1  MAPE_error_s2\n",
       "thickness                              \n",
       "2.0            62.804102      23.177461\n",
       "3.0            31.409639      19.581699\n",
       "4.0            49.436815      20.046665\n",
       "5.0            45.400142      21.753054\n",
       "6.0            58.584859      25.633437\n",
       "8.0            64.285508      21.028089\n",
       "10.0           52.432023      17.492086\n",
       "12.0          103.137202      17.604824\n",
       "15.0           76.143404      23.629841"
      ]
     },
     "execution_count": 70,
     "metadata": {},
     "output_type": "execute_result"
    }
   ],
   "source": [
    "df = comparisonset[['MAPE_error_s1', 'MAPE_error_s2', 'thickness']].groupby('thickness').mean()\n",
    "df.plot.bar()\n",
    "plt.title(f'{target} MAPE')\n",
    "plt.show()\n",
    "df"
   ]
  },
  {
   "cell_type": "code",
   "execution_count": 71,
   "metadata": {},
   "outputs": [
    {
     "data": {
      "text/html": [
       "<div>\n",
       "<style scoped>\n",
       "    .dataframe tbody tr th:only-of-type {\n",
       "        vertical-align: middle;\n",
       "    }\n",
       "\n",
       "    .dataframe tbody tr th {\n",
       "        vertical-align: top;\n",
       "    }\n",
       "\n",
       "    .dataframe thead tr th {\n",
       "        text-align: left;\n",
       "    }\n",
       "\n",
       "    .dataframe thead tr:last-of-type th {\n",
       "        text-align: right;\n",
       "    }\n",
       "</style>\n",
       "<table border=\"1\" class=\"dataframe\">\n",
       "  <thead>\n",
       "    <tr>\n",
       "      <th></th>\n",
       "      <th></th>\n",
       "      <th colspan=\"2\" halign=\"left\">MSE_s2</th>\n",
       "      <th colspan=\"2\" halign=\"left\">MAPE_error_s2</th>\n",
       "      <th>COART</th>\n",
       "    </tr>\n",
       "    <tr>\n",
       "      <th></th>\n",
       "      <th></th>\n",
       "      <th>mean</th>\n",
       "      <th>max</th>\n",
       "      <th>mean</th>\n",
       "      <th>max</th>\n",
       "      <th>count</th>\n",
       "    </tr>\n",
       "    <tr>\n",
       "      <th>thickness</th>\n",
       "      <th>bend_group</th>\n",
       "      <th></th>\n",
       "      <th></th>\n",
       "      <th></th>\n",
       "      <th></th>\n",
       "      <th></th>\n",
       "    </tr>\n",
       "  </thead>\n",
       "  <tbody>\n",
       "    <tr>\n",
       "      <th rowspan=\"4\" valign=\"top\">2.0</th>\n",
       "      <th>0</th>\n",
       "      <td>9.088890</td>\n",
       "      <td>27.252621</td>\n",
       "      <td>15.761836</td>\n",
       "      <td>40.095271</td>\n",
       "      <td>3</td>\n",
       "    </tr>\n",
       "    <tr>\n",
       "      <th>1-2</th>\n",
       "      <td>1.480993</td>\n",
       "      <td>6.056401</td>\n",
       "      <td>32.608193</td>\n",
       "      <td>67.965067</td>\n",
       "      <td>9</td>\n",
       "    </tr>\n",
       "    <tr>\n",
       "      <th>3-5</th>\n",
       "      <td>20.825769</td>\n",
       "      <td>171.565022</td>\n",
       "      <td>16.274545</td>\n",
       "      <td>54.594914</td>\n",
       "      <td>11</td>\n",
       "    </tr>\n",
       "    <tr>\n",
       "      <th>6+</th>\n",
       "      <td>77.308360</td>\n",
       "      <td>234.088362</td>\n",
       "      <td>26.503054</td>\n",
       "      <td>62.962743</td>\n",
       "      <td>4</td>\n",
       "    </tr>\n",
       "    <tr>\n",
       "      <th rowspan=\"4\" valign=\"top\">3.0</th>\n",
       "      <th>0</th>\n",
       "      <td>3.029506</td>\n",
       "      <td>22.317421</td>\n",
       "      <td>37.749823</td>\n",
       "      <td>71.807058</td>\n",
       "      <td>19</td>\n",
       "    </tr>\n",
       "    <tr>\n",
       "      <th>1-2</th>\n",
       "      <td>1.213320</td>\n",
       "      <td>16.823868</td>\n",
       "      <td>14.657525</td>\n",
       "      <td>45.443334</td>\n",
       "      <td>44</td>\n",
       "    </tr>\n",
       "    <tr>\n",
       "      <th>3-5</th>\n",
       "      <td>6.011764</td>\n",
       "      <td>41.915360</td>\n",
       "      <td>14.285444</td>\n",
       "      <td>64.823958</td>\n",
       "      <td>28</td>\n",
       "    </tr>\n",
       "    <tr>\n",
       "      <th>6+</th>\n",
       "      <td>21.056164</td>\n",
       "      <td>45.430130</td>\n",
       "      <td>24.522812</td>\n",
       "      <td>39.469255</td>\n",
       "      <td>4</td>\n",
       "    </tr>\n",
       "    <tr>\n",
       "      <th rowspan=\"4\" valign=\"top\">4.0</th>\n",
       "      <th>0</th>\n",
       "      <td>1.166465</td>\n",
       "      <td>27.743236</td>\n",
       "      <td>28.299369</td>\n",
       "      <td>78.230143</td>\n",
       "      <td>33</td>\n",
       "    </tr>\n",
       "    <tr>\n",
       "      <th>1-2</th>\n",
       "      <td>1.079752</td>\n",
       "      <td>20.630744</td>\n",
       "      <td>18.847639</td>\n",
       "      <td>56.435024</td>\n",
       "      <td>109</td>\n",
       "    </tr>\n",
       "    <tr>\n",
       "      <th>3-5</th>\n",
       "      <td>9.992427</td>\n",
       "      <td>220.320265</td>\n",
       "      <td>16.674115</td>\n",
       "      <td>50.664446</td>\n",
       "      <td>41</td>\n",
       "    </tr>\n",
       "    <tr>\n",
       "      <th>6+</th>\n",
       "      <td>3.800232</td>\n",
       "      <td>3.800232</td>\n",
       "      <td>16.675949</td>\n",
       "      <td>16.675949</td>\n",
       "      <td>1</td>\n",
       "    </tr>\n",
       "    <tr>\n",
       "      <th rowspan=\"4\" valign=\"top\">5.0</th>\n",
       "      <th>0</th>\n",
       "      <td>0.529566</td>\n",
       "      <td>2.663151</td>\n",
       "      <td>40.842102</td>\n",
       "      <td>81.150240</td>\n",
       "      <td>46</td>\n",
       "    </tr>\n",
       "    <tr>\n",
       "      <th>1-2</th>\n",
       "      <td>1.283578</td>\n",
       "      <td>31.020758</td>\n",
       "      <td>16.784533</td>\n",
       "      <td>44.754637</td>\n",
       "      <td>82</td>\n",
       "    </tr>\n",
       "    <tr>\n",
       "      <th>3-5</th>\n",
       "      <td>2.192042</td>\n",
       "      <td>25.550381</td>\n",
       "      <td>7.915968</td>\n",
       "      <td>19.804320</td>\n",
       "      <td>29</td>\n",
       "    </tr>\n",
       "    <tr>\n",
       "      <th>6+</th>\n",
       "      <td>14.061324</td>\n",
       "      <td>60.587340</td>\n",
       "      <td>7.872661</td>\n",
       "      <td>18.173680</td>\n",
       "      <td>5</td>\n",
       "    </tr>\n",
       "    <tr>\n",
       "      <th rowspan=\"4\" valign=\"top\">6.0</th>\n",
       "      <th>0</th>\n",
       "      <td>0.829468</td>\n",
       "      <td>6.231053</td>\n",
       "      <td>39.318721</td>\n",
       "      <td>86.076127</td>\n",
       "      <td>124</td>\n",
       "    </tr>\n",
       "    <tr>\n",
       "      <th>1-2</th>\n",
       "      <td>0.883081</td>\n",
       "      <td>9.247561</td>\n",
       "      <td>16.598110</td>\n",
       "      <td>43.758875</td>\n",
       "      <td>142</td>\n",
       "    </tr>\n",
       "    <tr>\n",
       "      <th>3-5</th>\n",
       "      <td>4.502448</td>\n",
       "      <td>38.338677</td>\n",
       "      <td>12.122638</td>\n",
       "      <td>56.565228</td>\n",
       "      <td>28</td>\n",
       "    </tr>\n",
       "    <tr>\n",
       "      <th>6+</th>\n",
       "      <td>11.953509</td>\n",
       "      <td>26.444567</td>\n",
       "      <td>13.747994</td>\n",
       "      <td>27.079663</td>\n",
       "      <td>3</td>\n",
       "    </tr>\n",
       "    <tr>\n",
       "      <th rowspan=\"3\" valign=\"top\">8.0</th>\n",
       "      <th>0</th>\n",
       "      <td>1.455255</td>\n",
       "      <td>46.847097</td>\n",
       "      <td>31.972137</td>\n",
       "      <td>77.719059</td>\n",
       "      <td>116</td>\n",
       "    </tr>\n",
       "    <tr>\n",
       "      <th>1-2</th>\n",
       "      <td>1.498397</td>\n",
       "      <td>24.842104</td>\n",
       "      <td>12.366978</td>\n",
       "      <td>43.929908</td>\n",
       "      <td>125</td>\n",
       "    </tr>\n",
       "    <tr>\n",
       "      <th>3-5</th>\n",
       "      <td>1.971872</td>\n",
       "      <td>7.498718</td>\n",
       "      <td>10.646387</td>\n",
       "      <td>30.943186</td>\n",
       "      <td>18</td>\n",
       "    </tr>\n",
       "    <tr>\n",
       "      <th rowspan=\"3\" valign=\"top\">10.0</th>\n",
       "      <th>0</th>\n",
       "      <td>3.509205</td>\n",
       "      <td>73.588634</td>\n",
       "      <td>23.421031</td>\n",
       "      <td>88.651586</td>\n",
       "      <td>86</td>\n",
       "    </tr>\n",
       "    <tr>\n",
       "      <th>1-2</th>\n",
       "      <td>11.095203</td>\n",
       "      <td>262.222032</td>\n",
       "      <td>12.247879</td>\n",
       "      <td>47.557939</td>\n",
       "      <td>77</td>\n",
       "    </tr>\n",
       "    <tr>\n",
       "      <th>3-5</th>\n",
       "      <td>11.962308</td>\n",
       "      <td>59.198963</td>\n",
       "      <td>10.419727</td>\n",
       "      <td>26.606717</td>\n",
       "      <td>15</td>\n",
       "    </tr>\n",
       "    <tr>\n",
       "      <th rowspan=\"2\" valign=\"top\">12.0</th>\n",
       "      <th>0</th>\n",
       "      <td>3.375305</td>\n",
       "      <td>136.283048</td>\n",
       "      <td>24.332032</td>\n",
       "      <td>82.626449</td>\n",
       "      <td>62</td>\n",
       "    </tr>\n",
       "    <tr>\n",
       "      <th>1-2</th>\n",
       "      <td>9.094050</td>\n",
       "      <td>218.172426</td>\n",
       "      <td>9.880991</td>\n",
       "      <td>32.451880</td>\n",
       "      <td>54</td>\n",
       "    </tr>\n",
       "    <tr>\n",
       "      <th rowspan=\"2\" valign=\"top\">15.0</th>\n",
       "      <th>0</th>\n",
       "      <td>7.329380</td>\n",
       "      <td>88.196515</td>\n",
       "      <td>26.836783</td>\n",
       "      <td>79.048667</td>\n",
       "      <td>44</td>\n",
       "    </tr>\n",
       "    <tr>\n",
       "      <th>1-2</th>\n",
       "      <td>0.816714</td>\n",
       "      <td>3.272077</td>\n",
       "      <td>7.951455</td>\n",
       "      <td>16.399713</td>\n",
       "      <td>9</td>\n",
       "    </tr>\n",
       "  </tbody>\n",
       "</table>\n",
       "</div>"
      ],
      "text/plain": [
       "                         MSE_s2             MAPE_error_s2            COART\n",
       "                           mean         max          mean        max count\n",
       "thickness bend_group                                                      \n",
       "2.0       0            9.088890   27.252621     15.761836  40.095271     3\n",
       "          1-2          1.480993    6.056401     32.608193  67.965067     9\n",
       "          3-5         20.825769  171.565022     16.274545  54.594914    11\n",
       "          6+          77.308360  234.088362     26.503054  62.962743     4\n",
       "3.0       0            3.029506   22.317421     37.749823  71.807058    19\n",
       "          1-2          1.213320   16.823868     14.657525  45.443334    44\n",
       "          3-5          6.011764   41.915360     14.285444  64.823958    28\n",
       "          6+          21.056164   45.430130     24.522812  39.469255     4\n",
       "4.0       0            1.166465   27.743236     28.299369  78.230143    33\n",
       "          1-2          1.079752   20.630744     18.847639  56.435024   109\n",
       "          3-5          9.992427  220.320265     16.674115  50.664446    41\n",
       "          6+           3.800232    3.800232     16.675949  16.675949     1\n",
       "5.0       0            0.529566    2.663151     40.842102  81.150240    46\n",
       "          1-2          1.283578   31.020758     16.784533  44.754637    82\n",
       "          3-5          2.192042   25.550381      7.915968  19.804320    29\n",
       "          6+          14.061324   60.587340      7.872661  18.173680     5\n",
       "6.0       0            0.829468    6.231053     39.318721  86.076127   124\n",
       "          1-2          0.883081    9.247561     16.598110  43.758875   142\n",
       "          3-5          4.502448   38.338677     12.122638  56.565228    28\n",
       "          6+          11.953509   26.444567     13.747994  27.079663     3\n",
       "8.0       0            1.455255   46.847097     31.972137  77.719059   116\n",
       "          1-2          1.498397   24.842104     12.366978  43.929908   125\n",
       "          3-5          1.971872    7.498718     10.646387  30.943186    18\n",
       "10.0      0            3.509205   73.588634     23.421031  88.651586    86\n",
       "          1-2         11.095203  262.222032     12.247879  47.557939    77\n",
       "          3-5         11.962308   59.198963     10.419727  26.606717    15\n",
       "12.0      0            3.375305  136.283048     24.332032  82.626449    62\n",
       "          1-2          9.094050  218.172426      9.880991  32.451880    54\n",
       "15.0      0            7.329380   88.196515     26.836783  79.048667    44\n",
       "          1-2          0.816714    3.272077      7.951455  16.399713     9"
      ]
     },
     "execution_count": 71,
     "metadata": {},
     "output_type": "execute_result"
    }
   ],
   "source": [
    "df = comparisonset[['MSE_s2', 'MAPE_error_s2', 'thickness', 'bend_group', 'COART']].groupby(['thickness', 'bend_group'])#.mean()\n",
    "df.agg({'MSE_s2': ['mean', 'max'], 'MAPE_error_s2': ['mean', 'max'],'COART':['count'] })"
   ]
  },
  {
   "cell_type": "code",
   "execution_count": 72,
   "metadata": {},
   "outputs": [
    {
     "data": {
      "text/html": [
       "<div>\n",
       "<style scoped>\n",
       "    .dataframe tbody tr th:only-of-type {\n",
       "        vertical-align: middle;\n",
       "    }\n",
       "\n",
       "    .dataframe tbody tr th {\n",
       "        vertical-align: top;\n",
       "    }\n",
       "\n",
       "    .dataframe thead tr th {\n",
       "        text-align: left;\n",
       "    }\n",
       "\n",
       "    .dataframe thead tr:last-of-type th {\n",
       "        text-align: right;\n",
       "    }\n",
       "</style>\n",
       "<table border=\"1\" class=\"dataframe\">\n",
       "  <thead>\n",
       "    <tr>\n",
       "      <th></th>\n",
       "      <th colspan=\"2\" halign=\"left\">MSE_s2</th>\n",
       "      <th colspan=\"2\" halign=\"left\">MAPE_error_s2</th>\n",
       "      <th>COART</th>\n",
       "    </tr>\n",
       "    <tr>\n",
       "      <th></th>\n",
       "      <th>mean</th>\n",
       "      <th>max</th>\n",
       "      <th>mean</th>\n",
       "      <th>max</th>\n",
       "      <th>count</th>\n",
       "    </tr>\n",
       "    <tr>\n",
       "      <th>bend_group</th>\n",
       "      <th></th>\n",
       "      <th></th>\n",
       "      <th></th>\n",
       "      <th></th>\n",
       "      <th></th>\n",
       "    </tr>\n",
       "  </thead>\n",
       "  <tbody>\n",
       "    <tr>\n",
       "      <th>0</th>\n",
       "      <td>0.829468</td>\n",
       "      <td>6.231053</td>\n",
       "      <td>39.318721</td>\n",
       "      <td>86.076127</td>\n",
       "      <td>124</td>\n",
       "    </tr>\n",
       "    <tr>\n",
       "      <th>1-2</th>\n",
       "      <td>0.883081</td>\n",
       "      <td>9.247561</td>\n",
       "      <td>16.598110</td>\n",
       "      <td>43.758875</td>\n",
       "      <td>142</td>\n",
       "    </tr>\n",
       "    <tr>\n",
       "      <th>3-5</th>\n",
       "      <td>4.502448</td>\n",
       "      <td>38.338677</td>\n",
       "      <td>12.122638</td>\n",
       "      <td>56.565228</td>\n",
       "      <td>28</td>\n",
       "    </tr>\n",
       "    <tr>\n",
       "      <th>6+</th>\n",
       "      <td>11.953509</td>\n",
       "      <td>26.444567</td>\n",
       "      <td>13.747994</td>\n",
       "      <td>27.079663</td>\n",
       "      <td>3</td>\n",
       "    </tr>\n",
       "  </tbody>\n",
       "</table>\n",
       "</div>"
      ],
      "text/plain": [
       "               MSE_s2            MAPE_error_s2            COART\n",
       "                 mean        max          mean        max count\n",
       "bend_group                                                     \n",
       "0            0.829468   6.231053     39.318721  86.076127   124\n",
       "1-2          0.883081   9.247561     16.598110  43.758875   142\n",
       "3-5          4.502448  38.338677     12.122638  56.565228    28\n",
       "6+          11.953509  26.444567     13.747994  27.079663     3"
      ]
     },
     "execution_count": 72,
     "metadata": {},
     "output_type": "execute_result"
    }
   ],
   "source": [
    "df.agg({'MSE_s2': ['mean', 'max'], 'MAPE_error_s2': ['mean', 'max'],'COART':['count'] }).loc[6]"
   ]
  },
  {
   "cell_type": "code",
   "execution_count": null,
   "metadata": {},
   "outputs": [],
   "source": []
  },
  {
   "cell_type": "code",
   "execution_count": 73,
   "metadata": {},
   "outputs": [
    {
     "data": {
      "image/png": "[encoded data removed]",
      "text/plain": [
       "<Figure size 1080x720 with 1 Axes>"
      ]
     },
     "metadata": {},
     "output_type": "display_data"
    }
   ],
   "source": [
    "df=comparisonset[['target', 'pred_S2', 'COART', 'thickness']]\n",
    "#df=df[df['thickness']!=15]\n",
    "df.set_index(['COART', 'thickness'], inplace=True)\n",
    "df = df.stack().reset_index()\n",
    "fig, ax = plt.subplots(figsize=(15,10))\n",
    "#ax.set_ylim(-20, 50)\n",
    "sns.violinplot(x=\"thickness\", y=0, data=df, split=True, hue='level_2', ax=ax)\n",
    "\n",
    "plt.show()"
   ]
  },
  {
   "cell_type": "code",
   "execution_count": 74,
   "metadata": {},
   "outputs": [
    {
     "name": "stderr",
     "output_type": "stream",
     "text": [
      "/Users/cricket/anaconda3/lib/python3.6/site-packages/matplotlib/axes/_axes.py:6448: UserWarning: The 'normed' kwarg is deprecated, and has been replaced by the 'density' kwarg.\n",
      "  warnings.warn(\"The 'normed' kwarg is deprecated, and has been \"\n"
     ]
    },
    {
     "data": {
      "text/plain": [
       "<seaborn.axisgrid.JointGrid at 0x1a0fa77fd0>"
      ]
     },
     "execution_count": 74,
     "metadata": {},
     "output_type": "execute_result"
    },
    {
     "data": {
      "image/png": "[encoded data removed]",
      "text/plain": [
       "<Figure size 576x576 with 3 Axes>"
      ]
     },
     "metadata": {},
     "output_type": "display_data"
    }
   ],
   "source": [
    "sns.jointplot(x='target', y='pred_S2', data=comparisonset, kind='reg', size=8)"
   ]
  },
  {
   "cell_type": "code",
   "execution_count": 75,
   "metadata": {},
   "outputs": [
    {
     "data": {
      "text/plain": [
       "thickness  COART   \n",
       "2.0        L7067210    234.088362\n",
       "           L2503310    171.565022\n",
       "           L7011061     60.016608\n",
       "3.0        L3103511     45.430130\n",
       "           L8051761     41.915360\n",
       "           L8039930     25.496432\n",
       "4.0        L8838710    220.320265\n",
       "           L8835250     44.680776\n",
       "           L6704080     34.501588\n",
       "5.0        L7065870     60.587340\n",
       "           L8030260     31.020758\n",
       "           L7065860     25.550381\n",
       "6.0        L8833250     38.338677\n",
       "           L6000540     32.836658\n",
       "           L8835030     26.444567\n",
       "8.0        L3119200     46.847097\n",
       "           L3063420     24.842104\n",
       "           L2502991     24.443151\n",
       "10.0       L3059100    262.222032\n",
       "           L3046960    237.568929\n",
       "           L3027432    208.742858\n",
       "12.0       L3063360    218.172426\n",
       "           L3127960    136.283048\n",
       "           L3020501    123.433779\n",
       "15.0       L8833300     88.196515\n",
       "           L7082620     47.405137\n",
       "           L2512080     31.526226\n",
       "Name: MSE_s2, dtype: float64"
      ]
     },
     "execution_count": 75,
     "metadata": {},
     "output_type": "execute_result"
    }
   ],
   "source": [
    "df = comparisonset[['MSE_s2', 'COART', 'thickness']]\n",
    "df.set_index('COART', inplace=True)\n",
    "worst = df.groupby('thickness')['MSE_s2'].nlargest(3)\n",
    "worst\n",
    "#worst.to_csv('worst_s0.csv')"
   ]
  },
  {
   "cell_type": "code",
   "execution_count": 76,
   "metadata": {},
   "outputs": [],
   "source": [
    "comparisonset['delta_s1'] = comparisonset['target'] - comparisonset['pred_S1']\n",
    "comparisonset['delta_s2'] = comparisonset['target'] - comparisonset['pred_S2']"
   ]
  },
  {
   "cell_type": "code",
   "execution_count": 77,
   "metadata": {},
   "outputs": [
    {
     "data": {
      "image/png": "[encoded data removed]",
      "text/plain": [
       "<Figure size 432x288 with 1 Axes>"
      ]
     },
     "metadata": {},
     "output_type": "display_data"
    },
    {
     "data": {
      "text/html": [
       "<div>\n",
       "<style scoped>\n",
       "    .dataframe tbody tr th:only-of-type {\n",
       "        vertical-align: middle;\n",
       "    }\n",
       "\n",
       "    .dataframe tbody tr th {\n",
       "        vertical-align: top;\n",
       "    }\n",
       "\n",
       "    .dataframe thead th {\n",
       "        text-align: right;\n",
       "    }\n",
       "</style>\n",
       "<table border=\"1\" class=\"dataframe\">\n",
       "  <thead>\n",
       "    <tr style=\"text-align: right;\">\n",
       "      <th></th>\n",
       "      <th>delta_s2</th>\n",
       "    </tr>\n",
       "  </thead>\n",
       "  <tbody>\n",
       "    <tr>\n",
       "      <th>count</th>\n",
       "      <td>297.000000</td>\n",
       "    </tr>\n",
       "    <tr>\n",
       "      <th>mean</th>\n",
       "      <td>0.417289</td>\n",
       "    </tr>\n",
       "    <tr>\n",
       "      <th>std</th>\n",
       "      <td>1.069326</td>\n",
       "    </tr>\n",
       "    <tr>\n",
       "      <th>min</th>\n",
       "      <td>-6.191823</td>\n",
       "    </tr>\n",
       "    <tr>\n",
       "      <th>25%</th>\n",
       "      <td>0.202734</td>\n",
       "    </tr>\n",
       "    <tr>\n",
       "      <th>50%</th>\n",
       "      <td>0.622661</td>\n",
       "    </tr>\n",
       "    <tr>\n",
       "      <th>75%</th>\n",
       "      <td>0.885195</td>\n",
       "    </tr>\n",
       "    <tr>\n",
       "      <th>max</th>\n",
       "      <td>2.958833</td>\n",
       "    </tr>\n",
       "  </tbody>\n",
       "</table>\n",
       "</div>"
      ],
      "text/plain": [
       "         delta_s2\n",
       "count  297.000000\n",
       "mean     0.417289\n",
       "std      1.069326\n",
       "min     -6.191823\n",
       "25%      0.202734\n",
       "50%      0.622661\n",
       "75%      0.885195\n",
       "max      2.958833"
      ]
     },
     "execution_count": 77,
     "metadata": {},
     "output_type": "execute_result"
    }
   ],
   "source": [
    "thickness = 6\n",
    "\n",
    "df = comparisonset[comparisonset['thickness']==thickness]\n",
    "\n",
    "df.plot.scatter('target', 'delta_s2')\n",
    "plt.plot([0, df['target'].max()], [0, 0], color='k', linestyle='--')\n",
    "plt.title('Delta error - {} - thickness = {}mm'.format(target, thickness))\n",
    "plt.xlabel('True')\n",
    "plt.ylabel('Euros variation')\n",
    "plt.show()\n",
    "df[['delta_s2']].describe()"
   ]
  },
  {
   "cell_type": "code",
   "execution_count": null,
   "metadata": {},
   "outputs": [],
   "source": []
  },
  {
   "cell_type": "code",
   "execution_count": null,
   "metadata": {},
   "outputs": [],
   "source": []
  }
 ],
 "metadata": {
  "kernelspec": {
   "display_name": "Python 3",
   "language": "python",
   "name": "python3"
  },
  "language_info": {
   "codemirror_mode": {
    "name": "ipython",
    "version": 3
   },
   "file_extension": ".py",
   "mimetype": "text/x-python",
   "name": "python",
   "nbconvert_exporter": "python",
   "pygments_lexer": "ipython3",
   "version": "3.6.4"
  }
 },
 "nbformat": 4,
 "nbformat_minor": 2
}
