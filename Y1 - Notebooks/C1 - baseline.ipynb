{
 "cells": [
  {
   "cell_type": "code",
   "execution_count": 1,
   "metadata": {},
   "outputs": [],
   "source": [
    "import numpy as np\n",
    "import pandas as pd\n",
    "import matplotlib.pyplot as plt\n",
    "import seaborn as sns"
   ]
  },
  {
   "cell_type": "markdown",
   "metadata": {},
   "source": [
    "# Dataset loading"
   ]
  },
  {
   "cell_type": "code",
   "execution_count": 2,
   "metadata": {},
   "outputs": [
    {
     "name": "stdout",
     "output_type": "stream",
     "text": [
      "dataset shape: (4659, 281)\n"
     ]
    },
    {
     "data": {
      "text/html": [
       "<div>\n",
       "<style scoped>\n",
       "    .dataframe tbody tr th:only-of-type {\n",
       "        vertical-align: middle;\n",
       "    }\n",
       "\n",
       "    .dataframe tbody tr th {\n",
       "        vertical-align: top;\n",
       "    }\n",
       "\n",
       "    .dataframe thead th {\n",
       "        text-align: right;\n",
       "    }\n",
       "</style>\n",
       "<table border=\"1\" class=\"dataframe\">\n",
       "  <thead>\n",
       "    <tr style=\"text-align: right;\">\n",
       "      <th></th>\n",
       "      <th>cut_length</th>\n",
       "      <th>num_closed_patterns</th>\n",
       "      <th>num_open_patterns</th>\n",
       "      <th>total_area</th>\n",
       "      <th>minimum_rectangle_area</th>\n",
       "      <th>minimum_rectangle_dim1</th>\n",
       "      <th>minimum_rectangle_dim2</th>\n",
       "      <th>convex_hull_area</th>\n",
       "      <th>no_hole_area</th>\n",
       "      <th>thickness</th>\n",
       "      <th>...</th>\n",
       "      <th>bend_edge_length_std_09</th>\n",
       "      <th>bend_edge_length_min_09</th>\n",
       "      <th>bend_edge_length_max_09</th>\n",
       "      <th>VAMAT</th>\n",
       "      <th>VALAJOUT</th>\n",
       "      <th>VALTOT</th>\n",
       "      <th>VOL_COST_CONVHULL</th>\n",
       "      <th>VOL_COST_RECTANGLE</th>\n",
       "      <th>VOL_COST_MPATTERN</th>\n",
       "      <th>bend_group</th>\n",
       "    </tr>\n",
       "    <tr>\n",
       "      <th>COART</th>\n",
       "      <th></th>\n",
       "      <th></th>\n",
       "      <th></th>\n",
       "      <th></th>\n",
       "      <th></th>\n",
       "      <th></th>\n",
       "      <th></th>\n",
       "      <th></th>\n",
       "      <th></th>\n",
       "      <th></th>\n",
       "      <th></th>\n",
       "      <th></th>\n",
       "      <th></th>\n",
       "      <th></th>\n",
       "      <th></th>\n",
       "      <th></th>\n",
       "      <th></th>\n",
       "      <th></th>\n",
       "      <th></th>\n",
       "      <th></th>\n",
       "      <th></th>\n",
       "    </tr>\n",
       "  </thead>\n",
       "  <tbody>\n",
       "    <tr>\n",
       "      <th>L1600360</th>\n",
       "      <td>3178.489502</td>\n",
       "      <td>9</td>\n",
       "      <td>0</td>\n",
       "      <td>285678.093750</td>\n",
       "      <td>431798.46875</td>\n",
       "      <td>722.070984</td>\n",
       "      <td>598.000000</td>\n",
       "      <td>320484.593750</td>\n",
       "      <td>286893.718750</td>\n",
       "      <td>4.0</td>\n",
       "      <td>...</td>\n",
       "      <td>0.0</td>\n",
       "      <td>0.0</td>\n",
       "      <td>0.0</td>\n",
       "      <td>12.51</td>\n",
       "      <td>5.15</td>\n",
       "      <td>17.66</td>\n",
       "      <td>0.000010</td>\n",
       "      <td>0.000007</td>\n",
       "      <td>0.000011</td>\n",
       "      <td>3-5</td>\n",
       "    </tr>\n",
       "    <tr>\n",
       "      <th>L1600470</th>\n",
       "      <td>317.114502</td>\n",
       "      <td>1</td>\n",
       "      <td>0</td>\n",
       "      <td>3403.138184</td>\n",
       "      <td>3500.00000</td>\n",
       "      <td>140.000000</td>\n",
       "      <td>25.000000</td>\n",
       "      <td>3403.138184</td>\n",
       "      <td>3403.138184</td>\n",
       "      <td>10.0</td>\n",
       "      <td>...</td>\n",
       "      <td>0.0</td>\n",
       "      <td>0.0</td>\n",
       "      <td>0.0</td>\n",
       "      <td>0.25</td>\n",
       "      <td>0.92</td>\n",
       "      <td>1.17</td>\n",
       "      <td>0.000007</td>\n",
       "      <td>0.000007</td>\n",
       "      <td>0.000007</td>\n",
       "      <td>0</td>\n",
       "    </tr>\n",
       "    <tr>\n",
       "      <th>L1600700</th>\n",
       "      <td>625.429871</td>\n",
       "      <td>2</td>\n",
       "      <td>0</td>\n",
       "      <td>10823.929688</td>\n",
       "      <td>12759.00000</td>\n",
       "      <td>255.179993</td>\n",
       "      <td>50.000000</td>\n",
       "      <td>11152.315430</td>\n",
       "      <td>11152.315430</td>\n",
       "      <td>10.0</td>\n",
       "      <td>...</td>\n",
       "      <td>0.0</td>\n",
       "      <td>0.0</td>\n",
       "      <td>0.0</td>\n",
       "      <td>0.75</td>\n",
       "      <td>1.61</td>\n",
       "      <td>2.36</td>\n",
       "      <td>0.000007</td>\n",
       "      <td>0.000006</td>\n",
       "      <td>0.000007</td>\n",
       "      <td>1-2</td>\n",
       "    </tr>\n",
       "    <tr>\n",
       "      <th>L1600710</th>\n",
       "      <td>625.429871</td>\n",
       "      <td>2</td>\n",
       "      <td>0</td>\n",
       "      <td>10823.929688</td>\n",
       "      <td>12759.00000</td>\n",
       "      <td>255.179993</td>\n",
       "      <td>50.000000</td>\n",
       "      <td>11152.315430</td>\n",
       "      <td>11152.315430</td>\n",
       "      <td>10.0</td>\n",
       "      <td>...</td>\n",
       "      <td>0.0</td>\n",
       "      <td>0.0</td>\n",
       "      <td>0.0</td>\n",
       "      <td>0.75</td>\n",
       "      <td>1.61</td>\n",
       "      <td>2.36</td>\n",
       "      <td>0.000007</td>\n",
       "      <td>0.000006</td>\n",
       "      <td>0.000007</td>\n",
       "      <td>1-2</td>\n",
       "    </tr>\n",
       "    <tr>\n",
       "      <th>L1605790</th>\n",
       "      <td>2535.909668</td>\n",
       "      <td>5</td>\n",
       "      <td>0</td>\n",
       "      <td>184134.328125</td>\n",
       "      <td>355747.34375</td>\n",
       "      <td>826.389404</td>\n",
       "      <td>430.483917</td>\n",
       "      <td>230244.703125</td>\n",
       "      <td>184672.265625</td>\n",
       "      <td>5.0</td>\n",
       "      <td>...</td>\n",
       "      <td>0.0</td>\n",
       "      <td>0.0</td>\n",
       "      <td>0.0</td>\n",
       "      <td>12.24</td>\n",
       "      <td>5.72</td>\n",
       "      <td>17.96</td>\n",
       "      <td>0.000011</td>\n",
       "      <td>0.000007</td>\n",
       "      <td>0.000013</td>\n",
       "      <td>3-5</td>\n",
       "    </tr>\n",
       "  </tbody>\n",
       "</table>\n",
       "<p>5 rows × 281 columns</p>\n",
       "</div>"
      ],
      "text/plain": [
       "           cut_length  num_closed_patterns  num_open_patterns     total_area  \\\n",
       "COART                                                                          \n",
       "L1600360  3178.489502                    9                  0  285678.093750   \n",
       "L1600470   317.114502                    1                  0    3403.138184   \n",
       "L1600700   625.429871                    2                  0   10823.929688   \n",
       "L1600710   625.429871                    2                  0   10823.929688   \n",
       "L1605790  2535.909668                    5                  0  184134.328125   \n",
       "\n",
       "          minimum_rectangle_area  minimum_rectangle_dim1  \\\n",
       "COART                                                      \n",
       "L1600360            431798.46875              722.070984   \n",
       "L1600470              3500.00000              140.000000   \n",
       "L1600700             12759.00000              255.179993   \n",
       "L1600710             12759.00000              255.179993   \n",
       "L1605790            355747.34375              826.389404   \n",
       "\n",
       "          minimum_rectangle_dim2  convex_hull_area   no_hole_area  thickness  \\\n",
       "COART                                                                          \n",
       "L1600360              598.000000     320484.593750  286893.718750        4.0   \n",
       "L1600470               25.000000       3403.138184    3403.138184       10.0   \n",
       "L1600700               50.000000      11152.315430   11152.315430       10.0   \n",
       "L1600710               50.000000      11152.315430   11152.315430       10.0   \n",
       "L1605790              430.483917     230244.703125  184672.265625        5.0   \n",
       "\n",
       "             ...      bend_edge_length_std_09  bend_edge_length_min_09  \\\n",
       "COART        ...                                                         \n",
       "L1600360     ...                          0.0                      0.0   \n",
       "L1600470     ...                          0.0                      0.0   \n",
       "L1600700     ...                          0.0                      0.0   \n",
       "L1600710     ...                          0.0                      0.0   \n",
       "L1605790     ...                          0.0                      0.0   \n",
       "\n",
       "          bend_edge_length_max_09  VAMAT  VALAJOUT  VALTOT  VOL_COST_CONVHULL  \\\n",
       "COART                                                                           \n",
       "L1600360                      0.0  12.51      5.15   17.66           0.000010   \n",
       "L1600470                      0.0   0.25      0.92    1.17           0.000007   \n",
       "L1600700                      0.0   0.75      1.61    2.36           0.000007   \n",
       "L1600710                      0.0   0.75      1.61    2.36           0.000007   \n",
       "L1605790                      0.0  12.24      5.72   17.96           0.000011   \n",
       "\n",
       "          VOL_COST_RECTANGLE  VOL_COST_MPATTERN  bend_group  \n",
       "COART                                                        \n",
       "L1600360            0.000007           0.000011         3-5  \n",
       "L1600470            0.000007           0.000007           0  \n",
       "L1600700            0.000006           0.000007         1-2  \n",
       "L1600710            0.000006           0.000007         1-2  \n",
       "L1605790            0.000007           0.000013         3-5  \n",
       "\n",
       "[5 rows x 281 columns]"
      ]
     },
     "execution_count": 2,
     "metadata": {},
     "output_type": "execute_result"
    }
   ],
   "source": [
    "dataset = pd.read_csv('../Y3 - Sample data/Z2 - datasetprepclean.csv', index_col = 0,\n",
    "                     )\n",
    "print('dataset shape:', dataset.shape)\n",
    "dataset.head()"
   ]
  },
  {
   "cell_type": "code",
   "execution_count": 3,
   "metadata": {},
   "outputs": [
    {
     "data": {
      "text/plain": [
       "array(['cut_length', 'num_closed_patterns', 'num_open_patterns',\n",
       "       'total_area', 'minimum_rectangle_area', 'minimum_rectangle_dim1',\n",
       "       'minimum_rectangle_dim2', 'convex_hull_area', 'no_hole_area',\n",
       "       'thickness', 'radius_approx', 'radius_count', 'direction_count',\n",
       "       'bend_count', 'bend_radius_00', 'bend_angle_00',\n",
       "       'bend_direction_00', 'deformation_length_00', 'merged_bend_00',\n",
       "       'punch_length_00', 'bend_radius_01', 'bend_angle_01',\n",
       "       'bend_direction_01', 'deformation_length_01', 'merged_bend_01',\n",
       "       'punch_length_01', 'bend_radius_02', 'bend_angle_02',\n",
       "       'bend_direction_02', 'deformation_length_02', 'merged_bend_02',\n",
       "       'punch_length_02', 'bend_radius_03', 'bend_angle_03',\n",
       "       'bend_direction_03', 'deformation_length_03', 'merged_bend_03',\n",
       "       'punch_length_03', 'bend_radius_04', 'bend_angle_04',\n",
       "       'bend_direction_04', 'deformation_length_04', 'merged_bend_04',\n",
       "       'punch_length_04', 'bend_radius_05', 'bend_angle_05',\n",
       "       'bend_direction_05', 'deformation_length_05', 'merged_bend_05',\n",
       "       'punch_length_05', 'bend_radius_06', 'bend_angle_06',\n",
       "       'bend_direction_06', 'deformation_length_06', 'merged_bend_06',\n",
       "       'punch_length_06', 'bend_radius_07', 'bend_angle_07',\n",
       "       'bend_direction_07', 'deformation_length_07', 'merged_bend_07',\n",
       "       'punch_length_07', 'bend_radius_08', 'bend_angle_08',\n",
       "       'bend_direction_08', 'deformation_length_08', 'merged_bend_08',\n",
       "       'punch_length_08', 'bend_radius_09', 'bend_angle_09',\n",
       "       'bend_direction_09', 'deformation_length_09', 'merged_bend_09',\n",
       "       'punch_length_09', 'bend_bend_distance_mean_00',\n",
       "       'bend_bend_distance_std_00', 'bend_bend_distance_min_00',\n",
       "       'bend_bend_distance_max_00', 'bend_bend_angle_mean_00',\n",
       "       'bend_bend_angle_std_00', 'bend_bend_angle_min_00',\n",
       "       'bend_bend_angle_max_00', 'bend_edge_distance_mean_00',\n",
       "       'bend_edge_distance_std_00', 'bend_edge_distance_min_00',\n",
       "       'bend_edge_distance_max_00', 'bend_edge_angle_mean_00',\n",
       "       'bend_edge_angle_std_00', 'bend_edge_angle_min_00',\n",
       "       'bend_edge_angle_max_00', 'bend_edge_length_mean_00',\n",
       "       'bend_edge_length_std_00', 'bend_edge_length_min_00',\n",
       "       'bend_edge_length_max_00', 'bend_bend_distance_mean_01',\n",
       "       'bend_bend_distance_std_01', 'bend_bend_distance_min_01',\n",
       "       'bend_bend_distance_max_01', 'bend_bend_angle_mean_01',\n",
       "       'bend_bend_angle_std_01', 'bend_bend_angle_min_01',\n",
       "       'bend_bend_angle_max_01', 'bend_edge_distance_mean_01',\n",
       "       'bend_edge_distance_std_01', 'bend_edge_distance_min_01',\n",
       "       'bend_edge_distance_max_01', 'bend_edge_angle_mean_01',\n",
       "       'bend_edge_angle_std_01', 'bend_edge_angle_min_01',\n",
       "       'bend_edge_angle_max_01', 'bend_edge_length_mean_01',\n",
       "       'bend_edge_length_std_01', 'bend_edge_length_min_01',\n",
       "       'bend_edge_length_max_01', 'bend_bend_distance_mean_02',\n",
       "       'bend_bend_distance_std_02', 'bend_bend_distance_min_02',\n",
       "       'bend_bend_distance_max_02', 'bend_bend_angle_mean_02',\n",
       "       'bend_bend_angle_std_02', 'bend_bend_angle_min_02',\n",
       "       'bend_bend_angle_max_02', 'bend_edge_distance_mean_02',\n",
       "       'bend_edge_distance_std_02', 'bend_edge_distance_min_02',\n",
       "       'bend_edge_distance_max_02', 'bend_edge_angle_mean_02',\n",
       "       'bend_edge_angle_std_02', 'bend_edge_angle_min_02',\n",
       "       'bend_edge_angle_max_02', 'bend_edge_length_mean_02',\n",
       "       'bend_edge_length_std_02', 'bend_edge_length_min_02',\n",
       "       'bend_edge_length_max_02', 'bend_bend_distance_mean_03',\n",
       "       'bend_bend_distance_std_03', 'bend_bend_distance_min_03',\n",
       "       'bend_bend_distance_max_03', 'bend_bend_angle_mean_03',\n",
       "       'bend_bend_angle_std_03', 'bend_bend_angle_min_03',\n",
       "       'bend_bend_angle_max_03', 'bend_edge_distance_mean_03',\n",
       "       'bend_edge_distance_std_03', 'bend_edge_distance_min_03',\n",
       "       'bend_edge_distance_max_03', 'bend_edge_angle_mean_03',\n",
       "       'bend_edge_angle_std_03', 'bend_edge_angle_min_03',\n",
       "       'bend_edge_angle_max_03', 'bend_edge_length_mean_03',\n",
       "       'bend_edge_length_std_03', 'bend_edge_length_min_03',\n",
       "       'bend_edge_length_max_03', 'bend_bend_distance_mean_04',\n",
       "       'bend_bend_distance_std_04', 'bend_bend_distance_min_04',\n",
       "       'bend_bend_distance_max_04', 'bend_bend_angle_mean_04',\n",
       "       'bend_bend_angle_std_04', 'bend_bend_angle_min_04',\n",
       "       'bend_bend_angle_max_04', 'bend_edge_distance_mean_04',\n",
       "       'bend_edge_distance_std_04', 'bend_edge_distance_min_04',\n",
       "       'bend_edge_distance_max_04', 'bend_edge_angle_mean_04',\n",
       "       'bend_edge_angle_std_04', 'bend_edge_angle_min_04',\n",
       "       'bend_edge_angle_max_04', 'bend_edge_length_mean_04',\n",
       "       'bend_edge_length_std_04', 'bend_edge_length_min_04',\n",
       "       'bend_edge_length_max_04', 'bend_bend_distance_mean_05',\n",
       "       'bend_bend_distance_std_05', 'bend_bend_distance_min_05',\n",
       "       'bend_bend_distance_max_05', 'bend_bend_angle_mean_05',\n",
       "       'bend_bend_angle_std_05', 'bend_bend_angle_min_05',\n",
       "       'bend_bend_angle_max_05', 'bend_edge_distance_mean_05',\n",
       "       'bend_edge_distance_std_05', 'bend_edge_distance_min_05',\n",
       "       'bend_edge_distance_max_05', 'bend_edge_angle_mean_05',\n",
       "       'bend_edge_angle_std_05', 'bend_edge_angle_min_05',\n",
       "       'bend_edge_angle_max_05', 'bend_edge_length_mean_05',\n",
       "       'bend_edge_length_std_05', 'bend_edge_length_min_05',\n",
       "       'bend_edge_length_max_05', 'bend_bend_distance_mean_06',\n",
       "       'bend_bend_distance_std_06', 'bend_bend_distance_min_06',\n",
       "       'bend_bend_distance_max_06', 'bend_bend_angle_mean_06',\n",
       "       'bend_bend_angle_std_06', 'bend_bend_angle_min_06',\n",
       "       'bend_bend_angle_max_06', 'bend_edge_distance_mean_06',\n",
       "       'bend_edge_distance_std_06', 'bend_edge_distance_min_06',\n",
       "       'bend_edge_distance_max_06', 'bend_edge_angle_mean_06',\n",
       "       'bend_edge_angle_std_06', 'bend_edge_angle_min_06',\n",
       "       'bend_edge_angle_max_06', 'bend_edge_length_mean_06',\n",
       "       'bend_edge_length_std_06', 'bend_edge_length_min_06',\n",
       "       'bend_edge_length_max_06', 'bend_bend_distance_mean_07',\n",
       "       'bend_bend_distance_std_07', 'bend_bend_distance_min_07',\n",
       "       'bend_bend_distance_max_07', 'bend_bend_angle_mean_07',\n",
       "       'bend_bend_angle_std_07', 'bend_bend_angle_min_07',\n",
       "       'bend_bend_angle_max_07', 'bend_edge_distance_mean_07',\n",
       "       'bend_edge_distance_std_07', 'bend_edge_distance_min_07',\n",
       "       'bend_edge_distance_max_07', 'bend_edge_angle_mean_07',\n",
       "       'bend_edge_angle_std_07', 'bend_edge_angle_min_07',\n",
       "       'bend_edge_angle_max_07', 'bend_edge_length_mean_07',\n",
       "       'bend_edge_length_std_07', 'bend_edge_length_min_07',\n",
       "       'bend_edge_length_max_07', 'bend_bend_distance_mean_08',\n",
       "       'bend_bend_distance_std_08', 'bend_bend_distance_min_08',\n",
       "       'bend_bend_distance_max_08', 'bend_bend_angle_mean_08',\n",
       "       'bend_bend_angle_std_08', 'bend_bend_angle_min_08',\n",
       "       'bend_bend_angle_max_08', 'bend_edge_distance_mean_08',\n",
       "       'bend_edge_distance_std_08', 'bend_edge_distance_min_08',\n",
       "       'bend_edge_distance_max_08', 'bend_edge_angle_mean_08',\n",
       "       'bend_edge_angle_std_08', 'bend_edge_angle_min_08',\n",
       "       'bend_edge_angle_max_08', 'bend_edge_length_mean_08',\n",
       "       'bend_edge_length_std_08', 'bend_edge_length_min_08',\n",
       "       'bend_edge_length_max_08', 'bend_bend_distance_mean_09',\n",
       "       'bend_bend_distance_std_09', 'bend_bend_distance_min_09',\n",
       "       'bend_bend_distance_max_09', 'bend_bend_angle_mean_09',\n",
       "       'bend_bend_angle_std_09', 'bend_bend_angle_min_09',\n",
       "       'bend_bend_angle_max_09', 'bend_edge_distance_mean_09',\n",
       "       'bend_edge_distance_std_09', 'bend_edge_distance_min_09',\n",
       "       'bend_edge_distance_max_09', 'bend_edge_angle_mean_09',\n",
       "       'bend_edge_angle_std_09', 'bend_edge_angle_min_09',\n",
       "       'bend_edge_angle_max_09', 'bend_edge_length_mean_09',\n",
       "       'bend_edge_length_std_09', 'bend_edge_length_min_09',\n",
       "       'bend_edge_length_max_09', 'VAMAT', 'VALAJOUT', 'VALTOT',\n",
       "       'VOL_COST_CONVHULL', 'VOL_COST_RECTANGLE', 'VOL_COST_MPATTERN',\n",
       "       'bend_group'], dtype=object)"
      ]
     },
     "execution_count": 3,
     "metadata": {},
     "output_type": "execute_result"
    }
   ],
   "source": [
    "dataset.columns.values"
   ]
  },
  {
   "cell_type": "code",
   "execution_count": 4,
   "metadata": {},
   "outputs": [
    {
     "name": "stdout",
     "output_type": "stream",
     "text": [
      "deformation_length_00 --> 240\n",
      "deformation_length_01 --> 113\n",
      "deformation_length_02 --> 10\n",
      "deformation_length_03 --> 3\n",
      "deformation_length_04 --> 1\n",
      "deformation_length_05 --> 1\n",
      "Done !\n"
     ]
    }
   ],
   "source": [
    "for index, nancount in dataset.isnull().sum().iteritems():\n",
    "    if nancount != 0:\n",
    "        print(index, '-->', nancount)\n",
    "else:\n",
    "    print('Done !')"
   ]
  },
  {
   "cell_type": "code",
   "execution_count": 5,
   "metadata": {},
   "outputs": [
    {
     "data": {
      "text/plain": [
       "(4389, 281)"
      ]
     },
     "execution_count": 5,
     "metadata": {},
     "output_type": "execute_result"
    }
   ],
   "source": [
    "#Cleaning of the remaining Nan\n",
    "dataset = dataset.dropna()\n",
    "dataset.shape"
   ]
  },
  {
   "cell_type": "markdown",
   "metadata": {},
   "source": [
    "# cleaning to have at least min occurences"
   ]
  },
  {
   "cell_type": "code",
   "execution_count": 6,
   "metadata": {},
   "outputs": [
    {
     "data": {
      "text/plain": [
       "(4356, 281)"
      ]
     },
     "execution_count": 6,
     "metadata": {},
     "output_type": "execute_result"
    }
   ],
   "source": [
    "minocc = 50\n",
    "todrop = []\n",
    "df = dataset['thickness'].reset_index().groupby('thickness').count()\n",
    "for index, occ in df.iterrows():\n",
    "    if occ.COART <= minocc:\n",
    "        todrop.append(index)\n",
    "\n",
    "for thickness in todrop:\n",
    "    dataset = dataset[dataset['thickness'] != thickness]\n",
    "dataset.shape"
   ]
  },
  {
   "cell_type": "markdown",
   "metadata": {},
   "source": [
    "# Dataset re-ordering and Splitting"
   ]
  },
  {
   "cell_type": "markdown",
   "metadata": {},
   "source": [
    "The baseline will be defined with the 3 core factors:\n",
    "- Thickness\n",
    "- Area\n",
    "- Number of bends"
   ]
  },
  {
   "cell_type": "code",
   "execution_count": 7,
   "metadata": {},
   "outputs": [
    {
     "data": {
      "text/plain": [
       "['cut_length',\n",
       " 'num_closed_patterns',\n",
       " 'num_open_patterns',\n",
       " 'total_area',\n",
       " 'minimum_rectangle_area',\n",
       " 'minimum_rectangle_dim1',\n",
       " 'minimum_rectangle_dim2',\n",
       " 'convex_hull_area',\n",
       " 'no_hole_area',\n",
       " 'thickness',\n",
       " 'radius_count',\n",
       " 'direction_count',\n",
       " 'bend_count',\n",
       " 'bend_radius_00',\n",
       " 'bend_angle_00',\n",
       " 'bend_direction_00',\n",
       " 'deformation_length_00',\n",
       " 'merged_bend_00',\n",
       " 'punch_length_00',\n",
       " 'bend_radius_01',\n",
       " 'bend_angle_01',\n",
       " 'bend_direction_01',\n",
       " 'deformation_length_01',\n",
       " 'merged_bend_01',\n",
       " 'punch_length_01',\n",
       " 'bend_radius_02',\n",
       " 'bend_angle_02',\n",
       " 'bend_direction_02',\n",
       " 'deformation_length_02',\n",
       " 'merged_bend_02',\n",
       " 'punch_length_02',\n",
       " 'bend_radius_03',\n",
       " 'bend_angle_03',\n",
       " 'bend_direction_03',\n",
       " 'deformation_length_03',\n",
       " 'merged_bend_03',\n",
       " 'punch_length_03',\n",
       " 'bend_radius_04',\n",
       " 'bend_angle_04',\n",
       " 'bend_direction_04',\n",
       " 'deformation_length_04',\n",
       " 'merged_bend_04',\n",
       " 'punch_length_04',\n",
       " 'bend_radius_05',\n",
       " 'bend_angle_05',\n",
       " 'bend_direction_05',\n",
       " 'deformation_length_05',\n",
       " 'merged_bend_05',\n",
       " 'punch_length_05',\n",
       " 'bend_radius_06',\n",
       " 'bend_angle_06',\n",
       " 'bend_direction_06',\n",
       " 'deformation_length_06',\n",
       " 'merged_bend_06',\n",
       " 'punch_length_06',\n",
       " 'bend_radius_07',\n",
       " 'bend_angle_07',\n",
       " 'bend_direction_07',\n",
       " 'deformation_length_07',\n",
       " 'merged_bend_07',\n",
       " 'punch_length_07',\n",
       " 'bend_radius_08',\n",
       " 'bend_angle_08',\n",
       " 'bend_direction_08',\n",
       " 'deformation_length_08',\n",
       " 'merged_bend_08',\n",
       " 'punch_length_08',\n",
       " 'bend_radius_09',\n",
       " 'bend_angle_09',\n",
       " 'bend_direction_09',\n",
       " 'deformation_length_09',\n",
       " 'merged_bend_09',\n",
       " 'punch_length_09',\n",
       " 'bend_bend_distance_mean_00',\n",
       " 'bend_bend_distance_std_00',\n",
       " 'bend_bend_distance_min_00',\n",
       " 'bend_bend_distance_max_00',\n",
       " 'bend_bend_angle_mean_00',\n",
       " 'bend_bend_angle_std_00',\n",
       " 'bend_bend_angle_min_00',\n",
       " 'bend_bend_angle_max_00',\n",
       " 'bend_edge_distance_mean_00',\n",
       " 'bend_edge_distance_std_00',\n",
       " 'bend_edge_distance_min_00',\n",
       " 'bend_edge_distance_max_00',\n",
       " 'bend_edge_angle_mean_00',\n",
       " 'bend_edge_angle_std_00',\n",
       " 'bend_edge_angle_min_00',\n",
       " 'bend_edge_angle_max_00',\n",
       " 'bend_edge_length_mean_00',\n",
       " 'bend_edge_length_std_00',\n",
       " 'bend_edge_length_min_00',\n",
       " 'bend_edge_length_max_00',\n",
       " 'bend_bend_distance_mean_01',\n",
       " 'bend_bend_distance_std_01',\n",
       " 'bend_bend_distance_min_01',\n",
       " 'bend_bend_distance_max_01',\n",
       " 'bend_bend_angle_mean_01',\n",
       " 'bend_bend_angle_std_01',\n",
       " 'bend_bend_angle_min_01',\n",
       " 'bend_bend_angle_max_01',\n",
       " 'bend_edge_distance_mean_01',\n",
       " 'bend_edge_distance_std_01',\n",
       " 'bend_edge_distance_min_01',\n",
       " 'bend_edge_distance_max_01',\n",
       " 'bend_edge_angle_mean_01',\n",
       " 'bend_edge_angle_std_01',\n",
       " 'bend_edge_angle_min_01',\n",
       " 'bend_edge_angle_max_01',\n",
       " 'bend_edge_length_mean_01',\n",
       " 'bend_edge_length_std_01',\n",
       " 'bend_edge_length_min_01',\n",
       " 'bend_edge_length_max_01',\n",
       " 'bend_bend_distance_mean_02',\n",
       " 'bend_bend_distance_std_02',\n",
       " 'bend_bend_distance_min_02',\n",
       " 'bend_bend_distance_max_02',\n",
       " 'bend_bend_angle_mean_02',\n",
       " 'bend_bend_angle_std_02',\n",
       " 'bend_bend_angle_min_02',\n",
       " 'bend_bend_angle_max_02',\n",
       " 'bend_edge_distance_mean_02',\n",
       " 'bend_edge_distance_std_02',\n",
       " 'bend_edge_distance_min_02',\n",
       " 'bend_edge_distance_max_02',\n",
       " 'bend_edge_angle_mean_02',\n",
       " 'bend_edge_angle_std_02',\n",
       " 'bend_edge_angle_min_02',\n",
       " 'bend_edge_angle_max_02',\n",
       " 'bend_edge_length_mean_02',\n",
       " 'bend_edge_length_std_02',\n",
       " 'bend_edge_length_min_02',\n",
       " 'bend_edge_length_max_02',\n",
       " 'bend_bend_distance_mean_03',\n",
       " 'bend_bend_distance_std_03',\n",
       " 'bend_bend_distance_min_03',\n",
       " 'bend_bend_distance_max_03',\n",
       " 'bend_bend_angle_mean_03',\n",
       " 'bend_bend_angle_std_03',\n",
       " 'bend_bend_angle_min_03',\n",
       " 'bend_bend_angle_max_03',\n",
       " 'bend_edge_distance_mean_03',\n",
       " 'bend_edge_distance_std_03',\n",
       " 'bend_edge_distance_min_03',\n",
       " 'bend_edge_distance_max_03',\n",
       " 'bend_edge_angle_mean_03',\n",
       " 'bend_edge_angle_std_03',\n",
       " 'bend_edge_angle_min_03',\n",
       " 'bend_edge_angle_max_03',\n",
       " 'bend_edge_length_mean_03',\n",
       " 'bend_edge_length_std_03',\n",
       " 'bend_edge_length_min_03',\n",
       " 'bend_edge_length_max_03',\n",
       " 'bend_bend_distance_mean_04',\n",
       " 'bend_bend_distance_std_04',\n",
       " 'bend_bend_distance_min_04',\n",
       " 'bend_bend_distance_max_04',\n",
       " 'bend_bend_angle_mean_04',\n",
       " 'bend_bend_angle_std_04',\n",
       " 'bend_bend_angle_min_04',\n",
       " 'bend_bend_angle_max_04',\n",
       " 'bend_edge_distance_mean_04',\n",
       " 'bend_edge_distance_std_04',\n",
       " 'bend_edge_distance_min_04',\n",
       " 'bend_edge_distance_max_04',\n",
       " 'bend_edge_angle_mean_04',\n",
       " 'bend_edge_angle_std_04',\n",
       " 'bend_edge_angle_min_04',\n",
       " 'bend_edge_angle_max_04',\n",
       " 'bend_edge_length_mean_04',\n",
       " 'bend_edge_length_std_04',\n",
       " 'bend_edge_length_min_04',\n",
       " 'bend_edge_length_max_04',\n",
       " 'bend_bend_distance_mean_05',\n",
       " 'bend_bend_distance_std_05',\n",
       " 'bend_bend_distance_min_05',\n",
       " 'bend_bend_distance_max_05',\n",
       " 'bend_bend_angle_mean_05',\n",
       " 'bend_bend_angle_std_05',\n",
       " 'bend_bend_angle_min_05',\n",
       " 'bend_bend_angle_max_05',\n",
       " 'bend_edge_distance_mean_05',\n",
       " 'bend_edge_distance_std_05',\n",
       " 'bend_edge_distance_min_05',\n",
       " 'bend_edge_distance_max_05',\n",
       " 'bend_edge_angle_mean_05',\n",
       " 'bend_edge_angle_std_05',\n",
       " 'bend_edge_angle_min_05',\n",
       " 'bend_edge_angle_max_05',\n",
       " 'bend_edge_length_mean_05',\n",
       " 'bend_edge_length_std_05',\n",
       " 'bend_edge_length_min_05',\n",
       " 'bend_edge_length_max_05',\n",
       " 'bend_bend_distance_mean_06',\n",
       " 'bend_bend_distance_std_06',\n",
       " 'bend_bend_distance_min_06',\n",
       " 'bend_bend_distance_max_06',\n",
       " 'bend_bend_angle_mean_06',\n",
       " 'bend_bend_angle_std_06',\n",
       " 'bend_bend_angle_min_06',\n",
       " 'bend_bend_angle_max_06',\n",
       " 'bend_edge_distance_mean_06',\n",
       " 'bend_edge_distance_std_06',\n",
       " 'bend_edge_distance_min_06',\n",
       " 'bend_edge_distance_max_06',\n",
       " 'bend_edge_angle_mean_06',\n",
       " 'bend_edge_angle_std_06',\n",
       " 'bend_edge_angle_min_06',\n",
       " 'bend_edge_angle_max_06',\n",
       " 'bend_edge_length_mean_06',\n",
       " 'bend_edge_length_std_06',\n",
       " 'bend_edge_length_min_06',\n",
       " 'bend_edge_length_max_06',\n",
       " 'bend_bend_distance_mean_07',\n",
       " 'bend_bend_distance_std_07',\n",
       " 'bend_bend_distance_min_07',\n",
       " 'bend_bend_distance_max_07',\n",
       " 'bend_bend_angle_mean_07',\n",
       " 'bend_bend_angle_std_07',\n",
       " 'bend_bend_angle_min_07',\n",
       " 'bend_bend_angle_max_07',\n",
       " 'bend_edge_distance_mean_07',\n",
       " 'bend_edge_distance_std_07',\n",
       " 'bend_edge_distance_min_07',\n",
       " 'bend_edge_distance_max_07',\n",
       " 'bend_edge_angle_mean_07',\n",
       " 'bend_edge_angle_std_07',\n",
       " 'bend_edge_angle_min_07',\n",
       " 'bend_edge_angle_max_07',\n",
       " 'bend_edge_length_mean_07',\n",
       " 'bend_edge_length_std_07',\n",
       " 'bend_edge_length_min_07',\n",
       " 'bend_edge_length_max_07',\n",
       " 'bend_bend_distance_mean_08',\n",
       " 'bend_bend_distance_std_08',\n",
       " 'bend_bend_distance_min_08',\n",
       " 'bend_bend_distance_max_08',\n",
       " 'bend_bend_angle_mean_08',\n",
       " 'bend_bend_angle_std_08',\n",
       " 'bend_bend_angle_min_08',\n",
       " 'bend_bend_angle_max_08',\n",
       " 'bend_edge_distance_mean_08',\n",
       " 'bend_edge_distance_std_08',\n",
       " 'bend_edge_distance_min_08',\n",
       " 'bend_edge_distance_max_08',\n",
       " 'bend_edge_angle_mean_08',\n",
       " 'bend_edge_angle_std_08',\n",
       " 'bend_edge_angle_min_08',\n",
       " 'bend_edge_angle_max_08',\n",
       " 'bend_edge_length_mean_08',\n",
       " 'bend_edge_length_std_08',\n",
       " 'bend_edge_length_min_08',\n",
       " 'bend_edge_length_max_08',\n",
       " 'bend_bend_distance_mean_09',\n",
       " 'bend_bend_distance_std_09',\n",
       " 'bend_bend_distance_min_09',\n",
       " 'bend_bend_distance_max_09',\n",
       " 'bend_bend_angle_mean_09',\n",
       " 'bend_bend_angle_std_09',\n",
       " 'bend_bend_angle_min_09',\n",
       " 'bend_bend_angle_max_09',\n",
       " 'bend_edge_distance_mean_09',\n",
       " 'bend_edge_distance_std_09',\n",
       " 'bend_edge_distance_min_09',\n",
       " 'bend_edge_distance_max_09',\n",
       " 'bend_edge_angle_mean_09',\n",
       " 'bend_edge_angle_std_09',\n",
       " 'bend_edge_angle_min_09',\n",
       " 'bend_edge_angle_max_09',\n",
       " 'bend_edge_length_mean_09',\n",
       " 'bend_edge_length_std_09',\n",
       " 'bend_edge_length_min_09',\n",
       " 'bend_edge_length_max_09']"
      ]
     },
     "execution_count": 7,
     "metadata": {},
     "output_type": "execute_result"
    }
   ],
   "source": [
    "start = dataset.columns.values\n",
    "todrop = ['bend_group', 'VAMAT', 'VALAJOUT', 'VALTOT', 'radius_approx', 'level_0']\n",
    "\n",
    "def representsInt(s):\n",
    "    try: \n",
    "        int(s)\n",
    "        return True\n",
    "    except ValueError:\n",
    "        return False\n",
    "benddetails  = [x for x in dataset.columns.values if representsInt(x[-2:])]\n",
    "#todrop.extend(benddetails)\n",
    "\n",
    "todrop.extend([x for x in dataset.columns.values if x.startswith('VOL_')])\n",
    "\n",
    "tokeep = [x for x in start if x not in todrop ]\n",
    "tokeep"
   ]
  },
  {
   "cell_type": "code",
   "execution_count": 8,
   "metadata": {},
   "outputs": [],
   "source": [
    "#Dataset definition\n",
    "X = dataset[['thickness', 'minimum_rectangle_area', 'bend_count']]\n",
    "y = dataset[['VAMAT', 'VALAJOUT', 'VALTOT']]\n",
    "\n",
    "limitedset = ['thickness', 'minimum_rectangle_area', 'bend_count']\n"
   ]
  },
  {
   "cell_type": "code",
   "execution_count": 9,
   "metadata": {},
   "outputs": [],
   "source": [
    "target = 'VALTOT'\n",
    "assert target in y.columns.values, 'The target must be in y dataset'"
   ]
  },
  {
   "cell_type": "code",
   "execution_count": 10,
   "metadata": {},
   "outputs": [
    {
     "data": {
      "text/html": [
       "<div>\n",
       "<style scoped>\n",
       "    .dataframe tbody tr th:only-of-type {\n",
       "        vertical-align: middle;\n",
       "    }\n",
       "\n",
       "    .dataframe tbody tr th {\n",
       "        vertical-align: top;\n",
       "    }\n",
       "\n",
       "    .dataframe thead th {\n",
       "        text-align: right;\n",
       "    }\n",
       "</style>\n",
       "<table border=\"1\" class=\"dataframe\">\n",
       "  <thead>\n",
       "    <tr style=\"text-align: right;\">\n",
       "      <th></th>\n",
       "      <th>VALTOT</th>\n",
       "    </tr>\n",
       "  </thead>\n",
       "  <tbody>\n",
       "    <tr>\n",
       "      <th>count</th>\n",
       "      <td>4356.000000</td>\n",
       "    </tr>\n",
       "    <tr>\n",
       "      <th>mean</th>\n",
       "      <td>8.909522</td>\n",
       "    </tr>\n",
       "    <tr>\n",
       "      <th>std</th>\n",
       "      <td>12.568147</td>\n",
       "    </tr>\n",
       "    <tr>\n",
       "      <th>min</th>\n",
       "      <td>0.320000</td>\n",
       "    </tr>\n",
       "    <tr>\n",
       "      <th>25%</th>\n",
       "      <td>2.537500</td>\n",
       "    </tr>\n",
       "    <tr>\n",
       "      <th>50%</th>\n",
       "      <td>4.605000</td>\n",
       "    </tr>\n",
       "    <tr>\n",
       "      <th>75%</th>\n",
       "      <td>10.100000</td>\n",
       "    </tr>\n",
       "    <tr>\n",
       "      <th>max</th>\n",
       "      <td>145.410000</td>\n",
       "    </tr>\n",
       "  </tbody>\n",
       "</table>\n",
       "</div>"
      ],
      "text/plain": [
       "            VALTOT\n",
       "count  4356.000000\n",
       "mean      8.909522\n",
       "std      12.568147\n",
       "min       0.320000\n",
       "25%       2.537500\n",
       "50%       4.605000\n",
       "75%      10.100000\n",
       "max     145.410000"
      ]
     },
     "execution_count": 10,
     "metadata": {},
     "output_type": "execute_result"
    }
   ],
   "source": [
    "y[[target]].describe()"
   ]
  },
  {
   "cell_type": "code",
   "execution_count": 11,
   "metadata": {},
   "outputs": [],
   "source": [
    "# Dataset splitting\n",
    "from sklearn.model_selection import train_test_split\n",
    "X_train, X_test, y_train, y_test = train_test_split(\n",
    "    X, y, test_size=0.33, random_state=0 ,stratify=dataset['bend_group'])"
   ]
  },
  {
   "cell_type": "markdown",
   "metadata": {},
   "source": [
    "# Blocs creation"
   ]
  },
  {
   "cell_type": "code",
   "execution_count": 12,
   "metadata": {},
   "outputs": [],
   "source": [
    "#Scaler\n",
    "from sklearn.preprocessing import StandardScaler\n",
    "scaler = StandardScaler()"
   ]
  },
  {
   "cell_type": "code",
   "execution_count": 13,
   "metadata": {},
   "outputs": [],
   "source": [
    "# Metric\n",
    "from sklearn.metrics import mean_squared_error"
   ]
  },
  {
   "cell_type": "code",
   "execution_count": 14,
   "metadata": {},
   "outputs": [
    {
     "data": {
      "text/plain": [
       "make_scorer(mean_absolute_percentage_error, greater_is_better=False)"
      ]
     },
     "execution_count": 14,
     "metadata": {},
     "output_type": "execute_result"
    }
   ],
   "source": [
    "# Metric MAPE Mean absolute percentage error\n",
    "def mean_absolute_percentage_error(y_true, y_pred): \n",
    "    y_true, y_pred = np.array(y_true), np.array(y_pred)\n",
    "    return np.mean(np.abs((y_true - y_pred) / y_true)) * 100\n",
    "\n",
    "from sklearn.metrics import make_scorer\n",
    "mape_scorer = make_scorer(mean_absolute_percentage_error, greater_is_better=False)\n",
    "mape_scorer"
   ]
  },
  {
   "cell_type": "code",
   "execution_count": 73,
   "metadata": {},
   "outputs": [],
   "source": [
    "#regressions\n",
    "from sklearn.linear_model import Ridge\n",
    "ridge = Ridge(alpha=1.0, random_state=0, normalize=False, fit_intercept=False)\n",
    "\n",
    "from sklearn.linear_model import ElasticNet\n",
    "enet = ElasticNet(alpha=0, l1_ratio=1, random_state=0, normalize=False, fit_intercept=False)\n",
    "\n",
    "from sklearn.linear_model import LinearRegression\n",
    "linreg = LinearRegression(normalize=False, fit_intercept=False)"
   ]
  },
  {
   "cell_type": "code",
   "execution_count": 74,
   "metadata": {},
   "outputs": [],
   "source": [
    "#Other tools\n",
    "from sklearn.model_selection import GridSearchCV\n",
    "from sklearn.pipeline import Pipeline"
   ]
  },
  {
   "cell_type": "markdown",
   "metadata": {},
   "source": [
    "# No standardisation"
   ]
  },
  {
   "cell_type": "code",
   "execution_count": 75,
   "metadata": {},
   "outputs": [],
   "source": [
    "parameters = {'alpha':np.logspace(-3,3,11),\n",
    "              'l1_ratio':np.linspace(0.01,1,11)\n",
    "             }\n",
    "regnostd = GridSearchCV(enet, parameters, cv=5, n_jobs=-2, scoring='neg_mean_squared_error')"
   ]
  },
  {
   "cell_type": "code",
   "execution_count": 76,
   "metadata": {},
   "outputs": [
    {
     "data": {
      "text/plain": [
       "GridSearchCV(cv=5, error_score='raise',\n",
       "       estimator=ElasticNet(alpha=0, copy_X=True, fit_intercept=False, l1_ratio=1,\n",
       "      max_iter=1000, normalize=False, positive=False, precompute=False,\n",
       "      random_state=0, selection='cyclic', tol=0.0001, warm_start=False),\n",
       "       fit_params=None, iid=True, n_jobs=-2,\n",
       "       param_grid={'alpha': array([1.00000e-03, 3.98107e-03, 1.58489e-02, 6.30957e-02, 2.51189e-01,\n",
       "       1.00000e+00, 3.98107e+00, 1.58489e+01, 6.30957e+01, 2.51189e+02,\n",
       "       1.00000e+03]), 'l1_ratio': array([0.01 , 0.109, 0.208, 0.307, 0.406, 0.505, 0.604, 0.703, 0.802,\n",
       "       0.901, 1.   ])},\n",
       "       pre_dispatch='2*n_jobs', refit=True, return_train_score='warn',\n",
       "       scoring='neg_mean_squared_error', verbose=0)"
      ]
     },
     "execution_count": 76,
     "metadata": {},
     "output_type": "execute_result"
    }
   ],
   "source": [
    "regnostd.fit(X_train[limitedset], y_train[target])"
   ]
  },
  {
   "cell_type": "code",
   "execution_count": 19,
   "metadata": {},
   "outputs": [
    {
     "data": {
      "text/plain": [
       "{'alpha': 0.25118864315095796, 'l1_ratio': 0.01}"
      ]
     },
     "execution_count": 19,
     "metadata": {},
     "output_type": "execute_result"
    }
   ],
   "source": [
    "regnostd.best_params_"
   ]
  },
  {
   "cell_type": "code",
   "execution_count": 77,
   "metadata": {},
   "outputs": [
    {
     "data": {
      "text/plain": [
       "-27.801924211208078"
      ]
     },
     "execution_count": 77,
     "metadata": {},
     "output_type": "execute_result"
    }
   ],
   "source": [
    "regnostd.score(X_train[limitedset], y_train[target])"
   ]
  },
  {
   "cell_type": "code",
   "execution_count": 78,
   "metadata": {},
   "outputs": [
    {
     "data": {
      "text/plain": [
       "-23.06083482076702"
      ]
     },
     "execution_count": 78,
     "metadata": {},
     "output_type": "execute_result"
    }
   ],
   "source": [
    "regnostd.score(X_test[limitedset], y_test[target])"
   ]
  },
  {
   "cell_type": "code",
   "execution_count": 79,
   "metadata": {},
   "outputs": [
    {
     "data": {
      "text/plain": [
       "23.06083482076702"
      ]
     },
     "execution_count": 79,
     "metadata": {},
     "output_type": "execute_result"
    }
   ],
   "source": [
    "mean_squared_error(y_test[target], regnostd.predict(X_test[limitedset]))"
   ]
  },
  {
   "cell_type": "code",
   "execution_count": 80,
   "metadata": {},
   "outputs": [
    {
     "data": {
      "text/plain": [
       "array([ 4.42951013e-01,  5.76516086e-05, -2.92970602e-01])"
      ]
     },
     "execution_count": 80,
     "metadata": {},
     "output_type": "execute_result"
    }
   ],
   "source": [
    "regnostd.best_estimator_.coef_"
   ]
  },
  {
   "cell_type": "code",
   "execution_count": 81,
   "metadata": {},
   "outputs": [
    {
     "data": {
      "text/plain": [
       "array([10.93827767])"
      ]
     },
     "execution_count": 81,
     "metadata": {},
     "output_type": "execute_result"
    }
   ],
   "source": [
    "regnostd.predict(np.array([10.0, 123061.765625, 2]).reshape(1,-1))"
   ]
  },
  {
   "cell_type": "code",
   "execution_count": 82,
   "metadata": {},
   "outputs": [
    {
     "data": {
      "text/plain": [
       "10.938277668316271"
      ]
     },
     "execution_count": 82,
     "metadata": {},
     "output_type": "execute_result"
    }
   ],
   "source": [
    "(np.array([10.0, 123061.765625, 2]) * regnostd.best_estimator_.coef_).sum()"
   ]
  },
  {
   "cell_type": "markdown",
   "metadata": {},
   "source": [
    "# Linear regression"
   ]
  },
  {
   "cell_type": "code",
   "execution_count": 26,
   "metadata": {},
   "outputs": [],
   "source": [
    "parameters = {}\n",
    "reglinnostd = GridSearchCV(linreg, parameters, cv=5, n_jobs=-2, scoring='neg_mean_squared_error')"
   ]
  },
  {
   "cell_type": "code",
   "execution_count": 27,
   "metadata": {},
   "outputs": [
    {
     "data": {
      "text/plain": [
       "GridSearchCV(cv=5, error_score='raise',\n",
       "       estimator=LinearRegression(copy_X=True, fit_intercept=False, n_jobs=1, normalize=False),\n",
       "       fit_params=None, iid=True, n_jobs=-2, param_grid={},\n",
       "       pre_dispatch='2*n_jobs', refit=True, return_train_score='warn',\n",
       "       scoring='neg_mean_squared_error', verbose=0)"
      ]
     },
     "execution_count": 27,
     "metadata": {},
     "output_type": "execute_result"
    }
   ],
   "source": [
    "reglinnostd.fit(X_train[limitedset], y_train[target])"
   ]
  },
  {
   "cell_type": "code",
   "execution_count": 28,
   "metadata": {},
   "outputs": [
    {
     "data": {
      "text/plain": [
       "-23.09064579150321"
      ]
     },
     "execution_count": 28,
     "metadata": {},
     "output_type": "execute_result"
    }
   ],
   "source": [
    "reglinnostd.score(X_test[limitedset], y_test[target])"
   ]
  },
  {
   "cell_type": "code",
   "execution_count": 29,
   "metadata": {},
   "outputs": [
    {
     "data": {
      "text/plain": [
       "23.09064579150321"
      ]
     },
     "execution_count": 29,
     "metadata": {},
     "output_type": "execute_result"
    }
   ],
   "source": [
    "mean_squared_error(y_test[target], reglinnostd.predict(X_test[limitedset]))"
   ]
  },
  {
   "cell_type": "code",
   "execution_count": 30,
   "metadata": {},
   "outputs": [
    {
     "data": {
      "text/plain": [
       "array([ 4.48517517e-01,  5.77472725e-05, -3.35387543e-01])"
      ]
     },
     "execution_count": 30,
     "metadata": {},
     "output_type": "execute_result"
    }
   ],
   "source": [
    "reglinnostd.best_estimator_.coef_"
   ]
  },
  {
   "cell_type": "code",
   "execution_count": 31,
   "metadata": {},
   "outputs": [
    {
     "data": {
      "text/plain": [
       "array([10.92088139])"
      ]
     },
     "execution_count": 31,
     "metadata": {},
     "output_type": "execute_result"
    }
   ],
   "source": [
    "reglinnostd.predict(np.array([10.0, 123061.765625, 2]).reshape(1,-1))"
   ]
  },
  {
   "cell_type": "code",
   "execution_count": 32,
   "metadata": {},
   "outputs": [
    {
     "data": {
      "text/plain": [
       "10.920881393535339"
      ]
     },
     "execution_count": 32,
     "metadata": {},
     "output_type": "execute_result"
    }
   ],
   "source": [
    "np.dot(np.array([10.0, 123061.765625, 2]), reglinnostd.best_estimator_.coef_)"
   ]
  },
  {
   "cell_type": "code",
   "execution_count": 33,
   "metadata": {},
   "outputs": [
    {
     "data": {
      "text/plain": [
       "0.0"
      ]
     },
     "execution_count": 33,
     "metadata": {},
     "output_type": "execute_result"
    }
   ],
   "source": [
    "reglinnostd.best_estimator_.intercept_"
   ]
  },
  {
   "cell_type": "markdown",
   "metadata": {},
   "source": [
    "# Per thickness"
   ]
  },
  {
   "cell_type": "code",
   "execution_count": 34,
   "metadata": {},
   "outputs": [],
   "source": [
    "from sklearn.base import BaseEstimator, TransformerMixin\n",
    "from sklearn.utils import check_X_y"
   ]
  },
  {
   "cell_type": "code",
   "execution_count": 41,
   "metadata": {},
   "outputs": [],
   "source": [
    "class Regthick(BaseEstimator, TransformerMixin):\n",
    "    def __init__(self):\n",
    "        self.thickness = []\n",
    "    \n",
    "    def fit(self, X, y):\n",
    "        #X, y = check_X_y(X, y)\n",
    "        self.thickness = X['thickness'].unique()\n",
    "        parameters = {'alpha':np.logspace(-3,3,5),\n",
    "                      'l1_ratio':np.linspace(0.01,1,5)\n",
    "                        }\n",
    "        for thickness in self.thickness:\n",
    "            setattr(self, 'reg{:02d}'.format(int(thickness)),\n",
    "                    GridSearchCV(ElasticNet(alpha=0, l1_ratio=1, random_state=0, normalize=False, fit_intercept=False),\n",
    "                                 parameters, cv=3, n_jobs=-2, scoring='neg_mean_squared_error'))\n",
    "            \n",
    "            mask = X['thickness']==thickness\n",
    "            #print(X.columns.values)\n",
    "            df = X[mask]\n",
    "            labels = y[mask]\n",
    "            getattr(self, 'reg{:02d}'.format(int(thickness))).fit(df[['minimum_rectangle_area', 'bend_count']], labels)\n",
    "    \n",
    "    def predict(self, X, y=None):\n",
    "        thickness = X[0]\n",
    "        df = np.array(X[1:]).reshape(1, -1)\n",
    "        return getattr(self, 'reg{:02d}'.format(int(thickness))).predict(df)\n",
    "    \n",
    "    def get_th_coefs(self):\n",
    "        toreturn = []\n",
    "        for th in self.thickness:\n",
    "            temp = []\n",
    "            estim = getattr(self, 'reg{:02d}'.format(int(th)))\n",
    "            coeffs = estim.best_estimator_.coef_.copy()\n",
    "            temp.append(th)\n",
    "            temp.extend(coeffs.tolist())\n",
    "            toreturn.append(temp)\n",
    "        return np.array(toreturn)\n",
    "    \n"
   ]
  },
  {
   "cell_type": "code",
   "execution_count": 42,
   "metadata": {},
   "outputs": [],
   "source": [
    "regthick = Regthick()\n",
    "regthick.fit(X_train[limitedset], y_train[target])"
   ]
  },
  {
   "cell_type": "code",
   "execution_count": 43,
   "metadata": {},
   "outputs": [
    {
     "data": {
      "text/plain": [
       "array([14.57349556])"
      ]
     },
     "execution_count": 43,
     "metadata": {},
     "output_type": "execute_result"
    }
   ],
   "source": [
    "#regthick.reg10.predict(np.array([10.0, 123061.765625, 2]).reshape(1,-1))\n",
    "regthick.predict([10.0, 123061.765625, 2])"
   ]
  },
  {
   "cell_type": "code",
   "execution_count": 44,
   "metadata": {},
   "outputs": [
    {
     "data": {
      "text/plain": [
       "14.573495560636196"
      ]
     },
     "execution_count": 44,
     "metadata": {},
     "output_type": "execute_result"
    }
   ],
   "source": [
    "np.dot(regthick.reg10.best_estimator_.coef_, [123061.765625, 2])"
   ]
  },
  {
   "cell_type": "code",
   "execution_count": 45,
   "metadata": {},
   "outputs": [
    {
     "data": {
      "text/plain": [
       "array([[8.00000000e+00, 7.73430572e-05, 9.86797803e-01],\n",
       "       [5.00000000e+00, 5.04518142e-05, 8.69758812e-01],\n",
       "       [6.00000000e+00, 6.02140407e-05, 2.87956395e-01],\n",
       "       [4.00000000e+00, 4.19823613e-05, 4.80366227e-01],\n",
       "       [1.20000000e+01, 1.14778482e-04, 0.00000000e+00],\n",
       "       [1.50000000e+01, 1.41079285e-04, 0.00000000e+00],\n",
       "       [1.00000000e+01, 1.00780836e-04, 1.08561399e+00],\n",
       "       [3.00000000e+00, 3.71596408e-05, 4.54865006e-01]])"
      ]
     },
     "execution_count": 45,
     "metadata": {},
     "output_type": "execute_result"
    }
   ],
   "source": [
    "#1.26214574e-05 * 123061.765625 + 6.96330034e-01*2\n",
    "regthick.get_th_coefs()"
   ]
  },
  {
   "cell_type": "code",
   "execution_count": 50,
   "metadata": {},
   "outputs": [
    {
     "data": {
      "text/html": [
       "<div>\n",
       "<style scoped>\n",
       "    .dataframe tbody tr th:only-of-type {\n",
       "        vertical-align: middle;\n",
       "    }\n",
       "\n",
       "    .dataframe tbody tr th {\n",
       "        vertical-align: top;\n",
       "    }\n",
       "\n",
       "    .dataframe thead th {\n",
       "        text-align: right;\n",
       "    }\n",
       "</style>\n",
       "<table border=\"1\" class=\"dataframe\">\n",
       "  <thead>\n",
       "    <tr style=\"text-align: right;\">\n",
       "      <th></th>\n",
       "      <th>K1</th>\n",
       "      <th>K2</th>\n",
       "    </tr>\n",
       "    <tr>\n",
       "      <th>thickness</th>\n",
       "      <th></th>\n",
       "      <th></th>\n",
       "    </tr>\n",
       "  </thead>\n",
       "  <tbody>\n",
       "    <tr>\n",
       "      <th>3.0</th>\n",
       "      <td>0.000037</td>\n",
       "      <td>0.454865</td>\n",
       "    </tr>\n",
       "    <tr>\n",
       "      <th>4.0</th>\n",
       "      <td>0.000042</td>\n",
       "      <td>0.480366</td>\n",
       "    </tr>\n",
       "    <tr>\n",
       "      <th>5.0</th>\n",
       "      <td>0.000050</td>\n",
       "      <td>0.869759</td>\n",
       "    </tr>\n",
       "    <tr>\n",
       "      <th>6.0</th>\n",
       "      <td>0.000060</td>\n",
       "      <td>0.287956</td>\n",
       "    </tr>\n",
       "    <tr>\n",
       "      <th>8.0</th>\n",
       "      <td>0.000077</td>\n",
       "      <td>0.986798</td>\n",
       "    </tr>\n",
       "    <tr>\n",
       "      <th>10.0</th>\n",
       "      <td>0.000101</td>\n",
       "      <td>1.085614</td>\n",
       "    </tr>\n",
       "    <tr>\n",
       "      <th>12.0</th>\n",
       "      <td>0.000115</td>\n",
       "      <td>0.000000</td>\n",
       "    </tr>\n",
       "    <tr>\n",
       "      <th>15.0</th>\n",
       "      <td>0.000141</td>\n",
       "      <td>0.000000</td>\n",
       "    </tr>\n",
       "  </tbody>\n",
       "</table>\n",
       "</div>"
      ],
      "text/plain": [
       "                 K1        K2\n",
       "thickness                    \n",
       "3.0        0.000037  0.454865\n",
       "4.0        0.000042  0.480366\n",
       "5.0        0.000050  0.869759\n",
       "6.0        0.000060  0.287956\n",
       "8.0        0.000077  0.986798\n",
       "10.0       0.000101  1.085614\n",
       "12.0       0.000115  0.000000\n",
       "15.0       0.000141  0.000000"
      ]
     },
     "execution_count": 50,
     "metadata": {},
     "output_type": "execute_result"
    }
   ],
   "source": [
    "df = pd.DataFrame(regthick.get_th_coefs())\n",
    "df.columns=['thickness', 'K1', 'K2']\n",
    "df.set_index('thickness', inplace=True)\n",
    "df.sort_index()"
   ]
  },
  {
   "cell_type": "code",
   "execution_count": 51,
   "metadata": {},
   "outputs": [],
   "source": [
    "asmset = [[th, rect, bend] for th, rect, bend in zip(X_test.thickness.tolist(),\n",
    "                                            X_test.minimum_rectangle_area.tolist(),\n",
    "                                           X_test.bend_count.tolist(),)]"
   ]
  },
  {
   "cell_type": "markdown",
   "metadata": {},
   "source": [
    "# Results comparison"
   ]
  },
  {
   "cell_type": "code",
   "execution_count": 54,
   "metadata": {},
   "outputs": [],
   "source": [
    "prediction_s2 = np.array([regthick.predict(x)[0] for x in asmset])\n",
    "prediction_s1 = regnostd.predict(X_test[limitedset])"
   ]
  },
  {
   "cell_type": "code",
   "execution_count": 55,
   "metadata": {},
   "outputs": [
    {
     "data": {
      "text/html": [
       "<div>\n",
       "<style scoped>\n",
       "    .dataframe tbody tr th:only-of-type {\n",
       "        vertical-align: middle;\n",
       "    }\n",
       "\n",
       "    .dataframe tbody tr th {\n",
       "        vertical-align: top;\n",
       "    }\n",
       "\n",
       "    .dataframe thead th {\n",
       "        text-align: right;\n",
       "    }\n",
       "</style>\n",
       "<table border=\"1\" class=\"dataframe\">\n",
       "  <thead>\n",
       "    <tr style=\"text-align: right;\">\n",
       "      <th></th>\n",
       "      <th>VALTOT</th>\n",
       "      <th>pred_S1</th>\n",
       "      <th>pred_S2</th>\n",
       "    </tr>\n",
       "    <tr>\n",
       "      <th>COART</th>\n",
       "      <th></th>\n",
       "      <th></th>\n",
       "      <th></th>\n",
       "    </tr>\n",
       "  </thead>\n",
       "  <tbody>\n",
       "    <tr>\n",
       "      <th>L3108232</th>\n",
       "      <td>3.43</td>\n",
       "      <td>3.779595</td>\n",
       "      <td>3.621699</td>\n",
       "    </tr>\n",
       "    <tr>\n",
       "      <th>L7046980</th>\n",
       "      <td>1.94</td>\n",
       "      <td>2.650657</td>\n",
       "      <td>0.586586</td>\n",
       "    </tr>\n",
       "    <tr>\n",
       "      <th>L2605660</th>\n",
       "      <td>2.18</td>\n",
       "      <td>2.353234</td>\n",
       "      <td>0.869892</td>\n",
       "    </tr>\n",
       "    <tr>\n",
       "      <th>L6019100</th>\n",
       "      <td>9.58</td>\n",
       "      <td>10.603595</td>\n",
       "      <td>9.486956</td>\n",
       "    </tr>\n",
       "    <tr>\n",
       "      <th>L6706110</th>\n",
       "      <td>1.85</td>\n",
       "      <td>4.131870</td>\n",
       "      <td>0.789188</td>\n",
       "    </tr>\n",
       "  </tbody>\n",
       "</table>\n",
       "</div>"
      ],
      "text/plain": [
       "          VALTOT    pred_S1   pred_S2\n",
       "COART                                \n",
       "L3108232    3.43   3.779595  3.621699\n",
       "L7046980    1.94   2.650657  0.586586\n",
       "L2605660    2.18   2.353234  0.869892\n",
       "L6019100    9.58  10.603595  9.486956\n",
       "L6706110    1.85   4.131870  0.789188"
      ]
     },
     "execution_count": 55,
     "metadata": {},
     "output_type": "execute_result"
    }
   ],
   "source": [
    "resultset = pd.DataFrame({target: y_test[target],\n",
    "                          'pred_S1':prediction_s1,\n",
    "                          'pred_S2':prediction_s2}, index=y_test.index)\n",
    "resultset.head()"
   ]
  },
  {
   "cell_type": "code",
   "execution_count": 56,
   "metadata": {},
   "outputs": [
    {
     "data": {
      "text/plain": [
       "23.06083482076702"
      ]
     },
     "execution_count": 56,
     "metadata": {},
     "output_type": "execute_result"
    }
   ],
   "source": [
    "mean_squared_error(resultset[target], resultset['pred_S1'])"
   ]
  },
  {
   "cell_type": "code",
   "execution_count": 57,
   "metadata": {},
   "outputs": [
    {
     "data": {
      "text/plain": [
       "8.959651500433194"
      ]
     },
     "execution_count": 57,
     "metadata": {},
     "output_type": "execute_result"
    }
   ],
   "source": [
    "mean_squared_error(resultset[target], resultset['pred_S2'])"
   ]
  },
  {
   "cell_type": "code",
   "execution_count": 60,
   "metadata": {},
   "outputs": [
    {
     "data": {
      "text/html": [
       "<div>\n",
       "<style scoped>\n",
       "    .dataframe tbody tr th:only-of-type {\n",
       "        vertical-align: middle;\n",
       "    }\n",
       "\n",
       "    .dataframe tbody tr th {\n",
       "        vertical-align: top;\n",
       "    }\n",
       "\n",
       "    .dataframe thead th {\n",
       "        text-align: right;\n",
       "    }\n",
       "</style>\n",
       "<table border=\"1\" class=\"dataframe\">\n",
       "  <thead>\n",
       "    <tr style=\"text-align: right;\">\n",
       "      <th></th>\n",
       "      <th>VALTOT</th>\n",
       "      <th>pred_S1</th>\n",
       "      <th>pred_S2</th>\n",
       "      <th>MSE_s1</th>\n",
       "      <th>MSE_s2</th>\n",
       "    </tr>\n",
       "    <tr>\n",
       "      <th>COART</th>\n",
       "      <th></th>\n",
       "      <th></th>\n",
       "      <th></th>\n",
       "      <th></th>\n",
       "      <th></th>\n",
       "    </tr>\n",
       "  </thead>\n",
       "  <tbody>\n",
       "    <tr>\n",
       "      <th>L3108232</th>\n",
       "      <td>3.43</td>\n",
       "      <td>3.779595</td>\n",
       "      <td>3.621699</td>\n",
       "      <td>0.122217</td>\n",
       "      <td>0.036749</td>\n",
       "    </tr>\n",
       "    <tr>\n",
       "      <th>L7046980</th>\n",
       "      <td>1.94</td>\n",
       "      <td>2.650657</td>\n",
       "      <td>0.586586</td>\n",
       "      <td>0.505033</td>\n",
       "      <td>1.831729</td>\n",
       "    </tr>\n",
       "    <tr>\n",
       "      <th>L2605660</th>\n",
       "      <td>2.18</td>\n",
       "      <td>2.353234</td>\n",
       "      <td>0.869892</td>\n",
       "      <td>0.030010</td>\n",
       "      <td>1.716382</td>\n",
       "    </tr>\n",
       "    <tr>\n",
       "      <th>L6019100</th>\n",
       "      <td>9.58</td>\n",
       "      <td>10.603595</td>\n",
       "      <td>9.486956</td>\n",
       "      <td>1.047747</td>\n",
       "      <td>0.008657</td>\n",
       "    </tr>\n",
       "    <tr>\n",
       "      <th>L6706110</th>\n",
       "      <td>1.85</td>\n",
       "      <td>4.131870</td>\n",
       "      <td>0.789188</td>\n",
       "      <td>5.206931</td>\n",
       "      <td>1.125321</td>\n",
       "    </tr>\n",
       "  </tbody>\n",
       "</table>\n",
       "</div>"
      ],
      "text/plain": [
       "          VALTOT    pred_S1   pred_S2    MSE_s1    MSE_s2\n",
       "COART                                                    \n",
       "L3108232    3.43   3.779595  3.621699  0.122217  0.036749\n",
       "L7046980    1.94   2.650657  0.586586  0.505033  1.831729\n",
       "L2605660    2.18   2.353234  0.869892  0.030010  1.716382\n",
       "L6019100    9.58  10.603595  9.486956  1.047747  0.008657\n",
       "L6706110    1.85   4.131870  0.789188  5.206931  1.125321"
      ]
     },
     "execution_count": 60,
     "metadata": {},
     "output_type": "execute_result"
    }
   ],
   "source": [
    "resultset['MSE_s1'] = (resultset[target]-resultset['pred_S1'])**2\n",
    "resultset['MSE_s2'] = (resultset[target]-resultset['pred_S2'])**2\n",
    "resultset.head()"
   ]
  },
  {
   "cell_type": "code",
   "execution_count": 61,
   "metadata": {},
   "outputs": [
    {
     "data": {
      "text/html": [
       "<div>\n",
       "<style scoped>\n",
       "    .dataframe tbody tr th:only-of-type {\n",
       "        vertical-align: middle;\n",
       "    }\n",
       "\n",
       "    .dataframe tbody tr th {\n",
       "        vertical-align: top;\n",
       "    }\n",
       "\n",
       "    .dataframe thead th {\n",
       "        text-align: right;\n",
       "    }\n",
       "</style>\n",
       "<table border=\"1\" class=\"dataframe\">\n",
       "  <thead>\n",
       "    <tr style=\"text-align: right;\">\n",
       "      <th></th>\n",
       "      <th>COART</th>\n",
       "      <th>VALTOT</th>\n",
       "      <th>pred_S1</th>\n",
       "      <th>pred_S2</th>\n",
       "      <th>MSE_s1</th>\n",
       "      <th>MSE_s2</th>\n",
       "      <th>thickness</th>\n",
       "      <th>minimum_rectangle_area</th>\n",
       "      <th>bend_count</th>\n",
       "    </tr>\n",
       "  </thead>\n",
       "  <tbody>\n",
       "    <tr>\n",
       "      <th>0</th>\n",
       "      <td>L3108232</td>\n",
       "      <td>3.43</td>\n",
       "      <td>3.779595</td>\n",
       "      <td>3.621699</td>\n",
       "      <td>0.122217</td>\n",
       "      <td>0.036749</td>\n",
       "      <td>5.0</td>\n",
       "      <td>37306.523438</td>\n",
       "      <td>2</td>\n",
       "    </tr>\n",
       "    <tr>\n",
       "      <th>1</th>\n",
       "      <td>L7046980</td>\n",
       "      <td>1.94</td>\n",
       "      <td>2.650657</td>\n",
       "      <td>0.586586</td>\n",
       "      <td>0.505033</td>\n",
       "      <td>1.831729</td>\n",
       "      <td>6.0</td>\n",
       "      <td>4959.472656</td>\n",
       "      <td>1</td>\n",
       "    </tr>\n",
       "    <tr>\n",
       "      <th>2</th>\n",
       "      <td>L2605660</td>\n",
       "      <td>2.18</td>\n",
       "      <td>2.353234</td>\n",
       "      <td>0.869892</td>\n",
       "      <td>0.030010</td>\n",
       "      <td>1.716382</td>\n",
       "      <td>6.0</td>\n",
       "      <td>4882.240234</td>\n",
       "      <td>2</td>\n",
       "    </tr>\n",
       "    <tr>\n",
       "      <th>3</th>\n",
       "      <td>L6019100</td>\n",
       "      <td>9.58</td>\n",
       "      <td>10.603595</td>\n",
       "      <td>9.486956</td>\n",
       "      <td>1.047747</td>\n",
       "      <td>0.008657</td>\n",
       "      <td>6.0</td>\n",
       "      <td>147989.453125</td>\n",
       "      <td>2</td>\n",
       "    </tr>\n",
       "    <tr>\n",
       "      <th>4</th>\n",
       "      <td>L6706110</td>\n",
       "      <td>1.85</td>\n",
       "      <td>4.131870</td>\n",
       "      <td>0.789188</td>\n",
       "      <td>5.206931</td>\n",
       "      <td>1.125321</td>\n",
       "      <td>8.0</td>\n",
       "      <td>10203.738281</td>\n",
       "      <td>0</td>\n",
       "    </tr>\n",
       "  </tbody>\n",
       "</table>\n",
       "</div>"
      ],
      "text/plain": [
       "      COART  VALTOT    pred_S1   pred_S2    MSE_s1    MSE_s2  thickness  \\\n",
       "0  L3108232    3.43   3.779595  3.621699  0.122217  0.036749        5.0   \n",
       "1  L7046980    1.94   2.650657  0.586586  0.505033  1.831729        6.0   \n",
       "2  L2605660    2.18   2.353234  0.869892  0.030010  1.716382        6.0   \n",
       "3  L6019100    9.58  10.603595  9.486956  1.047747  0.008657        6.0   \n",
       "4  L6706110    1.85   4.131870  0.789188  5.206931  1.125321        8.0   \n",
       "\n",
       "   minimum_rectangle_area  bend_count  \n",
       "0            37306.523438           2  \n",
       "1             4959.472656           1  \n",
       "2             4882.240234           2  \n",
       "3           147989.453125           2  \n",
       "4            10203.738281           0  "
      ]
     },
     "execution_count": 61,
     "metadata": {},
     "output_type": "execute_result"
    }
   ],
   "source": [
    "#\n",
    "comparisonset = pd.merge(resultset.reset_index(), X_test.reset_index(), on='COART', how='inner')\n",
    "comparisonset.head()"
   ]
  },
  {
   "cell_type": "code",
   "execution_count": 62,
   "metadata": {},
   "outputs": [
    {
     "data": {
      "image/png": "[encoded data removed]",
      "text/plain": [
       "<Figure size 432x288 with 1 Axes>"
      ]
     },
     "metadata": {},
     "output_type": "display_data"
    }
   ],
   "source": [
    "# Is the error sourced by thickness ?\n",
    "df = comparisonset[['MSE_s1', 'MSE_s2', 'thickness']].groupby('thickness').mean()\n",
    "df.plot.bar()\n",
    "plt.show()\n"
   ]
  },
  {
   "cell_type": "code",
   "execution_count": 63,
   "metadata": {},
   "outputs": [
    {
     "data": {
      "image/png": "[encoded data removed]",
      "text/plain": [
       "<Figure size 432x288 with 1 Axes>"
      ]
     },
     "metadata": {},
     "output_type": "display_data"
    }
   ],
   "source": [
    "# Is the error sourced by number of errors ?\n",
    "\n",
    "# Is the error sourced by number of errors ?\n",
    "def bendgroupcalc(entry):\n",
    "    if entry == 0:\n",
    "        return '0'\n",
    "    elif entry <= 2:\n",
    "        return '1-2'\n",
    "    elif entry <= 5:\n",
    "        return '3-5'\n",
    "    else:\n",
    "        return '6+'\n",
    "    return 'None'\n",
    "\n",
    "comparisonset['bend_group'] = comparisonset['bend_count'].apply(bendgroupcalc)\n",
    "\n",
    "df = comparisonset[['MSE_s1', 'MSE_s2', 'bend_group']].groupby('bend_group').mean()\n",
    "df.plot.bar()\n",
    "plt.show()\n"
   ]
  },
  {
   "cell_type": "code",
   "execution_count": 64,
   "metadata": {},
   "outputs": [
    {
     "data": {
      "text/html": [
       "<div>\n",
       "<style scoped>\n",
       "    .dataframe tbody tr th:only-of-type {\n",
       "        vertical-align: middle;\n",
       "    }\n",
       "\n",
       "    .dataframe tbody tr th {\n",
       "        vertical-align: top;\n",
       "    }\n",
       "\n",
       "    .dataframe thead th {\n",
       "        text-align: right;\n",
       "    }\n",
       "</style>\n",
       "<table border=\"1\" class=\"dataframe\">\n",
       "  <thead>\n",
       "    <tr style=\"text-align: right;\">\n",
       "      <th></th>\n",
       "      <th>VALTOT</th>\n",
       "      <th>pred_S1</th>\n",
       "      <th>MAPE_error_s1</th>\n",
       "      <th>pred_S2</th>\n",
       "      <th>MAPE_error_s2</th>\n",
       "    </tr>\n",
       "  </thead>\n",
       "  <tbody>\n",
       "    <tr>\n",
       "      <th>0</th>\n",
       "      <td>3.43</td>\n",
       "      <td>3.779595</td>\n",
       "      <td>10.192273</td>\n",
       "      <td>3.621699</td>\n",
       "      <td>5.588904</td>\n",
       "    </tr>\n",
       "    <tr>\n",
       "      <th>1</th>\n",
       "      <td>1.94</td>\n",
       "      <td>2.650657</td>\n",
       "      <td>36.631807</td>\n",
       "      <td>0.586586</td>\n",
       "      <td>69.763594</td>\n",
       "    </tr>\n",
       "    <tr>\n",
       "      <th>2</th>\n",
       "      <td>2.18</td>\n",
       "      <td>2.353234</td>\n",
       "      <td>7.946508</td>\n",
       "      <td>0.869892</td>\n",
       "      <td>60.096688</td>\n",
       "    </tr>\n",
       "    <tr>\n",
       "      <th>3</th>\n",
       "      <td>9.58</td>\n",
       "      <td>10.603595</td>\n",
       "      <td>10.684707</td>\n",
       "      <td>9.486956</td>\n",
       "      <td>0.971234</td>\n",
       "    </tr>\n",
       "    <tr>\n",
       "      <th>4</th>\n",
       "      <td>1.85</td>\n",
       "      <td>4.131870</td>\n",
       "      <td>123.344326</td>\n",
       "      <td>0.789188</td>\n",
       "      <td>57.341172</td>\n",
       "    </tr>\n",
       "  </tbody>\n",
       "</table>\n",
       "</div>"
      ],
      "text/plain": [
       "   VALTOT    pred_S1  MAPE_error_s1   pred_S2  MAPE_error_s2\n",
       "0    3.43   3.779595      10.192273  3.621699       5.588904\n",
       "1    1.94   2.650657      36.631807  0.586586      69.763594\n",
       "2    2.18   2.353234       7.946508  0.869892      60.096688\n",
       "3    9.58  10.603595      10.684707  9.486956       0.971234\n",
       "4    1.85   4.131870     123.344326  0.789188      57.341172"
      ]
     },
     "execution_count": 64,
     "metadata": {},
     "output_type": "execute_result"
    }
   ],
   "source": [
    "mean_absolute_percentage_error\n",
    "comparisonset['MAPE_error_s1'] = comparisonset.apply(lambda x: mean_absolute_percentage_error(x[target], x['pred_S1']), axis=1)\n",
    "comparisonset['MAPE_error_s2'] = comparisonset.apply(lambda x: mean_absolute_percentage_error(x[target], x['pred_S2']), axis=1)\n",
    "comparisonset['percent_error_s1'] = ((comparisonset[target] / comparisonset['pred_S1'])-1)*100\n",
    "comparisonset['percent_error_s2'] = ((comparisonset[target] / comparisonset['pred_S2'])-1)*100\n",
    "comparisonset[[target, 'pred_S1', 'MAPE_error_s1', 'pred_S2', 'MAPE_error_s2']].head()"
   ]
  },
  {
   "cell_type": "code",
   "execution_count": 65,
   "metadata": {},
   "outputs": [
    {
     "data": {
      "text/plain": [
       "23.948454332243703"
      ]
     },
     "execution_count": 65,
     "metadata": {},
     "output_type": "execute_result"
    }
   ],
   "source": [
    "mean_absolute_percentage_error(comparisonset[target], comparisonset['pred_S2'])"
   ]
  },
  {
   "cell_type": "code",
   "execution_count": 66,
   "metadata": {},
   "outputs": [
    {
     "data": {
      "text/plain": [
       "23.94845433224368"
      ]
     },
     "execution_count": 66,
     "metadata": {},
     "output_type": "execute_result"
    }
   ],
   "source": [
    "comparisonset['MAPE_error_s2'].mean()"
   ]
  },
  {
   "cell_type": "code",
   "execution_count": 67,
   "metadata": {},
   "outputs": [
    {
     "data": {
      "text/plain": [
       "43.51657827044511"
      ]
     },
     "execution_count": 67,
     "metadata": {},
     "output_type": "execute_result"
    }
   ],
   "source": [
    "comparisonset['percent_error_s2'].mean()"
   ]
  },
  {
   "cell_type": "code",
   "execution_count": 68,
   "metadata": {},
   "outputs": [
    {
     "data": {
      "text/html": [
       "<div>\n",
       "<style scoped>\n",
       "    .dataframe tbody tr th:only-of-type {\n",
       "        vertical-align: middle;\n",
       "    }\n",
       "\n",
       "    .dataframe tbody tr th {\n",
       "        vertical-align: top;\n",
       "    }\n",
       "\n",
       "    .dataframe thead tr th {\n",
       "        text-align: left;\n",
       "    }\n",
       "\n",
       "    .dataframe thead tr:last-of-type th {\n",
       "        text-align: right;\n",
       "    }\n",
       "</style>\n",
       "<table border=\"1\" class=\"dataframe\">\n",
       "  <thead>\n",
       "    <tr>\n",
       "      <th></th>\n",
       "      <th></th>\n",
       "      <th colspan=\"2\" halign=\"left\">MSE_s2</th>\n",
       "      <th colspan=\"2\" halign=\"left\">MAPE_error_s2</th>\n",
       "      <th>COART</th>\n",
       "    </tr>\n",
       "    <tr>\n",
       "      <th></th>\n",
       "      <th></th>\n",
       "      <th>mean</th>\n",
       "      <th>max</th>\n",
       "      <th>mean</th>\n",
       "      <th>max</th>\n",
       "      <th>count</th>\n",
       "    </tr>\n",
       "    <tr>\n",
       "      <th>thickness</th>\n",
       "      <th>bend_group</th>\n",
       "      <th></th>\n",
       "      <th></th>\n",
       "      <th></th>\n",
       "      <th></th>\n",
       "      <th></th>\n",
       "    </tr>\n",
       "  </thead>\n",
       "  <tbody>\n",
       "    <tr>\n",
       "      <th rowspan=\"4\" valign=\"top\">3.0</th>\n",
       "      <th>0</th>\n",
       "      <td>1.066765</td>\n",
       "      <td>4.495775</td>\n",
       "      <td>23.980855</td>\n",
       "      <td>60.580693</td>\n",
       "      <td>8</td>\n",
       "    </tr>\n",
       "    <tr>\n",
       "      <th>1-2</th>\n",
       "      <td>1.523358</td>\n",
       "      <td>9.178677</td>\n",
       "      <td>16.502959</td>\n",
       "      <td>36.964275</td>\n",
       "      <td>12</td>\n",
       "    </tr>\n",
       "    <tr>\n",
       "      <th>3-5</th>\n",
       "      <td>1.332707</td>\n",
       "      <td>5.817351</td>\n",
       "      <td>14.436704</td>\n",
       "      <td>46.652194</td>\n",
       "      <td>10</td>\n",
       "    </tr>\n",
       "    <tr>\n",
       "      <th>6+</th>\n",
       "      <td>8.290345</td>\n",
       "      <td>11.554902</td>\n",
       "      <td>23.759130</td>\n",
       "      <td>38.848574</td>\n",
       "      <td>3</td>\n",
       "    </tr>\n",
       "    <tr>\n",
       "      <th rowspan=\"4\" valign=\"top\">4.0</th>\n",
       "      <th>0</th>\n",
       "      <td>1.589987</td>\n",
       "      <td>15.492073</td>\n",
       "      <td>24.899233</td>\n",
       "      <td>76.317642</td>\n",
       "      <td>38</td>\n",
       "    </tr>\n",
       "    <tr>\n",
       "      <th>1-2</th>\n",
       "      <td>1.694039</td>\n",
       "      <td>63.974974</td>\n",
       "      <td>18.072408</td>\n",
       "      <td>62.778200</td>\n",
       "      <td>124</td>\n",
       "    </tr>\n",
       "    <tr>\n",
       "      <th>3-5</th>\n",
       "      <td>7.969906</td>\n",
       "      <td>86.133010</td>\n",
       "      <td>14.747081</td>\n",
       "      <td>57.359624</td>\n",
       "      <td>44</td>\n",
       "    </tr>\n",
       "    <tr>\n",
       "      <th>6+</th>\n",
       "      <td>2.214076</td>\n",
       "      <td>3.831799</td>\n",
       "      <td>13.374624</td>\n",
       "      <td>21.071025</td>\n",
       "      <td>2</td>\n",
       "    </tr>\n",
       "    <tr>\n",
       "      <th rowspan=\"4\" valign=\"top\">5.0</th>\n",
       "      <th>0</th>\n",
       "      <td>1.184241</td>\n",
       "      <td>7.839245</td>\n",
       "      <td>38.937726</td>\n",
       "      <td>83.472682</td>\n",
       "      <td>60</td>\n",
       "    </tr>\n",
       "    <tr>\n",
       "      <th>1-2</th>\n",
       "      <td>5.161874</td>\n",
       "      <td>263.293674</td>\n",
       "      <td>18.730829</td>\n",
       "      <td>105.054029</td>\n",
       "      <td>95</td>\n",
       "    </tr>\n",
       "    <tr>\n",
       "      <th>3-5</th>\n",
       "      <td>12.210255</td>\n",
       "      <td>122.136376</td>\n",
       "      <td>9.636976</td>\n",
       "      <td>26.620500</td>\n",
       "      <td>33</td>\n",
       "    </tr>\n",
       "    <tr>\n",
       "      <th>6+</th>\n",
       "      <td>20.389060</td>\n",
       "      <td>67.683656</td>\n",
       "      <td>16.928100</td>\n",
       "      <td>47.942935</td>\n",
       "      <td>4</td>\n",
       "    </tr>\n",
       "    <tr>\n",
       "      <th rowspan=\"4\" valign=\"top\">6.0</th>\n",
       "      <th>0</th>\n",
       "      <td>3.182441</td>\n",
       "      <td>85.431481</td>\n",
       "      <td>37.691460</td>\n",
       "      <td>94.503283</td>\n",
       "      <td>161</td>\n",
       "    </tr>\n",
       "    <tr>\n",
       "      <th>1-2</th>\n",
       "      <td>3.459970</td>\n",
       "      <td>166.933794</td>\n",
       "      <td>30.633596</td>\n",
       "      <td>77.699453</td>\n",
       "      <td>172</td>\n",
       "    </tr>\n",
       "    <tr>\n",
       "      <th>3-5</th>\n",
       "      <td>8.700443</td>\n",
       "      <td>69.066281</td>\n",
       "      <td>14.799467</td>\n",
       "      <td>42.474247</td>\n",
       "      <td>32</td>\n",
       "    </tr>\n",
       "    <tr>\n",
       "      <th>6+</th>\n",
       "      <td>61.255929</td>\n",
       "      <td>319.166387</td>\n",
       "      <td>21.538210</td>\n",
       "      <td>28.547824</td>\n",
       "      <td>6</td>\n",
       "    </tr>\n",
       "    <tr>\n",
       "      <th rowspan=\"3\" valign=\"top\">8.0</th>\n",
       "      <th>0</th>\n",
       "      <td>2.740545</td>\n",
       "      <td>102.947544</td>\n",
       "      <td>34.568145</td>\n",
       "      <td>84.130245</td>\n",
       "      <td>150</td>\n",
       "    </tr>\n",
       "    <tr>\n",
       "      <th>1-2</th>\n",
       "      <td>2.928551</td>\n",
       "      <td>120.418195</td>\n",
       "      <td>12.071872</td>\n",
       "      <td>84.301786</td>\n",
       "      <td>123</td>\n",
       "    </tr>\n",
       "    <tr>\n",
       "      <th>3-5</th>\n",
       "      <td>1.713573</td>\n",
       "      <td>7.722472</td>\n",
       "      <td>11.276648</td>\n",
       "      <td>33.284572</td>\n",
       "      <td>27</td>\n",
       "    </tr>\n",
       "    <tr>\n",
       "      <th rowspan=\"3\" valign=\"top\">10.0</th>\n",
       "      <th>0</th>\n",
       "      <td>10.263867</td>\n",
       "      <td>291.544086</td>\n",
       "      <td>24.480522</td>\n",
       "      <td>88.415790</td>\n",
       "      <td>82</td>\n",
       "    </tr>\n",
       "    <tr>\n",
       "      <th>1-2</th>\n",
       "      <td>26.575971</td>\n",
       "      <td>309.803183</td>\n",
       "      <td>14.144377</td>\n",
       "      <td>72.768226</td>\n",
       "      <td>81</td>\n",
       "    </tr>\n",
       "    <tr>\n",
       "      <th>3-5</th>\n",
       "      <td>1.147936</td>\n",
       "      <td>2.040475</td>\n",
       "      <td>6.643624</td>\n",
       "      <td>14.414499</td>\n",
       "      <td>9</td>\n",
       "    </tr>\n",
       "    <tr>\n",
       "      <th rowspan=\"3\" valign=\"top\">12.0</th>\n",
       "      <th>0</th>\n",
       "      <td>13.680872</td>\n",
       "      <td>761.886864</td>\n",
       "      <td>22.026986</td>\n",
       "      <td>86.002624</td>\n",
       "      <td>71</td>\n",
       "    </tr>\n",
       "    <tr>\n",
       "      <th>1-2</th>\n",
       "      <td>3.457824</td>\n",
       "      <td>19.904559</td>\n",
       "      <td>14.099056</td>\n",
       "      <td>58.219961</td>\n",
       "      <td>31</td>\n",
       "    </tr>\n",
       "    <tr>\n",
       "      <th>3-5</th>\n",
       "      <td>3.401783</td>\n",
       "      <td>6.003382</td>\n",
       "      <td>10.748952</td>\n",
       "      <td>18.312258</td>\n",
       "      <td>2</td>\n",
       "    </tr>\n",
       "    <tr>\n",
       "      <th rowspan=\"3\" valign=\"top\">15.0</th>\n",
       "      <th>0</th>\n",
       "      <td>87.663105</td>\n",
       "      <td>3715.871166</td>\n",
       "      <td>24.275586</td>\n",
       "      <td>87.649107</td>\n",
       "      <td>50</td>\n",
       "    </tr>\n",
       "    <tr>\n",
       "      <th>1-2</th>\n",
       "      <td>7.400117</td>\n",
       "      <td>47.960226</td>\n",
       "      <td>10.621895</td>\n",
       "      <td>26.625653</td>\n",
       "      <td>7</td>\n",
       "    </tr>\n",
       "    <tr>\n",
       "      <th>3-5</th>\n",
       "      <td>51.540995</td>\n",
       "      <td>51.540995</td>\n",
       "      <td>30.000860</td>\n",
       "      <td>30.000860</td>\n",
       "      <td>1</td>\n",
       "    </tr>\n",
       "  </tbody>\n",
       "</table>\n",
       "</div>"
      ],
      "text/plain": [
       "                         MSE_s2              MAPE_error_s2             COART\n",
       "                           mean          max          mean         max count\n",
       "thickness bend_group                                                        \n",
       "3.0       0            1.066765     4.495775     23.980855   60.580693     8\n",
       "          1-2          1.523358     9.178677     16.502959   36.964275    12\n",
       "          3-5          1.332707     5.817351     14.436704   46.652194    10\n",
       "          6+           8.290345    11.554902     23.759130   38.848574     3\n",
       "4.0       0            1.589987    15.492073     24.899233   76.317642    38\n",
       "          1-2          1.694039    63.974974     18.072408   62.778200   124\n",
       "          3-5          7.969906    86.133010     14.747081   57.359624    44\n",
       "          6+           2.214076     3.831799     13.374624   21.071025     2\n",
       "5.0       0            1.184241     7.839245     38.937726   83.472682    60\n",
       "          1-2          5.161874   263.293674     18.730829  105.054029    95\n",
       "          3-5         12.210255   122.136376      9.636976   26.620500    33\n",
       "          6+          20.389060    67.683656     16.928100   47.942935     4\n",
       "6.0       0            3.182441    85.431481     37.691460   94.503283   161\n",
       "          1-2          3.459970   166.933794     30.633596   77.699453   172\n",
       "          3-5          8.700443    69.066281     14.799467   42.474247    32\n",
       "          6+          61.255929   319.166387     21.538210   28.547824     6\n",
       "8.0       0            2.740545   102.947544     34.568145   84.130245   150\n",
       "          1-2          2.928551   120.418195     12.071872   84.301786   123\n",
       "          3-5          1.713573     7.722472     11.276648   33.284572    27\n",
       "10.0      0           10.263867   291.544086     24.480522   88.415790    82\n",
       "          1-2         26.575971   309.803183     14.144377   72.768226    81\n",
       "          3-5          1.147936     2.040475      6.643624   14.414499     9\n",
       "12.0      0           13.680872   761.886864     22.026986   86.002624    71\n",
       "          1-2          3.457824    19.904559     14.099056   58.219961    31\n",
       "          3-5          3.401783     6.003382     10.748952   18.312258     2\n",
       "15.0      0           87.663105  3715.871166     24.275586   87.649107    50\n",
       "          1-2          7.400117    47.960226     10.621895   26.625653     7\n",
       "          3-5         51.540995    51.540995     30.000860   30.000860     1"
      ]
     },
     "execution_count": 68,
     "metadata": {},
     "output_type": "execute_result"
    }
   ],
   "source": [
    "df = comparisonset[['MSE_s2', 'MAPE_error_s2', 'thickness', 'bend_group', 'COART']].groupby(['thickness', 'bend_group'])#.mean()\n",
    "df.agg({'MSE_s2': ['mean', 'max'], 'MAPE_error_s2': ['mean', 'max'],'COART':['count'] })"
   ]
  },
  {
   "cell_type": "code",
   "execution_count": null,
   "metadata": {},
   "outputs": [],
   "source": []
  },
  {
   "cell_type": "code",
   "execution_count": 71,
   "metadata": {},
   "outputs": [
    {
     "data": {
      "image/png": "[encoded data removed]",
      "text/plain": [
       "<Figure size 1080x720 with 1 Axes>"
      ]
     },
     "metadata": {},
     "output_type": "display_data"
    }
   ],
   "source": [
    "df=comparisonset[[target, 'MSE_s2', 'COART', 'thickness']]\n",
    "#df=df[df['thickness']!=15]\n",
    "df.set_index(['COART', 'thickness'], inplace=True)\n",
    "df = df.stack().reset_index()\n",
    "fig, ax = plt.subplots(figsize=(15,10))\n",
    "ax.set_ylim(-20, 50)\n",
    "sns.violinplot(x=\"thickness\", y=0, data=df, split=True, hue='level_2', ax=ax)\n",
    "\n",
    "plt.show()"
   ]
  },
  {
   "cell_type": "code",
   "execution_count": null,
   "metadata": {},
   "outputs": [],
   "source": []
  },
  {
   "cell_type": "code",
   "execution_count": 72,
   "metadata": {},
   "outputs": [
    {
     "data": {
      "text/plain": [
       "thickness  COART   \n",
       "3.0        L7061530      11.554902\n",
       "           L8033291      11.459347\n",
       "           L8407220       9.178677\n",
       "4.0        L8807311      86.133010\n",
       "           L6703400      64.659738\n",
       "           L1608640      63.974974\n",
       "5.0        L8415700     263.293674\n",
       "           L6704710     122.136376\n",
       "           L8834210     110.887882\n",
       "6.0        L3052760     319.166387\n",
       "           L7017601     166.933794\n",
       "           L7066120      85.599678\n",
       "8.0        L2607600     120.418195\n",
       "           L2607690     102.947544\n",
       "           L7080610      67.161201\n",
       "10.0       L3063340     309.803183\n",
       "           L3059100     309.358105\n",
       "           L3063330     306.993386\n",
       "12.0       L3050120     761.886864\n",
       "           L7047481      80.317851\n",
       "           L2521480      22.689097\n",
       "15.0       L3119180    3715.871166\n",
       "           L8833300     248.912846\n",
       "           L2512080     133.803507\n",
       "Name: MSE_s2, dtype: float64"
      ]
     },
     "execution_count": 72,
     "metadata": {},
     "output_type": "execute_result"
    }
   ],
   "source": [
    "df = comparisonset[['MSE_s2', 'COART', 'thickness']]\n",
    "df.set_index('COART', inplace=True)\n",
    "worst = df.groupby('thickness')['MSE_s2'].nlargest(3)\n",
    "worst\n",
    "#worst.to_csv('worst_s0.csv')"
   ]
  },
  {
   "cell_type": "code",
   "execution_count": null,
   "metadata": {},
   "outputs": [],
   "source": []
  }
 ],
 "metadata": {
  "kernelspec": {
   "display_name": "Python 3",
   "language": "python",
   "name": "python3"
  },
  "language_info": {
   "codemirror_mode": {
    "name": "ipython",
    "version": 3
   },
   "file_extension": ".py",
   "mimetype": "text/x-python",
   "name": "python",
   "nbconvert_exporter": "python",
   "pygments_lexer": "ipython3",
   "version": "3.6.4"
  }
 },
 "nbformat": 4,
 "nbformat_minor": 2
}
