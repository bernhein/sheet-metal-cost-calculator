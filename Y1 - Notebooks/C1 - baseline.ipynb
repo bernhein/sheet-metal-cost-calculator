{
 "cells": [
  {
   "cell_type": "code",
   "execution_count": 1,
   "metadata": {},
   "outputs": [],
   "source": [
    "import numpy as np\n",
    "import pandas as pd\n",
    "import matplotlib.pyplot as plt\n",
    "import seaborn as sns"
   ]
  },
  {
   "cell_type": "markdown",
   "metadata": {},
   "source": [
    "# Dataset loading"
   ]
  },
  {
   "cell_type": "code",
   "execution_count": 54,
   "metadata": {},
   "outputs": [
    {
     "name": "stdout",
     "output_type": "stream",
     "text": [
      "dataset shape: (5401, 535)\n"
     ]
    },
    {
     "data": {
      "text/html": [
       "<div>\n",
       "<style scoped>\n",
       "    .dataframe tbody tr th:only-of-type {\n",
       "        vertical-align: middle;\n",
       "    }\n",
       "\n",
       "    .dataframe tbody tr th {\n",
       "        vertical-align: top;\n",
       "    }\n",
       "\n",
       "    .dataframe thead th {\n",
       "        text-align: right;\n",
       "    }\n",
       "</style>\n",
       "<table border=\"1\" class=\"dataframe\">\n",
       "  <thead>\n",
       "    <tr style=\"text-align: right;\">\n",
       "      <th></th>\n",
       "      <th>cut_length</th>\n",
       "      <th>num_closed_patterns</th>\n",
       "      <th>num_open_patterns</th>\n",
       "      <th>total_area</th>\n",
       "      <th>minimum_rectangle_area</th>\n",
       "      <th>minimum_rectangle_dim1</th>\n",
       "      <th>minimum_rectangle_dim2</th>\n",
       "      <th>convex_hull_area</th>\n",
       "      <th>no_hole_area</th>\n",
       "      <th>thickness</th>\n",
       "      <th>...</th>\n",
       "      <th>thick_12.0</th>\n",
       "      <th>thick_15.0</th>\n",
       "      <th>thick_20.0</th>\n",
       "      <th>VAMAT</th>\n",
       "      <th>VALAJOUT</th>\n",
       "      <th>VALTOT</th>\n",
       "      <th>VOL_COST_CONVHULL</th>\n",
       "      <th>VOL_COST_RECTANGLE</th>\n",
       "      <th>VOL_COST_MPATTERN</th>\n",
       "      <th>bend_group</th>\n",
       "    </tr>\n",
       "    <tr>\n",
       "      <th>COART</th>\n",
       "      <th></th>\n",
       "      <th></th>\n",
       "      <th></th>\n",
       "      <th></th>\n",
       "      <th></th>\n",
       "      <th></th>\n",
       "      <th></th>\n",
       "      <th></th>\n",
       "      <th></th>\n",
       "      <th></th>\n",
       "      <th></th>\n",
       "      <th></th>\n",
       "      <th></th>\n",
       "      <th></th>\n",
       "      <th></th>\n",
       "      <th></th>\n",
       "      <th></th>\n",
       "      <th></th>\n",
       "      <th></th>\n",
       "      <th></th>\n",
       "      <th></th>\n",
       "    </tr>\n",
       "  </thead>\n",
       "  <tbody>\n",
       "    <tr>\n",
       "      <th>L1600360</th>\n",
       "      <td>3178.489502</td>\n",
       "      <td>9</td>\n",
       "      <td>0</td>\n",
       "      <td>285678.093750</td>\n",
       "      <td>431798.46875</td>\n",
       "      <td>722.070984</td>\n",
       "      <td>598.000000</td>\n",
       "      <td>320484.593750</td>\n",
       "      <td>286893.718750</td>\n",
       "      <td>4.0</td>\n",
       "      <td>...</td>\n",
       "      <td>0</td>\n",
       "      <td>0</td>\n",
       "      <td>0</td>\n",
       "      <td>12.51</td>\n",
       "      <td>5.15</td>\n",
       "      <td>17.66</td>\n",
       "      <td>0.000010</td>\n",
       "      <td>0.000007</td>\n",
       "      <td>0.000011</td>\n",
       "      <td>3-5</td>\n",
       "    </tr>\n",
       "    <tr>\n",
       "      <th>L1600470</th>\n",
       "      <td>317.114502</td>\n",
       "      <td>1</td>\n",
       "      <td>0</td>\n",
       "      <td>3403.138184</td>\n",
       "      <td>3500.00000</td>\n",
       "      <td>140.000000</td>\n",
       "      <td>25.000000</td>\n",
       "      <td>3403.138184</td>\n",
       "      <td>3403.138184</td>\n",
       "      <td>10.0</td>\n",
       "      <td>...</td>\n",
       "      <td>0</td>\n",
       "      <td>0</td>\n",
       "      <td>0</td>\n",
       "      <td>0.25</td>\n",
       "      <td>0.92</td>\n",
       "      <td>1.17</td>\n",
       "      <td>0.000007</td>\n",
       "      <td>0.000007</td>\n",
       "      <td>0.000007</td>\n",
       "      <td>0</td>\n",
       "    </tr>\n",
       "    <tr>\n",
       "      <th>L1600600</th>\n",
       "      <td>3710.627930</td>\n",
       "      <td>1</td>\n",
       "      <td>0</td>\n",
       "      <td>522587.812500</td>\n",
       "      <td>522587.81250</td>\n",
       "      <td>1509.000000</td>\n",
       "      <td>346.313995</td>\n",
       "      <td>522587.812500</td>\n",
       "      <td>522587.812500</td>\n",
       "      <td>3.0</td>\n",
       "      <td>...</td>\n",
       "      <td>0</td>\n",
       "      <td>0</td>\n",
       "      <td>0</td>\n",
       "      <td>18.36</td>\n",
       "      <td>7.55</td>\n",
       "      <td>25.91</td>\n",
       "      <td>0.000012</td>\n",
       "      <td>0.000012</td>\n",
       "      <td>0.000012</td>\n",
       "      <td>1-2</td>\n",
       "    </tr>\n",
       "    <tr>\n",
       "      <th>L1600610</th>\n",
       "      <td>3232.627930</td>\n",
       "      <td>1</td>\n",
       "      <td>0</td>\n",
       "      <td>439818.781250</td>\n",
       "      <td>439818.78125</td>\n",
       "      <td>1270.000000</td>\n",
       "      <td>346.313995</td>\n",
       "      <td>439818.781250</td>\n",
       "      <td>439818.781250</td>\n",
       "      <td>3.0</td>\n",
       "      <td>...</td>\n",
       "      <td>0</td>\n",
       "      <td>0</td>\n",
       "      <td>0</td>\n",
       "      <td>9.18</td>\n",
       "      <td>4.77</td>\n",
       "      <td>13.95</td>\n",
       "      <td>0.000007</td>\n",
       "      <td>0.000007</td>\n",
       "      <td>0.000007</td>\n",
       "      <td>1-2</td>\n",
       "    </tr>\n",
       "    <tr>\n",
       "      <th>L1600620</th>\n",
       "      <td>2972.627930</td>\n",
       "      <td>1</td>\n",
       "      <td>0</td>\n",
       "      <td>394797.968750</td>\n",
       "      <td>394797.96875</td>\n",
       "      <td>1140.000000</td>\n",
       "      <td>346.313995</td>\n",
       "      <td>394797.968750</td>\n",
       "      <td>394797.968750</td>\n",
       "      <td>3.0</td>\n",
       "      <td>...</td>\n",
       "      <td>0</td>\n",
       "      <td>0</td>\n",
       "      <td>0</td>\n",
       "      <td>9.18</td>\n",
       "      <td>4.65</td>\n",
       "      <td>13.83</td>\n",
       "      <td>0.000008</td>\n",
       "      <td>0.000008</td>\n",
       "      <td>0.000008</td>\n",
       "      <td>1-2</td>\n",
       "    </tr>\n",
       "  </tbody>\n",
       "</table>\n",
       "<p>5 rows × 535 columns</p>\n",
       "</div>"
      ],
      "text/plain": [
       "           cut_length  num_closed_patterns  num_open_patterns     total_area  \\\n",
       "COART                                                                          \n",
       "L1600360  3178.489502                    9                  0  285678.093750   \n",
       "L1600470   317.114502                    1                  0    3403.138184   \n",
       "L1600600  3710.627930                    1                  0  522587.812500   \n",
       "L1600610  3232.627930                    1                  0  439818.781250   \n",
       "L1600620  2972.627930                    1                  0  394797.968750   \n",
       "\n",
       "          minimum_rectangle_area  minimum_rectangle_dim1  \\\n",
       "COART                                                      \n",
       "L1600360            431798.46875              722.070984   \n",
       "L1600470              3500.00000              140.000000   \n",
       "L1600600            522587.81250             1509.000000   \n",
       "L1600610            439818.78125             1270.000000   \n",
       "L1600620            394797.96875             1140.000000   \n",
       "\n",
       "          minimum_rectangle_dim2  convex_hull_area   no_hole_area  thickness  \\\n",
       "COART                                                                          \n",
       "L1600360              598.000000     320484.593750  286893.718750        4.0   \n",
       "L1600470               25.000000       3403.138184    3403.138184       10.0   \n",
       "L1600600              346.313995     522587.812500  522587.812500        3.0   \n",
       "L1600610              346.313995     439818.781250  439818.781250        3.0   \n",
       "L1600620              346.313995     394797.968750  394797.968750        3.0   \n",
       "\n",
       "             ...      thick_12.0  thick_15.0  thick_20.0  VAMAT  VALAJOUT  \\\n",
       "COART        ...                                                            \n",
       "L1600360     ...               0           0           0  12.51      5.15   \n",
       "L1600470     ...               0           0           0   0.25      0.92   \n",
       "L1600600     ...               0           0           0  18.36      7.55   \n",
       "L1600610     ...               0           0           0   9.18      4.77   \n",
       "L1600620     ...               0           0           0   9.18      4.65   \n",
       "\n",
       "          VALTOT  VOL_COST_CONVHULL  VOL_COST_RECTANGLE  VOL_COST_MPATTERN  \\\n",
       "COART                                                                        \n",
       "L1600360   17.66           0.000010            0.000007           0.000011   \n",
       "L1600470    1.17           0.000007            0.000007           0.000007   \n",
       "L1600600   25.91           0.000012            0.000012           0.000012   \n",
       "L1600610   13.95           0.000007            0.000007           0.000007   \n",
       "L1600620   13.83           0.000008            0.000008           0.000008   \n",
       "\n",
       "          bend_group  \n",
       "COART                 \n",
       "L1600360         3-5  \n",
       "L1600470           0  \n",
       "L1600600         1-2  \n",
       "L1600610         1-2  \n",
       "L1600620         1-2  \n",
       "\n",
       "[5 rows x 535 columns]"
      ]
     },
     "execution_count": 54,
     "metadata": {},
     "output_type": "execute_result"
    }
   ],
   "source": [
    "dataset = pd.read_csv('../Y3 - Sample data/Z2 - datasetprepclean.csv', index_col = 0,\n",
    "                     )\n",
    "print('dataset shape:', dataset.shape)\n",
    "dataset.head()"
   ]
  },
  {
   "cell_type": "code",
   "execution_count": 55,
   "metadata": {},
   "outputs": [],
   "source": [
    "#dataset.columns.values"
   ]
  },
  {
   "cell_type": "code",
   "execution_count": 56,
   "metadata": {},
   "outputs": [
    {
     "name": "stdout",
     "output_type": "stream",
     "text": [
      "benddxf_deformation_length_00 --> 262\n",
      "benddxf_deformation_length_01 --> 123\n",
      "benddxf_deformation_length_02 --> 19\n",
      "benddxf_deformation_length_03 --> 6\n",
      "benddxf_deformation_length_04 --> 1\n",
      "benddxf_deformation_length_05 --> 1\n",
      "temp --> 5326\n",
      "Done !\n"
     ]
    },
    {
     "data": {
      "text/plain": [
       "(5401, 535)"
      ]
     },
     "execution_count": 56,
     "metadata": {},
     "output_type": "execute_result"
    }
   ],
   "source": [
    "for index, nancount in dataset.isnull().sum().iteritems():\n",
    "    if nancount != 0:\n",
    "        print(index, '-->', nancount)\n",
    "else:\n",
    "    print('Done !')\n",
    "dataset.shape"
   ]
  },
  {
   "cell_type": "code",
   "execution_count": 57,
   "metadata": {},
   "outputs": [
    {
     "data": {
      "text/plain": [
       "(5401, 535)"
      ]
     },
     "execution_count": 57,
     "metadata": {},
     "output_type": "execute_result"
    }
   ],
   "source": [
    "#Cleaning of the remaining Nan\n",
    "\n",
    "subset = [x for x in dataset.columns.values if x.startswith('bend_gr_')]\n",
    "\n",
    "#dataset = dataset.fillna(0)\n",
    "dataset = dataset.dropna(subset=subset)\n",
    "dataset.shape"
   ]
  },
  {
   "cell_type": "markdown",
   "metadata": {},
   "source": [
    "# cleaning to have at least min occurences"
   ]
  },
  {
   "cell_type": "code",
   "execution_count": 58,
   "metadata": {},
   "outputs": [
    {
     "data": {
      "text/plain": [
       "(5358, 535)"
      ]
     },
     "execution_count": 58,
     "metadata": {},
     "output_type": "execute_result"
    }
   ],
   "source": [
    "minocc = 50\n",
    "todrop = []\n",
    "df = dataset['thickness'].reset_index().groupby('thickness').count()\n",
    "for index, occ in df.iterrows():\n",
    "    if occ.COART <= minocc:\n",
    "        todrop.append(index)\n",
    "\n",
    "for thickness in todrop:\n",
    "    dataset = dataset[dataset['thickness'] != thickness]\n",
    "dataset.shape"
   ]
  },
  {
   "cell_type": "markdown",
   "metadata": {},
   "source": [
    "# Dataset re-ordering and Splitting"
   ]
  },
  {
   "cell_type": "markdown",
   "metadata": {},
   "source": [
    "The baseline will be defined with the 3 core factors:\n",
    "- Thickness\n",
    "- Area\n",
    "- Number of bends"
   ]
  },
  {
   "cell_type": "code",
   "execution_count": 59,
   "metadata": {},
   "outputs": [],
   "source": [
    "#Dataset definition\n",
    "X = dataset[['thickness', 'minimum_rectangle_area', 'bend_count']]\n",
    "y = dataset[['VAMAT', 'VALAJOUT', 'VALTOT']]\n",
    "\n",
    "limitedset = ['thickness', 'minimum_rectangle_area', 'bend_count']\n"
   ]
  },
  {
   "cell_type": "markdown",
   "metadata": {},
   "source": [
    "# Target definition"
   ]
  },
  {
   "cell_type": "code",
   "execution_count": 61,
   "metadata": {},
   "outputs": [],
   "source": [
    "target = 'VAMAT'\n",
    "assert target in y.columns.values, 'The target must be in y dataset'"
   ]
  },
  {
   "cell_type": "markdown",
   "metadata": {},
   "source": [
    "# Outlier tracking - VAMAT"
   ]
  },
  {
   "cell_type": "code",
   "execution_count": 62,
   "metadata": {},
   "outputs": [],
   "source": [
    "toplimit = .97 #We drop the top 3%\n",
    "botlimit = .02 #we drop the bottom 2%"
   ]
  },
  {
   "cell_type": "code",
   "execution_count": 63,
   "metadata": {},
   "outputs": [],
   "source": [
    "#Surface cost calculation, quantile decomposition\n",
    "\n",
    "#dataset['SURF_COST_CONVHULL'] = dataset['VAMAT'] / dataset['convex_hull_area']\n",
    "dataset['SURF_COST_RECTANGLE'] = dataset['VAMAT'] / dataset['minimum_rectangle_area']\n",
    "#dataset['SURF_COST_MPATTERN'] = dataset['VAMAT'] / dataset['no_hole_area']\n",
    "#dataset['SURF_COST_TOTAREA'] = dataset['VAMAT'] / dataset['total_area']"
   ]
  },
  {
   "cell_type": "code",
   "execution_count": 64,
   "metadata": {},
   "outputs": [
    {
     "data": {
      "image/png": "[encoded data removed]",
      "text/plain": [
       "<Figure size 432x288 with 1 Axes>"
      ]
     },
     "metadata": {},
     "output_type": "display_data"
    }
   ],
   "source": [
    "df = dataset[dataset['thickness'] == 5]\n",
    "df['SURF_COST_RECTANGLE'].plot.hist(bins=50)\n",
    "plt.show()"
   ]
  },
  {
   "cell_type": "code",
   "execution_count": 65,
   "metadata": {},
   "outputs": [
    {
     "data": {
      "text/html": [
       "<div>\n",
       "<style scoped>\n",
       "    .dataframe tbody tr th:only-of-type {\n",
       "        vertical-align: middle;\n",
       "    }\n",
       "\n",
       "    .dataframe tbody tr th {\n",
       "        vertical-align: top;\n",
       "    }\n",
       "\n",
       "    .dataframe thead th {\n",
       "        text-align: right;\n",
       "    }\n",
       "</style>\n",
       "<table border=\"1\" class=\"dataframe\">\n",
       "  <thead>\n",
       "    <tr style=\"text-align: right;\">\n",
       "      <th></th>\n",
       "      <th></th>\n",
       "      <th>SURF_COST_RECTANGLE</th>\n",
       "    </tr>\n",
       "    <tr>\n",
       "      <th>thickness</th>\n",
       "      <th></th>\n",
       "      <th></th>\n",
       "    </tr>\n",
       "  </thead>\n",
       "  <tbody>\n",
       "    <tr>\n",
       "      <th rowspan=\"2\" valign=\"top\">2.0</th>\n",
       "      <th>0.02</th>\n",
       "      <td>0.000011</td>\n",
       "    </tr>\n",
       "    <tr>\n",
       "      <th>0.97</th>\n",
       "      <td>0.000028</td>\n",
       "    </tr>\n",
       "    <tr>\n",
       "      <th rowspan=\"2\" valign=\"top\">3.0</th>\n",
       "      <th>0.02</th>\n",
       "      <td>0.000017</td>\n",
       "    </tr>\n",
       "    <tr>\n",
       "      <th>0.97</th>\n",
       "      <td>0.000049</td>\n",
       "    </tr>\n",
       "    <tr>\n",
       "      <th rowspan=\"2\" valign=\"top\">4.0</th>\n",
       "      <th>0.02</th>\n",
       "      <td>0.000020</td>\n",
       "    </tr>\n",
       "    <tr>\n",
       "      <th>0.97</th>\n",
       "      <td>0.000054</td>\n",
       "    </tr>\n",
       "    <tr>\n",
       "      <th rowspan=\"2\" valign=\"top\">5.0</th>\n",
       "      <th>0.02</th>\n",
       "      <td>0.000025</td>\n",
       "    </tr>\n",
       "    <tr>\n",
       "      <th>0.97</th>\n",
       "      <td>0.000053</td>\n",
       "    </tr>\n",
       "    <tr>\n",
       "      <th rowspan=\"2\" valign=\"top\">6.0</th>\n",
       "      <th>0.02</th>\n",
       "      <td>0.000029</td>\n",
       "    </tr>\n",
       "    <tr>\n",
       "      <th>0.97</th>\n",
       "      <td>0.000079</td>\n",
       "    </tr>\n",
       "    <tr>\n",
       "      <th rowspan=\"2\" valign=\"top\">8.0</th>\n",
       "      <th>0.02</th>\n",
       "      <td>0.000041</td>\n",
       "    </tr>\n",
       "    <tr>\n",
       "      <th>0.97</th>\n",
       "      <td>0.000101</td>\n",
       "    </tr>\n",
       "    <tr>\n",
       "      <th rowspan=\"2\" valign=\"top\">10.0</th>\n",
       "      <th>0.02</th>\n",
       "      <td>0.000048</td>\n",
       "    </tr>\n",
       "    <tr>\n",
       "      <th>0.97</th>\n",
       "      <td>0.000132</td>\n",
       "    </tr>\n",
       "    <tr>\n",
       "      <th rowspan=\"2\" valign=\"top\">12.0</th>\n",
       "      <th>0.02</th>\n",
       "      <td>0.000045</td>\n",
       "    </tr>\n",
       "    <tr>\n",
       "      <th>0.97</th>\n",
       "      <td>0.000138</td>\n",
       "    </tr>\n",
       "    <tr>\n",
       "      <th rowspan=\"2\" valign=\"top\">15.0</th>\n",
       "      <th>0.02</th>\n",
       "      <td>0.000059</td>\n",
       "    </tr>\n",
       "    <tr>\n",
       "      <th>0.97</th>\n",
       "      <td>0.000154</td>\n",
       "    </tr>\n",
       "  </tbody>\n",
       "</table>\n",
       "</div>"
      ],
      "text/plain": [
       "                SURF_COST_RECTANGLE\n",
       "thickness                          \n",
       "2.0       0.02             0.000011\n",
       "          0.97             0.000028\n",
       "3.0       0.02             0.000017\n",
       "          0.97             0.000049\n",
       "4.0       0.02             0.000020\n",
       "          0.97             0.000054\n",
       "5.0       0.02             0.000025\n",
       "          0.97             0.000053\n",
       "6.0       0.02             0.000029\n",
       "          0.97             0.000079\n",
       "8.0       0.02             0.000041\n",
       "          0.97             0.000101\n",
       "10.0      0.02             0.000048\n",
       "          0.97             0.000132\n",
       "12.0      0.02             0.000045\n",
       "          0.97             0.000138\n",
       "15.0      0.02             0.000059\n",
       "          0.97             0.000154"
      ]
     },
     "execution_count": 65,
     "metadata": {},
     "output_type": "execute_result"
    }
   ],
   "source": [
    "#quantile decomposition\n",
    "df=dataset[['thickness', 'SURF_COST_RECTANGLE']].groupby('thickness').quantile([botlimit,toplimit])\n",
    "df"
   ]
  },
  {
   "cell_type": "code",
   "execution_count": 66,
   "metadata": {},
   "outputs": [
    {
     "data": {
      "text/plain": [
       "(5088, 536)"
      ]
     },
     "execution_count": 66,
     "metadata": {},
     "output_type": "execute_result"
    }
   ],
   "source": [
    "# If vamat is target, cleaning\n",
    "if target == 'VAMAT' or target == 'VALTOT':\n",
    "    for (thickness, limit), value in df.iterrows():\n",
    "        tresh = value.values[0]\n",
    "        if limit == botlimit:\n",
    "            mask = np.logical_and(dataset['thickness'] == thickness, dataset[df.columns.values[0]] < tresh)\n",
    "            dataset = dataset[np.logical_not(mask)]\n",
    "        elif limit == toplimit:\n",
    "            mask = np.logical_and(dataset['thickness'] == thickness, dataset[df.columns.values[0]] > tresh)\n",
    "            dataset = dataset[np.logical_not(mask)]\n",
    "        #print((thickness, limit), tresh)\n",
    "\n",
    "dataset.shape"
   ]
  },
  {
   "cell_type": "code",
   "execution_count": 67,
   "metadata": {},
   "outputs": [
    {
     "data": {
      "image/png": "[encoded data removed]",
      "text/plain": [
       "<Figure size 432x288 with 1 Axes>"
      ]
     },
     "metadata": {},
     "output_type": "display_data"
    }
   ],
   "source": [
    "df = dataset[dataset['thickness'] == 6]\n",
    "df['SURF_COST_RECTANGLE'].plot.hist(bins=50)\n",
    "plt.show()"
   ]
  },
  {
   "cell_type": "markdown",
   "metadata": {},
   "source": [
    "# Outlier tracking - VALAJOUT"
   ]
  },
  {
   "cell_type": "code",
   "execution_count": 68,
   "metadata": {},
   "outputs": [],
   "source": [
    "toplimit = .95 #We drop the top 5%\n",
    "botlimit = .02 #we drop the bottom 2%"
   ]
  },
  {
   "cell_type": "code",
   "execution_count": 69,
   "metadata": {},
   "outputs": [],
   "source": [
    "#Cost per bend calculation\n",
    "\n",
    "dataset['APPROX_BEND_COST'] = dataset['VALAJOUT'] / (dataset['bend_count']+1)"
   ]
  },
  {
   "cell_type": "code",
   "execution_count": 70,
   "metadata": {},
   "outputs": [
    {
     "data": {
      "image/png": "[encoded data removed]",
      "text/plain": [
       "<Figure size 432x288 with 1 Axes>"
      ]
     },
     "metadata": {},
     "output_type": "display_data"
    }
   ],
   "source": [
    "df = dataset[dataset['thickness'] == 6]\n",
    "df[df.columns.values[0]].plot.hist(bins=50)\n",
    "plt.show()"
   ]
  },
  {
   "cell_type": "code",
   "execution_count": 71,
   "metadata": {},
   "outputs": [
    {
     "data": {
      "text/html": [
       "<div>\n",
       "<style scoped>\n",
       "    .dataframe tbody tr th:only-of-type {\n",
       "        vertical-align: middle;\n",
       "    }\n",
       "\n",
       "    .dataframe tbody tr th {\n",
       "        vertical-align: top;\n",
       "    }\n",
       "\n",
       "    .dataframe thead th {\n",
       "        text-align: right;\n",
       "    }\n",
       "</style>\n",
       "<table border=\"1\" class=\"dataframe\">\n",
       "  <thead>\n",
       "    <tr style=\"text-align: right;\">\n",
       "      <th></th>\n",
       "      <th></th>\n",
       "      <th></th>\n",
       "      <th>APPROX_BEND_COST</th>\n",
       "    </tr>\n",
       "    <tr>\n",
       "      <th>thickness</th>\n",
       "      <th>bend_count</th>\n",
       "      <th></th>\n",
       "      <th></th>\n",
       "    </tr>\n",
       "  </thead>\n",
       "  <tbody>\n",
       "    <tr>\n",
       "      <th rowspan=\"22\" valign=\"top\">2.0</th>\n",
       "      <th rowspan=\"2\" valign=\"top\">0</th>\n",
       "      <th>0.02</th>\n",
       "      <td>0.706400</td>\n",
       "    </tr>\n",
       "    <tr>\n",
       "      <th>0.95</th>\n",
       "      <td>6.994000</td>\n",
       "    </tr>\n",
       "    <tr>\n",
       "      <th rowspan=\"2\" valign=\"top\">1</th>\n",
       "      <th>0.02</th>\n",
       "      <td>0.523400</td>\n",
       "    </tr>\n",
       "    <tr>\n",
       "      <th>0.95</th>\n",
       "      <td>2.293750</td>\n",
       "    </tr>\n",
       "    <tr>\n",
       "      <th rowspan=\"2\" valign=\"top\">2</th>\n",
       "      <th>0.02</th>\n",
       "      <td>0.248533</td>\n",
       "    </tr>\n",
       "    <tr>\n",
       "      <th>0.95</th>\n",
       "      <td>2.147333</td>\n",
       "    </tr>\n",
       "    <tr>\n",
       "      <th rowspan=\"2\" valign=\"top\">3</th>\n",
       "      <th>0.02</th>\n",
       "      <td>0.624250</td>\n",
       "    </tr>\n",
       "    <tr>\n",
       "      <th>0.95</th>\n",
       "      <td>2.315000</td>\n",
       "    </tr>\n",
       "    <tr>\n",
       "      <th rowspan=\"2\" valign=\"top\">4</th>\n",
       "      <th>0.02</th>\n",
       "      <td>0.576240</td>\n",
       "    </tr>\n",
       "    <tr>\n",
       "      <th>0.95</th>\n",
       "      <td>2.126900</td>\n",
       "    </tr>\n",
       "    <tr>\n",
       "      <th rowspan=\"2\" valign=\"top\">5</th>\n",
       "      <th>0.02</th>\n",
       "      <td>0.258333</td>\n",
       "    </tr>\n",
       "    <tr>\n",
       "      <th>0.95</th>\n",
       "      <td>2.060000</td>\n",
       "    </tr>\n",
       "    <tr>\n",
       "      <th rowspan=\"2\" valign=\"top\">6</th>\n",
       "      <th>0.02</th>\n",
       "      <td>0.703314</td>\n",
       "    </tr>\n",
       "    <tr>\n",
       "      <th>0.95</th>\n",
       "      <td>1.496000</td>\n",
       "    </tr>\n",
       "    <tr>\n",
       "      <th rowspan=\"2\" valign=\"top\">7</th>\n",
       "      <th>0.02</th>\n",
       "      <td>0.698875</td>\n",
       "    </tr>\n",
       "    <tr>\n",
       "      <th>0.95</th>\n",
       "      <td>1.446875</td>\n",
       "    </tr>\n",
       "    <tr>\n",
       "      <th rowspan=\"2\" valign=\"top\">8</th>\n",
       "      <th>0.02</th>\n",
       "      <td>0.782978</td>\n",
       "    </tr>\n",
       "    <tr>\n",
       "      <th>0.95</th>\n",
       "      <td>2.421111</td>\n",
       "    </tr>\n",
       "    <tr>\n",
       "      <th rowspan=\"2\" valign=\"top\">9</th>\n",
       "      <th>0.02</th>\n",
       "      <td>0.639000</td>\n",
       "    </tr>\n",
       "    <tr>\n",
       "      <th>0.95</th>\n",
       "      <td>0.639000</td>\n",
       "    </tr>\n",
       "    <tr>\n",
       "      <th rowspan=\"2\" valign=\"top\">14</th>\n",
       "      <th>0.02</th>\n",
       "      <td>0.502000</td>\n",
       "    </tr>\n",
       "    <tr>\n",
       "      <th>0.95</th>\n",
       "      <td>0.502000</td>\n",
       "    </tr>\n",
       "    <tr>\n",
       "      <th rowspan=\"8\" valign=\"top\">3.0</th>\n",
       "      <th rowspan=\"2\" valign=\"top\">0</th>\n",
       "      <th>0.02</th>\n",
       "      <td>0.217600</td>\n",
       "    </tr>\n",
       "    <tr>\n",
       "      <th>0.95</th>\n",
       "      <td>6.584000</td>\n",
       "    </tr>\n",
       "    <tr>\n",
       "      <th rowspan=\"2\" valign=\"top\">1</th>\n",
       "      <th>0.02</th>\n",
       "      <td>0.444600</td>\n",
       "    </tr>\n",
       "    <tr>\n",
       "      <th>0.95</th>\n",
       "      <td>1.468750</td>\n",
       "    </tr>\n",
       "    <tr>\n",
       "      <th rowspan=\"2\" valign=\"top\">2</th>\n",
       "      <th>0.02</th>\n",
       "      <td>0.406800</td>\n",
       "    </tr>\n",
       "    <tr>\n",
       "      <th>0.95</th>\n",
       "      <td>1.902333</td>\n",
       "    </tr>\n",
       "    <tr>\n",
       "      <th rowspan=\"2\" valign=\"top\">3</th>\n",
       "      <th>0.02</th>\n",
       "      <td>0.365650</td>\n",
       "    </tr>\n",
       "    <tr>\n",
       "      <th>0.95</th>\n",
       "      <td>2.394875</td>\n",
       "    </tr>\n",
       "    <tr>\n",
       "      <th>...</th>\n",
       "      <th>...</th>\n",
       "      <th>...</th>\n",
       "      <td>...</td>\n",
       "    </tr>\n",
       "    <tr>\n",
       "      <th rowspan=\"12\" valign=\"top\">10.0</th>\n",
       "      <th rowspan=\"2\" valign=\"top\">0</th>\n",
       "      <th>0.02</th>\n",
       "      <td>0.593800</td>\n",
       "    </tr>\n",
       "    <tr>\n",
       "      <th>0.95</th>\n",
       "      <td>8.698500</td>\n",
       "    </tr>\n",
       "    <tr>\n",
       "      <th rowspan=\"2\" valign=\"top\">1</th>\n",
       "      <th>0.02</th>\n",
       "      <td>0.930000</td>\n",
       "    </tr>\n",
       "    <tr>\n",
       "      <th>0.95</th>\n",
       "      <td>4.195000</td>\n",
       "    </tr>\n",
       "    <tr>\n",
       "      <th rowspan=\"2\" valign=\"top\">2</th>\n",
       "      <th>0.02</th>\n",
       "      <td>0.523067</td>\n",
       "    </tr>\n",
       "    <tr>\n",
       "      <th>0.95</th>\n",
       "      <td>4.009667</td>\n",
       "    </tr>\n",
       "    <tr>\n",
       "      <th rowspan=\"2\" valign=\"top\">3</th>\n",
       "      <th>0.02</th>\n",
       "      <td>0.991400</td>\n",
       "    </tr>\n",
       "    <tr>\n",
       "      <th>0.95</th>\n",
       "      <td>3.754500</td>\n",
       "    </tr>\n",
       "    <tr>\n",
       "      <th rowspan=\"2\" valign=\"top\">4</th>\n",
       "      <th>0.02</th>\n",
       "      <td>1.173360</td>\n",
       "    </tr>\n",
       "    <tr>\n",
       "      <th>0.95</th>\n",
       "      <td>3.514800</td>\n",
       "    </tr>\n",
       "    <tr>\n",
       "      <th rowspan=\"2\" valign=\"top\">5</th>\n",
       "      <th>0.02</th>\n",
       "      <td>1.855000</td>\n",
       "    </tr>\n",
       "    <tr>\n",
       "      <th>0.95</th>\n",
       "      <td>1.855000</td>\n",
       "    </tr>\n",
       "    <tr>\n",
       "      <th rowspan=\"10\" valign=\"top\">12.0</th>\n",
       "      <th rowspan=\"2\" valign=\"top\">0</th>\n",
       "      <th>0.02</th>\n",
       "      <td>0.570000</td>\n",
       "    </tr>\n",
       "    <tr>\n",
       "      <th>0.95</th>\n",
       "      <td>6.842500</td>\n",
       "    </tr>\n",
       "    <tr>\n",
       "      <th rowspan=\"2\" valign=\"top\">1</th>\n",
       "      <th>0.02</th>\n",
       "      <td>0.233800</td>\n",
       "    </tr>\n",
       "    <tr>\n",
       "      <th>0.95</th>\n",
       "      <td>2.344000</td>\n",
       "    </tr>\n",
       "    <tr>\n",
       "      <th rowspan=\"2\" valign=\"top\">2</th>\n",
       "      <th>0.02</th>\n",
       "      <td>0.433067</td>\n",
       "    </tr>\n",
       "    <tr>\n",
       "      <th>0.95</th>\n",
       "      <td>4.183333</td>\n",
       "    </tr>\n",
       "    <tr>\n",
       "      <th rowspan=\"2\" valign=\"top\">3</th>\n",
       "      <th>0.02</th>\n",
       "      <td>0.621250</td>\n",
       "    </tr>\n",
       "    <tr>\n",
       "      <th>0.95</th>\n",
       "      <td>1.167625</td>\n",
       "    </tr>\n",
       "    <tr>\n",
       "      <th rowspan=\"2\" valign=\"top\">4</th>\n",
       "      <th>0.02</th>\n",
       "      <td>1.814120</td>\n",
       "    </tr>\n",
       "    <tr>\n",
       "      <th>0.95</th>\n",
       "      <td>1.819700</td>\n",
       "    </tr>\n",
       "    <tr>\n",
       "      <th rowspan=\"8\" valign=\"top\">15.0</th>\n",
       "      <th rowspan=\"2\" valign=\"top\">0</th>\n",
       "      <th>0.02</th>\n",
       "      <td>0.812600</td>\n",
       "    </tr>\n",
       "    <tr>\n",
       "      <th>0.95</th>\n",
       "      <td>9.275500</td>\n",
       "    </tr>\n",
       "    <tr>\n",
       "      <th rowspan=\"2\" valign=\"top\">1</th>\n",
       "      <th>0.02</th>\n",
       "      <td>1.100000</td>\n",
       "    </tr>\n",
       "    <tr>\n",
       "      <th>0.95</th>\n",
       "      <td>3.058500</td>\n",
       "    </tr>\n",
       "    <tr>\n",
       "      <th rowspan=\"2\" valign=\"top\">2</th>\n",
       "      <th>0.02</th>\n",
       "      <td>0.853333</td>\n",
       "    </tr>\n",
       "    <tr>\n",
       "      <th>0.95</th>\n",
       "      <td>7.126667</td>\n",
       "    </tr>\n",
       "    <tr>\n",
       "      <th rowspan=\"2\" valign=\"top\">3</th>\n",
       "      <th>0.02</th>\n",
       "      <td>0.870000</td>\n",
       "    </tr>\n",
       "    <tr>\n",
       "      <th>0.95</th>\n",
       "      <td>1.833750</td>\n",
       "    </tr>\n",
       "  </tbody>\n",
       "</table>\n",
       "<p>146 rows × 1 columns</p>\n",
       "</div>"
      ],
      "text/plain": [
       "                           APPROX_BEND_COST\n",
       "thickness bend_count                       \n",
       "2.0       0          0.02          0.706400\n",
       "                     0.95          6.994000\n",
       "          1          0.02          0.523400\n",
       "                     0.95          2.293750\n",
       "          2          0.02          0.248533\n",
       "                     0.95          2.147333\n",
       "          3          0.02          0.624250\n",
       "                     0.95          2.315000\n",
       "          4          0.02          0.576240\n",
       "                     0.95          2.126900\n",
       "          5          0.02          0.258333\n",
       "                     0.95          2.060000\n",
       "          6          0.02          0.703314\n",
       "                     0.95          1.496000\n",
       "          7          0.02          0.698875\n",
       "                     0.95          1.446875\n",
       "          8          0.02          0.782978\n",
       "                     0.95          2.421111\n",
       "          9          0.02          0.639000\n",
       "                     0.95          0.639000\n",
       "          14         0.02          0.502000\n",
       "                     0.95          0.502000\n",
       "3.0       0          0.02          0.217600\n",
       "                     0.95          6.584000\n",
       "          1          0.02          0.444600\n",
       "                     0.95          1.468750\n",
       "          2          0.02          0.406800\n",
       "                     0.95          1.902333\n",
       "          3          0.02          0.365650\n",
       "                     0.95          2.394875\n",
       "...                                     ...\n",
       "10.0      0          0.02          0.593800\n",
       "                     0.95          8.698500\n",
       "          1          0.02          0.930000\n",
       "                     0.95          4.195000\n",
       "          2          0.02          0.523067\n",
       "                     0.95          4.009667\n",
       "          3          0.02          0.991400\n",
       "                     0.95          3.754500\n",
       "          4          0.02          1.173360\n",
       "                     0.95          3.514800\n",
       "          5          0.02          1.855000\n",
       "                     0.95          1.855000\n",
       "12.0      0          0.02          0.570000\n",
       "                     0.95          6.842500\n",
       "          1          0.02          0.233800\n",
       "                     0.95          2.344000\n",
       "          2          0.02          0.433067\n",
       "                     0.95          4.183333\n",
       "          3          0.02          0.621250\n",
       "                     0.95          1.167625\n",
       "          4          0.02          1.814120\n",
       "                     0.95          1.819700\n",
       "15.0      0          0.02          0.812600\n",
       "                     0.95          9.275500\n",
       "          1          0.02          1.100000\n",
       "                     0.95          3.058500\n",
       "          2          0.02          0.853333\n",
       "                     0.95          7.126667\n",
       "          3          0.02          0.870000\n",
       "                     0.95          1.833750\n",
       "\n",
       "[146 rows x 1 columns]"
      ]
     },
     "execution_count": 71,
     "metadata": {},
     "output_type": "execute_result"
    }
   ],
   "source": [
    "#quantile decomposition\n",
    "df=dataset[['thickness', 'APPROX_BEND_COST', 'bend_count']].groupby(['thickness', 'bend_count']).quantile([botlimit,toplimit])\n",
    "df"
   ]
  },
  {
   "cell_type": "code",
   "execution_count": 72,
   "metadata": {},
   "outputs": [
    {
     "data": {
      "text/plain": [
       "(5088, 537)"
      ]
     },
     "execution_count": 72,
     "metadata": {},
     "output_type": "execute_result"
    }
   ],
   "source": [
    "# If VALAJOUT is target, cleaning\n",
    "if target == 'VALAJOUT' or target == 'VALTOT':\n",
    "    for (thickness, bend_count, limit), value in df.iterrows():\n",
    "        tresh = value.values[0]\n",
    "        mask1 = np.logical_and(dataset['thickness'] == thickness, dataset['bend_count'] == bend_count)\n",
    "        if limit == botlimit:\n",
    "            mask = np.logical_and(mask1, dataset[df.columns.values[0]] < tresh)\n",
    "            dataset = dataset[np.logical_not(mask)]\n",
    "        elif limit == toplimit:\n",
    "            mask = np.logical_and(mask1, dataset[df.columns.values[0]] > tresh)\n",
    "            dataset = dataset[np.logical_not(mask)]\n",
    "        #print((thickness, limit), tresh)\n",
    "\n",
    "dataset.shape"
   ]
  },
  {
   "cell_type": "code",
   "execution_count": 73,
   "metadata": {},
   "outputs": [
    {
     "data": {
      "image/png": "[encoded data removed]",
      "text/plain": [
       "<Figure size 432x288 with 1 Axes>"
      ]
     },
     "metadata": {},
     "output_type": "display_data"
    }
   ],
   "source": [
    "df = dataset[dataset['thickness'] == 6]\n",
    "df['APPROX_BEND_COST'].plot.hist(bins=50)\n",
    "plt.show()"
   ]
  },
  {
   "cell_type": "code",
   "execution_count": null,
   "metadata": {},
   "outputs": [],
   "source": []
  },
  {
   "cell_type": "markdown",
   "metadata": {},
   "source": [
    "# Target review"
   ]
  },
  {
   "cell_type": "code",
   "execution_count": 74,
   "metadata": {},
   "outputs": [],
   "source": [
    "#Dataset definition\n",
    "X = dataset\n",
    "y = dataset[['VAMAT', 'VALAJOUT', 'VALTOT']]"
   ]
  },
  {
   "cell_type": "code",
   "execution_count": 75,
   "metadata": {},
   "outputs": [
    {
     "data": {
      "text/html": [
       "<div>\n",
       "<style scoped>\n",
       "    .dataframe tbody tr th:only-of-type {\n",
       "        vertical-align: middle;\n",
       "    }\n",
       "\n",
       "    .dataframe tbody tr th {\n",
       "        vertical-align: top;\n",
       "    }\n",
       "\n",
       "    .dataframe thead th {\n",
       "        text-align: right;\n",
       "    }\n",
       "</style>\n",
       "<table border=\"1\" class=\"dataframe\">\n",
       "  <thead>\n",
       "    <tr style=\"text-align: right;\">\n",
       "      <th></th>\n",
       "      <th>VAMAT</th>\n",
       "    </tr>\n",
       "  </thead>\n",
       "  <tbody>\n",
       "    <tr>\n",
       "      <th>count</th>\n",
       "      <td>5088.000000</td>\n",
       "    </tr>\n",
       "    <tr>\n",
       "      <th>mean</th>\n",
       "      <td>6.495664</td>\n",
       "    </tr>\n",
       "    <tr>\n",
       "      <th>std</th>\n",
       "      <td>11.842723</td>\n",
       "    </tr>\n",
       "    <tr>\n",
       "      <th>min</th>\n",
       "      <td>0.110000</td>\n",
       "    </tr>\n",
       "    <tr>\n",
       "      <th>25%</th>\n",
       "      <td>0.880000</td>\n",
       "    </tr>\n",
       "    <tr>\n",
       "      <th>50%</th>\n",
       "      <td>2.500000</td>\n",
       "    </tr>\n",
       "    <tr>\n",
       "      <th>75%</th>\n",
       "      <td>7.010000</td>\n",
       "    </tr>\n",
       "    <tr>\n",
       "      <th>max</th>\n",
       "      <td>153.600000</td>\n",
       "    </tr>\n",
       "  </tbody>\n",
       "</table>\n",
       "</div>"
      ],
      "text/plain": [
       "             VAMAT\n",
       "count  5088.000000\n",
       "mean      6.495664\n",
       "std      11.842723\n",
       "min       0.110000\n",
       "25%       0.880000\n",
       "50%       2.500000\n",
       "75%       7.010000\n",
       "max     153.600000"
      ]
     },
     "execution_count": 75,
     "metadata": {},
     "output_type": "execute_result"
    }
   ],
   "source": [
    "y[[target]].describe()"
   ]
  },
  {
   "cell_type": "code",
   "execution_count": 76,
   "metadata": {},
   "outputs": [
    {
     "name": "stdout",
     "output_type": "stream",
     "text": [
      "(3561, 537) (1527, 537)\n"
     ]
    }
   ],
   "source": [
    "# Dataset splitting\n",
    "from sklearn.model_selection import train_test_split\n",
    "X_train, X_test, y_train, y_test = train_test_split(\n",
    "    X, y, test_size=0.3, random_state=0 ,stratify=dataset['bend_group'])\n",
    "print(X_train.shape, X_test.shape)"
   ]
  },
  {
   "cell_type": "markdown",
   "metadata": {},
   "source": [
    "# Blocs creation"
   ]
  },
  {
   "cell_type": "code",
   "execution_count": 77,
   "metadata": {},
   "outputs": [],
   "source": [
    "#Scaler\n",
    "from sklearn.preprocessing import StandardScaler\n",
    "scaler = StandardScaler()"
   ]
  },
  {
   "cell_type": "code",
   "execution_count": 78,
   "metadata": {},
   "outputs": [],
   "source": [
    "# Metric\n",
    "from sklearn.metrics import mean_squared_error"
   ]
  },
  {
   "cell_type": "code",
   "execution_count": 79,
   "metadata": {},
   "outputs": [
    {
     "data": {
      "text/plain": [
       "make_scorer(mean_absolute_percentage_error, greater_is_better=False)"
      ]
     },
     "execution_count": 79,
     "metadata": {},
     "output_type": "execute_result"
    }
   ],
   "source": [
    "# Metric MAPE Mean absolute percentage error\n",
    "def mean_absolute_percentage_error(y_true, y_pred): \n",
    "    y_true, y_pred = np.array(y_true), np.array(y_pred)\n",
    "    return np.mean(np.abs((y_true - y_pred) / y_true)) * 100\n",
    "\n",
    "from sklearn.metrics import make_scorer\n",
    "mape_scorer = make_scorer(mean_absolute_percentage_error, greater_is_better=False)\n",
    "mape_scorer"
   ]
  },
  {
   "cell_type": "code",
   "execution_count": 80,
   "metadata": {},
   "outputs": [],
   "source": [
    "#regressions\n",
    "from sklearn.linear_model import Ridge\n",
    "ridge = Ridge(alpha=1.0, random_state=0, normalize=False, fit_intercept=False)\n",
    "\n",
    "from sklearn.linear_model import ElasticNet\n",
    "enet = ElasticNet(alpha=0, l1_ratio=1, random_state=0, normalize=False, fit_intercept=False)\n",
    "\n",
    "from sklearn.linear_model import LinearRegression\n",
    "linreg = LinearRegression(normalize=False, fit_intercept=False)"
   ]
  },
  {
   "cell_type": "code",
   "execution_count": 81,
   "metadata": {},
   "outputs": [],
   "source": [
    "#Other tools\n",
    "from sklearn.model_selection import GridSearchCV\n",
    "from sklearn.pipeline import Pipeline"
   ]
  },
  {
   "cell_type": "markdown",
   "metadata": {},
   "source": [
    "# No standardisation"
   ]
  },
  {
   "cell_type": "code",
   "execution_count": 126,
   "metadata": {},
   "outputs": [],
   "source": [
    "parameters = {'alpha':np.logspace(-3,-3,11),\n",
    "              'l1_ratio':np.linspace(0.001,1,11)\n",
    "             }\n",
    "regnostd = GridSearchCV(enet, parameters, cv=5, n_jobs=-2, scoring='neg_mean_squared_error')"
   ]
  },
  {
   "cell_type": "code",
   "execution_count": 127,
   "metadata": {},
   "outputs": [
    {
     "data": {
      "text/plain": [
       "GridSearchCV(cv=5, error_score='raise',\n",
       "       estimator=ElasticNet(alpha=0, copy_X=True, fit_intercept=False, l1_ratio=1,\n",
       "      max_iter=1000, normalize=False, positive=False, precompute=False,\n",
       "      random_state=0, selection='cyclic', tol=0.0001, warm_start=False),\n",
       "       fit_params=None, iid=True, n_jobs=-2,\n",
       "       param_grid={'alpha': array([0.001, 0.001, 0.001, 0.001, 0.001, 0.001, 0.001, 0.001, 0.001,\n",
       "       0.001, 0.001]), 'l1_ratio': array([0.001 , 0.1009, 0.2008, 0.3007, 0.4006, 0.5005, 0.6004, 0.7003,\n",
       "       0.8002, 0.9001, 1.    ])},\n",
       "       pre_dispatch='2*n_jobs', refit=True, return_train_score='warn',\n",
       "       scoring='neg_mean_squared_error', verbose=0)"
      ]
     },
     "execution_count": 127,
     "metadata": {},
     "output_type": "execute_result"
    }
   ],
   "source": [
    "regnostd.fit(X_train[limitedset], y_train[target])"
   ]
  },
  {
   "cell_type": "code",
   "execution_count": 128,
   "metadata": {},
   "outputs": [
    {
     "data": {
      "text/plain": [
       "1"
      ]
     },
     "execution_count": 128,
     "metadata": {},
     "output_type": "execute_result"
    }
   ],
   "source": [
    "regnostd.estimator.l1_ratio"
   ]
  },
  {
   "cell_type": "code",
   "execution_count": 84,
   "metadata": {},
   "outputs": [
    {
     "data": {
      "text/plain": [
       "{'alpha': 0.015848931924611134, 'l1_ratio': 0.01}"
      ]
     },
     "execution_count": 84,
     "metadata": {},
     "output_type": "execute_result"
    }
   ],
   "source": [
    "regnostd.best_params_"
   ]
  },
  {
   "cell_type": "code",
   "execution_count": 85,
   "metadata": {},
   "outputs": [
    {
     "data": {
      "text/plain": [
       "-36.42500120164653"
      ]
     },
     "execution_count": 85,
     "metadata": {},
     "output_type": "execute_result"
    }
   ],
   "source": [
    "regnostd.score(X_train[limitedset], y_train[target])"
   ]
  },
  {
   "cell_type": "code",
   "execution_count": 86,
   "metadata": {},
   "outputs": [
    {
     "data": {
      "text/plain": [
       "-30.98608853046048"
      ]
     },
     "execution_count": 86,
     "metadata": {},
     "output_type": "execute_result"
    }
   ],
   "source": [
    "regnostd.score(X_test[limitedset], y_test[target])"
   ]
  },
  {
   "cell_type": "code",
   "execution_count": 87,
   "metadata": {},
   "outputs": [
    {
     "data": {
      "text/plain": [
       "30.98608853046048"
      ]
     },
     "execution_count": 87,
     "metadata": {},
     "output_type": "execute_result"
    }
   ],
   "source": [
    "mean_squared_error(y_test[target], regnostd.predict(X_test[limitedset]))"
   ]
  },
  {
   "cell_type": "code",
   "execution_count": 88,
   "metadata": {},
   "outputs": [
    {
     "data": {
      "text/plain": [
       "array([ 3.74171119e-01,  4.41949135e-05, -1.12406155e+00])"
      ]
     },
     "execution_count": 88,
     "metadata": {},
     "output_type": "execute_result"
    }
   ],
   "source": [
    "regnostd.best_estimator_.coef_"
   ]
  },
  {
   "cell_type": "code",
   "execution_count": 89,
   "metadata": {},
   "outputs": [
    {
     "data": {
      "text/plain": [
       "array([6.93229218])"
      ]
     },
     "execution_count": 89,
     "metadata": {},
     "output_type": "execute_result"
    }
   ],
   "source": [
    "regnostd.predict(np.array([10.0, 123061.765625, 2]).reshape(1,-1))"
   ]
  },
  {
   "cell_type": "code",
   "execution_count": 90,
   "metadata": {},
   "outputs": [
    {
     "data": {
      "text/plain": [
       "6.932292184188903"
      ]
     },
     "execution_count": 90,
     "metadata": {},
     "output_type": "execute_result"
    }
   ],
   "source": [
    "(np.array([10.0, 123061.765625, 2]) * regnostd.best_estimator_.coef_).sum()"
   ]
  },
  {
   "cell_type": "markdown",
   "metadata": {},
   "source": [
    "# VAMAT simplified"
   ]
  },
  {
   "cell_type": "code",
   "execution_count": 92,
   "metadata": {},
   "outputs": [
    {
     "data": {
      "text/html": [
       "<div>\n",
       "<style scoped>\n",
       "    .dataframe tbody tr th:only-of-type {\n",
       "        vertical-align: middle;\n",
       "    }\n",
       "\n",
       "    .dataframe tbody tr th {\n",
       "        vertical-align: top;\n",
       "    }\n",
       "\n",
       "    .dataframe thead th {\n",
       "        text-align: right;\n",
       "    }\n",
       "</style>\n",
       "<table border=\"1\" class=\"dataframe\">\n",
       "  <thead>\n",
       "    <tr style=\"text-align: right;\">\n",
       "      <th></th>\n",
       "      <th>mean</th>\n",
       "      <th>std</th>\n",
       "      <th>min</th>\n",
       "      <th>max</th>\n",
       "      <th>median</th>\n",
       "    </tr>\n",
       "    <tr>\n",
       "      <th>thickness</th>\n",
       "      <th></th>\n",
       "      <th></th>\n",
       "      <th></th>\n",
       "      <th></th>\n",
       "      <th></th>\n",
       "    </tr>\n",
       "  </thead>\n",
       "  <tbody>\n",
       "    <tr>\n",
       "      <th>2.0</th>\n",
       "      <td>0.000017</td>\n",
       "      <td>0.000003</td>\n",
       "      <td>0.000012</td>\n",
       "      <td>0.000027</td>\n",
       "      <td>0.000015</td>\n",
       "    </tr>\n",
       "    <tr>\n",
       "      <th>3.0</th>\n",
       "      <td>0.000023</td>\n",
       "      <td>0.000006</td>\n",
       "      <td>0.000017</td>\n",
       "      <td>0.000049</td>\n",
       "      <td>0.000021</td>\n",
       "    </tr>\n",
       "    <tr>\n",
       "      <th>4.0</th>\n",
       "      <td>0.000028</td>\n",
       "      <td>0.000006</td>\n",
       "      <td>0.000020</td>\n",
       "      <td>0.000053</td>\n",
       "      <td>0.000027</td>\n",
       "    </tr>\n",
       "    <tr>\n",
       "      <th>5.0</th>\n",
       "      <td>0.000035</td>\n",
       "      <td>0.000005</td>\n",
       "      <td>0.000025</td>\n",
       "      <td>0.000053</td>\n",
       "      <td>0.000033</td>\n",
       "    </tr>\n",
       "    <tr>\n",
       "      <th>6.0</th>\n",
       "      <td>0.000042</td>\n",
       "      <td>0.000007</td>\n",
       "      <td>0.000029</td>\n",
       "      <td>0.000079</td>\n",
       "      <td>0.000040</td>\n",
       "    </tr>\n",
       "    <tr>\n",
       "      <th>8.0</th>\n",
       "      <td>0.000057</td>\n",
       "      <td>0.000009</td>\n",
       "      <td>0.000041</td>\n",
       "      <td>0.000100</td>\n",
       "      <td>0.000055</td>\n",
       "    </tr>\n",
       "    <tr>\n",
       "      <th>10.0</th>\n",
       "      <td>0.000073</td>\n",
       "      <td>0.000014</td>\n",
       "      <td>0.000048</td>\n",
       "      <td>0.000132</td>\n",
       "      <td>0.000069</td>\n",
       "    </tr>\n",
       "    <tr>\n",
       "      <th>12.0</th>\n",
       "      <td>0.000084</td>\n",
       "      <td>0.000017</td>\n",
       "      <td>0.000046</td>\n",
       "      <td>0.000131</td>\n",
       "      <td>0.000081</td>\n",
       "    </tr>\n",
       "    <tr>\n",
       "      <th>15.0</th>\n",
       "      <td>0.000101</td>\n",
       "      <td>0.000021</td>\n",
       "      <td>0.000062</td>\n",
       "      <td>0.000152</td>\n",
       "      <td>0.000100</td>\n",
       "    </tr>\n",
       "  </tbody>\n",
       "</table>\n",
       "</div>"
      ],
      "text/plain": [
       "               mean       std       min       max    median\n",
       "thickness                                                  \n",
       "2.0        0.000017  0.000003  0.000012  0.000027  0.000015\n",
       "3.0        0.000023  0.000006  0.000017  0.000049  0.000021\n",
       "4.0        0.000028  0.000006  0.000020  0.000053  0.000027\n",
       "5.0        0.000035  0.000005  0.000025  0.000053  0.000033\n",
       "6.0        0.000042  0.000007  0.000029  0.000079  0.000040\n",
       "8.0        0.000057  0.000009  0.000041  0.000100  0.000055\n",
       "10.0       0.000073  0.000014  0.000048  0.000132  0.000069\n",
       "12.0       0.000084  0.000017  0.000046  0.000131  0.000081\n",
       "15.0       0.000101  0.000021  0.000062  0.000152  0.000100"
      ]
     },
     "execution_count": 92,
     "metadata": {},
     "output_type": "execute_result"
    }
   ],
   "source": [
    "df = dataset.groupby('thickness')['SURF_COST_RECTANGLE']\n",
    "df.agg(['mean', 'std', 'min', 'max', 'median'])"
   ]
  },
  {
   "cell_type": "code",
   "execution_count": 108,
   "metadata": {},
   "outputs": [
    {
     "data": {
      "text/plain": [
       "{2.0: 1.6647433272606047e-05,\n",
       " 3.0: 2.293063273168112e-05,\n",
       " 4.0: 2.841553356513595e-05,\n",
       " 5.0: 3.4553861237483286e-05,\n",
       " 6.0: 4.205112340780939e-05,\n",
       " 8.0: 5.666598451654835e-05,\n",
       " 10.0: 7.267847331839946e-05,\n",
       " 12.0: 8.383169256994243e-05,\n",
       " 15.0: 0.00010141223060481343}"
      ]
     },
     "execution_count": 108,
     "metadata": {},
     "output_type": "execute_result"
    }
   ],
   "source": [
    "surfcost = df.agg('mean').to_dict()\n",
    "surfcost"
   ]
  },
  {
   "cell_type": "code",
   "execution_count": 109,
   "metadata": {},
   "outputs": [
    {
     "data": {
      "text/html": [
       "<div>\n",
       "<style scoped>\n",
       "    .dataframe tbody tr th:only-of-type {\n",
       "        vertical-align: middle;\n",
       "    }\n",
       "\n",
       "    .dataframe tbody tr th {\n",
       "        vertical-align: top;\n",
       "    }\n",
       "\n",
       "    .dataframe thead th {\n",
       "        text-align: right;\n",
       "    }\n",
       "</style>\n",
       "<table border=\"1\" class=\"dataframe\">\n",
       "  <thead>\n",
       "    <tr style=\"text-align: right;\">\n",
       "      <th></th>\n",
       "      <th>VAMAT</th>\n",
       "      <th>VAMAT_prod</th>\n",
       "    </tr>\n",
       "    <tr>\n",
       "      <th>COART</th>\n",
       "      <th></th>\n",
       "      <th></th>\n",
       "    </tr>\n",
       "  </thead>\n",
       "  <tbody>\n",
       "    <tr>\n",
       "      <th>L1600360</th>\n",
       "      <td>12.51</td>\n",
       "      <td>12.269784</td>\n",
       "    </tr>\n",
       "    <tr>\n",
       "      <th>L1600470</th>\n",
       "      <td>0.25</td>\n",
       "      <td>0.254375</td>\n",
       "    </tr>\n",
       "    <tr>\n",
       "      <th>L1600600</th>\n",
       "      <td>18.36</td>\n",
       "      <td>11.983269</td>\n",
       "    </tr>\n",
       "    <tr>\n",
       "      <th>L1600610</th>\n",
       "      <td>9.18</td>\n",
       "      <td>10.085323</td>\n",
       "    </tr>\n",
       "    <tr>\n",
       "      <th>L1600620</th>\n",
       "      <td>9.18</td>\n",
       "      <td>9.052967</td>\n",
       "    </tr>\n",
       "  </tbody>\n",
       "</table>\n",
       "</div>"
      ],
      "text/plain": [
       "          VAMAT  VAMAT_prod\n",
       "COART                      \n",
       "L1600360  12.51   12.269784\n",
       "L1600470   0.25    0.254375\n",
       "L1600600  18.36   11.983269\n",
       "L1600610   9.18   10.085323\n",
       "L1600620   9.18    9.052967"
      ]
     },
     "execution_count": 109,
     "metadata": {},
     "output_type": "execute_result"
    }
   ],
   "source": [
    "def vamatfeat(entry):\n",
    "    return entry['minimum_rectangle_area'] * surfcost.get(entry['thickness'],0)\n",
    "\n",
    "dataset['VAMAT_pred'] = dataset.apply(vamatfeat, axis=1)\n",
    "dataset[['VAMAT', 'VAMAT_prod']].head()"
   ]
  },
  {
   "cell_type": "code",
   "execution_count": 110,
   "metadata": {},
   "outputs": [
    {
     "name": "stderr",
     "output_type": "stream",
     "text": [
      "/Users/cricket/anaconda3/lib/python3.6/site-packages/matplotlib/axes/_axes.py:6448: UserWarning: The 'normed' kwarg is deprecated, and has been replaced by the 'density' kwarg.\n",
      "  warnings.warn(\"The 'normed' kwarg is deprecated, and has been \"\n"
     ]
    },
    {
     "data": {
      "text/plain": [
       "<seaborn.axisgrid.JointGrid at 0x1a2bde9668>"
      ]
     },
     "execution_count": 110,
     "metadata": {},
     "output_type": "execute_result"
    },
    {
     "data": {
      "image/png": "[encoded data removed]",
      "text/plain": [
       "<Figure size 576x576 with 3 Axes>"
      ]
     },
     "metadata": {},
     "output_type": "display_data"
    }
   ],
   "source": [
    "sns.jointplot(x='VAMAT_pred', y='VAMAT', data=dataset, kind='reg', size=8)"
   ]
  },
  {
   "cell_type": "code",
   "execution_count": 106,
   "metadata": {},
   "outputs": [
    {
     "data": {
      "text/plain": [
       "13.723230970841827"
      ]
     },
     "execution_count": 106,
     "metadata": {},
     "output_type": "execute_result"
    }
   ],
   "source": [
    "mean_squared_error(dataset['VAMAT'], dataset['VAMAT_pred'])"
   ]
  },
  {
   "cell_type": "code",
   "execution_count": 107,
   "metadata": {},
   "outputs": [
    {
     "data": {
      "text/plain": [
       "11.617992006087446"
      ]
     },
     "execution_count": 107,
     "metadata": {},
     "output_type": "execute_result"
    }
   ],
   "source": [
    "mean_absolute_percentage_error(dataset['VAMAT'], dataset['VAMAT_pred'])"
   ]
  },
  {
   "cell_type": "markdown",
   "metadata": {},
   "source": [
    "# Per thickness"
   ]
  },
  {
   "cell_type": "code",
   "execution_count": 38,
   "metadata": {},
   "outputs": [],
   "source": [
    "from sklearn.base import BaseEstimator, TransformerMixin\n",
    "from sklearn.utils import check_X_y"
   ]
  },
  {
   "cell_type": "code",
   "execution_count": 136,
   "metadata": {},
   "outputs": [],
   "source": [
    "class Regthick(BaseEstimator, TransformerMixin):\n",
    "    def __init__(self):\n",
    "        self.thickness = []\n",
    "    \n",
    "    def fit(self, X, y):\n",
    "        #X, y = check_X_y(X, y)\n",
    "        self.thickness = X['thickness'].unique()\n",
    "        parameters = {'alpha':np.logspace(-3,3,5),\n",
    "                      'l1_ratio':np.linspace(0.01,1,5)\n",
    "                        }\n",
    "        for thickness in self.thickness:\n",
    "            setattr(self, 'reg{:02d}'.format(int(thickness)),\n",
    "                    GridSearchCV(ElasticNet(alpha=0, l1_ratio=1, random_state=0, normalize=False, fit_intercept=False),\n",
    "                                 parameters, cv=3, n_jobs=-2, scoring='neg_mean_squared_error'))\n",
    "            \n",
    "            mask = X['thickness']==thickness\n",
    "            #print(X.columns.values)\n",
    "            df = X[mask]\n",
    "            labels = y[mask]\n",
    "            getattr(self, 'reg{:02d}'.format(int(thickness))).fit(df[['minimum_rectangle_area', 'bend_count']], labels)\n",
    "    \n",
    "    def predict(self, X, y=None):\n",
    "        thickness = X[0]\n",
    "        df = np.array(X[1:]).reshape(1, -1)\n",
    "        return getattr(self, 'reg{:02d}'.format(int(thickness))).predict(df)\n",
    "    \n",
    "    def get_l1_ratio(self):\n",
    "        toreturn = []\n",
    "        for th in self.thickness:\n",
    "            toreturn.append((th, getattr(self, 'reg{:02d}'.format(int(thickness))).estimator.l1_ratio))\n",
    "        return toreturn\n",
    "    \n",
    "    def get_alpha(self):\n",
    "        toreturn = []\n",
    "        for th in self.thickness:\n",
    "            toreturn.append((th, getattr(self, 'reg{:02d}'.format(int(thickness))).estimator.alpha))\n",
    "        return toreturn\n",
    "        \n",
    "    def get_th_coefs(self):\n",
    "        toreturn = []\n",
    "        for th in self.thickness:\n",
    "            temp = []\n",
    "            estim = getattr(self, 'reg{:02d}'.format(int(th)))\n",
    "            coeffs = estim.best_estimator_.coef_.copy()\n",
    "            temp.append(th)\n",
    "            temp.extend(coeffs.tolist())\n",
    "            toreturn.append(temp)\n",
    "        return np.array(toreturn)\n",
    "    \n"
   ]
  },
  {
   "cell_type": "code",
   "execution_count": 137,
   "metadata": {},
   "outputs": [],
   "source": [
    "regthick = Regthick()\n",
    "regthick.fit(X_train[limitedset], y_train[target])"
   ]
  },
  {
   "cell_type": "code",
   "execution_count": 138,
   "metadata": {},
   "outputs": [
    {
     "data": {
      "text/plain": [
       "[(12.0, 1),\n",
       " (10.0, 1),\n",
       " (8.0, 1),\n",
       " (5.0, 1),\n",
       " (4.0, 1),\n",
       " (3.0, 1),\n",
       " (2.0, 1),\n",
       " (6.0, 1),\n",
       " (15.0, 1)]"
      ]
     },
     "execution_count": 138,
     "metadata": {},
     "output_type": "execute_result"
    }
   ],
   "source": [
    "regthick.get_l1_ratio()"
   ]
  },
  {
   "cell_type": "code",
   "execution_count": 139,
   "metadata": {},
   "outputs": [
    {
     "data": {
      "text/plain": [
       "[(12.0, 0),\n",
       " (10.0, 0),\n",
       " (8.0, 0),\n",
       " (5.0, 0),\n",
       " (4.0, 0),\n",
       " (3.0, 0),\n",
       " (2.0, 0),\n",
       " (6.0, 0),\n",
       " (15.0, 0)]"
      ]
     },
     "execution_count": 139,
     "metadata": {},
     "output_type": "execute_result"
    }
   ],
   "source": [
    "regthick.get_alpha()"
   ]
  },
  {
   "cell_type": "code",
   "execution_count": 140,
   "metadata": {},
   "outputs": [
    {
     "data": {
      "text/plain": [
       "array([10.21559653])"
      ]
     },
     "execution_count": 140,
     "metadata": {},
     "output_type": "execute_result"
    }
   ],
   "source": [
    "#regthick.reg10.predict(np.array([10.0, 123061.765625, 2]).reshape(1,-1))\n",
    "regthick.predict([10.0, 123061.765625, 2])"
   ]
  },
  {
   "cell_type": "code",
   "execution_count": 141,
   "metadata": {},
   "outputs": [
    {
     "data": {
      "text/plain": [
       "10.215596533554109"
      ]
     },
     "execution_count": 141,
     "metadata": {},
     "output_type": "execute_result"
    }
   ],
   "source": [
    "np.dot(regthick.reg10.best_estimator_.coef_, [123061.765625, 2])"
   ]
  },
  {
   "cell_type": "code",
   "execution_count": 142,
   "metadata": {},
   "outputs": [
    {
     "data": {
      "text/plain": [
       "array([[ 1.20000000e+01,  9.23632333e-05, -1.44045191e-01],\n",
       "       [ 1.00000000e+01,  8.58973281e-05, -1.77540165e-01],\n",
       "       [ 8.00000000e+00,  6.38848880e-05, -1.64993088e-01],\n",
       "       [ 5.00000000e+00,  3.53156182e-05,  0.00000000e+00],\n",
       "       [ 4.00000000e+00,  3.63032276e-05, -4.06959070e-01],\n",
       "       [ 3.00000000e+00,  3.14388324e-05, -4.27172106e-01],\n",
       "       [ 2.00000000e+00,  1.89725136e-05, -5.43808729e-02],\n",
       "       [ 6.00000000e+00,  5.93120962e-05, -5.86664796e-01],\n",
       "       [ 1.50000000e+01,  1.04003050e-04,  0.00000000e+00]])"
      ]
     },
     "execution_count": 142,
     "metadata": {},
     "output_type": "execute_result"
    }
   ],
   "source": [
    "#1.26214574e-05 * 123061.765625 + 6.96330034e-01*2\n",
    "regthick.get_th_coefs()"
   ]
  },
  {
   "cell_type": "code",
   "execution_count": 143,
   "metadata": {},
   "outputs": [
    {
     "data": {
      "text/html": [
       "<div>\n",
       "<style scoped>\n",
       "    .dataframe tbody tr th:only-of-type {\n",
       "        vertical-align: middle;\n",
       "    }\n",
       "\n",
       "    .dataframe tbody tr th {\n",
       "        vertical-align: top;\n",
       "    }\n",
       "\n",
       "    .dataframe thead th {\n",
       "        text-align: right;\n",
       "    }\n",
       "</style>\n",
       "<table border=\"1\" class=\"dataframe\">\n",
       "  <thead>\n",
       "    <tr style=\"text-align: right;\">\n",
       "      <th></th>\n",
       "      <th>K1</th>\n",
       "      <th>K2</th>\n",
       "    </tr>\n",
       "    <tr>\n",
       "      <th>thickness</th>\n",
       "      <th></th>\n",
       "      <th></th>\n",
       "    </tr>\n",
       "  </thead>\n",
       "  <tbody>\n",
       "    <tr>\n",
       "      <th>2.0</th>\n",
       "      <td>0.000019</td>\n",
       "      <td>-0.054381</td>\n",
       "    </tr>\n",
       "    <tr>\n",
       "      <th>3.0</th>\n",
       "      <td>0.000031</td>\n",
       "      <td>-0.427172</td>\n",
       "    </tr>\n",
       "    <tr>\n",
       "      <th>4.0</th>\n",
       "      <td>0.000036</td>\n",
       "      <td>-0.406959</td>\n",
       "    </tr>\n",
       "    <tr>\n",
       "      <th>5.0</th>\n",
       "      <td>0.000035</td>\n",
       "      <td>0.000000</td>\n",
       "    </tr>\n",
       "    <tr>\n",
       "      <th>6.0</th>\n",
       "      <td>0.000059</td>\n",
       "      <td>-0.586665</td>\n",
       "    </tr>\n",
       "    <tr>\n",
       "      <th>8.0</th>\n",
       "      <td>0.000064</td>\n",
       "      <td>-0.164993</td>\n",
       "    </tr>\n",
       "    <tr>\n",
       "      <th>10.0</th>\n",
       "      <td>0.000086</td>\n",
       "      <td>-0.177540</td>\n",
       "    </tr>\n",
       "    <tr>\n",
       "      <th>12.0</th>\n",
       "      <td>0.000092</td>\n",
       "      <td>-0.144045</td>\n",
       "    </tr>\n",
       "    <tr>\n",
       "      <th>15.0</th>\n",
       "      <td>0.000104</td>\n",
       "      <td>0.000000</td>\n",
       "    </tr>\n",
       "  </tbody>\n",
       "</table>\n",
       "</div>"
      ],
      "text/plain": [
       "                 K1        K2\n",
       "thickness                    \n",
       "2.0        0.000019 -0.054381\n",
       "3.0        0.000031 -0.427172\n",
       "4.0        0.000036 -0.406959\n",
       "5.0        0.000035  0.000000\n",
       "6.0        0.000059 -0.586665\n",
       "8.0        0.000064 -0.164993\n",
       "10.0       0.000086 -0.177540\n",
       "12.0       0.000092 -0.144045\n",
       "15.0       0.000104  0.000000"
      ]
     },
     "execution_count": 143,
     "metadata": {},
     "output_type": "execute_result"
    }
   ],
   "source": [
    "df = pd.DataFrame(regthick.get_th_coefs())\n",
    "df.columns=['thickness', 'K1', 'K2']\n",
    "df.set_index('thickness', inplace=True)\n",
    "df.sort_index()"
   ]
  },
  {
   "cell_type": "code",
   "execution_count": 144,
   "metadata": {},
   "outputs": [],
   "source": [
    "asmset = [[th, rect, bend] for th, rect, bend in zip(X_test.thickness.tolist(),\n",
    "                                            X_test.minimum_rectangle_area.tolist(),\n",
    "                                           X_test.bend_count.tolist(),)]"
   ]
  },
  {
   "cell_type": "markdown",
   "metadata": {},
   "source": [
    "# Results comparison"
   ]
  },
  {
   "cell_type": "code",
   "execution_count": 145,
   "metadata": {},
   "outputs": [],
   "source": [
    "prediction_s2 = np.array([regthick.predict(x)[0] for x in asmset])\n",
    "prediction_s1 = regnostd.predict(X_test[limitedset])"
   ]
  },
  {
   "cell_type": "code",
   "execution_count": 146,
   "metadata": {},
   "outputs": [
    {
     "data": {
      "text/html": [
       "<div>\n",
       "<style scoped>\n",
       "    .dataframe tbody tr th:only-of-type {\n",
       "        vertical-align: middle;\n",
       "    }\n",
       "\n",
       "    .dataframe tbody tr th {\n",
       "        vertical-align: top;\n",
       "    }\n",
       "\n",
       "    .dataframe thead th {\n",
       "        text-align: right;\n",
       "    }\n",
       "</style>\n",
       "<table border=\"1\" class=\"dataframe\">\n",
       "  <thead>\n",
       "    <tr style=\"text-align: right;\">\n",
       "      <th></th>\n",
       "      <th>pred_S1</th>\n",
       "      <th>pred_S2</th>\n",
       "      <th>target</th>\n",
       "    </tr>\n",
       "    <tr>\n",
       "      <th>COART</th>\n",
       "      <th></th>\n",
       "      <th></th>\n",
       "      <th></th>\n",
       "    </tr>\n",
       "  </thead>\n",
       "  <tbody>\n",
       "    <tr>\n",
       "      <th>L7011572</th>\n",
       "      <td>2.532661</td>\n",
       "      <td>0.525496</td>\n",
       "      <td>0.49</td>\n",
       "    </tr>\n",
       "    <tr>\n",
       "      <th>L8407220</th>\n",
       "      <td>6.810819</td>\n",
       "      <td>4.797794</td>\n",
       "      <td>6.10</td>\n",
       "    </tr>\n",
       "    <tr>\n",
       "      <th>L8414000</th>\n",
       "      <td>8.841271</td>\n",
       "      <td>9.069647</td>\n",
       "      <td>12.86</td>\n",
       "    </tr>\n",
       "    <tr>\n",
       "      <th>L6005092</th>\n",
       "      <td>8.561731</td>\n",
       "      <td>10.976526</td>\n",
       "      <td>10.01</td>\n",
       "    </tr>\n",
       "    <tr>\n",
       "      <th>L3130840</th>\n",
       "      <td>8.266264</td>\n",
       "      <td>6.214531</td>\n",
       "      <td>5.87</td>\n",
       "    </tr>\n",
       "  </tbody>\n",
       "</table>\n",
       "</div>"
      ],
      "text/plain": [
       "           pred_S1    pred_S2  target\n",
       "COART                                \n",
       "L7011572  2.532661   0.525496    0.49\n",
       "L8407220  6.810819   4.797794    6.10\n",
       "L8414000  8.841271   9.069647   12.86\n",
       "L6005092  8.561731  10.976526   10.01\n",
       "L3130840  8.266264   6.214531    5.87"
      ]
     },
     "execution_count": 146,
     "metadata": {},
     "output_type": "execute_result"
    }
   ],
   "source": [
    "resultset = pd.DataFrame({'target': y_test[target],\n",
    "                          'pred_S1':prediction_s1,\n",
    "                          'pred_S2':prediction_s2}, index=y_test.index)\n",
    "resultset.head()"
   ]
  },
  {
   "cell_type": "code",
   "execution_count": 147,
   "metadata": {},
   "outputs": [
    {
     "data": {
      "text/plain": [
       "30.986403486613767"
      ]
     },
     "execution_count": 147,
     "metadata": {},
     "output_type": "execute_result"
    }
   ],
   "source": [
    "mean_squared_error(resultset['target'], resultset['pred_S1'])"
   ]
  },
  {
   "cell_type": "code",
   "execution_count": 148,
   "metadata": {},
   "outputs": [
    {
     "data": {
      "text/plain": [
       "177.97357825046433"
      ]
     },
     "execution_count": 148,
     "metadata": {},
     "output_type": "execute_result"
    }
   ],
   "source": [
    "mean_absolute_percentage_error(resultset['target'], resultset['pred_S1'])"
   ]
  },
  {
   "cell_type": "code",
   "execution_count": 149,
   "metadata": {},
   "outputs": [
    {
     "data": {
      "text/plain": [
       "33.41566907013853"
      ]
     },
     "execution_count": 149,
     "metadata": {},
     "output_type": "execute_result"
    }
   ],
   "source": [
    "mean_absolute_percentage_error(resultset['target'], resultset['pred_S2'])"
   ]
  },
  {
   "cell_type": "code",
   "execution_count": 150,
   "metadata": {},
   "outputs": [
    {
     "data": {
      "text/plain": [
       "7.5013089738075935"
      ]
     },
     "execution_count": 150,
     "metadata": {},
     "output_type": "execute_result"
    }
   ],
   "source": [
    "mean_squared_error(resultset['target'], resultset['pred_S2'])"
   ]
  },
  {
   "cell_type": "code",
   "execution_count": 151,
   "metadata": {},
   "outputs": [
    {
     "data": {
      "text/html": [
       "<div>\n",
       "<style scoped>\n",
       "    .dataframe tbody tr th:only-of-type {\n",
       "        vertical-align: middle;\n",
       "    }\n",
       "\n",
       "    .dataframe tbody tr th {\n",
       "        vertical-align: top;\n",
       "    }\n",
       "\n",
       "    .dataframe thead th {\n",
       "        text-align: right;\n",
       "    }\n",
       "</style>\n",
       "<table border=\"1\" class=\"dataframe\">\n",
       "  <thead>\n",
       "    <tr style=\"text-align: right;\">\n",
       "      <th></th>\n",
       "      <th>pred_S1</th>\n",
       "      <th>pred_S2</th>\n",
       "      <th>target</th>\n",
       "      <th>MSE_s1</th>\n",
       "      <th>MSE_s2</th>\n",
       "    </tr>\n",
       "    <tr>\n",
       "      <th>COART</th>\n",
       "      <th></th>\n",
       "      <th></th>\n",
       "      <th></th>\n",
       "      <th></th>\n",
       "      <th></th>\n",
       "    </tr>\n",
       "  </thead>\n",
       "  <tbody>\n",
       "    <tr>\n",
       "      <th>L7011572</th>\n",
       "      <td>2.532661</td>\n",
       "      <td>0.525496</td>\n",
       "      <td>0.49</td>\n",
       "      <td>4.172465</td>\n",
       "      <td>0.001260</td>\n",
       "    </tr>\n",
       "    <tr>\n",
       "      <th>L8407220</th>\n",
       "      <td>6.810819</td>\n",
       "      <td>4.797794</td>\n",
       "      <td>6.10</td>\n",
       "      <td>0.505263</td>\n",
       "      <td>1.695741</td>\n",
       "    </tr>\n",
       "    <tr>\n",
       "      <th>L8414000</th>\n",
       "      <td>8.841271</td>\n",
       "      <td>9.069647</td>\n",
       "      <td>12.86</td>\n",
       "      <td>16.150182</td>\n",
       "      <td>14.366778</td>\n",
       "    </tr>\n",
       "    <tr>\n",
       "      <th>L6005092</th>\n",
       "      <td>8.561731</td>\n",
       "      <td>10.976526</td>\n",
       "      <td>10.01</td>\n",
       "      <td>2.097483</td>\n",
       "      <td>0.934173</td>\n",
       "    </tr>\n",
       "    <tr>\n",
       "      <th>L3130840</th>\n",
       "      <td>8.266264</td>\n",
       "      <td>6.214531</td>\n",
       "      <td>5.87</td>\n",
       "      <td>5.742083</td>\n",
       "      <td>0.118702</td>\n",
       "    </tr>\n",
       "  </tbody>\n",
       "</table>\n",
       "</div>"
      ],
      "text/plain": [
       "           pred_S1    pred_S2  target     MSE_s1     MSE_s2\n",
       "COART                                                      \n",
       "L7011572  2.532661   0.525496    0.49   4.172465   0.001260\n",
       "L8407220  6.810819   4.797794    6.10   0.505263   1.695741\n",
       "L8414000  8.841271   9.069647   12.86  16.150182  14.366778\n",
       "L6005092  8.561731  10.976526   10.01   2.097483   0.934173\n",
       "L3130840  8.266264   6.214531    5.87   5.742083   0.118702"
      ]
     },
     "execution_count": 151,
     "metadata": {},
     "output_type": "execute_result"
    }
   ],
   "source": [
    "resultset['MSE_s1'] = (resultset['target']-resultset['pred_S1'])**2\n",
    "resultset['MSE_s2'] = (resultset['target']-resultset['pred_S2'])**2\n",
    "resultset.head()"
   ]
  },
  {
   "cell_type": "code",
   "execution_count": 152,
   "metadata": {},
   "outputs": [
    {
     "data": {
      "text/plain": [
       "7.501308973807597"
      ]
     },
     "execution_count": 152,
     "metadata": {},
     "output_type": "execute_result"
    }
   ],
   "source": [
    "resultset['MSE_s2'].mean()"
   ]
  },
  {
   "cell_type": "code",
   "execution_count": 153,
   "metadata": {},
   "outputs": [
    {
     "data": {
      "text/html": [
       "<div>\n",
       "<style scoped>\n",
       "    .dataframe tbody tr th:only-of-type {\n",
       "        vertical-align: middle;\n",
       "    }\n",
       "\n",
       "    .dataframe tbody tr th {\n",
       "        vertical-align: top;\n",
       "    }\n",
       "\n",
       "    .dataframe thead th {\n",
       "        text-align: right;\n",
       "    }\n",
       "</style>\n",
       "<table border=\"1\" class=\"dataframe\">\n",
       "  <thead>\n",
       "    <tr style=\"text-align: right;\">\n",
       "      <th></th>\n",
       "      <th>COART</th>\n",
       "      <th>pred_S1</th>\n",
       "      <th>pred_S2</th>\n",
       "      <th>target</th>\n",
       "      <th>MSE_s1</th>\n",
       "      <th>MSE_s2</th>\n",
       "      <th>cut_length</th>\n",
       "      <th>num_closed_patterns</th>\n",
       "      <th>num_open_patterns</th>\n",
       "      <th>total_area</th>\n",
       "      <th>...</th>\n",
       "      <th>thick_20.0</th>\n",
       "      <th>VAMAT</th>\n",
       "      <th>VALAJOUT</th>\n",
       "      <th>VALTOT</th>\n",
       "      <th>VOL_COST_CONVHULL</th>\n",
       "      <th>VOL_COST_RECTANGLE</th>\n",
       "      <th>VOL_COST_MPATTERN</th>\n",
       "      <th>bend_group</th>\n",
       "      <th>SURF_COST_RECTANGLE</th>\n",
       "      <th>APPROX_BEND_COST</th>\n",
       "    </tr>\n",
       "  </thead>\n",
       "  <tbody>\n",
       "    <tr>\n",
       "      <th>0</th>\n",
       "      <td>L7011572</td>\n",
       "      <td>2.532661</td>\n",
       "      <td>0.525496</td>\n",
       "      <td>0.49</td>\n",
       "      <td>4.172465</td>\n",
       "      <td>0.001260</td>\n",
       "      <td>550.806946</td>\n",
       "      <td>2</td>\n",
       "      <td>0</td>\n",
       "      <td>14566.341797</td>\n",
       "      <td>...</td>\n",
       "      <td>0</td>\n",
       "      <td>0.49</td>\n",
       "      <td>0.95</td>\n",
       "      <td>1.44</td>\n",
       "      <td>0.000007</td>\n",
       "      <td>0.000007</td>\n",
       "      <td>0.000007</td>\n",
       "      <td>0</td>\n",
       "      <td>0.000033</td>\n",
       "      <td>0.950000</td>\n",
       "    </tr>\n",
       "    <tr>\n",
       "      <th>1</th>\n",
       "      <td>L8407220</td>\n",
       "      <td>6.810819</td>\n",
       "      <td>4.797794</td>\n",
       "      <td>6.10</td>\n",
       "      <td>0.505263</td>\n",
       "      <td>1.695741</td>\n",
       "      <td>4099.324707</td>\n",
       "      <td>14</td>\n",
       "      <td>0</td>\n",
       "      <td>177817.437500</td>\n",
       "      <td>...</td>\n",
       "      <td>0</td>\n",
       "      <td>6.10</td>\n",
       "      <td>4.52</td>\n",
       "      <td>10.62</td>\n",
       "      <td>0.000011</td>\n",
       "      <td>0.000011</td>\n",
       "      <td>0.000011</td>\n",
       "      <td>1-2</td>\n",
       "      <td>0.000034</td>\n",
       "      <td>1.506667</td>\n",
       "    </tr>\n",
       "    <tr>\n",
       "      <th>2</th>\n",
       "      <td>L8414000</td>\n",
       "      <td>8.841271</td>\n",
       "      <td>9.069647</td>\n",
       "      <td>12.86</td>\n",
       "      <td>16.150182</td>\n",
       "      <td>14.366778</td>\n",
       "      <td>1977.038452</td>\n",
       "      <td>4</td>\n",
       "      <td>0</td>\n",
       "      <td>48819.046875</td>\n",
       "      <td>...</td>\n",
       "      <td>0</td>\n",
       "      <td>12.86</td>\n",
       "      <td>2.46</td>\n",
       "      <td>15.32</td>\n",
       "      <td>0.000014</td>\n",
       "      <td>0.000011</td>\n",
       "      <td>0.000015</td>\n",
       "      <td>0</td>\n",
       "      <td>0.000131</td>\n",
       "      <td>2.460000</td>\n",
       "    </tr>\n",
       "    <tr>\n",
       "      <th>3</th>\n",
       "      <td>L6005092</td>\n",
       "      <td>8.561731</td>\n",
       "      <td>10.976526</td>\n",
       "      <td>10.01</td>\n",
       "      <td>2.097483</td>\n",
       "      <td>0.934173</td>\n",
       "      <td>3336.436768</td>\n",
       "      <td>18</td>\n",
       "      <td>0</td>\n",
       "      <td>135501.937500</td>\n",
       "      <td>...</td>\n",
       "      <td>0</td>\n",
       "      <td>10.01</td>\n",
       "      <td>5.98</td>\n",
       "      <td>15.99</td>\n",
       "      <td>0.000007</td>\n",
       "      <td>0.000007</td>\n",
       "      <td>0.000009</td>\n",
       "      <td>1-2</td>\n",
       "      <td>0.000057</td>\n",
       "      <td>1.993333</td>\n",
       "    </tr>\n",
       "    <tr>\n",
       "      <th>4</th>\n",
       "      <td>L3130840</td>\n",
       "      <td>8.266264</td>\n",
       "      <td>6.214531</td>\n",
       "      <td>5.87</td>\n",
       "      <td>5.742083</td>\n",
       "      <td>0.118702</td>\n",
       "      <td>1526.268555</td>\n",
       "      <td>6</td>\n",
       "      <td>0</td>\n",
       "      <td>27662.689453</td>\n",
       "      <td>...</td>\n",
       "      <td>0</td>\n",
       "      <td>5.87</td>\n",
       "      <td>2.39</td>\n",
       "      <td>8.26</td>\n",
       "      <td>0.000008</td>\n",
       "      <td>0.000007</td>\n",
       "      <td>0.000010</td>\n",
       "      <td>0</td>\n",
       "      <td>0.000098</td>\n",
       "      <td>2.390000</td>\n",
       "    </tr>\n",
       "  </tbody>\n",
       "</table>\n",
       "<p>5 rows × 543 columns</p>\n",
       "</div>"
      ],
      "text/plain": [
       "      COART   pred_S1    pred_S2  target     MSE_s1     MSE_s2   cut_length  \\\n",
       "0  L7011572  2.532661   0.525496    0.49   4.172465   0.001260   550.806946   \n",
       "1  L8407220  6.810819   4.797794    6.10   0.505263   1.695741  4099.324707   \n",
       "2  L8414000  8.841271   9.069647   12.86  16.150182  14.366778  1977.038452   \n",
       "3  L6005092  8.561731  10.976526   10.01   2.097483   0.934173  3336.436768   \n",
       "4  L3130840  8.266264   6.214531    5.87   5.742083   0.118702  1526.268555   \n",
       "\n",
       "   num_closed_patterns  num_open_patterns     total_area        ...         \\\n",
       "0                    2                  0   14566.341797        ...          \n",
       "1                   14                  0  177817.437500        ...          \n",
       "2                    4                  0   48819.046875        ...          \n",
       "3                   18                  0  135501.937500        ...          \n",
       "4                    6                  0   27662.689453        ...          \n",
       "\n",
       "   thick_20.0  VAMAT  VALAJOUT  VALTOT  VOL_COST_CONVHULL  VOL_COST_RECTANGLE  \\\n",
       "0           0   0.49      0.95    1.44           0.000007            0.000007   \n",
       "1           0   6.10      4.52   10.62           0.000011            0.000011   \n",
       "2           0  12.86      2.46   15.32           0.000014            0.000011   \n",
       "3           0  10.01      5.98   15.99           0.000007            0.000007   \n",
       "4           0   5.87      2.39    8.26           0.000008            0.000007   \n",
       "\n",
       "   VOL_COST_MPATTERN  bend_group  SURF_COST_RECTANGLE  APPROX_BEND_COST  \n",
       "0           0.000007           0             0.000033          0.950000  \n",
       "1           0.000011         1-2             0.000034          1.506667  \n",
       "2           0.000015           0             0.000131          2.460000  \n",
       "3           0.000009         1-2             0.000057          1.993333  \n",
       "4           0.000010           0             0.000098          2.390000  \n",
       "\n",
       "[5 rows x 543 columns]"
      ]
     },
     "execution_count": 153,
     "metadata": {},
     "output_type": "execute_result"
    }
   ],
   "source": [
    "#Comparison assembly\n",
    "comparisonset = pd.merge(resultset.reset_index(), X_test.reset_index(), on='COART', how='inner')\n",
    "comparisonset.head()"
   ]
  },
  {
   "cell_type": "code",
   "execution_count": null,
   "metadata": {},
   "outputs": [],
   "source": []
  },
  {
   "cell_type": "code",
   "execution_count": 154,
   "metadata": {},
   "outputs": [
    {
     "data": {
      "image/png": "[encoded data removed]",
      "text/plain": [
       "<Figure size 432x288 with 1 Axes>"
      ]
     },
     "metadata": {},
     "output_type": "display_data"
    },
    {
     "data": {
      "text/html": [
       "<div>\n",
       "<style scoped>\n",
       "    .dataframe tbody tr th:only-of-type {\n",
       "        vertical-align: middle;\n",
       "    }\n",
       "\n",
       "    .dataframe tbody tr th {\n",
       "        vertical-align: top;\n",
       "    }\n",
       "\n",
       "    .dataframe thead th {\n",
       "        text-align: right;\n",
       "    }\n",
       "</style>\n",
       "<table border=\"1\" class=\"dataframe\">\n",
       "  <thead>\n",
       "    <tr style=\"text-align: right;\">\n",
       "      <th></th>\n",
       "      <th>MSE_s1</th>\n",
       "      <th>MSE_s2</th>\n",
       "    </tr>\n",
       "    <tr>\n",
       "      <th>thickness</th>\n",
       "      <th></th>\n",
       "      <th></th>\n",
       "    </tr>\n",
       "  </thead>\n",
       "  <tbody>\n",
       "    <tr>\n",
       "      <th>2.0</th>\n",
       "      <td>193.365146</td>\n",
       "      <td>4.815931</td>\n",
       "    </tr>\n",
       "    <tr>\n",
       "      <th>3.0</th>\n",
       "      <td>24.851538</td>\n",
       "      <td>11.036820</td>\n",
       "    </tr>\n",
       "    <tr>\n",
       "      <th>4.0</th>\n",
       "      <td>16.224032</td>\n",
       "      <td>7.351969</td>\n",
       "    </tr>\n",
       "    <tr>\n",
       "      <th>5.0</th>\n",
       "      <td>5.220564</td>\n",
       "      <td>5.278305</td>\n",
       "    </tr>\n",
       "    <tr>\n",
       "      <th>6.0</th>\n",
       "      <td>8.358777</td>\n",
       "      <td>4.467468</td>\n",
       "    </tr>\n",
       "    <tr>\n",
       "      <th>8.0</th>\n",
       "      <td>15.327619</td>\n",
       "      <td>3.133522</td>\n",
       "    </tr>\n",
       "    <tr>\n",
       "      <th>10.0</th>\n",
       "      <td>108.925786</td>\n",
       "      <td>14.369749</td>\n",
       "    </tr>\n",
       "    <tr>\n",
       "      <th>12.0</th>\n",
       "      <td>37.731043</td>\n",
       "      <td>18.813039</td>\n",
       "    </tr>\n",
       "    <tr>\n",
       "      <th>15.0</th>\n",
       "      <td>32.336428</td>\n",
       "      <td>5.120994</td>\n",
       "    </tr>\n",
       "  </tbody>\n",
       "</table>\n",
       "</div>"
      ],
      "text/plain": [
       "               MSE_s1     MSE_s2\n",
       "thickness                       \n",
       "2.0        193.365146   4.815931\n",
       "3.0         24.851538  11.036820\n",
       "4.0         16.224032   7.351969\n",
       "5.0          5.220564   5.278305\n",
       "6.0          8.358777   4.467468\n",
       "8.0         15.327619   3.133522\n",
       "10.0       108.925786  14.369749\n",
       "12.0        37.731043  18.813039\n",
       "15.0        32.336428   5.120994"
      ]
     },
     "execution_count": 154,
     "metadata": {},
     "output_type": "execute_result"
    }
   ],
   "source": [
    "# Is the error sourced by thickness ?\n",
    "df = comparisonset[['MSE_s1', 'MSE_s2', 'thickness']].groupby('thickness').mean()\n",
    "df.plot.bar()\n",
    "plt.show()\n",
    "df"
   ]
  },
  {
   "cell_type": "code",
   "execution_count": 155,
   "metadata": {},
   "outputs": [
    {
     "data": {
      "image/png": "[encoded data removed]",
      "text/plain": [
       "<Figure size 432x288 with 1 Axes>"
      ]
     },
     "metadata": {},
     "output_type": "display_data"
    },
    {
     "data": {
      "text/html": [
       "<div>\n",
       "<style scoped>\n",
       "    .dataframe tbody tr th:only-of-type {\n",
       "        vertical-align: middle;\n",
       "    }\n",
       "\n",
       "    .dataframe tbody tr th {\n",
       "        vertical-align: top;\n",
       "    }\n",
       "\n",
       "    .dataframe thead th {\n",
       "        text-align: right;\n",
       "    }\n",
       "</style>\n",
       "<table border=\"1\" class=\"dataframe\">\n",
       "  <thead>\n",
       "    <tr style=\"text-align: right;\">\n",
       "      <th></th>\n",
       "      <th>MSE_s1</th>\n",
       "      <th>MSE_s2</th>\n",
       "    </tr>\n",
       "    <tr>\n",
       "      <th>bend_group</th>\n",
       "      <th></th>\n",
       "      <th></th>\n",
       "    </tr>\n",
       "  </thead>\n",
       "  <tbody>\n",
       "    <tr>\n",
       "      <th>0</th>\n",
       "      <td>30.509992</td>\n",
       "      <td>4.024589</td>\n",
       "    </tr>\n",
       "    <tr>\n",
       "      <th>1-2</th>\n",
       "      <td>24.225035</td>\n",
       "      <td>6.097179</td>\n",
       "    </tr>\n",
       "    <tr>\n",
       "      <th>3-5</th>\n",
       "      <td>51.197260</td>\n",
       "      <td>22.104504</td>\n",
       "    </tr>\n",
       "    <tr>\n",
       "      <th>6+</th>\n",
       "      <td>76.594708</td>\n",
       "      <td>14.553955</td>\n",
       "    </tr>\n",
       "  </tbody>\n",
       "</table>\n",
       "</div>"
      ],
      "text/plain": [
       "               MSE_s1     MSE_s2\n",
       "bend_group                      \n",
       "0           30.509992   4.024589\n",
       "1-2         24.225035   6.097179\n",
       "3-5         51.197260  22.104504\n",
       "6+          76.594708  14.553955"
      ]
     },
     "execution_count": 155,
     "metadata": {},
     "output_type": "execute_result"
    }
   ],
   "source": [
    "# Is the error sourced by number of errors ?\n",
    "\n",
    "df = comparisonset[['MSE_s1', 'MSE_s2', 'bend_group']].groupby('bend_group').mean()\n",
    "df.plot.bar()\n",
    "plt.show()\n",
    "df"
   ]
  },
  {
   "cell_type": "code",
   "execution_count": 156,
   "metadata": {},
   "outputs": [
    {
     "data": {
      "text/html": [
       "<div>\n",
       "<style scoped>\n",
       "    .dataframe tbody tr th:only-of-type {\n",
       "        vertical-align: middle;\n",
       "    }\n",
       "\n",
       "    .dataframe tbody tr th {\n",
       "        vertical-align: top;\n",
       "    }\n",
       "\n",
       "    .dataframe thead th {\n",
       "        text-align: right;\n",
       "    }\n",
       "</style>\n",
       "<table border=\"1\" class=\"dataframe\">\n",
       "  <thead>\n",
       "    <tr style=\"text-align: right;\">\n",
       "      <th></th>\n",
       "      <th>COART</th>\n",
       "      <th>pred_S1</th>\n",
       "      <th>pred_S2</th>\n",
       "      <th>target</th>\n",
       "      <th>MSE_s1</th>\n",
       "      <th>MSE_s2</th>\n",
       "      <th>cut_length</th>\n",
       "      <th>num_closed_patterns</th>\n",
       "      <th>num_open_patterns</th>\n",
       "      <th>total_area</th>\n",
       "      <th>...</th>\n",
       "      <th>thick_20.0</th>\n",
       "      <th>VAMAT</th>\n",
       "      <th>VALAJOUT</th>\n",
       "      <th>VALTOT</th>\n",
       "      <th>VOL_COST_CONVHULL</th>\n",
       "      <th>VOL_COST_RECTANGLE</th>\n",
       "      <th>VOL_COST_MPATTERN</th>\n",
       "      <th>bend_group</th>\n",
       "      <th>SURF_COST_RECTANGLE</th>\n",
       "      <th>APPROX_BEND_COST</th>\n",
       "    </tr>\n",
       "  </thead>\n",
       "  <tbody>\n",
       "    <tr>\n",
       "      <th>0</th>\n",
       "      <td>L7011572</td>\n",
       "      <td>2.532661</td>\n",
       "      <td>0.525496</td>\n",
       "      <td>0.49</td>\n",
       "      <td>4.172465</td>\n",
       "      <td>0.001260</td>\n",
       "      <td>550.806946</td>\n",
       "      <td>2</td>\n",
       "      <td>0</td>\n",
       "      <td>14566.341797</td>\n",
       "      <td>...</td>\n",
       "      <td>0</td>\n",
       "      <td>0.49</td>\n",
       "      <td>0.95</td>\n",
       "      <td>1.44</td>\n",
       "      <td>0.000007</td>\n",
       "      <td>0.000007</td>\n",
       "      <td>0.000007</td>\n",
       "      <td>0</td>\n",
       "      <td>0.000033</td>\n",
       "      <td>0.950000</td>\n",
       "    </tr>\n",
       "    <tr>\n",
       "      <th>1</th>\n",
       "      <td>L8407220</td>\n",
       "      <td>6.810819</td>\n",
       "      <td>4.797794</td>\n",
       "      <td>6.10</td>\n",
       "      <td>0.505263</td>\n",
       "      <td>1.695741</td>\n",
       "      <td>4099.324707</td>\n",
       "      <td>14</td>\n",
       "      <td>0</td>\n",
       "      <td>177817.437500</td>\n",
       "      <td>...</td>\n",
       "      <td>0</td>\n",
       "      <td>6.10</td>\n",
       "      <td>4.52</td>\n",
       "      <td>10.62</td>\n",
       "      <td>0.000011</td>\n",
       "      <td>0.000011</td>\n",
       "      <td>0.000011</td>\n",
       "      <td>1-2</td>\n",
       "      <td>0.000034</td>\n",
       "      <td>1.506667</td>\n",
       "    </tr>\n",
       "    <tr>\n",
       "      <th>2</th>\n",
       "      <td>L8414000</td>\n",
       "      <td>8.841271</td>\n",
       "      <td>9.069647</td>\n",
       "      <td>12.86</td>\n",
       "      <td>16.150182</td>\n",
       "      <td>14.366778</td>\n",
       "      <td>1977.038452</td>\n",
       "      <td>4</td>\n",
       "      <td>0</td>\n",
       "      <td>48819.046875</td>\n",
       "      <td>...</td>\n",
       "      <td>0</td>\n",
       "      <td>12.86</td>\n",
       "      <td>2.46</td>\n",
       "      <td>15.32</td>\n",
       "      <td>0.000014</td>\n",
       "      <td>0.000011</td>\n",
       "      <td>0.000015</td>\n",
       "      <td>0</td>\n",
       "      <td>0.000131</td>\n",
       "      <td>2.460000</td>\n",
       "    </tr>\n",
       "    <tr>\n",
       "      <th>3</th>\n",
       "      <td>L6005092</td>\n",
       "      <td>8.561731</td>\n",
       "      <td>10.976526</td>\n",
       "      <td>10.01</td>\n",
       "      <td>2.097483</td>\n",
       "      <td>0.934173</td>\n",
       "      <td>3336.436768</td>\n",
       "      <td>18</td>\n",
       "      <td>0</td>\n",
       "      <td>135501.937500</td>\n",
       "      <td>...</td>\n",
       "      <td>0</td>\n",
       "      <td>10.01</td>\n",
       "      <td>5.98</td>\n",
       "      <td>15.99</td>\n",
       "      <td>0.000007</td>\n",
       "      <td>0.000007</td>\n",
       "      <td>0.000009</td>\n",
       "      <td>1-2</td>\n",
       "      <td>0.000057</td>\n",
       "      <td>1.993333</td>\n",
       "    </tr>\n",
       "    <tr>\n",
       "      <th>4</th>\n",
       "      <td>L3130840</td>\n",
       "      <td>8.266264</td>\n",
       "      <td>6.214531</td>\n",
       "      <td>5.87</td>\n",
       "      <td>5.742083</td>\n",
       "      <td>0.118702</td>\n",
       "      <td>1526.268555</td>\n",
       "      <td>6</td>\n",
       "      <td>0</td>\n",
       "      <td>27662.689453</td>\n",
       "      <td>...</td>\n",
       "      <td>0</td>\n",
       "      <td>5.87</td>\n",
       "      <td>2.39</td>\n",
       "      <td>8.26</td>\n",
       "      <td>0.000008</td>\n",
       "      <td>0.000007</td>\n",
       "      <td>0.000010</td>\n",
       "      <td>0</td>\n",
       "      <td>0.000098</td>\n",
       "      <td>2.390000</td>\n",
       "    </tr>\n",
       "  </tbody>\n",
       "</table>\n",
       "<p>5 rows × 543 columns</p>\n",
       "</div>"
      ],
      "text/plain": [
       "      COART   pred_S1    pred_S2  target     MSE_s1     MSE_s2   cut_length  \\\n",
       "0  L7011572  2.532661   0.525496    0.49   4.172465   0.001260   550.806946   \n",
       "1  L8407220  6.810819   4.797794    6.10   0.505263   1.695741  4099.324707   \n",
       "2  L8414000  8.841271   9.069647   12.86  16.150182  14.366778  1977.038452   \n",
       "3  L6005092  8.561731  10.976526   10.01   2.097483   0.934173  3336.436768   \n",
       "4  L3130840  8.266264   6.214531    5.87   5.742083   0.118702  1526.268555   \n",
       "\n",
       "   num_closed_patterns  num_open_patterns     total_area        ...         \\\n",
       "0                    2                  0   14566.341797        ...          \n",
       "1                   14                  0  177817.437500        ...          \n",
       "2                    4                  0   48819.046875        ...          \n",
       "3                   18                  0  135501.937500        ...          \n",
       "4                    6                  0   27662.689453        ...          \n",
       "\n",
       "   thick_20.0  VAMAT  VALAJOUT  VALTOT  VOL_COST_CONVHULL  VOL_COST_RECTANGLE  \\\n",
       "0           0   0.49      0.95    1.44           0.000007            0.000007   \n",
       "1           0   6.10      4.52   10.62           0.000011            0.000011   \n",
       "2           0  12.86      2.46   15.32           0.000014            0.000011   \n",
       "3           0  10.01      5.98   15.99           0.000007            0.000007   \n",
       "4           0   5.87      2.39    8.26           0.000008            0.000007   \n",
       "\n",
       "   VOL_COST_MPATTERN  bend_group  SURF_COST_RECTANGLE  APPROX_BEND_COST  \n",
       "0           0.000007           0             0.000033          0.950000  \n",
       "1           0.000011         1-2             0.000034          1.506667  \n",
       "2           0.000015           0             0.000131          2.460000  \n",
       "3           0.000009         1-2             0.000057          1.993333  \n",
       "4           0.000010           0             0.000098          2.390000  \n",
       "\n",
       "[5 rows x 543 columns]"
      ]
     },
     "execution_count": 156,
     "metadata": {},
     "output_type": "execute_result"
    }
   ],
   "source": [
    "comparisonset.head()"
   ]
  },
  {
   "cell_type": "code",
   "execution_count": 157,
   "metadata": {},
   "outputs": [
    {
     "data": {
      "text/html": [
       "<div>\n",
       "<style scoped>\n",
       "    .dataframe tbody tr th:only-of-type {\n",
       "        vertical-align: middle;\n",
       "    }\n",
       "\n",
       "    .dataframe tbody tr th {\n",
       "        vertical-align: top;\n",
       "    }\n",
       "\n",
       "    .dataframe thead th {\n",
       "        text-align: right;\n",
       "    }\n",
       "</style>\n",
       "<table border=\"1\" class=\"dataframe\">\n",
       "  <thead>\n",
       "    <tr style=\"text-align: right;\">\n",
       "      <th></th>\n",
       "      <th>VAMAT</th>\n",
       "      <th>pred_S1</th>\n",
       "      <th>MAPE_error_s1</th>\n",
       "      <th>pred_S2</th>\n",
       "      <th>MAPE_error_s2</th>\n",
       "    </tr>\n",
       "  </thead>\n",
       "  <tbody>\n",
       "    <tr>\n",
       "      <th>0</th>\n",
       "      <td>0.49</td>\n",
       "      <td>2.532661</td>\n",
       "      <td>416.869658</td>\n",
       "      <td>0.525496</td>\n",
       "      <td>7.244163</td>\n",
       "    </tr>\n",
       "    <tr>\n",
       "      <th>1</th>\n",
       "      <td>6.10</td>\n",
       "      <td>6.810819</td>\n",
       "      <td>11.652767</td>\n",
       "      <td>4.797794</td>\n",
       "      <td>21.347641</td>\n",
       "    </tr>\n",
       "    <tr>\n",
       "      <th>2</th>\n",
       "      <td>12.86</td>\n",
       "      <td>8.841271</td>\n",
       "      <td>31.249836</td>\n",
       "      <td>9.069647</td>\n",
       "      <td>29.473976</td>\n",
       "    </tr>\n",
       "    <tr>\n",
       "      <th>3</th>\n",
       "      <td>10.01</td>\n",
       "      <td>8.561731</td>\n",
       "      <td>14.468223</td>\n",
       "      <td>10.976526</td>\n",
       "      <td>9.655605</td>\n",
       "    </tr>\n",
       "    <tr>\n",
       "      <th>4</th>\n",
       "      <td>5.87</td>\n",
       "      <td>8.266264</td>\n",
       "      <td>40.822221</td>\n",
       "      <td>6.214531</td>\n",
       "      <td>5.869356</td>\n",
       "    </tr>\n",
       "  </tbody>\n",
       "</table>\n",
       "</div>"
      ],
      "text/plain": [
       "   VAMAT   pred_S1  MAPE_error_s1    pred_S2  MAPE_error_s2\n",
       "0   0.49  2.532661     416.869658   0.525496       7.244163\n",
       "1   6.10  6.810819      11.652767   4.797794      21.347641\n",
       "2  12.86  8.841271      31.249836   9.069647      29.473976\n",
       "3  10.01  8.561731      14.468223  10.976526       9.655605\n",
       "4   5.87  8.266264      40.822221   6.214531       5.869356"
      ]
     },
     "execution_count": 157,
     "metadata": {},
     "output_type": "execute_result"
    }
   ],
   "source": [
    "#mean_absolute_percentage_error\n",
    "comparisonset['MAPE_error_s1'] = comparisonset.apply(lambda x: mean_absolute_percentage_error(x['target'], x['pred_S1']), axis=1)\n",
    "comparisonset['MAPE_error_s2'] = comparisonset.apply(lambda x: mean_absolute_percentage_error(x['target'], x['pred_S2']), axis=1)\n",
    "comparisonset[[target, 'pred_S1', 'MAPE_error_s1', 'pred_S2', 'MAPE_error_s2']].head()"
   ]
  },
  {
   "cell_type": "code",
   "execution_count": 158,
   "metadata": {},
   "outputs": [
    {
     "data": {
      "text/plain": [
       "33.41566907013853"
      ]
     },
     "execution_count": 158,
     "metadata": {},
     "output_type": "execute_result"
    }
   ],
   "source": [
    "mean_absolute_percentage_error(comparisonset['target'], comparisonset['pred_S2'])"
   ]
  },
  {
   "cell_type": "code",
   "execution_count": 159,
   "metadata": {},
   "outputs": [
    {
     "data": {
      "text/plain": [
       "33.4156690701385"
      ]
     },
     "execution_count": 159,
     "metadata": {},
     "output_type": "execute_result"
    }
   ],
   "source": [
    "comparisonset['MAPE_error_s2'].mean()"
   ]
  },
  {
   "cell_type": "code",
   "execution_count": 160,
   "metadata": {},
   "outputs": [
    {
     "data": {
      "image/png": "[encoded data removed]",
      "text/plain": [
       "<Figure size 432x288 with 1 Axes>"
      ]
     },
     "metadata": {},
     "output_type": "display_data"
    },
    {
     "data": {
      "text/html": [
       "<div>\n",
       "<style scoped>\n",
       "    .dataframe tbody tr th:only-of-type {\n",
       "        vertical-align: middle;\n",
       "    }\n",
       "\n",
       "    .dataframe tbody tr th {\n",
       "        vertical-align: top;\n",
       "    }\n",
       "\n",
       "    .dataframe thead th {\n",
       "        text-align: right;\n",
       "    }\n",
       "</style>\n",
       "<table border=\"1\" class=\"dataframe\">\n",
       "  <thead>\n",
       "    <tr style=\"text-align: right;\">\n",
       "      <th></th>\n",
       "      <th>MAPE_error_s1</th>\n",
       "      <th>MAPE_error_s2</th>\n",
       "    </tr>\n",
       "    <tr>\n",
       "      <th>thickness</th>\n",
       "      <th></th>\n",
       "      <th></th>\n",
       "    </tr>\n",
       "  </thead>\n",
       "  <tbody>\n",
       "    <tr>\n",
       "      <th>2.0</th>\n",
       "      <td>210.702961</td>\n",
       "      <td>18.443647</td>\n",
       "    </tr>\n",
       "    <tr>\n",
       "      <th>3.0</th>\n",
       "      <td>149.831477</td>\n",
       "      <td>58.424756</td>\n",
       "    </tr>\n",
       "    <tr>\n",
       "      <th>4.0</th>\n",
       "      <td>123.447481</td>\n",
       "      <td>51.659340</td>\n",
       "    </tr>\n",
       "    <tr>\n",
       "      <th>5.0</th>\n",
       "      <td>192.311489</td>\n",
       "      <td>11.675571</td>\n",
       "    </tr>\n",
       "    <tr>\n",
       "      <th>6.0</th>\n",
       "      <td>199.377307</td>\n",
       "      <td>53.192810</td>\n",
       "    </tr>\n",
       "    <tr>\n",
       "      <th>8.0</th>\n",
       "      <td>183.199163</td>\n",
       "      <td>16.405340</td>\n",
       "    </tr>\n",
       "    <tr>\n",
       "      <th>10.0</th>\n",
       "      <td>156.037006</td>\n",
       "      <td>21.388847</td>\n",
       "    </tr>\n",
       "    <tr>\n",
       "      <th>12.0</th>\n",
       "      <td>247.207170</td>\n",
       "      <td>21.186972</td>\n",
       "    </tr>\n",
       "    <tr>\n",
       "      <th>15.0</th>\n",
       "      <td>151.496966</td>\n",
       "      <td>16.961469</td>\n",
       "    </tr>\n",
       "  </tbody>\n",
       "</table>\n",
       "</div>"
      ],
      "text/plain": [
       "           MAPE_error_s1  MAPE_error_s2\n",
       "thickness                              \n",
       "2.0           210.702961      18.443647\n",
       "3.0           149.831477      58.424756\n",
       "4.0           123.447481      51.659340\n",
       "5.0           192.311489      11.675571\n",
       "6.0           199.377307      53.192810\n",
       "8.0           183.199163      16.405340\n",
       "10.0          156.037006      21.388847\n",
       "12.0          247.207170      21.186972\n",
       "15.0          151.496966      16.961469"
      ]
     },
     "execution_count": 160,
     "metadata": {},
     "output_type": "execute_result"
    }
   ],
   "source": [
    "df = comparisonset[['MAPE_error_s1', 'MAPE_error_s2', 'thickness']].groupby('thickness').mean()\n",
    "df.plot.bar()\n",
    "plt.title(f'{target} MAPE')\n",
    "plt.show()\n",
    "df"
   ]
  },
  {
   "cell_type": "code",
   "execution_count": 161,
   "metadata": {},
   "outputs": [
    {
     "data": {
      "text/html": [
       "<div>\n",
       "<style scoped>\n",
       "    .dataframe tbody tr th:only-of-type {\n",
       "        vertical-align: middle;\n",
       "    }\n",
       "\n",
       "    .dataframe tbody tr th {\n",
       "        vertical-align: top;\n",
       "    }\n",
       "\n",
       "    .dataframe thead tr th {\n",
       "        text-align: left;\n",
       "    }\n",
       "\n",
       "    .dataframe thead tr:last-of-type th {\n",
       "        text-align: right;\n",
       "    }\n",
       "</style>\n",
       "<table border=\"1\" class=\"dataframe\">\n",
       "  <thead>\n",
       "    <tr>\n",
       "      <th></th>\n",
       "      <th></th>\n",
       "      <th colspan=\"2\" halign=\"left\">MSE_s2</th>\n",
       "      <th colspan=\"2\" halign=\"left\">MAPE_error_s2</th>\n",
       "      <th>COART</th>\n",
       "    </tr>\n",
       "    <tr>\n",
       "      <th></th>\n",
       "      <th></th>\n",
       "      <th>mean</th>\n",
       "      <th>max</th>\n",
       "      <th>mean</th>\n",
       "      <th>max</th>\n",
       "      <th>count</th>\n",
       "    </tr>\n",
       "    <tr>\n",
       "      <th>thickness</th>\n",
       "      <th>bend_group</th>\n",
       "      <th></th>\n",
       "      <th></th>\n",
       "      <th></th>\n",
       "      <th></th>\n",
       "      <th></th>\n",
       "    </tr>\n",
       "  </thead>\n",
       "  <tbody>\n",
       "    <tr>\n",
       "      <th rowspan=\"4\" valign=\"top\">2.0</th>\n",
       "      <th>0</th>\n",
       "      <td>1.313112</td>\n",
       "      <td>3.915173</td>\n",
       "      <td>13.884945</td>\n",
       "      <td>30.856137</td>\n",
       "      <td>3</td>\n",
       "    </tr>\n",
       "    <tr>\n",
       "      <th>1-2</th>\n",
       "      <td>1.280770</td>\n",
       "      <td>9.365195</td>\n",
       "      <td>24.632687</td>\n",
       "      <td>52.037025</td>\n",
       "      <td>12</td>\n",
       "    </tr>\n",
       "    <tr>\n",
       "      <th>3-5</th>\n",
       "      <td>6.234078</td>\n",
       "      <td>56.800679</td>\n",
       "      <td>10.396093</td>\n",
       "      <td>33.901962</td>\n",
       "      <td>12</td>\n",
       "    </tr>\n",
       "    <tr>\n",
       "      <th>6+</th>\n",
       "      <td>16.786809</td>\n",
       "      <td>31.103377</td>\n",
       "      <td>30.436403</td>\n",
       "      <td>39.807489</td>\n",
       "      <td>3</td>\n",
       "    </tr>\n",
       "    <tr>\n",
       "      <th rowspan=\"4\" valign=\"top\">3.0</th>\n",
       "      <th>0</th>\n",
       "      <td>2.093294</td>\n",
       "      <td>23.049314</td>\n",
       "      <td>42.016479</td>\n",
       "      <td>73.132232</td>\n",
       "      <td>34</td>\n",
       "    </tr>\n",
       "    <tr>\n",
       "      <th>1-2</th>\n",
       "      <td>2.705331</td>\n",
       "      <td>66.684176</td>\n",
       "      <td>57.628186</td>\n",
       "      <td>525.583435</td>\n",
       "      <td>56</td>\n",
       "    </tr>\n",
       "    <tr>\n",
       "      <th>3-5</th>\n",
       "      <td>30.447559</td>\n",
       "      <td>322.553342</td>\n",
       "      <td>51.356152</td>\n",
       "      <td>379.741219</td>\n",
       "      <td>37</td>\n",
       "    </tr>\n",
       "    <tr>\n",
       "      <th>6+</th>\n",
       "      <td>18.529096</td>\n",
       "      <td>63.070364</td>\n",
       "      <td>181.857272</td>\n",
       "      <td>845.452012</td>\n",
       "      <td>7</td>\n",
       "    </tr>\n",
       "    <tr>\n",
       "      <th rowspan=\"4\" valign=\"top\">4.0</th>\n",
       "      <th>0</th>\n",
       "      <td>0.750929</td>\n",
       "      <td>9.525902</td>\n",
       "      <td>34.440580</td>\n",
       "      <td>68.510081</td>\n",
       "      <td>23</td>\n",
       "    </tr>\n",
       "    <tr>\n",
       "      <th>1-2</th>\n",
       "      <td>3.425253</td>\n",
       "      <td>74.975602</td>\n",
       "      <td>50.969377</td>\n",
       "      <td>405.310033</td>\n",
       "      <td>116</td>\n",
       "    </tr>\n",
       "    <tr>\n",
       "      <th>3-5</th>\n",
       "      <td>20.961972</td>\n",
       "      <td>283.543616</td>\n",
       "      <td>63.911587</td>\n",
       "      <td>606.060108</td>\n",
       "      <td>46</td>\n",
       "    </tr>\n",
       "    <tr>\n",
       "      <th>6+</th>\n",
       "      <td>1.106291</td>\n",
       "      <td>1.941735</td>\n",
       "      <td>22.480633</td>\n",
       "      <td>49.766489</td>\n",
       "      <td>3</td>\n",
       "    </tr>\n",
       "    <tr>\n",
       "      <th rowspan=\"4\" valign=\"top\">5.0</th>\n",
       "      <th>0</th>\n",
       "      <td>0.552277</td>\n",
       "      <td>14.001374</td>\n",
       "      <td>13.060737</td>\n",
       "      <td>33.200335</td>\n",
       "      <td>55</td>\n",
       "    </tr>\n",
       "    <tr>\n",
       "      <th>1-2</th>\n",
       "      <td>1.915150</td>\n",
       "      <td>143.308843</td>\n",
       "      <td>10.100549</td>\n",
       "      <td>33.256337</td>\n",
       "      <td>79</td>\n",
       "    </tr>\n",
       "    <tr>\n",
       "      <th>3-5</th>\n",
       "      <td>17.931765</td>\n",
       "      <td>216.278635</td>\n",
       "      <td>12.231764</td>\n",
       "      <td>29.234333</td>\n",
       "      <td>33</td>\n",
       "    </tr>\n",
       "    <tr>\n",
       "      <th>6+</th>\n",
       "      <td>20.714974</td>\n",
       "      <td>80.990826</td>\n",
       "      <td>15.945314</td>\n",
       "      <td>22.079221</td>\n",
       "      <td>7</td>\n",
       "    </tr>\n",
       "    <tr>\n",
       "      <th rowspan=\"4\" valign=\"top\">6.0</th>\n",
       "      <th>0</th>\n",
       "      <td>2.818562</td>\n",
       "      <td>155.373932</td>\n",
       "      <td>46.813974</td>\n",
       "      <td>102.729302</td>\n",
       "      <td>138</td>\n",
       "    </tr>\n",
       "    <tr>\n",
       "      <th>1-2</th>\n",
       "      <td>3.737997</td>\n",
       "      <td>134.977204</td>\n",
       "      <td>59.729738</td>\n",
       "      <td>759.272577</td>\n",
       "      <td>179</td>\n",
       "    </tr>\n",
       "    <tr>\n",
       "      <th>3-5</th>\n",
       "      <td>15.596517</td>\n",
       "      <td>267.064735</td>\n",
       "      <td>46.137922</td>\n",
       "      <td>256.121132</td>\n",
       "      <td>31</td>\n",
       "    </tr>\n",
       "    <tr>\n",
       "      <th>6+</th>\n",
       "      <td>7.092217</td>\n",
       "      <td>15.271222</td>\n",
       "      <td>38.966985</td>\n",
       "      <td>55.724510</td>\n",
       "      <td>5</td>\n",
       "    </tr>\n",
       "    <tr>\n",
       "      <th rowspan=\"3\" valign=\"top\">8.0</th>\n",
       "      <th>0</th>\n",
       "      <td>1.908024</td>\n",
       "      <td>101.851645</td>\n",
       "      <td>19.966549</td>\n",
       "      <td>56.422148</td>\n",
       "      <td>132</td>\n",
       "    </tr>\n",
       "    <tr>\n",
       "      <th>1-2</th>\n",
       "      <td>2.026818</td>\n",
       "      <td>49.717421</td>\n",
       "      <td>13.186866</td>\n",
       "      <td>67.551536</td>\n",
       "      <td>130</td>\n",
       "    </tr>\n",
       "    <tr>\n",
       "      <th>3-5</th>\n",
       "      <td>13.672737</td>\n",
       "      <td>273.032474</td>\n",
       "      <td>14.623342</td>\n",
       "      <td>64.874836</td>\n",
       "      <td>29</td>\n",
       "    </tr>\n",
       "    <tr>\n",
       "      <th rowspan=\"3\" valign=\"top\">10.0</th>\n",
       "      <th>0</th>\n",
       "      <td>6.645578</td>\n",
       "      <td>248.937897</td>\n",
       "      <td>22.628960</td>\n",
       "      <td>75.230549</td>\n",
       "      <td>90</td>\n",
       "    </tr>\n",
       "    <tr>\n",
       "      <th>1-2</th>\n",
       "      <td>15.413432</td>\n",
       "      <td>264.796156</td>\n",
       "      <td>20.285323</td>\n",
       "      <td>60.304187</td>\n",
       "      <td>95</td>\n",
       "    </tr>\n",
       "    <tr>\n",
       "      <th>3-5</th>\n",
       "      <td>99.516260</td>\n",
       "      <td>669.851069</td>\n",
       "      <td>20.420938</td>\n",
       "      <td>31.062747</td>\n",
       "      <td>7</td>\n",
       "    </tr>\n",
       "    <tr>\n",
       "      <th rowspan=\"3\" valign=\"top\">12.0</th>\n",
       "      <th>0</th>\n",
       "      <td>11.810877</td>\n",
       "      <td>284.773185</td>\n",
       "      <td>22.194977</td>\n",
       "      <td>99.074284</td>\n",
       "      <td>66</td>\n",
       "    </tr>\n",
       "    <tr>\n",
       "      <th>1-2</th>\n",
       "      <td>31.446697</td>\n",
       "      <td>530.799827</td>\n",
       "      <td>19.338453</td>\n",
       "      <td>57.411147</td>\n",
       "      <td>38</td>\n",
       "    </tr>\n",
       "    <tr>\n",
       "      <th>3-5</th>\n",
       "      <td>0.876711</td>\n",
       "      <td>0.876711</td>\n",
       "      <td>24.902357</td>\n",
       "      <td>24.902357</td>\n",
       "      <td>1</td>\n",
       "    </tr>\n",
       "    <tr>\n",
       "      <th rowspan=\"3\" valign=\"top\">15.0</th>\n",
       "      <th>0</th>\n",
       "      <td>4.776751</td>\n",
       "      <td>109.551964</td>\n",
       "      <td>17.093937</td>\n",
       "      <td>53.161069</td>\n",
       "      <td>48</td>\n",
       "    </tr>\n",
       "    <tr>\n",
       "      <th>1-2</th>\n",
       "      <td>5.295260</td>\n",
       "      <td>33.395575</td>\n",
       "      <td>15.228113</td>\n",
       "      <td>24.932819</td>\n",
       "      <td>11</td>\n",
       "    </tr>\n",
       "    <tr>\n",
       "      <th>3-5</th>\n",
       "      <td>19.727751</td>\n",
       "      <td>19.727751</td>\n",
       "      <td>29.669962</td>\n",
       "      <td>29.669962</td>\n",
       "      <td>1</td>\n",
       "    </tr>\n",
       "  </tbody>\n",
       "</table>\n",
       "</div>"
      ],
      "text/plain": [
       "                         MSE_s2             MAPE_error_s2             COART\n",
       "                           mean         max          mean         max count\n",
       "thickness bend_group                                                       \n",
       "2.0       0            1.313112    3.915173     13.884945   30.856137     3\n",
       "          1-2          1.280770    9.365195     24.632687   52.037025    12\n",
       "          3-5          6.234078   56.800679     10.396093   33.901962    12\n",
       "          6+          16.786809   31.103377     30.436403   39.807489     3\n",
       "3.0       0            2.093294   23.049314     42.016479   73.132232    34\n",
       "          1-2          2.705331   66.684176     57.628186  525.583435    56\n",
       "          3-5         30.447559  322.553342     51.356152  379.741219    37\n",
       "          6+          18.529096   63.070364    181.857272  845.452012     7\n",
       "4.0       0            0.750929    9.525902     34.440580   68.510081    23\n",
       "          1-2          3.425253   74.975602     50.969377  405.310033   116\n",
       "          3-5         20.961972  283.543616     63.911587  606.060108    46\n",
       "          6+           1.106291    1.941735     22.480633   49.766489     3\n",
       "5.0       0            0.552277   14.001374     13.060737   33.200335    55\n",
       "          1-2          1.915150  143.308843     10.100549   33.256337    79\n",
       "          3-5         17.931765  216.278635     12.231764   29.234333    33\n",
       "          6+          20.714974   80.990826     15.945314   22.079221     7\n",
       "6.0       0            2.818562  155.373932     46.813974  102.729302   138\n",
       "          1-2          3.737997  134.977204     59.729738  759.272577   179\n",
       "          3-5         15.596517  267.064735     46.137922  256.121132    31\n",
       "          6+           7.092217   15.271222     38.966985   55.724510     5\n",
       "8.0       0            1.908024  101.851645     19.966549   56.422148   132\n",
       "          1-2          2.026818   49.717421     13.186866   67.551536   130\n",
       "          3-5         13.672737  273.032474     14.623342   64.874836    29\n",
       "10.0      0            6.645578  248.937897     22.628960   75.230549    90\n",
       "          1-2         15.413432  264.796156     20.285323   60.304187    95\n",
       "          3-5         99.516260  669.851069     20.420938   31.062747     7\n",
       "12.0      0           11.810877  284.773185     22.194977   99.074284    66\n",
       "          1-2         31.446697  530.799827     19.338453   57.411147    38\n",
       "          3-5          0.876711    0.876711     24.902357   24.902357     1\n",
       "15.0      0            4.776751  109.551964     17.093937   53.161069    48\n",
       "          1-2          5.295260   33.395575     15.228113   24.932819    11\n",
       "          3-5         19.727751   19.727751     29.669962   29.669962     1"
      ]
     },
     "execution_count": 161,
     "metadata": {},
     "output_type": "execute_result"
    }
   ],
   "source": [
    "df = comparisonset[['MSE_s2', 'MAPE_error_s2', 'thickness', 'bend_group', 'COART']].groupby(['thickness', 'bend_group'])#.mean()\n",
    "df.agg({'MSE_s2': ['mean', 'max'], 'MAPE_error_s2': ['mean', 'max'],'COART':['count'] })"
   ]
  },
  {
   "cell_type": "code",
   "execution_count": null,
   "metadata": {},
   "outputs": [],
   "source": []
  },
  {
   "cell_type": "code",
   "execution_count": 162,
   "metadata": {},
   "outputs": [
    {
     "data": {
      "image/png": "[encoded data removed]",
      "text/plain": [
       "<Figure size 1080x720 with 1 Axes>"
      ]
     },
     "metadata": {},
     "output_type": "display_data"
    }
   ],
   "source": [
    "df=comparisonset[['target', 'pred_S2', 'COART', 'thickness']]\n",
    "#df=df[df['thickness']!=15]\n",
    "df.set_index(['COART', 'thickness'], inplace=True)\n",
    "df = df.stack().reset_index()\n",
    "fig, ax = plt.subplots(figsize=(15,10))\n",
    "#ax.set_ylim(-20, 50)\n",
    "sns.violinplot(x=\"thickness\", y=0, data=df, split=True, hue='level_2', ax=ax)\n",
    "\n",
    "plt.show()"
   ]
  },
  {
   "cell_type": "code",
   "execution_count": 163,
   "metadata": {},
   "outputs": [
    {
     "name": "stderr",
     "output_type": "stream",
     "text": [
      "/Users/cricket/anaconda3/lib/python3.6/site-packages/matplotlib/axes/_axes.py:6448: UserWarning: The 'normed' kwarg is deprecated, and has been replaced by the 'density' kwarg.\n",
      "  warnings.warn(\"The 'normed' kwarg is deprecated, and has been \"\n"
     ]
    },
    {
     "data": {
      "text/plain": [
       "<seaborn.axisgrid.JointGrid at 0x1a10d442b0>"
      ]
     },
     "execution_count": 163,
     "metadata": {},
     "output_type": "execute_result"
    },
    {
     "data": {
      "image/png": "[encoded data removed]",
      "text/plain": [
       "<Figure size 576x576 with 3 Axes>"
      ]
     },
     "metadata": {},
     "output_type": "display_data"
    }
   ],
   "source": [
    "sns.jointplot(x='target', y='pred_S2', data=comparisonset, kind='reg', size=8)"
   ]
  },
  {
   "cell_type": "code",
   "execution_count": 164,
   "metadata": {},
   "outputs": [
    {
     "data": {
      "text/plain": [
       "thickness  COART   \n",
       "2.0        L6019231     56.800679\n",
       "           L5606400     31.103377\n",
       "           L5606430     16.956776\n",
       "3.0        L8416761    322.553342\n",
       "           L8416631    322.553342\n",
       "           L8416751    322.553342\n",
       "4.0        L8055510    283.543616\n",
       "           L8055540    158.101881\n",
       "           L8835250     93.256896\n",
       "5.0        L8834210    216.278635\n",
       "           L8415690    143.308843\n",
       "           L7072760    122.991588\n",
       "6.0        L3121180    267.064735\n",
       "           L7033761    155.373932\n",
       "           L7057910    134.977204\n",
       "8.0        L2609180    273.032474\n",
       "           L3045400    101.851645\n",
       "           L8024980     59.723229\n",
       "10.0       L7073230    669.851069\n",
       "           L7065260    264.796156\n",
       "           L3125470    248.937897\n",
       "12.0       L3020620    530.799827\n",
       "           L3020500    530.799827\n",
       "           L3054490    284.773185\n",
       "15.0       L8833300    109.551964\n",
       "           L2512080     34.481813\n",
       "           L8835240     33.395575\n",
       "Name: MSE_s2, dtype: float64"
      ]
     },
     "execution_count": 164,
     "metadata": {},
     "output_type": "execute_result"
    }
   ],
   "source": [
    "df = comparisonset[['MSE_s2', 'COART', 'thickness']]\n",
    "df.set_index('COART', inplace=True)\n",
    "worst = df.groupby('thickness')['MSE_s2'].nlargest(3)\n",
    "worst\n",
    "#worst.to_csv('worst_s0.csv')"
   ]
  },
  {
   "cell_type": "code",
   "execution_count": null,
   "metadata": {},
   "outputs": [],
   "source": []
  }
 ],
 "metadata": {
  "kernelspec": {
   "display_name": "Python 3",
   "language": "python",
   "name": "python3"
  },
  "language_info": {
   "codemirror_mode": {
    "name": "ipython",
    "version": 3
   },
   "file_extension": ".py",
   "mimetype": "text/x-python",
   "name": "python",
   "nbconvert_exporter": "python",
   "pygments_lexer": "ipython3",
   "version": "3.6.4"
  }
 },
 "nbformat": 4,
 "nbformat_minor": 2
}
