{
 "cells": [
  {
   "cell_type": "code",
   "execution_count": 1,
   "metadata": {},
   "outputs": [],
   "source": [
    "import numpy as np\n",
    "import pandas as pd\n",
    "import matplotlib.pyplot as plt\n",
    "import seaborn as sns"
   ]
  },
  {
   "cell_type": "markdown",
   "metadata": {},
   "source": [
    "# Dataset loading"
   ]
  },
  {
   "cell_type": "code",
   "execution_count": 2,
   "metadata": {},
   "outputs": [
    {
     "name": "stdout",
     "output_type": "stream",
     "text": [
      "dataset shape: (4534, 281)\n"
     ]
    },
    {
     "data": {
      "text/html": [
       "<div>\n",
       "<style scoped>\n",
       "    .dataframe tbody tr th:only-of-type {\n",
       "        vertical-align: middle;\n",
       "    }\n",
       "\n",
       "    .dataframe tbody tr th {\n",
       "        vertical-align: top;\n",
       "    }\n",
       "\n",
       "    .dataframe thead th {\n",
       "        text-align: right;\n",
       "    }\n",
       "</style>\n",
       "<table border=\"1\" class=\"dataframe\">\n",
       "  <thead>\n",
       "    <tr style=\"text-align: right;\">\n",
       "      <th></th>\n",
       "      <th>cut_length</th>\n",
       "      <th>num_closed_patterns</th>\n",
       "      <th>num_open_patterns</th>\n",
       "      <th>total_area</th>\n",
       "      <th>minimum_rectangle_area</th>\n",
       "      <th>minimum_rectangle_dim1</th>\n",
       "      <th>minimum_rectangle_dim2</th>\n",
       "      <th>convex_hull_area</th>\n",
       "      <th>no_hole_area</th>\n",
       "      <th>thickness</th>\n",
       "      <th>...</th>\n",
       "      <th>bend_edge_length_std_09</th>\n",
       "      <th>bend_edge_length_min_09</th>\n",
       "      <th>bend_edge_length_max_09</th>\n",
       "      <th>VAMAT</th>\n",
       "      <th>VALAJOUT</th>\n",
       "      <th>VALTOT</th>\n",
       "      <th>VOL_COST_CONVHULL</th>\n",
       "      <th>VOL_COST_RECTANGLE</th>\n",
       "      <th>VOL_COST_MPATTERN</th>\n",
       "      <th>bend_group</th>\n",
       "    </tr>\n",
       "    <tr>\n",
       "      <th>COART</th>\n",
       "      <th></th>\n",
       "      <th></th>\n",
       "      <th></th>\n",
       "      <th></th>\n",
       "      <th></th>\n",
       "      <th></th>\n",
       "      <th></th>\n",
       "      <th></th>\n",
       "      <th></th>\n",
       "      <th></th>\n",
       "      <th></th>\n",
       "      <th></th>\n",
       "      <th></th>\n",
       "      <th></th>\n",
       "      <th></th>\n",
       "      <th></th>\n",
       "      <th></th>\n",
       "      <th></th>\n",
       "      <th></th>\n",
       "      <th></th>\n",
       "      <th></th>\n",
       "    </tr>\n",
       "  </thead>\n",
       "  <tbody>\n",
       "    <tr>\n",
       "      <th>L1600360</th>\n",
       "      <td>3178.489502</td>\n",
       "      <td>9</td>\n",
       "      <td>0</td>\n",
       "      <td>285678.093750</td>\n",
       "      <td>431798.46875</td>\n",
       "      <td>722.070984</td>\n",
       "      <td>598.000000</td>\n",
       "      <td>320484.593750</td>\n",
       "      <td>286893.718750</td>\n",
       "      <td>4.0</td>\n",
       "      <td>...</td>\n",
       "      <td>0.0</td>\n",
       "      <td>0.0</td>\n",
       "      <td>0.0</td>\n",
       "      <td>12.51</td>\n",
       "      <td>5.15</td>\n",
       "      <td>17.66</td>\n",
       "      <td>0.000010</td>\n",
       "      <td>0.000007</td>\n",
       "      <td>0.000011</td>\n",
       "      <td>3-5</td>\n",
       "    </tr>\n",
       "    <tr>\n",
       "      <th>L1600470</th>\n",
       "      <td>317.114502</td>\n",
       "      <td>1</td>\n",
       "      <td>0</td>\n",
       "      <td>3403.138184</td>\n",
       "      <td>3500.00000</td>\n",
       "      <td>140.000000</td>\n",
       "      <td>25.000000</td>\n",
       "      <td>3403.138184</td>\n",
       "      <td>3403.138184</td>\n",
       "      <td>10.0</td>\n",
       "      <td>...</td>\n",
       "      <td>0.0</td>\n",
       "      <td>0.0</td>\n",
       "      <td>0.0</td>\n",
       "      <td>0.25</td>\n",
       "      <td>0.92</td>\n",
       "      <td>1.17</td>\n",
       "      <td>0.000007</td>\n",
       "      <td>0.000007</td>\n",
       "      <td>0.000007</td>\n",
       "      <td>0</td>\n",
       "    </tr>\n",
       "    <tr>\n",
       "      <th>L1600700</th>\n",
       "      <td>625.429871</td>\n",
       "      <td>2</td>\n",
       "      <td>0</td>\n",
       "      <td>10823.929688</td>\n",
       "      <td>12759.00000</td>\n",
       "      <td>255.179993</td>\n",
       "      <td>50.000000</td>\n",
       "      <td>11152.315430</td>\n",
       "      <td>11152.315430</td>\n",
       "      <td>10.0</td>\n",
       "      <td>...</td>\n",
       "      <td>0.0</td>\n",
       "      <td>0.0</td>\n",
       "      <td>0.0</td>\n",
       "      <td>0.75</td>\n",
       "      <td>1.61</td>\n",
       "      <td>2.36</td>\n",
       "      <td>0.000007</td>\n",
       "      <td>0.000006</td>\n",
       "      <td>0.000007</td>\n",
       "      <td>1-2</td>\n",
       "    </tr>\n",
       "    <tr>\n",
       "      <th>L1600710</th>\n",
       "      <td>625.429871</td>\n",
       "      <td>2</td>\n",
       "      <td>0</td>\n",
       "      <td>10823.929688</td>\n",
       "      <td>12759.00000</td>\n",
       "      <td>255.179993</td>\n",
       "      <td>50.000000</td>\n",
       "      <td>11152.315430</td>\n",
       "      <td>11152.315430</td>\n",
       "      <td>10.0</td>\n",
       "      <td>...</td>\n",
       "      <td>0.0</td>\n",
       "      <td>0.0</td>\n",
       "      <td>0.0</td>\n",
       "      <td>0.75</td>\n",
       "      <td>1.61</td>\n",
       "      <td>2.36</td>\n",
       "      <td>0.000007</td>\n",
       "      <td>0.000006</td>\n",
       "      <td>0.000007</td>\n",
       "      <td>1-2</td>\n",
       "    </tr>\n",
       "    <tr>\n",
       "      <th>L1605790</th>\n",
       "      <td>2535.909668</td>\n",
       "      <td>5</td>\n",
       "      <td>0</td>\n",
       "      <td>184134.328125</td>\n",
       "      <td>355747.34375</td>\n",
       "      <td>826.389404</td>\n",
       "      <td>430.483917</td>\n",
       "      <td>230244.703125</td>\n",
       "      <td>184672.265625</td>\n",
       "      <td>5.0</td>\n",
       "      <td>...</td>\n",
       "      <td>0.0</td>\n",
       "      <td>0.0</td>\n",
       "      <td>0.0</td>\n",
       "      <td>12.24</td>\n",
       "      <td>5.72</td>\n",
       "      <td>17.96</td>\n",
       "      <td>0.000011</td>\n",
       "      <td>0.000007</td>\n",
       "      <td>0.000013</td>\n",
       "      <td>3-5</td>\n",
       "    </tr>\n",
       "  </tbody>\n",
       "</table>\n",
       "<p>5 rows × 281 columns</p>\n",
       "</div>"
      ],
      "text/plain": [
       "           cut_length  num_closed_patterns  num_open_patterns     total_area  \\\n",
       "COART                                                                          \n",
       "L1600360  3178.489502                    9                  0  285678.093750   \n",
       "L1600470   317.114502                    1                  0    3403.138184   \n",
       "L1600700   625.429871                    2                  0   10823.929688   \n",
       "L1600710   625.429871                    2                  0   10823.929688   \n",
       "L1605790  2535.909668                    5                  0  184134.328125   \n",
       "\n",
       "          minimum_rectangle_area  minimum_rectangle_dim1  \\\n",
       "COART                                                      \n",
       "L1600360            431798.46875              722.070984   \n",
       "L1600470              3500.00000              140.000000   \n",
       "L1600700             12759.00000              255.179993   \n",
       "L1600710             12759.00000              255.179993   \n",
       "L1605790            355747.34375              826.389404   \n",
       "\n",
       "          minimum_rectangle_dim2  convex_hull_area   no_hole_area  thickness  \\\n",
       "COART                                                                          \n",
       "L1600360              598.000000     320484.593750  286893.718750        4.0   \n",
       "L1600470               25.000000       3403.138184    3403.138184       10.0   \n",
       "L1600700               50.000000      11152.315430   11152.315430       10.0   \n",
       "L1600710               50.000000      11152.315430   11152.315430       10.0   \n",
       "L1605790              430.483917     230244.703125  184672.265625        5.0   \n",
       "\n",
       "             ...      bend_edge_length_std_09  bend_edge_length_min_09  \\\n",
       "COART        ...                                                         \n",
       "L1600360     ...                          0.0                      0.0   \n",
       "L1600470     ...                          0.0                      0.0   \n",
       "L1600700     ...                          0.0                      0.0   \n",
       "L1600710     ...                          0.0                      0.0   \n",
       "L1605790     ...                          0.0                      0.0   \n",
       "\n",
       "          bend_edge_length_max_09  VAMAT  VALAJOUT  VALTOT  VOL_COST_CONVHULL  \\\n",
       "COART                                                                           \n",
       "L1600360                      0.0  12.51      5.15   17.66           0.000010   \n",
       "L1600470                      0.0   0.25      0.92    1.17           0.000007   \n",
       "L1600700                      0.0   0.75      1.61    2.36           0.000007   \n",
       "L1600710                      0.0   0.75      1.61    2.36           0.000007   \n",
       "L1605790                      0.0  12.24      5.72   17.96           0.000011   \n",
       "\n",
       "          VOL_COST_RECTANGLE  VOL_COST_MPATTERN  bend_group  \n",
       "COART                                                        \n",
       "L1600360            0.000007           0.000011         3-5  \n",
       "L1600470            0.000007           0.000007           0  \n",
       "L1600700            0.000006           0.000007         1-2  \n",
       "L1600710            0.000006           0.000007         1-2  \n",
       "L1605790            0.000007           0.000013         3-5  \n",
       "\n",
       "[5 rows x 281 columns]"
      ]
     },
     "execution_count": 2,
     "metadata": {},
     "output_type": "execute_result"
    }
   ],
   "source": [
    "dataset = pd.read_csv('../Y3 - Sample data/Z2 - datasetprepclean.csv', index_col = 0,\n",
    "                     )\n",
    "print('dataset shape:', dataset.shape)\n",
    "dataset.head()"
   ]
  },
  {
   "cell_type": "code",
   "execution_count": 3,
   "metadata": {},
   "outputs": [
    {
     "data": {
      "text/plain": [
       "array(['cut_length', 'num_closed_patterns', 'num_open_patterns',\n",
       "       'total_area', 'minimum_rectangle_area', 'minimum_rectangle_dim1',\n",
       "       'minimum_rectangle_dim2', 'convex_hull_area', 'no_hole_area',\n",
       "       'thickness', 'radius_approx', 'radius_count', 'direction_count',\n",
       "       'bend_count', 'bend_radius_00', 'bend_angle_00',\n",
       "       'bend_direction_00', 'deformation_length_00', 'merged_bend_00',\n",
       "       'punch_length_00', 'bend_radius_01', 'bend_angle_01',\n",
       "       'bend_direction_01', 'deformation_length_01', 'merged_bend_01',\n",
       "       'punch_length_01', 'bend_radius_02', 'bend_angle_02',\n",
       "       'bend_direction_02', 'deformation_length_02', 'merged_bend_02',\n",
       "       'punch_length_02', 'bend_radius_03', 'bend_angle_03',\n",
       "       'bend_direction_03', 'deformation_length_03', 'merged_bend_03',\n",
       "       'punch_length_03', 'bend_radius_04', 'bend_angle_04',\n",
       "       'bend_direction_04', 'deformation_length_04', 'merged_bend_04',\n",
       "       'punch_length_04', 'bend_radius_05', 'bend_angle_05',\n",
       "       'bend_direction_05', 'deformation_length_05', 'merged_bend_05',\n",
       "       'punch_length_05', 'bend_radius_06', 'bend_angle_06',\n",
       "       'bend_direction_06', 'deformation_length_06', 'merged_bend_06',\n",
       "       'punch_length_06', 'bend_radius_07', 'bend_angle_07',\n",
       "       'bend_direction_07', 'deformation_length_07', 'merged_bend_07',\n",
       "       'punch_length_07', 'bend_radius_08', 'bend_angle_08',\n",
       "       'bend_direction_08', 'deformation_length_08', 'merged_bend_08',\n",
       "       'punch_length_08', 'bend_radius_09', 'bend_angle_09',\n",
       "       'bend_direction_09', 'deformation_length_09', 'merged_bend_09',\n",
       "       'punch_length_09', 'bend_bend_distance_mean_00',\n",
       "       'bend_bend_distance_std_00', 'bend_bend_distance_min_00',\n",
       "       'bend_bend_distance_max_00', 'bend_bend_angle_mean_00',\n",
       "       'bend_bend_angle_std_00', 'bend_bend_angle_min_00',\n",
       "       'bend_bend_angle_max_00', 'bend_edge_distance_mean_00',\n",
       "       'bend_edge_distance_std_00', 'bend_edge_distance_min_00',\n",
       "       'bend_edge_distance_max_00', 'bend_edge_angle_mean_00',\n",
       "       'bend_edge_angle_std_00', 'bend_edge_angle_min_00',\n",
       "       'bend_edge_angle_max_00', 'bend_edge_length_mean_00',\n",
       "       'bend_edge_length_std_00', 'bend_edge_length_min_00',\n",
       "       'bend_edge_length_max_00', 'bend_bend_distance_mean_01',\n",
       "       'bend_bend_distance_std_01', 'bend_bend_distance_min_01',\n",
       "       'bend_bend_distance_max_01', 'bend_bend_angle_mean_01',\n",
       "       'bend_bend_angle_std_01', 'bend_bend_angle_min_01',\n",
       "       'bend_bend_angle_max_01', 'bend_edge_distance_mean_01',\n",
       "       'bend_edge_distance_std_01', 'bend_edge_distance_min_01',\n",
       "       'bend_edge_distance_max_01', 'bend_edge_angle_mean_01',\n",
       "       'bend_edge_angle_std_01', 'bend_edge_angle_min_01',\n",
       "       'bend_edge_angle_max_01', 'bend_edge_length_mean_01',\n",
       "       'bend_edge_length_std_01', 'bend_edge_length_min_01',\n",
       "       'bend_edge_length_max_01', 'bend_bend_distance_mean_02',\n",
       "       'bend_bend_distance_std_02', 'bend_bend_distance_min_02',\n",
       "       'bend_bend_distance_max_02', 'bend_bend_angle_mean_02',\n",
       "       'bend_bend_angle_std_02', 'bend_bend_angle_min_02',\n",
       "       'bend_bend_angle_max_02', 'bend_edge_distance_mean_02',\n",
       "       'bend_edge_distance_std_02', 'bend_edge_distance_min_02',\n",
       "       'bend_edge_distance_max_02', 'bend_edge_angle_mean_02',\n",
       "       'bend_edge_angle_std_02', 'bend_edge_angle_min_02',\n",
       "       'bend_edge_angle_max_02', 'bend_edge_length_mean_02',\n",
       "       'bend_edge_length_std_02', 'bend_edge_length_min_02',\n",
       "       'bend_edge_length_max_02', 'bend_bend_distance_mean_03',\n",
       "       'bend_bend_distance_std_03', 'bend_bend_distance_min_03',\n",
       "       'bend_bend_distance_max_03', 'bend_bend_angle_mean_03',\n",
       "       'bend_bend_angle_std_03', 'bend_bend_angle_min_03',\n",
       "       'bend_bend_angle_max_03', 'bend_edge_distance_mean_03',\n",
       "       'bend_edge_distance_std_03', 'bend_edge_distance_min_03',\n",
       "       'bend_edge_distance_max_03', 'bend_edge_angle_mean_03',\n",
       "       'bend_edge_angle_std_03', 'bend_edge_angle_min_03',\n",
       "       'bend_edge_angle_max_03', 'bend_edge_length_mean_03',\n",
       "       'bend_edge_length_std_03', 'bend_edge_length_min_03',\n",
       "       'bend_edge_length_max_03', 'bend_bend_distance_mean_04',\n",
       "       'bend_bend_distance_std_04', 'bend_bend_distance_min_04',\n",
       "       'bend_bend_distance_max_04', 'bend_bend_angle_mean_04',\n",
       "       'bend_bend_angle_std_04', 'bend_bend_angle_min_04',\n",
       "       'bend_bend_angle_max_04', 'bend_edge_distance_mean_04',\n",
       "       'bend_edge_distance_std_04', 'bend_edge_distance_min_04',\n",
       "       'bend_edge_distance_max_04', 'bend_edge_angle_mean_04',\n",
       "       'bend_edge_angle_std_04', 'bend_edge_angle_min_04',\n",
       "       'bend_edge_angle_max_04', 'bend_edge_length_mean_04',\n",
       "       'bend_edge_length_std_04', 'bend_edge_length_min_04',\n",
       "       'bend_edge_length_max_04', 'bend_bend_distance_mean_05',\n",
       "       'bend_bend_distance_std_05', 'bend_bend_distance_min_05',\n",
       "       'bend_bend_distance_max_05', 'bend_bend_angle_mean_05',\n",
       "       'bend_bend_angle_std_05', 'bend_bend_angle_min_05',\n",
       "       'bend_bend_angle_max_05', 'bend_edge_distance_mean_05',\n",
       "       'bend_edge_distance_std_05', 'bend_edge_distance_min_05',\n",
       "       'bend_edge_distance_max_05', 'bend_edge_angle_mean_05',\n",
       "       'bend_edge_angle_std_05', 'bend_edge_angle_min_05',\n",
       "       'bend_edge_angle_max_05', 'bend_edge_length_mean_05',\n",
       "       'bend_edge_length_std_05', 'bend_edge_length_min_05',\n",
       "       'bend_edge_length_max_05', 'bend_bend_distance_mean_06',\n",
       "       'bend_bend_distance_std_06', 'bend_bend_distance_min_06',\n",
       "       'bend_bend_distance_max_06', 'bend_bend_angle_mean_06',\n",
       "       'bend_bend_angle_std_06', 'bend_bend_angle_min_06',\n",
       "       'bend_bend_angle_max_06', 'bend_edge_distance_mean_06',\n",
       "       'bend_edge_distance_std_06', 'bend_edge_distance_min_06',\n",
       "       'bend_edge_distance_max_06', 'bend_edge_angle_mean_06',\n",
       "       'bend_edge_angle_std_06', 'bend_edge_angle_min_06',\n",
       "       'bend_edge_angle_max_06', 'bend_edge_length_mean_06',\n",
       "       'bend_edge_length_std_06', 'bend_edge_length_min_06',\n",
       "       'bend_edge_length_max_06', 'bend_bend_distance_mean_07',\n",
       "       'bend_bend_distance_std_07', 'bend_bend_distance_min_07',\n",
       "       'bend_bend_distance_max_07', 'bend_bend_angle_mean_07',\n",
       "       'bend_bend_angle_std_07', 'bend_bend_angle_min_07',\n",
       "       'bend_bend_angle_max_07', 'bend_edge_distance_mean_07',\n",
       "       'bend_edge_distance_std_07', 'bend_edge_distance_min_07',\n",
       "       'bend_edge_distance_max_07', 'bend_edge_angle_mean_07',\n",
       "       'bend_edge_angle_std_07', 'bend_edge_angle_min_07',\n",
       "       'bend_edge_angle_max_07', 'bend_edge_length_mean_07',\n",
       "       'bend_edge_length_std_07', 'bend_edge_length_min_07',\n",
       "       'bend_edge_length_max_07', 'bend_bend_distance_mean_08',\n",
       "       'bend_bend_distance_std_08', 'bend_bend_distance_min_08',\n",
       "       'bend_bend_distance_max_08', 'bend_bend_angle_mean_08',\n",
       "       'bend_bend_angle_std_08', 'bend_bend_angle_min_08',\n",
       "       'bend_bend_angle_max_08', 'bend_edge_distance_mean_08',\n",
       "       'bend_edge_distance_std_08', 'bend_edge_distance_min_08',\n",
       "       'bend_edge_distance_max_08', 'bend_edge_angle_mean_08',\n",
       "       'bend_edge_angle_std_08', 'bend_edge_angle_min_08',\n",
       "       'bend_edge_angle_max_08', 'bend_edge_length_mean_08',\n",
       "       'bend_edge_length_std_08', 'bend_edge_length_min_08',\n",
       "       'bend_edge_length_max_08', 'bend_bend_distance_mean_09',\n",
       "       'bend_bend_distance_std_09', 'bend_bend_distance_min_09',\n",
       "       'bend_bend_distance_max_09', 'bend_bend_angle_mean_09',\n",
       "       'bend_bend_angle_std_09', 'bend_bend_angle_min_09',\n",
       "       'bend_bend_angle_max_09', 'bend_edge_distance_mean_09',\n",
       "       'bend_edge_distance_std_09', 'bend_edge_distance_min_09',\n",
       "       'bend_edge_distance_max_09', 'bend_edge_angle_mean_09',\n",
       "       'bend_edge_angle_std_09', 'bend_edge_angle_min_09',\n",
       "       'bend_edge_angle_max_09', 'bend_edge_length_mean_09',\n",
       "       'bend_edge_length_std_09', 'bend_edge_length_min_09',\n",
       "       'bend_edge_length_max_09', 'VAMAT', 'VALAJOUT', 'VALTOT',\n",
       "       'VOL_COST_CONVHULL', 'VOL_COST_RECTANGLE', 'VOL_COST_MPATTERN',\n",
       "       'bend_group'], dtype=object)"
      ]
     },
     "execution_count": 3,
     "metadata": {},
     "output_type": "execute_result"
    }
   ],
   "source": [
    "dataset.columns.values"
   ]
  },
  {
   "cell_type": "code",
   "execution_count": 4,
   "metadata": {},
   "outputs": [
    {
     "name": "stdout",
     "output_type": "stream",
     "text": [
      "deformation_length_00 --> 226\n",
      "deformation_length_01 --> 101\n",
      "deformation_length_02 --> 8\n",
      "deformation_length_03 --> 3\n",
      "deformation_length_04 --> 1\n",
      "Done !\n"
     ]
    }
   ],
   "source": [
    "for index, nancount in dataset.isnull().sum().iteritems():\n",
    "    if nancount != 0:\n",
    "        print(index, '-->', nancount)\n",
    "else:\n",
    "    print('Done !')"
   ]
  },
  {
   "cell_type": "code",
   "execution_count": 5,
   "metadata": {},
   "outputs": [
    {
     "data": {
      "text/plain": [
       "(4281, 281)"
      ]
     },
     "execution_count": 5,
     "metadata": {},
     "output_type": "execute_result"
    }
   ],
   "source": [
    "#Cleaning of the remaining Nan\n",
    "dataset = dataset.dropna()\n",
    "dataset.shape"
   ]
  },
  {
   "cell_type": "markdown",
   "metadata": {},
   "source": [
    "# cleaning to have at least min occurences"
   ]
  },
  {
   "cell_type": "code",
   "execution_count": 6,
   "metadata": {},
   "outputs": [
    {
     "data": {
      "text/plain": [
       "(4248, 281)"
      ]
     },
     "execution_count": 6,
     "metadata": {},
     "output_type": "execute_result"
    }
   ],
   "source": [
    "minocc = 50\n",
    "todrop = []\n",
    "df = dataset['thickness'].reset_index().groupby('thickness').count()\n",
    "for index, occ in df.iterrows():\n",
    "    if occ.COART <= minocc:\n",
    "        todrop.append(index)\n",
    "\n",
    "for thickness in todrop:\n",
    "    dataset = dataset[dataset['thickness'] != thickness]\n",
    "dataset.shape"
   ]
  },
  {
   "cell_type": "markdown",
   "metadata": {},
   "source": [
    "# Dataset re-ordering and Splitting"
   ]
  },
  {
   "cell_type": "markdown",
   "metadata": {},
   "source": [
    "The baseline will be defined with the 3 core factors:\n",
    "- Thickness\n",
    "- Area\n",
    "- Number of bends"
   ]
  },
  {
   "cell_type": "code",
   "execution_count": 7,
   "metadata": {},
   "outputs": [
    {
     "data": {
      "text/plain": [
       "['cut_length',\n",
       " 'num_closed_patterns',\n",
       " 'num_open_patterns',\n",
       " 'total_area',\n",
       " 'minimum_rectangle_area',\n",
       " 'minimum_rectangle_dim1',\n",
       " 'minimum_rectangle_dim2',\n",
       " 'convex_hull_area',\n",
       " 'no_hole_area',\n",
       " 'thickness',\n",
       " 'radius_count',\n",
       " 'direction_count',\n",
       " 'bend_count',\n",
       " 'bend_radius_00',\n",
       " 'bend_angle_00',\n",
       " 'bend_direction_00',\n",
       " 'deformation_length_00',\n",
       " 'merged_bend_00',\n",
       " 'punch_length_00',\n",
       " 'bend_radius_01',\n",
       " 'bend_angle_01',\n",
       " 'bend_direction_01',\n",
       " 'deformation_length_01',\n",
       " 'merged_bend_01',\n",
       " 'punch_length_01',\n",
       " 'bend_radius_02',\n",
       " 'bend_angle_02',\n",
       " 'bend_direction_02',\n",
       " 'deformation_length_02',\n",
       " 'merged_bend_02',\n",
       " 'punch_length_02',\n",
       " 'bend_radius_03',\n",
       " 'bend_angle_03',\n",
       " 'bend_direction_03',\n",
       " 'deformation_length_03',\n",
       " 'merged_bend_03',\n",
       " 'punch_length_03',\n",
       " 'bend_radius_04',\n",
       " 'bend_angle_04',\n",
       " 'bend_direction_04',\n",
       " 'deformation_length_04',\n",
       " 'merged_bend_04',\n",
       " 'punch_length_04',\n",
       " 'bend_radius_05',\n",
       " 'bend_angle_05',\n",
       " 'bend_direction_05',\n",
       " 'deformation_length_05',\n",
       " 'merged_bend_05',\n",
       " 'punch_length_05',\n",
       " 'bend_radius_06',\n",
       " 'bend_angle_06',\n",
       " 'bend_direction_06',\n",
       " 'deformation_length_06',\n",
       " 'merged_bend_06',\n",
       " 'punch_length_06',\n",
       " 'bend_radius_07',\n",
       " 'bend_angle_07',\n",
       " 'bend_direction_07',\n",
       " 'deformation_length_07',\n",
       " 'merged_bend_07',\n",
       " 'punch_length_07',\n",
       " 'bend_radius_08',\n",
       " 'bend_angle_08',\n",
       " 'bend_direction_08',\n",
       " 'deformation_length_08',\n",
       " 'merged_bend_08',\n",
       " 'punch_length_08',\n",
       " 'bend_radius_09',\n",
       " 'bend_angle_09',\n",
       " 'bend_direction_09',\n",
       " 'deformation_length_09',\n",
       " 'merged_bend_09',\n",
       " 'punch_length_09',\n",
       " 'bend_bend_distance_mean_00',\n",
       " 'bend_bend_distance_std_00',\n",
       " 'bend_bend_distance_min_00',\n",
       " 'bend_bend_distance_max_00',\n",
       " 'bend_bend_angle_mean_00',\n",
       " 'bend_bend_angle_std_00',\n",
       " 'bend_bend_angle_min_00',\n",
       " 'bend_bend_angle_max_00',\n",
       " 'bend_edge_distance_mean_00',\n",
       " 'bend_edge_distance_std_00',\n",
       " 'bend_edge_distance_min_00',\n",
       " 'bend_edge_distance_max_00',\n",
       " 'bend_edge_angle_mean_00',\n",
       " 'bend_edge_angle_std_00',\n",
       " 'bend_edge_angle_min_00',\n",
       " 'bend_edge_angle_max_00',\n",
       " 'bend_edge_length_mean_00',\n",
       " 'bend_edge_length_std_00',\n",
       " 'bend_edge_length_min_00',\n",
       " 'bend_edge_length_max_00',\n",
       " 'bend_bend_distance_mean_01',\n",
       " 'bend_bend_distance_std_01',\n",
       " 'bend_bend_distance_min_01',\n",
       " 'bend_bend_distance_max_01',\n",
       " 'bend_bend_angle_mean_01',\n",
       " 'bend_bend_angle_std_01',\n",
       " 'bend_bend_angle_min_01',\n",
       " 'bend_bend_angle_max_01',\n",
       " 'bend_edge_distance_mean_01',\n",
       " 'bend_edge_distance_std_01',\n",
       " 'bend_edge_distance_min_01',\n",
       " 'bend_edge_distance_max_01',\n",
       " 'bend_edge_angle_mean_01',\n",
       " 'bend_edge_angle_std_01',\n",
       " 'bend_edge_angle_min_01',\n",
       " 'bend_edge_angle_max_01',\n",
       " 'bend_edge_length_mean_01',\n",
       " 'bend_edge_length_std_01',\n",
       " 'bend_edge_length_min_01',\n",
       " 'bend_edge_length_max_01',\n",
       " 'bend_bend_distance_mean_02',\n",
       " 'bend_bend_distance_std_02',\n",
       " 'bend_bend_distance_min_02',\n",
       " 'bend_bend_distance_max_02',\n",
       " 'bend_bend_angle_mean_02',\n",
       " 'bend_bend_angle_std_02',\n",
       " 'bend_bend_angle_min_02',\n",
       " 'bend_bend_angle_max_02',\n",
       " 'bend_edge_distance_mean_02',\n",
       " 'bend_edge_distance_std_02',\n",
       " 'bend_edge_distance_min_02',\n",
       " 'bend_edge_distance_max_02',\n",
       " 'bend_edge_angle_mean_02',\n",
       " 'bend_edge_angle_std_02',\n",
       " 'bend_edge_angle_min_02',\n",
       " 'bend_edge_angle_max_02',\n",
       " 'bend_edge_length_mean_02',\n",
       " 'bend_edge_length_std_02',\n",
       " 'bend_edge_length_min_02',\n",
       " 'bend_edge_length_max_02',\n",
       " 'bend_bend_distance_mean_03',\n",
       " 'bend_bend_distance_std_03',\n",
       " 'bend_bend_distance_min_03',\n",
       " 'bend_bend_distance_max_03',\n",
       " 'bend_bend_angle_mean_03',\n",
       " 'bend_bend_angle_std_03',\n",
       " 'bend_bend_angle_min_03',\n",
       " 'bend_bend_angle_max_03',\n",
       " 'bend_edge_distance_mean_03',\n",
       " 'bend_edge_distance_std_03',\n",
       " 'bend_edge_distance_min_03',\n",
       " 'bend_edge_distance_max_03',\n",
       " 'bend_edge_angle_mean_03',\n",
       " 'bend_edge_angle_std_03',\n",
       " 'bend_edge_angle_min_03',\n",
       " 'bend_edge_angle_max_03',\n",
       " 'bend_edge_length_mean_03',\n",
       " 'bend_edge_length_std_03',\n",
       " 'bend_edge_length_min_03',\n",
       " 'bend_edge_length_max_03',\n",
       " 'bend_bend_distance_mean_04',\n",
       " 'bend_bend_distance_std_04',\n",
       " 'bend_bend_distance_min_04',\n",
       " 'bend_bend_distance_max_04',\n",
       " 'bend_bend_angle_mean_04',\n",
       " 'bend_bend_angle_std_04',\n",
       " 'bend_bend_angle_min_04',\n",
       " 'bend_bend_angle_max_04',\n",
       " 'bend_edge_distance_mean_04',\n",
       " 'bend_edge_distance_std_04',\n",
       " 'bend_edge_distance_min_04',\n",
       " 'bend_edge_distance_max_04',\n",
       " 'bend_edge_angle_mean_04',\n",
       " 'bend_edge_angle_std_04',\n",
       " 'bend_edge_angle_min_04',\n",
       " 'bend_edge_angle_max_04',\n",
       " 'bend_edge_length_mean_04',\n",
       " 'bend_edge_length_std_04',\n",
       " 'bend_edge_length_min_04',\n",
       " 'bend_edge_length_max_04',\n",
       " 'bend_bend_distance_mean_05',\n",
       " 'bend_bend_distance_std_05',\n",
       " 'bend_bend_distance_min_05',\n",
       " 'bend_bend_distance_max_05',\n",
       " 'bend_bend_angle_mean_05',\n",
       " 'bend_bend_angle_std_05',\n",
       " 'bend_bend_angle_min_05',\n",
       " 'bend_bend_angle_max_05',\n",
       " 'bend_edge_distance_mean_05',\n",
       " 'bend_edge_distance_std_05',\n",
       " 'bend_edge_distance_min_05',\n",
       " 'bend_edge_distance_max_05',\n",
       " 'bend_edge_angle_mean_05',\n",
       " 'bend_edge_angle_std_05',\n",
       " 'bend_edge_angle_min_05',\n",
       " 'bend_edge_angle_max_05',\n",
       " 'bend_edge_length_mean_05',\n",
       " 'bend_edge_length_std_05',\n",
       " 'bend_edge_length_min_05',\n",
       " 'bend_edge_length_max_05',\n",
       " 'bend_bend_distance_mean_06',\n",
       " 'bend_bend_distance_std_06',\n",
       " 'bend_bend_distance_min_06',\n",
       " 'bend_bend_distance_max_06',\n",
       " 'bend_bend_angle_mean_06',\n",
       " 'bend_bend_angle_std_06',\n",
       " 'bend_bend_angle_min_06',\n",
       " 'bend_bend_angle_max_06',\n",
       " 'bend_edge_distance_mean_06',\n",
       " 'bend_edge_distance_std_06',\n",
       " 'bend_edge_distance_min_06',\n",
       " 'bend_edge_distance_max_06',\n",
       " 'bend_edge_angle_mean_06',\n",
       " 'bend_edge_angle_std_06',\n",
       " 'bend_edge_angle_min_06',\n",
       " 'bend_edge_angle_max_06',\n",
       " 'bend_edge_length_mean_06',\n",
       " 'bend_edge_length_std_06',\n",
       " 'bend_edge_length_min_06',\n",
       " 'bend_edge_length_max_06',\n",
       " 'bend_bend_distance_mean_07',\n",
       " 'bend_bend_distance_std_07',\n",
       " 'bend_bend_distance_min_07',\n",
       " 'bend_bend_distance_max_07',\n",
       " 'bend_bend_angle_mean_07',\n",
       " 'bend_bend_angle_std_07',\n",
       " 'bend_bend_angle_min_07',\n",
       " 'bend_bend_angle_max_07',\n",
       " 'bend_edge_distance_mean_07',\n",
       " 'bend_edge_distance_std_07',\n",
       " 'bend_edge_distance_min_07',\n",
       " 'bend_edge_distance_max_07',\n",
       " 'bend_edge_angle_mean_07',\n",
       " 'bend_edge_angle_std_07',\n",
       " 'bend_edge_angle_min_07',\n",
       " 'bend_edge_angle_max_07',\n",
       " 'bend_edge_length_mean_07',\n",
       " 'bend_edge_length_std_07',\n",
       " 'bend_edge_length_min_07',\n",
       " 'bend_edge_length_max_07',\n",
       " 'bend_bend_distance_mean_08',\n",
       " 'bend_bend_distance_std_08',\n",
       " 'bend_bend_distance_min_08',\n",
       " 'bend_bend_distance_max_08',\n",
       " 'bend_bend_angle_mean_08',\n",
       " 'bend_bend_angle_std_08',\n",
       " 'bend_bend_angle_min_08',\n",
       " 'bend_bend_angle_max_08',\n",
       " 'bend_edge_distance_mean_08',\n",
       " 'bend_edge_distance_std_08',\n",
       " 'bend_edge_distance_min_08',\n",
       " 'bend_edge_distance_max_08',\n",
       " 'bend_edge_angle_mean_08',\n",
       " 'bend_edge_angle_std_08',\n",
       " 'bend_edge_angle_min_08',\n",
       " 'bend_edge_angle_max_08',\n",
       " 'bend_edge_length_mean_08',\n",
       " 'bend_edge_length_std_08',\n",
       " 'bend_edge_length_min_08',\n",
       " 'bend_edge_length_max_08',\n",
       " 'bend_bend_distance_mean_09',\n",
       " 'bend_bend_distance_std_09',\n",
       " 'bend_bend_distance_min_09',\n",
       " 'bend_bend_distance_max_09',\n",
       " 'bend_bend_angle_mean_09',\n",
       " 'bend_bend_angle_std_09',\n",
       " 'bend_bend_angle_min_09',\n",
       " 'bend_bend_angle_max_09',\n",
       " 'bend_edge_distance_mean_09',\n",
       " 'bend_edge_distance_std_09',\n",
       " 'bend_edge_distance_min_09',\n",
       " 'bend_edge_distance_max_09',\n",
       " 'bend_edge_angle_mean_09',\n",
       " 'bend_edge_angle_std_09',\n",
       " 'bend_edge_angle_min_09',\n",
       " 'bend_edge_angle_max_09',\n",
       " 'bend_edge_length_mean_09',\n",
       " 'bend_edge_length_std_09',\n",
       " 'bend_edge_length_min_09',\n",
       " 'bend_edge_length_max_09']"
      ]
     },
     "execution_count": 7,
     "metadata": {},
     "output_type": "execute_result"
    }
   ],
   "source": [
    "start = dataset.columns.values\n",
    "todrop = ['bend_group', 'VAMAT', 'VALAJOUT', 'VALTOT', 'radius_approx', 'level_0']\n",
    "\n",
    "def representsInt(s):\n",
    "    try: \n",
    "        int(s)\n",
    "        return True\n",
    "    except ValueError:\n",
    "        return False\n",
    "benddetails  = [x for x in dataset.columns.values if representsInt(x[-2:])]\n",
    "#todrop.extend(benddetails)\n",
    "\n",
    "todrop.extend([x for x in dataset.columns.values if x.startswith('VOL_')])\n",
    "\n",
    "tokeep = [x for x in start if x not in todrop ]\n",
    "tokeep"
   ]
  },
  {
   "cell_type": "code",
   "execution_count": 228,
   "metadata": {},
   "outputs": [],
   "source": [
    "#Dataset definition\n",
    "X = dataset[['thickness', 'minimum_rectangle_area', 'bend_count']]\n",
    "y = dataset[['VAMAT', 'VALAJOUT', 'VALTOT']]\n",
    "\n",
    "limitedset = ['thickness', 'minimum_rectangle_area', 'bend_count']\n"
   ]
  },
  {
   "cell_type": "code",
   "execution_count": 229,
   "metadata": {},
   "outputs": [],
   "source": [
    "target = 'VALTOT'\n",
    "assert target in y.columns.values, 'The target must be in y dataset'"
   ]
  },
  {
   "cell_type": "code",
   "execution_count": 230,
   "metadata": {},
   "outputs": [
    {
     "data": {
      "text/html": [
       "<div>\n",
       "<style scoped>\n",
       "    .dataframe tbody tr th:only-of-type {\n",
       "        vertical-align: middle;\n",
       "    }\n",
       "\n",
       "    .dataframe tbody tr th {\n",
       "        vertical-align: top;\n",
       "    }\n",
       "\n",
       "    .dataframe thead th {\n",
       "        text-align: right;\n",
       "    }\n",
       "</style>\n",
       "<table border=\"1\" class=\"dataframe\">\n",
       "  <thead>\n",
       "    <tr style=\"text-align: right;\">\n",
       "      <th></th>\n",
       "      <th>VALTOT</th>\n",
       "    </tr>\n",
       "  </thead>\n",
       "  <tbody>\n",
       "    <tr>\n",
       "      <th>count</th>\n",
       "      <td>4248.000000</td>\n",
       "    </tr>\n",
       "    <tr>\n",
       "      <th>mean</th>\n",
       "      <td>7.574859</td>\n",
       "    </tr>\n",
       "    <tr>\n",
       "      <th>std</th>\n",
       "      <td>8.345230</td>\n",
       "    </tr>\n",
       "    <tr>\n",
       "      <th>min</th>\n",
       "      <td>0.320000</td>\n",
       "    </tr>\n",
       "    <tr>\n",
       "      <th>25%</th>\n",
       "      <td>2.510000</td>\n",
       "    </tr>\n",
       "    <tr>\n",
       "      <th>50%</th>\n",
       "      <td>4.480000</td>\n",
       "    </tr>\n",
       "    <tr>\n",
       "      <th>75%</th>\n",
       "      <td>9.512500</td>\n",
       "    </tr>\n",
       "    <tr>\n",
       "      <th>max</th>\n",
       "      <td>58.400000</td>\n",
       "    </tr>\n",
       "  </tbody>\n",
       "</table>\n",
       "</div>"
      ],
      "text/plain": [
       "            VALTOT\n",
       "count  4248.000000\n",
       "mean      7.574859\n",
       "std       8.345230\n",
       "min       0.320000\n",
       "25%       2.510000\n",
       "50%       4.480000\n",
       "75%       9.512500\n",
       "max      58.400000"
      ]
     },
     "execution_count": 230,
     "metadata": {},
     "output_type": "execute_result"
    }
   ],
   "source": [
    "y[[target]].describe()"
   ]
  },
  {
   "cell_type": "code",
   "execution_count": 231,
   "metadata": {},
   "outputs": [],
   "source": [
    "# Dataset splitting\n",
    "from sklearn.model_selection import train_test_split\n",
    "X_train, X_test, y_train, y_test = train_test_split(\n",
    "    X, y, test_size=0.33, random_state=0 ,stratify=dataset['bend_group'])"
   ]
  },
  {
   "cell_type": "markdown",
   "metadata": {},
   "source": [
    "# Blocs creation"
   ]
  },
  {
   "cell_type": "code",
   "execution_count": 232,
   "metadata": {},
   "outputs": [],
   "source": [
    "#Scaler\n",
    "from sklearn.preprocessing import StandardScaler\n",
    "scaler = StandardScaler()"
   ]
  },
  {
   "cell_type": "code",
   "execution_count": 233,
   "metadata": {},
   "outputs": [],
   "source": [
    "# Metric\n",
    "from sklearn.metrics import mean_squared_error"
   ]
  },
  {
   "cell_type": "code",
   "execution_count": 234,
   "metadata": {},
   "outputs": [],
   "source": [
    "#regressions\n",
    "from sklearn.linear_model import Ridge\n",
    "ridge = Ridge(alpha=1.0, random_state=0, normalize=False)\n",
    "\n",
    "from sklearn.linear_model import ElasticNet\n",
    "enet = ElasticNet(alpha=0, l1_ratio=1, random_state=0, normalize=False)"
   ]
  },
  {
   "cell_type": "code",
   "execution_count": 235,
   "metadata": {},
   "outputs": [],
   "source": [
    "#Other tools\n",
    "from sklearn.model_selection import GridSearchCV\n",
    "from sklearn.pipeline import Pipeline"
   ]
  },
  {
   "cell_type": "markdown",
   "metadata": {},
   "source": [
    "# With standardisation - S1"
   ]
  },
  {
   "cell_type": "code",
   "execution_count": 236,
   "metadata": {},
   "outputs": [],
   "source": [
    "pipe = [('scaler', scaler), ('enet', enet)]\n",
    "regpip = Pipeline(pipe)"
   ]
  },
  {
   "cell_type": "code",
   "execution_count": 237,
   "metadata": {},
   "outputs": [],
   "source": [
    "parameters = {'enet__alpha':np.logspace(-3,3,11),\n",
    "              'enet__l1_ratio':np.linspace(0.01,1,11)\n",
    "             }\n",
    "regstd = GridSearchCV(regpip, parameters, cv=5, n_jobs=-2, scoring='neg_mean_squared_error')"
   ]
  },
  {
   "cell_type": "code",
   "execution_count": 238,
   "metadata": {},
   "outputs": [
    {
     "data": {
      "text/plain": [
       "GridSearchCV(cv=5, error_score='raise',\n",
       "       estimator=Pipeline(memory=None,\n",
       "     steps=[('scaler', StandardScaler(copy=True, with_mean=True, with_std=True)), ('enet', ElasticNet(alpha=0, copy_X=True, fit_intercept=True, l1_ratio=1,\n",
       "      max_iter=1000, normalize=False, positive=False, precompute=False,\n",
       "      random_state=0, selection='cyclic', tol=0.0001, warm_start=False))]),\n",
       "       fit_params=None, iid=True, n_jobs=-2,\n",
       "       param_grid={'enet__alpha': array([1.00000e-03, 3.98107e-03, 1.58489e-02, 6.30957e-02, 2.51189e-01,\n",
       "       1.00000e+00, 3.98107e+00, 1.58489e+01, 6.30957e+01, 2.51189e+02,\n",
       "       1.00000e+03]), 'enet__l1_ratio': array([0.01 , 0.109, 0.208, 0.307, 0.406, 0.505, 0.604, 0.703, 0.802,\n",
       "       0.901, 1.   ])},\n",
       "       pre_dispatch='2*n_jobs', refit=True, return_train_score='warn',\n",
       "       scoring='neg_mean_squared_error', verbose=0)"
      ]
     },
     "execution_count": 238,
     "metadata": {},
     "output_type": "execute_result"
    }
   ],
   "source": [
    "regstd.fit(X_train[limitedset], y_train[target])"
   ]
  },
  {
   "cell_type": "code",
   "execution_count": 239,
   "metadata": {},
   "outputs": [
    {
     "data": {
      "text/plain": [
       "{'enet__alpha': 0.001, 'enet__l1_ratio': 0.7030000000000001}"
      ]
     },
     "execution_count": 239,
     "metadata": {},
     "output_type": "execute_result"
    }
   ],
   "source": [
    "regstd.best_params_"
   ]
  },
  {
   "cell_type": "code",
   "execution_count": 240,
   "metadata": {},
   "outputs": [
    {
     "data": {
      "text/plain": [
       "-12.26370711605148"
      ]
     },
     "execution_count": 240,
     "metadata": {},
     "output_type": "execute_result"
    }
   ],
   "source": [
    "regstd.score(X_train[limitedset], y_train[target])"
   ]
  },
  {
   "cell_type": "code",
   "execution_count": 241,
   "metadata": {},
   "outputs": [
    {
     "data": {
      "text/plain": [
       "-12.26370711605148"
      ]
     },
     "execution_count": 241,
     "metadata": {},
     "output_type": "execute_result"
    }
   ],
   "source": [
    "regstd.score(X_train[limitedset], y_train[target])"
   ]
  },
  {
   "cell_type": "code",
   "execution_count": 242,
   "metadata": {},
   "outputs": [
    {
     "data": {
      "text/plain": [
       "10.204584362696366"
      ]
     },
     "execution_count": 242,
     "metadata": {},
     "output_type": "execute_result"
    }
   ],
   "source": [
    "mean_squared_error(y_test[target], regstd.predict(X_test[limitedset]))"
   ]
  },
  {
   "cell_type": "code",
   "execution_count": 243,
   "metadata": {},
   "outputs": [
    {
     "data": {
      "text/plain": [
       "array([2.57613937, 7.463898  , 0.7306415 ])"
      ]
     },
     "execution_count": 243,
     "metadata": {},
     "output_type": "execute_result"
    }
   ],
   "source": [
    "regstd.best_estimator_.named_steps['enet'].coef_"
   ]
  },
  {
   "cell_type": "markdown",
   "metadata": {},
   "source": [
    "# No standardisation"
   ]
  },
  {
   "cell_type": "code",
   "execution_count": 244,
   "metadata": {},
   "outputs": [],
   "source": [
    "parameters = {'alpha':np.logspace(-3,3,11),\n",
    "              'l1_ratio':np.linspace(0.01,1,11)\n",
    "             }\n",
    "regnostd = GridSearchCV(enet, parameters, cv=5, n_jobs=-2, scoring='neg_mean_squared_error')"
   ]
  },
  {
   "cell_type": "code",
   "execution_count": 245,
   "metadata": {},
   "outputs": [
    {
     "data": {
      "text/plain": [
       "GridSearchCV(cv=5, error_score='raise',\n",
       "       estimator=ElasticNet(alpha=0, copy_X=True, fit_intercept=True, l1_ratio=1,\n",
       "      max_iter=1000, normalize=False, positive=False, precompute=False,\n",
       "      random_state=0, selection='cyclic', tol=0.0001, warm_start=False),\n",
       "       fit_params=None, iid=True, n_jobs=-2,\n",
       "       param_grid={'alpha': array([1.00000e-03, 3.98107e-03, 1.58489e-02, 6.30957e-02, 2.51189e-01,\n",
       "       1.00000e+00, 3.98107e+00, 1.58489e+01, 6.30957e+01, 2.51189e+02,\n",
       "       1.00000e+03]), 'l1_ratio': array([0.01 , 0.109, 0.208, 0.307, 0.406, 0.505, 0.604, 0.703, 0.802,\n",
       "       0.901, 1.   ])},\n",
       "       pre_dispatch='2*n_jobs', refit=True, return_train_score='warn',\n",
       "       scoring='neg_mean_squared_error', verbose=0)"
      ]
     },
     "execution_count": 245,
     "metadata": {},
     "output_type": "execute_result"
    }
   ],
   "source": [
    "regnostd.fit(X_train[limitedset], y_train[target])"
   ]
  },
  {
   "cell_type": "code",
   "execution_count": 246,
   "metadata": {},
   "outputs": [
    {
     "data": {
      "text/plain": [
       "{'alpha': 0.001, 'l1_ratio': 0.01}"
      ]
     },
     "execution_count": 246,
     "metadata": {},
     "output_type": "execute_result"
    }
   ],
   "source": [
    "regnostd.best_params_"
   ]
  },
  {
   "cell_type": "code",
   "execution_count": 247,
   "metadata": {},
   "outputs": [
    {
     "data": {
      "text/plain": [
       "-12.263696025472308"
      ]
     },
     "execution_count": 247,
     "metadata": {},
     "output_type": "execute_result"
    }
   ],
   "source": [
    "regnostd.score(X_train[limitedset], y_train[target])"
   ]
  },
  {
   "cell_type": "code",
   "execution_count": 248,
   "metadata": {},
   "outputs": [
    {
     "data": {
      "text/plain": [
       "-10.208821514868221"
      ]
     },
     "execution_count": 248,
     "metadata": {},
     "output_type": "execute_result"
    }
   ],
   "source": [
    "regnostd.score(X_test[limitedset], y_test[target])"
   ]
  },
  {
   "cell_type": "code",
   "execution_count": 249,
   "metadata": {},
   "outputs": [
    {
     "data": {
      "text/plain": [
       "10.208821514868221"
      ]
     },
     "execution_count": 249,
     "metadata": {},
     "output_type": "execute_result"
    }
   ],
   "source": [
    "mean_squared_error(y_test[target], regnostd.predict(X_test[limitedset]))"
   ]
  },
  {
   "cell_type": "code",
   "execution_count": 250,
   "metadata": {},
   "outputs": [
    {
     "data": {
      "text/plain": [
       "dict_keys(['cv', 'error_score', 'estimator__alpha', 'estimator__copy_X', 'estimator__fit_intercept', 'estimator__l1_ratio', 'estimator__max_iter', 'estimator__normalize', 'estimator__positive', 'estimator__precompute', 'estimator__random_state', 'estimator__selection', 'estimator__tol', 'estimator__warm_start', 'estimator', 'fit_params', 'iid', 'n_jobs', 'param_grid', 'pre_dispatch', 'refit', 'return_train_score', 'scoring', 'verbose'])"
      ]
     },
     "execution_count": 250,
     "metadata": {},
     "output_type": "execute_result"
    }
   ],
   "source": [
    "regnostd.get_params().keys()"
   ]
  },
  {
   "cell_type": "code",
   "execution_count": 251,
   "metadata": {},
   "outputs": [
    {
     "data": {
      "text/plain": [
       "array([8.93553385e-01, 5.73749829e-05, 5.58563468e-01])"
      ]
     },
     "execution_count": 251,
     "metadata": {},
     "output_type": "execute_result"
    }
   ],
   "source": [
    "regnostd.best_estimator_.coef_"
   ]
  },
  {
   "cell_type": "code",
   "execution_count": 252,
   "metadata": {},
   "outputs": [
    {
     "data": {
      "text/plain": [
       "(1, 3)"
      ]
     },
     "execution_count": 252,
     "metadata": {},
     "output_type": "execute_result"
    }
   ],
   "source": [
    "X_test[limitedset][:1].shape"
   ]
  },
  {
   "cell_type": "markdown",
   "metadata": {},
   "source": [
    "# Per thickness"
   ]
  },
  {
   "cell_type": "code",
   "execution_count": 253,
   "metadata": {},
   "outputs": [],
   "source": [
    "from sklearn.base import BaseEstimator, TransformerMixin\n",
    "from sklearn.utils import check_X_y"
   ]
  },
  {
   "cell_type": "code",
   "execution_count": 254,
   "metadata": {},
   "outputs": [],
   "source": [
    "class Regthick(BaseEstimator, TransformerMixin):\n",
    "    def __init__(self):\n",
    "        self.thickness = []\n",
    "    \n",
    "    def fit(self, X, y):\n",
    "        #X, y = check_X_y(X, y)\n",
    "        self.thickness = X['thickness'].unique()\n",
    "        parameters = {'alpha':np.logspace(-3,3,5),\n",
    "                      'l1_ratio':np.linspace(0.01,1,5)\n",
    "                        }\n",
    "        for thickness in self.thickness:\n",
    "            setattr(self, 'reg{:02d}'.format(int(thickness)),\n",
    "                    GridSearchCV(ElasticNet(alpha=0, l1_ratio=1, random_state=0, normalize=False),\n",
    "                                 parameters, cv=3, n_jobs=-2, scoring='neg_mean_squared_error'))\n",
    "            \n",
    "            mask = X['thickness']==thickness\n",
    "            #print(X.columns.values)\n",
    "            df = X[mask]\n",
    "            labels = y[mask]\n",
    "            getattr(self, 'reg{:02d}'.format(int(thickness))).fit(df, labels)\n",
    "    \n",
    "    def predict(self, X, y=None):\n",
    "        thickness = X[0]\n",
    "        df = np.array(X).reshape(1, -1)\n",
    "        #print(thickness)\n",
    "        #print(getattr(self, 'reg{:02d}'.format(int(thickness))).predict(df))\n",
    "        return getattr(self, 'reg{:02d}'.format(int(thickness))).predict(df)\n",
    "    \n",
    "    def get_th_coefs(self):\n",
    "        toreturn = []\n",
    "        for th in self.thickness:\n",
    "            estim = getattr(self, 'reg{:02d}'.format(int(th)))\n",
    "            temp = estim.best_estimator_.coef_.copy()\n",
    "            temp[0] = th\n",
    "            toreturn.append(temp)\n",
    "        return np.array(toreturn)\n",
    "    \n"
   ]
  },
  {
   "cell_type": "code",
   "execution_count": 255,
   "metadata": {},
   "outputs": [],
   "source": [
    "regthick = Regthick()\n",
    "regthick.fit(X_train[limitedset], y_train[target])"
   ]
  },
  {
   "cell_type": "code",
   "execution_count": 256,
   "metadata": {},
   "outputs": [
    {
     "data": {
      "text/plain": [
       "array([14.90583246])"
      ]
     },
     "execution_count": 256,
     "metadata": {},
     "output_type": "execute_result"
    }
   ],
   "source": [
    "regthick.reg10.predict(np.array([10.0, 123061.765625, 2]).reshape(1,-1))"
   ]
  },
  {
   "cell_type": "code",
   "execution_count": 257,
   "metadata": {},
   "outputs": [
    {
     "data": {
      "text/html": [
       "<div>\n",
       "<style scoped>\n",
       "    .dataframe tbody tr th:only-of-type {\n",
       "        vertical-align: middle;\n",
       "    }\n",
       "\n",
       "    .dataframe tbody tr th {\n",
       "        vertical-align: top;\n",
       "    }\n",
       "\n",
       "    .dataframe thead th {\n",
       "        text-align: right;\n",
       "    }\n",
       "</style>\n",
       "<table border=\"1\" class=\"dataframe\">\n",
       "  <thead>\n",
       "    <tr style=\"text-align: right;\">\n",
       "      <th></th>\n",
       "      <th>minimum_rectangle_area</th>\n",
       "      <th>bend_count</th>\n",
       "    </tr>\n",
       "    <tr>\n",
       "      <th>thickness</th>\n",
       "      <th></th>\n",
       "      <th></th>\n",
       "    </tr>\n",
       "  </thead>\n",
       "  <tbody>\n",
       "    <tr>\n",
       "      <th>3.0</th>\n",
       "      <td>0.000031</td>\n",
       "      <td>0.684718</td>\n",
       "    </tr>\n",
       "    <tr>\n",
       "      <th>4.0</th>\n",
       "      <td>0.000039</td>\n",
       "      <td>0.354608</td>\n",
       "    </tr>\n",
       "    <tr>\n",
       "      <th>5.0</th>\n",
       "      <td>0.000048</td>\n",
       "      <td>0.799825</td>\n",
       "    </tr>\n",
       "    <tr>\n",
       "      <th>6.0</th>\n",
       "      <td>0.000056</td>\n",
       "      <td>0.425022</td>\n",
       "    </tr>\n",
       "    <tr>\n",
       "      <th>8.0</th>\n",
       "      <td>0.000078</td>\n",
       "      <td>0.518047</td>\n",
       "    </tr>\n",
       "    <tr>\n",
       "      <th>10.0</th>\n",
       "      <td>0.000088</td>\n",
       "      <td>1.339565</td>\n",
       "    </tr>\n",
       "    <tr>\n",
       "      <th>12.0</th>\n",
       "      <td>0.000111</td>\n",
       "      <td>-0.000000</td>\n",
       "    </tr>\n",
       "    <tr>\n",
       "      <th>15.0</th>\n",
       "      <td>0.000132</td>\n",
       "      <td>1.359469</td>\n",
       "    </tr>\n",
       "  </tbody>\n",
       "</table>\n",
       "</div>"
      ],
      "text/plain": [
       "           minimum_rectangle_area  bend_count\n",
       "thickness                                    \n",
       "3.0                      0.000031    0.684718\n",
       "4.0                      0.000039    0.354608\n",
       "5.0                      0.000048    0.799825\n",
       "6.0                      0.000056    0.425022\n",
       "8.0                      0.000078    0.518047\n",
       "10.0                     0.000088    1.339565\n",
       "12.0                     0.000111   -0.000000\n",
       "15.0                     0.000132    1.359469"
      ]
     },
     "execution_count": 257,
     "metadata": {},
     "output_type": "execute_result"
    }
   ],
   "source": [
    "# Coeffs per thickness\n",
    "data = regthick.get_th_coefs()\n",
    "coeffs = pd.DataFrame(data, columns=limitedset)\n",
    "coeffs.set_index('thickness', inplace=True)\n",
    "coeffs = coeffs.sort_index()\n",
    "coeffs"
   ]
  },
  {
   "cell_type": "code",
   "execution_count": 258,
   "metadata": {},
   "outputs": [
    {
     "data": {
      "text/plain": [
       "array([[ 5.00000000e+00,  4.79857229e-05,  7.99824590e-01],\n",
       "       [ 4.00000000e+00,  3.91950926e-05,  3.54607535e-01],\n",
       "       [ 6.00000000e+00,  5.63722816e-05,  4.25022208e-01],\n",
       "       [ 1.00000000e+01,  8.84848853e-05,  1.33956490e+00],\n",
       "       [ 1.20000000e+01,  1.11164780e-04, -0.00000000e+00],\n",
       "       [ 8.00000000e+00,  7.82325232e-05,  5.18046711e-01],\n",
       "       [ 1.50000000e+01,  1.32241281e-04,  1.35946914e+00],\n",
       "       [ 3.00000000e+00,  3.06487430e-05,  6.84718499e-01]])"
      ]
     },
     "execution_count": 258,
     "metadata": {},
     "output_type": "execute_result"
    }
   ],
   "source": [
    "#1.26214574e-05 * 123061.765625 + 6.96330034e-01*2\n",
    "regthick.get_th_coefs()"
   ]
  },
  {
   "cell_type": "code",
   "execution_count": 259,
   "metadata": {},
   "outputs": [],
   "source": [
    "asmset = [[th, rect, bend] for th, rect, bend in zip(X_test.thickness.tolist(),\n",
    "                                            X_test.minimum_rectangle_area.tolist(),\n",
    "                                           X_test.bend_count.tolist(),)]"
   ]
  },
  {
   "cell_type": "code",
   "execution_count": 260,
   "metadata": {},
   "outputs": [],
   "source": [
    "prediction_s2 = [regthick.predict(x)[0] for x in asmset]"
   ]
  },
  {
   "cell_type": "markdown",
   "metadata": {},
   "source": [
    "# Results comparison"
   ]
  },
  {
   "cell_type": "code",
   "execution_count": 261,
   "metadata": {},
   "outputs": [],
   "source": [
    "prediction_s2 = np.array([regthick.predict(x)[0] for x in asmset])\n",
    "prediction_s1 = regstd.predict(X_test[limitedset])"
   ]
  },
  {
   "cell_type": "code",
   "execution_count": 262,
   "metadata": {},
   "outputs": [
    {
     "data": {
      "text/html": [
       "<div>\n",
       "<style scoped>\n",
       "    .dataframe tbody tr th:only-of-type {\n",
       "        vertical-align: middle;\n",
       "    }\n",
       "\n",
       "    .dataframe tbody tr th {\n",
       "        vertical-align: top;\n",
       "    }\n",
       "\n",
       "    .dataframe thead th {\n",
       "        text-align: right;\n",
       "    }\n",
       "</style>\n",
       "<table border=\"1\" class=\"dataframe\">\n",
       "  <thead>\n",
       "    <tr style=\"text-align: right;\">\n",
       "      <th></th>\n",
       "      <th>VALTOT</th>\n",
       "      <th>pred_S1</th>\n",
       "      <th>pred_S2</th>\n",
       "    </tr>\n",
       "    <tr>\n",
       "      <th>COART</th>\n",
       "      <th></th>\n",
       "      <th></th>\n",
       "      <th></th>\n",
       "    </tr>\n",
       "  </thead>\n",
       "  <tbody>\n",
       "    <tr>\n",
       "      <th>L3048770</th>\n",
       "      <td>12.19</td>\n",
       "      <td>12.263628</td>\n",
       "      <td>14.905832</td>\n",
       "    </tr>\n",
       "    <tr>\n",
       "      <th>L6811140</th>\n",
       "      <td>0.43</td>\n",
       "      <td>-0.214633</td>\n",
       "      <td>0.692045</td>\n",
       "    </tr>\n",
       "    <tr>\n",
       "      <th>L3055970</th>\n",
       "      <td>1.26</td>\n",
       "      <td>4.414032</td>\n",
       "      <td>1.839797</td>\n",
       "    </tr>\n",
       "    <tr>\n",
       "      <th>L8829170</th>\n",
       "      <td>1.16</td>\n",
       "      <td>0.282919</td>\n",
       "      <td>1.744112</td>\n",
       "    </tr>\n",
       "    <tr>\n",
       "      <th>L8825470</th>\n",
       "      <td>6.27</td>\n",
       "      <td>5.902125</td>\n",
       "      <td>6.807104</td>\n",
       "    </tr>\n",
       "  </tbody>\n",
       "</table>\n",
       "</div>"
      ],
      "text/plain": [
       "          VALTOT    pred_S1    pred_S2\n",
       "COART                                 \n",
       "L3048770   12.19  12.263628  14.905832\n",
       "L6811140    0.43  -0.214633   0.692045\n",
       "L3055970    1.26   4.414032   1.839797\n",
       "L8829170    1.16   0.282919   1.744112\n",
       "L8825470    6.27   5.902125   6.807104"
      ]
     },
     "execution_count": 262,
     "metadata": {},
     "output_type": "execute_result"
    }
   ],
   "source": [
    "resultset = pd.DataFrame({target: y_test[target],\n",
    "                          'pred_S1':prediction_s1,\n",
    "                          'pred_S2':prediction_s2}, index=y_test.index)\n",
    "resultset.head()"
   ]
  },
  {
   "cell_type": "code",
   "execution_count": 263,
   "metadata": {},
   "outputs": [
    {
     "data": {
      "text/plain": [
       "10.204584362696366"
      ]
     },
     "execution_count": 263,
     "metadata": {},
     "output_type": "execute_result"
    }
   ],
   "source": [
    "mean_squared_error(resultset[target], resultset['pred_S1'])"
   ]
  },
  {
   "cell_type": "code",
   "execution_count": 264,
   "metadata": {},
   "outputs": [
    {
     "data": {
      "text/plain": [
       "3.0341435302088757"
      ]
     },
     "execution_count": 264,
     "metadata": {},
     "output_type": "execute_result"
    }
   ],
   "source": [
    "mean_squared_error(resultset[target], resultset['pred_S2'])"
   ]
  },
  {
   "cell_type": "code",
   "execution_count": 265,
   "metadata": {},
   "outputs": [
    {
     "data": {
      "text/html": [
       "<div>\n",
       "<style scoped>\n",
       "    .dataframe tbody tr th:only-of-type {\n",
       "        vertical-align: middle;\n",
       "    }\n",
       "\n",
       "    .dataframe tbody tr th {\n",
       "        vertical-align: top;\n",
       "    }\n",
       "\n",
       "    .dataframe thead th {\n",
       "        text-align: right;\n",
       "    }\n",
       "</style>\n",
       "<table border=\"1\" class=\"dataframe\">\n",
       "  <thead>\n",
       "    <tr style=\"text-align: right;\">\n",
       "      <th></th>\n",
       "      <th>VALTOT</th>\n",
       "      <th>pred_S1</th>\n",
       "      <th>pred_S2</th>\n",
       "      <th>RMSE_s1</th>\n",
       "      <th>RMSE_s2</th>\n",
       "    </tr>\n",
       "    <tr>\n",
       "      <th>COART</th>\n",
       "      <th></th>\n",
       "      <th></th>\n",
       "      <th></th>\n",
       "      <th></th>\n",
       "      <th></th>\n",
       "    </tr>\n",
       "  </thead>\n",
       "  <tbody>\n",
       "    <tr>\n",
       "      <th>L3048770</th>\n",
       "      <td>12.19</td>\n",
       "      <td>12.263628</td>\n",
       "      <td>14.905832</td>\n",
       "      <td>0.005421</td>\n",
       "      <td>7.375746</td>\n",
       "    </tr>\n",
       "    <tr>\n",
       "      <th>L6811140</th>\n",
       "      <td>0.43</td>\n",
       "      <td>-0.214633</td>\n",
       "      <td>0.692045</td>\n",
       "      <td>0.415551</td>\n",
       "      <td>0.068668</td>\n",
       "    </tr>\n",
       "    <tr>\n",
       "      <th>L3055970</th>\n",
       "      <td>1.26</td>\n",
       "      <td>4.414032</td>\n",
       "      <td>1.839797</td>\n",
       "      <td>9.947918</td>\n",
       "      <td>0.336164</td>\n",
       "    </tr>\n",
       "    <tr>\n",
       "      <th>L8829170</th>\n",
       "      <td>1.16</td>\n",
       "      <td>0.282919</td>\n",
       "      <td>1.744112</td>\n",
       "      <td>0.769271</td>\n",
       "      <td>0.341186</td>\n",
       "    </tr>\n",
       "    <tr>\n",
       "      <th>L8825470</th>\n",
       "      <td>6.27</td>\n",
       "      <td>5.902125</td>\n",
       "      <td>6.807104</td>\n",
       "      <td>0.135332</td>\n",
       "      <td>0.288481</td>\n",
       "    </tr>\n",
       "  </tbody>\n",
       "</table>\n",
       "</div>"
      ],
      "text/plain": [
       "          VALTOT    pred_S1    pred_S2   RMSE_s1   RMSE_s2\n",
       "COART                                                     \n",
       "L3048770   12.19  12.263628  14.905832  0.005421  7.375746\n",
       "L6811140    0.43  -0.214633   0.692045  0.415551  0.068668\n",
       "L3055970    1.26   4.414032   1.839797  9.947918  0.336164\n",
       "L8829170    1.16   0.282919   1.744112  0.769271  0.341186\n",
       "L8825470    6.27   5.902125   6.807104  0.135332  0.288481"
      ]
     },
     "execution_count": 265,
     "metadata": {},
     "output_type": "execute_result"
    }
   ],
   "source": [
    "resultset['RMSE_s1'] = (resultset[target]-resultset['pred_S1'])**2\n",
    "resultset['RMSE_s2'] = (resultset[target]-resultset['pred_S2'])**2\n",
    "resultset.head()"
   ]
  },
  {
   "cell_type": "code",
   "execution_count": 266,
   "metadata": {},
   "outputs": [
    {
     "data": {
      "text/html": [
       "<div>\n",
       "<style scoped>\n",
       "    .dataframe tbody tr th:only-of-type {\n",
       "        vertical-align: middle;\n",
       "    }\n",
       "\n",
       "    .dataframe tbody tr th {\n",
       "        vertical-align: top;\n",
       "    }\n",
       "\n",
       "    .dataframe thead th {\n",
       "        text-align: right;\n",
       "    }\n",
       "</style>\n",
       "<table border=\"1\" class=\"dataframe\">\n",
       "  <thead>\n",
       "    <tr style=\"text-align: right;\">\n",
       "      <th></th>\n",
       "      <th>COART</th>\n",
       "      <th>VALTOT</th>\n",
       "      <th>pred_S1</th>\n",
       "      <th>pred_S2</th>\n",
       "      <th>RMSE_s1</th>\n",
       "      <th>RMSE_s2</th>\n",
       "      <th>thickness</th>\n",
       "      <th>minimum_rectangle_area</th>\n",
       "      <th>bend_count</th>\n",
       "    </tr>\n",
       "  </thead>\n",
       "  <tbody>\n",
       "    <tr>\n",
       "      <th>0</th>\n",
       "      <td>L3048770</td>\n",
       "      <td>12.19</td>\n",
       "      <td>12.263628</td>\n",
       "      <td>14.905832</td>\n",
       "      <td>0.005421</td>\n",
       "      <td>7.375746</td>\n",
       "      <td>10.0</td>\n",
       "      <td>123061.765625</td>\n",
       "      <td>2</td>\n",
       "    </tr>\n",
       "    <tr>\n",
       "      <th>1</th>\n",
       "      <td>L6811140</td>\n",
       "      <td>0.43</td>\n",
       "      <td>-0.214633</td>\n",
       "      <td>0.692045</td>\n",
       "      <td>0.415551</td>\n",
       "      <td>0.068668</td>\n",
       "      <td>5.0</td>\n",
       "      <td>2829.027832</td>\n",
       "      <td>0</td>\n",
       "    </tr>\n",
       "    <tr>\n",
       "      <th>2</th>\n",
       "      <td>L3055970</td>\n",
       "      <td>1.26</td>\n",
       "      <td>4.414032</td>\n",
       "      <td>1.839797</td>\n",
       "      <td>9.947918</td>\n",
       "      <td>0.336164</td>\n",
       "      <td>10.0</td>\n",
       "      <td>5675.547363</td>\n",
       "      <td>0</td>\n",
       "    </tr>\n",
       "    <tr>\n",
       "      <th>3</th>\n",
       "      <td>L8829170</td>\n",
       "      <td>1.16</td>\n",
       "      <td>0.282919</td>\n",
       "      <td>1.744112</td>\n",
       "      <td>0.769271</td>\n",
       "      <td>0.341186</td>\n",
       "      <td>4.0</td>\n",
       "      <td>7594.832031</td>\n",
       "      <td>2</td>\n",
       "    </tr>\n",
       "    <tr>\n",
       "      <th>4</th>\n",
       "      <td>L8825470</td>\n",
       "      <td>6.27</td>\n",
       "      <td>5.902125</td>\n",
       "      <td>6.807104</td>\n",
       "      <td>0.135332</td>\n",
       "      <td>0.288481</td>\n",
       "      <td>5.0</td>\n",
       "      <td>80260.085938</td>\n",
       "      <td>3</td>\n",
       "    </tr>\n",
       "  </tbody>\n",
       "</table>\n",
       "</div>"
      ],
      "text/plain": [
       "      COART  VALTOT    pred_S1    pred_S2   RMSE_s1   RMSE_s2  thickness  \\\n",
       "0  L3048770   12.19  12.263628  14.905832  0.005421  7.375746       10.0   \n",
       "1  L6811140    0.43  -0.214633   0.692045  0.415551  0.068668        5.0   \n",
       "2  L3055970    1.26   4.414032   1.839797  9.947918  0.336164       10.0   \n",
       "3  L8829170    1.16   0.282919   1.744112  0.769271  0.341186        4.0   \n",
       "4  L8825470    6.27   5.902125   6.807104  0.135332  0.288481        5.0   \n",
       "\n",
       "   minimum_rectangle_area  bend_count  \n",
       "0           123061.765625           2  \n",
       "1             2829.027832           0  \n",
       "2             5675.547363           0  \n",
       "3             7594.832031           2  \n",
       "4            80260.085938           3  "
      ]
     },
     "execution_count": 266,
     "metadata": {},
     "output_type": "execute_result"
    }
   ],
   "source": [
    "#\n",
    "comparisonset = pd.merge(resultset.reset_index(), X_test.reset_index(), on='COART', how='inner')\n",
    "comparisonset.head()"
   ]
  },
  {
   "cell_type": "code",
   "execution_count": 267,
   "metadata": {},
   "outputs": [
    {
     "data": {
      "image/png": "[encoded data removed]",
      "text/plain": [
       "<Figure size 432x288 with 1 Axes>"
      ]
     },
     "metadata": {},
     "output_type": "display_data"
    }
   ],
   "source": [
    "# Is the error sourced by thickness ?\n",
    "df = comparisonset[['RMSE_s1', 'RMSE_s2', 'thickness']].groupby('thickness').mean()\n",
    "df.plot.bar()\n",
    "plt.show()\n"
   ]
  },
  {
   "cell_type": "code",
   "execution_count": 268,
   "metadata": {},
   "outputs": [
    {
     "data": {
      "image/png": "[encoded data removed]",
      "text/plain": [
       "<Figure size 432x288 with 1 Axes>"
      ]
     },
     "metadata": {},
     "output_type": "display_data"
    }
   ],
   "source": [
    "# Is the error sourced by number of errors ?\n",
    "\n",
    "# Is the error sourced by number of errors ?\n",
    "def bendgroupcalc(entry):\n",
    "    if entry == 0:\n",
    "        return '0'\n",
    "    elif entry <= 2:\n",
    "        return '1-2'\n",
    "    elif entry <= 5:\n",
    "        return '3-5'\n",
    "    else:\n",
    "        return '6+'\n",
    "    return 'None'\n",
    "\n",
    "comparisonset['bend_group'] = comparisonset['bend_count'].apply(bendgroupcalc)\n",
    "\n",
    "df = comparisonset[['RMSE_s1', 'RMSE_s2', 'bend_group']].groupby('bend_group').mean()\n",
    "df.plot.bar()\n",
    "plt.show()\n"
   ]
  },
  {
   "cell_type": "code",
   "execution_count": 269,
   "metadata": {},
   "outputs": [
    {
     "data": {
      "text/html": [
       "<div>\n",
       "<style scoped>\n",
       "    .dataframe tbody tr th:only-of-type {\n",
       "        vertical-align: middle;\n",
       "    }\n",
       "\n",
       "    .dataframe tbody tr th {\n",
       "        vertical-align: top;\n",
       "    }\n",
       "\n",
       "    .dataframe thead th {\n",
       "        text-align: right;\n",
       "    }\n",
       "</style>\n",
       "<table border=\"1\" class=\"dataframe\">\n",
       "  <thead>\n",
       "    <tr style=\"text-align: right;\">\n",
       "      <th></th>\n",
       "      <th>VALTOT</th>\n",
       "      <th>pred_S1</th>\n",
       "      <th>percent_error_s1</th>\n",
       "      <th>pred_S1</th>\n",
       "      <th>percent_error_s2</th>\n",
       "    </tr>\n",
       "  </thead>\n",
       "  <tbody>\n",
       "    <tr>\n",
       "      <th>0</th>\n",
       "      <td>12.19</td>\n",
       "      <td>12.263628</td>\n",
       "      <td>224761.506941</td>\n",
       "      <td>12.263628</td>\n",
       "      <td>65.271419</td>\n",
       "    </tr>\n",
       "    <tr>\n",
       "      <th>1</th>\n",
       "      <td>0.43</td>\n",
       "      <td>-0.214633</td>\n",
       "      <td>3.477005</td>\n",
       "      <td>-0.214633</td>\n",
       "      <td>526.204980</td>\n",
       "    </tr>\n",
       "    <tr>\n",
       "      <th>2</th>\n",
       "      <td>1.26</td>\n",
       "      <td>4.414032</td>\n",
       "      <td>-87.334033</td>\n",
       "      <td>4.414032</td>\n",
       "      <td>274.816950</td>\n",
       "    </tr>\n",
       "    <tr>\n",
       "      <th>3</th>\n",
       "      <td>1.16</td>\n",
       "      <td>0.282919</td>\n",
       "      <td>50.792209</td>\n",
       "      <td>0.282919</td>\n",
       "      <td>239.990058</td>\n",
       "    </tr>\n",
       "    <tr>\n",
       "      <th>4</th>\n",
       "      <td>6.27</td>\n",
       "      <td>5.902125</td>\n",
       "      <td>4533.046131</td>\n",
       "      <td>5.902125</td>\n",
       "      <td>2073.454584</td>\n",
       "    </tr>\n",
       "  </tbody>\n",
       "</table>\n",
       "</div>"
      ],
      "text/plain": [
       "   VALTOT    pred_S1  percent_error_s1    pred_S1  percent_error_s2\n",
       "0   12.19  12.263628     224761.506941  12.263628         65.271419\n",
       "1    0.43  -0.214633          3.477005  -0.214633        526.204980\n",
       "2    1.26   4.414032        -87.334033   4.414032        274.816950\n",
       "3    1.16   0.282919         50.792209   0.282919        239.990058\n",
       "4    6.27   5.902125       4533.046131   5.902125       2073.454584"
      ]
     },
     "execution_count": 269,
     "metadata": {},
     "output_type": "execute_result"
    }
   ],
   "source": [
    "comparisonset['percent_error_s1'] = ((comparisonset[target] / comparisonset['RMSE_s1'])-1)*100\n",
    "comparisonset['percent_error_s2'] = ((comparisonset[target] / comparisonset['RMSE_s2'])-1)*100\n",
    "comparisonset[[target, 'pred_S1', 'percent_error_s1', 'pred_S1', 'percent_error_s2']].head()"
   ]
  },
  {
   "cell_type": "code",
   "execution_count": null,
   "metadata": {},
   "outputs": [],
   "source": []
  },
  {
   "cell_type": "code",
   "execution_count": 270,
   "metadata": {},
   "outputs": [
    {
     "data": {
      "text/html": [
       "<div>\n",
       "<style scoped>\n",
       "    .dataframe tbody tr th:only-of-type {\n",
       "        vertical-align: middle;\n",
       "    }\n",
       "\n",
       "    .dataframe tbody tr th {\n",
       "        vertical-align: top;\n",
       "    }\n",
       "\n",
       "    .dataframe thead tr th {\n",
       "        text-align: left;\n",
       "    }\n",
       "\n",
       "    .dataframe thead tr:last-of-type th {\n",
       "        text-align: right;\n",
       "    }\n",
       "</style>\n",
       "<table border=\"1\" class=\"dataframe\">\n",
       "  <thead>\n",
       "    <tr>\n",
       "      <th></th>\n",
       "      <th></th>\n",
       "      <th colspan=\"2\" halign=\"left\">RMSE_s2</th>\n",
       "      <th colspan=\"2\" halign=\"left\">percent_error_s2</th>\n",
       "      <th>COART</th>\n",
       "    </tr>\n",
       "    <tr>\n",
       "      <th></th>\n",
       "      <th></th>\n",
       "      <th>mean</th>\n",
       "      <th>max</th>\n",
       "      <th>mean</th>\n",
       "      <th>max</th>\n",
       "      <th>count</th>\n",
       "    </tr>\n",
       "    <tr>\n",
       "      <th>thickness</th>\n",
       "      <th>bend_group</th>\n",
       "      <th></th>\n",
       "      <th></th>\n",
       "      <th></th>\n",
       "      <th></th>\n",
       "      <th></th>\n",
       "    </tr>\n",
       "  </thead>\n",
       "  <tbody>\n",
       "    <tr>\n",
       "      <th rowspan=\"4\" valign=\"top\">3.0</th>\n",
       "      <th>0</th>\n",
       "      <td>0.220228</td>\n",
       "      <td>0.899920</td>\n",
       "      <td>1.496548e+04</td>\n",
       "      <td>9.883450e+04</td>\n",
       "      <td>10</td>\n",
       "    </tr>\n",
       "    <tr>\n",
       "      <th>1-2</th>\n",
       "      <td>0.321247</td>\n",
       "      <td>1.412358</td>\n",
       "      <td>1.855950e+05</td>\n",
       "      <td>1.395779e+06</td>\n",
       "      <td>12</td>\n",
       "    </tr>\n",
       "    <tr>\n",
       "      <th>3-5</th>\n",
       "      <td>2.035539</td>\n",
       "      <td>8.749212</td>\n",
       "      <td>1.466856e+04</td>\n",
       "      <td>1.122586e+05</td>\n",
       "      <td>10</td>\n",
       "    </tr>\n",
       "    <tr>\n",
       "      <th>6+</th>\n",
       "      <td>5.103395</td>\n",
       "      <td>9.639196</td>\n",
       "      <td>2.125666e+02</td>\n",
       "      <td>3.276905e+02</td>\n",
       "      <td>3</td>\n",
       "    </tr>\n",
       "    <tr>\n",
       "      <th rowspan=\"4\" valign=\"top\">4.0</th>\n",
       "      <th>0</th>\n",
       "      <td>1.505230</td>\n",
       "      <td>18.431369</td>\n",
       "      <td>1.330870e+03</td>\n",
       "      <td>1.598412e+04</td>\n",
       "      <td>43</td>\n",
       "    </tr>\n",
       "    <tr>\n",
       "      <th>1-2</th>\n",
       "      <td>1.200840</td>\n",
       "      <td>43.968747</td>\n",
       "      <td>1.478378e+09</td>\n",
       "      <td>1.951323e+11</td>\n",
       "      <td>132</td>\n",
       "    </tr>\n",
       "    <tr>\n",
       "      <th>3-5</th>\n",
       "      <td>6.846490</td>\n",
       "      <td>64.738538</td>\n",
       "      <td>6.437224e+03</td>\n",
       "      <td>1.983655e+05</td>\n",
       "      <td>43</td>\n",
       "    </tr>\n",
       "    <tr>\n",
       "      <th>6+</th>\n",
       "      <td>125.632774</td>\n",
       "      <td>125.632774</td>\n",
       "      <td>-6.438031e+01</td>\n",
       "      <td>-6.438031e+01</td>\n",
       "      <td>1</td>\n",
       "    </tr>\n",
       "    <tr>\n",
       "      <th rowspan=\"4\" valign=\"top\">5.0</th>\n",
       "      <th>0</th>\n",
       "      <td>0.987081</td>\n",
       "      <td>13.186863</td>\n",
       "      <td>5.585576e+04</td>\n",
       "      <td>3.017995e+06</td>\n",
       "      <td>60</td>\n",
       "    </tr>\n",
       "    <tr>\n",
       "      <th>1-2</th>\n",
       "      <td>2.560822</td>\n",
       "      <td>47.163384</td>\n",
       "      <td>1.439384e+06</td>\n",
       "      <td>1.317733e+08</td>\n",
       "      <td>105</td>\n",
       "    </tr>\n",
       "    <tr>\n",
       "      <th>3-5</th>\n",
       "      <td>5.487447</td>\n",
       "      <td>63.004602</td>\n",
       "      <td>5.494421e+03</td>\n",
       "      <td>7.371878e+04</td>\n",
       "      <td>34</td>\n",
       "    </tr>\n",
       "    <tr>\n",
       "      <th>6+</th>\n",
       "      <td>32.738845</td>\n",
       "      <td>73.448845</td>\n",
       "      <td>7.283261e+03</td>\n",
       "      <td>2.870157e+04</td>\n",
       "      <td>4</td>\n",
       "    </tr>\n",
       "    <tr>\n",
       "      <th rowspan=\"4\" valign=\"top\">6.0</th>\n",
       "      <th>0</th>\n",
       "      <td>2.004738</td>\n",
       "      <td>94.234356</td>\n",
       "      <td>5.929007e+05</td>\n",
       "      <td>7.016877e+07</td>\n",
       "      <td>132</td>\n",
       "    </tr>\n",
       "    <tr>\n",
       "      <th>1-2</th>\n",
       "      <td>0.712189</td>\n",
       "      <td>41.058525</td>\n",
       "      <td>2.182010e+05</td>\n",
       "      <td>2.942844e+07</td>\n",
       "      <td>153</td>\n",
       "    </tr>\n",
       "    <tr>\n",
       "      <th>3-5</th>\n",
       "      <td>2.601168</td>\n",
       "      <td>28.274413</td>\n",
       "      <td>2.280218e+04</td>\n",
       "      <td>4.497103e+05</td>\n",
       "      <td>27</td>\n",
       "    </tr>\n",
       "    <tr>\n",
       "      <th>6+</th>\n",
       "      <td>3.123557</td>\n",
       "      <td>11.274450</td>\n",
       "      <td>1.614315e+03</td>\n",
       "      <td>4.576435e+03</td>\n",
       "      <td>5</td>\n",
       "    </tr>\n",
       "    <tr>\n",
       "      <th rowspan=\"4\" valign=\"top\">8.0</th>\n",
       "      <th>0</th>\n",
       "      <td>2.274668</td>\n",
       "      <td>118.418017</td>\n",
       "      <td>2.977559e+06</td>\n",
       "      <td>3.885170e+08</td>\n",
       "      <td>146</td>\n",
       "    </tr>\n",
       "    <tr>\n",
       "      <th>1-2</th>\n",
       "      <td>2.870027</td>\n",
       "      <td>107.411616</td>\n",
       "      <td>1.606371e+06</td>\n",
       "      <td>1.867666e+08</td>\n",
       "      <td>135</td>\n",
       "    </tr>\n",
       "    <tr>\n",
       "      <th>3-5</th>\n",
       "      <td>2.750087</td>\n",
       "      <td>18.238285</td>\n",
       "      <td>6.047648e+03</td>\n",
       "      <td>3.258988e+04</td>\n",
       "      <td>25</td>\n",
       "    </tr>\n",
       "    <tr>\n",
       "      <th>6+</th>\n",
       "      <td>0.797302</td>\n",
       "      <td>0.797302</td>\n",
       "      <td>1.367448e+03</td>\n",
       "      <td>1.367448e+03</td>\n",
       "      <td>1</td>\n",
       "    </tr>\n",
       "    <tr>\n",
       "      <th rowspan=\"3\" valign=\"top\">10.0</th>\n",
       "      <th>0</th>\n",
       "      <td>1.095623</td>\n",
       "      <td>29.655936</td>\n",
       "      <td>1.495949e+05</td>\n",
       "      <td>1.171770e+07</td>\n",
       "      <td>93</td>\n",
       "    </tr>\n",
       "    <tr>\n",
       "      <th>1-2</th>\n",
       "      <td>10.651507</td>\n",
       "      <td>227.600386</td>\n",
       "      <td>6.113503e+04</td>\n",
       "      <td>2.173616e+06</td>\n",
       "      <td>64</td>\n",
       "    </tr>\n",
       "    <tr>\n",
       "      <th>3-5</th>\n",
       "      <td>3.825185</td>\n",
       "      <td>11.749303</td>\n",
       "      <td>6.213983e+03</td>\n",
       "      <td>3.550814e+04</td>\n",
       "      <td>9</td>\n",
       "    </tr>\n",
       "    <tr>\n",
       "      <th rowspan=\"3\" valign=\"top\">12.0</th>\n",
       "      <th>0</th>\n",
       "      <td>5.482160</td>\n",
       "      <td>193.417241</td>\n",
       "      <td>2.118480e+05</td>\n",
       "      <td>1.265045e+07</td>\n",
       "      <td>72</td>\n",
       "    </tr>\n",
       "    <tr>\n",
       "      <th>1-2</th>\n",
       "      <td>4.765696</td>\n",
       "      <td>30.780524</td>\n",
       "      <td>1.585596e+07</td>\n",
       "      <td>3.645931e+08</td>\n",
       "      <td>23</td>\n",
       "    </tr>\n",
       "    <tr>\n",
       "      <th>3-5</th>\n",
       "      <td>1.590524</td>\n",
       "      <td>1.590524</td>\n",
       "      <td>4.017214e+02</td>\n",
       "      <td>4.017214e+02</td>\n",
       "      <td>1</td>\n",
       "    </tr>\n",
       "    <tr>\n",
       "      <th rowspan=\"3\" valign=\"top\">15.0</th>\n",
       "      <th>0</th>\n",
       "      <td>5.233799</td>\n",
       "      <td>94.518919</td>\n",
       "      <td>6.435626e+04</td>\n",
       "      <td>2.715361e+06</td>\n",
       "      <td>46</td>\n",
       "    </tr>\n",
       "    <tr>\n",
       "      <th>1-2</th>\n",
       "      <td>7.356682</td>\n",
       "      <td>15.412080</td>\n",
       "      <td>4.735825e+02</td>\n",
       "      <td>2.626666e+03</td>\n",
       "      <td>9</td>\n",
       "    </tr>\n",
       "    <tr>\n",
       "      <th>3-5</th>\n",
       "      <td>10.949151</td>\n",
       "      <td>19.971367</td>\n",
       "      <td>4.752058e+02</td>\n",
       "      <td>1.238128e+03</td>\n",
       "      <td>4</td>\n",
       "    </tr>\n",
       "  </tbody>\n",
       "</table>\n",
       "</div>"
      ],
      "text/plain": [
       "                         RMSE_s2             percent_error_s2                \\\n",
       "                            mean         max             mean           max   \n",
       "thickness bend_group                                                          \n",
       "3.0       0             0.220228    0.899920     1.496548e+04  9.883450e+04   \n",
       "          1-2           0.321247    1.412358     1.855950e+05  1.395779e+06   \n",
       "          3-5           2.035539    8.749212     1.466856e+04  1.122586e+05   \n",
       "          6+            5.103395    9.639196     2.125666e+02  3.276905e+02   \n",
       "4.0       0             1.505230   18.431369     1.330870e+03  1.598412e+04   \n",
       "          1-2           1.200840   43.968747     1.478378e+09  1.951323e+11   \n",
       "          3-5           6.846490   64.738538     6.437224e+03  1.983655e+05   \n",
       "          6+          125.632774  125.632774    -6.438031e+01 -6.438031e+01   \n",
       "5.0       0             0.987081   13.186863     5.585576e+04  3.017995e+06   \n",
       "          1-2           2.560822   47.163384     1.439384e+06  1.317733e+08   \n",
       "          3-5           5.487447   63.004602     5.494421e+03  7.371878e+04   \n",
       "          6+           32.738845   73.448845     7.283261e+03  2.870157e+04   \n",
       "6.0       0             2.004738   94.234356     5.929007e+05  7.016877e+07   \n",
       "          1-2           0.712189   41.058525     2.182010e+05  2.942844e+07   \n",
       "          3-5           2.601168   28.274413     2.280218e+04  4.497103e+05   \n",
       "          6+            3.123557   11.274450     1.614315e+03  4.576435e+03   \n",
       "8.0       0             2.274668  118.418017     2.977559e+06  3.885170e+08   \n",
       "          1-2           2.870027  107.411616     1.606371e+06  1.867666e+08   \n",
       "          3-5           2.750087   18.238285     6.047648e+03  3.258988e+04   \n",
       "          6+            0.797302    0.797302     1.367448e+03  1.367448e+03   \n",
       "10.0      0             1.095623   29.655936     1.495949e+05  1.171770e+07   \n",
       "          1-2          10.651507  227.600386     6.113503e+04  2.173616e+06   \n",
       "          3-5           3.825185   11.749303     6.213983e+03  3.550814e+04   \n",
       "12.0      0             5.482160  193.417241     2.118480e+05  1.265045e+07   \n",
       "          1-2           4.765696   30.780524     1.585596e+07  3.645931e+08   \n",
       "          3-5           1.590524    1.590524     4.017214e+02  4.017214e+02   \n",
       "15.0      0             5.233799   94.518919     6.435626e+04  2.715361e+06   \n",
       "          1-2           7.356682   15.412080     4.735825e+02  2.626666e+03   \n",
       "          3-5          10.949151   19.971367     4.752058e+02  1.238128e+03   \n",
       "\n",
       "                     COART  \n",
       "                     count  \n",
       "thickness bend_group        \n",
       "3.0       0             10  \n",
       "          1-2           12  \n",
       "          3-5           10  \n",
       "          6+             3  \n",
       "4.0       0             43  \n",
       "          1-2          132  \n",
       "          3-5           43  \n",
       "          6+             1  \n",
       "5.0       0             60  \n",
       "          1-2          105  \n",
       "          3-5           34  \n",
       "          6+             4  \n",
       "6.0       0            132  \n",
       "          1-2          153  \n",
       "          3-5           27  \n",
       "          6+             5  \n",
       "8.0       0            146  \n",
       "          1-2          135  \n",
       "          3-5           25  \n",
       "          6+             1  \n",
       "10.0      0             93  \n",
       "          1-2           64  \n",
       "          3-5            9  \n",
       "12.0      0             72  \n",
       "          1-2           23  \n",
       "          3-5            1  \n",
       "15.0      0             46  \n",
       "          1-2            9  \n",
       "          3-5            4  "
      ]
     },
     "execution_count": 270,
     "metadata": {},
     "output_type": "execute_result"
    }
   ],
   "source": [
    "df = comparisonset[['RMSE_s2', 'percent_error_s2', 'thickness', 'bend_group', 'COART']].groupby(['thickness', 'bend_group'])#.mean()\n",
    "df.agg({'RMSE_s2': ['mean', 'max'], 'percent_error_s2': ['mean', 'max'],'COART':['count'] })"
   ]
  },
  {
   "cell_type": "code",
   "execution_count": null,
   "metadata": {},
   "outputs": [],
   "source": []
  },
  {
   "cell_type": "code",
   "execution_count": 272,
   "metadata": {},
   "outputs": [
    {
     "data": {
      "image/png": "[encoded data removed]",
      "text/plain": [
       "<Figure size 1080x720 with 1 Axes>"
      ]
     },
     "metadata": {},
     "output_type": "display_data"
    }
   ],
   "source": [
    "df=comparisonset[[target, 'RMSE_s2', 'COART', 'thickness']]\n",
    "#df=df[df['thickness']!=15]\n",
    "df.set_index(['COART', 'thickness'], inplace=True)\n",
    "df = df.stack().reset_index()\n",
    "fig, ax = plt.subplots(figsize=(15,10))\n",
    "#ax.set_ylim(-10, 40)\n",
    "sns.violinplot(x=\"thickness\", y=0, data=df, split=True, hue='level_2', ax=ax)\n",
    "\n",
    "plt.show()"
   ]
  },
  {
   "cell_type": "code",
   "execution_count": null,
   "metadata": {},
   "outputs": [],
   "source": []
  },
  {
   "cell_type": "code",
   "execution_count": 273,
   "metadata": {},
   "outputs": [
    {
     "data": {
      "text/plain": [
       "thickness  COART   \n",
       "3.0        L8033291      9.639196\n",
       "           L6705510      8.749212\n",
       "           L7078280      6.855222\n",
       "4.0        L8038520    125.632774\n",
       "           L8807311     64.738538\n",
       "           L8034860     57.534039\n",
       "5.0        L7065870     73.448845\n",
       "           L7065850     63.004602\n",
       "           L8819680     54.432785\n",
       "6.0        L8414620     94.234356\n",
       "           L6005820     59.582103\n",
       "           L8035810     41.058525\n",
       "8.0        L2607610    118.418017\n",
       "           L2607600    107.411616\n",
       "           L7080610     57.122343\n",
       "10.0       L3027651    227.600386\n",
       "           L3063340    134.607433\n",
       "           L3063330    132.757506\n",
       "12.0       L3063370    193.417241\n",
       "           L6816400     78.701783\n",
       "           L3047420     30.780524\n",
       "15.0       L2512080     94.518919\n",
       "           L2522010     47.965780\n",
       "           L7057720     20.895763\n",
       "Name: RMSE_s2, dtype: float64"
      ]
     },
     "execution_count": 273,
     "metadata": {},
     "output_type": "execute_result"
    }
   ],
   "source": [
    "df = comparisonset[['RMSE_s2', 'COART', 'thickness']]\n",
    "df.set_index('COART', inplace=True)\n",
    "worst = df.groupby('thickness')['RMSE_s2'].nlargest(3)\n",
    "worst\n",
    "#worst.to_csv('worst_s0.csv')"
   ]
  },
  {
   "cell_type": "code",
   "execution_count": null,
   "metadata": {},
   "outputs": [],
   "source": []
  }
 ],
 "metadata": {
  "kernelspec": {
   "display_name": "Python 3",
   "language": "python",
   "name": "python3"
  },
  "language_info": {
   "codemirror_mode": {
    "name": "ipython",
    "version": 3
   },
   "file_extension": ".py",
   "mimetype": "text/x-python",
   "name": "python",
   "nbconvert_exporter": "python",
   "pygments_lexer": "ipython3",
   "version": "3.6.4"
  }
 },
 "nbformat": 4,
 "nbformat_minor": 2
}
