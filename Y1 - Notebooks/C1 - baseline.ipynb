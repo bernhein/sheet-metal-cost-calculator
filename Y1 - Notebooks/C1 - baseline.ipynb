{
 "cells": [
  {
   "cell_type": "code",
   "execution_count": 1,
   "metadata": {},
   "outputs": [],
   "source": [
    "import numpy as np\n",
    "import pandas as pd\n",
    "import matplotlib.pyplot as plt\n",
    "import seaborn as sns"
   ]
  },
  {
   "cell_type": "markdown",
   "metadata": {},
   "source": [
    "# Dataset loading"
   ]
  },
  {
   "cell_type": "code",
   "execution_count": 2,
   "metadata": {},
   "outputs": [
    {
     "name": "stdout",
     "output_type": "stream",
     "text": [
      "dataset shape: (4999, 407)\n"
     ]
    },
    {
     "data": {
      "text/html": [
       "<div>\n",
       "<style scoped>\n",
       "    .dataframe tbody tr th:only-of-type {\n",
       "        vertical-align: middle;\n",
       "    }\n",
       "\n",
       "    .dataframe tbody tr th {\n",
       "        vertical-align: top;\n",
       "    }\n",
       "\n",
       "    .dataframe thead th {\n",
       "        text-align: right;\n",
       "    }\n",
       "</style>\n",
       "<table border=\"1\" class=\"dataframe\">\n",
       "  <thead>\n",
       "    <tr style=\"text-align: right;\">\n",
       "      <th></th>\n",
       "      <th>cut_length</th>\n",
       "      <th>num_closed_patterns</th>\n",
       "      <th>num_open_patterns</th>\n",
       "      <th>total_area</th>\n",
       "      <th>minimum_rectangle_area</th>\n",
       "      <th>minimum_rectangle_dim1</th>\n",
       "      <th>minimum_rectangle_dim2</th>\n",
       "      <th>convex_hull_area</th>\n",
       "      <th>no_hole_area</th>\n",
       "      <th>thickness</th>\n",
       "      <th>...</th>\n",
       "      <th>bend_edge_angle_min_14</th>\n",
       "      <th>bend_edge_angle_max_14</th>\n",
       "      <th>bend_edge_length_mean_14</th>\n",
       "      <th>bend_edge_length_std_14</th>\n",
       "      <th>bend_edge_length_min_14</th>\n",
       "      <th>bend_edge_length_max_14</th>\n",
       "      <th>VAMAT</th>\n",
       "      <th>VALAJOUT</th>\n",
       "      <th>VALTOT</th>\n",
       "      <th>bend_group</th>\n",
       "    </tr>\n",
       "    <tr>\n",
       "      <th>COART</th>\n",
       "      <th></th>\n",
       "      <th></th>\n",
       "      <th></th>\n",
       "      <th></th>\n",
       "      <th></th>\n",
       "      <th></th>\n",
       "      <th></th>\n",
       "      <th></th>\n",
       "      <th></th>\n",
       "      <th></th>\n",
       "      <th></th>\n",
       "      <th></th>\n",
       "      <th></th>\n",
       "      <th></th>\n",
       "      <th></th>\n",
       "      <th></th>\n",
       "      <th></th>\n",
       "      <th></th>\n",
       "      <th></th>\n",
       "      <th></th>\n",
       "      <th></th>\n",
       "    </tr>\n",
       "  </thead>\n",
       "  <tbody>\n",
       "    <tr>\n",
       "      <th>L1600360</th>\n",
       "      <td>3178.489502</td>\n",
       "      <td>9</td>\n",
       "      <td>0</td>\n",
       "      <td>285678.093750</td>\n",
       "      <td>431798.46875</td>\n",
       "      <td>722.070984</td>\n",
       "      <td>598.000000</td>\n",
       "      <td>320484.593750</td>\n",
       "      <td>286893.718750</td>\n",
       "      <td>4.0</td>\n",
       "      <td>...</td>\n",
       "      <td>0.0</td>\n",
       "      <td>0.0</td>\n",
       "      <td>0.0</td>\n",
       "      <td>0.0</td>\n",
       "      <td>0.0</td>\n",
       "      <td>0.0</td>\n",
       "      <td>12.51</td>\n",
       "      <td>5.15</td>\n",
       "      <td>17.66</td>\n",
       "      <td>&gt;4</td>\n",
       "    </tr>\n",
       "    <tr>\n",
       "      <th>L1600700</th>\n",
       "      <td>625.429871</td>\n",
       "      <td>2</td>\n",
       "      <td>0</td>\n",
       "      <td>10823.929688</td>\n",
       "      <td>12759.00000</td>\n",
       "      <td>255.179993</td>\n",
       "      <td>50.000000</td>\n",
       "      <td>11152.315430</td>\n",
       "      <td>11152.315430</td>\n",
       "      <td>10.0</td>\n",
       "      <td>...</td>\n",
       "      <td>0.0</td>\n",
       "      <td>0.0</td>\n",
       "      <td>0.0</td>\n",
       "      <td>0.0</td>\n",
       "      <td>0.0</td>\n",
       "      <td>0.0</td>\n",
       "      <td>0.75</td>\n",
       "      <td>1.61</td>\n",
       "      <td>2.36</td>\n",
       "      <td>1-2</td>\n",
       "    </tr>\n",
       "    <tr>\n",
       "      <th>L1600710</th>\n",
       "      <td>625.429871</td>\n",
       "      <td>2</td>\n",
       "      <td>0</td>\n",
       "      <td>10823.929688</td>\n",
       "      <td>12759.00000</td>\n",
       "      <td>255.179993</td>\n",
       "      <td>50.000000</td>\n",
       "      <td>11152.315430</td>\n",
       "      <td>11152.315430</td>\n",
       "      <td>10.0</td>\n",
       "      <td>...</td>\n",
       "      <td>0.0</td>\n",
       "      <td>0.0</td>\n",
       "      <td>0.0</td>\n",
       "      <td>0.0</td>\n",
       "      <td>0.0</td>\n",
       "      <td>0.0</td>\n",
       "      <td>0.75</td>\n",
       "      <td>1.61</td>\n",
       "      <td>2.36</td>\n",
       "      <td>1-2</td>\n",
       "    </tr>\n",
       "    <tr>\n",
       "      <th>L1604370</th>\n",
       "      <td>1331.470215</td>\n",
       "      <td>2</td>\n",
       "      <td>0</td>\n",
       "      <td>50167.941406</td>\n",
       "      <td>86430.78125</td>\n",
       "      <td>402.004486</td>\n",
       "      <td>214.999557</td>\n",
       "      <td>60628.445312</td>\n",
       "      <td>60628.445312</td>\n",
       "      <td>20.0</td>\n",
       "      <td>...</td>\n",
       "      <td>0.0</td>\n",
       "      <td>0.0</td>\n",
       "      <td>0.0</td>\n",
       "      <td>0.0</td>\n",
       "      <td>0.0</td>\n",
       "      <td>0.0</td>\n",
       "      <td>13.51</td>\n",
       "      <td>2.61</td>\n",
       "      <td>16.12</td>\n",
       "      <td>0</td>\n",
       "    </tr>\n",
       "    <tr>\n",
       "      <th>L1605520</th>\n",
       "      <td>2439.510254</td>\n",
       "      <td>10</td>\n",
       "      <td>0</td>\n",
       "      <td>57224.437500</td>\n",
       "      <td>108800.00000</td>\n",
       "      <td>680.000000</td>\n",
       "      <td>160.000000</td>\n",
       "      <td>93438.500000</td>\n",
       "      <td>60505.269531</td>\n",
       "      <td>10.0</td>\n",
       "      <td>...</td>\n",
       "      <td>0.0</td>\n",
       "      <td>0.0</td>\n",
       "      <td>0.0</td>\n",
       "      <td>0.0</td>\n",
       "      <td>0.0</td>\n",
       "      <td>0.0</td>\n",
       "      <td>7.01</td>\n",
       "      <td>4.07</td>\n",
       "      <td>11.08</td>\n",
       "      <td>0</td>\n",
       "    </tr>\n",
       "  </tbody>\n",
       "</table>\n",
       "<p>5 rows × 407 columns</p>\n",
       "</div>"
      ],
      "text/plain": [
       "           cut_length  num_closed_patterns  num_open_patterns     total_area  \\\n",
       "COART                                                                          \n",
       "L1600360  3178.489502                    9                  0  285678.093750   \n",
       "L1600700   625.429871                    2                  0   10823.929688   \n",
       "L1600710   625.429871                    2                  0   10823.929688   \n",
       "L1604370  1331.470215                    2                  0   50167.941406   \n",
       "L1605520  2439.510254                   10                  0   57224.437500   \n",
       "\n",
       "          minimum_rectangle_area  minimum_rectangle_dim1  \\\n",
       "COART                                                      \n",
       "L1600360            431798.46875              722.070984   \n",
       "L1600700             12759.00000              255.179993   \n",
       "L1600710             12759.00000              255.179993   \n",
       "L1604370             86430.78125              402.004486   \n",
       "L1605520            108800.00000              680.000000   \n",
       "\n",
       "          minimum_rectangle_dim2  convex_hull_area   no_hole_area  thickness  \\\n",
       "COART                                                                          \n",
       "L1600360              598.000000     320484.593750  286893.718750        4.0   \n",
       "L1600700               50.000000      11152.315430   11152.315430       10.0   \n",
       "L1600710               50.000000      11152.315430   11152.315430       10.0   \n",
       "L1604370              214.999557      60628.445312   60628.445312       20.0   \n",
       "L1605520              160.000000      93438.500000   60505.269531       10.0   \n",
       "\n",
       "             ...      bend_edge_angle_min_14  bend_edge_angle_max_14  \\\n",
       "COART        ...                                                       \n",
       "L1600360     ...                         0.0                     0.0   \n",
       "L1600700     ...                         0.0                     0.0   \n",
       "L1600710     ...                         0.0                     0.0   \n",
       "L1604370     ...                         0.0                     0.0   \n",
       "L1605520     ...                         0.0                     0.0   \n",
       "\n",
       "          bend_edge_length_mean_14  bend_edge_length_std_14  \\\n",
       "COART                                                         \n",
       "L1600360                       0.0                      0.0   \n",
       "L1600700                       0.0                      0.0   \n",
       "L1600710                       0.0                      0.0   \n",
       "L1604370                       0.0                      0.0   \n",
       "L1605520                       0.0                      0.0   \n",
       "\n",
       "          bend_edge_length_min_14  bend_edge_length_max_14  VAMAT  VALAJOUT  \\\n",
       "COART                                                                         \n",
       "L1600360                      0.0                      0.0  12.51      5.15   \n",
       "L1600700                      0.0                      0.0   0.75      1.61   \n",
       "L1600710                      0.0                      0.0   0.75      1.61   \n",
       "L1604370                      0.0                      0.0  13.51      2.61   \n",
       "L1605520                      0.0                      0.0   7.01      4.07   \n",
       "\n",
       "          VALTOT  bend_group  \n",
       "COART                         \n",
       "L1600360   17.66          >4  \n",
       "L1600700    2.36         1-2  \n",
       "L1600710    2.36         1-2  \n",
       "L1604370   16.12           0  \n",
       "L1605520   11.08           0  \n",
       "\n",
       "[5 rows x 407 columns]"
      ]
     },
     "execution_count": 2,
     "metadata": {},
     "output_type": "execute_result"
    }
   ],
   "source": [
    "dataset = pd.read_csv('../Y3 - Sample data/Z2 - datasetprepclean.csv', index_col = 0,\n",
    "                     )\n",
    "print('dataset shape:', dataset.shape)\n",
    "dataset.head()"
   ]
  },
  {
   "cell_type": "code",
   "execution_count": 3,
   "metadata": {},
   "outputs": [
    {
     "data": {
      "text/plain": [
       "array(['cut_length', 'num_closed_patterns', 'num_open_patterns',\n",
       "       'total_area', 'minimum_rectangle_area', 'minimum_rectangle_dim1',\n",
       "       'minimum_rectangle_dim2', 'convex_hull_area', 'no_hole_area',\n",
       "       'thickness', 'radius_count', 'direction_count', 'bend_count',\n",
       "       'bend_radius_00', 'bend_angle_00', 'bend_direction_00',\n",
       "       'deformation_length_00', 'merged_bend_00', 'punch_length_00',\n",
       "       'bend_radius_01', 'bend_angle_01', 'bend_direction_01',\n",
       "       'deformation_length_01', 'merged_bend_01', 'punch_length_01',\n",
       "       'bend_radius_02', 'bend_angle_02', 'bend_direction_02',\n",
       "       'deformation_length_02', 'merged_bend_02', 'punch_length_02',\n",
       "       'bend_radius_03', 'bend_angle_03', 'bend_direction_03',\n",
       "       'deformation_length_03', 'merged_bend_03', 'punch_length_03',\n",
       "       'bend_radius_04', 'bend_angle_04', 'bend_direction_04',\n",
       "       'deformation_length_04', 'merged_bend_04', 'punch_length_04',\n",
       "       'bend_radius_05', 'bend_angle_05', 'bend_direction_05',\n",
       "       'deformation_length_05', 'merged_bend_05', 'punch_length_05',\n",
       "       'bend_radius_06', 'bend_angle_06', 'bend_direction_06',\n",
       "       'deformation_length_06', 'merged_bend_06', 'punch_length_06',\n",
       "       'bend_radius_07', 'bend_angle_07', 'bend_direction_07',\n",
       "       'deformation_length_07', 'merged_bend_07', 'punch_length_07',\n",
       "       'bend_radius_08', 'bend_angle_08', 'bend_direction_08',\n",
       "       'deformation_length_08', 'merged_bend_08', 'punch_length_08',\n",
       "       'bend_radius_09', 'bend_angle_09', 'bend_direction_09',\n",
       "       'deformation_length_09', 'merged_bend_09', 'punch_length_09',\n",
       "       'bend_radius_10', 'bend_angle_10', 'bend_direction_10',\n",
       "       'deformation_length_10', 'merged_bend_10', 'punch_length_10',\n",
       "       'bend_radius_11', 'bend_angle_11', 'bend_direction_11',\n",
       "       'deformation_length_11', 'merged_bend_11', 'punch_length_11',\n",
       "       'bend_radius_12', 'bend_angle_12', 'bend_direction_12',\n",
       "       'deformation_length_12', 'merged_bend_12', 'punch_length_12',\n",
       "       'bend_radius_13', 'bend_angle_13', 'bend_direction_13',\n",
       "       'deformation_length_13', 'merged_bend_13', 'punch_length_13',\n",
       "       'bend_radius_14', 'bend_angle_14', 'bend_direction_14',\n",
       "       'deformation_length_14', 'merged_bend_14', 'punch_length_14',\n",
       "       'bend_bend_distance_mean_00', 'bend_bend_distance_std_00',\n",
       "       'bend_bend_distance_min_00', 'bend_bend_distance_max_00',\n",
       "       'bend_bend_angle_mean_00', 'bend_bend_angle_std_00',\n",
       "       'bend_bend_angle_min_00', 'bend_bend_angle_max_00',\n",
       "       'bend_edge_distance_mean_00', 'bend_edge_distance_std_00',\n",
       "       'bend_edge_distance_min_00', 'bend_edge_distance_max_00',\n",
       "       'bend_edge_angle_mean_00', 'bend_edge_angle_std_00',\n",
       "       'bend_edge_angle_min_00', 'bend_edge_angle_max_00',\n",
       "       'bend_edge_length_mean_00', 'bend_edge_length_std_00',\n",
       "       'bend_edge_length_min_00', 'bend_edge_length_max_00',\n",
       "       'bend_bend_distance_mean_01', 'bend_bend_distance_std_01',\n",
       "       'bend_bend_distance_min_01', 'bend_bend_distance_max_01',\n",
       "       'bend_bend_angle_mean_01', 'bend_bend_angle_std_01',\n",
       "       'bend_bend_angle_min_01', 'bend_bend_angle_max_01',\n",
       "       'bend_edge_distance_mean_01', 'bend_edge_distance_std_01',\n",
       "       'bend_edge_distance_min_01', 'bend_edge_distance_max_01',\n",
       "       'bend_edge_angle_mean_01', 'bend_edge_angle_std_01',\n",
       "       'bend_edge_angle_min_01', 'bend_edge_angle_max_01',\n",
       "       'bend_edge_length_mean_01', 'bend_edge_length_std_01',\n",
       "       'bend_edge_length_min_01', 'bend_edge_length_max_01',\n",
       "       'bend_bend_distance_mean_02', 'bend_bend_distance_std_02',\n",
       "       'bend_bend_distance_min_02', 'bend_bend_distance_max_02',\n",
       "       'bend_bend_angle_mean_02', 'bend_bend_angle_std_02',\n",
       "       'bend_bend_angle_min_02', 'bend_bend_angle_max_02',\n",
       "       'bend_edge_distance_mean_02', 'bend_edge_distance_std_02',\n",
       "       'bend_edge_distance_min_02', 'bend_edge_distance_max_02',\n",
       "       'bend_edge_angle_mean_02', 'bend_edge_angle_std_02',\n",
       "       'bend_edge_angle_min_02', 'bend_edge_angle_max_02',\n",
       "       'bend_edge_length_mean_02', 'bend_edge_length_std_02',\n",
       "       'bend_edge_length_min_02', 'bend_edge_length_max_02',\n",
       "       'bend_bend_distance_mean_03', 'bend_bend_distance_std_03',\n",
       "       'bend_bend_distance_min_03', 'bend_bend_distance_max_03',\n",
       "       'bend_bend_angle_mean_03', 'bend_bend_angle_std_03',\n",
       "       'bend_bend_angle_min_03', 'bend_bend_angle_max_03',\n",
       "       'bend_edge_distance_mean_03', 'bend_edge_distance_std_03',\n",
       "       'bend_edge_distance_min_03', 'bend_edge_distance_max_03',\n",
       "       'bend_edge_angle_mean_03', 'bend_edge_angle_std_03',\n",
       "       'bend_edge_angle_min_03', 'bend_edge_angle_max_03',\n",
       "       'bend_edge_length_mean_03', 'bend_edge_length_std_03',\n",
       "       'bend_edge_length_min_03', 'bend_edge_length_max_03',\n",
       "       'bend_bend_distance_mean_04', 'bend_bend_distance_std_04',\n",
       "       'bend_bend_distance_min_04', 'bend_bend_distance_max_04',\n",
       "       'bend_bend_angle_mean_04', 'bend_bend_angle_std_04',\n",
       "       'bend_bend_angle_min_04', 'bend_bend_angle_max_04',\n",
       "       'bend_edge_distance_mean_04', 'bend_edge_distance_std_04',\n",
       "       'bend_edge_distance_min_04', 'bend_edge_distance_max_04',\n",
       "       'bend_edge_angle_mean_04', 'bend_edge_angle_std_04',\n",
       "       'bend_edge_angle_min_04', 'bend_edge_angle_max_04',\n",
       "       'bend_edge_length_mean_04', 'bend_edge_length_std_04',\n",
       "       'bend_edge_length_min_04', 'bend_edge_length_max_04',\n",
       "       'bend_bend_distance_mean_05', 'bend_bend_distance_std_05',\n",
       "       'bend_bend_distance_min_05', 'bend_bend_distance_max_05',\n",
       "       'bend_bend_angle_mean_05', 'bend_bend_angle_std_05',\n",
       "       'bend_bend_angle_min_05', 'bend_bend_angle_max_05',\n",
       "       'bend_edge_distance_mean_05', 'bend_edge_distance_std_05',\n",
       "       'bend_edge_distance_min_05', 'bend_edge_distance_max_05',\n",
       "       'bend_edge_angle_mean_05', 'bend_edge_angle_std_05',\n",
       "       'bend_edge_angle_min_05', 'bend_edge_angle_max_05',\n",
       "       'bend_edge_length_mean_05', 'bend_edge_length_std_05',\n",
       "       'bend_edge_length_min_05', 'bend_edge_length_max_05',\n",
       "       'bend_bend_distance_mean_06', 'bend_bend_distance_std_06',\n",
       "       'bend_bend_distance_min_06', 'bend_bend_distance_max_06',\n",
       "       'bend_bend_angle_mean_06', 'bend_bend_angle_std_06',\n",
       "       'bend_bend_angle_min_06', 'bend_bend_angle_max_06',\n",
       "       'bend_edge_distance_mean_06', 'bend_edge_distance_std_06',\n",
       "       'bend_edge_distance_min_06', 'bend_edge_distance_max_06',\n",
       "       'bend_edge_angle_mean_06', 'bend_edge_angle_std_06',\n",
       "       'bend_edge_angle_min_06', 'bend_edge_angle_max_06',\n",
       "       'bend_edge_length_mean_06', 'bend_edge_length_std_06',\n",
       "       'bend_edge_length_min_06', 'bend_edge_length_max_06',\n",
       "       'bend_bend_distance_mean_07', 'bend_bend_distance_std_07',\n",
       "       'bend_bend_distance_min_07', 'bend_bend_distance_max_07',\n",
       "       'bend_bend_angle_mean_07', 'bend_bend_angle_std_07',\n",
       "       'bend_bend_angle_min_07', 'bend_bend_angle_max_07',\n",
       "       'bend_edge_distance_mean_07', 'bend_edge_distance_std_07',\n",
       "       'bend_edge_distance_min_07', 'bend_edge_distance_max_07',\n",
       "       'bend_edge_angle_mean_07', 'bend_edge_angle_std_07',\n",
       "       'bend_edge_angle_min_07', 'bend_edge_angle_max_07',\n",
       "       'bend_edge_length_mean_07', 'bend_edge_length_std_07',\n",
       "       'bend_edge_length_min_07', 'bend_edge_length_max_07',\n",
       "       'bend_bend_distance_mean_08', 'bend_bend_distance_std_08',\n",
       "       'bend_bend_distance_min_08', 'bend_bend_distance_max_08',\n",
       "       'bend_bend_angle_mean_08', 'bend_bend_angle_std_08',\n",
       "       'bend_bend_angle_min_08', 'bend_bend_angle_max_08',\n",
       "       'bend_edge_distance_mean_08', 'bend_edge_distance_std_08',\n",
       "       'bend_edge_distance_min_08', 'bend_edge_distance_max_08',\n",
       "       'bend_edge_angle_mean_08', 'bend_edge_angle_std_08',\n",
       "       'bend_edge_angle_min_08', 'bend_edge_angle_max_08',\n",
       "       'bend_edge_length_mean_08', 'bend_edge_length_std_08',\n",
       "       'bend_edge_length_min_08', 'bend_edge_length_max_08',\n",
       "       'bend_bend_distance_mean_09', 'bend_bend_distance_std_09',\n",
       "       'bend_bend_distance_min_09', 'bend_bend_distance_max_09',\n",
       "       'bend_bend_angle_mean_09', 'bend_bend_angle_std_09',\n",
       "       'bend_bend_angle_min_09', 'bend_bend_angle_max_09',\n",
       "       'bend_edge_distance_mean_09', 'bend_edge_distance_std_09',\n",
       "       'bend_edge_distance_min_09', 'bend_edge_distance_max_09',\n",
       "       'bend_edge_angle_mean_09', 'bend_edge_angle_std_09',\n",
       "       'bend_edge_angle_min_09', 'bend_edge_angle_max_09',\n",
       "       'bend_edge_length_mean_09', 'bend_edge_length_std_09',\n",
       "       'bend_edge_length_min_09', 'bend_edge_length_max_09',\n",
       "       'bend_bend_distance_mean_10', 'bend_bend_distance_std_10',\n",
       "       'bend_bend_distance_min_10', 'bend_bend_distance_max_10',\n",
       "       'bend_bend_angle_mean_10', 'bend_bend_angle_std_10',\n",
       "       'bend_bend_angle_min_10', 'bend_bend_angle_max_10',\n",
       "       'bend_edge_distance_mean_10', 'bend_edge_distance_std_10',\n",
       "       'bend_edge_distance_min_10', 'bend_edge_distance_max_10',\n",
       "       'bend_edge_angle_mean_10', 'bend_edge_angle_std_10',\n",
       "       'bend_edge_angle_min_10', 'bend_edge_angle_max_10',\n",
       "       'bend_edge_length_mean_10', 'bend_edge_length_std_10',\n",
       "       'bend_edge_length_min_10', 'bend_edge_length_max_10',\n",
       "       'bend_bend_distance_mean_11', 'bend_bend_distance_std_11',\n",
       "       'bend_bend_distance_min_11', 'bend_bend_distance_max_11',\n",
       "       'bend_bend_angle_mean_11', 'bend_bend_angle_std_11',\n",
       "       'bend_bend_angle_min_11', 'bend_bend_angle_max_11',\n",
       "       'bend_edge_distance_mean_11', 'bend_edge_distance_std_11',\n",
       "       'bend_edge_distance_min_11', 'bend_edge_distance_max_11',\n",
       "       'bend_edge_angle_mean_11', 'bend_edge_angle_std_11',\n",
       "       'bend_edge_angle_min_11', 'bend_edge_angle_max_11',\n",
       "       'bend_edge_length_mean_11', 'bend_edge_length_std_11',\n",
       "       'bend_edge_length_min_11', 'bend_edge_length_max_11',\n",
       "       'bend_bend_distance_mean_12', 'bend_bend_distance_std_12',\n",
       "       'bend_bend_distance_min_12', 'bend_bend_distance_max_12',\n",
       "       'bend_bend_angle_mean_12', 'bend_bend_angle_std_12',\n",
       "       'bend_bend_angle_min_12', 'bend_bend_angle_max_12',\n",
       "       'bend_edge_distance_mean_12', 'bend_edge_distance_std_12',\n",
       "       'bend_edge_distance_min_12', 'bend_edge_distance_max_12',\n",
       "       'bend_edge_angle_mean_12', 'bend_edge_angle_std_12',\n",
       "       'bend_edge_angle_min_12', 'bend_edge_angle_max_12',\n",
       "       'bend_edge_length_mean_12', 'bend_edge_length_std_12',\n",
       "       'bend_edge_length_min_12', 'bend_edge_length_max_12',\n",
       "       'bend_bend_distance_mean_13', 'bend_bend_distance_std_13',\n",
       "       'bend_bend_distance_min_13', 'bend_bend_distance_max_13',\n",
       "       'bend_bend_angle_mean_13', 'bend_bend_angle_std_13',\n",
       "       'bend_bend_angle_min_13', 'bend_bend_angle_max_13',\n",
       "       'bend_edge_distance_mean_13', 'bend_edge_distance_std_13',\n",
       "       'bend_edge_distance_min_13', 'bend_edge_distance_max_13',\n",
       "       'bend_edge_angle_mean_13', 'bend_edge_angle_std_13',\n",
       "       'bend_edge_angle_min_13', 'bend_edge_angle_max_13',\n",
       "       'bend_edge_length_mean_13', 'bend_edge_length_std_13',\n",
       "       'bend_edge_length_min_13', 'bend_edge_length_max_13',\n",
       "       'bend_bend_distance_mean_14', 'bend_bend_distance_std_14',\n",
       "       'bend_bend_distance_min_14', 'bend_bend_distance_max_14',\n",
       "       'bend_bend_angle_mean_14', 'bend_bend_angle_std_14',\n",
       "       'bend_bend_angle_min_14', 'bend_bend_angle_max_14',\n",
       "       'bend_edge_distance_mean_14', 'bend_edge_distance_std_14',\n",
       "       'bend_edge_distance_min_14', 'bend_edge_distance_max_14',\n",
       "       'bend_edge_angle_mean_14', 'bend_edge_angle_std_14',\n",
       "       'bend_edge_angle_min_14', 'bend_edge_angle_max_14',\n",
       "       'bend_edge_length_mean_14', 'bend_edge_length_std_14',\n",
       "       'bend_edge_length_min_14', 'bend_edge_length_max_14', 'VAMAT',\n",
       "       'VALAJOUT', 'VALTOT', 'bend_group'], dtype=object)"
      ]
     },
     "execution_count": 3,
     "metadata": {},
     "output_type": "execute_result"
    }
   ],
   "source": [
    "dataset.columns.values"
   ]
  },
  {
   "cell_type": "code",
   "execution_count": 4,
   "metadata": {},
   "outputs": [
    {
     "name": "stdout",
     "output_type": "stream",
     "text": [
      "deformation_length_00 --> 158\n",
      "deformation_length_01 --> 71\n",
      "deformation_length_02 --> 6\n",
      "deformation_length_03 --> 3\n",
      "deformation_length_04 --> 1\n",
      "Done !\n"
     ]
    }
   ],
   "source": [
    "for index, nancount in dataset.isnull().sum().iteritems():\n",
    "    if nancount != 0:\n",
    "        print(index, '-->', nancount)\n",
    "else:\n",
    "    print('Done !')"
   ]
  },
  {
   "cell_type": "code",
   "execution_count": 5,
   "metadata": {},
   "outputs": [],
   "source": [
    "#Cleaning of the remaining Nan\n",
    "dataset = dataset.dropna()"
   ]
  },
  {
   "cell_type": "markdown",
   "metadata": {},
   "source": [
    "# cleaning to have at least min occurences"
   ]
  },
  {
   "cell_type": "code",
   "execution_count": 6,
   "metadata": {},
   "outputs": [],
   "source": [
    "minocc = 10\n",
    "todrop = []\n",
    "df = dataset['thickness'].reset_index().groupby('thickness').count()\n",
    "for index, occ in df.iterrows():\n",
    "    if occ.COART <= minocc:\n",
    "        todrop.append(index)\n",
    "\n",
    "for thickness in todrop:\n",
    "    dataset = dataset[dataset['thickness'] != thickness]"
   ]
  },
  {
   "cell_type": "markdown",
   "metadata": {},
   "source": [
    "# Dataset re-ordering and Splitting"
   ]
  },
  {
   "cell_type": "markdown",
   "metadata": {},
   "source": [
    "The baseline will be defined with the 3 core factors:\n",
    "- Thickness\n",
    "- Area\n",
    "- Number of bends"
   ]
  },
  {
   "cell_type": "code",
   "execution_count": 7,
   "metadata": {},
   "outputs": [],
   "source": [
    "#Dataset definition\n",
    "X = dataset[['thickness', 'minimum_rectangle_area', 'bend_count',  'bend_group']]\n",
    "y = dataset['VALTOT']"
   ]
  },
  {
   "cell_type": "code",
   "execution_count": 8,
   "metadata": {},
   "outputs": [],
   "source": [
    "# Dataset splitting\n",
    "from sklearn.model_selection import train_test_split\n",
    "X_train, X_test, y_train, y_test = train_test_split(\n",
    "    X, y, test_size=0.33, random_state=0 ,stratify=X['bend_group'])"
   ]
  },
  {
   "cell_type": "markdown",
   "metadata": {},
   "source": [
    "# Blocs creation"
   ]
  },
  {
   "cell_type": "code",
   "execution_count": 9,
   "metadata": {},
   "outputs": [],
   "source": [
    "#Scaler\n",
    "from sklearn.preprocessing import StandardScaler\n",
    "scaler = StandardScaler()"
   ]
  },
  {
   "cell_type": "code",
   "execution_count": 10,
   "metadata": {},
   "outputs": [],
   "source": [
    "# Metric\n",
    "from sklearn.metrics import mean_squared_error"
   ]
  },
  {
   "cell_type": "code",
   "execution_count": 11,
   "metadata": {},
   "outputs": [],
   "source": [
    "#regressions\n",
    "from sklearn.linear_model import Ridge\n",
    "ridge = Ridge(alpha=1.0, random_state=0, normalize=False)\n",
    "\n",
    "from sklearn.linear_model import ElasticNet\n",
    "enet = ElasticNet(alpha=0, l1_ratio=1, random_state=0, normalize=False)"
   ]
  },
  {
   "cell_type": "code",
   "execution_count": 12,
   "metadata": {},
   "outputs": [],
   "source": [
    "#Other tools\n",
    "from sklearn.model_selection import GridSearchCV\n",
    "from sklearn.pipeline import Pipeline"
   ]
  },
  {
   "cell_type": "markdown",
   "metadata": {},
   "source": [
    "# With standardisation - S1"
   ]
  },
  {
   "cell_type": "code",
   "execution_count": 13,
   "metadata": {},
   "outputs": [],
   "source": [
    "pipe = [('scaler', scaler), ('enet', enet)]\n",
    "regpip = Pipeline(pipe)"
   ]
  },
  {
   "cell_type": "code",
   "execution_count": 14,
   "metadata": {},
   "outputs": [],
   "source": [
    "parameters = {'enet__alpha':np.logspace(-3,3,11),\n",
    "              'enet__l1_ratio':np.linspace(0.01,1,11)\n",
    "             }\n",
    "regstd = GridSearchCV(regpip, parameters, cv=5, n_jobs=-2, scoring='neg_mean_squared_error')"
   ]
  },
  {
   "cell_type": "code",
   "execution_count": 15,
   "metadata": {},
   "outputs": [
    {
     "data": {
      "text/plain": [
       "GridSearchCV(cv=5, error_score='raise',\n",
       "       estimator=Pipeline(memory=None,\n",
       "     steps=[('scaler', StandardScaler(copy=True, with_mean=True, with_std=True)), ('enet', ElasticNet(alpha=0, copy_X=True, fit_intercept=True, l1_ratio=1,\n",
       "      max_iter=1000, normalize=False, positive=False, precompute=False,\n",
       "      random_state=0, selection='cyclic', tol=0.0001, warm_start=False))]),\n",
       "       fit_params=None, iid=True, n_jobs=-2,\n",
       "       param_grid={'enet__alpha': array([1.00000e-03, 3.98107e-03, 1.58489e-02, 6.30957e-02, 2.51189e-01,\n",
       "       1.00000e+00, 3.98107e+00, 1.58489e+01, 6.30957e+01, 2.51189e+02,\n",
       "       1.00000e+03]), 'enet__l1_ratio': array([0.01 , 0.109, 0.208, 0.307, 0.406, 0.505, 0.604, 0.703, 0.802,\n",
       "       0.901, 1.   ])},\n",
       "       pre_dispatch='2*n_jobs', refit=True, return_train_score='warn',\n",
       "       scoring='neg_mean_squared_error', verbose=0)"
      ]
     },
     "execution_count": 15,
     "metadata": {},
     "output_type": "execute_result"
    }
   ],
   "source": [
    "regstd.fit(X_train[['thickness', 'minimum_rectangle_area', 'bend_count']], y_train)"
   ]
  },
  {
   "cell_type": "code",
   "execution_count": 16,
   "metadata": {},
   "outputs": [
    {
     "data": {
      "text/plain": [
       "{'enet__alpha': 0.015848931924611134, 'enet__l1_ratio': 0.406}"
      ]
     },
     "execution_count": 16,
     "metadata": {},
     "output_type": "execute_result"
    }
   ],
   "source": [
    "regstd.best_params_"
   ]
  },
  {
   "cell_type": "code",
   "execution_count": 17,
   "metadata": {},
   "outputs": [
    {
     "data": {
      "text/plain": [
       "-117.00351645546363"
      ]
     },
     "execution_count": 17,
     "metadata": {},
     "output_type": "execute_result"
    }
   ],
   "source": [
    "regstd.score(X_train[['thickness', 'minimum_rectangle_area', 'bend_count']], y_train)"
   ]
  },
  {
   "cell_type": "code",
   "execution_count": 18,
   "metadata": {},
   "outputs": [
    {
     "data": {
      "text/plain": [
       "-108.13464651306795"
      ]
     },
     "execution_count": 18,
     "metadata": {},
     "output_type": "execute_result"
    }
   ],
   "source": [
    "regstd.score(X_test[['thickness', 'minimum_rectangle_area', 'bend_count']], y_test)"
   ]
  },
  {
   "cell_type": "code",
   "execution_count": 19,
   "metadata": {},
   "outputs": [
    {
     "data": {
      "text/plain": [
       "108.13464651306795"
      ]
     },
     "execution_count": 19,
     "metadata": {},
     "output_type": "execute_result"
    }
   ],
   "source": [
    "mean_squared_error(y_test, regstd.predict(X_test[['thickness', 'minimum_rectangle_area', 'bend_count']]))"
   ]
  },
  {
   "cell_type": "code",
   "execution_count": 20,
   "metadata": {},
   "outputs": [
    {
     "data": {
      "text/plain": [
       "array([ 3.43330921, 12.01513955,  1.53832735])"
      ]
     },
     "execution_count": 20,
     "metadata": {},
     "output_type": "execute_result"
    }
   ],
   "source": [
    "regstd.best_estimator_.named_steps['enet'].coef_"
   ]
  },
  {
   "cell_type": "markdown",
   "metadata": {},
   "source": [
    "# No standardisation"
   ]
  },
  {
   "cell_type": "code",
   "execution_count": 21,
   "metadata": {},
   "outputs": [],
   "source": [
    "parameters = {'alpha':np.logspace(-3,3,11),\n",
    "              'l1_ratio':np.linspace(0.01,1,11)\n",
    "             }\n",
    "regnostd = GridSearchCV(enet, parameters, cv=5, n_jobs=-2, scoring='neg_mean_squared_error')"
   ]
  },
  {
   "cell_type": "code",
   "execution_count": 22,
   "metadata": {},
   "outputs": [
    {
     "data": {
      "text/plain": [
       "GridSearchCV(cv=5, error_score='raise',\n",
       "       estimator=ElasticNet(alpha=0, copy_X=True, fit_intercept=True, l1_ratio=1,\n",
       "      max_iter=1000, normalize=False, positive=False, precompute=False,\n",
       "      random_state=0, selection='cyclic', tol=0.0001, warm_start=False),\n",
       "       fit_params=None, iid=True, n_jobs=-2,\n",
       "       param_grid={'alpha': array([1.00000e-03, 3.98107e-03, 1.58489e-02, 6.30957e-02, 2.51189e-01,\n",
       "       1.00000e+00, 3.98107e+00, 1.58489e+01, 6.30957e+01, 2.51189e+02,\n",
       "       1.00000e+03]), 'l1_ratio': array([0.01 , 0.109, 0.208, 0.307, 0.406, 0.505, 0.604, 0.703, 0.802,\n",
       "       0.901, 1.   ])},\n",
       "       pre_dispatch='2*n_jobs', refit=True, return_train_score='warn',\n",
       "       scoring='neg_mean_squared_error', verbose=0)"
      ]
     },
     "execution_count": 22,
     "metadata": {},
     "output_type": "execute_result"
    }
   ],
   "source": [
    "regnostd.fit(X_train[['thickness', 'minimum_rectangle_area', 'bend_count']], y_train)"
   ]
  },
  {
   "cell_type": "code",
   "execution_count": 23,
   "metadata": {},
   "outputs": [
    {
     "data": {
      "text/plain": [
       "{'alpha': 0.25118864315095796, 'l1_ratio': 0.01}"
      ]
     },
     "execution_count": 23,
     "metadata": {},
     "output_type": "execute_result"
    }
   ],
   "source": [
    "regnostd.best_params_"
   ]
  },
  {
   "cell_type": "code",
   "execution_count": 24,
   "metadata": {},
   "outputs": [
    {
     "data": {
      "text/plain": [
       "-117.02506004650013"
      ]
     },
     "execution_count": 24,
     "metadata": {},
     "output_type": "execute_result"
    }
   ],
   "source": [
    "regnostd.score(X_train[['thickness', 'minimum_rectangle_area', 'bend_count']], y_train)"
   ]
  },
  {
   "cell_type": "code",
   "execution_count": 25,
   "metadata": {},
   "outputs": [
    {
     "data": {
      "text/plain": [
       "-107.90976952047129"
      ]
     },
     "execution_count": 25,
     "metadata": {},
     "output_type": "execute_result"
    }
   ],
   "source": [
    "regnostd.score(X_test[['thickness', 'minimum_rectangle_area', 'bend_count']], y_test)"
   ]
  },
  {
   "cell_type": "code",
   "execution_count": 26,
   "metadata": {},
   "outputs": [
    {
     "data": {
      "text/plain": [
       "107.90976952047129"
      ]
     },
     "execution_count": 26,
     "metadata": {},
     "output_type": "execute_result"
    }
   ],
   "source": [
    "mean_squared_error(y_test, regnostd.predict(X_test[['thickness', 'minimum_rectangle_area', 'bend_count']]))"
   ]
  },
  {
   "cell_type": "code",
   "execution_count": 27,
   "metadata": {},
   "outputs": [
    {
     "data": {
      "text/plain": [
       "dict_keys(['cv', 'error_score', 'estimator__alpha', 'estimator__copy_X', 'estimator__fit_intercept', 'estimator__l1_ratio', 'estimator__max_iter', 'estimator__normalize', 'estimator__positive', 'estimator__precompute', 'estimator__random_state', 'estimator__selection', 'estimator__tol', 'estimator__warm_start', 'estimator', 'fit_params', 'iid', 'n_jobs', 'param_grid', 'pre_dispatch', 'refit', 'return_train_score', 'scoring', 'verbose'])"
      ]
     },
     "execution_count": 27,
     "metadata": {},
     "output_type": "execute_result"
    }
   ],
   "source": [
    "regnostd.get_params().keys()"
   ]
  },
  {
   "cell_type": "code",
   "execution_count": 28,
   "metadata": {},
   "outputs": [
    {
     "data": {
      "text/plain": [
       "array([1.02595085e+00, 4.67925820e-05, 8.51073568e-01])"
      ]
     },
     "execution_count": 28,
     "metadata": {},
     "output_type": "execute_result"
    }
   ],
   "source": [
    "regnostd.best_estimator_.coef_"
   ]
  },
  {
   "cell_type": "code",
   "execution_count": 29,
   "metadata": {},
   "outputs": [
    {
     "data": {
      "text/plain": [
       "(1, 3)"
      ]
     },
     "execution_count": 29,
     "metadata": {},
     "output_type": "execute_result"
    }
   ],
   "source": [
    "X_test[['thickness', 'minimum_rectangle_area', 'bend_count']][:1].shape"
   ]
  },
  {
   "cell_type": "markdown",
   "metadata": {},
   "source": [
    "# Per thickness"
   ]
  },
  {
   "cell_type": "code",
   "execution_count": 30,
   "metadata": {},
   "outputs": [],
   "source": [
    "from sklearn.base import BaseEstimator, TransformerMixin\n",
    "from sklearn.utils import check_X_y"
   ]
  },
  {
   "cell_type": "code",
   "execution_count": 31,
   "metadata": {},
   "outputs": [],
   "source": [
    "class Regthick(BaseEstimator, TransformerMixin):\n",
    "    def __init__(self):\n",
    "        self.thickness = []\n",
    "    \n",
    "    def fit(self, X, y):\n",
    "        #X, y = check_X_y(X, y)\n",
    "        self.thickness = X['thickness'].unique()\n",
    "        parameters = {'alpha':np.logspace(-3,3,5),\n",
    "                      'l1_ratio':np.linspace(0.01,1,5)\n",
    "                        }\n",
    "        for thickness in self.thickness:\n",
    "            setattr(self, 'reg{:02d}'.format(int(thickness)),\n",
    "                    GridSearchCV(ElasticNet(alpha=0, l1_ratio=1, random_state=0, normalize=True),\n",
    "                                 parameters, cv=3, n_jobs=-2, scoring='neg_mean_squared_error'))\n",
    "            \n",
    "            mask = X['thickness']==thickness\n",
    "            #print(X.columns.values)\n",
    "            df = X[mask]\n",
    "            labels = y[mask]\n",
    "            getattr(self, 'reg{:02d}'.format(int(thickness))).fit(df, labels)\n",
    "    \n",
    "    def predict(self, X, y=None):\n",
    "        thickness = X[0]\n",
    "        df = np.array(X).reshape(1, -1)\n",
    "        return getattr(self, 'reg{:02d}'.format(int(thickness))).predict(df)\n",
    "    \n"
   ]
  },
  {
   "cell_type": "code",
   "execution_count": 32,
   "metadata": {},
   "outputs": [],
   "source": [
    "regthick = Regthick()\n",
    "regthick.fit(X_train[['thickness', 'minimum_rectangle_area', 'bend_count']], y_train)"
   ]
  },
  {
   "cell_type": "code",
   "execution_count": 33,
   "metadata": {},
   "outputs": [],
   "source": [
    "asmset = [[th, rect, bend] for th, rect, bend in zip(X_test.thickness.tolist(),\n",
    "                                            X_test.minimum_rectangle_area.tolist(),\n",
    "                                           X_test.bend_count.tolist(),)]"
   ]
  },
  {
   "cell_type": "code",
   "execution_count": 35,
   "metadata": {},
   "outputs": [],
   "source": [
    "prediction_s2 = [regthick.predict(x)[0] for x in asmset]"
   ]
  },
  {
   "cell_type": "markdown",
   "metadata": {},
   "source": [
    "# Solution comparison"
   ]
  },
  {
   "cell_type": "code",
   "execution_count": 36,
   "metadata": {},
   "outputs": [],
   "source": [
    "prediction_s2 = [regthick.predict(x)[0] for x in asmset]\n",
    "prediction_s1 = regstd.predict(X_test[['thickness', 'minimum_rectangle_area', 'bend_count']])"
   ]
  },
  {
   "cell_type": "code",
   "execution_count": 37,
   "metadata": {},
   "outputs": [
    {
     "data": {
      "text/html": [
       "<div>\n",
       "<style scoped>\n",
       "    .dataframe tbody tr th:only-of-type {\n",
       "        vertical-align: middle;\n",
       "    }\n",
       "\n",
       "    .dataframe tbody tr th {\n",
       "        vertical-align: top;\n",
       "    }\n",
       "\n",
       "    .dataframe thead th {\n",
       "        text-align: right;\n",
       "    }\n",
       "</style>\n",
       "<table border=\"1\" class=\"dataframe\">\n",
       "  <thead>\n",
       "    <tr style=\"text-align: right;\">\n",
       "      <th></th>\n",
       "      <th>True</th>\n",
       "      <th>pred_S1</th>\n",
       "      <th>pred_S2</th>\n",
       "    </tr>\n",
       "    <tr>\n",
       "      <th>COART</th>\n",
       "      <th></th>\n",
       "      <th></th>\n",
       "      <th></th>\n",
       "    </tr>\n",
       "  </thead>\n",
       "  <tbody>\n",
       "    <tr>\n",
       "      <th>L7002771</th>\n",
       "      <td>10.48</td>\n",
       "      <td>2.346822</td>\n",
       "      <td>1.405770</td>\n",
       "    </tr>\n",
       "    <tr>\n",
       "      <th>L8837060</th>\n",
       "      <td>2.06</td>\n",
       "      <td>2.852193</td>\n",
       "      <td>4.340824</td>\n",
       "    </tr>\n",
       "    <tr>\n",
       "      <th>L8830800</th>\n",
       "      <td>12.57</td>\n",
       "      <td>11.017595</td>\n",
       "      <td>12.624101</td>\n",
       "    </tr>\n",
       "    <tr>\n",
       "      <th>L3132300</th>\n",
       "      <td>5.11</td>\n",
       "      <td>7.668587</td>\n",
       "      <td>9.928849</td>\n",
       "    </tr>\n",
       "    <tr>\n",
       "      <th>L1608750</th>\n",
       "      <td>0.95</td>\n",
       "      <td>-0.495343</td>\n",
       "      <td>2.683196</td>\n",
       "    </tr>\n",
       "  </tbody>\n",
       "</table>\n",
       "</div>"
      ],
      "text/plain": [
       "           True    pred_S1    pred_S2\n",
       "COART                                \n",
       "L7002771  10.48   2.346822   1.405770\n",
       "L8837060   2.06   2.852193   4.340824\n",
       "L8830800  12.57  11.017595  12.624101\n",
       "L3132300   5.11   7.668587   9.928849\n",
       "L1608750   0.95  -0.495343   2.683196"
      ]
     },
     "execution_count": 37,
     "metadata": {},
     "output_type": "execute_result"
    }
   ],
   "source": [
    "resultset = pd.DataFrame({'True': y_test,\n",
    "                          'pred_S1':prediction_s1,\n",
    "                          'pred_S2':prediction_s2}, index=y_test.index)\n",
    "resultset.head()"
   ]
  },
  {
   "cell_type": "code",
   "execution_count": 40,
   "metadata": {},
   "outputs": [
    {
     "data": {
      "text/plain": [
       "108.13464651306795"
      ]
     },
     "execution_count": 40,
     "metadata": {},
     "output_type": "execute_result"
    }
   ],
   "source": [
    "mean_squared_error(resultset['True'], resultset['pred_S1'])"
   ]
  },
  {
   "cell_type": "code",
   "execution_count": 41,
   "metadata": {},
   "outputs": [
    {
     "data": {
      "text/plain": [
       "82.45336497969821"
      ]
     },
     "execution_count": 41,
     "metadata": {},
     "output_type": "execute_result"
    }
   ],
   "source": [
    "mean_squared_error(resultset['True'], resultset['pred_S2'])"
   ]
  },
  {
   "cell_type": "code",
   "execution_count": 42,
   "metadata": {},
   "outputs": [
    {
     "data": {
      "text/html": [
       "<div>\n",
       "<style scoped>\n",
       "    .dataframe tbody tr th:only-of-type {\n",
       "        vertical-align: middle;\n",
       "    }\n",
       "\n",
       "    .dataframe tbody tr th {\n",
       "        vertical-align: top;\n",
       "    }\n",
       "\n",
       "    .dataframe thead th {\n",
       "        text-align: right;\n",
       "    }\n",
       "</style>\n",
       "<table border=\"1\" class=\"dataframe\">\n",
       "  <thead>\n",
       "    <tr style=\"text-align: right;\">\n",
       "      <th></th>\n",
       "      <th>True</th>\n",
       "      <th>pred_S1</th>\n",
       "      <th>pred_S2</th>\n",
       "      <th>RMSE_s1</th>\n",
       "      <th>RMSE_s2</th>\n",
       "    </tr>\n",
       "    <tr>\n",
       "      <th>COART</th>\n",
       "      <th></th>\n",
       "      <th></th>\n",
       "      <th></th>\n",
       "      <th></th>\n",
       "      <th></th>\n",
       "    </tr>\n",
       "  </thead>\n",
       "  <tbody>\n",
       "    <tr>\n",
       "      <th>L7002771</th>\n",
       "      <td>10.48</td>\n",
       "      <td>2.346822</td>\n",
       "      <td>1.405770</td>\n",
       "      <td>66.148578</td>\n",
       "      <td>82.341641</td>\n",
       "    </tr>\n",
       "    <tr>\n",
       "      <th>L8837060</th>\n",
       "      <td>2.06</td>\n",
       "      <td>2.852193</td>\n",
       "      <td>4.340824</td>\n",
       "      <td>0.627569</td>\n",
       "      <td>5.202157</td>\n",
       "    </tr>\n",
       "    <tr>\n",
       "      <th>L8830800</th>\n",
       "      <td>12.57</td>\n",
       "      <td>11.017595</td>\n",
       "      <td>12.624101</td>\n",
       "      <td>2.409963</td>\n",
       "      <td>0.002927</td>\n",
       "    </tr>\n",
       "    <tr>\n",
       "      <th>L3132300</th>\n",
       "      <td>5.11</td>\n",
       "      <td>7.668587</td>\n",
       "      <td>9.928849</td>\n",
       "      <td>6.546367</td>\n",
       "      <td>23.221303</td>\n",
       "    </tr>\n",
       "    <tr>\n",
       "      <th>L1608750</th>\n",
       "      <td>0.95</td>\n",
       "      <td>-0.495343</td>\n",
       "      <td>2.683196</td>\n",
       "      <td>2.089017</td>\n",
       "      <td>3.003967</td>\n",
       "    </tr>\n",
       "  </tbody>\n",
       "</table>\n",
       "</div>"
      ],
      "text/plain": [
       "           True    pred_S1    pred_S2    RMSE_s1    RMSE_s2\n",
       "COART                                                      \n",
       "L7002771  10.48   2.346822   1.405770  66.148578  82.341641\n",
       "L8837060   2.06   2.852193   4.340824   0.627569   5.202157\n",
       "L8830800  12.57  11.017595  12.624101   2.409963   0.002927\n",
       "L3132300   5.11   7.668587   9.928849   6.546367  23.221303\n",
       "L1608750   0.95  -0.495343   2.683196   2.089017   3.003967"
      ]
     },
     "execution_count": 42,
     "metadata": {},
     "output_type": "execute_result"
    }
   ],
   "source": [
    "resultset['RMSE_s1'] = (resultset['True']-resultset['pred_S1'])**2\n",
    "resultset['RMSE_s2'] = (resultset['True']-resultset['pred_S2'])**2\n",
    "resultset.head()"
   ]
  },
  {
   "cell_type": "code",
   "execution_count": 43,
   "metadata": {},
   "outputs": [
    {
     "data": {
      "text/html": [
       "<div>\n",
       "<style scoped>\n",
       "    .dataframe tbody tr th:only-of-type {\n",
       "        vertical-align: middle;\n",
       "    }\n",
       "\n",
       "    .dataframe tbody tr th {\n",
       "        vertical-align: top;\n",
       "    }\n",
       "\n",
       "    .dataframe thead th {\n",
       "        text-align: right;\n",
       "    }\n",
       "</style>\n",
       "<table border=\"1\" class=\"dataframe\">\n",
       "  <thead>\n",
       "    <tr style=\"text-align: right;\">\n",
       "      <th></th>\n",
       "      <th>COART</th>\n",
       "      <th>True</th>\n",
       "      <th>pred_S1</th>\n",
       "      <th>pred_S2</th>\n",
       "      <th>RMSE_s1</th>\n",
       "      <th>RMSE_s2</th>\n",
       "      <th>thickness</th>\n",
       "      <th>minimum_rectangle_area</th>\n",
       "      <th>bend_count</th>\n",
       "      <th>bend_group</th>\n",
       "    </tr>\n",
       "  </thead>\n",
       "  <tbody>\n",
       "    <tr>\n",
       "      <th>0</th>\n",
       "      <td>L7002771</td>\n",
       "      <td>10.48</td>\n",
       "      <td>2.346822</td>\n",
       "      <td>1.405770</td>\n",
       "      <td>66.148578</td>\n",
       "      <td>82.341641</td>\n",
       "      <td>6.0</td>\n",
       "      <td>99.751518</td>\n",
       "      <td>0</td>\n",
       "      <td>0</td>\n",
       "    </tr>\n",
       "    <tr>\n",
       "      <th>1</th>\n",
       "      <td>L8837060</td>\n",
       "      <td>2.06</td>\n",
       "      <td>2.852193</td>\n",
       "      <td>4.340824</td>\n",
       "      <td>0.627569</td>\n",
       "      <td>5.202157</td>\n",
       "      <td>4.0</td>\n",
       "      <td>14461.824219</td>\n",
       "      <td>2</td>\n",
       "      <td>1-2</td>\n",
       "    </tr>\n",
       "    <tr>\n",
       "      <th>2</th>\n",
       "      <td>L8830800</td>\n",
       "      <td>12.57</td>\n",
       "      <td>11.017595</td>\n",
       "      <td>12.624101</td>\n",
       "      <td>2.409963</td>\n",
       "      <td>0.002927</td>\n",
       "      <td>6.0</td>\n",
       "      <td>187936.140625</td>\n",
       "      <td>0</td>\n",
       "      <td>0</td>\n",
       "    </tr>\n",
       "    <tr>\n",
       "      <th>3</th>\n",
       "      <td>L3132300</td>\n",
       "      <td>5.11</td>\n",
       "      <td>7.668587</td>\n",
       "      <td>9.928849</td>\n",
       "      <td>6.546367</td>\n",
       "      <td>23.221303</td>\n",
       "      <td>2.0</td>\n",
       "      <td>122214.335938</td>\n",
       "      <td>4</td>\n",
       "      <td>3-4</td>\n",
       "    </tr>\n",
       "    <tr>\n",
       "      <th>4</th>\n",
       "      <td>L1608750</td>\n",
       "      <td>0.95</td>\n",
       "      <td>-0.495343</td>\n",
       "      <td>2.683196</td>\n",
       "      <td>2.089017</td>\n",
       "      <td>3.003967</td>\n",
       "      <td>3.0</td>\n",
       "      <td>7000.000000</td>\n",
       "      <td>0</td>\n",
       "      <td>0</td>\n",
       "    </tr>\n",
       "  </tbody>\n",
       "</table>\n",
       "</div>"
      ],
      "text/plain": [
       "      COART   True    pred_S1    pred_S2    RMSE_s1    RMSE_s2  thickness  \\\n",
       "0  L7002771  10.48   2.346822   1.405770  66.148578  82.341641        6.0   \n",
       "1  L8837060   2.06   2.852193   4.340824   0.627569   5.202157        4.0   \n",
       "2  L8830800  12.57  11.017595  12.624101   2.409963   0.002927        6.0   \n",
       "3  L3132300   5.11   7.668587   9.928849   6.546367  23.221303        2.0   \n",
       "4  L1608750   0.95  -0.495343   2.683196   2.089017   3.003967        3.0   \n",
       "\n",
       "   minimum_rectangle_area  bend_count bend_group  \n",
       "0               99.751518           0          0  \n",
       "1            14461.824219           2        1-2  \n",
       "2           187936.140625           0          0  \n",
       "3           122214.335938           4        3-4  \n",
       "4             7000.000000           0          0  "
      ]
     },
     "execution_count": 43,
     "metadata": {},
     "output_type": "execute_result"
    }
   ],
   "source": [
    "#\n",
    "comparisonset = pd.merge(resultset.reset_index(), X_test.reset_index(), on='COART', how='inner')\n",
    "comparisonset.head()"
   ]
  },
  {
   "cell_type": "code",
   "execution_count": 44,
   "metadata": {},
   "outputs": [
    {
     "data": {
      "image/png": "[encoded data removed]",
      "text/plain": [
       "<Figure size 432x288 with 1 Axes>"
      ]
     },
     "metadata": {},
     "output_type": "display_data"
    }
   ],
   "source": [
    "# Is the error sourced by thickness ?\n",
    "df = comparisonset[['RMSE_s1', 'RMSE_s2', 'thickness']].groupby('thickness').mean()\n",
    "df.plot.bar()\n",
    "plt.show()\n"
   ]
  },
  {
   "cell_type": "code",
   "execution_count": 45,
   "metadata": {},
   "outputs": [
    {
     "data": {
      "image/png": "[encoded data removed]",
      "text/plain": [
       "<Figure size 432x288 with 1 Axes>"
      ]
     },
     "metadata": {},
     "output_type": "display_data"
    }
   ],
   "source": [
    "# Is the error sourced by number of errors ?\n",
    "df = comparisonset[['RMSE_s1', 'RMSE_s2', 'bend_group']].groupby('bend_group').mean()\n",
    "df.plot.bar()\n",
    "plt.show()\n"
   ]
  },
  {
   "cell_type": "code",
   "execution_count": null,
   "metadata": {},
   "outputs": [],
   "source": []
  },
  {
   "cell_type": "code",
   "execution_count": null,
   "metadata": {},
   "outputs": [],
   "source": []
  },
  {
   "cell_type": "code",
   "execution_count": null,
   "metadata": {},
   "outputs": [],
   "source": []
  },
  {
   "cell_type": "code",
   "execution_count": null,
   "metadata": {},
   "outputs": [],
   "source": []
  },
  {
   "cell_type": "code",
   "execution_count": null,
   "metadata": {},
   "outputs": [],
   "source": []
  },
  {
   "cell_type": "code",
   "execution_count": null,
   "metadata": {},
   "outputs": [],
   "source": []
  },
  {
   "cell_type": "code",
   "execution_count": null,
   "metadata": {},
   "outputs": [],
   "source": []
  }
 ],
 "metadata": {
  "kernelspec": {
   "display_name": "Python 3",
   "language": "python",
   "name": "python3"
  },
  "language_info": {
   "codemirror_mode": {
    "name": "ipython",
    "version": 3
   },
   "file_extension": ".py",
   "mimetype": "text/x-python",
   "name": "python",
   "nbconvert_exporter": "python",
   "pygments_lexer": "ipython3",
   "version": "3.6.4"
  }
 },
 "nbformat": 4,
 "nbformat_minor": 2
}
