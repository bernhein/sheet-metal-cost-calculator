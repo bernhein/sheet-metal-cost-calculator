{
 "cells": [
  {
   "cell_type": "markdown",
   "metadata": {},
   "source": [
    "# Package loading"
   ]
  },
  {
   "cell_type": "code",
   "execution_count": 117,
   "metadata": {},
   "outputs": [],
   "source": [
    "import numpy as np\n",
    "import pandas as pd\n",
    "import os\n",
    "import shapely\n",
    "from shapely.geometry.point import Point\n",
    "from shapely.geometry import Polygon\n",
    "import dxfgrabber as dxfgb\n",
    "import matplotlib.pyplot as plt\n",
    "import math"
   ]
  },
  {
   "cell_type": "markdown",
   "metadata": {},
   "source": [
    "# Package documentation"
   ]
  },
  {
   "cell_type": "markdown",
   "metadata": {},
   "source": [
    "http://dxfgrabber.readthedocs.io/en/latest/  \n",
    "https://shapely.readthedocs.io/en/latest/"
   ]
  },
  {
   "cell_type": "markdown",
   "metadata": {},
   "source": [
    "# DXF loading"
   ]
  },
  {
   "cell_type": "code",
   "execution_count": 596,
   "metadata": {},
   "outputs": [
    {
     "data": {
      "text/plain": [
       "['/Users/cricket/Documents/ONline classes/A8 - veille thematique/sheet-metal-cost-calculator/Sample/DXF/K8035200_1 - copie.dxf',\n",
       " '/Users/cricket/Documents/ONline classes/A8 - veille thematique/sheet-metal-cost-calculator/Sample/DXF/K8035200_1 2 - copie.dxf',\n",
       " '/Users/cricket/Documents/ONline classes/A8 - veille thematique/sheet-metal-cost-calculator/Sample/DXF/K8035200_1 2.dxf',\n",
       " '/Users/cricket/Documents/ONline classes/A8 - veille thematique/sheet-metal-cost-calculator/Sample/DXF/K8035200_1.dxf',\n",
       " '/Users/cricket/Documents/ONline classes/A8 - veille thematique/sheet-metal-cost-calculator/Sample/DXF/k8035210_2 - copie.dxf',\n",
       " '/Users/cricket/Documents/ONline classes/A8 - veille thematique/sheet-metal-cost-calculator/Sample/DXF/k8035210_2 2 - copie.dxf',\n",
       " '/Users/cricket/Documents/ONline classes/A8 - veille thematique/sheet-metal-cost-calculator/Sample/DXF/k8035210_2 2.dxf',\n",
       " '/Users/cricket/Documents/ONline classes/A8 - veille thematique/sheet-metal-cost-calculator/Sample/DXF/k8035210_2.dxf']"
      ]
     },
     "execution_count": 596,
     "metadata": {},
     "output_type": "execute_result"
    }
   ],
   "source": [
    "#List of all the dixs in the folder\n",
    "dxffolder = os.path.join('/', *os.getcwd().split('/')[:-1], 'Sample', 'DXF')\n",
    "dxflist = [os.path.join(dxffolder, file) for file in os.listdir(dxffolder) if file.endswith('.dxf')]\n",
    "dxflist"
   ]
  },
  {
   "cell_type": "code",
   "execution_count": 223,
   "metadata": {},
   "outputs": [
    {
     "name": "stdout",
     "output_type": "stream",
     "text": [
      "DXF version: AC1015\n"
     ]
    }
   ],
   "source": [
    "dxf = dxfgb.readfile(dxflist[2])\n",
    "print(\"DXF version: {}\".format(dxf.dxfversion))\n"
   ]
  },
  {
   "cell_type": "code",
   "execution_count": 4,
   "metadata": {},
   "outputs": [
    {
     "data": {
      "text/plain": [
       "36"
      ]
     },
     "execution_count": 4,
     "metadata": {},
     "output_type": "execute_result"
    }
   ],
   "source": [
    "header_var_count = len(dxf.header) # dict of dxf header vars\n",
    "header_var_count"
   ]
  },
  {
   "cell_type": "code",
   "execution_count": 5,
   "metadata": {},
   "outputs": [
    {
     "data": {
      "text/plain": [
       "14"
      ]
     },
     "execution_count": 5,
     "metadata": {},
     "output_type": "execute_result"
    }
   ],
   "source": [
    "layer_count = len(dxf.layers) # collection of layer definitions\n",
    "layer_count"
   ]
  },
  {
   "cell_type": "code",
   "execution_count": 6,
   "metadata": {},
   "outputs": [
    {
     "data": {
      "text/plain": [
       "2"
      ]
     },
     "execution_count": 6,
     "metadata": {},
     "output_type": "execute_result"
    }
   ],
   "source": [
    "block_definition_count = len(dxf.blocks) #  dict like collection of block definitions\n",
    "block_definition_count"
   ]
  },
  {
   "cell_type": "code",
   "execution_count": 7,
   "metadata": {},
   "outputs": [
    {
     "data": {
      "text/plain": [
       "51"
      ]
     },
     "execution_count": 7,
     "metadata": {},
     "output_type": "execute_result"
    }
   ],
   "source": [
    "entity_count = len(dxf.entities) # list like collection of entities\n",
    "entity_count"
   ]
  },
  {
   "cell_type": "code",
   "execution_count": 224,
   "metadata": {},
   "outputs": [
    {
     "name": "stdout",
     "output_type": "stream",
     "text": [
      "MTEXT [20B]\n",
      "5\n",
      "LINE [20C]\n",
      "3\n",
      "LINE [20D]\n",
      "3\n",
      "LINE [20E]\n",
      "3\n",
      "LINE [20F]\n",
      "3\n",
      "LINE [210]\n",
      "3\n",
      "LINE [211]\n",
      "3\n",
      "LINE [212]\n",
      "3\n",
      "LINE [213]\n",
      "3\n",
      "ARC [214]\n",
      "3\n",
      "ARC [215]\n",
      "3\n",
      "ARC [216]\n",
      "3\n",
      "ARC [217]\n",
      "3\n",
      "ARC [218]\n",
      "3\n",
      "ARC [219]\n",
      "3\n",
      "ARC [21A]\n",
      "3\n"
     ]
    }
   ],
   "source": [
    "for x in [element for element in dxf.modelspace()]: # if element.dxftype == 'LINE'\n",
    "    #print(np.round(x.start,3))\n",
    "    print(x)\n",
    "    print(x.color)"
   ]
  },
  {
   "cell_type": "markdown",
   "metadata": {},
   "source": [
    "# DXF reading module"
   ]
  },
  {
   "cell_type": "code",
   "execution_count": 598,
   "metadata": {},
   "outputs": [],
   "source": [
    "class DxfParser():\n",
    "    def __init__(self, edge_color=[3,],\n",
    "                 bend_color=0,\n",
    "                 text_color=1,\n",
    "                 etching_color=2,\n",
    "                 min_edge_length=1,\n",
    "                 roundigexp=4):\n",
    "        \"\"\"Class parameters definition\"\"\"\n",
    "        \n",
    "        self.bend_color = bend_color\n",
    "        self.text_color = text_color\n",
    "        self.min_edge_length = min_edge_length\n",
    "        self.etching_color = etching_color\n",
    "        self.edge_color = edge_color\n",
    "        self.roundigexp = roundigexp\n",
    "        self.details = {}\n",
    "    \n",
    "    def load_dxf(self, dxfpath):\n",
    "        \"\"\"Loads the DXF file\"\"\"\n",
    "        self.dxf = dxfgb.readfile(dxfpath)\n",
    "    \n",
    "    def bend_details(self):\n",
    "        \"\"\"Populates information such as nuber of bends, direction\"\"\"\n",
    "        pass\n",
    "    \n",
    "    def _pattern_details(self, color):\n",
    "        \"\"\"Constructs the pattern with shapely\"\"\"\n",
    "        patterns = []\n",
    "        closedpatterns = []\n",
    "        openpatterns = [] #Used to track all the segment in the DXF\n",
    "        toparse = [element for element in self.dxf.modelspace() if element.color in color]\n",
    "        validentities = ['LINE', 'ARC', 'ELLIPSE', 'CIRCLE', 'SPLINE']\n",
    "        for element in [x for x in toparse if x.dxftype in validentities]:\n",
    "            #print(element)\n",
    "            if element.dxftype == 'LINE':\n",
    "                coordsectlist = np.round(np.array((element.start, element.end)), decimals=self.roundigexp)\n",
    "            elif element.dxftype == 'MTEXT':\n",
    "                print(element.raw_text)\n",
    "            elif element.dxftype == 'ARC':\n",
    "                segment = self._arccoord(element.center, element.radius, element.start_angle, element.end_angle)\n",
    "                coordsectlist = np.round(segment, decimals=self.roundigexp)\n",
    "            elif element.dxftype == 'ELLIPSE':\n",
    "                segment = self._ellipsecoord(element.center, element.major_axis, element.ratio, element.start_param, element.end_param)\n",
    "                coordsectlist = np.round(segment, decimals=self.roundigexp)\n",
    "                #print(element.center, element.major_axis, element.ratio, element.start_param, element.end_param)\n",
    "            elif element.dxftype == 'CIRCLE':\n",
    "                center = Point([round(x, self.roundigexp) for x in element.center])\n",
    "                circle = center.buffer(element.radius)\n",
    "                coordsectlist = np.round(circle.exterior.coords, self.roundigexp)\n",
    "            elif element.dxftype == 'SPLINE':\n",
    "                coordsectlist = np.round(element.control_points, self.roundigexp)\n",
    "            \n",
    "            #List of segment construction\n",
    "            if element.dxftype not in ['CIRCLE', ]:\n",
    "                patterns.append(coordsectlist)\n",
    "            else:\n",
    "                closedpatterns.append(coordsectlist)\n",
    "        \n",
    "        #Construcion of the different patterns\n",
    "        currentsegment = np.array(patterns[0])\n",
    "        del patterns[0]\n",
    "        looping = True\n",
    "        \n",
    "        while looping:\n",
    "            initloop=False\n",
    "            \n",
    "            for index, segment in enumerate(patterns):\n",
    "                modifiedloop = False\n",
    "                \n",
    "                start = tuple(np.array(segment[0]).tolist())\n",
    "                end = tuple(np.array(segment[-1]).tolist())\n",
    "                startsegment = tuple(np.round(currentsegment[0], self.roundigexp).tolist())\n",
    "                endsegment = tuple(np.round(currentsegment[-1], self.roundigexp).tolist())\n",
    "                \n",
    "                #print(currentsegment.shape)\n",
    "                \n",
    "                #Attachment 1?\n",
    "                if endsegment == start:\n",
    "                    currentsegment = np.concatenate((currentsegment, segment[::]))\n",
    "                    del patterns[index]\n",
    "                    modifiedloop = True\n",
    "                    break\n",
    "                #Attachment 2?\n",
    "                elif endsegment == end:\n",
    "                    currentsegment = np.concatenate((currentsegment, segment[::-1]))\n",
    "                    del patterns[index]\n",
    "                    modifiedloop = True\n",
    "                    break\n",
    "                #Attachment 3?\n",
    "                elif startsegment == start:\n",
    "                    currentsegment = np.concatenate((segment[::-1], currentsegment))\n",
    "                    del patterns[index]\n",
    "                    modifiedloop = True\n",
    "                    break\n",
    "                #Attachment 4?\n",
    "                elif startsegment == end:\n",
    "                    currentsegment = np.concatenate((segment[::], currentsegment))\n",
    "                    del patterns[index]\n",
    "                    modifiedloop = True\n",
    "                    break\n",
    "                    \n",
    "\n",
    "            #Exhausted all the options?\n",
    "            if tuple(currentsegment[0]) == tuple(currentsegment[-1]): #The loop is closed ?\n",
    "                closedpatterns.append(currentsegment)\n",
    "                #print('closed loop')\n",
    "                initloop=True\n",
    "            elif not modifiedloop: # The loop is not closed and we exhausted all the options\n",
    "                openpatterns.append(currentsegment)\n",
    "                initloop=True\n",
    "                print('open loop')\n",
    "                print(startsegment, endsegment)\n",
    "                \n",
    "            if initloop: #We finished a segment and need to initiate a new one\n",
    "                if len(patterns) == 0: #All the segments have been parsed\n",
    "                    looping = False\n",
    "                else: #We start a new segment\n",
    "                    currentsegment = np.array(patterns[0]) \n",
    "                    del patterns[0]\n",
    "                    initloop = False\n",
    "                        \n",
    "\n",
    "        return (closedpatterns, openpatterns)\n",
    "            \n",
    "    \n",
    "    def _surface(self):\n",
    "        \"\"\"Misc Surface calculation\"\"\"\n",
    "        areas = np.array([Polygon(poly).area for poly in self.details['closed_patterns']])\n",
    "        lengths = np.array([Polygon(poly).length for poly in self.details['closed_patterns']])\n",
    "        biggestarea = np.argmax(areas)\n",
    "        \n",
    "        self.details['cut_length'] = lengths.sum()\n",
    "        self.details['total_area'] = 2 * areas[biggestarea] - areas.sum()\n",
    "        mainpattern = Polygon(self.details['closed_patterns'][biggestarea])\n",
    "        self.details['minimum_rectangle_coords'] = mainpattern.minimum_rotated_rectangle.exterior.coords[:]\n",
    "        self.details['minimum_rectangle_area'] = Polygon(self.details['minimum_rectangle_coords']).area\n",
    "        \n",
    "        self.details['num_closed_patterns'] = len(self.details['closed_patterns'])\n",
    "        self.details['num_open_patterns'] = len(self.details['open_patterns'])\n",
    "        \n",
    "        self.details['convex_hull_coords'] = mainpattern.convex_hull.exterior.coords[:]\n",
    "        self.details['convex_hull_area'] = Polygon(self.details['convex_hull_coords']).area\n",
    "\n",
    "    \n",
    "    def _arccoord(self, center, radius, start_angle, end_angle):\n",
    "        \"\"\"Sub-feature to calculate arc coordiantes\"\"\"\n",
    "        xc, yc = center\n",
    "        if start_angle > end_angle:\n",
    "            start_angle -= 360\n",
    "        cord = self.min_edge_length if radius > self.min_edge_length else radius #Make sure that the ration edge length and ratio is correct\n",
    "        angle_eq = 2 * np.arcsin(cord / (2*radius)) #Radians\n",
    "        steps_details = math.floor(np.radians(end_angle - start_angle) / angle_eq)\n",
    "        steps_number = np.array((2, abs(steps_details))).max()\n",
    "        toreturn = np.array([])\n",
    "        for angle in np.linspace(np.radians(start_angle), np.radians(end_angle), steps_number):\n",
    "            xa = xc + radius * np.cos(angle)\n",
    "            ya = yc + radius * np.sin(angle)\n",
    "            toreturn = np.concatenate((toreturn, np.array((xa,ya))))\n",
    "        #print(center, radius, start_angle, end_angle, steps_number)\n",
    "        return toreturn.reshape(-1,2)\n",
    "    \n",
    "    def _ellipsecoord(self, center, major_axis, ratio, start_angle, end_angle):\n",
    "        \"\"\"Sub-feature to calculate ellipse coordiantes\"\"\"\n",
    "        xc, yc, _ = center\n",
    "        xe, ye, _ = major_axis\n",
    "        rmax = np.sqrt(xe**2 + ye**2)\n",
    "        rmin = rmax * ratio\n",
    "        radius = (rmin+rmax)/2\n",
    "\n",
    "        if xe == 0 and ye > 0:\n",
    "            angle_ellipse = np.pi/2\n",
    "        elif xe == 0 and ye < 0:\n",
    "            angle_ellipse = -np.pi/2\n",
    "        elif ye == 0 and xe > 0:\n",
    "            angle_ellipse = 0\n",
    "        elif ye == 0 and xe < 0:\n",
    "            angle_ellipse = np.pi\n",
    "        elif xe < 0 and ye < 0:\n",
    "            angle_ellipse = np.arctan(ye / xe) + np.pi\n",
    "        elif xe < 0 and ye > 0:\n",
    "            angle_ellipse = np.pi - np.arctan(ye / xe)\n",
    "        else:\n",
    "            angle_ellipse = np.arctan(ye / xe)\n",
    "\n",
    "\n",
    "        if start_angle > end_angle:\n",
    "            start_angle -= np.pi\n",
    "\n",
    "        cord = radius if radius < self.min_edge_length else self.min_edge_length #Make sure that the ration edge length and ratio is correct\n",
    "        angle_eq = 2 * np.arcsin(cord / (2*radius)) #Radians\n",
    "        steps_number = math.floor((end_angle - start_angle) / angle_eq)\n",
    "        toreturn = np.array([])\n",
    "        for angle in np.linspace(start_angle, end_angle, steps_number):\n",
    "            intx = rmax * np.cos(angle)\n",
    "            inty = rmin * np.sin(angle)\n",
    "            xa = xc + intx * np.cos(angle_ellipse) - inty * np.sin(angle_ellipse)\n",
    "            ya = yc + intx * np.sin(angle_ellipse) + inty * np.cos(angle_ellipse)\n",
    "            toreturn = np.concatenate((toreturn, np.array((xa,ya))))\n",
    "        return toreturn.reshape(-1,2)\n",
    "    \n",
    "    def bend_placement(self):\n",
    "        \"\"\"Populates all the information relative to the bend placement\"\"\"\n",
    "        pass\n",
    "    \n",
    "    def parse(self, dxfpath):\n",
    "        \"\"\"Method to call to parse a DXF file, will return a dict with all the needed information\"\"\"\n",
    "        self.load_dxf(dxfpath)\n",
    "        #Cutting patter\n",
    "        self.details['closed_patterns'], self.details['open_patterns']= self._pattern_details(self.edge_color)\n",
    "\n",
    "        #Hetching pattern\n",
    "        #TO DO\n",
    "        \n",
    "        #surface calculations\n",
    "        self._surface()\n",
    "        \n",
    "        \n",
    "        \n",
    "        return self.details\n",
    "    \n",
    "    def set_params(self, **kwargs):\n",
    "        \"\"\"Used to set all the params\"\"\"\n",
    "        for key, value in kwargs.items():\n",
    "            setattr(self, key, value)\n",
    "    \n",
    "    def get_params(self):\n",
    "        \"\"\"Method to get all the parameters of the DXF parser\"\"\"\n",
    "        return {key:value for key, value in vars(self).items()}"
   ]
  },
  {
   "cell_type": "code",
   "execution_count": 549,
   "metadata": {},
   "outputs": [
    {
     "data": {
      "text/plain": [
       "dict_keys(['closed_patterns', 'open_patterns', 'cut_length', 'total_area', 'minimum_rectangle_coords', 'minimum_rectangle_area', 'num_closed_patterns', 'convex_hull_coords', 'convex_hull_area'])"
      ]
     },
     "execution_count": 549,
     "metadata": {},
     "output_type": "execute_result"
    }
   ],
   "source": [
    "dxfparser = DxfParser(min_edge_length=1)\n",
    "#print(dxflist[0])\n",
    "details = dxfparser.parse(dxflist[1])\n",
    "details.keys()\n",
    "#details['closed_patterns']\n",
    "#details['total_surface']"
   ]
  },
  {
   "cell_type": "code",
   "execution_count": 550,
   "metadata": {},
   "outputs": [
    {
     "data": {
      "image/png": "[encoded data removed]",
      "text/plain": [
       "<matplotlib.figure.Figure at 0x116e57b70>"
      ]
     },
     "metadata": {},
     "output_type": "display_data"
    }
   ],
   "source": [
    "plot_dxf(details)"
   ]
  },
  {
   "cell_type": "code",
   "execution_count": 551,
   "metadata": {},
   "outputs": [
    {
     "data": {
      "text/plain": [
       "1731.1062423803512"
      ]
     },
     "execution_count": 551,
     "metadata": {},
     "output_type": "execute_result"
    }
   ],
   "source": [
    "details['cut_length']"
   ]
  },
  {
   "cell_type": "markdown",
   "metadata": {},
   "source": [
    "# Plot a DXF"
   ]
  },
  {
   "cell_type": "code",
   "execution_count": 595,
   "metadata": {},
   "outputs": [
    {
     "data": {
      "image/png": "[encoded data removed]",
      "text/plain": [
       "<matplotlib.figure.Figure at 0x1161cc0f0>"
      ]
     },
     "metadata": {},
     "output_type": "display_data"
    }
   ],
   "source": [
    "def plot_dxf(dxfdetails):\n",
    "    fig = plt.figure(figsize=(10,10))\n",
    "    ax = fig.add_subplot(111)\n",
    "    for closedsection in dxfdetails['closed_patterns']:\n",
    "        poly = Polygon(closedsection)\n",
    "        x, y = poly.exterior.xy\n",
    "        plt.plot(x, y, color='g', alpha=0.7, solid_capstyle='round')\n",
    "    for opensection in dxfdetails['open_patterns']:\n",
    "        poly = Polygon(closedsection)\n",
    "        x, y = poly.exterior.xy\n",
    "        plt.plot(x, y, color='y', alpha=0.7, solid_capstyle='round')\n",
    "    \n",
    "    poly = Polygon(dxfdetails['minimum_rectangle_coords'])\n",
    "    x, y = poly.exterior.xy\n",
    "    plt.plot(x, y, color='r')\n",
    "    \n",
    "    poly = Polygon(dxfdetails['convex_hull_coords'])\n",
    "    x, y = poly.exterior.xy\n",
    "    plt.plot(x, y, color='b')\n",
    "    \n",
    "    ax.set_aspect('equal')\n",
    "    \n",
    "    plt.show()\n",
    "    \n",
    "plot_dxf(details)"
   ]
  },
  {
   "cell_type": "code",
   "execution_count": null,
   "metadata": {},
   "outputs": [],
   "source": []
  },
  {
   "cell_type": "code",
   "execution_count": 574,
   "metadata": {},
   "outputs": [
    {
     "data": {
      "text/plain": [
       "dict_keys(['closed_patterns', 'open_patterns', 'cut_length', 'total_area', 'minimum_rectangle_coords', 'minimum_rectangle_area', 'num_closed_patterns', 'convex_hull_coords', 'convex_hull_area'])"
      ]
     },
     "execution_count": 574,
     "metadata": {},
     "output_type": "execute_result"
    }
   ],
   "source": [
    "details.keys()"
   ]
  },
  {
   "cell_type": "markdown",
   "metadata": {},
   "source": [
    "# Dataset creation"
   ]
  },
  {
   "cell_type": "code",
   "execution_count": 599,
   "metadata": {},
   "outputs": [
    {
     "name": "stdout",
     "output_type": "stream",
     "text": [
      "K8035200_1 - copie\n",
      "K8035200_1 2 - copie\n",
      "K8035200_1 2\n",
      "K8035200_1\n",
      "k8035210_2 - copie\n",
      "k8035210_2 2 - copie\n",
      "k8035210_2 2\n",
      "k8035210_2\n"
     ]
    },
    {
     "data": {
      "text/html": [
       "<div>\n",
       "<style scoped>\n",
       "    .dataframe tbody tr th:only-of-type {\n",
       "        vertical-align: middle;\n",
       "    }\n",
       "\n",
       "    .dataframe tbody tr th {\n",
       "        vertical-align: top;\n",
       "    }\n",
       "\n",
       "    .dataframe thead th {\n",
       "        text-align: right;\n",
       "    }\n",
       "</style>\n",
       "<table border=\"1\" class=\"dataframe\">\n",
       "  <thead>\n",
       "    <tr style=\"text-align: right;\">\n",
       "      <th></th>\n",
       "      <th>cut_length</th>\n",
       "      <th>num_closed_patterns</th>\n",
       "      <th>total_area</th>\n",
       "      <th>minimum_rectangle_area</th>\n",
       "      <th>convex_hull_area</th>\n",
       "      <th>thickness</th>\n",
       "      <th>num_open_patterns</th>\n",
       "    </tr>\n",
       "  </thead>\n",
       "  <tbody>\n",
       "    <tr>\n",
       "      <th>K8035200_1 - copie</th>\n",
       "      <td>1731.106242</td>\n",
       "      <td>4.0</td>\n",
       "      <td>120315.642226</td>\n",
       "      <td>131257.064858</td>\n",
       "      <td>123075.895594</td>\n",
       "      <td>NaN</td>\n",
       "      <td>0.0</td>\n",
       "    </tr>\n",
       "    <tr>\n",
       "      <th>K8035200_1 2 - copie</th>\n",
       "      <td>1731.106242</td>\n",
       "      <td>4.0</td>\n",
       "      <td>120315.642226</td>\n",
       "      <td>131257.064858</td>\n",
       "      <td>123075.895594</td>\n",
       "      <td>NaN</td>\n",
       "      <td>0.0</td>\n",
       "    </tr>\n",
       "    <tr>\n",
       "      <th>K8035200_1 2</th>\n",
       "      <td>1731.106242</td>\n",
       "      <td>4.0</td>\n",
       "      <td>120315.642226</td>\n",
       "      <td>131257.064858</td>\n",
       "      <td>123075.895594</td>\n",
       "      <td>NaN</td>\n",
       "      <td>0.0</td>\n",
       "    </tr>\n",
       "    <tr>\n",
       "      <th>K8035200_1</th>\n",
       "      <td>1731.106242</td>\n",
       "      <td>4.0</td>\n",
       "      <td>120315.642226</td>\n",
       "      <td>131257.064858</td>\n",
       "      <td>123075.895594</td>\n",
       "      <td>NaN</td>\n",
       "      <td>0.0</td>\n",
       "    </tr>\n",
       "    <tr>\n",
       "      <th>k8035210_2 - copie</th>\n",
       "      <td>2972.871825</td>\n",
       "      <td>19.0</td>\n",
       "      <td>286987.547373</td>\n",
       "      <td>399813.350658</td>\n",
       "      <td>304531.562452</td>\n",
       "      <td>NaN</td>\n",
       "      <td>0.0</td>\n",
       "    </tr>\n",
       "    <tr>\n",
       "      <th>k8035210_2 2 - copie</th>\n",
       "      <td>2972.871825</td>\n",
       "      <td>19.0</td>\n",
       "      <td>286987.547373</td>\n",
       "      <td>399813.350658</td>\n",
       "      <td>304531.562452</td>\n",
       "      <td>NaN</td>\n",
       "      <td>0.0</td>\n",
       "    </tr>\n",
       "    <tr>\n",
       "      <th>k8035210_2 2</th>\n",
       "      <td>2972.871825</td>\n",
       "      <td>19.0</td>\n",
       "      <td>286987.547373</td>\n",
       "      <td>399813.350658</td>\n",
       "      <td>304531.562452</td>\n",
       "      <td>NaN</td>\n",
       "      <td>0.0</td>\n",
       "    </tr>\n",
       "    <tr>\n",
       "      <th>k8035210_2</th>\n",
       "      <td>2972.871825</td>\n",
       "      <td>19.0</td>\n",
       "      <td>286987.547373</td>\n",
       "      <td>399813.350658</td>\n",
       "      <td>304531.562452</td>\n",
       "      <td>NaN</td>\n",
       "      <td>0.0</td>\n",
       "    </tr>\n",
       "  </tbody>\n",
       "</table>\n",
       "</div>"
      ],
      "text/plain": [
       "                       cut_length  num_closed_patterns     total_area  \\\n",
       "K8035200_1 - copie    1731.106242                  4.0  120315.642226   \n",
       "K8035200_1 2 - copie  1731.106242                  4.0  120315.642226   \n",
       "K8035200_1 2          1731.106242                  4.0  120315.642226   \n",
       "K8035200_1            1731.106242                  4.0  120315.642226   \n",
       "k8035210_2 - copie    2972.871825                 19.0  286987.547373   \n",
       "k8035210_2 2 - copie  2972.871825                 19.0  286987.547373   \n",
       "k8035210_2 2          2972.871825                 19.0  286987.547373   \n",
       "k8035210_2            2972.871825                 19.0  286987.547373   \n",
       "\n",
       "                      minimum_rectangle_area  convex_hull_area  thickness  \\\n",
       "K8035200_1 - copie             131257.064858     123075.895594        NaN   \n",
       "K8035200_1 2 - copie           131257.064858     123075.895594        NaN   \n",
       "K8035200_1 2                   131257.064858     123075.895594        NaN   \n",
       "K8035200_1                     131257.064858     123075.895594        NaN   \n",
       "k8035210_2 - copie             399813.350658     304531.562452        NaN   \n",
       "k8035210_2 2 - copie           399813.350658     304531.562452        NaN   \n",
       "k8035210_2 2                   399813.350658     304531.562452        NaN   \n",
       "k8035210_2                     399813.350658     304531.562452        NaN   \n",
       "\n",
       "                      num_open_patterns  \n",
       "K8035200_1 - copie                  0.0  \n",
       "K8035200_1 2 - copie                0.0  \n",
       "K8035200_1 2                        0.0  \n",
       "K8035200_1                          0.0  \n",
       "k8035210_2 - copie                  0.0  \n",
       "k8035210_2 2 - copie                0.0  \n",
       "k8035210_2 2                        0.0  \n",
       "k8035210_2                          0.0  "
      ]
     },
     "execution_count": 599,
     "metadata": {},
     "output_type": "execute_result"
    }
   ],
   "source": [
    "#List of all the dixs in the folder\n",
    "dxffolder = os.path.join('/', *os.getcwd().split('/')[:-1], 'Sample', 'DXF')\n",
    "dxflist = [os.path.join(dxffolder, file) for file in os.listdir(dxffolder) if file.endswith('.dxf')]\n",
    "\n",
    "columns = ['cut_length', 'num_closed_patterns', 'total_area', 'minimum_rectangle_area',\n",
    "           'convex_hull_area', 'thickness', 'num_open_patterns']\n",
    "\n",
    "dataset = pd.DataFrame(columns = columns)\n",
    "dxfparser = DxfParser(min_edge_length=1)\n",
    "for dxffile in dxflist:\n",
    "    name = dxffile.split('/')[-1]\n",
    "    name = name.split('.')[0]\n",
    "    print(name)\n",
    "    details = details = dxfparser.parse(dxffile)\n",
    "    dataset.loc[name] = [details.get(x, np.nan) for x in dataset.columns]\n",
    "dataset"
   ]
  },
  {
   "cell_type": "code",
   "execution_count": null,
   "metadata": {},
   "outputs": [],
   "source": []
  },
  {
   "cell_type": "code",
   "execution_count": null,
   "metadata": {},
   "outputs": [],
   "source": []
  },
  {
   "cell_type": "code",
   "execution_count": null,
   "metadata": {},
   "outputs": [],
   "source": []
  },
  {
   "cell_type": "code",
   "execution_count": null,
   "metadata": {},
   "outputs": [],
   "source": []
  },
  {
   "cell_type": "code",
   "execution_count": null,
   "metadata": {},
   "outputs": [],
   "source": []
  },
  {
   "cell_type": "code",
   "execution_count": null,
   "metadata": {},
   "outputs": [],
   "source": []
  }
 ],
 "metadata": {
  "kernelspec": {
   "display_name": "Python 3",
   "language": "python",
   "name": "python3"
  },
  "language_info": {
   "codemirror_mode": {
    "name": "ipython",
    "version": 3
   },
   "file_extension": ".py",
   "mimetype": "text/x-python",
   "name": "python",
   "nbconvert_exporter": "python",
   "pygments_lexer": "ipython3",
   "version": "3.6.4"
  }
 },
 "nbformat": 4,
 "nbformat_minor": 2
}
