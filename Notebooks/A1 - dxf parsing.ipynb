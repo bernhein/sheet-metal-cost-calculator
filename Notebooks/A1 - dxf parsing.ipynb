{
 "cells": [
  {
   "cell_type": "markdown",
   "metadata": {},
   "source": [
    "# Package loading"
   ]
  },
  {
   "cell_type": "code",
   "execution_count": 1,
   "metadata": {},
   "outputs": [],
   "source": [
    "import numpy as np\n",
    "import pandas as pd\n",
    "import os\n",
    "import shapely\n",
    "import dxfgrabber as dxfgb\n",
    "import matplotlib.pyplot as plt"
   ]
  },
  {
   "cell_type": "markdown",
   "metadata": {},
   "source": [
    "# Package documentation"
   ]
  },
  {
   "cell_type": "markdown",
   "metadata": {},
   "source": [
    "http://dxfgrabber.readthedocs.io/en/latest/  \n",
    "https://shapely.readthedocs.io/en/latest/"
   ]
  },
  {
   "cell_type": "markdown",
   "metadata": {},
   "source": [
    "# DXF laoding"
   ]
  },
  {
   "cell_type": "code",
   "execution_count": 25,
   "metadata": {},
   "outputs": [],
   "source": [
    "#List of all the dixs in the folder\n",
    "dxffolder = os.path.join('/', *os.getcwd().split('/')[:-1], 'Sample', 'DXF')\n",
    "dxflist = [os.path.join(dxffolder, file) for file in os.listdir(dxffolder) if file.endswith('.dxf')]"
   ]
  },
  {
   "cell_type": "code",
   "execution_count": 26,
   "metadata": {},
   "outputs": [
    {
     "name": "stdout",
     "output_type": "stream",
     "text": [
      "DXF version: AC1015\n"
     ]
    }
   ],
   "source": [
    "dxf = dxfgb.readfile(dxflist[0])\n",
    "print(\"DXF version: {}\".format(dxf.dxfversion))\n"
   ]
  },
  {
   "cell_type": "code",
   "execution_count": 27,
   "metadata": {},
   "outputs": [
    {
     "data": {
      "text/plain": [
       "36"
      ]
     },
     "execution_count": 27,
     "metadata": {},
     "output_type": "execute_result"
    }
   ],
   "source": [
    "header_var_count = len(dxf.header) # dict of dxf header vars\n",
    "header_var_count"
   ]
  },
  {
   "cell_type": "code",
   "execution_count": 28,
   "metadata": {},
   "outputs": [
    {
     "data": {
      "text/plain": [
       "14"
      ]
     },
     "execution_count": 28,
     "metadata": {},
     "output_type": "execute_result"
    }
   ],
   "source": [
    "layer_count = len(dxf.layers) # collection of layer definitions\n",
    "layer_count"
   ]
  },
  {
   "cell_type": "code",
   "execution_count": 29,
   "metadata": {},
   "outputs": [
    {
     "data": {
      "text/plain": [
       "2"
      ]
     },
     "execution_count": 29,
     "metadata": {},
     "output_type": "execute_result"
    }
   ],
   "source": [
    "block_definition_count = len(dxf.blocks) #  dict like collection of block definitions\n",
    "block_definition_count"
   ]
  },
  {
   "cell_type": "code",
   "execution_count": 30,
   "metadata": {},
   "outputs": [
    {
     "data": {
      "text/plain": [
       "51"
      ]
     },
     "execution_count": 30,
     "metadata": {},
     "output_type": "execute_result"
    }
   ],
   "source": [
    "entity_count = len(dxf.entities) # list like collection of entities\n",
    "entity_count"
   ]
  },
  {
   "cell_type": "code",
   "execution_count": 50,
   "metadata": {},
   "outputs": [
    {
     "name": "stdout",
     "output_type": "stream",
     "text": [
      "(-70.8400038184, 260.2706522021)\n",
      "(-70.8400038184, 218.2726954516)\n",
      "(-70.8400038184, 215.6598941546)\n",
      "(-70.8400038184, 113.9863894605)\n",
      "(-70.8400038184, 112.4540700242)\n",
      "(-70.8400038184, 90.9709633923)\n",
      "(-70.8400038184, 30.6246053991)\n",
      "(-70.8400038184, 89.4397514193)\n",
      "(-70.8400038184, 89.4397514193)\n",
      "(-70.8400038184, 90.9709633923)\n",
      "(-70.8400038184, 112.4540700242)\n",
      "(-70.8400038184, 113.9863894605)\n",
      "(-70.8400038184, 215.6598941546)\n",
      "(-70.8400038184, 218.2726954516)\n",
      "(435.3355912161, 29.6246053991)\n",
      "(-69.8400038184, 29.6246053991)\n",
      "(388.1599961816, 54.0219971716)\n",
      "(384.1599961816, 54.0219971716)\n",
      "(170.6599961816, 54.0219971716)\n",
      "(166.6599961816, 54.0219971716)\n",
      "(-46.8400038184, 54.0219971716)\n",
      "(-50.8400038184, 54.0219971716)\n",
      "(-50.8400038184, 65.0219971716)\n",
      "(-46.8400038184, 65.0219971716)\n",
      "(166.6599961816, 65.0219971716)\n",
      "(170.6599961816, 65.0219971716)\n",
      "(384.1599961816, 65.0219971716)\n",
      "(388.1599961816, 65.0219971716)\n",
      "(425.2032893607, 112.6492618809)\n",
      "(423.4023165867, 113.0053845694)\n",
      "(369.8398596787, 216.3582597746)\n",
      "(370.9703862969, 217.5169142838)\n",
      "(424.1296137788, 114.832306697)\n",
      "(429.695826906, 111.3230503112)\n",
      "(429.695826906, 111.3230503112)\n",
      "(448.4404477103, 99.3835384383)\n",
      "(373.4867226207, 219.0700590686)\n",
      "(371.4399307373, 215.1930315458)\n",
      "(-62.3823640042, 270.2152295496)\n",
      "(356.1607872892, 270.2152295496)\n",
      "(394.7158201219, 263.5589980702)\n",
      "(373.4867226207, 219.0700590686)\n",
      "(474.2977953862, 112.3079932639)\n",
      "(449.4402016892, 99.3403657399)\n",
      "(371.4996565236, 219.3079159418)\n",
      "(371.1716034285, 220.9393621183)\n",
      "(426.6220045639, 111.5451000104)\n",
      "(429.1123753286, 106.3002238704)\n",
      "(429.1123753286, 106.3002238704)\n",
      "(435.8173402307, 90.9709633923)\n",
      "(357.1213770817, 269.4931994231)\n",
      "(371.1716034285, 220.9393621183)\n",
      "(436.3355912161, 89.4397514193)\n",
      "(435.8173402307, 90.9709633923)\n",
      "(436.3355912161, 89.4397514193)\n",
      "(436.3355912161, 30.6246053991)\n",
      "(396.5049422922, 263.5908613677)\n",
      "(474.7218804297, 113.657123308)\n"
     ]
    }
   ],
   "source": [
    "for x in [element for element in dxf.modelspace() if element.dxftype == 'LINE']:\n",
    "    print(x.start)\n",
    "    print(x.end)"
   ]
  },
  {
   "cell_type": "markdown",
   "metadata": {},
   "source": [
    "# DXF reading module"
   ]
  },
  {
   "cell_type": "code",
   "execution_count": null,
   "metadata": {},
   "outputs": [],
   "source": []
  },
  {
   "cell_type": "code",
   "execution_count": null,
   "metadata": {},
   "outputs": [],
   "source": [
    "class dxfparser():\n",
    "    def __init__(self, bend_color=0, text_color=1, ):\n",
    "        self.bend_color = bend_color\n",
    "        self.text_color = text_color\n",
    "    \n",
    "    def load_dxf(self):\n",
    "        pass\n",
    "    \n",
    "    def count_details(self):\n",
    "        pass\n",
    "    \n",
    "    def surface(self):\n",
    "        pass\n",
    "    #Bound, area, convex_hull and minimum_rotated_rectangle methods\n",
    "    \n",
    "    def bend_placement(self):\n",
    "        pass\n",
    "    \n",
    "    def pattern_count(self):\n",
    "        pass\n",
    "    \n",
    "    def parse(self, dxflist):\n",
    "        pass"
   ]
  },
  {
   "cell_type": "code",
   "execution_count": null,
   "metadata": {},
   "outputs": [],
   "source": []
  },
  {
   "cell_type": "code",
   "execution_count": null,
   "metadata": {},
   "outputs": [],
   "source": []
  },
  {
   "cell_type": "code",
   "execution_count": null,
   "metadata": {},
   "outputs": [],
   "source": []
  },
  {
   "cell_type": "code",
   "execution_count": 13,
   "metadata": {},
   "outputs": [
    {
     "data": {
      "image/png": "[encoded data removed]",
      "text/plain": [
       "<matplotlib.figure.Figure at 0x118f5c9e8>"
      ]
     },
     "metadata": {},
     "output_type": "display_data"
    }
   ],
   "source": [
    "from shapely.geometry import MultiPoint, Polygon, LineString\n",
    "import matplotlib.pyplot as plt\n",
    "from descartes.patch import PolygonPatch\n",
    "\n",
    "#from figures import DARKGRAY, GRAY, BLUE, SIZE, set_limits\n",
    "\n",
    "fig = plt.figure(1)\n",
    "fig.set_frameon(True)\n",
    "\n",
    "# 1\n",
    "ax = fig.add_subplot(121)\n",
    "\n",
    "mp = MultiPoint([(1, 1), (0, 0), (1, 0), (0, 1), (0.5, 20)])\n",
    "rect = mp.minimum_rotated_rectangle\n",
    "\n",
    "for p in mp:\n",
    "    ax.plot(p.x, p.y, 'o')\n",
    "patch = PolygonPatch(rect, alpha=0.5, zorder=2)\n",
    "ax.add_patch(patch)\n",
    "ax.set_title('a) MultiPoint')\n",
    "\n",
    "#set_limits(ax, -1, 2, -1, 2)\n",
    "\n",
    "# 2\n",
    "ax = fig.add_subplot(122)\n",
    "ls = LineString([(-0.5, 1.2), (0.5, 0), (1, 1), (1.5, 0), (1.5, 0.5)])\n",
    "rect = ls.minimum_rotated_rectangle\n",
    "\n",
    "ax.plot(*ls.xy, linewidth=3, alpha=0.5, zorder=2)\n",
    "patch = PolygonPatch(rect,  alpha=0.5, zorder=2)\n",
    "ax.add_patch(patch)\n",
    "\n",
    "#set_limits(ax, -1, 2, -1, 2)\n",
    "\n",
    "ax.set_title('b) LineString')\n",
    "\n",
    "plt.show()\n"
   ]
  },
  {
   "cell_type": "code",
   "execution_count": 20,
   "metadata": {},
   "outputs": [
    {
     "data": {
      "image/svg+xml": [
       "<svg xmlns=\"http://www.w3.org/2000/svg\" xmlns:xlink=\"http://www.w3.org/1999/xlink\" width=\"100.0\" height=\"100.0\" viewBox=\"-0.2 -0.2 1.4 5.4\" preserveAspectRatio=\"xMinYMin meet\"><g transform=\"matrix(1,0,0,-1,0,5.0)\"><path fill-rule=\"evenodd\" fill=\"#66cc99\" stroke=\"#555555\" stroke-width=\"0.10800000000000001\" opacity=\"0.6\" d=\"M 0.0,0.0 L 0.0,1.0 L 0.5,5.0 L 1.0,1.0 L 1.0,0.0 L 0.0,0.0 z\" /></g></svg>"
      ],
      "text/plain": [
       "<shapely.geometry.polygon.Polygon at 0x118def5c0>"
      ]
     },
     "execution_count": 20,
     "metadata": {},
     "output_type": "execute_result"
    }
   ],
   "source": [
    "MultiPoint([(1, 1), (0, 0), (1, 0), (0, 1), (0.5, 5)]).convex_hull"
   ]
  },
  {
   "cell_type": "code",
   "execution_count": 26,
   "metadata": {},
   "outputs": [
    {
     "data": {
      "text/plain": [
       "(0.0, -0.9999999999999998, 1.9999999999999996, 0.9999999999999998)"
      ]
     },
     "execution_count": 26,
     "metadata": {},
     "output_type": "execute_result"
    }
   ],
   "source": [
    "MultiPoint([(0, 0), (1, 1), (1, -1)]).minimum_rotated_rectangle.bounds"
   ]
  },
  {
   "cell_type": "code",
   "execution_count": null,
   "metadata": {},
   "outputs": [],
   "source": []
  }
 ],
 "metadata": {
  "kernelspec": {
   "display_name": "Python 3",
   "language": "python",
   "name": "python3"
  },
  "language_info": {
   "codemirror_mode": {
    "name": "ipython",
    "version": 3
   },
   "file_extension": ".py",
   "mimetype": "text/x-python",
   "name": "python",
   "nbconvert_exporter": "python",
   "pygments_lexer": "ipython3",
   "version": "3.6.4"
  }
 },
 "nbformat": 4,
 "nbformat_minor": 2
}
