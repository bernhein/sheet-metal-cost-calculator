{
 "cells": [
  {
   "cell_type": "markdown",
   "metadata": {},
   "source": [
    "# Package loading"
   ]
  },
  {
   "cell_type": "code",
   "execution_count": 38,
   "metadata": {},
   "outputs": [],
   "source": [
    "import numpy as np\n",
    "import pandas as pd\n",
    "import os\n",
    "import shapely\n",
    "from shapely.geometry.point import Point\n",
    "import dxfgrabber as dxfgb\n",
    "import matplotlib.pyplot as plt"
   ]
  },
  {
   "cell_type": "markdown",
   "metadata": {},
   "source": [
    "# Package documentation"
   ]
  },
  {
   "cell_type": "markdown",
   "metadata": {},
   "source": [
    "http://dxfgrabber.readthedocs.io/en/latest/  \n",
    "https://shapely.readthedocs.io/en/latest/"
   ]
  },
  {
   "cell_type": "markdown",
   "metadata": {},
   "source": [
    "# DXF laoding"
   ]
  },
  {
   "cell_type": "code",
   "execution_count": 667,
   "metadata": {},
   "outputs": [],
   "source": [
    "#List of all the dixs in the folder\n",
    "dxffolder = os.path.join('/', *os.getcwd().split('/')[:-1], 'Sample', 'DXF')\n",
    "dxflist = [os.path.join(dxffolder, file) for file in os.listdir(dxffolder) if file.endswith('.dxf')]\n",
    "#dxflist"
   ]
  },
  {
   "cell_type": "code",
   "execution_count": 3,
   "metadata": {},
   "outputs": [
    {
     "name": "stdout",
     "output_type": "stream",
     "text": [
      "DXF version: AC1015\n"
     ]
    }
   ],
   "source": [
    "dxf = dxfgb.readfile(dxflist[0])\n",
    "print(\"DXF version: {}\".format(dxf.dxfversion))\n"
   ]
  },
  {
   "cell_type": "code",
   "execution_count": 4,
   "metadata": {},
   "outputs": [
    {
     "data": {
      "text/plain": [
       "36"
      ]
     },
     "execution_count": 4,
     "metadata": {},
     "output_type": "execute_result"
    }
   ],
   "source": [
    "header_var_count = len(dxf.header) # dict of dxf header vars\n",
    "header_var_count"
   ]
  },
  {
   "cell_type": "code",
   "execution_count": 5,
   "metadata": {},
   "outputs": [
    {
     "data": {
      "text/plain": [
       "14"
      ]
     },
     "execution_count": 5,
     "metadata": {},
     "output_type": "execute_result"
    }
   ],
   "source": [
    "layer_count = len(dxf.layers) # collection of layer definitions\n",
    "layer_count"
   ]
  },
  {
   "cell_type": "code",
   "execution_count": 6,
   "metadata": {},
   "outputs": [
    {
     "data": {
      "text/plain": [
       "2"
      ]
     },
     "execution_count": 6,
     "metadata": {},
     "output_type": "execute_result"
    }
   ],
   "source": [
    "block_definition_count = len(dxf.blocks) #  dict like collection of block definitions\n",
    "block_definition_count"
   ]
  },
  {
   "cell_type": "code",
   "execution_count": 7,
   "metadata": {},
   "outputs": [
    {
     "data": {
      "text/plain": [
       "51"
      ]
     },
     "execution_count": 7,
     "metadata": {},
     "output_type": "execute_result"
    }
   ],
   "source": [
    "entity_count = len(dxf.entities) # list like collection of entities\n",
    "entity_count"
   ]
  },
  {
   "cell_type": "code",
   "execution_count": 104,
   "metadata": {},
   "outputs": [
    {
     "name": "stdout",
     "output_type": "stream",
     "text": [
      "[ -70.84   260.271]\n",
      "[ -70.84  215.66]\n",
      "[ -70.84   112.454]\n",
      "[-70.84   30.625]\n",
      "[-70.84  89.44]\n",
      "[ -70.84   112.454]\n",
      "[ -70.84  215.66]\n",
      "[ 435.336   29.625]\n",
      "[ 388.16    54.022]\n",
      "[ 170.66    54.022]\n",
      "[-46.84   54.022]\n",
      "[-50.84   65.022]\n",
      "[ 166.66    65.022]\n",
      "[ 384.16    65.022]\n",
      "[ 425.203  112.649]\n",
      "[ 369.84   216.358]\n",
      "[ 424.13   114.832]\n",
      "[ 429.696  111.323]\n",
      "[ 373.487  219.07 ]\n",
      "[ -62.382  270.215]\n",
      "[ 394.716  263.559]\n",
      "[ 474.298  112.308]\n",
      "[ 371.5    219.308]\n",
      "[ 426.622  111.545]\n",
      "[ 429.112  106.3  ]\n",
      "[ 357.121  269.493]\n",
      "[ 436.336   89.44 ]\n",
      "[ 436.336   89.44 ]\n",
      "[ 396.505  263.591]\n"
     ]
    }
   ],
   "source": [
    "for x in [element for element in dxf.modelspace() if element.dxftype == 'LINE']:\n",
    "    print(np.round(x.start,3))\n",
    "    #print(x.end)\n",
    "    #print(x.color)"
   ]
  },
  {
   "cell_type": "markdown",
   "metadata": {},
   "source": [
    "# DXF reading module"
   ]
  },
  {
   "cell_type": "code",
   "execution_count": 662,
   "metadata": {},
   "outputs": [],
   "source": [
    "def arccoord(center, radius, angle):\n",
    "    xc, yc = center\n",
    "    xa = xc + radius * np.cos(angle / 180 * np.pi)\n",
    "    ya = yc + radius * np.sin(angle / 180 * np.pi)\n",
    "    return np.array((xa, ya))\n",
    "\n",
    "class DxfParser():\n",
    "    def __init__(self, edge_color=3,\n",
    "                 bend_color=0,\n",
    "                 text_color=1,\n",
    "                 etching_color=2,\n",
    "                 min_edge_length=.05,\n",
    "                 roundigexp=5):\n",
    "        \"\"\"Class parameters definition\"\"\"\n",
    "        \n",
    "        self.bend_color = bend_color\n",
    "        self.text_color = text_color\n",
    "        self.min_edge_length = min_edge_length\n",
    "        self.etching_color = etching_color\n",
    "        self.edge_color = edge_color\n",
    "        self.roundigexp = roundigexp\n",
    "        self.details = {}\n",
    "    \n",
    "    def load_dxf(self, dxfpath):\n",
    "        \"\"\"Loads the DXF file\"\"\"\n",
    "        self.dxf = dxfgb.readfile(dxfpath)\n",
    "    \n",
    "    def bend_details(self):\n",
    "        \"\"\"Populates information such as nuber of bends, direction\"\"\"\n",
    "        pass\n",
    "    \n",
    "    def pattern_details(self, color):\n",
    "        \"\"\"Constructs the pattern with shapely\"\"\"\n",
    "        patterns = []\n",
    "        closedpatterns = []\n",
    "        openpatterns = [] #Used to track all the segment in the DXF\n",
    "        for element in [element for element in self.dxf.modelspace() if element.color == color]:\n",
    "            #print(element)\n",
    "            #start = None\n",
    "            #end = None\n",
    "            #coordsectlist = None\n",
    "            newitemclosed = False\n",
    "            \n",
    "            if element.dxftype == 'LINE':\n",
    "                start = np.round(element.start, decimals=self.roundigexp)\n",
    "                end = np.round(element.end, decimals=self.roundigexp)\n",
    "                coordsectlist = np.round(np.array((start, end)), decimals=self.roundigexp)\n",
    "            elif element.dxftype == 'MTEXT':\n",
    "                print(element.raw_text)\n",
    "            elif element.dxftype == 'ARC':\n",
    "                start = np.round(arccoord(element.center, element.radius, element.start_angle), self.roundigexp)\n",
    "                end = np.round(arccoord(element.center, element.radius, element.end_angle), self.roundigexp)\n",
    "                coordsectlist = np.round(np.array((start, end)), decimals=self.roundigexp)\n",
    "                #anglesteps = (element.end_angle - element.start_angle) / (2*np.arcsin(self.min_edge_length))\n",
    "            elif element.dxftype == 'ELLIPSE':\n",
    "                print(element.center, element.major_axis, element.ratio, element.start_param, element.end_param)\n",
    "            elif element.dxftype == 'CIRCLE':\n",
    "                center = Point([round(x, self.roundigexp) for x in element.center])\n",
    "                circle = center.buffer(element.radius)\n",
    "                coordsectlist = np.round(circle.exterior.coords, self.roundigexp)\n",
    "                closedpatterns.append(coordsectlist)\n",
    "            elif element.dxftype == 'SPLINE':\n",
    "                #start = tuple(np.array([round(x, self.roundigexp) for x in element.control_points[0]]).tolist())\n",
    "                #end = tuple(np.array([round(x, self.roundigexp) for x in element.control_points[-1]]).tolist())\n",
    "                coordsectlist = np.round(element.control_points, self.roundigexp)\n",
    "            \n",
    "            patterns.append(coordsectlist)\n",
    "        \n",
    "        \n",
    "        #Construcion of the different patterns\n",
    "        currentsegment = np.array(patterns[0])\n",
    "        del patterns[0]\n",
    "        while len(patterns) != 0:\n",
    "            modifiedloop = False\n",
    "            for index, segment in enumerate(patterns):\n",
    "                start = tuple(np.array(segment[0]).tolist())\n",
    "                end = tuple(np.array(segment[-1]).tolist())\n",
    "                endsegment = tuple(np.round(currentsegment[-1], self.roundigexp).tolist())\n",
    "                #print(endsegment)\n",
    "                #print(start)\n",
    "                \n",
    "                if endsegment == start:\n",
    "                    currentsegment = np.concatenate((currentsegment, segment[::]))\n",
    "                    del patterns[index]\n",
    "                    modifiedloop = True\n",
    "                    break\n",
    "                elif endsegment == end:\n",
    "                    currentsegment = np.concatenate((currentsegment, segment[::-1]))\n",
    "                    del patterns[index]\n",
    "                    modifiedloop = True\n",
    "                    break\n",
    "\n",
    "                if tuple(currentsegment[0]) == tuple(currentsegment[-1]): #The loop is closed\n",
    "                    #print('Je ferme la boucle')\n",
    "                    closedpatterns.append(currentsegment)\n",
    "                    currentsegment = np.array(patterns[0])\n",
    "                    del patterns[0]\n",
    "                    modifiedloop = True\n",
    "                    break\n",
    "                    \n",
    "            if not modifiedloop:\n",
    "                openpatterns.append(currentsegment)\n",
    "                currentsegment = np.array(patterns[0])\n",
    "                del patterns[0]\n",
    "\n",
    "        return (closedpatterns, openpatterns)\n",
    "            \n",
    "    \n",
    "    def surface(self):\n",
    "        \"\"\"Misc Surface calculation\"\"\"\n",
    "        areas = np.array([Polygon(poly).area for poly in self.details['closed_patterns']])\n",
    "        biggestarea = np.argmax(areas)\n",
    "        self.details['total_area'] = 2 * areas[biggestarea] - areas.sum()\n",
    "        mainpattern = Polygon(self.details['closed_patterns'][biggestarea])\n",
    "        self.details['minimum_rectangle_coords'] = mainpattern.minimum_rotated_rectangle.exterior.coords[:]\n",
    "        self.details['minimum_rectangle_area'] = Polygon(self.details['minimum_rectangle_coords']).area\n",
    "        \n",
    "        self.details['convex_hull_coords'] = mainpattern.convex_hull.exterior.coords[:]\n",
    "        self.details['convex_hull_area'] = Polygon(self.details['convex_hull_coords']).area\n",
    "    #Bound, area, convex_hull and minimum_rotated_rectangle methods\n",
    "    \n",
    "    \n",
    "    def bend_placement(self):\n",
    "        \"\"\"Populates all the information relative to the bend placement\"\"\"\n",
    "        pass\n",
    "    \n",
    "    def parse(self, dxfpath):\n",
    "        \"\"\"Method to call to parse a DXF file, will return a dict with all the needed information\"\"\"\n",
    "        self.load_dxf(dxfpath)\n",
    "        #Cutting patter\n",
    "        self.details['closed_patterns'], self.details['open_patterns']= self.pattern_details(self.edge_color)\n",
    "        \n",
    "        #Hetching pattern\n",
    "        #TO DO\n",
    "        \n",
    "        #surface calculations\n",
    "        self.surface()\n",
    "        \n",
    "        \n",
    "        \n",
    "        return self.details\n",
    "    \n",
    "    def set_params(self, **kwargs):\n",
    "        \"\"\"Used to set all the params\"\"\"\n",
    "        for key, value in kwargs.items():\n",
    "            setattr(self, key, value)\n",
    "    \n",
    "    def get_params(self):\n",
    "        \"\"\"Method to get all the parameters of the DXF parser\"\"\"\n",
    "        return {key:value for key, value in vars(self).items()}"
   ]
  },
  {
   "cell_type": "code",
   "execution_count": 663,
   "metadata": {},
   "outputs": [
    {
     "data": {
      "text/plain": [
       "dict_keys(['closed_patterns', 'open_patterns', 'total_area', 'minimum_rectangle_coords', 'minimum_rectangle_area', 'convex_hull_coords', 'convex_hull_area'])"
      ]
     },
     "execution_count": 663,
     "metadata": {},
     "output_type": "execute_result"
    }
   ],
   "source": [
    "dxfparser = DxfParser()\n",
    "#print(dxflist[0])\n",
    "details = dxfparser.parse(dxflist[0])\n",
    "details.keys()\n",
    "#details['total_surface']"
   ]
  },
  {
   "cell_type": "code",
   "execution_count": 666,
   "metadata": {},
   "outputs": [
    {
     "data": {
      "image/png": "[encoded data removed]",
      "text/plain": [
       "<matplotlib.figure.Figure at 0x1191cc908>"
      ]
     },
     "metadata": {},
     "output_type": "display_data"
    }
   ],
   "source": [
    "plot_dxf(details)"
   ]
  },
  {
   "cell_type": "code",
   "execution_count": null,
   "metadata": {},
   "outputs": [],
   "source": []
  },
  {
   "cell_type": "markdown",
   "metadata": {},
   "source": [
    "# Plot a DXF"
   ]
  },
  {
   "cell_type": "code",
   "execution_count": 670,
   "metadata": {},
   "outputs": [
    {
     "data": {
      "image/png": "[encoded data removed]",
      "text/plain": [
       "<matplotlib.figure.Figure at 0x119528ac8>"
      ]
     },
     "metadata": {},
     "output_type": "display_data"
    }
   ],
   "source": [
    "def plot_dxf(dxfdetails):\n",
    "    fig = plt.figure(figsize=(10,10))\n",
    "    ax = fig.add_subplot(111)\n",
    "    for closedsection in dxfdetails['closed_patterns']:\n",
    "        poly = Polygon(closedsection)\n",
    "        x, y = poly.exterior.xy\n",
    "        plt.plot(x, y, color='g', alpha=0.7, solid_capstyle='round')\n",
    "    \n",
    "    poly = Polygon(dxfdetails['minimum_rectangle_coords'])\n",
    "    x, y = poly.exterior.xy\n",
    "    plt.plot(x, y, color='r')\n",
    "    \n",
    "    poly = Polygon(dxfdetails['convex_hull_coords'])\n",
    "    x, y = poly.exterior.xy\n",
    "    plt.plot(x, y, color='b')\n",
    "    \n",
    "    ax.set_aspect('equal')\n",
    "    \n",
    "    plt.show()\n",
    "    \n",
    "plot_dxf(details)"
   ]
  },
  {
   "cell_type": "code",
   "execution_count": null,
   "metadata": {},
   "outputs": [],
   "source": []
  },
  {
   "cell_type": "code",
   "execution_count": null,
   "metadata": {},
   "outputs": [],
   "source": []
  },
  {
   "cell_type": "code",
   "execution_count": null,
   "metadata": {},
   "outputs": [],
   "source": []
  },
  {
   "cell_type": "code",
   "execution_count": null,
   "metadata": {},
   "outputs": [],
   "source": []
  },
  {
   "cell_type": "code",
   "execution_count": null,
   "metadata": {},
   "outputs": [],
   "source": []
  },
  {
   "cell_type": "code",
   "execution_count": null,
   "metadata": {},
   "outputs": [],
   "source": []
  },
  {
   "cell_type": "code",
   "execution_count": null,
   "metadata": {},
   "outputs": [],
   "source": []
  },
  {
   "cell_type": "code",
   "execution_count": 118,
   "metadata": {},
   "outputs": [],
   "source": [
    "import numpy as np\n",
    "import shapely\n",
    "from shapely.geometry.point import Point\n",
    "import matplotlib.pyplot as plt\n",
    "p = Point(0, 0)\n",
    "circle = p.buffer(3.0)\n",
    "a = np.array(circle.exterior.coords)"
   ]
  },
  {
   "cell_type": "code",
   "execution_count": 49,
   "metadata": {},
   "outputs": [
    {
     "data": {
      "image/png": "[encoded data removed]",
      "text/plain": [
       "<matplotlib.figure.Figure at 0x116977f28>"
      ]
     },
     "metadata": {},
     "output_type": "display_data"
    }
   ],
   "source": [
    "plt.scatter(x=np.array(circle.exterior.coords)[:,0], y=np.array(circle.exterior.coords)[:,1])\n",
    "plt.show()"
   ]
  },
  {
   "cell_type": "code",
   "execution_count": 70,
   "metadata": {},
   "outputs": [],
   "source": [
    "import shapely.affinity\n",
    "\n",
    "circle=Point(0,0).buffer(1) #type(circle)=polygon\n",
    "ellipse=shapely.affinity.scale(circle,15,20) #type(ellipse)=polygon"
   ]
  },
  {
   "cell_type": "code",
   "execution_count": 54,
   "metadata": {},
   "outputs": [
    {
     "data": {
      "image/svg+xml": [
       "<svg xmlns=\"http://www.w3.org/2000/svg\" xmlns:xlink=\"http://www.w3.org/1999/xlink\" width=\"100.0\" height=\"100.0\" viewBox=\"-0.04 -0.04 1.08 1.08\" preserveAspectRatio=\"xMinYMin meet\"><g transform=\"matrix(1,0,0,-1,0,1.0)\"><polyline fill=\"none\" stroke=\"#66cc99\" stroke-width=\"0.0216\" points=\"0.0,0.0 1.0,1.0\" opacity=\"0.8\" /></g></svg>"
      ],
      "text/plain": [
       "<shapely.geometry.linestring.LineString at 0x118ac6320>"
      ]
     },
     "execution_count": 54,
     "metadata": {},
     "output_type": "execute_result"
    }
   ],
   "source": [
    "from shapely.geometry import LineString\n",
    "#LineString(np.array(circle.exterior.coords))\n",
    "LineString([(0.0, 0.0), (1.0, 1.0)])"
   ]
  },
  {
   "cell_type": "code",
   "execution_count": 62,
   "metadata": {},
   "outputs": [
    {
     "data": {
      "text/plain": [
       "0.0"
      ]
     },
     "execution_count": 62,
     "metadata": {},
     "output_type": "execute_result"
    }
   ],
   "source": [
    "from shapely.geometry.polygon import LinearRing\n",
    "LinearRing([(0, 0), (1, 1), (1, 0), (0, 0),]).area"
   ]
  },
  {
   "cell_type": "code",
   "execution_count": 74,
   "metadata": {},
   "outputs": [
    {
     "data": {
      "image/svg+xml": [
       "<svg xmlns=\"http://www.w3.org/2000/svg\" xmlns:xlink=\"http://www.w3.org/1999/xlink\" width=\"100.0\" height=\"100.0\" viewBox=\"-0.04 -0.04 1.08 1.08\" preserveAspectRatio=\"xMinYMin meet\"><g transform=\"matrix(1,0,0,-1,0,1.0)\"><path fill-rule=\"evenodd\" fill=\"#66cc99\" stroke=\"#555555\" stroke-width=\"0.0216\" opacity=\"0.6\" d=\"M 0.0,0.0 L 1.0,1.0 L 1.0,0.0 L 0.0,0.0 L 0.0,0.0 z\" /></g></svg>"
      ],
      "text/plain": [
       "<shapely.geometry.polygon.Polygon at 0x118ae12b0>"
      ]
     },
     "execution_count": 74,
     "metadata": {},
     "output_type": "execute_result"
    }
   ],
   "source": [
    "from shapely.geometry import Polygon\n",
    "m = Polygon([(0, 0), (1, 1), (1, 0), (0, 0),(0, 0),])\n",
    "m"
   ]
  },
  {
   "cell_type": "code",
   "execution_count": 94,
   "metadata": {},
   "outputs": [
    {
     "data": {
      "text/plain": [
       "(132, 2)"
      ]
     },
     "execution_count": 94,
     "metadata": {},
     "output_type": "execute_result"
    }
   ],
   "source": [
    "np.concatenate((a,a), axis=0).shape"
   ]
  },
  {
   "cell_type": "code",
   "execution_count": 99,
   "metadata": {},
   "outputs": [
    {
     "data": {
      "text/plain": [
       "dict_keys(['a', 'b'])"
      ]
     },
     "execution_count": 99,
     "metadata": {},
     "output_type": "execute_result"
    }
   ],
   "source": [
    "dicto = {'a':1, 'b':2}\n",
    "dicto.keys()"
   ]
  },
  {
   "cell_type": "code",
   "execution_count": 98,
   "metadata": {},
   "outputs": [
    {
     "data": {
      "text/plain": [
       "{'b': 2}"
      ]
     },
     "execution_count": 98,
     "metadata": {},
     "output_type": "execute_result"
    }
   ],
   "source": [
    "del dicto['a']\n",
    "dicto"
   ]
  },
  {
   "cell_type": "code",
   "execution_count": 101,
   "metadata": {},
   "outputs": [
    {
     "data": {
      "image/svg+xml": [
       "<svg xmlns=\"http://www.w3.org/2000/svg\" xmlns:xlink=\"http://www.w3.org/1999/xlink\" width=\"100.0\" height=\"100.0\" viewBox=\"-3.24 -3.24 6.48 6.48\" preserveAspectRatio=\"xMinYMin meet\"><g transform=\"matrix(1,0,0,-1,0,0.0)\"><path fill-rule=\"evenodd\" fill=\"#66cc99\" stroke=\"#555555\" stroke-width=\"0.12960000000000002\" opacity=\"0.6\" d=\"M 3.0,0.0 L 2.9855541800165906,-0.29405142098868153 L 2.9423558412096913,-0.5852709660483842 L 2.8708210071966267,-0.8708540317633864 L 2.771638597533861,-1.1480502970952682 L 2.6457637930450657,-1.4141902104779915 L 2.4944088369076365,-1.6667106990588052 L 2.3190313600882124,-1.903179852490935 L 2.1213203435596446,-2.121320343559641 L 1.903179852490939,-2.319031360088209 L 1.6667106990588096,-2.494408836907634 L 1.4141902104779958,-2.6457637930450635 L 1.1480502970952724,-2.771638597533859 L 0.8708540317633906,-2.8708210071966254 L 0.5852709660483889,-2.9423558412096904 L 0.29405142098868625,-2.98555418001659 L 4.84663372329776e-15,-3.0 L -0.29405142098867665,-2.985554180016591 L -0.5852709660483795,-2.942355841209692 L -0.8708540317633815,-2.8708210071966285 L -1.1480502970952635,-2.7716385975338627 L -1.414190210477987,-2.6457637930450684 L -1.6667106990588012,-2.494408836907639 L -1.9031798524909318,-2.3190313600882146 L -2.1213203435596384,-2.121320343559647 L -2.319031360088207,-1.9031798524909405 L -2.494408836907633,-1.666710699058811 L -2.645763793045063,-1.414190210477997 L -2.7716385975338587,-1.1480502970952733 L -2.8708210071966254,-0.8708540317633908 L -2.9423558412096904,-0.5852709660483884 L -2.9855541800165906,-0.29405142098868514 L -3.0,-3.031929298844582e-15 L -2.9855541800165906,0.2940514209886791 L -2.942355841209692,0.5852709660483825 L -2.870821007196627,0.8708540317633852 L -2.771638597533861,1.1480502970952677 L -2.6457637930450657,1.4141902104779918 L -2.4944088369076365,1.6667106990588059 L -2.3190313600882115,1.9031798524909358 L -2.121320343559643,2.1213203435596424 L -1.9031798524909378,2.3190313600882098 L -1.6667106990588088,2.494408836907634 L -1.414190210477996,2.6457637930450635 L -1.1480502970952735,2.7716385975338587 L -0.8708540317633924,2.870821007196625 L -0.5852709660483912,2.94235584120969 L -0.2940514209886893,2.9855541800165897 L -8.544696836917437e-15,3.0 L 0.2940514209886723,2.9855541800165915 L 0.5852709660483744,2.942355841209693 L 0.870854031763376,2.87082100719663 L 1.1480502970952577,2.7716385975338653 L 1.4141902104779809,2.6457637930450715 L 1.6667106990587945,2.494408836907644 L 1.9031798524909245,2.3190313600882204 L 2.121320343559631,2.1213203435596544 L 2.3190313600881995,1.90317985249095 L 2.4944088369076254,1.666710699058822 L 2.645763793045056,1.4141902104780102 L 2.771638597533852,1.1480502970952884 L 2.8708210071966205,0.8708540317634078 L 2.942355841209687,0.585270966048407 L 2.9855541800165883,0.2940514209887054 L 3.0,2.4715605411391792e-14 L 3.0,0.0 z\" /></g></svg>"
      ],
      "text/plain": [
       "<shapely.geometry.polygon.Polygon at 0x118b685f8>"
      ]
     },
     "execution_count": 101,
     "metadata": {},
     "output_type": "execute_result"
    }
   ],
   "source": [
    "Polygon(a)"
   ]
  },
  {
   "cell_type": "code",
   "execution_count": null,
   "metadata": {},
   "outputs": [],
   "source": []
  }
 ],
 "metadata": {
  "kernelspec": {
   "display_name": "Python 3",
   "language": "python",
   "name": "python3"
  },
  "language_info": {
   "codemirror_mode": {
    "name": "ipython",
    "version": 3
   },
   "file_extension": ".py",
   "mimetype": "text/x-python",
   "name": "python",
   "nbconvert_exporter": "python",
   "pygments_lexer": "ipython3",
   "version": "3.6.4"
  }
 },
 "nbformat": 4,
 "nbformat_minor": 2
}
